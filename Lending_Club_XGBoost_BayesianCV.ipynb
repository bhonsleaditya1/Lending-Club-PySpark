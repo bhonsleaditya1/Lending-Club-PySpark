{
  "nbformat": 4,
  "nbformat_minor": 0,
  "metadata": {
    "colab": {
      "name": "Lending-Club-XGBoost-BayesianCV.ipynb",
      "provenance": [],
      "collapsed_sections": [],
      "machine_shape": "hm",
      "mount_file_id": "1Zl4GPwhvg-aLJE8nJZuPw-D4ltbtBM-C",
      "authorship_tag": "ABX9TyPl21cAltVJz4khf4SRR9L8",
      "include_colab_link": true
    },
    "kernelspec": {
      "name": "python3",
      "display_name": "Python 3"
    },
    "accelerator": "GPU"
  },
  "cells": [
    {
      "cell_type": "markdown",
      "metadata": {
        "id": "view-in-github",
        "colab_type": "text"
      },
      "source": [
        "<a href=\"https://colab.research.google.com/github/bhonsleaditya1/Lending-Club-PySpark/blob/master/Lending_Club_XGBoost_BayesianCV.ipynb\" target=\"_parent\"><img src=\"https://colab.research.google.com/assets/colab-badge.svg\" alt=\"Open In Colab\"/></a>"
      ]
    },
    {
      "cell_type": "code",
      "metadata": {
        "id": "UBtERbSGJBui",
        "outputId": "f957f60e-ebc4-46f6-970d-3884acc65607",
        "colab": {
          "base_uri": "https://localhost:8080/",
          "height": 53
        }
      },
      "source": [
        "!pip install -q bayesian-optimization\n",
        "!pip install -q scikit-optimize"
      ],
      "execution_count": null,
      "outputs": [
        {
          "output_type": "stream",
          "text": [
            "  Building wheel for bayesian-optimization (setup.py) ... \u001b[?25l\u001b[?25hdone\n",
            "\u001b[K     |████████████████████████████████| 81kB 2.1MB/s \n",
            "\u001b[?25h"
          ],
          "name": "stdout"
        }
      ]
    },
    {
      "cell_type": "code",
      "metadata": {
        "id": "_hj4NINpJm12"
      },
      "source": [
        "import os,gc,re,matplotlib,joblib,ast\n",
        "import pandas as pd\n",
        "import numpy as np\n",
        "import seaborn as sns\n",
        "from tqdm import tqdm\n",
        "from sklearn.feature_selection import RFECV\n",
        "from sklearn.linear_model import LogisticRegression\n",
        "from sklearn.ensemble import ExtraTreesClassifier\n",
        "from sklearn.model_selection  import StratifiedKFold,train_test_split,cross_validate\n",
        "import matplotlib.pyplot as plt\n",
        "from sklearn.preprocessing import OneHotEncoder,MinMaxScaler,StandardScaler,LabelEncoder,LabelBinarizer\n",
        "from sklearn.metrics import roc_auc_score,auc,roc_curve,accuracy_score,classification_report,confusion_matrix,f1_score\n",
        "from hyperopt import STATUS_OK, Trials, fmin, hp, tpe\n",
        "import xgboost as xgb\n",
        "from scipy.stats import zscore\n",
        "from sklearn import model_selection \n",
        "#from bayes_opt import BayesianOptimization\n",
        "from sklearn.cluster import DBSCAN\n",
        "from sklearn.multiclass import OneVsRestClassifier"
      ],
      "execution_count": null,
      "outputs": []
    },
    {
      "cell_type": "code",
      "metadata": {
        "id": "9sSXOYn_KFZn",
        "outputId": "de71f3c9-cd0a-46cf-a9a2-05399511d745",
        "colab": {
          "base_uri": "https://localhost:8080/",
          "height": 73
        }
      },
      "source": [
        "pdf = pd.read_csv('/content/drive/My Drive/Lending-Club/loanFinal.csv', header=0, escapechar='\\\\')\n",
        "dropcol = pd.read_csv('/content/drive/My Drive/Lending-Club/FinalDrop.csv',header=None)[0].to_list()\n",
        "dbindex = pd.read_csv('/content/drive/My Drive/Lending-Club/DBRemove.csv')\n",
        "pdf = pdf[pdf.amnt_left_per<=100]\n",
        "#pdf = pdf[pdf.amnt_left_per>=0]\n",
        "pdf = pdf.drop(dropcol,axis=1)\n",
        "#pdf=pdf[pdf['application_type'].isin(['Joint App','Individual'])]\n",
        "#pdf=pdf[pdf['initial_list_status'].isin(['w','f'])]\n",
        "pdf = pdf.drop(dbindex['index'].to_list())\n",
        "pdf = pdf.reset_index().drop('index',axis=1)\n",
        "pdf.count()\n",
        "pdf['year'] = pd.DatetimeIndex(pdf['issue_d']).year\n",
        "#pdf = pdf.drop(dt,axis=1)\n",
        "reg = pdf.select_dtypes(['float64']).columns\n",
        "clas = pdf.select_dtypes(['O']).columns"
      ],
      "execution_count": null,
      "outputs": [
        {
          "output_type": "stream",
          "text": [
            "/usr/local/lib/python3.6/dist-packages/IPython/core/interactiveshell.py:2718: DtypeWarning: Columns (41,49,117,118,119,122,123,124,127) have mixed types.Specify dtype option on import or set low_memory=False.\n",
            "  interactivity=interactivity, compiler=compiler, result=result)\n"
          ],
          "name": "stderr"
        }
      ]
    },
    {
      "cell_type": "code",
      "metadata": {
        "id": "x8scM3wR7i5Q"
      },
      "source": [
        "pd.DataFrame(pdf.columns).to_excel('Variables Used.xlsx')"
      ],
      "execution_count": null,
      "outputs": []
    },
    {
      "cell_type": "code",
      "metadata": {
        "id": "c4dEehHZ7Gl5",
        "outputId": "e17d3993-150b-4c22-9ea8-848f0fd1a64e",
        "colab": {
          "base_uri": "https://localhost:8080/",
          "height": 322
        }
      },
      "source": [
        "sns.countplot(x='amnt_left_per',data=pdf[['target','amnt_left_per']],hue='target')"
      ],
      "execution_count": null,
      "outputs": [
        {
          "output_type": "error",
          "ename": "KeyboardInterrupt",
          "evalue": "ignored",
          "traceback": [
            "\u001b[0;31m---------------------------------------------------------------------------\u001b[0m",
            "\u001b[0;31mKeyboardInterrupt\u001b[0m                         Traceback (most recent call last)",
            "\u001b[0;32m<ipython-input-26-c032f17342d6>\u001b[0m in \u001b[0;36m<module>\u001b[0;34m()\u001b[0m\n\u001b[0;32m----> 1\u001b[0;31m \u001b[0msns\u001b[0m\u001b[0;34m.\u001b[0m\u001b[0mcountplot\u001b[0m\u001b[0;34m(\u001b[0m\u001b[0mx\u001b[0m\u001b[0;34m=\u001b[0m\u001b[0;34m'amnt_left_per'\u001b[0m\u001b[0;34m,\u001b[0m\u001b[0mdata\u001b[0m\u001b[0;34m=\u001b[0m\u001b[0mpdf\u001b[0m\u001b[0;34m[\u001b[0m\u001b[0;34m[\u001b[0m\u001b[0;34m'target'\u001b[0m\u001b[0;34m,\u001b[0m\u001b[0;34m'amnt_left_per'\u001b[0m\u001b[0;34m]\u001b[0m\u001b[0;34m]\u001b[0m\u001b[0;34m,\u001b[0m\u001b[0mhue\u001b[0m\u001b[0;34m=\u001b[0m\u001b[0;34m'target'\u001b[0m\u001b[0;34m)\u001b[0m\u001b[0;34m\u001b[0m\u001b[0;34m\u001b[0m\u001b[0m\n\u001b[0m",
            "\u001b[0;32m/usr/local/lib/python3.6/dist-packages/seaborn/categorical.py\u001b[0m in \u001b[0;36mcountplot\u001b[0;34m(x, y, hue, data, order, hue_order, orient, color, palette, saturation, dodge, ax, **kwargs)\u001b[0m\n\u001b[1;32m   3550\u001b[0m                           \u001b[0mestimator\u001b[0m\u001b[0;34m,\u001b[0m \u001b[0mci\u001b[0m\u001b[0;34m,\u001b[0m \u001b[0mn_boot\u001b[0m\u001b[0;34m,\u001b[0m \u001b[0munits\u001b[0m\u001b[0;34m,\u001b[0m \u001b[0mseed\u001b[0m\u001b[0;34m,\u001b[0m\u001b[0;34m\u001b[0m\u001b[0;34m\u001b[0m\u001b[0m\n\u001b[1;32m   3551\u001b[0m                           \u001b[0morient\u001b[0m\u001b[0;34m,\u001b[0m \u001b[0mcolor\u001b[0m\u001b[0;34m,\u001b[0m \u001b[0mpalette\u001b[0m\u001b[0;34m,\u001b[0m \u001b[0msaturation\u001b[0m\u001b[0;34m,\u001b[0m\u001b[0;34m\u001b[0m\u001b[0;34m\u001b[0m\u001b[0m\n\u001b[0;32m-> 3552\u001b[0;31m                           errcolor, errwidth, capsize, dodge)\n\u001b[0m\u001b[1;32m   3553\u001b[0m \u001b[0;34m\u001b[0m\u001b[0m\n\u001b[1;32m   3554\u001b[0m     \u001b[0mplotter\u001b[0m\u001b[0;34m.\u001b[0m\u001b[0mvalue_label\u001b[0m \u001b[0;34m=\u001b[0m \u001b[0;34m\"count\"\u001b[0m\u001b[0;34m\u001b[0m\u001b[0;34m\u001b[0m\u001b[0m\n",
            "\u001b[0;32m/usr/local/lib/python3.6/dist-packages/seaborn/categorical.py\u001b[0m in \u001b[0;36m__init__\u001b[0;34m(self, x, y, hue, data, order, hue_order, estimator, ci, n_boot, units, seed, orient, color, palette, saturation, errcolor, errwidth, capsize, dodge)\u001b[0m\n\u001b[1;32m   1603\u001b[0m                                  order, hue_order, units)\n\u001b[1;32m   1604\u001b[0m         \u001b[0mself\u001b[0m\u001b[0;34m.\u001b[0m\u001b[0mestablish_colors\u001b[0m\u001b[0;34m(\u001b[0m\u001b[0mcolor\u001b[0m\u001b[0;34m,\u001b[0m \u001b[0mpalette\u001b[0m\u001b[0;34m,\u001b[0m \u001b[0msaturation\u001b[0m\u001b[0;34m)\u001b[0m\u001b[0;34m\u001b[0m\u001b[0;34m\u001b[0m\u001b[0m\n\u001b[0;32m-> 1605\u001b[0;31m         \u001b[0mself\u001b[0m\u001b[0;34m.\u001b[0m\u001b[0mestimate_statistic\u001b[0m\u001b[0;34m(\u001b[0m\u001b[0mestimator\u001b[0m\u001b[0;34m,\u001b[0m \u001b[0mci\u001b[0m\u001b[0;34m,\u001b[0m \u001b[0mn_boot\u001b[0m\u001b[0;34m,\u001b[0m \u001b[0mseed\u001b[0m\u001b[0;34m)\u001b[0m\u001b[0;34m\u001b[0m\u001b[0;34m\u001b[0m\u001b[0m\n\u001b[0m\u001b[1;32m   1606\u001b[0m \u001b[0;34m\u001b[0m\u001b[0m\n\u001b[1;32m   1607\u001b[0m         \u001b[0mself\u001b[0m\u001b[0;34m.\u001b[0m\u001b[0mdodge\u001b[0m \u001b[0;34m=\u001b[0m \u001b[0mdodge\u001b[0m\u001b[0;34m\u001b[0m\u001b[0;34m\u001b[0m\u001b[0m\n",
            "\u001b[0;32m/usr/local/lib/python3.6/dist-packages/seaborn/categorical.py\u001b[0m in \u001b[0;36mestimate_statistic\u001b[0;34m(self, estimator, ci, n_boot, seed)\u001b[0m\n\u001b[1;32m   1522\u001b[0m                     \u001b[0mhue_mask\u001b[0m \u001b[0;34m=\u001b[0m \u001b[0mself\u001b[0m\u001b[0;34m.\u001b[0m\u001b[0mplot_hues\u001b[0m\u001b[0;34m[\u001b[0m\u001b[0mi\u001b[0m\u001b[0;34m]\u001b[0m \u001b[0;34m==\u001b[0m \u001b[0mhue_level\u001b[0m\u001b[0;34m\u001b[0m\u001b[0;34m\u001b[0m\u001b[0m\n\u001b[1;32m   1523\u001b[0m                     \u001b[0;32mif\u001b[0m \u001b[0mself\u001b[0m\u001b[0;34m.\u001b[0m\u001b[0mplot_units\u001b[0m \u001b[0;32mis\u001b[0m \u001b[0;32mNone\u001b[0m\u001b[0;34m:\u001b[0m\u001b[0;34m\u001b[0m\u001b[0;34m\u001b[0m\u001b[0m\n\u001b[0;32m-> 1524\u001b[0;31m                         \u001b[0mstat_data\u001b[0m \u001b[0;34m=\u001b[0m \u001b[0mremove_na\u001b[0m\u001b[0;34m(\u001b[0m\u001b[0mgroup_data\u001b[0m\u001b[0;34m[\u001b[0m\u001b[0mhue_mask\u001b[0m\u001b[0;34m]\u001b[0m\u001b[0;34m)\u001b[0m\u001b[0;34m\u001b[0m\u001b[0;34m\u001b[0m\u001b[0m\n\u001b[0m\u001b[1;32m   1525\u001b[0m                         \u001b[0munit_data\u001b[0m \u001b[0;34m=\u001b[0m \u001b[0;32mNone\u001b[0m\u001b[0;34m\u001b[0m\u001b[0;34m\u001b[0m\u001b[0m\n\u001b[1;32m   1526\u001b[0m                     \u001b[0;32melse\u001b[0m\u001b[0;34m:\u001b[0m\u001b[0;34m\u001b[0m\u001b[0;34m\u001b[0m\u001b[0m\n",
            "\u001b[0;32m/usr/local/lib/python3.6/dist-packages/seaborn/utils.py\u001b[0m in \u001b[0;36mremove_na\u001b[0;34m(arr)\u001b[0m\n\u001b[1;32m     33\u001b[0m \u001b[0;34m\u001b[0m\u001b[0m\n\u001b[1;32m     34\u001b[0m     \"\"\"\n\u001b[0;32m---> 35\u001b[0;31m     \u001b[0;32mreturn\u001b[0m \u001b[0marr\u001b[0m\u001b[0;34m[\u001b[0m\u001b[0mpd\u001b[0m\u001b[0;34m.\u001b[0m\u001b[0mnotnull\u001b[0m\u001b[0;34m(\u001b[0m\u001b[0marr\u001b[0m\u001b[0;34m)\u001b[0m\u001b[0;34m]\u001b[0m\u001b[0;34m\u001b[0m\u001b[0;34m\u001b[0m\u001b[0m\n\u001b[0m\u001b[1;32m     36\u001b[0m \u001b[0;34m\u001b[0m\u001b[0m\n\u001b[1;32m     37\u001b[0m \u001b[0;34m\u001b[0m\u001b[0m\n",
            "\u001b[0;32m/usr/local/lib/python3.6/dist-packages/pandas/core/series.py\u001b[0m in \u001b[0;36m__getitem__\u001b[0;34m(self, key)\u001b[0m\n\u001b[1;32m    906\u001b[0m \u001b[0;34m\u001b[0m\u001b[0m\n\u001b[1;32m    907\u001b[0m         \u001b[0;32mif\u001b[0m \u001b[0mcom\u001b[0m\u001b[0;34m.\u001b[0m\u001b[0mis_bool_indexer\u001b[0m\u001b[0;34m(\u001b[0m\u001b[0mkey\u001b[0m\u001b[0;34m)\u001b[0m\u001b[0;34m:\u001b[0m\u001b[0;34m\u001b[0m\u001b[0;34m\u001b[0m\u001b[0m\n\u001b[0;32m--> 908\u001b[0;31m             \u001b[0mkey\u001b[0m \u001b[0;34m=\u001b[0m \u001b[0mcheck_bool_indexer\u001b[0m\u001b[0;34m(\u001b[0m\u001b[0mself\u001b[0m\u001b[0;34m.\u001b[0m\u001b[0mindex\u001b[0m\u001b[0;34m,\u001b[0m \u001b[0mkey\u001b[0m\u001b[0;34m)\u001b[0m\u001b[0;34m\u001b[0m\u001b[0;34m\u001b[0m\u001b[0m\n\u001b[0m\u001b[1;32m    909\u001b[0m \u001b[0;34m\u001b[0m\u001b[0m\n\u001b[1;32m    910\u001b[0m         \u001b[0;32mreturn\u001b[0m \u001b[0mself\u001b[0m\u001b[0;34m.\u001b[0m\u001b[0m_get_with\u001b[0m\u001b[0;34m(\u001b[0m\u001b[0mkey\u001b[0m\u001b[0;34m)\u001b[0m\u001b[0;34m\u001b[0m\u001b[0;34m\u001b[0m\u001b[0m\n",
            "\u001b[0;32m/usr/local/lib/python3.6/dist-packages/pandas/core/indexing.py\u001b[0m in \u001b[0;36mcheck_bool_indexer\u001b[0;34m(index, key)\u001b[0m\n\u001b[1;32m   2326\u001b[0m         \u001b[0mresult\u001b[0m \u001b[0;34m=\u001b[0m \u001b[0mcheck_array_indexer\u001b[0m\u001b[0;34m(\u001b[0m\u001b[0mindex\u001b[0m\u001b[0;34m,\u001b[0m \u001b[0mresult\u001b[0m\u001b[0;34m)\u001b[0m\u001b[0;34m\u001b[0m\u001b[0;34m\u001b[0m\u001b[0m\n\u001b[1;32m   2327\u001b[0m     \u001b[0;32melse\u001b[0m\u001b[0;34m:\u001b[0m\u001b[0;34m\u001b[0m\u001b[0;34m\u001b[0m\u001b[0m\n\u001b[0;32m-> 2328\u001b[0;31m         \u001b[0mresult\u001b[0m \u001b[0;34m=\u001b[0m \u001b[0mcheck_array_indexer\u001b[0m\u001b[0;34m(\u001b[0m\u001b[0mindex\u001b[0m\u001b[0;34m,\u001b[0m \u001b[0mresult\u001b[0m\u001b[0;34m)\u001b[0m\u001b[0;34m\u001b[0m\u001b[0;34m\u001b[0m\u001b[0m\n\u001b[0m\u001b[1;32m   2329\u001b[0m \u001b[0;34m\u001b[0m\u001b[0m\n\u001b[1;32m   2330\u001b[0m     \u001b[0;32mreturn\u001b[0m \u001b[0mresult\u001b[0m\u001b[0;34m\u001b[0m\u001b[0;34m\u001b[0m\u001b[0m\n",
            "\u001b[0;32m/usr/local/lib/python3.6/dist-packages/pandas/core/indexers.py\u001b[0m in \u001b[0;36mcheck_array_indexer\u001b[0;34m(array, indexer)\u001b[0m\n\u001b[1;32m    394\u001b[0m             \u001b[0mindexer\u001b[0m \u001b[0;34m=\u001b[0m \u001b[0mindexer\u001b[0m\u001b[0;34m.\u001b[0m\u001b[0mto_numpy\u001b[0m\u001b[0;34m(\u001b[0m\u001b[0mdtype\u001b[0m\u001b[0;34m=\u001b[0m\u001b[0mbool\u001b[0m\u001b[0;34m,\u001b[0m \u001b[0mna_value\u001b[0m\u001b[0;34m=\u001b[0m\u001b[0;32mFalse\u001b[0m\u001b[0;34m)\u001b[0m\u001b[0;34m\u001b[0m\u001b[0;34m\u001b[0m\u001b[0m\n\u001b[1;32m    395\u001b[0m         \u001b[0;32melse\u001b[0m\u001b[0;34m:\u001b[0m\u001b[0;34m\u001b[0m\u001b[0;34m\u001b[0m\u001b[0m\n\u001b[0;32m--> 396\u001b[0;31m             \u001b[0mindexer\u001b[0m \u001b[0;34m=\u001b[0m \u001b[0mnp\u001b[0m\u001b[0;34m.\u001b[0m\u001b[0masarray\u001b[0m\u001b[0;34m(\u001b[0m\u001b[0mindexer\u001b[0m\u001b[0;34m,\u001b[0m \u001b[0mdtype\u001b[0m\u001b[0;34m=\u001b[0m\u001b[0mbool\u001b[0m\u001b[0;34m)\u001b[0m\u001b[0;34m\u001b[0m\u001b[0;34m\u001b[0m\u001b[0m\n\u001b[0m\u001b[1;32m    397\u001b[0m \u001b[0;34m\u001b[0m\u001b[0m\n\u001b[1;32m    398\u001b[0m         \u001b[0;31m# GH26658\u001b[0m\u001b[0;34m\u001b[0m\u001b[0;34m\u001b[0m\u001b[0;34m\u001b[0m\u001b[0m\n",
            "\u001b[0;32m/usr/local/lib/python3.6/dist-packages/numpy/core/_asarray.py\u001b[0m in \u001b[0;36masarray\u001b[0;34m(a, dtype, order)\u001b[0m\n\u001b[1;32m     83\u001b[0m \u001b[0;34m\u001b[0m\u001b[0m\n\u001b[1;32m     84\u001b[0m     \"\"\"\n\u001b[0;32m---> 85\u001b[0;31m     \u001b[0;32mreturn\u001b[0m \u001b[0marray\u001b[0m\u001b[0;34m(\u001b[0m\u001b[0ma\u001b[0m\u001b[0;34m,\u001b[0m \u001b[0mdtype\u001b[0m\u001b[0;34m,\u001b[0m \u001b[0mcopy\u001b[0m\u001b[0;34m=\u001b[0m\u001b[0;32mFalse\u001b[0m\u001b[0;34m,\u001b[0m \u001b[0morder\u001b[0m\u001b[0;34m=\u001b[0m\u001b[0morder\u001b[0m\u001b[0;34m)\u001b[0m\u001b[0;34m\u001b[0m\u001b[0;34m\u001b[0m\u001b[0m\n\u001b[0m\u001b[1;32m     86\u001b[0m \u001b[0;34m\u001b[0m\u001b[0m\n\u001b[1;32m     87\u001b[0m \u001b[0;34m\u001b[0m\u001b[0m\n",
            "\u001b[0;32m/usr/local/lib/python3.6/dist-packages/pandas/core/series.py\u001b[0m in \u001b[0;36m__array__\u001b[0;34m(self, dtype)\u001b[0m\n\u001b[1;32m    752\u001b[0m               dtype='datetime64[ns]')\n\u001b[1;32m    753\u001b[0m         \"\"\"\n\u001b[0;32m--> 754\u001b[0;31m         \u001b[0;32mreturn\u001b[0m \u001b[0mnp\u001b[0m\u001b[0;34m.\u001b[0m\u001b[0masarray\u001b[0m\u001b[0;34m(\u001b[0m\u001b[0mself\u001b[0m\u001b[0;34m.\u001b[0m\u001b[0marray\u001b[0m\u001b[0;34m,\u001b[0m \u001b[0mdtype\u001b[0m\u001b[0;34m)\u001b[0m\u001b[0;34m\u001b[0m\u001b[0;34m\u001b[0m\u001b[0m\n\u001b[0m\u001b[1;32m    755\u001b[0m \u001b[0;34m\u001b[0m\u001b[0m\n\u001b[1;32m    756\u001b[0m     \u001b[0;31m# ----------------------------------------------------------------------\u001b[0m\u001b[0;34m\u001b[0m\u001b[0;34m\u001b[0m\u001b[0;34m\u001b[0m\u001b[0m\n",
            "\u001b[0;32m/usr/local/lib/python3.6/dist-packages/numpy/core/_asarray.py\u001b[0m in \u001b[0;36masarray\u001b[0;34m(a, dtype, order)\u001b[0m\n\u001b[1;32m     83\u001b[0m \u001b[0;34m\u001b[0m\u001b[0m\n\u001b[1;32m     84\u001b[0m     \"\"\"\n\u001b[0;32m---> 85\u001b[0;31m     \u001b[0;32mreturn\u001b[0m \u001b[0marray\u001b[0m\u001b[0;34m(\u001b[0m\u001b[0ma\u001b[0m\u001b[0;34m,\u001b[0m \u001b[0mdtype\u001b[0m\u001b[0;34m,\u001b[0m \u001b[0mcopy\u001b[0m\u001b[0;34m=\u001b[0m\u001b[0;32mFalse\u001b[0m\u001b[0;34m,\u001b[0m \u001b[0morder\u001b[0m\u001b[0;34m=\u001b[0m\u001b[0morder\u001b[0m\u001b[0;34m)\u001b[0m\u001b[0;34m\u001b[0m\u001b[0;34m\u001b[0m\u001b[0m\n\u001b[0m\u001b[1;32m     86\u001b[0m \u001b[0;34m\u001b[0m\u001b[0m\n\u001b[1;32m     87\u001b[0m \u001b[0;34m\u001b[0m\u001b[0m\n",
            "\u001b[0;32m/usr/local/lib/python3.6/dist-packages/pandas/core/arrays/numpy_.py\u001b[0m in \u001b[0;36m__array__\u001b[0;34m(self, dtype)\u001b[0m\n\u001b[1;32m    182\u001b[0m \u001b[0;34m\u001b[0m\u001b[0m\n\u001b[1;32m    183\u001b[0m     \u001b[0;32mdef\u001b[0m \u001b[0m__array__\u001b[0m\u001b[0;34m(\u001b[0m\u001b[0mself\u001b[0m\u001b[0;34m,\u001b[0m \u001b[0mdtype\u001b[0m\u001b[0;34m=\u001b[0m\u001b[0;32mNone\u001b[0m\u001b[0;34m)\u001b[0m \u001b[0;34m->\u001b[0m \u001b[0mnp\u001b[0m\u001b[0;34m.\u001b[0m\u001b[0mndarray\u001b[0m\u001b[0;34m:\u001b[0m\u001b[0;34m\u001b[0m\u001b[0;34m\u001b[0m\u001b[0m\n\u001b[0;32m--> 184\u001b[0;31m         \u001b[0;32mreturn\u001b[0m \u001b[0mnp\u001b[0m\u001b[0;34m.\u001b[0m\u001b[0masarray\u001b[0m\u001b[0;34m(\u001b[0m\u001b[0mself\u001b[0m\u001b[0;34m.\u001b[0m\u001b[0m_ndarray\u001b[0m\u001b[0;34m,\u001b[0m \u001b[0mdtype\u001b[0m\u001b[0;34m=\u001b[0m\u001b[0mdtype\u001b[0m\u001b[0;34m)\u001b[0m\u001b[0;34m\u001b[0m\u001b[0;34m\u001b[0m\u001b[0m\n\u001b[0m\u001b[1;32m    185\u001b[0m \u001b[0;34m\u001b[0m\u001b[0m\n\u001b[1;32m    186\u001b[0m     \u001b[0m_HANDLED_TYPES\u001b[0m \u001b[0;34m=\u001b[0m \u001b[0;34m(\u001b[0m\u001b[0mnp\u001b[0m\u001b[0;34m.\u001b[0m\u001b[0mndarray\u001b[0m\u001b[0;34m,\u001b[0m \u001b[0mnumbers\u001b[0m\u001b[0;34m.\u001b[0m\u001b[0mNumber\u001b[0m\u001b[0;34m)\u001b[0m\u001b[0;34m\u001b[0m\u001b[0;34m\u001b[0m\u001b[0m\n",
            "\u001b[0;32m/usr/local/lib/python3.6/dist-packages/numpy/core/_asarray.py\u001b[0m in \u001b[0;36masarray\u001b[0;34m(a, dtype, order)\u001b[0m\n\u001b[1;32m     83\u001b[0m \u001b[0;34m\u001b[0m\u001b[0m\n\u001b[1;32m     84\u001b[0m     \"\"\"\n\u001b[0;32m---> 85\u001b[0;31m     \u001b[0;32mreturn\u001b[0m \u001b[0marray\u001b[0m\u001b[0;34m(\u001b[0m\u001b[0ma\u001b[0m\u001b[0;34m,\u001b[0m \u001b[0mdtype\u001b[0m\u001b[0;34m,\u001b[0m \u001b[0mcopy\u001b[0m\u001b[0;34m=\u001b[0m\u001b[0;32mFalse\u001b[0m\u001b[0;34m,\u001b[0m \u001b[0morder\u001b[0m\u001b[0;34m=\u001b[0m\u001b[0morder\u001b[0m\u001b[0;34m)\u001b[0m\u001b[0;34m\u001b[0m\u001b[0;34m\u001b[0m\u001b[0m\n\u001b[0m\u001b[1;32m     86\u001b[0m \u001b[0;34m\u001b[0m\u001b[0m\n\u001b[1;32m     87\u001b[0m \u001b[0;34m\u001b[0m\u001b[0m\n",
            "\u001b[0;31mKeyboardInterrupt\u001b[0m: "
          ]
        }
      ]
    },
    {
      "cell_type": "code",
      "metadata": {
        "id": "APEsoB2ndmco",
        "outputId": "c487ecf5-9692-43e8-9912-6bd0f5d4d8b4",
        "colab": {
          "base_uri": "https://localhost:8080/",
          "height": 35
        }
      },
      "source": [
        "del train,X_train,X_test,timetest\n",
        "gc.collect()"
      ],
      "execution_count": null,
      "outputs": [
        {
          "output_type": "execute_result",
          "data": {
            "text/plain": [
              "367"
            ]
          },
          "metadata": {
            "tags": []
          },
          "execution_count": 30
        }
      ]
    },
    {
      "cell_type": "code",
      "metadata": {
        "id": "5UVLkVrwzTpb"
      },
      "source": [
        "pd.DataFrame(pdf.columns).to_excel('Variables.xlsx',index=None)"
      ],
      "execution_count": null,
      "outputs": []
    },
    {
      "cell_type": "code",
      "metadata": {
        "id": "xeFuV3R_S_o_"
      },
      "source": [
        "#OneHotEncoding 0 vs R \n",
        "pdf.loc[pdf['target']==2,'target']=1\n",
        "p = pd.DataFrame(index=None)\n",
        "for i in clas:\n",
        "  if pdf[i].nunique()<25:\n",
        "    l = pd.get_dummies(pdf[i], prefix=i)\n",
        "    for j in l.columns:\n",
        "      pdf[j] = l[j]\n",
        "for i in clas:\n",
        "  pdf = pdf.drop(i,axis=1)\n",
        "pdf = pdf.rename(columns={'emp_length_< 1 year':'emp_length_less 1 year'})\n",
        "timetest = pdf[pdf.year==2016]\n",
        "train = pdf[pdf.year!=2016]\n",
        "timetest = timetest.drop(['year'],axis=1)\n",
        "train = train.drop(['year'],axis=1)\n",
        "y_timetest=pd.DataFrame()\n",
        "y_t = pd.DataFrame()\n",
        "y_timetest['target'] = timetest['target']\n",
        "y_t['target'] = train['target']\n",
        "timetest = timetest.drop('target',axis=1)\n",
        "train = train.drop('target',axis=1)\n",
        "X_train, X_test, y_train, y_test = train_test_split(train, y_t, random_state=1301, test_size=0.3)\n",
        "scale = StandardScaler()\n",
        "scale.fit(X_train)\n",
        "X_train = scale.transform(X_train)\n",
        "X_test = scale.transform(X_test)\n",
        "timetest = scale.transform(timetest)"
      ],
      "execution_count": null,
      "outputs": []
    },
    {
      "cell_type": "code",
      "metadata": {
        "id": "xjO9wHvRmL21",
        "outputId": "0164c8f6-4969-4f98-fb53-1d3cfdeb87ae",
        "colab": {
          "base_uri": "https://localhost:8080/",
          "height": 73
        }
      },
      "source": [
        "#OneHotEncoding 1 vs R \n",
        "pdf.loc[pdf['target']==2,'target']=0\n",
        "p = pd.DataFrame(index=None)\n",
        "for i in clas:\n",
        "  if pdf[i].nunique()<25:\n",
        "    l = pd.get_dummies(pdf[i], prefix=i)\n",
        "    for j in l.columns:\n",
        "      pdf[j] = l[j]\n",
        "for i in clas:\n",
        "  pdf = pdf.drop(i,axis=1)\n",
        "pdf = pdf.rename(columns={'emp_length_< 1 year':'emp_length_less 1 year'})\n",
        "timetest = pdf[pdf.year==2016]\n",
        "train = pdf[pdf.year!=2016]\n",
        "timetest = timetest.drop(['year'],axis=1)\n",
        "train = train.drop(['year'],axis=1)\n",
        "y_timetest=pd.DataFrame()\n",
        "y_t = pd.DataFrame()\n",
        "y_timetest['target'] = timetest['target']\n",
        "y_t['target'] = train['target']\n",
        "timetest = timetest.drop('target',axis=1)\n",
        "train = train.drop('target',axis=1)\n",
        "X_train, X_test, y_train, y_test = train_test_split(train, y_t, random_state=1301, test_size=0.3)\n",
        "scale = StandardScaler()\n",
        "scale.fit(X_train)\n",
        "X_train = scale.transform(X_train)\n",
        "X_test = scale.transform(X_test)\n",
        "timetest = scale.transform(timetest)"
      ],
      "execution_count": null,
      "outputs": [
        {
          "output_type": "stream",
          "text": [
            "/usr/local/lib/python3.6/dist-packages/IPython/core/interactiveshell.py:2718: DtypeWarning: Columns (41,49,117,118,119,122,123,124,127) have mixed types.Specify dtype option on import or set low_memory=False.\n",
            "  interactivity=interactivity, compiler=compiler, result=result)\n"
          ],
          "name": "stderr"
        }
      ]
    },
    {
      "cell_type": "code",
      "metadata": {
        "id": "kelmUviCEwf6"
      },
      "source": [
        "#OneHotEncoding 2 vs R \n",
        "pdf.loc[pdf['target']==1,'target']=0\n",
        "pdf.loc[pdf['target']==2,'target']=1\n",
        "p = pd.DataFrame(index=None)\n",
        "for i in clas:\n",
        "  if pdf[i].nunique()<25:\n",
        "    l = pd.get_dummies(pdf[i], prefix=i)\n",
        "    for j in l.columns:\n",
        "      pdf[j] = l[j]\n",
        "for i in clas:\n",
        "  pdf = pdf.drop(i,axis=1)\n",
        "pdf = pdf.rename(columns={'emp_length_< 1 year':'emp_length_less 1 year'})\n",
        "timetest = pdf[pdf.year==2016]\n",
        "train = pdf[pdf.year!=2016]\n",
        "timetest = timetest.drop(['year'],axis=1)\n",
        "train = train.drop(['year'],axis=1)\n",
        "y_timetest=pd.DataFrame()\n",
        "y_t = pd.DataFrame()\n",
        "y_timetest['target'] = timetest['target']\n",
        "y_t['target'] = train['target']\n",
        "timetest = timetest.drop('target',axis=1)\n",
        "train = train.drop('target',axis=1)\n",
        "X_train, X_test, y_train, y_test = train_test_split(train, y_t, random_state=1301, test_size=0.3)\n",
        "scale = StandardScaler()\n",
        "scale.fit(X_train)\n",
        "X_train = scale.transform(X_train)\n",
        "X_test = scale.transform(X_test)\n",
        "timetest = scale.transform(timetest)"
      ],
      "execution_count": null,
      "outputs": []
    },
    {
      "cell_type": "code",
      "metadata": {
        "id": "qEHCtvE6lrKR"
      },
      "source": [
        "X_train[np.isnan(X_train)]=-999\n",
        "X_test[np.isnan(X_test)]=-999\n",
        "timetest[np.isnan(timetest)]=-999"
      ],
      "execution_count": null,
      "outputs": []
    },
    {
      "cell_type": "code",
      "metadata": {
        "id": "xFe3wzlkkz0r"
      },
      "source": [
        "#OneHotEncoding MultiClass \n",
        "#pdf.loc[pdf['target']==2,'target']=1\n",
        "p = pd.DataFrame(index=None)\n",
        "for i in clas:\n",
        "  if pdf[i].nunique()<25:\n",
        "    l = pd.get_dummies(pdf[i], prefix=i)\n",
        "    for j in l.columns:\n",
        "      pdf[j] = l[j]\n",
        "for i in clas:\n",
        "  pdf = pdf.drop(i,axis=1)\n",
        "pdf = pdf.rename(columns={'emp_length_< 1 year':'emp_length_less 1 year'})\n",
        "timetest = pdf[pdf.year==2016]\n",
        "train = pdf[pdf.year!=2016]\n",
        "timetest = timetest.drop(['year'],axis=1)\n",
        "train = train.drop(['year'],axis=1)\n",
        "y_timetest=pd.DataFrame()\n",
        "y_t = pd.DataFrame()\n",
        "y_timetest['target'] = timetest['target']\n",
        "y_t['target'] = train['target']\n",
        "timetest = timetest.drop('target',axis=1)\n",
        "train = train.drop('target',axis=1)\n",
        "X_train, X_test, y_train, y_test = train_test_split(train, y_t, random_state=1301, test_size=0.3)"
      ],
      "execution_count": null,
      "outputs": []
    },
    {
      "cell_type": "code",
      "metadata": {
        "id": "SIqzW_mnlMwo"
      },
      "source": [
        "pdf = pdf.rename(columns={'emp_length_< 1 year':'emp_length_less 1 year'})"
      ],
      "execution_count": null,
      "outputs": []
    },
    {
      "cell_type": "code",
      "metadata": {
        "id": "Cl_hMaWxr1at",
        "outputId": "9b7a4752-5493-48e0-ac5e-25770535c278",
        "colab": {
          "base_uri": "https://localhost:8080/",
          "height": 35
        }
      },
      "source": [
        "gc.collect()"
      ],
      "execution_count": null,
      "outputs": [
        {
          "output_type": "execute_result",
          "data": {
            "text/plain": [
              "707"
            ]
          },
          "metadata": {
            "tags": []
          },
          "execution_count": 25
        }
      ]
    },
    {
      "cell_type": "code",
      "metadata": {
        "id": "8dcBZ4YEvt5r",
        "outputId": "db606841-35cd-4bbc-feda-af5c08939d93",
        "colab": {
          "base_uri": "https://localhost:8080/",
          "height": 35
        }
      },
      "source": [
        "pdf['application_type'].unique()"
      ],
      "execution_count": null,
      "outputs": [
        {
          "output_type": "execute_result",
          "data": {
            "text/plain": [
              "array([ True, False])"
            ]
          },
          "metadata": {
            "tags": []
          },
          "execution_count": 31
        }
      ]
    },
    {
      "cell_type": "code",
      "metadata": {
        "id": "ON7Y4SUJsD4r"
      },
      "source": [
        "u ={}\n",
        "for i in clas:\n",
        "  u[i]=pdf[i].nunique()\n",
        "print(u)"
      ],
      "execution_count": null,
      "outputs": []
    },
    {
      "cell_type": "code",
      "metadata": {
        "id": "VVDi7T3YduKz",
        "outputId": "bb3dd238-d0d1-4550-8c8f-228139cb2e9d",
        "colab": {
          "base_uri": "https://localhost:8080/",
          "height": 73
        }
      },
      "source": [
        "#LabelEncoding\n",
        "#pdf = pdf[pdf['target']!=1]\n",
        "pdf.loc[pdf['target']==2,'target']=1\n",
        "clas = pdf.select_dtypes(include=['O']).columns\n",
        "lb_make = LabelEncoder()\n",
        "for col in clas:\n",
        "  pdf[col] = pdf[col].astype(str).fillna('')\n",
        "  pdf[col]=lb_make.fit_transform(pdf[[col]])\n",
        "timetest = pdf[pdf.year==2016]\n",
        "train = pdf[pdf.year!=2016]\n",
        "timetest = timetest.drop(['issue_d','year'],axis=1)\n",
        "train = train.drop(['issue_d','year'],axis=1)\n",
        "y_timetest=pd.DataFrame()\n",
        "y_t = pd.DataFrame()\n",
        "y_timetest['target'] = timetest['target']\n",
        "y_t['target'] = train['target']\n",
        "timetest = timetest.drop('target',axis=1)\n",
        "train = train.drop('target',axis=1)\n",
        "#y_t=LabelBinarizer().fit_transform(y_t['target'].tolist())\n",
        "#y_timetest=LabelBinarizer().fit_transform(y_timetest['target'].tolist())\n",
        "X_train, X_test, y_train, y_test = train_test_split(train, y_t, random_state=1301, test_size=0.3)"
      ],
      "execution_count": null,
      "outputs": [
        {
          "output_type": "stream",
          "text": [
            "/usr/local/lib/python3.6/dist-packages/sklearn/preprocessing/_label.py:251: DataConversionWarning: A column-vector y was passed when a 1d array was expected. Please change the shape of y to (n_samples, ), for example using ravel().\n",
            "  y = column_or_1d(y, warn=True)\n"
          ],
          "name": "stderr"
        }
      ]
    },
    {
      "cell_type": "code",
      "metadata": {
        "id": "D46AIdM4EoN8"
      },
      "source": [
        "def gini_eval(y_pred, dtrain):\n",
        "    y_true = dtrain.get_label()\n",
        "    #fpr, tpr, _ = roc_curve(y_true, y_pred)\n",
        "    #roc_auc = auc(fpr, tpr)\n",
        "    gini = calc_gini(y_true,y_pred,3)\n",
        "    for i in gini:\n",
        "      err += gini[i]\n",
        "    err=err/2\n",
        "    return 'gini_err', err"
      ],
      "execution_count": null,
      "outputs": []
    },
    {
      "cell_type": "code",
      "metadata": {
        "id": "V4ZttyiI10gb",
        "outputId": "d9ed607a-2ac4-4e25-839a-d5360eec8da6",
        "colab": {
          "base_uri": "https://localhost:8080/",
          "height": 35
        }
      },
      "source": [
        "y_train['target'].unique()"
      ],
      "execution_count": null,
      "outputs": [
        {
          "output_type": "execute_result",
          "data": {
            "text/plain": [
              "array([0, 1])"
            ]
          },
          "metadata": {
            "tags": []
          },
          "execution_count": 55
        }
      ]
    },
    {
      "cell_type": "code",
      "metadata": {
        "id": "lOig7L1hkP-z",
        "outputId": "6066fa9e-7bb8-486c-8831-de9313e9698d",
        "colab": {
          "base_uri": "https://localhost:8080/",
          "height": 162
        }
      },
      "source": [
        "from sklearn.neural_network import MLPClassifier\n",
        "mlp = MLPClassifier(hidden_layer_sizes=(150, 100, 50), max_iter=1000)\n",
        "mlp.fit(X_train, y_train.values.ravel())"
      ],
      "execution_count": null,
      "outputs": [
        {
          "output_type": "execute_result",
          "data": {
            "text/plain": [
              "MLPClassifier(activation='relu', alpha=0.0001, batch_size='auto', beta_1=0.9,\n",
              "              beta_2=0.999, early_stopping=False, epsilon=1e-08,\n",
              "              hidden_layer_sizes=(150, 100, 50), learning_rate='constant',\n",
              "              learning_rate_init=0.001, max_fun=15000, max_iter=1000,\n",
              "              momentum=0.9, n_iter_no_change=10, nesterovs_momentum=True,\n",
              "              power_t=0.5, random_state=None, shuffle=True, solver='adam',\n",
              "              tol=0.0001, validation_fraction=0.1, verbose=False,\n",
              "              warm_start=False)"
            ]
          },
          "metadata": {
            "tags": []
          },
          "execution_count": 22
        }
      ]
    },
    {
      "cell_type": "code",
      "metadata": {
        "id": "wQYB4InD4ag5",
        "outputId": "efd962f0-1716-4e85-ad14-1d2e81271626",
        "colab": {
          "base_uri": "https://localhost:8080/",
          "height": 171
        }
      },
      "source": [
        "features"
      ],
      "execution_count": null,
      "outputs": [
        {
          "output_type": "error",
          "ename": "NameError",
          "evalue": "ignored",
          "traceback": [
            "\u001b[0;31m---------------------------------------------------------------------------\u001b[0m",
            "\u001b[0;31mNameError\u001b[0m                                 Traceback (most recent call last)",
            "\u001b[0;32m<ipython-input-29-224628ecf868>\u001b[0m in \u001b[0;36m<module>\u001b[0;34m()\u001b[0m\n\u001b[0;32m----> 1\u001b[0;31m \u001b[0mfeatures\u001b[0m\u001b[0;34m\u001b[0m\u001b[0;34m\u001b[0m\u001b[0m\n\u001b[0m",
            "\u001b[0;31mNameError\u001b[0m: name 'features' is not defined"
          ]
        }
      ]
    },
    {
      "cell_type": "code",
      "metadata": {
        "id": "kc4RyPRvnAxN"
      },
      "source": [
        "y_pred = mlp.predict(X_test)\n",
        "y_predtrain = mlp.predict(X_train)\n",
        "y_predtime = mlp.predict(timetest)"
      ],
      "execution_count": null,
      "outputs": []
    },
    {
      "cell_type": "code",
      "metadata": {
        "id": "2_quKkegntQo",
        "outputId": "9601c11d-dfe4-48c1-d8f7-95d5b689b044",
        "colab": {
          "base_uri": "https://localhost:8080/",
          "height": 617
        }
      },
      "source": [
        "print(confusion_matrix(y_test,y_pred))\n",
        "print(classification_report(y_test,y_pred))\n",
        "print(confusion_matrix(y_train,y_predtrain))\n",
        "print(classification_report(y_train,y_predtrain))\n",
        "print(confusion_matrix(y_timetest,y_predtime))\n",
        "print(classification_report(y_timetest,y_predtime))"
      ],
      "execution_count": null,
      "outputs": [
        {
          "output_type": "stream",
          "text": [
            "[[238899   9888]\n",
            " [ 54708  10953]]\n",
            "              precision    recall  f1-score   support\n",
            "\n",
            "           0       0.81      0.96      0.88    248787\n",
            "           1       0.53      0.17      0.25     65661\n",
            "\n",
            "    accuracy                           0.79    314448\n",
            "   macro avg       0.67      0.56      0.57    314448\n",
            "weighted avg       0.75      0.79      0.75    314448\n",
            "\n",
            "[[556865  22510]\n",
            " [127692  26645]]\n",
            "              precision    recall  f1-score   support\n",
            "\n",
            "           0       0.81      0.96      0.88    579375\n",
            "           1       0.54      0.17      0.26    154337\n",
            "\n",
            "    accuracy                           0.80    733712\n",
            "   macro avg       0.68      0.57      0.57    733712\n",
            "weighted avg       0.76      0.80      0.75    733712\n",
            "\n",
            "[[182072  22740]\n",
            " [ 50549  22742]]\n",
            "              precision    recall  f1-score   support\n",
            "\n",
            "           0       0.78      0.89      0.83    204812\n",
            "           1       0.50      0.31      0.38     73291\n",
            "\n",
            "    accuracy                           0.74    278103\n",
            "   macro avg       0.64      0.60      0.61    278103\n",
            "weighted avg       0.71      0.74      0.71    278103\n",
            "\n"
          ],
          "name": "stdout"
        }
      ]
    },
    {
      "cell_type": "code",
      "metadata": {
        "id": "26GwG25y7ago",
        "outputId": "cb39aac1-69c9-4e27-a2ea-83ed83b34dd3",
        "colab": {
          "base_uri": "https://localhost:8080/",
          "height": 689
        }
      },
      "source": [
        "'''def gini_eval(y_pred, dtrain):\n",
        "    y_true = dtrain.get_label()\n",
        "    fpr, tpr, _ = roc_curve(y_true, y_pred)\n",
        "    roc_auc = auc(fpr, tpr)\n",
        "    gini = 2*roc_auc-1\n",
        "    err = gini\n",
        "    return 'gini_err', err\n",
        "'''\n",
        "def gini_eval(y_pred, dtrain):\n",
        "  err=0\n",
        "  y_true = dtrain.get_label()\n",
        "  #fpr, tpr, _ = roc_curve(y_true, y_pred)\n",
        "  #roc_auc = auc(fpr, tpr)\n",
        "  #gini = 2*roc_auc -1\n",
        "  gini = calc_gini(y_true,y_pred,3)\n",
        "  for i in gini:\n",
        "    err += gini[i]\n",
        "  err=err/3\n",
        "  #err = 1-gini\n",
        "  gc.collect()\n",
        "  return 'gini_err', err\n",
        "dtrain = xgb.DMatrix(X_train,label=y_train)\n",
        "result = {}\n",
        "dtest = xgb.DMatrix(timetest,y_timetest)\n",
        "watchlist = [(dtrain, 'train'), (dtest, 'eval')]\n",
        "params = {\n",
        "    'max_depth':8,\n",
        "    'n_estimators':800,\n",
        "    'reg_lambda':6,\n",
        "    'objective':'multi:softprob',\n",
        "    'tree_method':'gpu_hist',\n",
        "    'scale_pos_weight':10,\n",
        "    'num_class':3\n",
        "}\n",
        "classifier = xgb.train(params,num_boost_round=500,dtrain=dtrain,feval=gini_eval,evals=watchlist,early_stopping_rounds=30,evals_result=result)\n",
        "#classifier= OneVsRestClassifier(model)\n",
        "#,eval_metric='mlogloss' ,eval_set=eval_set,early_stopping_rounds=30)\n",
        "#classifier.fit(X_train,y_train)"
      ],
      "execution_count": null,
      "outputs": [
        {
          "output_type": "stream",
          "text": [
            "[0]\ttrain-merror:0.207335\teval-merror:0.263366\ttrain-gini_err:0.458829\teval-gini_err:0.385549\n",
            "Multiple eval metrics have been passed: 'eval-gini_err' will be used for early stopping.\n",
            "\n",
            "Will train until eval-gini_err hasn't improved in 30 rounds.\n",
            "[1]\ttrain-merror:0.207173\teval-merror:0.261867\ttrain-gini_err:0.468475\teval-gini_err:0.396469\n",
            "[2]\ttrain-merror:0.206841\teval-merror:0.261486\ttrain-gini_err:0.474394\teval-gini_err:0.400989\n",
            "[3]\ttrain-merror:0.20658\teval-merror:0.261108\ttrain-gini_err:0.479062\teval-gini_err:0.404953\n",
            "[4]\ttrain-merror:0.206381\teval-merror:0.260871\ttrain-gini_err:0.483071\teval-gini_err:0.407097\n",
            "[5]\ttrain-merror:0.206041\teval-merror:0.26058\ttrain-gini_err:0.48645\teval-gini_err:0.408745\n",
            "[6]\ttrain-merror:0.205845\teval-merror:0.260461\ttrain-gini_err:0.490242\teval-gini_err:0.410319\n",
            "[7]\ttrain-merror:0.205683\teval-merror:0.260529\ttrain-gini_err:0.494128\teval-gini_err:0.410906\n",
            "[8]\ttrain-merror:0.205515\teval-merror:0.260497\ttrain-gini_err:0.498385\teval-gini_err:0.411234\n",
            "[9]\ttrain-merror:0.205198\teval-merror:0.260666\ttrain-gini_err:0.501676\teval-gini_err:0.412054\n",
            "[10]\ttrain-merror:0.204997\teval-merror:0.260641\ttrain-gini_err:0.505354\teval-gini_err:0.412677\n",
            "[11]\ttrain-merror:0.204804\teval-merror:0.260662\ttrain-gini_err:0.508974\teval-gini_err:0.413226\n",
            "[12]\ttrain-merror:0.204621\teval-merror:0.26077\ttrain-gini_err:0.51236\teval-gini_err:0.413652\n",
            "[13]\ttrain-merror:0.204428\teval-merror:0.260882\ttrain-gini_err:0.515791\teval-gini_err:0.413685\n",
            "[14]\ttrain-merror:0.204144\teval-merror:0.260957\ttrain-gini_err:0.519083\teval-gini_err:0.414139\n",
            "[15]\ttrain-merror:0.203904\teval-merror:0.261195\ttrain-gini_err:0.522129\teval-gini_err:0.414232\n",
            "[16]\ttrain-merror:0.203692\teval-merror:0.261187\ttrain-gini_err:0.525342\teval-gini_err:0.414382\n",
            "[17]\ttrain-merror:0.203509\teval-merror:0.261234\ttrain-gini_err:0.528297\teval-gini_err:0.414823\n",
            "[18]\ttrain-merror:0.203156\teval-merror:0.261493\ttrain-gini_err:0.531234\teval-gini_err:0.415138\n",
            "[19]\ttrain-merror:0.202885\teval-merror:0.261587\ttrain-gini_err:0.533641\teval-gini_err:0.415315\n",
            "[20]\ttrain-merror:0.202679\teval-merror:0.261655\ttrain-gini_err:0.535939\teval-gini_err:0.415576\n",
            "[21]\ttrain-merror:0.202547\teval-merror:0.26173\ttrain-gini_err:0.538971\teval-gini_err:0.415888\n",
            "[22]\ttrain-merror:0.202385\teval-merror:0.261838\ttrain-gini_err:0.541089\teval-gini_err:0.415911\n",
            "[23]\ttrain-merror:0.202191\teval-merror:0.261863\ttrain-gini_err:0.543693\teval-gini_err:0.415905\n",
            "[24]\ttrain-merror:0.201909\teval-merror:0.261943\ttrain-gini_err:0.546091\teval-gini_err:0.416072\n",
            "[25]\ttrain-merror:0.20163\teval-merror:0.261878\ttrain-gini_err:0.548294\teval-gini_err:0.41629\n",
            "[26]\ttrain-merror:0.201424\teval-merror:0.261878\ttrain-gini_err:0.55053\teval-gini_err:0.416438\n",
            "[27]\ttrain-merror:0.201259\teval-merror:0.261971\ttrain-gini_err:0.552605\teval-gini_err:0.416385\n",
            "[28]\ttrain-merror:0.201009\teval-merror:0.261968\ttrain-gini_err:0.555085\teval-gini_err:0.416529\n",
            "[29]\ttrain-merror:0.200872\teval-merror:0.261925\ttrain-gini_err:0.556787\teval-gini_err:0.416597\n",
            "[30]\ttrain-merror:0.200726\teval-merror:0.261939\ttrain-gini_err:0.558799\teval-gini_err:0.416671\n",
            "Stopping. Best iteration:\n",
            "[0]\ttrain-merror:0.207335\teval-merror:0.263366\ttrain-gini_err:0.458829\teval-gini_err:0.385549\n",
            "\n"
          ],
          "name": "stdout"
        }
      ]
    },
    {
      "cell_type": "code",
      "metadata": {
        "id": "5f0NaIm_TJiS",
        "outputId": "f1e6f57c-ce38-4795-e8ac-b45141d5200e",
        "colab": {
          "base_uri": "https://localhost:8080/",
          "height": 35
        }
      },
      "source": [
        "classifier.best_score"
      ],
      "execution_count": null,
      "outputs": [
        {
          "output_type": "execute_result",
          "data": {
            "text/plain": [
              "0.385549"
            ]
          },
          "metadata": {
            "tags": []
          },
          "execution_count": 21
        }
      ]
    },
    {
      "cell_type": "code",
      "metadata": {
        "id": "NeE2BTP748_a"
      },
      "source": [
        "pd.DataFrame(classifier.get_score().items()).to_excel('Variables.xlsx',index=None)"
      ],
      "execution_count": null,
      "outputs": []
    },
    {
      "cell_type": "code",
      "metadata": {
        "id": "sZcK1Jn34aEr"
      },
      "source": [
        "def gini_eval(y_pred, dtrain):\n",
        "    y_true = dtrain.get_label()\n",
        "    fpr, tpr, _ = roc_curve(y_true, y_pred)\n",
        "    roc_auc = auc(fpr, tpr)\n",
        "    gini = 2*roc_auc-1\n",
        "    err = gini\n",
        "    return 'gini_err', err"
      ],
      "execution_count": null,
      "outputs": []
    },
    {
      "cell_type": "code",
      "metadata": {
        "id": "jokS39vC77v9"
      },
      "source": [
        "fpr={}\n",
        "tpr={}\n",
        "gini={}\n",
        "roc_auc={}\n",
        "y_g = OneHotEncoder().fit_transform(pd.DataFrame(y_test)).toarray()\n",
        "y_pred = classifier.predict_proba(X_test)\n",
        "j=2\n",
        "for i in range(j):\n",
        "  fpr[i], tpr[i], _ = roc_curve(y_g[:, i], y_pred[:, i])\n",
        "  roc_auc[i] = auc(fpr[i], tpr[i])\n",
        "  gini[i]=2*roc_auc[i]-1"
      ],
      "execution_count": null,
      "outputs": []
    },
    {
      "cell_type": "code",
      "metadata": {
        "id": "jhC-odqqES_I",
        "outputId": "8693a3f2-0d7f-4485-aa4d-b258ca80cb57",
        "colab": {
          "base_uri": "https://localhost:8080/",
          "height": 35
        }
      },
      "source": [
        "gini"
      ],
      "execution_count": null,
      "outputs": [
        {
          "output_type": "execute_result",
          "data": {
            "text/plain": [
              "{0: 0.9448136219690753, 1: 0.9448136217224645}"
            ]
          },
          "metadata": {
            "tags": []
          },
          "execution_count": 10
        }
      ]
    },
    {
      "cell_type": "code",
      "metadata": {
        "id": "iFcH-v_ryoHM"
      },
      "source": [
        "res = classifier.predict_proba(X_test)\n",
        "#calc_gini(res,y_test,2)\n",
        "#t =float(1-np.sum(y_t==1)/len(y_t))"
      ],
      "execution_count": null,
      "outputs": []
    },
    {
      "cell_type": "code",
      "metadata": {
        "id": "Cqqehe1T68Xj",
        "outputId": "a38d7b9c-2655-48c7-8c91-15d93d17cab0",
        "colab": {
          "base_uri": "https://localhost:8080/",
          "height": 53
        }
      },
      "source": [
        "1-np.sum(y_test==1)/len(y_test)"
      ],
      "execution_count": null,
      "outputs": [
        {
          "output_type": "execute_result",
          "data": {
            "text/plain": [
              "target    0.883875\n",
              "dtype: float64"
            ]
          },
          "metadata": {
            "tags": []
          },
          "execution_count": 49
        }
      ]
    },
    {
      "cell_type": "code",
      "metadata": {
        "id": "Z919lg2zwZYB",
        "outputId": "b42b6819-94dd-4f5c-f536-41025e0483f9",
        "colab": {
          "base_uri": "https://localhost:8080/",
          "height": 313
        }
      },
      "source": [
        "plt.title('Target across year')\n",
        "sns.countplot(x='year',hue='target',data=pdf[['year','target']])"
      ],
      "execution_count": null,
      "outputs": [
        {
          "output_type": "execute_result",
          "data": {
            "text/plain": [
              "<matplotlib.axes._subplots.AxesSubplot at 0x7f114e5bb710>"
            ]
          },
          "metadata": {
            "tags": []
          },
          "execution_count": 5
        },
        {
          "output_type": "display_data",
          "data": {
            "image/png": "[encoded data removed]",
            "text/plain": [
              "<Figure size 432x288 with 1 Axes>"
            ]
          },
          "metadata": {
            "tags": [],
            "needs_background": "light"
          }
        }
      ]
    },
    {
      "cell_type": "code",
      "metadata": {
        "id": "K2DOIJ7jLIBu",
        "outputId": "2fcb672f-597a-4c1e-d062-af46a641ada3",
        "colab": {
          "base_uri": "https://localhost:8080/",
          "height": 271
        }
      },
      "source": [
        "total = pdf['year'].groupby(pdf.year).count().sum()\n",
        "pdf['year'].groupby(pdf.year).count()/total"
      ],
      "execution_count": null,
      "outputs": [
        {
          "output_type": "execute_result",
          "data": {
            "text/plain": [
              "year\n",
              "2007.0    0.000187\n",
              "2008.0    0.001161\n",
              "2009.0    0.003485\n",
              "2010.0    0.008557\n",
              "2011.0    0.016173\n",
              "2012.0    0.039885\n",
              "2013.0    0.100752\n",
              "2014.0    0.166018\n",
              "2015.0    0.280946\n",
              "2016.0    0.211130\n",
              "2017.0    0.128413\n",
              "2018.0    0.043292\n",
              "Name: year, dtype: float64"
            ]
          },
          "metadata": {
            "tags": []
          },
          "execution_count": 182
        }
      ]
    },
    {
      "cell_type": "code",
      "metadata": {
        "id": "-MErNGYZ4UsZ"
      },
      "source": [
        "def dbscan(X, eps, min_samples):\n",
        "  ss = MinMaxScaler()\n",
        "  X = ss.fit_transform(X)\n",
        "  X[np.isnan(X)]=-1\n",
        "  db = DBSCAN(eps=eps, min_samples=min_samples,n_jobs=8)\n",
        "  db.fit(X)\n",
        "  y_pred = db.fit_predict(X)\n",
        "  ##plt.scatter(X[:,0], X[:,1],c=y_pred, cmap='Paired')\n",
        "  #plt.title(\"DBSCAN\")\n",
        "  return db.labels_,y_pred"
      ],
      "execution_count": null,
      "outputs": []
    },
    {
      "cell_type": "code",
      "metadata": {
        "id": "KcGBMw4-V9fi"
      },
      "source": [
        "reg = pdf.select_dtypes(['float64']).columns\n",
        "X = pdf[pdf.target==0]\n",
        "X = X[reg]\n",
        "ss = MinMaxScaler()\n",
        "X = ss.fit_transform(X)"
      ],
      "execution_count": null,
      "outputs": []
    },
    {
      "cell_type": "code",
      "metadata": {
        "id": "Fm1DNNakW3uu"
      },
      "source": [
        "X[np.isnan(X)]=-1\n",
        "db = DBSCAN(eps=0.5, min_samples=5,n_jobs=8)\n",
        "db.fit(X)"
      ],
      "execution_count": null,
      "outputs": []
    },
    {
      "cell_type": "code",
      "metadata": {
        "id": "eaZcp23F7Oce",
        "outputId": "135718f1-a34d-4bb4-c27c-957f85dab47a",
        "colab": {
          "base_uri": "https://localhost:8080/",
          "height": 296
        }
      },
      "source": [
        "plt.scatter(X['tot_hi_cred_lim'], X['installment'],c=y_pred, cmap='Paired')"
      ],
      "execution_count": null,
      "outputs": [
        {
          "output_type": "execute_result",
          "data": {
            "text/plain": [
              "<matplotlib.collections.PathCollection at 0x7f8502bf18d0>"
            ]
          },
          "metadata": {
            "tags": []
          },
          "execution_count": 148
        },
        {
          "output_type": "display_data",
          "data": {
            "image/png": "[encoded data removed]",
            "text/plain": [
              "<Figure size 432x288 with 1 Axes>"
            ]
          },
          "metadata": {
            "tags": [],
            "needs_background": "light"
          }
        }
      ]
    },
    {
      "cell_type": "code",
      "metadata": {
        "id": "VbjaHN0MsVGW"
      },
      "source": [
        "li = np.where(remove==-1)[0].tolist()\n",
        "t = pdf[pdf.target==1].reset_index()\n",
        "re = t.iloc[li]"
      ],
      "execution_count": null,
      "outputs": []
    },
    {
      "cell_type": "code",
      "metadata": {
        "id": "8s0rptfY-ktc"
      },
      "source": [
        "re['index'].to_excel('RemoveDBScan1.xlsx',index=False)"
      ],
      "execution_count": null,
      "outputs": []
    },
    {
      "cell_type": "code",
      "metadata": {
        "id": "-Jrbr01w75rD",
        "outputId": "7535303c-c10a-4108-c7d1-5ebc8b607782",
        "colab": {
          "base_uri": "https://localhost:8080/",
          "height": 283
        }
      },
      "source": [
        "plt.scatter(X['int_rate'], X['revol_util'],c=y_pred, cmap='Paired')"
      ],
      "execution_count": null,
      "outputs": [
        {
          "output_type": "execute_result",
          "data": {
            "text/plain": [
              "<matplotlib.collections.PathCollection at 0x7f84fb032780>"
            ]
          },
          "metadata": {
            "tags": []
          },
          "execution_count": 150
        },
        {
          "output_type": "display_data",
          "data": {
            "image/png": "[encoded data removed]",
            "text/plain": [
              "<Figure size 432x288 with 1 Axes>"
            ]
          },
          "metadata": {
            "tags": [],
            "needs_background": "light"
          }
        }
      ]
    },
    {
      "cell_type": "code",
      "metadata": {
        "id": "NVweIZh04gI4",
        "outputId": "86a77b7d-fcff-48ad-e45b-613d839d1e5f",
        "colab": {
          "base_uri": "https://localhost:8080/",
          "height": 53
        }
      },
      "source": [
        "#tar = pdf[pdf['target']==2]\n",
        "#ss = StandardScaler()\n",
        "#X = ss.fit_transform(tar)\n",
        "\n",
        "db.fit(X)\n",
        "#y_pred = db.fit_predict(X)"
      ],
      "execution_count": null,
      "outputs": [
        {
          "output_type": "execute_result",
          "data": {
            "text/plain": [
              "DBSCAN(algorithm='auto', eps=0.3, leaf_size=30, metric='euclidean',\n",
              "       metric_params=None, min_samples=10, n_jobs=8, p=None)"
            ]
          },
          "metadata": {
            "tags": []
          },
          "execution_count": 14
        }
      ]
    },
    {
      "cell_type": "code",
      "metadata": {
        "id": "F1jSrokb93JL"
      },
      "source": [
        "y_pred = db.fit_predict(X)"
      ],
      "execution_count": null,
      "outputs": []
    },
    {
      "cell_type": "code",
      "metadata": {
        "id": "C5-wA31EAltD"
      },
      "source": [
        "import sys\n",
        "import numpy\n",
        "numpy.set_printoptions(threshold=1000)"
      ],
      "execution_count": null,
      "outputs": []
    },
    {
      "cell_type": "code",
      "metadata": {
        "id": "zGsgmY80LReG"
      },
      "source": [
        "import numpy\n",
        "numpy.set_printoptions(threshold=1000)"
      ],
      "execution_count": null,
      "outputs": []
    },
    {
      "cell_type": "code",
      "metadata": {
        "id": "4xa8NrzAVKHi"
      },
      "source": [
        "X = pdf[pdf['target']==2]"
      ],
      "execution_count": null,
      "outputs": []
    },
    {
      "cell_type": "code",
      "metadata": {
        "id": "hdhHKtpVDvnL"
      },
      "source": [
        "db = DBSCAN(eps=0.3, min_samples=5,n_jobs=8).fit(X)\n",
        "labels = db.labels_\n",
        "n_clusters_ = len(set(labels)) - (1 if -1 in labels else 0)\n",
        "print(n_clusters_)\n",
        "clusters = db.fit_predict(X)"
      ],
      "execution_count": null,
      "outputs": []
    },
    {
      "cell_type": "code",
      "metadata": {
        "id": "HYBWEtLKvlKH",
        "outputId": "1ad35854-93c2-464f-83d9-a759c0cd1ef2",
        "colab": {
          "base_uri": "https://localhost:8080/",
          "height": 35
        }
      },
      "source": [
        "gc.collect()"
      ],
      "execution_count": null,
      "outputs": [
        {
          "output_type": "execute_result",
          "data": {
            "text/plain": [
              "0"
            ]
          },
          "metadata": {
            "tags": []
          },
          "execution_count": 37
        }
      ]
    },
    {
      "cell_type": "code",
      "metadata": {
        "id": "aF49fqdgKYdk",
        "outputId": "ea9cecbb-8cc1-4831-e1a3-5d49b47b5a5f",
        "colab": {
          "base_uri": "https://localhost:8080/",
          "height": 134
        }
      },
      "source": [
        "from sklearn.preprocessing import LabelEncoder\n",
        "data = pd.DataFrame(index=None)\n",
        "clas = pdf.select_dtypes(include=['O']).columns\n",
        "reg = pdf.select_dtypes(include=['float64','int64']).columns\n",
        "#y = pdf['target']\n",
        "#pdf = pdf[pdf['target']!=1]\n",
        "#pdf.loc[pdf['target']==2,'target']=1\n",
        "\n",
        "#for col in reg:\n",
        "#  pdf[col] = pdf[col].fillna(999999999)\n",
        "  #scaler = StandardScaler() \n",
        "  #pdf_scaled = scaler.fit_transform(pdf)\n",
        "  #X[col] = X[col].fillna(X[col])\n",
        "lb_make = OneHotEncoder()\n",
        "for col in clas:\n",
        "  pdf[col] = pdf[col].astype(str).fillna('')\n",
        "  pdf[col]=lb_make.fit_transform(pdf[col])\n",
        "for col in pdf.columns:\n",
        "  if pdf[col].dtype == 'float64':\n",
        "    m = pdf[col].mean()\n",
        "  pdf['z'] = zscore(pdf[col])\n",
        "  pdf.loc[pdf['z'].abs()>3,col] = m\n",
        "pdf = pdf.drop('z',axis =1)\n",
        "timetest = pdf[pdf.year==2016]\n",
        "train = pdf[pdf.year!=2016]\n",
        "y_timetest=pd.DataFrame()\n",
        "y_t = pd.DataFrame()\n",
        "y_timetest['target'] = timetest['target']\n",
        "y_t['target'] = train['target']\n",
        "timetest = timetest.drop('target',axis=1)\n",
        "train = train.drop('target',axis=1)\n",
        "del reg,clas\n",
        "X_train, X_test, y_train, y_test = train_test_split(train, y_t, random_state=1301, test_size=0.3)"
      ],
      "execution_count": null,
      "outputs": [
        {
          "output_type": "error",
          "ename": "SyntaxError",
          "evalue": "ignored",
          "traceback": [
            "\u001b[0;36m  File \u001b[0;32m\"<ipython-input-22-009e4d8de90c>\"\u001b[0;36m, line \u001b[0;32m19\u001b[0m\n\u001b[0;31m    if pdf[col].dtype == 'float64'\u001b[0m\n\u001b[0m                                  ^\u001b[0m\n\u001b[0;31mSyntaxError\u001b[0m\u001b[0;31m:\u001b[0m invalid syntax\n"
          ]
        }
      ]
    },
    {
      "cell_type": "code",
      "metadata": {
        "id": "CYhuIOIR4I2T",
        "outputId": "b6f6a063-c651-4dd2-8932-78077343a3e5",
        "colab": {
          "base_uri": "https://localhost:8080/",
          "height": 207
        }
      },
      "source": [
        "def gini_eval(y_pred, dtrain):\n",
        "    y_true = dtrain.get_label()\n",
        "    fpr, tpr, _ = roc_curve(y_true, y_pred)\n",
        "    roc_auc = auc(fpr, tpr)\n",
        "    gini = 2*roc_auc-1\n",
        "    err = gini\n",
        "    return 'gini_err', err\n",
        "classifier = xgb.XGBClassifier(max_depth= 6,objective= 'multi:softprob',tree_method='gpu_hist',num_class=3)\n",
        "classifier.fit(X_train,y_train,eval_metric=gini_eval,evals=[(timetest,y_timetest)])"
      ],
      "execution_count": null,
      "outputs": [
        {
          "output_type": "error",
          "ename": "TypeError",
          "evalue": "ignored",
          "traceback": [
            "\u001b[0;31m---------------------------------------------------------------------------\u001b[0m",
            "\u001b[0;31mTypeError\u001b[0m                                 Traceback (most recent call last)",
            "\u001b[0;32m<ipython-input-40-7c0d036c642b>\u001b[0m in \u001b[0;36m<module>\u001b[0;34m()\u001b[0m\n\u001b[1;32m      7\u001b[0m     \u001b[0;32mreturn\u001b[0m \u001b[0;34m'gini_err'\u001b[0m\u001b[0;34m,\u001b[0m \u001b[0merr\u001b[0m\u001b[0;34m\u001b[0m\u001b[0;34m\u001b[0m\u001b[0m\n\u001b[1;32m      8\u001b[0m \u001b[0mclassifier\u001b[0m \u001b[0;34m=\u001b[0m \u001b[0mxgb\u001b[0m\u001b[0;34m.\u001b[0m\u001b[0mXGBClassifier\u001b[0m\u001b[0;34m(\u001b[0m\u001b[0mmax_depth\u001b[0m\u001b[0;34m=\u001b[0m \u001b[0;36m6\u001b[0m\u001b[0;34m,\u001b[0m\u001b[0mobjective\u001b[0m\u001b[0;34m=\u001b[0m \u001b[0;34m'multi:softprob'\u001b[0m\u001b[0;34m,\u001b[0m\u001b[0mtree_method\u001b[0m\u001b[0;34m=\u001b[0m\u001b[0;34m'gpu_hist'\u001b[0m\u001b[0;34m,\u001b[0m\u001b[0mnum_class\u001b[0m\u001b[0;34m=\u001b[0m\u001b[0;36m3\u001b[0m\u001b[0;34m)\u001b[0m\u001b[0;34m\u001b[0m\u001b[0;34m\u001b[0m\u001b[0m\n\u001b[0;32m----> 9\u001b[0;31m \u001b[0mclassifier\u001b[0m\u001b[0;34m.\u001b[0m\u001b[0mfit\u001b[0m\u001b[0;34m(\u001b[0m\u001b[0mX_train\u001b[0m\u001b[0;34m,\u001b[0m\u001b[0my_train\u001b[0m\u001b[0;34m,\u001b[0m\u001b[0meval_metric\u001b[0m\u001b[0;34m=\u001b[0m\u001b[0mgini_eval\u001b[0m\u001b[0;34m,\u001b[0m\u001b[0mevals\u001b[0m\u001b[0;34m=\u001b[0m\u001b[0;34m[\u001b[0m\u001b[0;34m(\u001b[0m\u001b[0mtimetest\u001b[0m\u001b[0;34m,\u001b[0m\u001b[0my_timetest\u001b[0m\u001b[0;34m)\u001b[0m\u001b[0;34m]\u001b[0m\u001b[0;34m)\u001b[0m\u001b[0;34m\u001b[0m\u001b[0;34m\u001b[0m\u001b[0m\n\u001b[0m",
            "\u001b[0;31mTypeError\u001b[0m: fit() got an unexpected keyword argument 'evals'"
          ]
        }
      ]
    },
    {
      "cell_type": "code",
      "metadata": {
        "id": "AJNYZH7_KcT4",
        "cellView": "form",
        "outputId": "7cfcddfa-14e3-4cc2-d524-9225e5a1d77f",
        "colab": {
          "base_uri": "https://localhost:8080/",
          "height": 390
        }
      },
      "source": [
        "#@title Default title text\n",
        "matplotlib.use(\"Agg\") #Needed to save figures\n",
        "\n",
        "# classifier = RandomForestClassifier(random_state=1301)\n",
        "# classifier = ExtraTreesClassifier(random_state=1301)\n",
        "params = {\n",
        "    'max_depth': 6,\n",
        "    'objective': 'multi:softmax',  # error evaluation for multiclass training\n",
        "    'num_class': 3,\n",
        "    # Set number of GPUs if available   \n",
        "    'n_gpus': 0\n",
        "}\n",
        "classifier = xgb.XGBClassifier(\n",
        "    objective='binary:logistic', \n",
        "    n_estimators=200, \n",
        "    learning_rate=0.08, \n",
        "    max_depth=5,\n",
        "    n_jobs=8, \n",
        "    subsample=0.9,\n",
        "#    colsample_bytree=0.8,\n",
        "    reg_lambda=6,\n",
        "    reg_alpha=5,\n",
        "    #num_class=3,\n",
        "    silent=True,\n",
        "    #n_gpus=1\n",
        ")\n",
        "#dtrain = xgb.DMatrix(X_train,label=y_train)\n",
        "#dtest = xgb.DMatrix(X_test,label=y_test)\n",
        "\n",
        "skf = StratifiedKFold(n_splits=3,random_state=1301, shuffle=True)\n",
        "\n",
        "\n",
        "selector = RFECV(estimator=classifier, step=3,cv=skf.get_n_splits(y_t), scoring='roc_auc',n_jobs=8)\n",
        "selector.fit(X_train, y_train)\n",
        "\n",
        "print('The optimal number of features is {}'.format(selector.n_features_))\n",
        "features = [f for f,s in zip(X_train.columns, selector.support_) if s]\n",
        "print('The selected features are:')\n",
        "print ('{}'.format(features))\n",
        "\n",
        "plt.figure()\n",
        "plt.xlabel(\"Number of features selected\")\n",
        "plt.ylabel(\"Cross validation score (roc auc)\")\n",
        "plt.plot(features, selector.grid_scores_)\n",
        "plt.savefig('feature_auc_nselected.png', bbox_inches='tight', pad_inches=1)"
      ],
      "execution_count": null,
      "outputs": [
        {
          "output_type": "stream",
          "text": [
            "/usr/local/lib/python3.6/dist-packages/sklearn/utils/validation.py:760: DataConversionWarning: A column-vector y was passed when a 1d array was expected. Please change the shape of y to (n_samples, ), for example using ravel().\n",
            "  y = column_or_1d(y, warn=True)\n"
          ],
          "name": "stderr"
        },
        {
          "output_type": "stream",
          "text": [
            "The optimal number of features is 1\n",
            "The selected features are:\n",
            "['int_rate']\n"
          ],
          "name": "stdout"
        },
        {
          "output_type": "display_data",
          "data": {
            "image/png": "[encoded data removed]",
            "text/plain": [
              "<Figure size 432x288 with 1 Axes>"
            ]
          },
          "metadata": {
            "tags": [],
            "needs_background": "light"
          }
        }
      ]
    },
    {
      "cell_type": "code",
      "metadata": {
        "id": "T-Km3uQqsvah"
      },
      "source": [
        "def calc_iv(df, feature, target, pr=False):\n",
        "    \"\"\"\n",
        "    Set pr=True to enable printing of output.\n",
        "    \n",
        "    Output: \n",
        "      * iv: float,\n",
        "      * data: pandas.DataFrame\n",
        "    \"\"\"\n",
        "    #return feature + str(df[feature].dtype)\n",
        "    lst = []\n",
        "    if (str(df[feature].dtype) == 'float64') or (str(df[feature].dtype) == 'int64'):\n",
        "      #print(feature)\n",
        "      #print(str(df[feature].dtype))\n",
        "      df[feature] = df[feature].fillna(999999999)\n",
        "      l = len(pd.qcut(df[feature],q=5,duplicates='drop').value_counts())\n",
        "      df[feature] = pd.qcut(df[feature],labels=np.arange(l) ,q=5,duplicates='drop')\n",
        "    else:\n",
        "      if len(df[feature].unique())>=20:\n",
        "        return -1,-1\n",
        "      else:\n",
        "        df[feature] = df[feature].fillna(\"\")\n",
        "    for i in range(df[feature].nunique()):\n",
        "        val = list(df[feature].unique())[i]\n",
        "        lst.append([feature,                                                        # Variable\n",
        "                    val,                                                            # Value\n",
        "                    df[df[feature] == val].count()[feature],                        # All\n",
        "                    df[(df[feature] == val) & (df[target] == 0)].count()[feature],  # Good (think: Fraud == 0)\n",
        "                    df[(df[feature] == val) & (df[target] != 0)].count()[feature]]) # Bad (think: Fraud == 1)\n",
        "\n",
        "    data = pd.DataFrame(lst, columns=['Variable', 'Value', 'All', 'Good', 'Bad'])\n",
        "\n",
        "    data['Share'] = data['All'] / data['All'].sum()\n",
        "    data['Bad Rate'] = data['Bad'] / data['All']\n",
        "    data['Distribution Good'] = (data['All'] - data['Bad']) / (data['All'].sum() - data['Bad'].sum())\n",
        "    data['Distribution Bad'] = data['Bad'] / data['Bad'].sum()\n",
        "    data['WoE'] = np.log(data['Distribution Good'] / data['Distribution Bad'])\n",
        "\n",
        "    data = data.replace({'WoE': {np.inf: 0, -np.inf: 0}})\n",
        "\n",
        "    data['IV'] = data['WoE'] * (data['Distribution Good'] - data['Distribution Bad'])\n",
        "\n",
        "    data = data.sort_values(by=['Variable', 'Value'], ascending=[True, True])\n",
        "    data.index = range(len(data.index))\n",
        "\n",
        "    if pr:\n",
        "        print(data)\n",
        "        print('IV = ', data['IV'].sum())\n",
        "\n",
        "\n",
        "    iv = data['IV'].sum()\n",
        "    # print(iv)\n",
        "\n",
        "    return iv, data"
      ],
      "execution_count": null,
      "outputs": []
    },
    {
      "cell_type": "code",
      "metadata": {
        "id": "yTv5MUfS_d_T",
        "outputId": "db82e5af-a2f7-4c25-e2ca-d87b819a120d",
        "colab": {
          "base_uri": "https://localhost:8080/",
          "height": 271
        }
      },
      "source": [
        "i,v=calc_iv(pdf[['target','amnt_left_per']],feature='amnt_left_per',target='target')"
      ],
      "execution_count": null,
      "outputs": [
        {
          "output_type": "stream",
          "text": [
            "/usr/local/lib/python3.6/dist-packages/ipykernel_launcher.py:14: SettingWithCopyWarning: \n",
            "A value is trying to be set on a copy of a slice from a DataFrame.\n",
            "Try using .loc[row_indexer,col_indexer] = value instead\n",
            "\n",
            "See the caveats in the documentation: https://pandas.pydata.org/pandas-docs/stable/user_guide/indexing.html#returning-a-view-versus-a-copy\n",
            "  \n",
            "/usr/local/lib/python3.6/dist-packages/ipykernel_launcher.py:16: SettingWithCopyWarning: \n",
            "A value is trying to be set on a copy of a slice from a DataFrame.\n",
            "Try using .loc[row_indexer,col_indexer] = value instead\n",
            "\n",
            "See the caveats in the documentation: https://pandas.pydata.org/pandas-docs/stable/user_guide/indexing.html#returning-a-view-versus-a-copy\n",
            "  app.launch_new_instance()\n",
            "/usr/local/lib/python3.6/dist-packages/pandas/core/series.py:679: RuntimeWarning: divide by zero encountered in log\n",
            "  result = getattr(ufunc, method)(*inputs, **kwargs)\n"
          ],
          "name": "stderr"
        }
      ]
    },
    {
      "cell_type": "code",
      "metadata": {
        "id": "PyUCWb2l5WV5",
        "outputId": "f01c7dcf-1df5-492e-d86c-394e68eeee0f",
        "colab": {
          "base_uri": "https://localhost:8080/",
          "height": 112
        }
      },
      "source": [
        "v"
      ],
      "execution_count": null,
      "outputs": [
        {
          "output_type": "execute_result",
          "data": {
            "text/html": [
              "<div>\n",
              "<style scoped>\n",
              "    .dataframe tbody tr th:only-of-type {\n",
              "        vertical-align: middle;\n",
              "    }\n",
              "\n",
              "    .dataframe tbody tr th {\n",
              "        vertical-align: top;\n",
              "    }\n",
              "\n",
              "    .dataframe thead th {\n",
              "        text-align: right;\n",
              "    }\n",
              "</style>\n",
              "<table border=\"1\" class=\"dataframe\">\n",
              "  <thead>\n",
              "    <tr style=\"text-align: right;\">\n",
              "      <th></th>\n",
              "      <th>Variable</th>\n",
              "      <th>Value</th>\n",
              "      <th>All</th>\n",
              "      <th>Good</th>\n",
              "      <th>Bad</th>\n",
              "      <th>Share</th>\n",
              "      <th>Bad Rate</th>\n",
              "      <th>Distribution Good</th>\n",
              "      <th>Distribution Bad</th>\n",
              "      <th>WoE</th>\n",
              "      <th>IV</th>\n",
              "    </tr>\n",
              "  </thead>\n",
              "  <tbody>\n",
              "    <tr>\n",
              "      <th>0</th>\n",
              "      <td>amnt_left_per</td>\n",
              "      <td>0</td>\n",
              "      <td>265229</td>\n",
              "      <td>0</td>\n",
              "      <td>265229</td>\n",
              "      <td>0.2</td>\n",
              "      <td>1.000000</td>\n",
              "      <td>0.0</td>\n",
              "      <td>0.904404</td>\n",
              "      <td>0.000000</td>\n",
              "      <td>-0.000000</td>\n",
              "    </tr>\n",
              "    <tr>\n",
              "      <th>1</th>\n",
              "      <td>amnt_left_per</td>\n",
              "      <td>1</td>\n",
              "      <td>1060916</td>\n",
              "      <td>1032881</td>\n",
              "      <td>28035</td>\n",
              "      <td>0.8</td>\n",
              "      <td>0.026425</td>\n",
              "      <td>1.0</td>\n",
              "      <td>0.095596</td>\n",
              "      <td>2.347619</td>\n",
              "      <td>2.123195</td>\n",
              "    </tr>\n",
              "  </tbody>\n",
              "</table>\n",
              "</div>"
            ],
            "text/plain": [
              "        Variable  Value      All  ...  Distribution Bad       WoE        IV\n",
              "0  amnt_left_per      0   265229  ...          0.904404  0.000000 -0.000000\n",
              "1  amnt_left_per      1  1060916  ...          0.095596  2.347619  2.123195\n",
              "\n",
              "[2 rows x 11 columns]"
            ]
          },
          "metadata": {
            "tags": []
          },
          "execution_count": 36
        }
      ]
    },
    {
      "cell_type": "code",
      "metadata": {
        "id": "9tmZqcWn41lT",
        "outputId": "169fe419-5ae3-4872-d0c0-d564c8290d53",
        "colab": {
          "base_uri": "https://localhost:8080/",
          "height": 253
        }
      },
      "source": [
        "pd.qcut(pdf['amnt_left_per'],q=10,duplicates='drop')"
      ],
      "execution_count": null,
      "outputs": [
        {
          "output_type": "execute_result",
          "data": {
            "text/plain": [
              "0           (65.275, 100.0]\n",
              "1           (65.275, 100.0]\n",
              "2           (65.275, 100.0]\n",
              "3           (65.275, 100.0]\n",
              "4           (65.275, 100.0]\n",
              "                 ...       \n",
              "1326140    (-0.001, 23.094]\n",
              "1326141     (65.275, 100.0]\n",
              "1326142     (65.275, 100.0]\n",
              "1326143    (-0.001, 23.094]\n",
              "1326144     (65.275, 100.0]\n",
              "Name: amnt_left_per, Length: 1326145, dtype: category\n",
              "Categories (3, interval[float64]): [(-0.001, 23.094] < (23.094, 65.275] < (65.275, 100.0]]"
            ]
          },
          "metadata": {
            "tags": []
          },
          "execution_count": 15
        }
      ]
    },
    {
      "cell_type": "code",
      "metadata": {
        "id": "gMParQuykWqb",
        "outputId": "19acbf5a-9902-4a53-9daa-1c8e2c0ae76d",
        "colab": {
          "base_uri": "https://localhost:8080/",
          "height": 35
        }
      },
      "source": [
        "len(pd.qcut(pdf['loan_amnt'],q=5,duplicates='drop').value_counts())"
      ],
      "execution_count": null,
      "outputs": [
        {
          "output_type": "execute_result",
          "data": {
            "text/plain": [
              "5"
            ]
          },
          "metadata": {
            "tags": []
          },
          "execution_count": 70
        }
      ]
    },
    {
      "cell_type": "code",
      "metadata": {
        "id": "M2EaPrDMu3hR",
        "outputId": "5b4e83eb-6330-4b47-83d1-e252d6ce4aef",
        "colab": {
          "base_uri": "https://localhost:8080/",
          "height": 758
        }
      },
      "source": [
        "columns = pdf.columns.to_list()\n",
        "j=0\n",
        "columns.remove('target')\n",
        "iv={}\n",
        "data = pd.DataFrame(index=None)\n",
        "for col in tqdm(pdf.columns):\n",
        "  #print(calc_iv(pdf[['target',col]],col,'target'))\n",
        "  i,d = calc_iv(pdf[['target',col]],feature=col,target='target')\n",
        "  iv[col] = i\n",
        "  if i == -1:\n",
        "    j +=1\n",
        "    continue\n",
        "  else:\n",
        "    data =data.append(d)"
      ],
      "execution_count": null,
      "outputs": [
        {
          "output_type": "stream",
          "text": [
            "\r  0%|          | 0/143 [00:00<?, ?it/s]/usr/local/lib/python3.6/dist-packages/ipykernel_launcher.py:14: SettingWithCopyWarning: \n",
            "A value is trying to be set on a copy of a slice from a DataFrame.\n",
            "Try using .loc[row_indexer,col_indexer] = value instead\n",
            "\n",
            "See the caveats in the documentation: https://pandas.pydata.org/pandas-docs/stable/user_guide/indexing.html#returning-a-view-versus-a-copy\n",
            "  \n",
            "/usr/local/lib/python3.6/dist-packages/ipykernel_launcher.py:16: SettingWithCopyWarning: \n",
            "A value is trying to be set on a copy of a slice from a DataFrame.\n",
            "Try using .loc[row_indexer,col_indexer] = value instead\n",
            "\n",
            "See the caveats in the documentation: https://pandas.pydata.org/pandas-docs/stable/user_guide/indexing.html#returning-a-view-versus-a-copy\n",
            "  app.launch_new_instance()\n",
            "  2%|▏         | 3/143 [00:01<01:11,  1.96it/s]/usr/local/lib/python3.6/dist-packages/ipykernel_launcher.py:21: SettingWithCopyWarning: \n",
            "A value is trying to be set on a copy of a slice from a DataFrame.\n",
            "Try using .loc[row_indexer,col_indexer] = value instead\n",
            "\n",
            "See the caveats in the documentation: https://pandas.pydata.org/pandas-docs/stable/user_guide/indexing.html#returning-a-view-versus-a-copy\n",
            "  7%|▋         | 10/143 [00:09<03:36,  1.63s/it]/usr/local/lib/python3.6/dist-packages/pandas/core/series.py:679: RuntimeWarning: divide by zero encountered in log\n",
            "  result = getattr(ufunc, method)(*inputs, **kwargs)\n",
            " 98%|█████████▊| 140/143 [01:09<00:01,  2.49it/s]"
          ],
          "name": "stderr"
        },
        {
          "output_type": "error",
          "ename": "AttributeError",
          "evalue": "ignored",
          "traceback": [
            "\u001b[0;31m---------------------------------------------------------------------------\u001b[0m",
            "\u001b[0;31mAttributeError\u001b[0m                            Traceback (most recent call last)",
            "\u001b[0;32m<ipython-input-7-4a98da479ee6>\u001b[0m in \u001b[0;36m<module>\u001b[0;34m()\u001b[0m\n\u001b[1;32m      6\u001b[0m \u001b[0;32mfor\u001b[0m \u001b[0mcol\u001b[0m \u001b[0;32min\u001b[0m \u001b[0mtqdm\u001b[0m\u001b[0;34m(\u001b[0m\u001b[0mpdf\u001b[0m\u001b[0;34m.\u001b[0m\u001b[0mcolumns\u001b[0m\u001b[0;34m)\u001b[0m\u001b[0;34m:\u001b[0m\u001b[0;34m\u001b[0m\u001b[0;34m\u001b[0m\u001b[0m\n\u001b[1;32m      7\u001b[0m   \u001b[0;31m#print(calc_iv(pdf[['target',col]],col,'target'))\u001b[0m\u001b[0;34m\u001b[0m\u001b[0;34m\u001b[0m\u001b[0;34m\u001b[0m\u001b[0m\n\u001b[0;32m----> 8\u001b[0;31m   \u001b[0mi\u001b[0m\u001b[0;34m,\u001b[0m\u001b[0md\u001b[0m \u001b[0;34m=\u001b[0m \u001b[0mcalc_iv\u001b[0m\u001b[0;34m(\u001b[0m\u001b[0mpdf\u001b[0m\u001b[0;34m[\u001b[0m\u001b[0;34m[\u001b[0m\u001b[0;34m'target'\u001b[0m\u001b[0;34m,\u001b[0m\u001b[0mcol\u001b[0m\u001b[0;34m]\u001b[0m\u001b[0;34m]\u001b[0m\u001b[0;34m,\u001b[0m\u001b[0mfeature\u001b[0m\u001b[0;34m=\u001b[0m\u001b[0mcol\u001b[0m\u001b[0;34m,\u001b[0m\u001b[0mtarget\u001b[0m\u001b[0;34m=\u001b[0m\u001b[0;34m'target'\u001b[0m\u001b[0;34m)\u001b[0m\u001b[0;34m\u001b[0m\u001b[0;34m\u001b[0m\u001b[0m\n\u001b[0m\u001b[1;32m      9\u001b[0m   \u001b[0miv\u001b[0m\u001b[0;34m[\u001b[0m\u001b[0mcol\u001b[0m\u001b[0;34m]\u001b[0m \u001b[0;34m=\u001b[0m \u001b[0mi\u001b[0m\u001b[0;34m\u001b[0m\u001b[0;34m\u001b[0m\u001b[0m\n\u001b[1;32m     10\u001b[0m   \u001b[0;32mif\u001b[0m \u001b[0mi\u001b[0m \u001b[0;34m==\u001b[0m \u001b[0;34m-\u001b[0m\u001b[0;36m1\u001b[0m\u001b[0;34m:\u001b[0m\u001b[0;34m\u001b[0m\u001b[0;34m\u001b[0m\u001b[0m\n",
            "\u001b[0;32m<ipython-input-6-647cfa0eaa21>\u001b[0m in \u001b[0;36mcalc_iv\u001b[0;34m(df, feature, target, pr)\u001b[0m\n\u001b[1;32m      9\u001b[0m     \u001b[0;31m#return feature + str(df[feature].dtype)\u001b[0m\u001b[0;34m\u001b[0m\u001b[0;34m\u001b[0m\u001b[0;34m\u001b[0m\u001b[0m\n\u001b[1;32m     10\u001b[0m     \u001b[0mlst\u001b[0m \u001b[0;34m=\u001b[0m \u001b[0;34m[\u001b[0m\u001b[0;34m]\u001b[0m\u001b[0;34m\u001b[0m\u001b[0;34m\u001b[0m\u001b[0m\n\u001b[0;32m---> 11\u001b[0;31m     \u001b[0;32mif\u001b[0m \u001b[0;34m(\u001b[0m\u001b[0mstr\u001b[0m\u001b[0;34m(\u001b[0m\u001b[0mdf\u001b[0m\u001b[0;34m[\u001b[0m\u001b[0mfeature\u001b[0m\u001b[0;34m]\u001b[0m\u001b[0;34m.\u001b[0m\u001b[0mdtype\u001b[0m\u001b[0;34m)\u001b[0m \u001b[0;34m==\u001b[0m \u001b[0;34m'float64'\u001b[0m\u001b[0;34m)\u001b[0m \u001b[0;32mor\u001b[0m \u001b[0;34m(\u001b[0m\u001b[0mstr\u001b[0m\u001b[0;34m(\u001b[0m\u001b[0mdf\u001b[0m\u001b[0;34m[\u001b[0m\u001b[0mfeature\u001b[0m\u001b[0;34m]\u001b[0m\u001b[0;34m.\u001b[0m\u001b[0mdtype\u001b[0m\u001b[0;34m)\u001b[0m \u001b[0;34m==\u001b[0m \u001b[0;34m'int64'\u001b[0m\u001b[0;34m)\u001b[0m\u001b[0;34m:\u001b[0m\u001b[0;34m\u001b[0m\u001b[0;34m\u001b[0m\u001b[0m\n\u001b[0m\u001b[1;32m     12\u001b[0m       \u001b[0;31m#print(feature)\u001b[0m\u001b[0;34m\u001b[0m\u001b[0;34m\u001b[0m\u001b[0;34m\u001b[0m\u001b[0m\n\u001b[1;32m     13\u001b[0m       \u001b[0;31m#print(str(df[feature].dtype))\u001b[0m\u001b[0;34m\u001b[0m\u001b[0;34m\u001b[0m\u001b[0;34m\u001b[0m\u001b[0m\n",
            "\u001b[0;32m/usr/local/lib/python3.6/dist-packages/pandas/core/generic.py\u001b[0m in \u001b[0;36m__getattr__\u001b[0;34m(self, name)\u001b[0m\n\u001b[1;32m   5272\u001b[0m             \u001b[0;32mif\u001b[0m \u001b[0mself\u001b[0m\u001b[0;34m.\u001b[0m\u001b[0m_info_axis\u001b[0m\u001b[0;34m.\u001b[0m\u001b[0m_can_hold_identifiers_and_holds_name\u001b[0m\u001b[0;34m(\u001b[0m\u001b[0mname\u001b[0m\u001b[0;34m)\u001b[0m\u001b[0;34m:\u001b[0m\u001b[0;34m\u001b[0m\u001b[0;34m\u001b[0m\u001b[0m\n\u001b[1;32m   5273\u001b[0m                 \u001b[0;32mreturn\u001b[0m \u001b[0mself\u001b[0m\u001b[0;34m[\u001b[0m\u001b[0mname\u001b[0m\u001b[0;34m]\u001b[0m\u001b[0;34m\u001b[0m\u001b[0;34m\u001b[0m\u001b[0m\n\u001b[0;32m-> 5274\u001b[0;31m             \u001b[0;32mreturn\u001b[0m \u001b[0mobject\u001b[0m\u001b[0;34m.\u001b[0m\u001b[0m__getattribute__\u001b[0m\u001b[0;34m(\u001b[0m\u001b[0mself\u001b[0m\u001b[0;34m,\u001b[0m \u001b[0mname\u001b[0m\u001b[0;34m)\u001b[0m\u001b[0;34m\u001b[0m\u001b[0;34m\u001b[0m\u001b[0m\n\u001b[0m\u001b[1;32m   5275\u001b[0m \u001b[0;34m\u001b[0m\u001b[0m\n\u001b[1;32m   5276\u001b[0m     \u001b[0;32mdef\u001b[0m \u001b[0m__setattr__\u001b[0m\u001b[0;34m(\u001b[0m\u001b[0mself\u001b[0m\u001b[0;34m,\u001b[0m \u001b[0mname\u001b[0m\u001b[0;34m:\u001b[0m \u001b[0mstr\u001b[0m\u001b[0;34m,\u001b[0m \u001b[0mvalue\u001b[0m\u001b[0;34m)\u001b[0m \u001b[0;34m->\u001b[0m \u001b[0;32mNone\u001b[0m\u001b[0;34m:\u001b[0m\u001b[0;34m\u001b[0m\u001b[0;34m\u001b[0m\u001b[0m\n",
            "\u001b[0;31mAttributeError\u001b[0m: 'DataFrame' object has no attribute 'dtype'"
          ]
        }
      ]
    },
    {
      "cell_type": "code",
      "metadata": {
        "id": "F0liqV5T-095",
        "outputId": "c3fb6ce0-1928-4aea-d8bf-c35a239761d6",
        "colab": {
          "base_uri": "https://localhost:8080/",
          "height": 175
        }
      },
      "source": [
        "data[data.Variable=='debt_settlement_flag']"
      ],
      "execution_count": null,
      "outputs": [
        {
          "output_type": "execute_result",
          "data": {
            "text/html": [
              "<div>\n",
              "<style scoped>\n",
              "    .dataframe tbody tr th:only-of-type {\n",
              "        vertical-align: middle;\n",
              "    }\n",
              "\n",
              "    .dataframe tbody tr th {\n",
              "        vertical-align: top;\n",
              "    }\n",
              "\n",
              "    .dataframe thead th {\n",
              "        text-align: right;\n",
              "    }\n",
              "</style>\n",
              "<table border=\"1\" class=\"dataframe\">\n",
              "  <thead>\n",
              "    <tr style=\"text-align: right;\">\n",
              "      <th></th>\n",
              "      <th>Variable</th>\n",
              "      <th>Value</th>\n",
              "      <th>All</th>\n",
              "      <th>Good</th>\n",
              "      <th>Bad</th>\n",
              "      <th>Share</th>\n",
              "      <th>Bad Rate</th>\n",
              "      <th>Distribution Good</th>\n",
              "      <th>Distribution Bad</th>\n",
              "      <th>WoE</th>\n",
              "      <th>IV</th>\n",
              "    </tr>\n",
              "  </thead>\n",
              "  <tbody>\n",
              "    <tr>\n",
              "      <th>0</th>\n",
              "      <td>debt_settlement_flag</td>\n",
              "      <td></td>\n",
              "      <td>102</td>\n",
              "      <td>82</td>\n",
              "      <td>20</td>\n",
              "      <td>0.000077</td>\n",
              "      <td>0.196078</td>\n",
              "      <td>0.000079</td>\n",
              "      <td>0.000068</td>\n",
              "      <td>0.151948</td>\n",
              "      <td>0.000002</td>\n",
              "    </tr>\n",
              "    <tr>\n",
              "      <th>1</th>\n",
              "      <td>debt_settlement_flag</td>\n",
              "      <td>Cash</td>\n",
              "      <td>10</td>\n",
              "      <td>6</td>\n",
              "      <td>4</td>\n",
              "      <td>0.000008</td>\n",
              "      <td>0.400000</td>\n",
              "      <td>0.000006</td>\n",
              "      <td>0.000014</td>\n",
              "      <td>-0.853574</td>\n",
              "      <td>0.000007</td>\n",
              "    </tr>\n",
              "    <tr>\n",
              "      <th>2</th>\n",
              "      <td>debt_settlement_flag</td>\n",
              "      <td>N</td>\n",
              "      <td>1293482</td>\n",
              "      <td>1032882</td>\n",
              "      <td>260600</td>\n",
              "      <td>0.975283</td>\n",
              "      <td>0.201472</td>\n",
              "      <td>0.999911</td>\n",
              "      <td>0.888543</td>\n",
              "      <td>0.118083</td>\n",
              "      <td>0.013151</td>\n",
              "    </tr>\n",
              "    <tr>\n",
              "      <th>3</th>\n",
              "      <td>debt_settlement_flag</td>\n",
              "      <td>Y</td>\n",
              "      <td>32669</td>\n",
              "      <td>4</td>\n",
              "      <td>32665</td>\n",
              "      <td>0.024632</td>\n",
              "      <td>0.999878</td>\n",
              "      <td>0.000004</td>\n",
              "      <td>0.111375</td>\n",
              "      <td>-10.266804</td>\n",
              "      <td>1.143423</td>\n",
              "    </tr>\n",
              "  </tbody>\n",
              "</table>\n",
              "</div>"
            ],
            "text/plain": [
              "               Variable Value      All  ...  Distribution Bad        WoE        IV\n",
              "0  debt_settlement_flag            102  ...          0.000068   0.151948  0.000002\n",
              "1  debt_settlement_flag  Cash       10  ...          0.000014  -0.853574  0.000007\n",
              "2  debt_settlement_flag     N  1293482  ...          0.888543   0.118083  0.013151\n",
              "3  debt_settlement_flag     Y    32669  ...          0.111375 -10.266804  1.143423\n",
              "\n",
              "[4 rows x 11 columns]"
            ]
          },
          "metadata": {
            "tags": []
          },
          "execution_count": 12
        }
      ]
    },
    {
      "cell_type": "code",
      "metadata": {
        "id": "xFw6YAantW5T",
        "outputId": "971e27f3-82bc-4454-f847-7eb47622432d",
        "colab": {
          "base_uri": "https://localhost:8080/",
          "height": 90
        }
      },
      "source": [
        "for i in iv:\n",
        "  if iv[i] >=1:\n",
        "    print(i)"
      ],
      "execution_count": null,
      "outputs": [
        {
          "output_type": "stream",
          "text": [
            "total_rec_prncp\n",
            "last_pymnt_amnt\n",
            "debt_settlement_flag\n",
            "amnt_left_per\n"
          ],
          "name": "stdout"
        }
      ]
    },
    {
      "cell_type": "code",
      "metadata": {
        "id": "7vi6hgCZVA5E"
      },
      "source": [
        "features = ['term', 'grade', 'sub_grade', 'issue_d', 'total_rec_late_fee', 'last_pymnt_d', 'last_credit_pull_d', 'mort_acc', 'hardship_start_date']"
      ],
      "execution_count": null,
      "outputs": []
    },
    {
      "cell_type": "code",
      "metadata": {
        "id": "iRwDdCUR64Cv",
        "outputId": "9d62ce5a-d8b2-450b-8bf4-e44d50ed9708",
        "colab": {
          "base_uri": "https://localhost:8080/",
          "height": 53
        }
      },
      "source": [
        "y_pred = classifier.predict(X_test)\n",
        "y_predtime = classifier.predict(timetest)\n",
        "print(accuracy_score(y_pred,y_test))\n",
        "print(accuracy_score(y_timetest,y_predtime))"
      ],
      "execution_count": null,
      "outputs": [
        {
          "output_type": "stream",
          "text": [
            "0.9362366556214188\n",
            "0.8845631824951217\n"
          ],
          "name": "stdout"
        }
      ]
    },
    {
      "cell_type": "code",
      "metadata": {
        "id": "vAwUN2WyJY5M",
        "outputId": "06bd69fb-0d63-4d33-dfce-9ae0ddcd8fe5",
        "colab": {
          "base_uri": "https://localhost:8080/",
          "height": 576
        }
      },
      "source": [
        "def estimator(params ):\n",
        "    # initialize model\n",
        "    #model = SVC(C=C, gamma=gamma, degree=1, random_state=0)\n",
        "    model = xgb.XGBClassifier(**params\n",
        "                              n_jobs = 8,\n",
        "                              objective = 'binary:logistic',\n",
        "                              #eval_metric = 'auc',\n",
        "                              #learning_rate = 0.08,\n",
        "                              silent=1,\n",
        "                              #early_stopping = 20,\n",
        "                              #n_estimators = 1000,\n",
        "                              tree_method='hist',\n",
        "                              grow_policy='lossguide',\n",
        "                              #num_class=3,\n",
        "                              #early_stopping_rounds=30\n",
        "                              )\n",
        "    # set in cross-validation\n",
        "    result = cross_validate(model, X_train, y_train, cv=5,scoring='auc',n_jobs=8)\n",
        "    # result is mean of test_score\n",
        "    return result\n",
        "\n",
        "hparams = {\n",
        "        'min_child_weight': (15, 20),\n",
        "        'max_depth': (6, 8),\n",
        "        'max_delta_step': (0, 20),\n",
        "        'subsample': (0.01, 1.0, 'uniform'),\n",
        "        'colsample_bytree': (0.01, 1.0, 'uniform'),\n",
        "        'colsample_bylevel': (0.01, 1.0, 'uniform'),\n",
        "        'reg_lambda': (1e-2, 1000, 'log-uniform'),\n",
        "        'reg_alpha': (1e-2, 1.0, 'log-uniform'),\n",
        "        'gamma': (1e-2, 0.5, 'log-uniform'),\n",
        "        'min_child_weight': (0, 20),\n",
        "        'scale_pos_weight': (1e-6, 500, 'log-uniform')\n",
        "    }\n",
        "\n",
        "# give model and hyperparameter to optmizer\n",
        "svc_bayesopt = BayesianOptimization(estimator, hparams)"
      ],
      "execution_count": null,
      "outputs": [
        {
          "output_type": "error",
          "ename": "ValueError",
          "evalue": "ignored",
          "traceback": [
            "\u001b[0;31m---------------------------------------------------------------------------\u001b[0m",
            "\u001b[0;31mTypeError\u001b[0m                                 Traceback (most recent call last)",
            "\u001b[0;31mTypeError\u001b[0m: float() argument must be a string or a number, not 'tuple'",
            "\nThe above exception was the direct cause of the following exception:\n",
            "\u001b[0;31mValueError\u001b[0m                                Traceback (most recent call last)",
            "\u001b[0;32m<ipython-input-55-36c93bcbe300>\u001b[0m in \u001b[0;36m<module>\u001b[0;34m()\u001b[0m\n\u001b[1;32m     37\u001b[0m \u001b[0;34m\u001b[0m\u001b[0m\n\u001b[1;32m     38\u001b[0m \u001b[0;31m# give model and hyperparameter to optmizer\u001b[0m\u001b[0;34m\u001b[0m\u001b[0;34m\u001b[0m\u001b[0;34m\u001b[0m\u001b[0m\n\u001b[0;32m---> 39\u001b[0;31m \u001b[0msvc_bayesopt\u001b[0m \u001b[0;34m=\u001b[0m \u001b[0mBayesianOptimization\u001b[0m\u001b[0;34m(\u001b[0m\u001b[0mestimator\u001b[0m\u001b[0;34m,\u001b[0m \u001b[0mhparams\u001b[0m\u001b[0;34m)\u001b[0m\u001b[0;34m\u001b[0m\u001b[0;34m\u001b[0m\u001b[0m\n\u001b[0m",
            "\u001b[0;32m/usr/local/lib/python3.6/dist-packages/bayes_opt/bayesian_optimization.py\u001b[0m in \u001b[0;36m__init__\u001b[0;34m(self, f, pbounds, random_state, verbose, bounds_transformer)\u001b[0m\n\u001b[1;32m     71\u001b[0m         \u001b[0;31m# Data structure containing the function to be optimized, the bounds of\u001b[0m\u001b[0;34m\u001b[0m\u001b[0;34m\u001b[0m\u001b[0;34m\u001b[0m\u001b[0m\n\u001b[1;32m     72\u001b[0m         \u001b[0;31m# its domain, and a record of the evaluations we have done so far\u001b[0m\u001b[0;34m\u001b[0m\u001b[0;34m\u001b[0m\u001b[0;34m\u001b[0m\u001b[0m\n\u001b[0;32m---> 73\u001b[0;31m         \u001b[0mself\u001b[0m\u001b[0;34m.\u001b[0m\u001b[0m_space\u001b[0m \u001b[0;34m=\u001b[0m \u001b[0mTargetSpace\u001b[0m\u001b[0;34m(\u001b[0m\u001b[0mf\u001b[0m\u001b[0;34m,\u001b[0m \u001b[0mpbounds\u001b[0m\u001b[0;34m,\u001b[0m \u001b[0mrandom_state\u001b[0m\u001b[0;34m)\u001b[0m\u001b[0;34m\u001b[0m\u001b[0;34m\u001b[0m\u001b[0m\n\u001b[0m\u001b[1;32m     74\u001b[0m \u001b[0;34m\u001b[0m\u001b[0m\n\u001b[1;32m     75\u001b[0m         \u001b[0;31m# queue\u001b[0m\u001b[0;34m\u001b[0m\u001b[0;34m\u001b[0m\u001b[0;34m\u001b[0m\u001b[0m\n",
            "\u001b[0;32m/usr/local/lib/python3.6/dist-packages/bayes_opt/target_space.py\u001b[0m in \u001b[0;36m__init__\u001b[0;34m(self, target_func, pbounds, random_state)\u001b[0m\n\u001b[1;32m     47\u001b[0m         self._bounds = np.array(\n\u001b[1;32m     48\u001b[0m             \u001b[0;34m[\u001b[0m\u001b[0mitem\u001b[0m\u001b[0;34m[\u001b[0m\u001b[0;36m1\u001b[0m\u001b[0;34m]\u001b[0m \u001b[0;32mfor\u001b[0m \u001b[0mitem\u001b[0m \u001b[0;32min\u001b[0m \u001b[0msorted\u001b[0m\u001b[0;34m(\u001b[0m\u001b[0mpbounds\u001b[0m\u001b[0;34m.\u001b[0m\u001b[0mitems\u001b[0m\u001b[0;34m(\u001b[0m\u001b[0;34m)\u001b[0m\u001b[0;34m,\u001b[0m \u001b[0mkey\u001b[0m\u001b[0;34m=\u001b[0m\u001b[0;32mlambda\u001b[0m \u001b[0mx\u001b[0m\u001b[0;34m:\u001b[0m \u001b[0mx\u001b[0m\u001b[0;34m[\u001b[0m\u001b[0;36m0\u001b[0m\u001b[0;34m]\u001b[0m\u001b[0;34m)\u001b[0m\u001b[0;34m]\u001b[0m\u001b[0;34m,\u001b[0m\u001b[0;34m\u001b[0m\u001b[0;34m\u001b[0m\u001b[0m\n\u001b[0;32m---> 49\u001b[0;31m             \u001b[0mdtype\u001b[0m\u001b[0;34m=\u001b[0m\u001b[0mnp\u001b[0m\u001b[0;34m.\u001b[0m\u001b[0mfloat\u001b[0m\u001b[0;34m\u001b[0m\u001b[0;34m\u001b[0m\u001b[0m\n\u001b[0m\u001b[1;32m     50\u001b[0m         )\n\u001b[1;32m     51\u001b[0m \u001b[0;34m\u001b[0m\u001b[0m\n",
            "\u001b[0;31mValueError\u001b[0m: setting an array element with a sequence."
          ]
        }
      ]
    },
    {
      "cell_type": "code",
      "metadata": {
        "id": "ch02R2XObGxh",
        "outputId": "d4cdf71f-24eb-4ca7-f1b7-aacfbb17b4fd",
        "colab": {
          "base_uri": "https://localhost:8080/",
          "height": 1000
        }
      },
      "source": [
        "from sklearn.model_selection import RandomizedSearchCV\n",
        "import xgboost as xgb\n",
        "bayes_cv_tuner = RandomizedSearchCV(estimator = xgb.XGBClassifier(\n",
        "                                n_jobs = 8,\n",
        "                                objective = 'binary:logistic',\n",
        "                                #eval_metric = 'auc_ro',\n",
        "                                learning_rate = 0.08,\n",
        "                                silent=1,\n",
        "                                #early_stopping = 20,\n",
        "                                n_estimators = 1000,\n",
        "                                tree_method='gpu_hist',\n",
        "                                #grow_policy='lossguide',\n",
        "                                #num_class=3,\n",
        "                                #early_stopping_rounds=30\n",
        "                                ),\n",
        "    param_distributions = {\n",
        "        'max_depth': (6, 8),\n",
        "        'max_delta_step': (0, 20),\n",
        "        'subsample': (0.01, 1.0, 'uniform'),\n",
        "        'colsample_bytree': (0.01, 1.0, 'uniform'),\n",
        "        'colsample_bylevel': (0.01, 1.0, 'uniform'),\n",
        "        'reg_lambda': (1e-2, 1000, 'log-uniform'),\n",
        "        'reg_alpha': (1e-2, 1.0, 'log-uniform'),\n",
        "        'gamma': (1e-2, 0.5, 'log-uniform'),\n",
        "        'min_child_weight': (0, 20),\n",
        "        'scale_pos_weight': (1e-6, 500, 'log-uniform'),\n",
        "        \n",
        "    },    \n",
        "    scoring = 'roc_auc',\n",
        "    cv = StratifiedKFold(\n",
        "        n_splits=5,\n",
        "        shuffle=True,\n",
        "        random_state=42),\n",
        "    n_jobs = 8,\n",
        "    n_iter = 300,   \n",
        "    verbose = 500,\n",
        "    refit = True,\n",
        "    random_state = 12345)\n",
        "\n",
        "def status_print(optim_result):\n",
        "    \"\"\"Status callback durring bayesian hyperparameter search\"\"\"\n",
        "    # Get all the models tested so far in DataFrame format\n",
        "    all_models = pd.DataFrame(bayes_cv_tuner.cv_results_)    \n",
        "    # Get current parameters and the best parameters    \n",
        "    best_params = pd.Series(bayes_cv_tuner.best_params_)\n",
        "    print('Model #{}\\nBest ROC-AUC: {}\\nBest params: {}\\n'.format(\n",
        "        len(all_models),\n",
        "        np.round(bayes_cv_tuner.best_score_, 4),\n",
        "        bayes_cv_tuner.best_params_\n",
        "    )) \n",
        "    # Save all model results\n",
        "    clf_name = bayes_cv_tuner.estimator.__class__.__name__\n",
        "    all_models.to_csv(clf_name + \"2_cv_results.csv\")\n",
        "\n",
        "result = bayes_cv_tuner.fit(X_train, y_train)"
      ],
      "execution_count": null,
      "outputs": [
        {
          "output_type": "stream",
          "text": [
            "Fitting 5 folds for each of 300 candidates, totalling 1500 fits\n",
            "[Parallel(n_jobs=8)]: Using backend LokyBackend with 8 concurrent workers.\n",
            "[Parallel(n_jobs=8)]: Done   1 tasks      | elapsed:    1.9s\n",
            "[Parallel(n_jobs=8)]: Done   2 tasks      | elapsed:    2.4s\n",
            "[Parallel(n_jobs=8)]: Done   3 tasks      | elapsed:    2.7s\n",
            "[Parallel(n_jobs=8)]: Done   4 tasks      | elapsed:    2.9s\n",
            "[Parallel(n_jobs=8)]: Done   5 tasks      | elapsed:    3.1s\n",
            "[Parallel(n_jobs=8)]: Done   6 tasks      | elapsed:    3.3s\n",
            "[Parallel(n_jobs=8)]: Done   7 tasks      | elapsed:    3.4s\n",
            "[Parallel(n_jobs=8)]: Done   8 tasks      | elapsed:    3.6s\n",
            "[Parallel(n_jobs=8)]: Done   9 tasks      | elapsed:    4.4s\n",
            "[Parallel(n_jobs=8)]: Done  10 tasks      | elapsed:    5.2s\n",
            "[Parallel(n_jobs=8)]: Done  11 tasks      | elapsed:    5.5s\n",
            "[Parallel(n_jobs=8)]: Done  12 tasks      | elapsed:    5.6s\n",
            "[Parallel(n_jobs=8)]: Done  13 tasks      | elapsed:    5.8s\n",
            "[Parallel(n_jobs=8)]: Done  14 tasks      | elapsed:    6.7s\n",
            "[Parallel(n_jobs=8)]: Done  15 tasks      | elapsed:    6.7s\n"
          ],
          "name": "stdout"
        },
        {
          "output_type": "stream",
          "text": [
            "/usr/local/lib/python3.6/dist-packages/joblib/externals/loky/process_executor.py:691: UserWarning: A worker stopped while some jobs were given to the executor. This can be caused by a too short worker timeout or by a memory leak.\n",
            "  \"timeout or by a memory leak.\", UserWarning\n"
          ],
          "name": "stderr"
        },
        {
          "output_type": "stream",
          "text": [
            "[Parallel(n_jobs=8)]: Done  16 tasks      | elapsed:    7.7s\n",
            "[Parallel(n_jobs=8)]: Done  17 tasks      | elapsed:    8.4s\n",
            "[Parallel(n_jobs=8)]: Done  18 tasks      | elapsed:    8.6s\n",
            "[Parallel(n_jobs=8)]: Done  19 tasks      | elapsed:    8.9s\n",
            "[Parallel(n_jobs=8)]: Done  20 tasks      | elapsed:    8.9s\n",
            "[Parallel(n_jobs=8)]: Done  21 tasks      | elapsed:    9.6s\n",
            "[Parallel(n_jobs=8)]: Done  22 tasks      | elapsed:   11.2s\n",
            "[Parallel(n_jobs=8)]: Done  23 tasks      | elapsed:   11.8s\n",
            "[Parallel(n_jobs=8)]: Done  24 tasks      | elapsed:   12.9s\n",
            "[Parallel(n_jobs=8)]: Done  25 tasks      | elapsed:   13.1s\n",
            "[Parallel(n_jobs=8)]: Done  26 tasks      | elapsed:   13.3s\n",
            "[Parallel(n_jobs=8)]: Done  27 tasks      | elapsed:   13.8s\n",
            "[Parallel(n_jobs=8)]: Done  28 tasks      | elapsed:   13.8s\n",
            "[Parallel(n_jobs=8)]: Done  29 tasks      | elapsed:   15.1s\n",
            "[Parallel(n_jobs=8)]: Done  30 tasks      | elapsed:   15.3s\n",
            "[Parallel(n_jobs=8)]: Done  31 tasks      | elapsed:   15.4s\n",
            "[Parallel(n_jobs=8)]: Done  32 tasks      | elapsed:   16.1s\n",
            "[Parallel(n_jobs=8)]: Done  33 tasks      | elapsed:   16.2s\n",
            "[Parallel(n_jobs=8)]: Done  34 tasks      | elapsed:   16.4s\n",
            "[Parallel(n_jobs=8)]: Done  35 tasks      | elapsed:   16.9s\n",
            "[Parallel(n_jobs=8)]: Done  36 tasks      | elapsed:   17.2s\n",
            "[Parallel(n_jobs=8)]: Done  37 tasks      | elapsed:   17.8s\n",
            "[Parallel(n_jobs=8)]: Done  38 tasks      | elapsed:   18.5s\n",
            "[Parallel(n_jobs=8)]: Done  39 tasks      | elapsed:   18.5s\n",
            "[Parallel(n_jobs=8)]: Done  40 tasks      | elapsed:   19.1s\n",
            "[Parallel(n_jobs=8)]: Done  41 tasks      | elapsed:   19.1s\n",
            "[Parallel(n_jobs=8)]: Done  42 tasks      | elapsed:   19.1s\n",
            "[Parallel(n_jobs=8)]: Done  43 tasks      | elapsed:   20.4s\n",
            "[Parallel(n_jobs=8)]: Done  44 tasks      | elapsed:   20.8s\n",
            "[Parallel(n_jobs=8)]: Done  45 tasks      | elapsed:   21.4s\n",
            "[Parallel(n_jobs=8)]: Done  46 tasks      | elapsed:   22.0s\n",
            "[Parallel(n_jobs=8)]: Done  47 tasks      | elapsed:   22.5s\n",
            "[Parallel(n_jobs=8)]: Done  48 tasks      | elapsed:   23.5s\n",
            "[Parallel(n_jobs=8)]: Done  49 tasks      | elapsed:   24.0s\n",
            "[Parallel(n_jobs=8)]: Done  50 tasks      | elapsed:   25.1s\n",
            "[Parallel(n_jobs=8)]: Done  51 tasks      | elapsed:   26.1s\n",
            "[Parallel(n_jobs=8)]: Done  52 tasks      | elapsed:   26.1s\n",
            "[Parallel(n_jobs=8)]: Done  53 tasks      | elapsed:   26.4s\n",
            "[Parallel(n_jobs=8)]: Done  54 tasks      | elapsed:   26.5s\n",
            "[Parallel(n_jobs=8)]: Done  55 tasks      | elapsed:   27.1s\n",
            "[Parallel(n_jobs=8)]: Done  56 tasks      | elapsed:   27.9s\n",
            "[Parallel(n_jobs=8)]: Done  57 tasks      | elapsed:   27.9s\n",
            "[Parallel(n_jobs=8)]: Done  58 tasks      | elapsed:   28.3s\n",
            "[Parallel(n_jobs=8)]: Done  59 tasks      | elapsed:   28.5s\n",
            "[Parallel(n_jobs=8)]: Done  60 tasks      | elapsed:   29.2s\n",
            "[Parallel(n_jobs=8)]: Done  61 tasks      | elapsed:   29.2s\n",
            "[Parallel(n_jobs=8)]: Done  62 tasks      | elapsed:   29.8s\n",
            "[Parallel(n_jobs=8)]: Done  63 tasks      | elapsed:   31.1s\n",
            "[Parallel(n_jobs=8)]: Done  64 tasks      | elapsed:   31.3s\n",
            "[Parallel(n_jobs=8)]: Done  65 tasks      | elapsed:   32.0s\n",
            "[Parallel(n_jobs=8)]: Done  66 tasks      | elapsed:   32.0s\n",
            "[Parallel(n_jobs=8)]: Done  67 tasks      | elapsed:   32.6s\n",
            "[Parallel(n_jobs=8)]: Done  68 tasks      | elapsed:   32.6s\n",
            "[Parallel(n_jobs=8)]: Done  69 tasks      | elapsed:   33.8s\n",
            "[Parallel(n_jobs=8)]: Done  70 tasks      | elapsed:   33.9s\n",
            "[Parallel(n_jobs=8)]: Done  71 tasks      | elapsed:   34.8s\n",
            "[Parallel(n_jobs=8)]: Done  72 tasks      | elapsed:   34.8s\n",
            "[Parallel(n_jobs=8)]: Done  73 tasks      | elapsed:   35.3s\n",
            "[Parallel(n_jobs=8)]: Done  74 tasks      | elapsed:   35.3s\n",
            "[Parallel(n_jobs=8)]: Done  75 tasks      | elapsed:   37.9s\n",
            "[Parallel(n_jobs=8)]: Done  76 tasks      | elapsed:   40.0s\n",
            "[Parallel(n_jobs=8)]: Done  77 tasks      | elapsed:   40.6s\n",
            "[Parallel(n_jobs=8)]: Done  78 tasks      | elapsed:   41.1s\n",
            "[Parallel(n_jobs=8)]: Done  79 tasks      | elapsed:   42.6s\n",
            "[Parallel(n_jobs=8)]: Done  80 tasks      | elapsed:   43.2s\n",
            "[Parallel(n_jobs=8)]: Done  81 tasks      | elapsed:   45.6s\n",
            "[Parallel(n_jobs=8)]: Done  82 tasks      | elapsed:   47.9s\n",
            "[Parallel(n_jobs=8)]: Done  83 tasks      | elapsed:   48.8s\n",
            "[Parallel(n_jobs=8)]: Done  84 tasks      | elapsed:   48.8s\n",
            "[Parallel(n_jobs=8)]: Done  85 tasks      | elapsed:   50.6s\n",
            "[Parallel(n_jobs=8)]: Done  86 tasks      | elapsed:   51.2s\n",
            "[Parallel(n_jobs=8)]: Done  87 tasks      | elapsed:   53.9s\n",
            "[Parallel(n_jobs=8)]: Done  88 tasks      | elapsed:   55.9s\n",
            "[Parallel(n_jobs=8)]: Done  89 tasks      | elapsed:   56.4s\n",
            "[Parallel(n_jobs=8)]: Done  90 tasks      | elapsed:   56.5s\n",
            "[Parallel(n_jobs=8)]: Done  91 tasks      | elapsed:   58.3s\n",
            "[Parallel(n_jobs=8)]: Done  92 tasks      | elapsed:   58.9s\n",
            "[Parallel(n_jobs=8)]: Done  93 tasks      | elapsed:  1.0min\n",
            "[Parallel(n_jobs=8)]: Done  94 tasks      | elapsed:  1.1min\n",
            "[Parallel(n_jobs=8)]: Done  95 tasks      | elapsed:  1.1min\n",
            "[Parallel(n_jobs=8)]: Done  96 tasks      | elapsed:  1.1min\n",
            "[Parallel(n_jobs=8)]: Done  97 tasks      | elapsed:  1.1min\n",
            "[Parallel(n_jobs=8)]: Done  98 tasks      | elapsed:  1.1min\n",
            "[Parallel(n_jobs=8)]: Done  99 tasks      | elapsed:  1.2min\n",
            "[Parallel(n_jobs=8)]: Done 100 tasks      | elapsed:  1.2min\n",
            "[Parallel(n_jobs=8)]: Done 101 tasks      | elapsed:  1.2min\n",
            "[Parallel(n_jobs=8)]: Done 102 tasks      | elapsed:  1.2min\n",
            "[Parallel(n_jobs=8)]: Done 103 tasks      | elapsed:  1.2min\n",
            "[Parallel(n_jobs=8)]: Done 104 tasks      | elapsed:  1.2min\n",
            "[Parallel(n_jobs=8)]: Done 105 tasks      | elapsed:  1.3min\n",
            "[Parallel(n_jobs=8)]: Done 106 tasks      | elapsed:  1.3min\n",
            "[Parallel(n_jobs=8)]: Done 107 tasks      | elapsed:  1.3min\n",
            "[Parallel(n_jobs=8)]: Done 108 tasks      | elapsed:  1.3min\n",
            "[Parallel(n_jobs=8)]: Done 109 tasks      | elapsed:  1.3min\n",
            "[Parallel(n_jobs=8)]: Done 110 tasks      | elapsed:  1.4min\n",
            "[Parallel(n_jobs=8)]: Done 111 tasks      | elapsed:  1.4min\n",
            "[Parallel(n_jobs=8)]: Done 112 tasks      | elapsed:  1.4min\n",
            "[Parallel(n_jobs=8)]: Done 113 tasks      | elapsed:  1.4min\n",
            "[Parallel(n_jobs=8)]: Done 114 tasks      | elapsed:  1.4min\n",
            "[Parallel(n_jobs=8)]: Done 115 tasks      | elapsed:  1.4min\n",
            "[Parallel(n_jobs=8)]: Done 116 tasks      | elapsed:  1.5min\n",
            "[Parallel(n_jobs=8)]: Done 117 tasks      | elapsed:  1.5min\n",
            "[Parallel(n_jobs=8)]: Done 118 tasks      | elapsed:  1.5min\n",
            "[Parallel(n_jobs=8)]: Done 119 tasks      | elapsed:  1.5min\n",
            "[Parallel(n_jobs=8)]: Done 120 tasks      | elapsed:  1.5min\n",
            "[Parallel(n_jobs=8)]: Done 121 tasks      | elapsed:  1.6min\n",
            "[Parallel(n_jobs=8)]: Done 122 tasks      | elapsed:  1.6min\n",
            "[Parallel(n_jobs=8)]: Done 123 tasks      | elapsed:  1.6min\n",
            "[Parallel(n_jobs=8)]: Done 124 tasks      | elapsed:  1.6min\n",
            "[Parallel(n_jobs=8)]: Done 125 tasks      | elapsed:  1.6min\n",
            "[Parallel(n_jobs=8)]: Done 126 tasks      | elapsed:  1.6min\n",
            "[Parallel(n_jobs=8)]: Done 127 tasks      | elapsed:  1.7min\n",
            "[Parallel(n_jobs=8)]: Done 128 tasks      | elapsed:  1.7min\n",
            "[Parallel(n_jobs=8)]: Done 129 tasks      | elapsed:  1.7min\n",
            "[Parallel(n_jobs=8)]: Done 130 tasks      | elapsed:  1.7min\n",
            "[Parallel(n_jobs=8)]: Done 131 tasks      | elapsed:  1.8min\n",
            "[Parallel(n_jobs=8)]: Done 132 tasks      | elapsed:  1.8min\n",
            "[Parallel(n_jobs=8)]: Done 133 tasks      | elapsed:  1.8min\n",
            "[Parallel(n_jobs=8)]: Done 134 tasks      | elapsed:  1.8min\n",
            "[Parallel(n_jobs=8)]: Done 135 tasks      | elapsed:  1.9min\n",
            "[Parallel(n_jobs=8)]: Done 136 tasks      | elapsed:  1.9min\n",
            "[Parallel(n_jobs=8)]: Done 137 tasks      | elapsed:  1.9min\n",
            "[Parallel(n_jobs=8)]: Done 138 tasks      | elapsed:  1.9min\n",
            "[Parallel(n_jobs=8)]: Done 139 tasks      | elapsed:  1.9min\n",
            "[Parallel(n_jobs=8)]: Done 140 tasks      | elapsed:  2.0min\n",
            "[Parallel(n_jobs=8)]: Done 141 tasks      | elapsed:  2.0min\n",
            "[Parallel(n_jobs=8)]: Done 142 tasks      | elapsed:  2.0min\n",
            "[Parallel(n_jobs=8)]: Done 143 tasks      | elapsed:  2.0min\n",
            "[Parallel(n_jobs=8)]: Done 144 tasks      | elapsed:  2.0min\n",
            "[Parallel(n_jobs=8)]: Done 145 tasks      | elapsed:  2.1min\n",
            "[Parallel(n_jobs=8)]: Done 146 tasks      | elapsed:  2.1min\n",
            "[Parallel(n_jobs=8)]: Done 147 tasks      | elapsed:  2.1min\n",
            "[Parallel(n_jobs=8)]: Done 148 tasks      | elapsed:  2.1min\n",
            "[Parallel(n_jobs=8)]: Done 149 tasks      | elapsed:  2.2min\n",
            "[Parallel(n_jobs=8)]: Done 150 tasks      | elapsed:  2.2min\n",
            "[Parallel(n_jobs=8)]: Done 151 tasks      | elapsed:  2.2min\n",
            "[Parallel(n_jobs=8)]: Done 152 tasks      | elapsed:  2.2min\n",
            "[Parallel(n_jobs=8)]: Done 153 tasks      | elapsed:  2.2min\n",
            "[Parallel(n_jobs=8)]: Done 154 tasks      | elapsed:  2.2min\n",
            "[Parallel(n_jobs=8)]: Done 155 tasks      | elapsed:  2.3min\n",
            "[Parallel(n_jobs=8)]: Done 156 tasks      | elapsed:  2.3min\n",
            "[Parallel(n_jobs=8)]: Done 157 tasks      | elapsed:  2.3min\n",
            "[Parallel(n_jobs=8)]: Done 158 tasks      | elapsed:  2.3min\n",
            "[Parallel(n_jobs=8)]: Done 159 tasks      | elapsed:  2.3min\n",
            "[Parallel(n_jobs=8)]: Done 160 tasks      | elapsed:  2.4min\n",
            "[Parallel(n_jobs=8)]: Done 161 tasks      | elapsed:  2.4min\n",
            "[Parallel(n_jobs=8)]: Done 162 tasks      | elapsed:  2.4min\n",
            "[Parallel(n_jobs=8)]: Done 163 tasks      | elapsed:  2.4min\n",
            "[Parallel(n_jobs=8)]: Done 164 tasks      | elapsed:  2.4min\n",
            "[Parallel(n_jobs=8)]: Done 165 tasks      | elapsed:  2.4min\n",
            "[Parallel(n_jobs=8)]: Done 166 tasks      | elapsed:  2.4min\n",
            "[Parallel(n_jobs=8)]: Done 167 tasks      | elapsed:  2.4min\n",
            "[Parallel(n_jobs=8)]: Done 168 tasks      | elapsed:  2.5min\n",
            "[Parallel(n_jobs=8)]: Done 169 tasks      | elapsed:  2.5min\n",
            "[Parallel(n_jobs=8)]: Done 170 tasks      | elapsed:  2.5min\n",
            "[Parallel(n_jobs=8)]: Done 171 tasks      | elapsed:  2.5min\n",
            "[Parallel(n_jobs=8)]: Done 172 tasks      | elapsed:  2.5min\n",
            "[Parallel(n_jobs=8)]: Done 173 tasks      | elapsed:  2.5min\n",
            "[Parallel(n_jobs=8)]: Done 174 tasks      | elapsed:  2.5min\n",
            "[Parallel(n_jobs=8)]: Done 175 tasks      | elapsed:  2.5min\n",
            "[Parallel(n_jobs=8)]: Done 176 tasks      | elapsed:  2.5min\n",
            "[Parallel(n_jobs=8)]: Done 177 tasks      | elapsed:  2.5min\n",
            "[Parallel(n_jobs=8)]: Done 178 tasks      | elapsed:  2.5min\n",
            "[Parallel(n_jobs=8)]: Done 179 tasks      | elapsed:  2.6min\n",
            "[Parallel(n_jobs=8)]: Done 180 tasks      | elapsed:  2.6min\n",
            "[Parallel(n_jobs=8)]: Done 181 tasks      | elapsed:  2.6min\n",
            "[Parallel(n_jobs=8)]: Done 182 tasks      | elapsed:  2.6min\n",
            "[Parallel(n_jobs=8)]: Done 183 tasks      | elapsed:  2.6min\n",
            "[Parallel(n_jobs=8)]: Done 184 tasks      | elapsed:  2.6min\n",
            "[Parallel(n_jobs=8)]: Done 185 tasks      | elapsed:  2.6min\n",
            "[Parallel(n_jobs=8)]: Done 186 tasks      | elapsed:  2.6min\n",
            "[Parallel(n_jobs=8)]: Done 187 tasks      | elapsed:  2.7min\n",
            "[Parallel(n_jobs=8)]: Done 188 tasks      | elapsed:  2.7min\n",
            "[Parallel(n_jobs=8)]: Done 189 tasks      | elapsed:  2.7min\n",
            "[Parallel(n_jobs=8)]: Done 190 tasks      | elapsed:  2.7min\n",
            "[Parallel(n_jobs=8)]: Done 191 tasks      | elapsed:  8.3min\n",
            "[Parallel(n_jobs=8)]: Done 192 tasks      | elapsed:  8.5min\n",
            "[Parallel(n_jobs=8)]: Done 193 tasks      | elapsed:  8.5min\n",
            "[Parallel(n_jobs=8)]: Done 194 tasks      | elapsed:  8.6min\n",
            "[Parallel(n_jobs=8)]: Done 195 tasks      | elapsed:  8.7min\n",
            "[Parallel(n_jobs=8)]: Done 196 tasks      | elapsed:  8.7min\n",
            "[Parallel(n_jobs=8)]: Done 197 tasks      | elapsed:  8.8min\n",
            "[Parallel(n_jobs=8)]: Done 198 tasks      | elapsed:  8.8min\n",
            "[Parallel(n_jobs=8)]: Done 199 tasks      | elapsed:  8.8min\n",
            "[Parallel(n_jobs=8)]: Done 200 tasks      | elapsed:  8.8min\n",
            "[Parallel(n_jobs=8)]: Done 201 tasks      | elapsed:  8.8min\n",
            "[Parallel(n_jobs=8)]: Done 202 tasks      | elapsed:  8.9min\n",
            "[Parallel(n_jobs=8)]: Done 203 tasks      | elapsed:  8.9min\n",
            "[Parallel(n_jobs=8)]: Done 204 tasks      | elapsed:  8.9min\n",
            "[Parallel(n_jobs=8)]: Done 205 tasks      | elapsed:  8.9min\n",
            "[Parallel(n_jobs=8)]: Done 206 tasks      | elapsed:  8.9min\n",
            "[Parallel(n_jobs=8)]: Done 207 tasks      | elapsed:  8.9min\n",
            "[Parallel(n_jobs=8)]: Done 208 tasks      | elapsed:  8.9min\n",
            "[Parallel(n_jobs=8)]: Done 209 tasks      | elapsed:  8.9min\n",
            "[Parallel(n_jobs=8)]: Done 210 tasks      | elapsed:  8.9min\n",
            "[Parallel(n_jobs=8)]: Done 211 tasks      | elapsed:  8.9min\n",
            "[Parallel(n_jobs=8)]: Done 212 tasks      | elapsed:  9.0min\n",
            "[Parallel(n_jobs=8)]: Done 213 tasks      | elapsed:  9.0min\n",
            "[Parallel(n_jobs=8)]: Done 214 tasks      | elapsed:  9.0min\n",
            "[Parallel(n_jobs=8)]: Done 215 tasks      | elapsed:  9.0min\n",
            "[Parallel(n_jobs=8)]: Done 216 tasks      | elapsed:  9.0min\n",
            "[Parallel(n_jobs=8)]: Done 217 tasks      | elapsed:  9.0min\n",
            "[Parallel(n_jobs=8)]: Done 218 tasks      | elapsed:  9.0min\n",
            "[Parallel(n_jobs=8)]: Done 219 tasks      | elapsed:  9.1min\n",
            "[Parallel(n_jobs=8)]: Done 220 tasks      | elapsed:  9.1min\n",
            "[Parallel(n_jobs=8)]: Done 221 tasks      | elapsed:  9.1min\n",
            "[Parallel(n_jobs=8)]: Done 222 tasks      | elapsed:  9.1min\n",
            "[Parallel(n_jobs=8)]: Done 223 tasks      | elapsed:  9.1min\n",
            "[Parallel(n_jobs=8)]: Done 224 tasks      | elapsed:  9.1min\n",
            "[Parallel(n_jobs=8)]: Done 225 tasks      | elapsed:  9.1min\n",
            "[Parallel(n_jobs=8)]: Done 226 tasks      | elapsed:  9.1min\n",
            "[Parallel(n_jobs=8)]: Done 227 tasks      | elapsed:  9.1min\n",
            "[Parallel(n_jobs=8)]: Done 228 tasks      | elapsed:  9.1min\n",
            "[Parallel(n_jobs=8)]: Done 229 tasks      | elapsed:  9.2min\n",
            "[Parallel(n_jobs=8)]: Done 230 tasks      | elapsed:  9.2min\n",
            "[Parallel(n_jobs=8)]: Done 231 tasks      | elapsed:  9.2min\n",
            "[Parallel(n_jobs=8)]: Done 232 tasks      | elapsed:  9.2min\n",
            "[Parallel(n_jobs=8)]: Done 233 tasks      | elapsed:  9.2min\n",
            "[Parallel(n_jobs=8)]: Done 234 tasks      | elapsed:  9.2min\n",
            "[Parallel(n_jobs=8)]: Done 235 tasks      | elapsed:  9.2min\n",
            "[Parallel(n_jobs=8)]: Done 236 tasks      | elapsed:  9.2min\n",
            "[Parallel(n_jobs=8)]: Done 237 tasks      | elapsed:  9.2min\n",
            "[Parallel(n_jobs=8)]: Done 238 tasks      | elapsed:  9.2min\n",
            "[Parallel(n_jobs=8)]: Done 239 tasks      | elapsed:  9.3min\n",
            "[Parallel(n_jobs=8)]: Done 240 tasks      | elapsed:  9.3min\n",
            "[Parallel(n_jobs=8)]: Done 241 tasks      | elapsed:  9.3min\n",
            "[Parallel(n_jobs=8)]: Done 242 tasks      | elapsed:  9.3min\n",
            "[Parallel(n_jobs=8)]: Done 243 tasks      | elapsed:  9.3min\n",
            "[Parallel(n_jobs=8)]: Done 244 tasks      | elapsed:  9.3min\n",
            "[Parallel(n_jobs=8)]: Done 245 tasks      | elapsed:  9.3min\n",
            "[Parallel(n_jobs=8)]: Done 246 tasks      | elapsed:  9.3min\n",
            "[Parallel(n_jobs=8)]: Done 247 tasks      | elapsed:  9.4min\n",
            "[Parallel(n_jobs=8)]: Done 248 tasks      | elapsed:  9.4min\n",
            "[Parallel(n_jobs=8)]: Done 249 tasks      | elapsed:  9.4min\n",
            "[Parallel(n_jobs=8)]: Done 250 tasks      | elapsed:  9.4min\n",
            "[Parallel(n_jobs=8)]: Done 251 tasks      | elapsed:  9.4min\n",
            "[Parallel(n_jobs=8)]: Done 252 tasks      | elapsed:  9.4min\n",
            "[Parallel(n_jobs=8)]: Done 253 tasks      | elapsed:  9.4min\n",
            "[Parallel(n_jobs=8)]: Done 254 tasks      | elapsed:  9.4min\n",
            "[Parallel(n_jobs=8)]: Done 255 tasks      | elapsed:  9.4min\n",
            "[Parallel(n_jobs=8)]: Done 256 tasks      | elapsed:  9.4min\n",
            "[Parallel(n_jobs=8)]: Done 257 tasks      | elapsed:  9.4min\n",
            "[Parallel(n_jobs=8)]: Done 258 tasks      | elapsed:  9.4min\n",
            "[Parallel(n_jobs=8)]: Done 259 tasks      | elapsed:  9.4min\n",
            "[Parallel(n_jobs=8)]: Done 260 tasks      | elapsed:  9.5min\n",
            "[Parallel(n_jobs=8)]: Done 261 tasks      | elapsed:  9.5min\n",
            "[Parallel(n_jobs=8)]: Done 262 tasks      | elapsed:  9.5min\n",
            "[Parallel(n_jobs=8)]: Done 263 tasks      | elapsed:  9.5min\n",
            "[Parallel(n_jobs=8)]: Done 264 tasks      | elapsed:  9.5min\n",
            "[Parallel(n_jobs=8)]: Done 265 tasks      | elapsed:  9.5min\n",
            "[Parallel(n_jobs=8)]: Done 266 tasks      | elapsed:  9.5min\n",
            "[Parallel(n_jobs=8)]: Done 267 tasks      | elapsed:  9.5min\n",
            "[Parallel(n_jobs=8)]: Done 268 tasks      | elapsed:  9.6min\n",
            "[Parallel(n_jobs=8)]: Done 269 tasks      | elapsed:  9.6min\n",
            "[Parallel(n_jobs=8)]: Done 270 tasks      | elapsed:  9.6min\n",
            "[Parallel(n_jobs=8)]: Done 271 tasks      | elapsed:  9.6min\n",
            "[Parallel(n_jobs=8)]: Done 272 tasks      | elapsed:  9.6min\n",
            "[Parallel(n_jobs=8)]: Done 273 tasks      | elapsed:  9.6min\n",
            "[Parallel(n_jobs=8)]: Done 274 tasks      | elapsed:  9.6min\n",
            "[Parallel(n_jobs=8)]: Done 275 tasks      | elapsed:  9.6min\n",
            "[Parallel(n_jobs=8)]: Done 276 tasks      | elapsed:  9.6min\n",
            "[Parallel(n_jobs=8)]: Done 277 tasks      | elapsed:  9.7min\n",
            "[Parallel(n_jobs=8)]: Done 278 tasks      | elapsed:  9.7min\n",
            "[Parallel(n_jobs=8)]: Done 279 tasks      | elapsed:  9.7min\n",
            "[Parallel(n_jobs=8)]: Done 280 tasks      | elapsed:  9.7min\n",
            "[Parallel(n_jobs=8)]: Done 281 tasks      | elapsed:  9.7min\n",
            "[Parallel(n_jobs=8)]: Done 282 tasks      | elapsed:  9.7min\n",
            "[Parallel(n_jobs=8)]: Done 283 tasks      | elapsed:  9.7min\n",
            "[Parallel(n_jobs=8)]: Done 284 tasks      | elapsed:  9.7min\n",
            "[Parallel(n_jobs=8)]: Done 285 tasks      | elapsed:  9.8min\n",
            "[Parallel(n_jobs=8)]: Done 286 tasks      | elapsed:  9.8min\n",
            "[Parallel(n_jobs=8)]: Done 287 tasks      | elapsed:  9.8min\n",
            "[Parallel(n_jobs=8)]: Done 288 tasks      | elapsed:  9.9min\n",
            "[Parallel(n_jobs=8)]: Done 289 tasks      | elapsed:  9.9min\n",
            "[Parallel(n_jobs=8)]: Done 290 tasks      | elapsed:  9.9min\n",
            "[Parallel(n_jobs=8)]: Done 291 tasks      | elapsed: 10.0min\n",
            "[Parallel(n_jobs=8)]: Done 292 tasks      | elapsed: 10.0min\n",
            "[Parallel(n_jobs=8)]: Done 293 tasks      | elapsed: 10.1min\n",
            "[Parallel(n_jobs=8)]: Done 294 tasks      | elapsed: 10.2min\n",
            "[Parallel(n_jobs=8)]: Done 295 tasks      | elapsed: 10.2min\n",
            "[Parallel(n_jobs=8)]: Done 296 tasks      | elapsed: 10.3min\n",
            "[Parallel(n_jobs=8)]: Done 297 tasks      | elapsed: 10.3min\n",
            "[Parallel(n_jobs=8)]: Done 298 tasks      | elapsed: 10.3min\n",
            "[Parallel(n_jobs=8)]: Done 299 tasks      | elapsed: 10.4min\n",
            "[Parallel(n_jobs=8)]: Done 300 tasks      | elapsed: 10.4min\n",
            "[Parallel(n_jobs=8)]: Done 301 tasks      | elapsed: 10.5min\n",
            "[Parallel(n_jobs=8)]: Done 302 tasks      | elapsed: 10.5min\n",
            "[Parallel(n_jobs=8)]: Done 303 tasks      | elapsed: 10.6min\n",
            "[Parallel(n_jobs=8)]: Done 304 tasks      | elapsed: 10.6min\n",
            "[Parallel(n_jobs=8)]: Done 305 tasks      | elapsed: 10.7min\n",
            "[Parallel(n_jobs=8)]: Done 306 tasks      | elapsed: 10.8min\n",
            "[Parallel(n_jobs=8)]: Done 307 tasks      | elapsed: 10.9min\n",
            "[Parallel(n_jobs=8)]: Done 308 tasks      | elapsed: 10.9min\n",
            "[Parallel(n_jobs=8)]: Done 309 tasks      | elapsed: 11.0min\n",
            "[Parallel(n_jobs=8)]: Done 310 tasks      | elapsed: 11.0min\n",
            "[Parallel(n_jobs=8)]: Done 311 tasks      | elapsed: 11.1min\n",
            "[Parallel(n_jobs=8)]: Done 312 tasks      | elapsed: 11.1min\n",
            "[Parallel(n_jobs=8)]: Done 313 tasks      | elapsed: 11.2min\n",
            "[Parallel(n_jobs=8)]: Done 314 tasks      | elapsed: 11.2min\n",
            "[Parallel(n_jobs=8)]: Done 315 tasks      | elapsed: 11.3min\n",
            "[Parallel(n_jobs=8)]: Done 316 tasks      | elapsed: 11.4min\n",
            "[Parallel(n_jobs=8)]: Done 317 tasks      | elapsed: 11.5min\n",
            "[Parallel(n_jobs=8)]: Done 318 tasks      | elapsed: 11.5min\n",
            "[Parallel(n_jobs=8)]: Done 319 tasks      | elapsed: 11.6min\n",
            "[Parallel(n_jobs=8)]: Done 320 tasks      | elapsed: 11.6min\n",
            "[Parallel(n_jobs=8)]: Done 321 tasks      | elapsed: 11.6min\n",
            "[Parallel(n_jobs=8)]: Done 322 tasks      | elapsed: 11.7min\n",
            "[Parallel(n_jobs=8)]: Done 323 tasks      | elapsed: 11.7min\n",
            "[Parallel(n_jobs=8)]: Done 324 tasks      | elapsed: 11.7min\n",
            "[Parallel(n_jobs=8)]: Done 325 tasks      | elapsed: 11.8min\n",
            "[Parallel(n_jobs=8)]: Done 326 tasks      | elapsed: 11.9min\n",
            "[Parallel(n_jobs=8)]: Done 327 tasks      | elapsed: 11.9min\n",
            "[Parallel(n_jobs=8)]: Done 328 tasks      | elapsed: 11.9min\n",
            "[Parallel(n_jobs=8)]: Done 329 tasks      | elapsed: 12.0min\n",
            "[Parallel(n_jobs=8)]: Done 330 tasks      | elapsed: 12.0min\n",
            "[Parallel(n_jobs=8)]: Done 331 tasks      | elapsed: 12.0min\n",
            "[Parallel(n_jobs=8)]: Done 332 tasks      | elapsed: 12.0min\n",
            "[Parallel(n_jobs=8)]: Done 333 tasks      | elapsed: 12.1min\n",
            "[Parallel(n_jobs=8)]: Done 334 tasks      | elapsed: 12.1min\n",
            "[Parallel(n_jobs=8)]: Done 335 tasks      | elapsed: 12.1min\n",
            "[Parallel(n_jobs=8)]: Done 336 tasks      | elapsed: 12.1min\n",
            "[Parallel(n_jobs=8)]: Done 337 tasks      | elapsed: 12.1min\n",
            "[Parallel(n_jobs=8)]: Done 338 tasks      | elapsed: 12.2min\n",
            "[Parallel(n_jobs=8)]: Done 339 tasks      | elapsed: 12.2min\n",
            "[Parallel(n_jobs=8)]: Done 340 tasks      | elapsed: 12.2min\n",
            "[Parallel(n_jobs=8)]: Done 341 tasks      | elapsed: 12.2min\n",
            "[Parallel(n_jobs=8)]: Done 342 tasks      | elapsed: 12.2min\n",
            "[Parallel(n_jobs=8)]: Done 343 tasks      | elapsed: 12.2min\n",
            "[Parallel(n_jobs=8)]: Done 344 tasks      | elapsed: 12.3min\n",
            "[Parallel(n_jobs=8)]: Done 345 tasks      | elapsed: 12.3min\n",
            "[Parallel(n_jobs=8)]: Done 346 tasks      | elapsed: 12.3min\n",
            "[Parallel(n_jobs=8)]: Done 347 tasks      | elapsed: 12.3min\n",
            "[Parallel(n_jobs=8)]: Done 348 tasks      | elapsed: 12.3min\n",
            "[Parallel(n_jobs=8)]: Done 349 tasks      | elapsed: 12.3min\n",
            "[Parallel(n_jobs=8)]: Done 350 tasks      | elapsed: 12.3min\n",
            "[Parallel(n_jobs=8)]: Done 351 tasks      | elapsed: 12.3min\n",
            "[Parallel(n_jobs=8)]: Done 352 tasks      | elapsed: 12.4min\n",
            "[Parallel(n_jobs=8)]: Done 353 tasks      | elapsed: 12.4min\n",
            "[Parallel(n_jobs=8)]: Done 354 tasks      | elapsed: 12.4min\n",
            "[Parallel(n_jobs=8)]: Done 355 tasks      | elapsed: 12.4min\n",
            "[Parallel(n_jobs=8)]: Done 356 tasks      | elapsed: 12.4min\n",
            "[Parallel(n_jobs=8)]: Done 357 tasks      | elapsed: 12.4min\n",
            "[Parallel(n_jobs=8)]: Done 358 tasks      | elapsed: 12.4min\n",
            "[Parallel(n_jobs=8)]: Done 359 tasks      | elapsed: 12.4min\n",
            "[Parallel(n_jobs=8)]: Done 360 tasks      | elapsed: 12.5min\n",
            "[Parallel(n_jobs=8)]: Done 361 tasks      | elapsed: 12.5min\n",
            "[Parallel(n_jobs=8)]: Done 362 tasks      | elapsed: 12.5min\n",
            "[Parallel(n_jobs=8)]: Done 363 tasks      | elapsed: 12.5min\n",
            "[Parallel(n_jobs=8)]: Done 364 tasks      | elapsed: 12.5min\n",
            "[Parallel(n_jobs=8)]: Done 365 tasks      | elapsed: 12.5min\n",
            "[Parallel(n_jobs=8)]: Done 366 tasks      | elapsed: 12.5min\n",
            "[Parallel(n_jobs=8)]: Done 367 tasks      | elapsed: 12.5min\n",
            "[Parallel(n_jobs=8)]: Done 368 tasks      | elapsed: 12.5min\n",
            "[Parallel(n_jobs=8)]: Done 369 tasks      | elapsed: 12.5min\n",
            "[Parallel(n_jobs=8)]: Done 370 tasks      | elapsed: 12.5min\n",
            "[Parallel(n_jobs=8)]: Done 371 tasks      | elapsed: 12.5min\n",
            "[Parallel(n_jobs=8)]: Done 372 tasks      | elapsed: 12.6min\n",
            "[Parallel(n_jobs=8)]: Done 373 tasks      | elapsed: 12.6min\n",
            "[Parallel(n_jobs=8)]: Done 374 tasks      | elapsed: 12.6min\n",
            "[Parallel(n_jobs=8)]: Done 375 tasks      | elapsed: 12.6min\n",
            "[Parallel(n_jobs=8)]: Done 376 tasks      | elapsed: 12.6min\n",
            "[Parallel(n_jobs=8)]: Done 377 tasks      | elapsed: 12.6min\n",
            "[Parallel(n_jobs=8)]: Done 378 tasks      | elapsed: 12.6min\n",
            "[Parallel(n_jobs=8)]: Done 379 tasks      | elapsed: 12.6min\n",
            "[Parallel(n_jobs=8)]: Done 380 tasks      | elapsed: 12.6min\n",
            "[Parallel(n_jobs=8)]: Done 381 tasks      | elapsed: 12.6min\n",
            "[Parallel(n_jobs=8)]: Done 382 tasks      | elapsed: 12.6min\n",
            "[Parallel(n_jobs=8)]: Done 383 tasks      | elapsed: 12.7min\n",
            "[Parallel(n_jobs=8)]: Done 384 tasks      | elapsed: 12.7min\n",
            "[Parallel(n_jobs=8)]: Done 385 tasks      | elapsed: 12.7min\n",
            "[Parallel(n_jobs=8)]: Done 386 tasks      | elapsed: 12.7min\n",
            "[Parallel(n_jobs=8)]: Done 387 tasks      | elapsed: 12.7min\n",
            "[Parallel(n_jobs=8)]: Done 388 tasks      | elapsed: 12.7min\n",
            "[Parallel(n_jobs=8)]: Done 389 tasks      | elapsed: 12.7min\n",
            "[Parallel(n_jobs=8)]: Done 390 tasks      | elapsed: 12.7min\n",
            "[Parallel(n_jobs=8)]: Done 391 tasks      | elapsed: 12.7min\n",
            "[Parallel(n_jobs=8)]: Done 392 tasks      | elapsed: 12.7min\n",
            "[Parallel(n_jobs=8)]: Done 393 tasks      | elapsed: 12.7min\n",
            "[Parallel(n_jobs=8)]: Done 394 tasks      | elapsed: 12.7min\n",
            "[Parallel(n_jobs=8)]: Done 395 tasks      | elapsed: 12.8min\n",
            "[Parallel(n_jobs=8)]: Done 396 tasks      | elapsed: 12.8min\n",
            "[Parallel(n_jobs=8)]: Done 397 tasks      | elapsed: 12.8min\n",
            "[Parallel(n_jobs=8)]: Done 398 tasks      | elapsed: 12.8min\n",
            "[Parallel(n_jobs=8)]: Done 399 tasks      | elapsed: 12.8min\n",
            "[Parallel(n_jobs=8)]: Done 400 tasks      | elapsed: 12.8min\n",
            "[Parallel(n_jobs=8)]: Done 401 tasks      | elapsed: 12.8min\n",
            "[Parallel(n_jobs=8)]: Done 402 tasks      | elapsed: 12.8min\n",
            "[Parallel(n_jobs=8)]: Done 403 tasks      | elapsed: 12.8min\n",
            "[Parallel(n_jobs=8)]: Done 404 tasks      | elapsed: 12.8min\n",
            "[Parallel(n_jobs=8)]: Done 405 tasks      | elapsed: 12.9min\n",
            "[Parallel(n_jobs=8)]: Done 406 tasks      | elapsed: 12.9min\n",
            "[Parallel(n_jobs=8)]: Done 407 tasks      | elapsed: 12.9min\n",
            "[Parallel(n_jobs=8)]: Done 408 tasks      | elapsed: 12.9min\n",
            "[Parallel(n_jobs=8)]: Done 409 tasks      | elapsed: 12.9min\n",
            "[Parallel(n_jobs=8)]: Done 410 tasks      | elapsed: 12.9min\n",
            "[Parallel(n_jobs=8)]: Done 411 tasks      | elapsed: 12.9min\n",
            "[Parallel(n_jobs=8)]: Done 412 tasks      | elapsed: 12.9min\n",
            "[Parallel(n_jobs=8)]: Done 413 tasks      | elapsed: 12.9min\n",
            "[Parallel(n_jobs=8)]: Done 414 tasks      | elapsed: 12.9min\n",
            "[Parallel(n_jobs=8)]: Done 415 tasks      | elapsed: 12.9min\n",
            "[Parallel(n_jobs=8)]: Done 416 tasks      | elapsed: 12.9min\n",
            "[Parallel(n_jobs=8)]: Done 417 tasks      | elapsed: 12.9min\n",
            "[Parallel(n_jobs=8)]: Done 418 tasks      | elapsed: 13.0min\n",
            "[Parallel(n_jobs=8)]: Done 419 tasks      | elapsed: 13.0min\n",
            "[Parallel(n_jobs=8)]: Done 420 tasks      | elapsed: 13.0min\n",
            "[Parallel(n_jobs=8)]: Done 421 tasks      | elapsed: 13.0min\n",
            "[Parallel(n_jobs=8)]: Done 422 tasks      | elapsed: 13.0min\n",
            "[Parallel(n_jobs=8)]: Done 423 tasks      | elapsed: 13.0min\n",
            "[Parallel(n_jobs=8)]: Done 424 tasks      | elapsed: 13.0min\n",
            "[Parallel(n_jobs=8)]: Done 425 tasks      | elapsed: 13.0min\n",
            "[Parallel(n_jobs=8)]: Done 426 tasks      | elapsed: 13.0min\n",
            "[Parallel(n_jobs=8)]: Done 427 tasks      | elapsed: 13.0min\n",
            "[Parallel(n_jobs=8)]: Done 428 tasks      | elapsed: 13.0min\n",
            "[Parallel(n_jobs=8)]: Done 429 tasks      | elapsed: 13.0min\n",
            "[Parallel(n_jobs=8)]: Done 430 tasks      | elapsed: 13.1min\n",
            "[Parallel(n_jobs=8)]: Done 431 tasks      | elapsed: 13.1min\n",
            "[Parallel(n_jobs=8)]: Done 432 tasks      | elapsed: 13.1min\n",
            "[Parallel(n_jobs=8)]: Done 433 tasks      | elapsed: 13.1min\n",
            "[Parallel(n_jobs=8)]: Done 434 tasks      | elapsed: 13.1min\n",
            "[Parallel(n_jobs=8)]: Done 435 tasks      | elapsed: 13.1min\n",
            "[Parallel(n_jobs=8)]: Done 436 tasks      | elapsed: 13.1min\n",
            "[Parallel(n_jobs=8)]: Done 437 tasks      | elapsed: 13.1min\n",
            "[Parallel(n_jobs=8)]: Done 438 tasks      | elapsed: 13.1min\n",
            "[Parallel(n_jobs=8)]: Done 439 tasks      | elapsed: 13.1min\n",
            "[Parallel(n_jobs=8)]: Done 440 tasks      | elapsed: 13.1min\n",
            "[Parallel(n_jobs=8)]: Done 441 tasks      | elapsed: 13.2min\n",
            "[Parallel(n_jobs=8)]: Done 442 tasks      | elapsed: 13.2min\n",
            "[Parallel(n_jobs=8)]: Done 443 tasks      | elapsed: 13.2min\n",
            "[Parallel(n_jobs=8)]: Done 444 tasks      | elapsed: 13.2min\n",
            "[Parallel(n_jobs=8)]: Done 445 tasks      | elapsed: 13.2min\n",
            "[Parallel(n_jobs=8)]: Done 446 tasks      | elapsed: 13.2min\n",
            "[Parallel(n_jobs=8)]: Done 447 tasks      | elapsed: 13.2min\n",
            "[Parallel(n_jobs=8)]: Done 448 tasks      | elapsed: 13.2min\n",
            "[Parallel(n_jobs=8)]: Done 449 tasks      | elapsed: 13.2min\n",
            "[Parallel(n_jobs=8)]: Done 450 tasks      | elapsed: 13.2min\n",
            "[Parallel(n_jobs=8)]: Done 451 tasks      | elapsed: 13.2min\n",
            "[Parallel(n_jobs=8)]: Done 452 tasks      | elapsed: 13.3min\n",
            "[Parallel(n_jobs=8)]: Done 453 tasks      | elapsed: 13.3min\n",
            "[Parallel(n_jobs=8)]: Done 454 tasks      | elapsed: 13.3min\n",
            "[Parallel(n_jobs=8)]: Done 455 tasks      | elapsed: 13.3min\n",
            "[Parallel(n_jobs=8)]: Done 456 tasks      | elapsed: 13.3min\n",
            "[Parallel(n_jobs=8)]: Done 457 tasks      | elapsed: 13.3min\n",
            "[Parallel(n_jobs=8)]: Done 458 tasks      | elapsed: 13.4min\n",
            "[Parallel(n_jobs=8)]: Done 459 tasks      | elapsed: 13.4min\n",
            "[Parallel(n_jobs=8)]: Done 460 tasks      | elapsed: 13.4min\n",
            "[Parallel(n_jobs=8)]: Done 461 tasks      | elapsed: 13.4min\n",
            "[Parallel(n_jobs=8)]: Done 462 tasks      | elapsed: 13.5min\n",
            "[Parallel(n_jobs=8)]: Done 463 tasks      | elapsed: 13.5min\n",
            "[Parallel(n_jobs=8)]: Done 464 tasks      | elapsed: 13.5min\n",
            "[Parallel(n_jobs=8)]: Done 465 tasks      | elapsed: 13.5min\n",
            "[Parallel(n_jobs=8)]: Done 466 tasks      | elapsed: 13.5min\n",
            "[Parallel(n_jobs=8)]: Done 467 tasks      | elapsed: 13.5min\n",
            "[Parallel(n_jobs=8)]: Done 468 tasks      | elapsed: 13.6min\n",
            "[Parallel(n_jobs=8)]: Done 469 tasks      | elapsed: 13.6min\n",
            "[Parallel(n_jobs=8)]: Done 470 tasks      | elapsed: 13.6min\n",
            "[Parallel(n_jobs=8)]: Done 471 tasks      | elapsed: 13.6min\n",
            "[Parallel(n_jobs=8)]: Done 472 tasks      | elapsed: 13.7min\n",
            "[Parallel(n_jobs=8)]: Done 473 tasks      | elapsed: 13.7min\n",
            "[Parallel(n_jobs=8)]: Done 474 tasks      | elapsed: 13.7min\n",
            "[Parallel(n_jobs=8)]: Done 475 tasks      | elapsed: 13.7min\n",
            "[Parallel(n_jobs=8)]: Done 476 tasks      | elapsed: 16.5min\n",
            "[Parallel(n_jobs=8)]: Done 477 tasks      | elapsed: 16.8min\n",
            "[Parallel(n_jobs=8)]: Done 478 tasks      | elapsed: 16.9min\n",
            "[Parallel(n_jobs=8)]: Done 479 tasks      | elapsed: 16.9min\n",
            "[Parallel(n_jobs=8)]: Done 480 tasks      | elapsed: 17.0min\n",
            "[Parallel(n_jobs=8)]: Done 481 tasks      | elapsed: 17.0min\n",
            "[Parallel(n_jobs=8)]: Done 482 tasks      | elapsed: 17.1min\n",
            "[Parallel(n_jobs=8)]: Done 483 tasks      | elapsed: 17.1min\n",
            "[Parallel(n_jobs=8)]: Done 484 tasks      | elapsed: 17.2min\n",
            "[Parallel(n_jobs=8)]: Done 485 tasks      | elapsed: 17.3min\n",
            "[Parallel(n_jobs=8)]: Done 486 tasks      | elapsed: 17.4min\n",
            "[Parallel(n_jobs=8)]: Done 487 tasks      | elapsed: 17.4min\n",
            "[Parallel(n_jobs=8)]: Done 488 tasks      | elapsed: 17.5min\n",
            "[Parallel(n_jobs=8)]: Done 489 tasks      | elapsed: 17.5min\n",
            "[Parallel(n_jobs=8)]: Done 490 tasks      | elapsed: 17.6min\n",
            "[Parallel(n_jobs=8)]: Done 491 tasks      | elapsed: 17.6min\n",
            "[Parallel(n_jobs=8)]: Done 492 tasks      | elapsed: 17.6min\n",
            "[Parallel(n_jobs=8)]: Done 493 tasks      | elapsed: 17.7min\n",
            "[Parallel(n_jobs=8)]: Done 494 tasks      | elapsed: 18.8min\n",
            "[Parallel(n_jobs=8)]: Done 495 tasks      | elapsed: 18.9min\n",
            "[Parallel(n_jobs=8)]: Done 496 tasks      | elapsed: 19.1min\n",
            "[Parallel(n_jobs=8)]: Done 497 tasks      | elapsed: 19.2min\n",
            "[Parallel(n_jobs=8)]: Done 498 tasks      | elapsed: 19.2min\n",
            "[Parallel(n_jobs=8)]: Done 499 tasks      | elapsed: 19.2min\n",
            "[Parallel(n_jobs=8)]: Done 500 tasks      | elapsed: 19.3min\n",
            "[Parallel(n_jobs=8)]: Done 501 tasks      | elapsed: 19.3min\n",
            "[Parallel(n_jobs=8)]: Done 502 tasks      | elapsed: 19.3min\n",
            "[Parallel(n_jobs=8)]: Done 503 tasks      | elapsed: 19.4min\n",
            "[Parallel(n_jobs=8)]: Done 504 tasks      | elapsed: 19.4min\n",
            "[Parallel(n_jobs=8)]: Done 505 tasks      | elapsed: 19.4min\n",
            "[Parallel(n_jobs=8)]: Done 506 tasks      | elapsed: 19.4min\n",
            "[Parallel(n_jobs=8)]: Done 507 tasks      | elapsed: 19.4min\n",
            "[Parallel(n_jobs=8)]: Done 508 tasks      | elapsed: 19.5min\n",
            "[Parallel(n_jobs=8)]: Done 509 tasks      | elapsed: 19.5min\n",
            "[Parallel(n_jobs=8)]: Done 510 tasks      | elapsed: 19.5min\n",
            "[Parallel(n_jobs=8)]: Done 511 tasks      | elapsed: 19.6min\n",
            "[Parallel(n_jobs=8)]: Done 512 tasks      | elapsed: 19.6min\n",
            "[Parallel(n_jobs=8)]: Done 513 tasks      | elapsed: 19.6min\n",
            "[Parallel(n_jobs=8)]: Done 514 tasks      | elapsed: 19.6min\n",
            "[Parallel(n_jobs=8)]: Done 515 tasks      | elapsed: 19.6min\n",
            "[Parallel(n_jobs=8)]: Done 516 tasks      | elapsed: 19.6min\n",
            "[Parallel(n_jobs=8)]: Done 517 tasks      | elapsed: 19.7min\n",
            "[Parallel(n_jobs=8)]: Done 518 tasks      | elapsed: 19.7min\n",
            "[Parallel(n_jobs=8)]: Done 519 tasks      | elapsed: 19.7min\n",
            "[Parallel(n_jobs=8)]: Done 520 tasks      | elapsed: 19.7min\n",
            "[Parallel(n_jobs=8)]: Done 521 tasks      | elapsed: 19.8min\n",
            "[Parallel(n_jobs=8)]: Done 522 tasks      | elapsed: 19.8min\n",
            "[Parallel(n_jobs=8)]: Done 523 tasks      | elapsed: 19.8min\n",
            "[Parallel(n_jobs=8)]: Done 524 tasks      | elapsed: 19.8min\n",
            "[Parallel(n_jobs=8)]: Done 525 tasks      | elapsed: 19.8min\n",
            "[Parallel(n_jobs=8)]: Done 526 tasks      | elapsed: 19.8min\n",
            "[Parallel(n_jobs=8)]: Done 527 tasks      | elapsed: 19.8min\n",
            "[Parallel(n_jobs=8)]: Done 528 tasks      | elapsed: 19.8min\n",
            "[Parallel(n_jobs=8)]: Done 529 tasks      | elapsed: 19.9min\n",
            "[Parallel(n_jobs=8)]: Done 530 tasks      | elapsed: 19.9min\n",
            "[Parallel(n_jobs=8)]: Done 531 tasks      | elapsed: 19.9min\n",
            "[Parallel(n_jobs=8)]: Done 532 tasks      | elapsed: 19.9min\n",
            "[Parallel(n_jobs=8)]: Done 533 tasks      | elapsed: 19.9min\n",
            "[Parallel(n_jobs=8)]: Done 534 tasks      | elapsed: 19.9min\n",
            "[Parallel(n_jobs=8)]: Done 535 tasks      | elapsed: 19.9min\n",
            "[Parallel(n_jobs=8)]: Done 536 tasks      | elapsed: 21.8min\n",
            "[Parallel(n_jobs=8)]: Done 537 tasks      | elapsed: 22.3min\n",
            "[Parallel(n_jobs=8)]: Done 538 tasks      | elapsed: 22.8min\n",
            "[Parallel(n_jobs=8)]: Done 539 tasks      | elapsed: 22.9min\n",
            "[Parallel(n_jobs=8)]: Done 540 tasks      | elapsed: 22.9min\n",
            "[Parallel(n_jobs=8)]: Done 541 tasks      | elapsed: 22.9min\n",
            "[Parallel(n_jobs=8)]: Done 542 tasks      | elapsed: 22.9min\n",
            "[Parallel(n_jobs=8)]: Done 543 tasks      | elapsed: 22.9min\n",
            "[Parallel(n_jobs=8)]: Done 544 tasks      | elapsed: 23.0min\n",
            "[Parallel(n_jobs=8)]: Done 545 tasks      | elapsed: 23.0min\n",
            "[Parallel(n_jobs=8)]: Done 546 tasks      | elapsed: 23.0min\n",
            "[Parallel(n_jobs=8)]: Done 547 tasks      | elapsed: 23.0min\n",
            "[Parallel(n_jobs=8)]: Done 548 tasks      | elapsed: 23.0min\n",
            "[Parallel(n_jobs=8)]: Done 549 tasks      | elapsed: 23.1min\n",
            "[Parallel(n_jobs=8)]: Done 550 tasks      | elapsed: 23.1min\n",
            "[Parallel(n_jobs=8)]: Done 551 tasks      | elapsed: 23.1min\n",
            "[Parallel(n_jobs=8)]: Done 552 tasks      | elapsed: 23.1min\n",
            "[Parallel(n_jobs=8)]: Done 553 tasks      | elapsed: 23.1min\n",
            "[Parallel(n_jobs=8)]: Done 554 tasks      | elapsed: 23.1min\n",
            "[Parallel(n_jobs=8)]: Done 555 tasks      | elapsed: 23.1min\n",
            "[Parallel(n_jobs=8)]: Done 556 tasks      | elapsed: 23.2min\n",
            "[Parallel(n_jobs=8)]: Done 557 tasks      | elapsed: 23.3min\n",
            "[Parallel(n_jobs=8)]: Done 558 tasks      | elapsed: 23.5min\n",
            "[Parallel(n_jobs=8)]: Done 559 tasks      | elapsed: 23.6min\n",
            "[Parallel(n_jobs=8)]: Done 560 tasks      | elapsed: 23.6min\n",
            "[Parallel(n_jobs=8)]: Done 561 tasks      | elapsed: 23.7min\n",
            "[Parallel(n_jobs=8)]: Done 562 tasks      | elapsed: 23.7min\n",
            "[Parallel(n_jobs=8)]: Done 563 tasks      | elapsed: 23.7min\n",
            "[Parallel(n_jobs=8)]: Done 564 tasks      | elapsed: 23.8min\n",
            "[Parallel(n_jobs=8)]: Done 565 tasks      | elapsed: 23.8min\n",
            "[Parallel(n_jobs=8)]: Done 566 tasks      | elapsed: 23.9min\n",
            "[Parallel(n_jobs=8)]: Done 567 tasks      | elapsed: 23.9min\n",
            "[Parallel(n_jobs=8)]: Done 568 tasks      | elapsed: 23.9min\n",
            "[Parallel(n_jobs=8)]: Done 569 tasks      | elapsed: 24.0min\n",
            "[Parallel(n_jobs=8)]: Done 570 tasks      | elapsed: 24.0min\n",
            "[Parallel(n_jobs=8)]: Done 571 tasks      | elapsed: 24.0min\n",
            "[Parallel(n_jobs=8)]: Done 572 tasks      | elapsed: 24.0min\n",
            "[Parallel(n_jobs=8)]: Done 573 tasks      | elapsed: 24.1min\n",
            "[Parallel(n_jobs=8)]: Done 574 tasks      | elapsed: 24.1min\n",
            "[Parallel(n_jobs=8)]: Done 575 tasks      | elapsed: 24.1min\n",
            "[Parallel(n_jobs=8)]: Done 576 tasks      | elapsed: 24.2min\n",
            "[Parallel(n_jobs=8)]: Done 577 tasks      | elapsed: 24.2min\n",
            "[Parallel(n_jobs=8)]: Done 578 tasks      | elapsed: 24.3min\n",
            "[Parallel(n_jobs=8)]: Done 579 tasks      | elapsed: 24.3min\n",
            "[Parallel(n_jobs=8)]: Done 580 tasks      | elapsed: 24.3min\n",
            "[Parallel(n_jobs=8)]: Done 581 tasks      | elapsed: 24.3min\n",
            "[Parallel(n_jobs=8)]: Done 582 tasks      | elapsed: 24.3min\n",
            "[Parallel(n_jobs=8)]: Done 583 tasks      | elapsed: 24.4min\n",
            "[Parallel(n_jobs=8)]: Done 584 tasks      | elapsed: 24.4min\n",
            "[Parallel(n_jobs=8)]: Done 585 tasks      | elapsed: 24.4min\n",
            "[Parallel(n_jobs=8)]: Done 586 tasks      | elapsed: 24.4min\n",
            "[Parallel(n_jobs=8)]: Done 587 tasks      | elapsed: 24.4min\n",
            "[Parallel(n_jobs=8)]: Done 588 tasks      | elapsed: 24.4min\n",
            "[Parallel(n_jobs=8)]: Done 589 tasks      | elapsed: 24.4min\n",
            "[Parallel(n_jobs=8)]: Done 590 tasks      | elapsed: 24.4min\n",
            "[Parallel(n_jobs=8)]: Done 591 tasks      | elapsed: 24.5min\n",
            "[Parallel(n_jobs=8)]: Done 592 tasks      | elapsed: 24.5min\n",
            "[Parallel(n_jobs=8)]: Done 593 tasks      | elapsed: 24.5min\n",
            "[Parallel(n_jobs=8)]: Done 594 tasks      | elapsed: 24.5min\n",
            "[Parallel(n_jobs=8)]: Done 595 tasks      | elapsed: 24.5min\n",
            "[Parallel(n_jobs=8)]: Done 596 tasks      | elapsed: 24.5min\n",
            "[Parallel(n_jobs=8)]: Done 597 tasks      | elapsed: 24.6min\n",
            "[Parallel(n_jobs=8)]: Done 598 tasks      | elapsed: 24.6min\n",
            "[Parallel(n_jobs=8)]: Done 599 tasks      | elapsed: 24.6min\n",
            "[Parallel(n_jobs=8)]: Done 600 tasks      | elapsed: 24.6min\n",
            "[Parallel(n_jobs=8)]: Done 601 tasks      | elapsed: 24.6min\n",
            "[Parallel(n_jobs=8)]: Done 602 tasks      | elapsed: 24.6min\n",
            "[Parallel(n_jobs=8)]: Done 603 tasks      | elapsed: 24.7min\n",
            "[Parallel(n_jobs=8)]: Done 604 tasks      | elapsed: 24.7min\n",
            "[Parallel(n_jobs=8)]: Done 605 tasks      | elapsed: 24.7min\n",
            "[Parallel(n_jobs=8)]: Done 606 tasks      | elapsed: 24.7min\n",
            "[Parallel(n_jobs=8)]: Done 607 tasks      | elapsed: 24.7min\n",
            "[Parallel(n_jobs=8)]: Done 608 tasks      | elapsed: 24.7min\n",
            "[Parallel(n_jobs=8)]: Done 609 tasks      | elapsed: 24.7min\n",
            "[Parallel(n_jobs=8)]: Done 610 tasks      | elapsed: 24.7min\n",
            "[Parallel(n_jobs=8)]: Done 611 tasks      | elapsed: 24.8min\n",
            "[Parallel(n_jobs=8)]: Done 612 tasks      | elapsed: 24.8min\n",
            "[Parallel(n_jobs=8)]: Done 613 tasks      | elapsed: 24.8min\n",
            "[Parallel(n_jobs=8)]: Done 614 tasks      | elapsed: 24.9min\n",
            "[Parallel(n_jobs=8)]: Done 615 tasks      | elapsed: 24.9min\n",
            "[Parallel(n_jobs=8)]: Done 616 tasks      | elapsed: 24.9min\n",
            "[Parallel(n_jobs=8)]: Done 617 tasks      | elapsed: 24.9min\n",
            "[Parallel(n_jobs=8)]: Done 618 tasks      | elapsed: 24.9min\n",
            "[Parallel(n_jobs=8)]: Done 619 tasks      | elapsed: 24.9min\n",
            "[Parallel(n_jobs=8)]: Done 620 tasks      | elapsed: 25.0min\n",
            "[Parallel(n_jobs=8)]: Done 621 tasks      | elapsed: 25.0min\n",
            "[Parallel(n_jobs=8)]: Done 622 tasks      | elapsed: 25.0min\n",
            "[Parallel(n_jobs=8)]: Done 623 tasks      | elapsed: 25.0min\n",
            "[Parallel(n_jobs=8)]: Done 624 tasks      | elapsed: 25.0min\n",
            "[Parallel(n_jobs=8)]: Done 625 tasks      | elapsed: 25.0min\n",
            "[Parallel(n_jobs=8)]: Done 626 tasks      | elapsed: 25.0min\n",
            "[Parallel(n_jobs=8)]: Done 627 tasks      | elapsed: 25.1min\n",
            "[Parallel(n_jobs=8)]: Done 628 tasks      | elapsed: 25.1min\n",
            "[Parallel(n_jobs=8)]: Done 629 tasks      | elapsed: 25.1min\n",
            "[Parallel(n_jobs=8)]: Done 630 tasks      | elapsed: 25.2min\n",
            "[Parallel(n_jobs=8)]: Done 631 tasks      | elapsed: 25.2min\n",
            "[Parallel(n_jobs=8)]: Done 632 tasks      | elapsed: 25.2min\n",
            "[Parallel(n_jobs=8)]: Done 633 tasks      | elapsed: 25.2min\n",
            "[Parallel(n_jobs=8)]: Done 634 tasks      | elapsed: 25.2min\n",
            "[Parallel(n_jobs=8)]: Done 635 tasks      | elapsed: 25.3min\n",
            "[Parallel(n_jobs=8)]: Done 636 tasks      | elapsed: 25.3min\n",
            "[Parallel(n_jobs=8)]: Done 637 tasks      | elapsed: 25.3min\n",
            "[Parallel(n_jobs=8)]: Done 638 tasks      | elapsed: 25.3min\n",
            "[Parallel(n_jobs=8)]: Done 639 tasks      | elapsed: 25.3min\n",
            "[Parallel(n_jobs=8)]: Done 640 tasks      | elapsed: 25.3min\n",
            "[Parallel(n_jobs=8)]: Done 641 tasks      | elapsed: 25.3min\n",
            "[Parallel(n_jobs=8)]: Done 642 tasks      | elapsed: 25.4min\n",
            "[Parallel(n_jobs=8)]: Done 643 tasks      | elapsed: 25.4min\n",
            "[Parallel(n_jobs=8)]: Done 644 tasks      | elapsed: 25.4min\n",
            "[Parallel(n_jobs=8)]: Done 645 tasks      | elapsed: 25.4min\n",
            "[Parallel(n_jobs=8)]: Done 646 tasks      | elapsed: 25.4min\n",
            "[Parallel(n_jobs=8)]: Done 647 tasks      | elapsed: 25.4min\n",
            "[Parallel(n_jobs=8)]: Done 648 tasks      | elapsed: 25.5min\n",
            "[Parallel(n_jobs=8)]: Done 649 tasks      | elapsed: 25.5min\n",
            "[Parallel(n_jobs=8)]: Done 650 tasks      | elapsed: 25.5min\n",
            "[Parallel(n_jobs=8)]: Done 651 tasks      | elapsed: 27.4min\n",
            "[Parallel(n_jobs=8)]: Done 652 tasks      | elapsed: 27.8min\n",
            "[Parallel(n_jobs=8)]: Done 653 tasks      | elapsed: 27.8min\n",
            "[Parallel(n_jobs=8)]: Done 654 tasks      | elapsed: 27.9min\n",
            "[Parallel(n_jobs=8)]: Done 655 tasks      | elapsed: 27.9min\n",
            "[Parallel(n_jobs=8)]: Done 656 tasks      | elapsed: 28.0min\n",
            "[Parallel(n_jobs=8)]: Done 657 tasks      | elapsed: 28.1min\n",
            "[Parallel(n_jobs=8)]: Done 658 tasks      | elapsed: 28.1min\n",
            "[Parallel(n_jobs=8)]: Done 659 tasks      | elapsed: 28.2min\n",
            "[Parallel(n_jobs=8)]: Done 660 tasks      | elapsed: 28.2min\n",
            "[Parallel(n_jobs=8)]: Done 661 tasks      | elapsed: 28.3min\n",
            "[Parallel(n_jobs=8)]: Done 662 tasks      | elapsed: 28.3min\n",
            "[Parallel(n_jobs=8)]: Done 663 tasks      | elapsed: 28.4min\n",
            "[Parallel(n_jobs=8)]: Done 664 tasks      | elapsed: 29.3min\n",
            "[Parallel(n_jobs=8)]: Done 665 tasks      | elapsed: 29.6min\n",
            "[Parallel(n_jobs=8)]: Done 666 tasks      | elapsed: 29.7min\n",
            "[Parallel(n_jobs=8)]: Done 667 tasks      | elapsed: 29.7min\n",
            "[Parallel(n_jobs=8)]: Done 668 tasks      | elapsed: 30.0min\n",
            "[Parallel(n_jobs=8)]: Done 669 tasks      | elapsed: 30.0min\n",
            "[Parallel(n_jobs=8)]: Done 670 tasks      | elapsed: 30.0min\n",
            "[Parallel(n_jobs=8)]: Done 671 tasks      | elapsed: 30.0min\n",
            "[Parallel(n_jobs=8)]: Done 672 tasks      | elapsed: 30.1min\n",
            "[Parallel(n_jobs=8)]: Done 673 tasks      | elapsed: 30.1min\n",
            "[Parallel(n_jobs=8)]: Done 674 tasks      | elapsed: 30.1min\n",
            "[Parallel(n_jobs=8)]: Done 675 tasks      | elapsed: 30.1min\n",
            "[Parallel(n_jobs=8)]: Done 676 tasks      | elapsed: 30.2min\n",
            "[Parallel(n_jobs=8)]: Done 677 tasks      | elapsed: 30.2min\n",
            "[Parallel(n_jobs=8)]: Done 678 tasks      | elapsed: 30.2min\n",
            "[Parallel(n_jobs=8)]: Done 679 tasks      | elapsed: 30.2min\n",
            "[Parallel(n_jobs=8)]: Done 680 tasks      | elapsed: 30.2min\n",
            "[Parallel(n_jobs=8)]: Done 681 tasks      | elapsed: 30.3min\n",
            "[Parallel(n_jobs=8)]: Done 682 tasks      | elapsed: 30.3min\n",
            "[Parallel(n_jobs=8)]: Done 683 tasks      | elapsed: 30.3min\n",
            "[Parallel(n_jobs=8)]: Done 684 tasks      | elapsed: 30.3min\n",
            "[Parallel(n_jobs=8)]: Done 685 tasks      | elapsed: 30.3min\n",
            "[Parallel(n_jobs=8)]: Done 686 tasks      | elapsed: 30.4min\n",
            "[Parallel(n_jobs=8)]: Done 687 tasks      | elapsed: 30.4min\n",
            "[Parallel(n_jobs=8)]: Done 688 tasks      | elapsed: 30.4min\n",
            "[Parallel(n_jobs=8)]: Done 689 tasks      | elapsed: 30.4min\n",
            "[Parallel(n_jobs=8)]: Done 690 tasks      | elapsed: 30.4min\n",
            "[Parallel(n_jobs=8)]: Done 691 tasks      | elapsed: 30.4min\n",
            "[Parallel(n_jobs=8)]: Done 692 tasks      | elapsed: 30.5min\n",
            "[Parallel(n_jobs=8)]: Done 693 tasks      | elapsed: 30.5min\n",
            "[Parallel(n_jobs=8)]: Done 694 tasks      | elapsed: 30.5min\n",
            "[Parallel(n_jobs=8)]: Done 695 tasks      | elapsed: 30.5min\n",
            "[Parallel(n_jobs=8)]: Done 696 tasks      | elapsed: 30.5min\n",
            "[Parallel(n_jobs=8)]: Done 697 tasks      | elapsed: 30.5min\n",
            "[Parallel(n_jobs=8)]: Done 698 tasks      | elapsed: 30.5min\n",
            "[Parallel(n_jobs=8)]: Done 699 tasks      | elapsed: 30.6min\n",
            "[Parallel(n_jobs=8)]: Done 700 tasks      | elapsed: 30.6min\n",
            "[Parallel(n_jobs=8)]: Done 701 tasks      | elapsed: 30.6min\n",
            "[Parallel(n_jobs=8)]: Done 702 tasks      | elapsed: 30.6min\n",
            "[Parallel(n_jobs=8)]: Done 703 tasks      | elapsed: 30.7min\n",
            "[Parallel(n_jobs=8)]: Done 704 tasks      | elapsed: 30.7min\n",
            "[Parallel(n_jobs=8)]: Done 705 tasks      | elapsed: 30.7min\n",
            "[Parallel(n_jobs=8)]: Done 706 tasks      | elapsed: 30.7min\n",
            "[Parallel(n_jobs=8)]: Done 707 tasks      | elapsed: 30.7min\n",
            "[Parallel(n_jobs=8)]: Done 708 tasks      | elapsed: 30.7min\n",
            "[Parallel(n_jobs=8)]: Done 709 tasks      | elapsed: 30.7min\n",
            "[Parallel(n_jobs=8)]: Done 710 tasks      | elapsed: 30.8min\n",
            "[Parallel(n_jobs=8)]: Done 711 tasks      | elapsed: 30.8min\n",
            "[Parallel(n_jobs=8)]: Done 712 tasks      | elapsed: 30.8min\n",
            "[Parallel(n_jobs=8)]: Done 713 tasks      | elapsed: 30.8min\n",
            "[Parallel(n_jobs=8)]: Done 714 tasks      | elapsed: 30.8min\n",
            "[Parallel(n_jobs=8)]: Done 715 tasks      | elapsed: 30.8min\n",
            "[Parallel(n_jobs=8)]: Done 716 tasks      | elapsed: 30.9min\n",
            "[Parallel(n_jobs=8)]: Done 717 tasks      | elapsed: 30.9min\n",
            "[Parallel(n_jobs=8)]: Done 718 tasks      | elapsed: 30.9min\n",
            "[Parallel(n_jobs=8)]: Done 719 tasks      | elapsed: 30.9min\n",
            "[Parallel(n_jobs=8)]: Done 720 tasks      | elapsed: 30.9min\n",
            "[Parallel(n_jobs=8)]: Done 721 tasks      | elapsed: 31.0min\n",
            "[Parallel(n_jobs=8)]: Done 722 tasks      | elapsed: 31.0min\n",
            "[Parallel(n_jobs=8)]: Done 723 tasks      | elapsed: 31.0min\n",
            "[Parallel(n_jobs=8)]: Done 724 tasks      | elapsed: 31.0min\n",
            "[Parallel(n_jobs=8)]: Done 725 tasks      | elapsed: 31.0min\n",
            "[Parallel(n_jobs=8)]: Done 726 tasks      | elapsed: 31.0min\n",
            "[Parallel(n_jobs=8)]: Done 727 tasks      | elapsed: 31.0min\n",
            "[Parallel(n_jobs=8)]: Done 728 tasks      | elapsed: 31.0min\n",
            "[Parallel(n_jobs=8)]: Done 729 tasks      | elapsed: 31.0min\n",
            "[Parallel(n_jobs=8)]: Done 730 tasks      | elapsed: 31.1min\n",
            "[Parallel(n_jobs=8)]: Done 731 tasks      | elapsed: 31.1min\n",
            "[Parallel(n_jobs=8)]: Done 732 tasks      | elapsed: 31.1min\n",
            "[Parallel(n_jobs=8)]: Done 733 tasks      | elapsed: 31.1min\n",
            "[Parallel(n_jobs=8)]: Done 734 tasks      | elapsed: 31.1min\n",
            "[Parallel(n_jobs=8)]: Done 735 tasks      | elapsed: 31.1min\n",
            "[Parallel(n_jobs=8)]: Done 736 tasks      | elapsed: 31.2min\n",
            "[Parallel(n_jobs=8)]: Done 737 tasks      | elapsed: 31.2min\n",
            "[Parallel(n_jobs=8)]: Done 738 tasks      | elapsed: 31.2min\n",
            "[Parallel(n_jobs=8)]: Done 739 tasks      | elapsed: 31.2min\n",
            "[Parallel(n_jobs=8)]: Done 740 tasks      | elapsed: 31.2min\n",
            "[Parallel(n_jobs=8)]: Done 741 tasks      | elapsed: 31.2min\n",
            "[Parallel(n_jobs=8)]: Done 742 tasks      | elapsed: 31.2min\n",
            "[Parallel(n_jobs=8)]: Done 743 tasks      | elapsed: 31.2min\n",
            "[Parallel(n_jobs=8)]: Done 744 tasks      | elapsed: 31.2min\n",
            "[Parallel(n_jobs=8)]: Done 745 tasks      | elapsed: 31.3min\n",
            "[Parallel(n_jobs=8)]: Done 746 tasks      | elapsed: 31.3min\n",
            "[Parallel(n_jobs=8)]: Done 747 tasks      | elapsed: 31.3min\n",
            "[Parallel(n_jobs=8)]: Done 748 tasks      | elapsed: 31.3min\n",
            "[Parallel(n_jobs=8)]: Done 749 tasks      | elapsed: 31.3min\n",
            "[Parallel(n_jobs=8)]: Done 750 tasks      | elapsed: 31.3min\n",
            "[Parallel(n_jobs=8)]: Done 751 tasks      | elapsed: 31.3min\n",
            "[Parallel(n_jobs=8)]: Done 752 tasks      | elapsed: 31.3min\n",
            "[Parallel(n_jobs=8)]: Done 753 tasks      | elapsed: 31.4min\n",
            "[Parallel(n_jobs=8)]: Done 754 tasks      | elapsed: 31.4min\n",
            "[Parallel(n_jobs=8)]: Done 755 tasks      | elapsed: 31.4min\n",
            "[Parallel(n_jobs=8)]: Done 756 tasks      | elapsed: 31.4min\n",
            "[Parallel(n_jobs=8)]: Done 757 tasks      | elapsed: 31.4min\n",
            "[Parallel(n_jobs=8)]: Done 758 tasks      | elapsed: 31.4min\n",
            "[Parallel(n_jobs=8)]: Done 759 tasks      | elapsed: 31.4min\n",
            "[Parallel(n_jobs=8)]: Done 760 tasks      | elapsed: 31.4min\n",
            "[Parallel(n_jobs=8)]: Done 761 tasks      | elapsed: 31.4min\n",
            "[Parallel(n_jobs=8)]: Done 762 tasks      | elapsed: 31.4min\n",
            "[Parallel(n_jobs=8)]: Done 763 tasks      | elapsed: 31.4min\n",
            "[Parallel(n_jobs=8)]: Done 764 tasks      | elapsed: 31.5min\n",
            "[Parallel(n_jobs=8)]: Done 765 tasks      | elapsed: 31.5min\n",
            "[Parallel(n_jobs=8)]: Done 766 tasks      | elapsed: 31.5min\n",
            "[Parallel(n_jobs=8)]: Done 767 tasks      | elapsed: 31.5min\n",
            "[Parallel(n_jobs=8)]: Done 768 tasks      | elapsed: 31.5min\n",
            "[Parallel(n_jobs=8)]: Done 769 tasks      | elapsed: 31.5min\n",
            "[Parallel(n_jobs=8)]: Done 770 tasks      | elapsed: 31.5min\n",
            "[Parallel(n_jobs=8)]: Done 771 tasks      | elapsed: 31.5min\n",
            "[Parallel(n_jobs=8)]: Done 772 tasks      | elapsed: 31.5min\n",
            "[Parallel(n_jobs=8)]: Done 773 tasks      | elapsed: 31.5min\n",
            "[Parallel(n_jobs=8)]: Done 774 tasks      | elapsed: 31.6min\n",
            "[Parallel(n_jobs=8)]: Done 775 tasks      | elapsed: 31.6min\n",
            "[Parallel(n_jobs=8)]: Done 776 tasks      | elapsed: 31.6min\n",
            "[Parallel(n_jobs=8)]: Done 777 tasks      | elapsed: 31.6min\n",
            "[Parallel(n_jobs=8)]: Done 778 tasks      | elapsed: 31.6min\n",
            "[Parallel(n_jobs=8)]: Done 779 tasks      | elapsed: 31.6min\n",
            "[Parallel(n_jobs=8)]: Done 780 tasks      | elapsed: 31.6min\n",
            "[Parallel(n_jobs=8)]: Done 781 tasks      | elapsed: 31.6min\n",
            "[Parallel(n_jobs=8)]: Done 782 tasks      | elapsed: 31.6min\n",
            "[Parallel(n_jobs=8)]: Done 783 tasks      | elapsed: 31.6min\n",
            "[Parallel(n_jobs=8)]: Done 784 tasks      | elapsed: 31.6min\n",
            "[Parallel(n_jobs=8)]: Done 785 tasks      | elapsed: 31.6min\n",
            "[Parallel(n_jobs=8)]: Done 786 tasks      | elapsed: 31.7min\n",
            "[Parallel(n_jobs=8)]: Done 787 tasks      | elapsed: 31.7min\n",
            "[Parallel(n_jobs=8)]: Done 788 tasks      | elapsed: 31.7min\n",
            "[Parallel(n_jobs=8)]: Done 789 tasks      | elapsed: 31.7min\n",
            "[Parallel(n_jobs=8)]: Done 790 tasks      | elapsed: 31.7min\n",
            "[Parallel(n_jobs=8)]: Done 791 tasks      | elapsed: 31.7min\n",
            "[Parallel(n_jobs=8)]: Done 792 tasks      | elapsed: 31.7min\n",
            "[Parallel(n_jobs=8)]: Done 793 tasks      | elapsed: 31.7min\n",
            "[Parallel(n_jobs=8)]: Done 794 tasks      | elapsed: 31.7min\n",
            "[Parallel(n_jobs=8)]: Done 795 tasks      | elapsed: 31.8min\n",
            "[Parallel(n_jobs=8)]: Done 796 tasks      | elapsed: 31.8min\n",
            "[Parallel(n_jobs=8)]: Done 797 tasks      | elapsed: 31.8min\n",
            "[Parallel(n_jobs=8)]: Done 798 tasks      | elapsed: 31.8min\n",
            "[Parallel(n_jobs=8)]: Done 799 tasks      | elapsed: 31.8min\n",
            "[Parallel(n_jobs=8)]: Done 800 tasks      | elapsed: 31.8min\n",
            "[Parallel(n_jobs=8)]: Done 801 tasks      | elapsed: 31.8min\n",
            "[Parallel(n_jobs=8)]: Done 802 tasks      | elapsed: 31.8min\n",
            "[Parallel(n_jobs=8)]: Done 803 tasks      | elapsed: 31.8min\n",
            "[Parallel(n_jobs=8)]: Done 804 tasks      | elapsed: 31.8min\n",
            "[Parallel(n_jobs=8)]: Done 805 tasks      | elapsed: 31.8min\n",
            "[Parallel(n_jobs=8)]: Done 806 tasks      | elapsed: 31.9min\n",
            "[Parallel(n_jobs=8)]: Done 807 tasks      | elapsed: 31.9min\n",
            "[Parallel(n_jobs=8)]: Done 808 tasks      | elapsed: 31.9min\n",
            "[Parallel(n_jobs=8)]: Done 809 tasks      | elapsed: 31.9min\n",
            "[Parallel(n_jobs=8)]: Done 810 tasks      | elapsed: 31.9min\n",
            "[Parallel(n_jobs=8)]: Done 811 tasks      | elapsed: 31.9min\n",
            "[Parallel(n_jobs=8)]: Done 812 tasks      | elapsed: 31.9min\n",
            "[Parallel(n_jobs=8)]: Done 813 tasks      | elapsed: 31.9min\n",
            "[Parallel(n_jobs=8)]: Done 814 tasks      | elapsed: 31.9min\n",
            "[Parallel(n_jobs=8)]: Done 815 tasks      | elapsed: 31.9min\n",
            "[Parallel(n_jobs=8)]: Done 816 tasks      | elapsed: 31.9min\n",
            "[Parallel(n_jobs=8)]: Done 817 tasks      | elapsed: 31.9min\n",
            "[Parallel(n_jobs=8)]: Done 818 tasks      | elapsed: 31.9min\n",
            "[Parallel(n_jobs=8)]: Done 819 tasks      | elapsed: 32.0min\n",
            "[Parallel(n_jobs=8)]: Done 820 tasks      | elapsed: 32.0min\n",
            "[Parallel(n_jobs=8)]: Done 821 tasks      | elapsed: 32.0min\n",
            "[Parallel(n_jobs=8)]: Done 822 tasks      | elapsed: 32.0min\n",
            "[Parallel(n_jobs=8)]: Done 823 tasks      | elapsed: 32.0min\n",
            "[Parallel(n_jobs=8)]: Done 824 tasks      | elapsed: 32.0min\n",
            "[Parallel(n_jobs=8)]: Done 825 tasks      | elapsed: 32.0min\n",
            "[Parallel(n_jobs=8)]: Done 826 tasks      | elapsed: 32.0min\n",
            "[Parallel(n_jobs=8)]: Done 827 tasks      | elapsed: 32.0min\n",
            "[Parallel(n_jobs=8)]: Done 828 tasks      | elapsed: 32.0min\n",
            "[Parallel(n_jobs=8)]: Done 829 tasks      | elapsed: 32.1min\n",
            "[Parallel(n_jobs=8)]: Done 830 tasks      | elapsed: 32.1min\n",
            "[Parallel(n_jobs=8)]: Done 831 tasks      | elapsed: 32.1min\n",
            "[Parallel(n_jobs=8)]: Done 832 tasks      | elapsed: 32.1min\n",
            "[Parallel(n_jobs=8)]: Done 833 tasks      | elapsed: 32.1min\n",
            "[Parallel(n_jobs=8)]: Done 834 tasks      | elapsed: 32.1min\n",
            "[Parallel(n_jobs=8)]: Done 835 tasks      | elapsed: 32.1min\n",
            "[Parallel(n_jobs=8)]: Done 836 tasks      | elapsed: 32.1min\n",
            "[Parallel(n_jobs=8)]: Done 837 tasks      | elapsed: 32.1min\n",
            "[Parallel(n_jobs=8)]: Done 838 tasks      | elapsed: 32.1min\n",
            "[Parallel(n_jobs=8)]: Done 839 tasks      | elapsed: 32.1min\n",
            "[Parallel(n_jobs=8)]: Done 840 tasks      | elapsed: 32.1min\n",
            "[Parallel(n_jobs=8)]: Done 841 tasks      | elapsed: 32.1min\n",
            "[Parallel(n_jobs=8)]: Done 842 tasks      | elapsed: 32.1min\n",
            "[Parallel(n_jobs=8)]: Done 843 tasks      | elapsed: 32.1min\n",
            "[Parallel(n_jobs=8)]: Done 844 tasks      | elapsed: 32.1min\n",
            "[Parallel(n_jobs=8)]: Done 845 tasks      | elapsed: 32.2min\n",
            "[Parallel(n_jobs=8)]: Done 846 tasks      | elapsed: 32.2min\n",
            "[Parallel(n_jobs=8)]: Done 847 tasks      | elapsed: 32.2min\n",
            "[Parallel(n_jobs=8)]: Done 848 tasks      | elapsed: 32.2min\n",
            "[Parallel(n_jobs=8)]: Done 849 tasks      | elapsed: 32.2min\n",
            "[Parallel(n_jobs=8)]: Done 850 tasks      | elapsed: 32.2min\n",
            "[Parallel(n_jobs=8)]: Done 851 tasks      | elapsed: 32.2min\n",
            "[Parallel(n_jobs=8)]: Done 852 tasks      | elapsed: 32.2min\n",
            "[Parallel(n_jobs=8)]: Done 853 tasks      | elapsed: 32.2min\n",
            "[Parallel(n_jobs=8)]: Done 854 tasks      | elapsed: 32.2min\n",
            "[Parallel(n_jobs=8)]: Done 855 tasks      | elapsed: 32.2min\n",
            "[Parallel(n_jobs=8)]: Done 856 tasks      | elapsed: 32.2min\n",
            "[Parallel(n_jobs=8)]: Done 857 tasks      | elapsed: 32.2min\n",
            "[Parallel(n_jobs=8)]: Done 858 tasks      | elapsed: 32.2min\n",
            "[Parallel(n_jobs=8)]: Done 859 tasks      | elapsed: 32.3min\n",
            "[Parallel(n_jobs=8)]: Done 860 tasks      | elapsed: 32.3min\n",
            "[Parallel(n_jobs=8)]: Done 861 tasks      | elapsed: 32.3min\n",
            "[Parallel(n_jobs=8)]: Done 862 tasks      | elapsed: 32.3min\n",
            "[Parallel(n_jobs=8)]: Done 863 tasks      | elapsed: 32.3min\n",
            "[Parallel(n_jobs=8)]: Done 864 tasks      | elapsed: 32.3min\n",
            "[Parallel(n_jobs=8)]: Done 865 tasks      | elapsed: 32.3min\n",
            "[Parallel(n_jobs=8)]: Done 866 tasks      | elapsed: 32.4min\n",
            "[Parallel(n_jobs=8)]: Done 867 tasks      | elapsed: 32.4min\n",
            "[Parallel(n_jobs=8)]: Done 868 tasks      | elapsed: 32.4min\n",
            "[Parallel(n_jobs=8)]: Done 869 tasks      | elapsed: 32.4min\n",
            "[Parallel(n_jobs=8)]: Done 870 tasks      | elapsed: 32.4min\n",
            "[Parallel(n_jobs=8)]: Done 871 tasks      | elapsed: 32.4min\n",
            "[Parallel(n_jobs=8)]: Done 872 tasks      | elapsed: 32.5min\n",
            "[Parallel(n_jobs=8)]: Done 873 tasks      | elapsed: 32.5min\n",
            "[Parallel(n_jobs=8)]: Done 874 tasks      | elapsed: 32.5min\n",
            "[Parallel(n_jobs=8)]: Done 875 tasks      | elapsed: 32.5min\n",
            "[Parallel(n_jobs=8)]: Done 876 tasks      | elapsed: 32.5min\n",
            "[Parallel(n_jobs=8)]: Done 877 tasks      | elapsed: 32.6min\n",
            "[Parallel(n_jobs=8)]: Done 878 tasks      | elapsed: 32.6min\n",
            "[Parallel(n_jobs=8)]: Done 879 tasks      | elapsed: 32.6min\n",
            "[Parallel(n_jobs=8)]: Done 880 tasks      | elapsed: 32.6min\n",
            "[Parallel(n_jobs=8)]: Done 881 tasks      | elapsed: 32.7min\n",
            "[Parallel(n_jobs=8)]: Done 882 tasks      | elapsed: 32.7min\n",
            "[Parallel(n_jobs=8)]: Done 883 tasks      | elapsed: 32.7min\n",
            "[Parallel(n_jobs=8)]: Done 884 tasks      | elapsed: 32.7min\n",
            "[Parallel(n_jobs=8)]: Done 885 tasks      | elapsed: 32.8min\n",
            "[Parallel(n_jobs=8)]: Done 886 tasks      | elapsed: 32.8min\n",
            "[Parallel(n_jobs=8)]: Done 887 tasks      | elapsed: 32.8min\n",
            "[Parallel(n_jobs=8)]: Done 888 tasks      | elapsed: 32.8min\n",
            "[Parallel(n_jobs=8)]: Done 889 tasks      | elapsed: 32.8min\n",
            "[Parallel(n_jobs=8)]: Done 890 tasks      | elapsed: 32.8min\n",
            "[Parallel(n_jobs=8)]: Done 891 tasks      | elapsed: 32.9min\n",
            "[Parallel(n_jobs=8)]: Done 892 tasks      | elapsed: 32.9min\n",
            "[Parallel(n_jobs=8)]: Done 893 tasks      | elapsed: 32.9min\n",
            "[Parallel(n_jobs=8)]: Done 894 tasks      | elapsed: 32.9min\n",
            "[Parallel(n_jobs=8)]: Done 895 tasks      | elapsed: 32.9min\n",
            "[Parallel(n_jobs=8)]: Done 896 tasks      | elapsed: 33.0min\n",
            "[Parallel(n_jobs=8)]: Done 897 tasks      | elapsed: 33.0min\n",
            "[Parallel(n_jobs=8)]: Done 898 tasks      | elapsed: 33.0min\n",
            "[Parallel(n_jobs=8)]: Done 899 tasks      | elapsed: 33.0min\n",
            "[Parallel(n_jobs=8)]: Done 900 tasks      | elapsed: 33.0min\n",
            "[Parallel(n_jobs=8)]: Done 901 tasks      | elapsed: 33.1min\n",
            "[Parallel(n_jobs=8)]: Done 902 tasks      | elapsed: 33.1min\n",
            "[Parallel(n_jobs=8)]: Done 903 tasks      | elapsed: 33.1min\n",
            "[Parallel(n_jobs=8)]: Done 904 tasks      | elapsed: 33.1min\n",
            "[Parallel(n_jobs=8)]: Done 905 tasks      | elapsed: 33.1min\n",
            "[Parallel(n_jobs=8)]: Done 906 tasks      | elapsed: 33.1min\n",
            "[Parallel(n_jobs=8)]: Done 907 tasks      | elapsed: 33.1min\n",
            "[Parallel(n_jobs=8)]: Done 908 tasks      | elapsed: 33.1min\n",
            "[Parallel(n_jobs=8)]: Done 909 tasks      | elapsed: 33.2min\n",
            "[Parallel(n_jobs=8)]: Done 910 tasks      | elapsed: 33.2min\n",
            "[Parallel(n_jobs=8)]: Done 911 tasks      | elapsed: 33.2min\n",
            "[Parallel(n_jobs=8)]: Done 912 tasks      | elapsed: 33.2min\n",
            "[Parallel(n_jobs=8)]: Done 913 tasks      | elapsed: 33.2min\n",
            "[Parallel(n_jobs=8)]: Done 914 tasks      | elapsed: 33.2min\n",
            "[Parallel(n_jobs=8)]: Done 915 tasks      | elapsed: 33.2min\n",
            "[Parallel(n_jobs=8)]: Done 916 tasks      | elapsed: 33.3min\n",
            "[Parallel(n_jobs=8)]: Done 917 tasks      | elapsed: 33.3min\n",
            "[Parallel(n_jobs=8)]: Done 918 tasks      | elapsed: 33.3min\n",
            "[Parallel(n_jobs=8)]: Done 919 tasks      | elapsed: 33.3min\n",
            "[Parallel(n_jobs=8)]: Done 920 tasks      | elapsed: 33.4min\n",
            "[Parallel(n_jobs=8)]: Done 921 tasks      | elapsed: 33.4min\n",
            "[Parallel(n_jobs=8)]: Done 922 tasks      | elapsed: 33.4min\n",
            "[Parallel(n_jobs=8)]: Done 923 tasks      | elapsed: 33.4min\n",
            "[Parallel(n_jobs=8)]: Done 924 tasks      | elapsed: 33.5min\n",
            "[Parallel(n_jobs=8)]: Done 925 tasks      | elapsed: 33.5min\n",
            "[Parallel(n_jobs=8)]: Done 926 tasks      | elapsed: 33.5min\n",
            "[Parallel(n_jobs=8)]: Done 927 tasks      | elapsed: 33.5min\n",
            "[Parallel(n_jobs=8)]: Done 928 tasks      | elapsed: 33.5min\n",
            "[Parallel(n_jobs=8)]: Done 929 tasks      | elapsed: 33.5min\n",
            "[Parallel(n_jobs=8)]: Done 930 tasks      | elapsed: 33.5min\n",
            "[Parallel(n_jobs=8)]: Done 931 tasks      | elapsed: 33.6min\n",
            "[Parallel(n_jobs=8)]: Done 932 tasks      | elapsed: 33.6min\n",
            "[Parallel(n_jobs=8)]: Done 933 tasks      | elapsed: 33.6min\n",
            "[Parallel(n_jobs=8)]: Done 934 tasks      | elapsed: 33.6min\n",
            "[Parallel(n_jobs=8)]: Done 935 tasks      | elapsed: 33.6min\n",
            "[Parallel(n_jobs=8)]: Done 936 tasks      | elapsed: 35.4min\n",
            "[Parallel(n_jobs=8)]: Done 937 tasks      | elapsed: 35.9min\n",
            "[Parallel(n_jobs=8)]: Done 938 tasks      | elapsed: 36.0min\n",
            "[Parallel(n_jobs=8)]: Done 939 tasks      | elapsed: 36.0min\n",
            "[Parallel(n_jobs=8)]: Done 940 tasks      | elapsed: 36.1min\n",
            "[Parallel(n_jobs=8)]: Done 941 tasks      | elapsed: 36.1min\n",
            "[Parallel(n_jobs=8)]: Done 942 tasks      | elapsed: 36.2min\n",
            "[Parallel(n_jobs=8)]: Done 943 tasks      | elapsed: 36.2min\n",
            "[Parallel(n_jobs=8)]: Done 944 tasks      | elapsed: 36.2min\n",
            "[Parallel(n_jobs=8)]: Done 945 tasks      | elapsed: 36.3min\n",
            "[Parallel(n_jobs=8)]: Done 946 tasks      | elapsed: 36.3min\n",
            "[Parallel(n_jobs=8)]: Done 947 tasks      | elapsed: 36.4min\n",
            "[Parallel(n_jobs=8)]: Done 948 tasks      | elapsed: 36.5min\n",
            "[Parallel(n_jobs=8)]: Done 949 tasks      | elapsed: 36.5min\n",
            "[Parallel(n_jobs=8)]: Done 950 tasks      | elapsed: 36.6min\n",
            "[Parallel(n_jobs=8)]: Done 951 tasks      | elapsed: 36.6min\n",
            "[Parallel(n_jobs=8)]: Done 952 tasks      | elapsed: 36.6min\n",
            "[Parallel(n_jobs=8)]: Done 953 tasks      | elapsed: 36.7min\n",
            "[Parallel(n_jobs=8)]: Done 954 tasks      | elapsed: 36.7min\n",
            "[Parallel(n_jobs=8)]: Done 955 tasks      | elapsed: 36.7min\n",
            "[Parallel(n_jobs=8)]: Done 956 tasks      | elapsed: 36.8min\n",
            "[Parallel(n_jobs=8)]: Done 957 tasks      | elapsed: 36.9min\n",
            "[Parallel(n_jobs=8)]: Done 958 tasks      | elapsed: 37.0min\n",
            "[Parallel(n_jobs=8)]: Done 959 tasks      | elapsed: 37.0min\n",
            "[Parallel(n_jobs=8)]: Done 960 tasks      | elapsed: 37.1min\n",
            "[Parallel(n_jobs=8)]: Done 961 tasks      | elapsed: 37.1min\n",
            "[Parallel(n_jobs=8)]: Done 962 tasks      | elapsed: 37.1min\n",
            "[Parallel(n_jobs=8)]: Done 963 tasks      | elapsed: 37.2min\n",
            "[Parallel(n_jobs=8)]: Done 964 tasks      | elapsed: 37.2min\n",
            "[Parallel(n_jobs=8)]: Done 965 tasks      | elapsed: 37.2min\n",
            "[Parallel(n_jobs=8)]: Done 966 tasks      | elapsed: 37.2min\n",
            "[Parallel(n_jobs=8)]: Done 967 tasks      | elapsed: 37.2min\n",
            "[Parallel(n_jobs=8)]: Done 968 tasks      | elapsed: 37.3min\n",
            "[Parallel(n_jobs=8)]: Done 969 tasks      | elapsed: 37.3min\n",
            "[Parallel(n_jobs=8)]: Done 970 tasks      | elapsed: 37.3min\n",
            "[Parallel(n_jobs=8)]: Done 971 tasks      | elapsed: 37.3min\n",
            "[Parallel(n_jobs=8)]: Done 972 tasks      | elapsed: 37.3min\n",
            "[Parallel(n_jobs=8)]: Done 973 tasks      | elapsed: 37.3min\n",
            "[Parallel(n_jobs=8)]: Done 974 tasks      | elapsed: 37.4min\n",
            "[Parallel(n_jobs=8)]: Done 975 tasks      | elapsed: 37.4min\n",
            "[Parallel(n_jobs=8)]: Done 976 tasks      | elapsed: 37.4min\n",
            "[Parallel(n_jobs=8)]: Done 977 tasks      | elapsed: 37.4min\n",
            "[Parallel(n_jobs=8)]: Done 978 tasks      | elapsed: 37.4min\n",
            "[Parallel(n_jobs=8)]: Done 979 tasks      | elapsed: 37.5min\n",
            "[Parallel(n_jobs=8)]: Done 980 tasks      | elapsed: 37.5min\n",
            "[Parallel(n_jobs=8)]: Done 981 tasks      | elapsed: 37.5min\n",
            "[Parallel(n_jobs=8)]: Done 982 tasks      | elapsed: 37.5min\n",
            "[Parallel(n_jobs=8)]: Done 983 tasks      | elapsed: 37.5min\n",
            "[Parallel(n_jobs=8)]: Done 984 tasks      | elapsed: 37.5min\n",
            "[Parallel(n_jobs=8)]: Done 985 tasks      | elapsed: 37.5min\n",
            "[Parallel(n_jobs=8)]: Done 986 tasks      | elapsed: 37.5min\n",
            "[Parallel(n_jobs=8)]: Done 987 tasks      | elapsed: 37.5min\n",
            "[Parallel(n_jobs=8)]: Done 988 tasks      | elapsed: 37.6min\n",
            "[Parallel(n_jobs=8)]: Done 989 tasks      | elapsed: 37.6min\n",
            "[Parallel(n_jobs=8)]: Done 990 tasks      | elapsed: 37.6min\n",
            "[Parallel(n_jobs=8)]: Done 991 tasks      | elapsed: 37.6min\n",
            "[Parallel(n_jobs=8)]: Done 992 tasks      | elapsed: 37.6min\n",
            "[Parallel(n_jobs=8)]: Done 993 tasks      | elapsed: 37.6min\n",
            "[Parallel(n_jobs=8)]: Done 994 tasks      | elapsed: 37.6min\n",
            "[Parallel(n_jobs=8)]: Done 995 tasks      | elapsed: 37.6min\n",
            "[Parallel(n_jobs=8)]: Done 996 tasks      | elapsed: 37.7min\n",
            "[Parallel(n_jobs=8)]: Done 997 tasks      | elapsed: 37.7min\n",
            "[Parallel(n_jobs=8)]: Done 998 tasks      | elapsed: 37.7min\n",
            "[Parallel(n_jobs=8)]: Done 999 tasks      | elapsed: 37.7min\n",
            "[Parallel(n_jobs=8)]: Done 1000 tasks      | elapsed: 37.8min\n",
            "[Parallel(n_jobs=8)]: Done 1001 tasks      | elapsed: 37.8min\n",
            "[Parallel(n_jobs=8)]: Done 1002 tasks      | elapsed: 37.8min\n",
            "[Parallel(n_jobs=8)]: Done 1003 tasks      | elapsed: 37.8min\n",
            "[Parallel(n_jobs=8)]: Done 1004 tasks      | elapsed: 37.8min\n",
            "[Parallel(n_jobs=8)]: Done 1005 tasks      | elapsed: 37.9min\n",
            "[Parallel(n_jobs=8)]: Done 1006 tasks      | elapsed: 39.2min\n",
            "[Parallel(n_jobs=8)]: Done 1007 tasks      | elapsed: 39.6min\n",
            "[Parallel(n_jobs=8)]: Done 1008 tasks      | elapsed: 39.6min\n",
            "[Parallel(n_jobs=8)]: Done 1009 tasks      | elapsed: 39.7min\n",
            "[Parallel(n_jobs=8)]: Done 1010 tasks      | elapsed: 39.7min\n",
            "[Parallel(n_jobs=8)]: Done 1011 tasks      | elapsed: 39.8min\n",
            "[Parallel(n_jobs=8)]: Done 1012 tasks      | elapsed: 39.8min\n",
            "[Parallel(n_jobs=8)]: Done 1013 tasks      | elapsed: 39.8min\n",
            "[Parallel(n_jobs=8)]: Done 1014 tasks      | elapsed: 39.9min\n",
            "[Parallel(n_jobs=8)]: Done 1015 tasks      | elapsed: 39.9min\n",
            "[Parallel(n_jobs=8)]: Done 1016 tasks      | elapsed: 40.0min\n",
            "[Parallel(n_jobs=8)]: Done 1017 tasks      | elapsed: 40.0min\n",
            "[Parallel(n_jobs=8)]: Done 1018 tasks      | elapsed: 40.1min\n",
            "[Parallel(n_jobs=8)]: Done 1019 tasks      | elapsed: 40.1min\n",
            "[Parallel(n_jobs=8)]: Done 1020 tasks      | elapsed: 40.2min\n",
            "[Parallel(n_jobs=8)]: Done 1021 tasks      | elapsed: 40.2min\n",
            "[Parallel(n_jobs=8)]: Done 1022 tasks      | elapsed: 40.3min\n",
            "[Parallel(n_jobs=8)]: Done 1023 tasks      | elapsed: 40.4min\n",
            "[Parallel(n_jobs=8)]: Done 1024 tasks      | elapsed: 40.4min\n",
            "[Parallel(n_jobs=8)]: Done 1025 tasks      | elapsed: 40.5min\n",
            "[Parallel(n_jobs=8)]: Done 1026 tasks      | elapsed: 40.5min\n",
            "[Parallel(n_jobs=8)]: Done 1027 tasks      | elapsed: 40.5min\n",
            "[Parallel(n_jobs=8)]: Done 1028 tasks      | elapsed: 40.5min\n",
            "[Parallel(n_jobs=8)]: Done 1029 tasks      | elapsed: 40.5min\n",
            "[Parallel(n_jobs=8)]: Done 1030 tasks      | elapsed: 40.5min\n",
            "[Parallel(n_jobs=8)]: Done 1031 tasks      | elapsed: 40.6min\n",
            "[Parallel(n_jobs=8)]: Done 1032 tasks      | elapsed: 40.6min\n",
            "[Parallel(n_jobs=8)]: Done 1033 tasks      | elapsed: 40.6min\n",
            "[Parallel(n_jobs=8)]: Done 1034 tasks      | elapsed: 40.6min\n",
            "[Parallel(n_jobs=8)]: Done 1035 tasks      | elapsed: 40.6min\n",
            "[Parallel(n_jobs=8)]: Done 1036 tasks      | elapsed: 40.7min\n",
            "[Parallel(n_jobs=8)]: Done 1037 tasks      | elapsed: 40.7min\n",
            "[Parallel(n_jobs=8)]: Done 1038 tasks      | elapsed: 40.7min\n",
            "[Parallel(n_jobs=8)]: Done 1039 tasks      | elapsed: 40.8min\n",
            "[Parallel(n_jobs=8)]: Done 1040 tasks      | elapsed: 40.8min\n",
            "[Parallel(n_jobs=8)]: Done 1041 tasks      | elapsed: 40.8min\n",
            "[Parallel(n_jobs=8)]: Done 1042 tasks      | elapsed: 40.8min\n",
            "[Parallel(n_jobs=8)]: Done 1043 tasks      | elapsed: 40.8min\n",
            "[Parallel(n_jobs=8)]: Done 1044 tasks      | elapsed: 40.9min\n",
            "[Parallel(n_jobs=8)]: Done 1045 tasks      | elapsed: 40.9min\n",
            "[Parallel(n_jobs=8)]: Done 1046 tasks      | elapsed: 40.9min\n",
            "[Parallel(n_jobs=8)]: Done 1047 tasks      | elapsed: 40.9min\n",
            "[Parallel(n_jobs=8)]: Done 1048 tasks      | elapsed: 40.9min\n",
            "[Parallel(n_jobs=8)]: Done 1049 tasks      | elapsed: 40.9min\n",
            "[Parallel(n_jobs=8)]: Done 1050 tasks      | elapsed: 41.0min\n",
            "[Parallel(n_jobs=8)]: Done 1051 tasks      | elapsed: 41.0min\n",
            "[Parallel(n_jobs=8)]: Done 1052 tasks      | elapsed: 41.0min\n",
            "[Parallel(n_jobs=8)]: Done 1053 tasks      | elapsed: 41.0min\n",
            "[Parallel(n_jobs=8)]: Done 1054 tasks      | elapsed: 41.1min\n",
            "[Parallel(n_jobs=8)]: Done 1055 tasks      | elapsed: 41.1min\n",
            "[Parallel(n_jobs=8)]: Done 1056 tasks      | elapsed: 42.5min\n",
            "[Parallel(n_jobs=8)]: Done 1057 tasks      | elapsed: 42.8min\n",
            "[Parallel(n_jobs=8)]: Done 1058 tasks      | elapsed: 42.9min\n",
            "[Parallel(n_jobs=8)]: Done 1059 tasks      | elapsed: 42.9min\n",
            "[Parallel(n_jobs=8)]: Done 1060 tasks      | elapsed: 43.0min\n",
            "[Parallel(n_jobs=8)]: Done 1061 tasks      | elapsed: 43.0min\n",
            "[Parallel(n_jobs=8)]: Done 1062 tasks      | elapsed: 43.1min\n",
            "[Parallel(n_jobs=8)]: Done 1063 tasks      | elapsed: 43.2min\n",
            "[Parallel(n_jobs=8)]: Done 1064 tasks      | elapsed: 43.8min\n",
            "[Parallel(n_jobs=8)]: Done 1065 tasks      | elapsed: 44.2min\n",
            "[Parallel(n_jobs=8)]: Done 1066 tasks      | elapsed: 48.1min\n",
            "[Parallel(n_jobs=8)]: Done 1067 tasks      | elapsed: 48.2min\n",
            "[Parallel(n_jobs=8)]: Done 1068 tasks      | elapsed: 48.3min\n",
            "[Parallel(n_jobs=8)]: Done 1069 tasks      | elapsed: 48.4min\n",
            "[Parallel(n_jobs=8)]: Done 1070 tasks      | elapsed: 48.4min\n",
            "[Parallel(n_jobs=8)]: Done 1071 tasks      | elapsed: 48.4min\n",
            "[Parallel(n_jobs=8)]: Done 1072 tasks      | elapsed: 48.4min\n",
            "[Parallel(n_jobs=8)]: Done 1073 tasks      | elapsed: 48.5min\n",
            "[Parallel(n_jobs=8)]: Done 1074 tasks      | elapsed: 48.5min\n",
            "[Parallel(n_jobs=8)]: Done 1075 tasks      | elapsed: 48.5min\n",
            "[Parallel(n_jobs=8)]: Done 1076 tasks      | elapsed: 48.5min\n",
            "[Parallel(n_jobs=8)]: Done 1077 tasks      | elapsed: 48.5min\n",
            "[Parallel(n_jobs=8)]: Done 1078 tasks      | elapsed: 48.5min\n",
            "[Parallel(n_jobs=8)]: Done 1079 tasks      | elapsed: 48.6min\n",
            "[Parallel(n_jobs=8)]: Done 1080 tasks      | elapsed: 48.6min\n",
            "[Parallel(n_jobs=8)]: Done 1081 tasks      | elapsed: 48.6min\n",
            "[Parallel(n_jobs=8)]: Done 1082 tasks      | elapsed: 48.6min\n",
            "[Parallel(n_jobs=8)]: Done 1083 tasks      | elapsed: 48.6min\n",
            "[Parallel(n_jobs=8)]: Done 1084 tasks      | elapsed: 48.6min\n",
            "[Parallel(n_jobs=8)]: Done 1085 tasks      | elapsed: 48.6min\n",
            "[Parallel(n_jobs=8)]: Done 1086 tasks      | elapsed: 48.6min\n",
            "[Parallel(n_jobs=8)]: Done 1087 tasks      | elapsed: 48.7min\n",
            "[Parallel(n_jobs=8)]: Done 1088 tasks      | elapsed: 48.7min\n",
            "[Parallel(n_jobs=8)]: Done 1089 tasks      | elapsed: 48.7min\n",
            "[Parallel(n_jobs=8)]: Done 1090 tasks      | elapsed: 48.7min\n",
            "[Parallel(n_jobs=8)]: Done 1091 tasks      | elapsed: 48.7min\n",
            "[Parallel(n_jobs=8)]: Done 1092 tasks      | elapsed: 48.7min\n",
            "[Parallel(n_jobs=8)]: Done 1093 tasks      | elapsed: 48.8min\n",
            "[Parallel(n_jobs=8)]: Done 1094 tasks      | elapsed: 48.8min\n",
            "[Parallel(n_jobs=8)]: Done 1095 tasks      | elapsed: 48.8min\n",
            "[Parallel(n_jobs=8)]: Done 1096 tasks      | elapsed: 48.8min\n",
            "[Parallel(n_jobs=8)]: Done 1097 tasks      | elapsed: 48.8min\n",
            "[Parallel(n_jobs=8)]: Done 1098 tasks      | elapsed: 49.0min\n",
            "[Parallel(n_jobs=8)]: Done 1099 tasks      | elapsed: 49.0min\n",
            "[Parallel(n_jobs=8)]: Done 1100 tasks      | elapsed: 49.1min\n",
            "[Parallel(n_jobs=8)]: Done 1101 tasks      | elapsed: 49.1min\n",
            "[Parallel(n_jobs=8)]: Done 1102 tasks      | elapsed: 49.2min\n",
            "[Parallel(n_jobs=8)]: Done 1103 tasks      | elapsed: 49.2min\n",
            "[Parallel(n_jobs=8)]: Done 1104 tasks      | elapsed: 49.3min\n",
            "[Parallel(n_jobs=8)]: Done 1105 tasks      | elapsed: 49.3min\n",
            "[Parallel(n_jobs=8)]: Done 1106 tasks      | elapsed: 49.4min\n",
            "[Parallel(n_jobs=8)]: Done 1107 tasks      | elapsed: 49.4min\n",
            "[Parallel(n_jobs=8)]: Done 1108 tasks      | elapsed: 49.4min\n",
            "[Parallel(n_jobs=8)]: Done 1109 tasks      | elapsed: 49.4min\n",
            "[Parallel(n_jobs=8)]: Done 1110 tasks      | elapsed: 49.5min\n",
            "[Parallel(n_jobs=8)]: Done 1111 tasks      | elapsed: 49.5min\n",
            "[Parallel(n_jobs=8)]: Done 1112 tasks      | elapsed: 49.5min\n",
            "[Parallel(n_jobs=8)]: Done 1113 tasks      | elapsed: 49.5min\n",
            "[Parallel(n_jobs=8)]: Done 1114 tasks      | elapsed: 49.6min\n",
            "[Parallel(n_jobs=8)]: Done 1115 tasks      | elapsed: 49.6min\n",
            "[Parallel(n_jobs=8)]: Done 1116 tasks      | elapsed: 49.7min\n",
            "[Parallel(n_jobs=8)]: Done 1117 tasks      | elapsed: 49.7min\n",
            "[Parallel(n_jobs=8)]: Done 1118 tasks      | elapsed: 49.8min\n",
            "[Parallel(n_jobs=8)]: Done 1119 tasks      | elapsed: 49.9min\n",
            "[Parallel(n_jobs=8)]: Done 1120 tasks      | elapsed: 49.9min\n",
            "[Parallel(n_jobs=8)]: Done 1121 tasks      | elapsed: 50.0min\n",
            "[Parallel(n_jobs=8)]: Done 1122 tasks      | elapsed: 50.1min\n",
            "[Parallel(n_jobs=8)]: Done 1123 tasks      | elapsed: 50.1min\n",
            "[Parallel(n_jobs=8)]: Done 1124 tasks      | elapsed: 50.2min\n",
            "[Parallel(n_jobs=8)]: Done 1125 tasks      | elapsed: 50.2min\n",
            "[Parallel(n_jobs=8)]: Done 1126 tasks      | elapsed: 50.2min\n",
            "[Parallel(n_jobs=8)]: Done 1127 tasks      | elapsed: 50.3min\n",
            "[Parallel(n_jobs=8)]: Done 1128 tasks      | elapsed: 50.3min\n",
            "[Parallel(n_jobs=8)]: Done 1129 tasks      | elapsed: 50.3min\n",
            "[Parallel(n_jobs=8)]: Done 1130 tasks      | elapsed: 50.3min\n",
            "[Parallel(n_jobs=8)]: Done 1131 tasks      | elapsed: 50.4min\n",
            "[Parallel(n_jobs=8)]: Done 1132 tasks      | elapsed: 50.4min\n",
            "[Parallel(n_jobs=8)]: Done 1133 tasks      | elapsed: 50.4min\n",
            "[Parallel(n_jobs=8)]: Done 1134 tasks      | elapsed: 50.5min\n",
            "[Parallel(n_jobs=8)]: Done 1135 tasks      | elapsed: 50.5min\n",
            "[Parallel(n_jobs=8)]: Done 1136 tasks      | elapsed: 50.6min\n",
            "[Parallel(n_jobs=8)]: Done 1137 tasks      | elapsed: 50.6min\n",
            "[Parallel(n_jobs=8)]: Done 1138 tasks      | elapsed: 50.7min\n",
            "[Parallel(n_jobs=8)]: Done 1139 tasks      | elapsed: 50.7min\n",
            "[Parallel(n_jobs=8)]: Done 1140 tasks      | elapsed: 50.7min\n",
            "[Parallel(n_jobs=8)]: Done 1141 tasks      | elapsed: 50.8min\n",
            "[Parallel(n_jobs=8)]: Done 1142 tasks      | elapsed: 50.8min\n",
            "[Parallel(n_jobs=8)]: Done 1143 tasks      | elapsed: 50.8min\n",
            "[Parallel(n_jobs=8)]: Done 1144 tasks      | elapsed: 50.9min\n",
            "[Parallel(n_jobs=8)]: Done 1145 tasks      | elapsed: 50.9min\n",
            "[Parallel(n_jobs=8)]: Done 1146 tasks      | elapsed: 50.9min\n",
            "[Parallel(n_jobs=8)]: Done 1147 tasks      | elapsed: 50.9min\n",
            "[Parallel(n_jobs=8)]: Done 1148 tasks      | elapsed: 51.0min\n",
            "[Parallel(n_jobs=8)]: Done 1149 tasks      | elapsed: 51.0min\n",
            "[Parallel(n_jobs=8)]: Done 1150 tasks      | elapsed: 51.0min\n",
            "[Parallel(n_jobs=8)]: Done 1151 tasks      | elapsed: 51.0min\n",
            "[Parallel(n_jobs=8)]: Done 1152 tasks      | elapsed: 51.0min\n",
            "[Parallel(n_jobs=8)]: Done 1153 tasks      | elapsed: 51.0min\n",
            "[Parallel(n_jobs=8)]: Done 1154 tasks      | elapsed: 51.0min\n",
            "[Parallel(n_jobs=8)]: Done 1155 tasks      | elapsed: 51.0min\n",
            "[Parallel(n_jobs=8)]: Done 1156 tasks      | elapsed: 51.0min\n",
            "[Parallel(n_jobs=8)]: Done 1157 tasks      | elapsed: 51.0min\n",
            "[Parallel(n_jobs=8)]: Done 1158 tasks      | elapsed: 51.1min\n",
            "[Parallel(n_jobs=8)]: Done 1159 tasks      | elapsed: 51.1min\n",
            "[Parallel(n_jobs=8)]: Done 1160 tasks      | elapsed: 51.1min\n",
            "[Parallel(n_jobs=8)]: Done 1161 tasks      | elapsed: 51.1min\n",
            "[Parallel(n_jobs=8)]: Done 1162 tasks      | elapsed: 51.1min\n",
            "[Parallel(n_jobs=8)]: Done 1163 tasks      | elapsed: 51.1min\n",
            "[Parallel(n_jobs=8)]: Done 1164 tasks      | elapsed: 51.1min\n",
            "[Parallel(n_jobs=8)]: Done 1165 tasks      | elapsed: 51.1min\n",
            "[Parallel(n_jobs=8)]: Done 1166 tasks      | elapsed: 51.1min\n",
            "[Parallel(n_jobs=8)]: Done 1167 tasks      | elapsed: 51.1min\n",
            "[Parallel(n_jobs=8)]: Done 1168 tasks      | elapsed: 51.1min\n",
            "[Parallel(n_jobs=8)]: Done 1169 tasks      | elapsed: 51.2min\n",
            "[Parallel(n_jobs=8)]: Done 1170 tasks      | elapsed: 51.2min\n",
            "[Parallel(n_jobs=8)]: Done 1171 tasks      | elapsed: 51.2min\n",
            "[Parallel(n_jobs=8)]: Done 1172 tasks      | elapsed: 51.2min\n",
            "[Parallel(n_jobs=8)]: Done 1173 tasks      | elapsed: 51.2min\n",
            "[Parallel(n_jobs=8)]: Done 1174 tasks      | elapsed: 51.2min\n",
            "[Parallel(n_jobs=8)]: Done 1175 tasks      | elapsed: 51.2min\n",
            "[Parallel(n_jobs=8)]: Done 1176 tasks      | elapsed: 51.2min\n",
            "[Parallel(n_jobs=8)]: Done 1177 tasks      | elapsed: 51.2min\n",
            "[Parallel(n_jobs=8)]: Done 1178 tasks      | elapsed: 51.2min\n",
            "[Parallel(n_jobs=8)]: Done 1179 tasks      | elapsed: 51.2min\n",
            "[Parallel(n_jobs=8)]: Done 1180 tasks      | elapsed: 51.3min\n",
            "[Parallel(n_jobs=8)]: Done 1181 tasks      | elapsed: 51.3min\n",
            "[Parallel(n_jobs=8)]: Done 1182 tasks      | elapsed: 51.3min\n",
            "[Parallel(n_jobs=8)]: Done 1183 tasks      | elapsed: 51.3min\n",
            "[Parallel(n_jobs=8)]: Done 1184 tasks      | elapsed: 51.3min\n",
            "[Parallel(n_jobs=8)]: Done 1185 tasks      | elapsed: 51.3min\n",
            "[Parallel(n_jobs=8)]: Done 1186 tasks      | elapsed: 51.3min\n",
            "[Parallel(n_jobs=8)]: Done 1187 tasks      | elapsed: 51.3min\n",
            "[Parallel(n_jobs=8)]: Done 1188 tasks      | elapsed: 51.3min\n",
            "[Parallel(n_jobs=8)]: Done 1189 tasks      | elapsed: 51.3min\n",
            "[Parallel(n_jobs=8)]: Done 1190 tasks      | elapsed: 51.4min\n",
            "[Parallel(n_jobs=8)]: Done 1191 tasks      | elapsed: 51.4min\n",
            "[Parallel(n_jobs=8)]: Done 1192 tasks      | elapsed: 51.4min\n",
            "[Parallel(n_jobs=8)]: Done 1193 tasks      | elapsed: 51.4min\n",
            "[Parallel(n_jobs=8)]: Done 1194 tasks      | elapsed: 51.4min\n",
            "[Parallel(n_jobs=8)]: Done 1195 tasks      | elapsed: 51.4min\n",
            "[Parallel(n_jobs=8)]: Done 1196 tasks      | elapsed: 51.4min\n",
            "[Parallel(n_jobs=8)]: Done 1197 tasks      | elapsed: 51.4min\n",
            "[Parallel(n_jobs=8)]: Done 1198 tasks      | elapsed: 51.4min\n",
            "[Parallel(n_jobs=8)]: Done 1199 tasks      | elapsed: 51.4min\n",
            "[Parallel(n_jobs=8)]: Done 1200 tasks      | elapsed: 51.5min\n",
            "[Parallel(n_jobs=8)]: Done 1201 tasks      | elapsed: 51.5min\n",
            "[Parallel(n_jobs=8)]: Done 1202 tasks      | elapsed: 51.5min\n",
            "[Parallel(n_jobs=8)]: Done 1203 tasks      | elapsed: 51.5min\n",
            "[Parallel(n_jobs=8)]: Done 1204 tasks      | elapsed: 51.5min\n",
            "[Parallel(n_jobs=8)]: Done 1205 tasks      | elapsed: 51.5min\n",
            "[Parallel(n_jobs=8)]: Done 1206 tasks      | elapsed: 51.5min\n",
            "[Parallel(n_jobs=8)]: Done 1207 tasks      | elapsed: 51.6min\n",
            "[Parallel(n_jobs=8)]: Done 1208 tasks      | elapsed: 51.6min\n",
            "[Parallel(n_jobs=8)]: Done 1209 tasks      | elapsed: 51.6min\n",
            "[Parallel(n_jobs=8)]: Done 1210 tasks      | elapsed: 51.7min\n",
            "[Parallel(n_jobs=8)]: Done 1211 tasks      | elapsed: 51.7min\n",
            "[Parallel(n_jobs=8)]: Done 1212 tasks      | elapsed: 51.8min\n",
            "[Parallel(n_jobs=8)]: Done 1213 tasks      | elapsed: 51.8min\n",
            "[Parallel(n_jobs=8)]: Done 1214 tasks      | elapsed: 51.9min\n",
            "[Parallel(n_jobs=8)]: Done 1215 tasks      | elapsed: 51.9min\n",
            "[Parallel(n_jobs=8)]: Done 1216 tasks      | elapsed: 52.0min\n",
            "[Parallel(n_jobs=8)]: Done 1217 tasks      | elapsed: 52.0min\n",
            "[Parallel(n_jobs=8)]: Done 1218 tasks      | elapsed: 52.0min\n",
            "[Parallel(n_jobs=8)]: Done 1219 tasks      | elapsed: 52.1min\n",
            "[Parallel(n_jobs=8)]: Done 1220 tasks      | elapsed: 52.1min\n",
            "[Parallel(n_jobs=8)]: Done 1221 tasks      | elapsed: 52.1min\n",
            "[Parallel(n_jobs=8)]: Done 1222 tasks      | elapsed: 52.1min\n",
            "[Parallel(n_jobs=8)]: Done 1223 tasks      | elapsed: 52.2min\n",
            "[Parallel(n_jobs=8)]: Done 1224 tasks      | elapsed: 52.2min\n",
            "[Parallel(n_jobs=8)]: Done 1225 tasks      | elapsed: 52.2min\n",
            "[Parallel(n_jobs=8)]: Done 1226 tasks      | elapsed: 52.2min\n",
            "[Parallel(n_jobs=8)]: Done 1227 tasks      | elapsed: 52.3min\n",
            "[Parallel(n_jobs=8)]: Done 1228 tasks      | elapsed: 52.3min\n",
            "[Parallel(n_jobs=8)]: Done 1229 tasks      | elapsed: 52.3min\n",
            "[Parallel(n_jobs=8)]: Done 1230 tasks      | elapsed: 52.4min\n",
            "[Parallel(n_jobs=8)]: Done 1231 tasks      | elapsed: 52.5min\n",
            "[Parallel(n_jobs=8)]: Done 1232 tasks      | elapsed: 52.5min\n",
            "[Parallel(n_jobs=8)]: Done 1233 tasks      | elapsed: 52.6min\n",
            "[Parallel(n_jobs=8)]: Done 1234 tasks      | elapsed: 52.6min\n",
            "[Parallel(n_jobs=8)]: Done 1235 tasks      | elapsed: 52.7min\n",
            "[Parallel(n_jobs=8)]: Done 1236 tasks      | elapsed: 52.7min\n",
            "[Parallel(n_jobs=8)]: Done 1237 tasks      | elapsed: 52.8min\n",
            "[Parallel(n_jobs=8)]: Done 1238 tasks      | elapsed: 52.8min\n",
            "[Parallel(n_jobs=8)]: Done 1239 tasks      | elapsed: 52.9min\n",
            "[Parallel(n_jobs=8)]: Done 1240 tasks      | elapsed: 53.0min\n",
            "[Parallel(n_jobs=8)]: Done 1241 tasks      | elapsed: 53.0min\n",
            "[Parallel(n_jobs=8)]: Done 1242 tasks      | elapsed: 53.1min\n",
            "[Parallel(n_jobs=8)]: Done 1243 tasks      | elapsed: 53.2min\n",
            "[Parallel(n_jobs=8)]: Done 1244 tasks      | elapsed: 53.2min\n",
            "[Parallel(n_jobs=8)]: Done 1245 tasks      | elapsed: 53.3min\n",
            "[Parallel(n_jobs=8)]: Done 1246 tasks      | elapsed: 53.3min\n",
            "[Parallel(n_jobs=8)]: Done 1247 tasks      | elapsed: 53.3min\n",
            "[Parallel(n_jobs=8)]: Done 1248 tasks      | elapsed: 53.3min\n",
            "[Parallel(n_jobs=8)]: Done 1249 tasks      | elapsed: 53.7min\n",
            "[Parallel(n_jobs=8)]: Done 1250 tasks      | elapsed: 53.8min\n",
            "[Parallel(n_jobs=8)]: Done 1251 tasks      | elapsed: 54.1min\n",
            "[Parallel(n_jobs=8)]: Done 1252 tasks      | elapsed: 54.2min\n",
            "[Parallel(n_jobs=8)]: Done 1253 tasks      | elapsed: 54.2min\n",
            "[Parallel(n_jobs=8)]: Done 1254 tasks      | elapsed: 54.3min\n",
            "[Parallel(n_jobs=8)]: Done 1255 tasks      | elapsed: 54.4min\n",
            "[Parallel(n_jobs=8)]: Done 1256 tasks      | elapsed: 54.4min\n",
            "[Parallel(n_jobs=8)]: Done 1257 tasks      | elapsed: 54.4min\n",
            "[Parallel(n_jobs=8)]: Done 1258 tasks      | elapsed: 54.4min\n",
            "[Parallel(n_jobs=8)]: Done 1259 tasks      | elapsed: 54.4min\n",
            "[Parallel(n_jobs=8)]: Done 1260 tasks      | elapsed: 54.5min\n",
            "[Parallel(n_jobs=8)]: Done 1261 tasks      | elapsed: 54.5min\n",
            "[Parallel(n_jobs=8)]: Done 1262 tasks      | elapsed: 54.5min\n",
            "[Parallel(n_jobs=8)]: Done 1263 tasks      | elapsed: 54.6min\n",
            "[Parallel(n_jobs=8)]: Done 1264 tasks      | elapsed: 54.6min\n",
            "[Parallel(n_jobs=8)]: Done 1265 tasks      | elapsed: 55.2min\n",
            "[Parallel(n_jobs=8)]: Done 1266 tasks      | elapsed: 56.1min\n",
            "[Parallel(n_jobs=8)]: Done 1267 tasks      | elapsed: 56.3min\n",
            "[Parallel(n_jobs=8)]: Done 1268 tasks      | elapsed: 56.8min\n",
            "[Parallel(n_jobs=8)]: Done 1269 tasks      | elapsed: 56.9min\n",
            "[Parallel(n_jobs=8)]: Done 1270 tasks      | elapsed: 56.9min\n",
            "[Parallel(n_jobs=8)]: Done 1271 tasks      | elapsed: 56.9min\n",
            "[Parallel(n_jobs=8)]: Done 1272 tasks      | elapsed: 57.0min\n",
            "[Parallel(n_jobs=8)]: Done 1273 tasks      | elapsed: 57.0min\n",
            "[Parallel(n_jobs=8)]: Done 1274 tasks      | elapsed: 57.1min\n",
            "[Parallel(n_jobs=8)]: Done 1275 tasks      | elapsed: 57.1min\n",
            "[Parallel(n_jobs=8)]: Done 1276 tasks      | elapsed: 57.1min\n",
            "[Parallel(n_jobs=8)]: Done 1277 tasks      | elapsed: 57.1min\n",
            "[Parallel(n_jobs=8)]: Done 1278 tasks      | elapsed: 57.1min\n",
            "[Parallel(n_jobs=8)]: Done 1279 tasks      | elapsed: 57.1min\n",
            "[Parallel(n_jobs=8)]: Done 1280 tasks      | elapsed: 57.2min\n",
            "[Parallel(n_jobs=8)]: Done 1281 tasks      | elapsed: 57.2min\n",
            "[Parallel(n_jobs=8)]: Done 1282 tasks      | elapsed: 57.2min\n",
            "[Parallel(n_jobs=8)]: Done 1283 tasks      | elapsed: 57.2min\n",
            "[Parallel(n_jobs=8)]: Done 1284 tasks      | elapsed: 57.2min\n",
            "[Parallel(n_jobs=8)]: Done 1285 tasks      | elapsed: 57.2min\n",
            "[Parallel(n_jobs=8)]: Done 1286 tasks      | elapsed: 57.2min\n",
            "[Parallel(n_jobs=8)]: Done 1287 tasks      | elapsed: 57.7min\n",
            "[Parallel(n_jobs=8)]: Done 1288 tasks      | elapsed: 58.3min\n",
            "[Parallel(n_jobs=8)]: Done 1289 tasks      | elapsed: 58.3min\n",
            "[Parallel(n_jobs=8)]: Done 1290 tasks      | elapsed: 58.4min\n",
            "[Parallel(n_jobs=8)]: Done 1291 tasks      | elapsed: 58.4min\n",
            "[Parallel(n_jobs=8)]: Done 1292 tasks      | elapsed: 58.4min\n",
            "[Parallel(n_jobs=8)]: Done 1293 tasks      | elapsed: 58.5min\n",
            "[Parallel(n_jobs=8)]: Done 1294 tasks      | elapsed: 58.5min\n",
            "[Parallel(n_jobs=8)]: Done 1295 tasks      | elapsed: 58.5min\n",
            "[Parallel(n_jobs=8)]: Done 1296 tasks      | elapsed: 58.6min\n",
            "[Parallel(n_jobs=8)]: Done 1297 tasks      | elapsed: 58.6min\n",
            "[Parallel(n_jobs=8)]: Done 1298 tasks      | elapsed: 58.7min\n",
            "[Parallel(n_jobs=8)]: Done 1299 tasks      | elapsed: 58.7min\n",
            "[Parallel(n_jobs=8)]: Done 1300 tasks      | elapsed: 58.7min\n",
            "[Parallel(n_jobs=8)]: Done 1301 tasks      | elapsed: 58.8min\n",
            "[Parallel(n_jobs=8)]: Done 1302 tasks      | elapsed: 58.8min\n",
            "[Parallel(n_jobs=8)]: Done 1303 tasks      | elapsed: 58.8min\n",
            "[Parallel(n_jobs=8)]: Done 1304 tasks      | elapsed: 58.9min\n",
            "[Parallel(n_jobs=8)]: Done 1305 tasks      | elapsed: 58.9min\n",
            "[Parallel(n_jobs=8)]: Done 1306 tasks      | elapsed: 58.9min\n",
            "[Parallel(n_jobs=8)]: Done 1307 tasks      | elapsed: 58.9min\n",
            "[Parallel(n_jobs=8)]: Done 1308 tasks      | elapsed: 58.9min\n",
            "[Parallel(n_jobs=8)]: Done 1309 tasks      | elapsed: 59.0min\n",
            "[Parallel(n_jobs=8)]: Done 1310 tasks      | elapsed: 59.0min\n",
            "[Parallel(n_jobs=8)]: Done 1311 tasks      | elapsed: 59.0min\n",
            "[Parallel(n_jobs=8)]: Done 1312 tasks      | elapsed: 59.0min\n",
            "[Parallel(n_jobs=8)]: Done 1313 tasks      | elapsed: 59.0min\n",
            "[Parallel(n_jobs=8)]: Done 1314 tasks      | elapsed: 59.0min\n",
            "[Parallel(n_jobs=8)]: Done 1315 tasks      | elapsed: 59.0min\n",
            "[Parallel(n_jobs=8)]: Done 1316 tasks      | elapsed: 59.1min\n",
            "[Parallel(n_jobs=8)]: Done 1317 tasks      | elapsed: 59.1min\n",
            "[Parallel(n_jobs=8)]: Done 1318 tasks      | elapsed: 59.1min\n",
            "[Parallel(n_jobs=8)]: Done 1319 tasks      | elapsed: 59.1min\n",
            "[Parallel(n_jobs=8)]: Done 1320 tasks      | elapsed: 59.1min\n",
            "[Parallel(n_jobs=8)]: Done 1321 tasks      | elapsed: 59.1min\n",
            "[Parallel(n_jobs=8)]: Done 1322 tasks      | elapsed: 59.2min\n",
            "[Parallel(n_jobs=8)]: Done 1323 tasks      | elapsed: 59.2min\n",
            "[Parallel(n_jobs=8)]: Done 1324 tasks      | elapsed: 59.2min\n",
            "[Parallel(n_jobs=8)]: Done 1325 tasks      | elapsed: 59.2min\n",
            "[Parallel(n_jobs=8)]: Done 1326 tasks      | elapsed: 59.2min\n",
            "[Parallel(n_jobs=8)]: Done 1327 tasks      | elapsed: 59.3min\n",
            "[Parallel(n_jobs=8)]: Done 1328 tasks      | elapsed: 59.3min\n",
            "[Parallel(n_jobs=8)]: Done 1329 tasks      | elapsed: 59.3min\n",
            "[Parallel(n_jobs=8)]: Done 1330 tasks      | elapsed: 59.3min\n",
            "[Parallel(n_jobs=8)]: Done 1331 tasks      | elapsed: 59.3min\n",
            "[Parallel(n_jobs=8)]: Done 1332 tasks      | elapsed: 59.3min\n",
            "[Parallel(n_jobs=8)]: Done 1333 tasks      | elapsed: 59.4min\n",
            "[Parallel(n_jobs=8)]: Done 1334 tasks      | elapsed: 59.4min\n",
            "[Parallel(n_jobs=8)]: Done 1335 tasks      | elapsed: 59.4min\n",
            "[Parallel(n_jobs=8)]: Done 1336 tasks      | elapsed: 59.4min\n",
            "[Parallel(n_jobs=8)]: Done 1337 tasks      | elapsed: 59.4min\n",
            "[Parallel(n_jobs=8)]: Done 1338 tasks      | elapsed: 59.4min\n",
            "[Parallel(n_jobs=8)]: Done 1339 tasks      | elapsed: 59.5min\n",
            "[Parallel(n_jobs=8)]: Done 1340 tasks      | elapsed: 59.5min\n",
            "[Parallel(n_jobs=8)]: Done 1341 tasks      | elapsed: 59.6min\n",
            "[Parallel(n_jobs=8)]: Done 1342 tasks      | elapsed: 59.8min\n",
            "[Parallel(n_jobs=8)]: Done 1343 tasks      | elapsed: 60.1min\n",
            "[Parallel(n_jobs=8)]: Done 1344 tasks      | elapsed: 60.2min\n",
            "[Parallel(n_jobs=8)]: Done 1345 tasks      | elapsed: 60.2min\n",
            "[Parallel(n_jobs=8)]: Done 1346 tasks      | elapsed: 60.2min\n",
            "[Parallel(n_jobs=8)]: Done 1347 tasks      | elapsed: 60.2min\n",
            "[Parallel(n_jobs=8)]: Done 1348 tasks      | elapsed: 60.3min\n",
            "[Parallel(n_jobs=8)]: Done 1349 tasks      | elapsed: 60.3min\n",
            "[Parallel(n_jobs=8)]: Done 1350 tasks      | elapsed: 60.3min\n",
            "[Parallel(n_jobs=8)]: Done 1351 tasks      | elapsed: 60.3min\n",
            "[Parallel(n_jobs=8)]: Done 1352 tasks      | elapsed: 60.3min\n",
            "[Parallel(n_jobs=8)]: Done 1353 tasks      | elapsed: 60.3min\n",
            "[Parallel(n_jobs=8)]: Done 1354 tasks      | elapsed: 60.4min\n",
            "[Parallel(n_jobs=8)]: Done 1355 tasks      | elapsed: 60.4min\n",
            "[Parallel(n_jobs=8)]: Done 1356 tasks      | elapsed: 60.4min\n",
            "[Parallel(n_jobs=8)]: Done 1357 tasks      | elapsed: 60.4min\n",
            "[Parallel(n_jobs=8)]: Done 1358 tasks      | elapsed: 60.4min\n",
            "[Parallel(n_jobs=8)]: Done 1359 tasks      | elapsed: 60.4min\n",
            "[Parallel(n_jobs=8)]: Done 1360 tasks      | elapsed: 60.5min\n",
            "[Parallel(n_jobs=8)]: Done 1361 tasks      | elapsed: 60.5min\n",
            "[Parallel(n_jobs=8)]: Done 1362 tasks      | elapsed: 60.5min\n",
            "[Parallel(n_jobs=8)]: Done 1363 tasks      | elapsed: 60.5min\n",
            "[Parallel(n_jobs=8)]: Done 1364 tasks      | elapsed: 60.5min\n",
            "[Parallel(n_jobs=8)]: Done 1365 tasks      | elapsed: 60.5min\n",
            "[Parallel(n_jobs=8)]: Done 1366 tasks      | elapsed: 60.6min\n",
            "[Parallel(n_jobs=8)]: Done 1367 tasks      | elapsed: 60.6min\n",
            "[Parallel(n_jobs=8)]: Done 1368 tasks      | elapsed: 60.6min\n",
            "[Parallel(n_jobs=8)]: Done 1369 tasks      | elapsed: 60.6min\n",
            "[Parallel(n_jobs=8)]: Done 1370 tasks      | elapsed: 60.6min\n",
            "[Parallel(n_jobs=8)]: Done 1371 tasks      | elapsed: 60.6min\n",
            "[Parallel(n_jobs=8)]: Done 1372 tasks      | elapsed: 60.6min\n",
            "[Parallel(n_jobs=8)]: Done 1373 tasks      | elapsed: 60.6min\n",
            "[Parallel(n_jobs=8)]: Done 1374 tasks      | elapsed: 60.6min\n",
            "[Parallel(n_jobs=8)]: Done 1375 tasks      | elapsed: 60.6min\n",
            "[Parallel(n_jobs=8)]: Done 1376 tasks      | elapsed: 60.7min\n",
            "[Parallel(n_jobs=8)]: Done 1377 tasks      | elapsed: 60.7min\n",
            "[Parallel(n_jobs=8)]: Done 1378 tasks      | elapsed: 60.7min\n",
            "[Parallel(n_jobs=8)]: Done 1379 tasks      | elapsed: 60.7min\n",
            "[Parallel(n_jobs=8)]: Done 1380 tasks      | elapsed: 60.7min\n",
            "[Parallel(n_jobs=8)]: Done 1381 tasks      | elapsed: 60.7min\n",
            "[Parallel(n_jobs=8)]: Done 1382 tasks      | elapsed: 60.7min\n",
            "[Parallel(n_jobs=8)]: Done 1383 tasks      | elapsed: 60.7min\n",
            "[Parallel(n_jobs=8)]: Done 1384 tasks      | elapsed: 60.8min\n",
            "[Parallel(n_jobs=8)]: Done 1385 tasks      | elapsed: 60.8min\n",
            "[Parallel(n_jobs=8)]: Done 1386 tasks      | elapsed: 60.8min\n",
            "[Parallel(n_jobs=8)]: Done 1387 tasks      | elapsed: 60.8min\n",
            "[Parallel(n_jobs=8)]: Done 1388 tasks      | elapsed: 60.9min\n",
            "[Parallel(n_jobs=8)]: Done 1389 tasks      | elapsed: 60.9min\n",
            "[Parallel(n_jobs=8)]: Done 1390 tasks      | elapsed: 60.9min\n",
            "[Parallel(n_jobs=8)]: Done 1391 tasks      | elapsed: 60.9min\n",
            "[Parallel(n_jobs=8)]: Done 1392 tasks      | elapsed: 60.9min\n",
            "[Parallel(n_jobs=8)]: Done 1393 tasks      | elapsed: 60.9min\n",
            "[Parallel(n_jobs=8)]: Done 1394 tasks      | elapsed: 60.9min\n",
            "[Parallel(n_jobs=8)]: Done 1395 tasks      | elapsed: 60.9min\n",
            "[Parallel(n_jobs=8)]: Done 1396 tasks      | elapsed: 61.0min\n",
            "[Parallel(n_jobs=8)]: Done 1397 tasks      | elapsed: 61.0min\n",
            "[Parallel(n_jobs=8)]: Done 1398 tasks      | elapsed: 61.0min\n",
            "[Parallel(n_jobs=8)]: Done 1399 tasks      | elapsed: 61.0min\n",
            "[Parallel(n_jobs=8)]: Done 1400 tasks      | elapsed: 61.1min\n",
            "[Parallel(n_jobs=8)]: Done 1401 tasks      | elapsed: 61.1min\n",
            "[Parallel(n_jobs=8)]: Done 1402 tasks      | elapsed: 61.1min\n",
            "[Parallel(n_jobs=8)]: Done 1403 tasks      | elapsed: 61.1min\n",
            "[Parallel(n_jobs=8)]: Done 1404 tasks      | elapsed: 61.2min\n",
            "[Parallel(n_jobs=8)]: Done 1405 tasks      | elapsed: 61.2min\n",
            "[Parallel(n_jobs=8)]: Done 1406 tasks      | elapsed: 61.2min\n",
            "[Parallel(n_jobs=8)]: Done 1407 tasks      | elapsed: 61.2min\n",
            "[Parallel(n_jobs=8)]: Done 1408 tasks      | elapsed: 61.2min\n",
            "[Parallel(n_jobs=8)]: Done 1409 tasks      | elapsed: 61.3min\n",
            "[Parallel(n_jobs=8)]: Done 1410 tasks      | elapsed: 61.3min\n",
            "[Parallel(n_jobs=8)]: Done 1411 tasks      | elapsed: 61.3min\n",
            "[Parallel(n_jobs=8)]: Done 1412 tasks      | elapsed: 61.3min\n",
            "[Parallel(n_jobs=8)]: Done 1413 tasks      | elapsed: 61.3min\n",
            "[Parallel(n_jobs=8)]: Done 1414 tasks      | elapsed: 61.3min\n",
            "[Parallel(n_jobs=8)]: Done 1415 tasks      | elapsed: 61.4min\n",
            "[Parallel(n_jobs=8)]: Done 1416 tasks      | elapsed: 61.4min\n",
            "[Parallel(n_jobs=8)]: Done 1417 tasks      | elapsed: 61.4min\n",
            "[Parallel(n_jobs=8)]: Done 1418 tasks      | elapsed: 61.4min\n",
            "[Parallel(n_jobs=8)]: Done 1419 tasks      | elapsed: 61.4min\n",
            "[Parallel(n_jobs=8)]: Done 1420 tasks      | elapsed: 61.5min\n",
            "[Parallel(n_jobs=8)]: Done 1421 tasks      | elapsed: 61.5min\n",
            "[Parallel(n_jobs=8)]: Done 1422 tasks      | elapsed: 61.5min\n",
            "[Parallel(n_jobs=8)]: Done 1423 tasks      | elapsed: 61.5min\n",
            "[Parallel(n_jobs=8)]: Done 1424 tasks      | elapsed: 61.6min\n",
            "[Parallel(n_jobs=8)]: Done 1425 tasks      | elapsed: 61.6min\n",
            "[Parallel(n_jobs=8)]: Done 1426 tasks      | elapsed: 61.6min\n",
            "[Parallel(n_jobs=8)]: Done 1427 tasks      | elapsed: 61.7min\n",
            "[Parallel(n_jobs=8)]: Done 1428 tasks      | elapsed: 61.7min\n",
            "[Parallel(n_jobs=8)]: Done 1429 tasks      | elapsed: 61.7min\n",
            "[Parallel(n_jobs=8)]: Done 1430 tasks      | elapsed: 61.7min\n",
            "[Parallel(n_jobs=8)]: Done 1431 tasks      | elapsed: 61.7min\n",
            "[Parallel(n_jobs=8)]: Done 1432 tasks      | elapsed: 61.7min\n",
            "[Parallel(n_jobs=8)]: Done 1433 tasks      | elapsed: 61.8min\n",
            "[Parallel(n_jobs=8)]: Done 1434 tasks      | elapsed: 61.8min\n",
            "[Parallel(n_jobs=8)]: Done 1435 tasks      | elapsed: 61.8min\n",
            "[Parallel(n_jobs=8)]: Done 1436 tasks      | elapsed: 61.8min\n",
            "[Parallel(n_jobs=8)]: Done 1437 tasks      | elapsed: 61.8min\n",
            "[Parallel(n_jobs=8)]: Done 1438 tasks      | elapsed: 61.8min\n",
            "[Parallel(n_jobs=8)]: Done 1439 tasks      | elapsed: 61.8min\n",
            "[Parallel(n_jobs=8)]: Done 1440 tasks      | elapsed: 61.9min\n",
            "[Parallel(n_jobs=8)]: Done 1441 tasks      | elapsed: 61.9min\n",
            "[Parallel(n_jobs=8)]: Done 1442 tasks      | elapsed: 61.9min\n",
            "[Parallel(n_jobs=8)]: Done 1443 tasks      | elapsed: 62.0min\n",
            "[Parallel(n_jobs=8)]: Done 1444 tasks      | elapsed: 62.0min\n",
            "[Parallel(n_jobs=8)]: Done 1445 tasks      | elapsed: 62.0min\n",
            "[Parallel(n_jobs=8)]: Done 1446 tasks      | elapsed: 62.0min\n",
            "[Parallel(n_jobs=8)]: Done 1447 tasks      | elapsed: 62.0min\n",
            "[Parallel(n_jobs=8)]: Done 1448 tasks      | elapsed: 62.0min\n",
            "[Parallel(n_jobs=8)]: Done 1449 tasks      | elapsed: 62.1min\n",
            "[Parallel(n_jobs=8)]: Done 1450 tasks      | elapsed: 62.1min\n",
            "[Parallel(n_jobs=8)]: Done 1451 tasks      | elapsed: 62.1min\n",
            "[Parallel(n_jobs=8)]: Done 1452 tasks      | elapsed: 62.1min\n",
            "[Parallel(n_jobs=8)]: Done 1453 tasks      | elapsed: 62.1min\n",
            "[Parallel(n_jobs=8)]: Done 1454 tasks      | elapsed: 62.1min\n",
            "[Parallel(n_jobs=8)]: Done 1455 tasks      | elapsed: 62.1min\n",
            "[Parallel(n_jobs=8)]: Done 1456 tasks      | elapsed: 62.2min\n",
            "[Parallel(n_jobs=8)]: Done 1457 tasks      | elapsed: 62.2min\n",
            "[Parallel(n_jobs=8)]: Done 1458 tasks      | elapsed: 62.2min\n",
            "[Parallel(n_jobs=8)]: Done 1459 tasks      | elapsed: 62.3min\n",
            "[Parallel(n_jobs=8)]: Done 1460 tasks      | elapsed: 62.3min\n",
            "[Parallel(n_jobs=8)]: Done 1461 tasks      | elapsed: 62.3min\n",
            "[Parallel(n_jobs=8)]: Done 1462 tasks      | elapsed: 62.3min\n",
            "[Parallel(n_jobs=8)]: Done 1463 tasks      | elapsed: 62.3min\n",
            "[Parallel(n_jobs=8)]: Done 1464 tasks      | elapsed: 62.4min\n",
            "[Parallel(n_jobs=8)]: Done 1465 tasks      | elapsed: 62.4min\n",
            "[Parallel(n_jobs=8)]: Done 1466 tasks      | elapsed: 62.4min\n",
            "[Parallel(n_jobs=8)]: Done 1467 tasks      | elapsed: 62.4min\n",
            "[Parallel(n_jobs=8)]: Done 1468 tasks      | elapsed: 62.4min\n",
            "[Parallel(n_jobs=8)]: Done 1469 tasks      | elapsed: 62.5min\n",
            "[Parallel(n_jobs=8)]: Done 1470 tasks      | elapsed: 62.5min\n",
            "[Parallel(n_jobs=8)]: Done 1471 tasks      | elapsed: 62.5min\n",
            "[Parallel(n_jobs=8)]: Done 1472 tasks      | elapsed: 62.5min\n",
            "[Parallel(n_jobs=8)]: Done 1473 tasks      | elapsed: 62.5min\n",
            "[Parallel(n_jobs=8)]: Done 1474 tasks      | elapsed: 62.5min\n",
            "[Parallel(n_jobs=8)]: Done 1475 tasks      | elapsed: 62.6min\n",
            "[Parallel(n_jobs=8)]: Done 1476 tasks      | elapsed: 62.6min\n",
            "[Parallel(n_jobs=8)]: Done 1477 tasks      | elapsed: 62.6min\n",
            "[Parallel(n_jobs=8)]: Done 1478 tasks      | elapsed: 62.6min\n",
            "[Parallel(n_jobs=8)]: Done 1479 tasks      | elapsed: 62.6min\n",
            "[Parallel(n_jobs=8)]: Done 1480 tasks      | elapsed: 62.7min\n",
            "[Parallel(n_jobs=8)]: Done 1481 tasks      | elapsed: 62.7min\n",
            "[Parallel(n_jobs=8)]: Done 1482 tasks      | elapsed: 62.7min\n",
            "[Parallel(n_jobs=8)]: Done 1483 tasks      | elapsed: 62.7min\n",
            "[Parallel(n_jobs=8)]: Done 1484 tasks      | elapsed: 62.7min\n",
            "[Parallel(n_jobs=8)]: Done 1485 tasks      | elapsed: 62.7min\n",
            "[Parallel(n_jobs=8)]: Done 1489 out of 1500 | elapsed: 64.0min remaining:   28.4s\n",
            "[Parallel(n_jobs=8)]: Done 1493 out of 1500 | elapsed: 64.1min remaining:   18.0s\n",
            "[Parallel(n_jobs=8)]: Done 1497 out of 1500 | elapsed: 66.4min remaining:    8.0s\n",
            "[Parallel(n_jobs=8)]: Done 1500 out of 1500 | elapsed: 66.7min finished\n"
          ],
          "name": "stdout"
        },
        {
          "output_type": "stream",
          "text": [
            "/usr/local/lib/python3.6/dist-packages/sklearn/preprocessing/_label.py:235: DataConversionWarning: A column-vector y was passed when a 1d array was expected. Please change the shape of y to (n_samples, ), for example using ravel().\n",
            "  y = column_or_1d(y, warn=True)\n",
            "/usr/local/lib/python3.6/dist-packages/sklearn/preprocessing/_label.py:268: DataConversionWarning: A column-vector y was passed when a 1d array was expected. Please change the shape of y to (n_samples, ), for example using ravel().\n",
            "  y = column_or_1d(y, warn=True)\n"
          ],
          "name": "stderr"
        }
      ]
    },
    {
      "cell_type": "code",
      "metadata": {
        "id": "-N0XQ3g1e-fN",
        "outputId": "ca0e0827-e0d3-4584-bf19-6f004cb58b1c",
        "colab": {
          "base_uri": "https://localhost:8080/",
          "height": 1000
        }
      },
      "source": [
        "def calc_gini(y,y_p,j=1):\n",
        "  gini ={}\n",
        "  fpr={}\n",
        "  tpr={}\n",
        "  roc_auc={}\n",
        "  g=0\n",
        "  if j==1:\n",
        "    fpr, tpr, _ = roc_curve(y, y_p)\n",
        "    roc_auc = auc(fpr, tpr)\n",
        "    gini=2*roc_auc-1 \n",
        "  else:\n",
        "    y_g = OneHotEncoder().fit_transform(pd.DataFrame(y)).toarray()\n",
        "    for i in range(j):\n",
        "      fpr[i], tpr[i], _ = roc_curve(y_g[:, i], y_p[:, i])\n",
        "      roc_auc[i] = auc(fpr[i], tpr[i])\n",
        "      gini[i]=2*roc_auc[i]-1   \n",
        "  gc.collect()\n",
        "  return gini\n",
        "def gini_eval(y_pred, dtrain):\n",
        "    err=0\n",
        "    y_true = dtrain.get_label()\n",
        "    fpr, tpr, _ = roc_curve(y_true, y_pred)\n",
        "    roc_auc = auc(fpr, tpr)\n",
        "    gini = 2*roc_auc -1\n",
        "    #gini = calc_gini(y_true,y_pred,2)\n",
        "    #for i in gini:\n",
        "    #  err += gini[i]\n",
        "    #gini = (gini[0]+gini[1])/2\n",
        "    #err = 1-gini\n",
        "    err=1-gini\n",
        "    gc.collect()\n",
        "    return 'gini_err', err\n",
        "clf = xgb.XGBClassifier(tree_method='gpu_hist',objective='binary:logistic',num_boost_round=70,verbose_eval=False,n_jobs=-1)\n",
        "clf.fit(X_train,y_train['target'],eval_metric=gini_eval,eval_set=[(X_train,y_train['target']),(timetest,y_timetest['target'])],early_stopping_rounds=50)"
      ],
      "execution_count": null,
      "outputs": [
        {
          "output_type": "stream",
          "text": [
            "[0]\tvalidation_0-error:0.106313\tvalidation_1-error:0.141951\tvalidation_0-gini_err:0.747254\tvalidation_1-gini_err:0.82508\n",
            "Multiple eval metrics have been passed: 'validation_1-gini_err' will be used for early stopping.\n",
            "\n",
            "Will train until validation_1-gini_err hasn't improved in 50 rounds.\n",
            "[1]\tvalidation_0-error:0.106313\tvalidation_1-error:0.141951\tvalidation_0-gini_err:0.72693\tvalidation_1-gini_err:0.817239\n",
            "[2]\tvalidation_0-error:0.106313\tvalidation_1-error:0.141951\tvalidation_0-gini_err:0.726937\tvalidation_1-gini_err:0.803281\n",
            "[3]\tvalidation_0-error:0.106313\tvalidation_1-error:0.141951\tvalidation_0-gini_err:0.724584\tvalidation_1-gini_err:0.801163\n",
            "[4]\tvalidation_0-error:0.106313\tvalidation_1-error:0.141951\tvalidation_0-gini_err:0.714649\tvalidation_1-gini_err:0.767393\n",
            "[5]\tvalidation_0-error:0.106313\tvalidation_1-error:0.141951\tvalidation_0-gini_err:0.71324\tvalidation_1-gini_err:0.771955\n",
            "[6]\tvalidation_0-error:0.106313\tvalidation_1-error:0.141951\tvalidation_0-gini_err:0.71245\tvalidation_1-gini_err:0.772609\n",
            "[7]\tvalidation_0-error:0.106313\tvalidation_1-error:0.141951\tvalidation_0-gini_err:0.711354\tvalidation_1-gini_err:0.762631\n",
            "[8]\tvalidation_0-error:0.106313\tvalidation_1-error:0.141951\tvalidation_0-gini_err:0.712625\tvalidation_1-gini_err:0.761771\n",
            "[9]\tvalidation_0-error:0.106313\tvalidation_1-error:0.141951\tvalidation_0-gini_err:0.709049\tvalidation_1-gini_err:0.761824\n",
            "[10]\tvalidation_0-error:0.106313\tvalidation_1-error:0.141951\tvalidation_0-gini_err:0.708916\tvalidation_1-gini_err:0.75747\n",
            "[11]\tvalidation_0-error:0.106313\tvalidation_1-error:0.141951\tvalidation_0-gini_err:0.706648\tvalidation_1-gini_err:0.752828\n",
            "[12]\tvalidation_0-error:0.106313\tvalidation_1-error:0.141951\tvalidation_0-gini_err:0.705725\tvalidation_1-gini_err:0.755652\n",
            "[13]\tvalidation_0-error:0.106313\tvalidation_1-error:0.141951\tvalidation_0-gini_err:0.703509\tvalidation_1-gini_err:0.749085\n",
            "[14]\tvalidation_0-error:0.106313\tvalidation_1-error:0.141951\tvalidation_0-gini_err:0.702508\tvalidation_1-gini_err:0.75158\n",
            "[15]\tvalidation_0-error:0.106313\tvalidation_1-error:0.141951\tvalidation_0-gini_err:0.702028\tvalidation_1-gini_err:0.747831\n",
            "[16]\tvalidation_0-error:0.106313\tvalidation_1-error:0.141951\tvalidation_0-gini_err:0.701367\tvalidation_1-gini_err:0.749059\n",
            "[17]\tvalidation_0-error:0.106313\tvalidation_1-error:0.141951\tvalidation_0-gini_err:0.700427\tvalidation_1-gini_err:0.74612\n",
            "[18]\tvalidation_0-error:0.106313\tvalidation_1-error:0.141951\tvalidation_0-gini_err:0.699801\tvalidation_1-gini_err:0.747426\n",
            "[19]\tvalidation_0-error:0.106313\tvalidation_1-error:0.141951\tvalidation_0-gini_err:0.700096\tvalidation_1-gini_err:0.745461\n",
            "[20]\tvalidation_0-error:0.106313\tvalidation_1-error:0.141951\tvalidation_0-gini_err:0.69953\tvalidation_1-gini_err:0.747152\n",
            "[21]\tvalidation_0-error:0.106313\tvalidation_1-error:0.141951\tvalidation_0-gini_err:0.699082\tvalidation_1-gini_err:0.747757\n",
            "[22]\tvalidation_0-error:0.106313\tvalidation_1-error:0.141951\tvalidation_0-gini_err:0.696553\tvalidation_1-gini_err:0.743466\n",
            "[23]\tvalidation_0-error:0.106313\tvalidation_1-error:0.141951\tvalidation_0-gini_err:0.696692\tvalidation_1-gini_err:0.74505\n",
            "[24]\tvalidation_0-error:0.106313\tvalidation_1-error:0.141951\tvalidation_0-gini_err:0.695384\tvalidation_1-gini_err:0.741799\n",
            "[25]\tvalidation_0-error:0.106313\tvalidation_1-error:0.141951\tvalidation_0-gini_err:0.695069\tvalidation_1-gini_err:0.740686\n",
            "[26]\tvalidation_0-error:0.106313\tvalidation_1-error:0.141951\tvalidation_0-gini_err:0.693383\tvalidation_1-gini_err:0.738141\n",
            "[27]\tvalidation_0-error:0.106313\tvalidation_1-error:0.141951\tvalidation_0-gini_err:0.692333\tvalidation_1-gini_err:0.736351\n",
            "[28]\tvalidation_0-error:0.106313\tvalidation_1-error:0.141951\tvalidation_0-gini_err:0.691436\tvalidation_1-gini_err:0.73707\n",
            "[29]\tvalidation_0-error:0.106313\tvalidation_1-error:0.141951\tvalidation_0-gini_err:0.68953\tvalidation_1-gini_err:0.734325\n",
            "[30]\tvalidation_0-error:0.106313\tvalidation_1-error:0.141951\tvalidation_0-gini_err:0.688234\tvalidation_1-gini_err:0.732467\n",
            "[31]\tvalidation_0-error:0.106313\tvalidation_1-error:0.141951\tvalidation_0-gini_err:0.686397\tvalidation_1-gini_err:0.731185\n",
            "[32]\tvalidation_0-error:0.106313\tvalidation_1-error:0.141951\tvalidation_0-gini_err:0.685622\tvalidation_1-gini_err:0.730261\n",
            "[33]\tvalidation_0-error:0.106313\tvalidation_1-error:0.141951\tvalidation_0-gini_err:0.684177\tvalidation_1-gini_err:0.728165\n",
            "[34]\tvalidation_0-error:0.106313\tvalidation_1-error:0.141951\tvalidation_0-gini_err:0.683435\tvalidation_1-gini_err:0.726633\n",
            "[35]\tvalidation_0-error:0.106313\tvalidation_1-error:0.141951\tvalidation_0-gini_err:0.682632\tvalidation_1-gini_err:0.725249\n",
            "[36]\tvalidation_0-error:0.106313\tvalidation_1-error:0.141951\tvalidation_0-gini_err:0.681862\tvalidation_1-gini_err:0.723391\n",
            "[37]\tvalidation_0-error:0.106313\tvalidation_1-error:0.141951\tvalidation_0-gini_err:0.68108\tvalidation_1-gini_err:0.722136\n",
            "[38]\tvalidation_0-error:0.106313\tvalidation_1-error:0.141951\tvalidation_0-gini_err:0.680287\tvalidation_1-gini_err:0.72071\n",
            "[39]\tvalidation_0-error:0.106313\tvalidation_1-error:0.141951\tvalidation_0-gini_err:0.679641\tvalidation_1-gini_err:0.719905\n",
            "[40]\tvalidation_0-error:0.106313\tvalidation_1-error:0.141951\tvalidation_0-gini_err:0.677463\tvalidation_1-gini_err:0.722158\n",
            "[41]\tvalidation_0-error:0.106313\tvalidation_1-error:0.141951\tvalidation_0-gini_err:0.676277\tvalidation_1-gini_err:0.722536\n",
            "[42]\tvalidation_0-error:0.106313\tvalidation_1-error:0.141951\tvalidation_0-gini_err:0.675128\tvalidation_1-gini_err:0.72109\n",
            "[43]\tvalidation_0-error:0.106313\tvalidation_1-error:0.141951\tvalidation_0-gini_err:0.67468\tvalidation_1-gini_err:0.719772\n",
            "[44]\tvalidation_0-error:0.106313\tvalidation_1-error:0.141951\tvalidation_0-gini_err:0.673989\tvalidation_1-gini_err:0.718867\n",
            "[45]\tvalidation_0-error:0.106313\tvalidation_1-error:0.141951\tvalidation_0-gini_err:0.673228\tvalidation_1-gini_err:0.71821\n",
            "[46]\tvalidation_0-error:0.106313\tvalidation_1-error:0.141951\tvalidation_0-gini_err:0.672831\tvalidation_1-gini_err:0.71746\n",
            "[47]\tvalidation_0-error:0.106313\tvalidation_1-error:0.141951\tvalidation_0-gini_err:0.672209\tvalidation_1-gini_err:0.716251\n",
            "[48]\tvalidation_0-error:0.106313\tvalidation_1-error:0.141951\tvalidation_0-gini_err:0.671842\tvalidation_1-gini_err:0.715708\n",
            "[49]\tvalidation_0-error:0.106313\tvalidation_1-error:0.141951\tvalidation_0-gini_err:0.669458\tvalidation_1-gini_err:0.717758\n",
            "[50]\tvalidation_0-error:0.106313\tvalidation_1-error:0.141951\tvalidation_0-gini_err:0.668786\tvalidation_1-gini_err:0.71682\n",
            "[51]\tvalidation_0-error:0.106313\tvalidation_1-error:0.141951\tvalidation_0-gini_err:0.668133\tvalidation_1-gini_err:0.7158\n",
            "[52]\tvalidation_0-error:0.106313\tvalidation_1-error:0.141951\tvalidation_0-gini_err:0.667352\tvalidation_1-gini_err:0.714706\n",
            "[53]\tvalidation_0-error:0.106313\tvalidation_1-error:0.141951\tvalidation_0-gini_err:0.666549\tvalidation_1-gini_err:0.714761\n",
            "[54]\tvalidation_0-error:0.106313\tvalidation_1-error:0.141951\tvalidation_0-gini_err:0.665934\tvalidation_1-gini_err:0.713959\n",
            "[55]\tvalidation_0-error:0.106313\tvalidation_1-error:0.141951\tvalidation_0-gini_err:0.665136\tvalidation_1-gini_err:0.71331\n",
            "[56]\tvalidation_0-error:0.106313\tvalidation_1-error:0.141951\tvalidation_0-gini_err:0.663903\tvalidation_1-gini_err:0.715996\n",
            "[57]\tvalidation_0-error:0.106313\tvalidation_1-error:0.141951\tvalidation_0-gini_err:0.663352\tvalidation_1-gini_err:0.715222\n",
            "[58]\tvalidation_0-error:0.106313\tvalidation_1-error:0.141951\tvalidation_0-gini_err:0.662981\tvalidation_1-gini_err:0.714453\n",
            "[59]\tvalidation_0-error:0.106313\tvalidation_1-error:0.141951\tvalidation_0-gini_err:0.662437\tvalidation_1-gini_err:0.713706\n",
            "[60]\tvalidation_0-error:0.106313\tvalidation_1-error:0.141951\tvalidation_0-gini_err:0.661941\tvalidation_1-gini_err:0.713094\n",
            "[61]\tvalidation_0-error:0.106313\tvalidation_1-error:0.141951\tvalidation_0-gini_err:0.661223\tvalidation_1-gini_err:0.714253\n",
            "[62]\tvalidation_0-error:0.106313\tvalidation_1-error:0.141951\tvalidation_0-gini_err:0.660759\tvalidation_1-gini_err:0.713588\n",
            "[63]\tvalidation_0-error:0.106313\tvalidation_1-error:0.141951\tvalidation_0-gini_err:0.66028\tvalidation_1-gini_err:0.712917\n",
            "[64]\tvalidation_0-error:0.106313\tvalidation_1-error:0.141951\tvalidation_0-gini_err:0.659911\tvalidation_1-gini_err:0.712301\n",
            "[65]\tvalidation_0-error:0.106313\tvalidation_1-error:0.141951\tvalidation_0-gini_err:0.65938\tvalidation_1-gini_err:0.711677\n",
            "[66]\tvalidation_0-error:0.106313\tvalidation_1-error:0.141951\tvalidation_0-gini_err:0.658824\tvalidation_1-gini_err:0.710788\n",
            "[67]\tvalidation_0-error:0.106313\tvalidation_1-error:0.141951\tvalidation_0-gini_err:0.658505\tvalidation_1-gini_err:0.710264\n",
            "[68]\tvalidation_0-error:0.106313\tvalidation_1-error:0.141951\tvalidation_0-gini_err:0.658206\tvalidation_1-gini_err:0.709732\n",
            "[69]\tvalidation_0-error:0.106313\tvalidation_1-error:0.141951\tvalidation_0-gini_err:0.657985\tvalidation_1-gini_err:0.709427\n",
            "[70]\tvalidation_0-error:0.106313\tvalidation_1-error:0.141951\tvalidation_0-gini_err:0.657605\tvalidation_1-gini_err:0.708936\n",
            "[71]\tvalidation_0-error:0.106313\tvalidation_1-error:0.141951\tvalidation_0-gini_err:0.657124\tvalidation_1-gini_err:0.709292\n",
            "[72]\tvalidation_0-error:0.106313\tvalidation_1-error:0.141951\tvalidation_0-gini_err:0.656679\tvalidation_1-gini_err:0.709338\n",
            "[73]\tvalidation_0-error:0.106313\tvalidation_1-error:0.141951\tvalidation_0-gini_err:0.65643\tvalidation_1-gini_err:0.708915\n",
            "[74]\tvalidation_0-error:0.106313\tvalidation_1-error:0.141951\tvalidation_0-gini_err:0.656011\tvalidation_1-gini_err:0.708278\n",
            "[75]\tvalidation_0-error:0.106313\tvalidation_1-error:0.141951\tvalidation_0-gini_err:0.655543\tvalidation_1-gini_err:0.70774\n",
            "[76]\tvalidation_0-error:0.106313\tvalidation_1-error:0.141951\tvalidation_0-gini_err:0.655315\tvalidation_1-gini_err:0.707323\n",
            "[77]\tvalidation_0-error:0.106313\tvalidation_1-error:0.141951\tvalidation_0-gini_err:0.65507\tvalidation_1-gini_err:0.706954\n",
            "[78]\tvalidation_0-error:0.106313\tvalidation_1-error:0.141951\tvalidation_0-gini_err:0.654719\tvalidation_1-gini_err:0.70658\n",
            "[79]\tvalidation_0-error:0.106313\tvalidation_1-error:0.141951\tvalidation_0-gini_err:0.654452\tvalidation_1-gini_err:0.706188\n",
            "[80]\tvalidation_0-error:0.106313\tvalidation_1-error:0.141951\tvalidation_0-gini_err:0.654245\tvalidation_1-gini_err:0.705791\n",
            "[81]\tvalidation_0-error:0.106313\tvalidation_1-error:0.141951\tvalidation_0-gini_err:0.65394\tvalidation_1-gini_err:0.705528\n",
            "[82]\tvalidation_0-error:0.106313\tvalidation_1-error:0.141951\tvalidation_0-gini_err:0.653633\tvalidation_1-gini_err:0.705104\n",
            "[83]\tvalidation_0-error:0.106313\tvalidation_1-error:0.141951\tvalidation_0-gini_err:0.653376\tvalidation_1-gini_err:0.704839\n",
            "[84]\tvalidation_0-error:0.106313\tvalidation_1-error:0.141951\tvalidation_0-gini_err:0.653031\tvalidation_1-gini_err:0.704411\n",
            "[85]\tvalidation_0-error:0.106313\tvalidation_1-error:0.141951\tvalidation_0-gini_err:0.652607\tvalidation_1-gini_err:0.704004\n",
            "[86]\tvalidation_0-error:0.106313\tvalidation_1-error:0.141951\tvalidation_0-gini_err:0.652285\tvalidation_1-gini_err:0.703722\n",
            "[87]\tvalidation_0-error:0.106313\tvalidation_1-error:0.141951\tvalidation_0-gini_err:0.65205\tvalidation_1-gini_err:0.703385\n",
            "[88]\tvalidation_0-error:0.106313\tvalidation_1-error:0.141951\tvalidation_0-gini_err:0.651777\tvalidation_1-gini_err:0.703066\n",
            "[89]\tvalidation_0-error:0.106313\tvalidation_1-error:0.141951\tvalidation_0-gini_err:0.651583\tvalidation_1-gini_err:0.702716\n",
            "[90]\tvalidation_0-error:0.106313\tvalidation_1-error:0.141951\tvalidation_0-gini_err:0.650702\tvalidation_1-gini_err:0.705223\n",
            "[91]\tvalidation_0-error:0.106313\tvalidation_1-error:0.141951\tvalidation_0-gini_err:0.650315\tvalidation_1-gini_err:0.705051\n",
            "[92]\tvalidation_0-error:0.106313\tvalidation_1-error:0.141951\tvalidation_0-gini_err:0.65014\tvalidation_1-gini_err:0.704726\n",
            "[93]\tvalidation_0-error:0.106313\tvalidation_1-error:0.141951\tvalidation_0-gini_err:0.649893\tvalidation_1-gini_err:0.704488\n",
            "[94]\tvalidation_0-error:0.106313\tvalidation_1-error:0.141951\tvalidation_0-gini_err:0.649658\tvalidation_1-gini_err:0.704368\n",
            "[95]\tvalidation_0-error:0.106313\tvalidation_1-error:0.141951\tvalidation_0-gini_err:0.649445\tvalidation_1-gini_err:0.704039\n",
            "[96]\tvalidation_0-error:0.106313\tvalidation_1-error:0.141951\tvalidation_0-gini_err:0.649159\tvalidation_1-gini_err:0.703717\n",
            "[97]\tvalidation_0-error:0.106313\tvalidation_1-error:0.141951\tvalidation_0-gini_err:0.648908\tvalidation_1-gini_err:0.70353\n",
            "[98]\tvalidation_0-error:0.106313\tvalidation_1-error:0.141951\tvalidation_0-gini_err:0.648528\tvalidation_1-gini_err:0.704599\n",
            "[99]\tvalidation_0-error:0.106313\tvalidation_1-error:0.141951\tvalidation_0-gini_err:0.648374\tvalidation_1-gini_err:0.704319\n"
          ],
          "name": "stdout"
        },
        {
          "output_type": "execute_result",
          "data": {
            "text/plain": [
              "XGBClassifier(base_score=0.5, booster='gbtree', colsample_bylevel=1,\n",
              "              colsample_bynode=1, colsample_bytree=1, gamma=0,\n",
              "              learning_rate=0.1, max_delta_step=0, max_depth=3,\n",
              "              min_child_weight=1, missing=None, n_estimators=100, n_jobs=-1,\n",
              "              nthread=None, num_boost_round=70, objective='binary:logistic',\n",
              "              random_state=0, reg_alpha=0, reg_lambda=1, scale_pos_weight=1,\n",
              "              seed=None, silent=None, subsample=1, tree_method='gpu_hist',\n",
              "              verbose_eval=False, verbosity=1)"
            ]
          },
          "metadata": {
            "tags": []
          },
          "execution_count": 35
        }
      ]
    },
    {
      "cell_type": "code",
      "metadata": {
        "id": "qsq1TaxSm7M1",
        "outputId": "45e3421b-8d28-41a2-a12b-e2f9672baca6",
        "colab": {
          "base_uri": "https://localhost:8080/",
          "height": 526
        }
      },
      "source": [
        "train.columns"
      ],
      "execution_count": null,
      "outputs": [
        {
          "output_type": "execute_result",
          "data": {
            "text/plain": [
              "Index(['int_rate', 'installment', 'annual_inc', 'dti', 'delinq_2yrs',\n",
              "       'inq_last_6mths', 'mths_since_last_delinq', 'mths_since_last_record',\n",
              "       'revol_util', 'total_acc', 'collections_12_mths_ex_med',\n",
              "       'mths_since_last_major_derog', 'acc_now_delinq', 'tot_coll_amt',\n",
              "       'tot_cur_bal', 'open_acc_6m', 'open_act_il', 'open_il_24m',\n",
              "       'mths_since_rcnt_il', 'total_bal_il', 'il_util', 'open_rv_12m',\n",
              "       'open_rv_24m', 'max_bal_bc', 'all_util', 'total_rev_hi_lim', 'inq_fi',\n",
              "       'total_cu_tl', 'acc_open_past_24mths', 'avg_cur_bal', 'bc_open_to_buy',\n",
              "       'bc_util', 'chargeoff_within_12_mths', 'delinq_amnt',\n",
              "       'mo_sin_old_il_acct', 'mo_sin_old_rev_tl_op', 'mo_sin_rcnt_rev_tl_op',\n",
              "       'mo_sin_rcnt_tl', 'mort_acc', 'mths_since_recent_bc',\n",
              "       'mths_since_recent_bc_dlq', 'mths_since_recent_inq',\n",
              "       'mths_since_recent_revol_delinq', 'num_accts_ever_120_pd',\n",
              "       'num_actv_bc_tl', 'num_actv_rev_tl', 'num_bc_sats', 'num_rev_accts',\n",
              "       'num_sats', 'num_tl_120dpd_2m', 'num_tl_30dpd', 'num_tl_90g_dpd_24m',\n",
              "       'pct_tl_nvr_dlq', 'percent_bc_gt_75', 'pub_rec_bankruptcies',\n",
              "       'tax_liens', 'tot_hi_cred_lim', 'total_bal_ex_mort', 'total_bc_limit',\n",
              "       'term_36 months', 'term_60 months', 'grade_A', 'grade_B', 'grade_C',\n",
              "       'grade_D', 'grade_E', 'grade_F', 'grade_G', 'emp_length_1 year',\n",
              "       'emp_length_10+ years', 'emp_length_2 years', 'emp_length_3 years',\n",
              "       'emp_length_4 years', 'emp_length_5 years', 'emp_length_6 years',\n",
              "       'emp_length_7 years', 'emp_length_8 years', 'emp_length_9 years',\n",
              "       'emp_length_less 1 year', 'home_ownership_ANY',\n",
              "       'home_ownership_MORTGAGE', 'home_ownership_NONE',\n",
              "       'home_ownership_OTHER', 'home_ownership_OWN', 'home_ownership_RENT',\n",
              "       'verification_status_Not Verified',\n",
              "       'verification_status_Source Verified', 'verification_status_Verified'],\n",
              "      dtype='object')"
            ]
          },
          "metadata": {
            "tags": []
          },
          "execution_count": 20
        }
      ]
    },
    {
      "cell_type": "code",
      "metadata": {
        "id": "79STCuzGbAPR"
      },
      "source": [
        "X_train=pd.DataFrame(X_train)\n",
        "X_train.columns = train.columns\n",
        "X_test=pd.DataFrame(X_test)\n",
        "X_test.columns = train.columns\n",
        "timetest=pd.DataFrame(timetest)\n",
        "timetest.columns = train.columns"
      ],
      "execution_count": null,
      "outputs": []
    },
    {
      "cell_type": "code",
      "metadata": {
        "id": "VGX0kCCBbQyQ"
      },
      "source": [
        "pd.DataFrame.from_dict(result.cv_results_).to_excel('Random_searchcv_0vr.xlsx')"
      ],
      "execution_count": null,
      "outputs": []
    },
    {
      "cell_type": "code",
      "metadata": {
        "id": "CFM__97fouQz",
        "outputId": "7319d39e-f2b1-4cf9-b94c-10beba66ac95",
        "colab": {
          "base_uri": "https://localhost:8080/",
          "height": 253
        }
      },
      "source": [
        "from bayes_opt import BayesianOptimization\n",
        "import xgboost as xgb\n",
        "from sklearn.metrics import mean_squared_error\n",
        "\n",
        "#Converting the dataframe into XGBoost’s Dmatrix object\n",
        "dtrain = xgb.DMatrix(X_train, label=y_train)\n",
        "dtest = xgb.DMatrix(timetest,label=y_timetest)\n",
        "watchlist = [(dtrain, 'train'), (dtest, 'eval')]\n",
        "cvvalues = []\n",
        "evalsdict={}\n",
        "ginivalues=[]\n",
        "#Bayesian Optimization function for xgboost\n",
        "def calc_gini(y,y_p,j=1):\n",
        "  gini ={}\n",
        "  fpr={}\n",
        "  tpr={}\n",
        "  roc_auc={}\n",
        "  g=0\n",
        "  if j==1:\n",
        "    fpr, tpr, _ = roc_curve(y, y_p)\n",
        "    roc_auc = auc(fpr, tpr)\n",
        "    gini=2*roc_auc-1 \n",
        "  else:\n",
        "    y_g = OneHotEncoder().fit_transform(pd.DataFrame(y)).toarray()\n",
        "    for i in range(j):\n",
        "      fpr[i], tpr[i], _ = roc_curve(y_g[:, i], y_p[:, i])\n",
        "      roc_auc[i] = auc(fpr[i], tpr[i])\n",
        "      gini[i]=2*roc_auc[i]-1   \n",
        "  gc.collect()\n",
        "  return gini\n",
        "def gini_eval(y_pred, dtrain):\n",
        "    err=0\n",
        "    y_true = dtrain.get_label()\n",
        "    #fpr, tpr, _ = roc_curve(y_true, y_pred)\n",
        "    #roc_auc = auc(fpr, tpr)\n",
        "    #gini = 2*roc_auc -1\n",
        "    gini = calc_gini(y_true,y_pred,3)\n",
        "    #for i in gini:\n",
        "    #  err += gini[i]\n",
        "    gini = (gini[0]+gini[1]+gini[2])/3\n",
        "    #err = 1-gini\n",
        "    err=1-gini\n",
        "    gc.collect()\n",
        "    return 'gini_err', err\n",
        "#specify the parameters you want to tune as keyword arguments\n",
        "def bo_tune_xgb(max_depth,gamma,n_estimators,learning_rate,reg_alpha,scale_pos_weight,colsamplebytree,max_delta_step):\n",
        "  global cvvalues,ginivalues,X_train,y_train,timetest,y_timetest\n",
        "  dicct={}\n",
        "  params = {'max_depth': int(max_depth),\n",
        "          'gamma': gamma,\n",
        "          'n_estimators': int(n_estimators),\n",
        "          'learning_rate':learning_rate,\n",
        "          'subsample': 0.8,\n",
        "          'eta': 0.1,\n",
        "          'reg_alpha':reg_alpha,\n",
        "          'scale_pos_weight':scale_pos_weight,\n",
        "          'colsamplebytree':colsamplebytree,\n",
        "          'eval_metric': 'mlogloss',\n",
        "          'objective': 'multi:softmax',\n",
        "          'num_class':3,\n",
        "          'max_delta_step':max_delta_step,\n",
        "          'tree_method':'gpu_hist'\n",
        "          }\n",
        "  #Cross validating with the specified parameters in 5 folds and 70 iterations\n",
        "  #cv_result = xgb.cv(params, dtrain, num_boost_round=70, nfold=5,\n",
        "                     #feval=gini_eval\n",
        "                     #metrics='logloss')\n",
        "  clf = xgb.XGBClassifier(**params,n_jobs=-1)\n",
        "  clf.fit(X_train,y_train['target'],eval_metric=gini_eval,eval_set=[(X_train,y_train['target']),(X_test,y_test['target'])],early_stopping_rounds=50,verbose=False)\n",
        "  #Return the negative RMSE\n",
        "  cvvalues.append(clf.best_score)\n",
        "  return 1-clf.best_score\n",
        "\n",
        "#Invoking the Bayesian Optimizer with the specified parameters to tune\n",
        "xgb_bo = BayesianOptimization(bo_tune_xgb, {'max_depth': (3, 10),\n",
        "                                            'gamma': (0, 1),\n",
        "                                            'scale_pos_weight': (7,100),                                          \n",
        "                                            'n_estimators':(100,1000),\n",
        "                                            'reg_alpha': (0,1),\n",
        "                                            'learning_rate': (0.01,0.5),\n",
        "                                            'colsamplebytree':(0,1),\n",
        "                                            'max_delta_step':(0,1)\n",
        "                                            })\n",
        "\n",
        "#performing Bayesian optimization for 5 iterations with 8 steps of random exploration with an #acquisition function of expected improvement\n",
        "xgb_bo.maximize(n_iter=5, init_points=5, acq='ei')"
      ],
      "execution_count": null,
      "outputs": [
        {
          "output_type": "stream",
          "text": [
            "|   iter    |  target   | colsam... |   gamma   | learni... | max_de... | max_depth | n_esti... | reg_alpha | scale_... |\n",
            "-------------------------------------------------------------------------------------------------------------------------\n",
            "| \u001b[0m 1       \u001b[0m | \u001b[0m 0.4172  \u001b[0m | \u001b[0m 0.8588  \u001b[0m | \u001b[0m 0.6693  \u001b[0m | \u001b[0m 0.3802  \u001b[0m | \u001b[0m 0.8557  \u001b[0m | \u001b[0m 7.537   \u001b[0m | \u001b[0m 788.5   \u001b[0m | \u001b[0m 0.1901  \u001b[0m | \u001b[0m 70.48   \u001b[0m |\n",
            "| \u001b[95m 2       \u001b[0m | \u001b[95m 0.4263  \u001b[0m | \u001b[95m 0.967   \u001b[0m | \u001b[95m 0.8781  \u001b[0m | \u001b[95m 0.07036 \u001b[0m | \u001b[95m 0.2546  \u001b[0m | \u001b[95m 7.258   \u001b[0m | \u001b[95m 549.7   \u001b[0m | \u001b[95m 0.5445  \u001b[0m | \u001b[95m 75.52   \u001b[0m |\n",
            "| \u001b[0m 3       \u001b[0m | \u001b[0m 0.4165  \u001b[0m | \u001b[0m 0.7943  \u001b[0m | \u001b[0m 0.5541  \u001b[0m | \u001b[0m 0.2449  \u001b[0m | \u001b[0m 0.7713  \u001b[0m | \u001b[0m 9.021   \u001b[0m | \u001b[0m 667.5   \u001b[0m | \u001b[0m 0.4216  \u001b[0m | \u001b[0m 25.59   \u001b[0m |\n",
            "| \u001b[0m 4       \u001b[0m | \u001b[0m 0.425   \u001b[0m | \u001b[0m 0.008256\u001b[0m | \u001b[0m 0.2509  \u001b[0m | \u001b[0m 0.4014  \u001b[0m | \u001b[0m 0.05933 \u001b[0m | \u001b[0m 4.209   \u001b[0m | \u001b[0m 606.8   \u001b[0m | \u001b[0m 0.4545  \u001b[0m | \u001b[0m 84.06   \u001b[0m |\n",
            "| \u001b[0m 5       \u001b[0m | \u001b[0m 0.4134  \u001b[0m | \u001b[0m 0.5633  \u001b[0m | \u001b[0m 0.05934 \u001b[0m | \u001b[0m 0.4362  \u001b[0m | \u001b[0m 0.8242  \u001b[0m | \u001b[0m 8.03    \u001b[0m | \u001b[0m 890.5   \u001b[0m | \u001b[0m 0.2216  \u001b[0m | \u001b[0m 25.76   \u001b[0m |\n",
            "| \u001b[0m 6       \u001b[0m | \u001b[0m 0.4249  \u001b[0m | \u001b[0m 0.9399  \u001b[0m | \u001b[0m 0.8539  \u001b[0m | \u001b[0m 0.4665  \u001b[0m | \u001b[0m 0.4541  \u001b[0m | \u001b[0m 3.406   \u001b[0m | \u001b[0m 102.2   \u001b[0m | \u001b[0m 0.4195  \u001b[0m | \u001b[0m 98.74   \u001b[0m |\n",
            "| \u001b[0m 7       \u001b[0m | \u001b[0m 0.4263  \u001b[0m | \u001b[0m 0.7022  \u001b[0m | \u001b[0m 0.0603  \u001b[0m | \u001b[0m 0.1754  \u001b[0m | \u001b[0m 0.6356  \u001b[0m | \u001b[0m 5.162   \u001b[0m | \u001b[0m 382.5   \u001b[0m | \u001b[0m 0.5847  \u001b[0m | \u001b[0m 99.92   \u001b[0m |\n",
            "| \u001b[0m 8       \u001b[0m | \u001b[0m 0.4179  \u001b[0m | \u001b[0m 0.8001  \u001b[0m | \u001b[0m 0.3242  \u001b[0m | \u001b[0m 0.4901  \u001b[0m | \u001b[0m 0.457   \u001b[0m | \u001b[0m 6.332   \u001b[0m | \u001b[0m 548.8   \u001b[0m | \u001b[0m 0.3368  \u001b[0m | \u001b[0m 71.94   \u001b[0m |\n",
            "| \u001b[0m 9       \u001b[0m | \u001b[0m 0.42    \u001b[0m | \u001b[0m 0.8379  \u001b[0m | \u001b[0m 0.725   \u001b[0m | \u001b[0m 0.1842  \u001b[0m | \u001b[0m 0.8268  \u001b[0m | \u001b[0m 9.83    \u001b[0m | \u001b[0m 262.7   \u001b[0m | \u001b[0m 0.5171  \u001b[0m | \u001b[0m 99.97   \u001b[0m |\n",
            "| \u001b[0m 10      \u001b[0m | \u001b[0m 0.422   \u001b[0m | \u001b[0m 0.3249  \u001b[0m | \u001b[0m 0.9983  \u001b[0m | \u001b[0m 0.1368  \u001b[0m | \u001b[0m 0.5928  \u001b[0m | \u001b[0m 9.586   \u001b[0m | \u001b[0m 558.6   \u001b[0m | \u001b[0m 0.6817  \u001b[0m | \u001b[0m 97.76   \u001b[0m |\n",
            "=========================================================================================================================\n"
          ],
          "name": "stdout"
        }
      ]
    },
    {
      "cell_type": "code",
      "metadata": {
        "id": "bjPH4xXs37H-"
      },
      "source": [
        "xgb_bo."
      ],
      "execution_count": null,
      "outputs": []
    },
    {
      "cell_type": "code",
      "metadata": {
        "id": "vePnrUry-xAm",
        "outputId": "759a0651-6a55-4501-d8fc-e13277c4053d",
        "colab": {
          "base_uri": "https://localhost:8080/",
          "height": 435
        }
      },
      "source": [
        "xgb_bo.maximize(n_iter=10, init_points=10, acq='ei')"
      ],
      "execution_count": null,
      "outputs": [
        {
          "output_type": "stream",
          "text": [
            "|   iter    |  target   | colsam... |   gamma   | learni... | max_de... | max_depth | n_esti... | reg_alpha | scale_... |\n",
            "-------------------------------------------------------------------------------------------------------------------------\n",
            "| \u001b[0m 11      \u001b[0m | \u001b[0m 0.217   \u001b[0m | \u001b[0m 0.4405  \u001b[0m | \u001b[0m 0.847   \u001b[0m | \u001b[0m 0.1086  \u001b[0m | \u001b[0m 0.4133  \u001b[0m | \u001b[0m 7.65    \u001b[0m | \u001b[0m 280.2   \u001b[0m | \u001b[0m 0.4705  \u001b[0m | \u001b[0m 47.3    \u001b[0m |\n",
            "| \u001b[0m 12      \u001b[0m | \u001b[0m 0.2735  \u001b[0m | \u001b[0m 0.9922  \u001b[0m | \u001b[0m 0.3342  \u001b[0m | \u001b[0m 0.339   \u001b[0m | \u001b[0m 0.5452  \u001b[0m | \u001b[0m 3.738   \u001b[0m | \u001b[0m 334.9   \u001b[0m | \u001b[0m 0.02842 \u001b[0m | \u001b[0m 63.71   \u001b[0m |\n",
            "| \u001b[0m 13      \u001b[0m | \u001b[0m 0.2164  \u001b[0m | \u001b[0m 0.6418  \u001b[0m | \u001b[0m 0.2815  \u001b[0m | \u001b[0m 0.3783  \u001b[0m | \u001b[0m 0.3861  \u001b[0m | \u001b[0m 3.642   \u001b[0m | \u001b[0m 868.2   \u001b[0m | \u001b[0m 0.3698  \u001b[0m | \u001b[0m 22.31   \u001b[0m |\n",
            "| \u001b[0m 14      \u001b[0m | \u001b[0m 0.1536  \u001b[0m | \u001b[0m 0.09859 \u001b[0m | \u001b[0m 0.5056  \u001b[0m | \u001b[0m 0.4489  \u001b[0m | \u001b[0m 0.338   \u001b[0m | \u001b[0m 6.37    \u001b[0m | \u001b[0m 944.6   \u001b[0m | \u001b[0m 0.3231  \u001b[0m | \u001b[0m 77.41   \u001b[0m |\n",
            "| \u001b[0m 15      \u001b[0m | \u001b[0m 0.3572  \u001b[0m | \u001b[0m 0.608   \u001b[0m | \u001b[0m 0.1599  \u001b[0m | \u001b[0m 0.2484  \u001b[0m | \u001b[0m 0.9748  \u001b[0m | \u001b[0m 9.238   \u001b[0m | \u001b[0m 112.5   \u001b[0m | \u001b[0m 0.01756 \u001b[0m | \u001b[0m 45.65   \u001b[0m |\n",
            "| \u001b[0m 16      \u001b[0m | \u001b[0m 0.3346  \u001b[0m | \u001b[0m 0.3208  \u001b[0m | \u001b[0m 0.09083 \u001b[0m | \u001b[0m 0.149   \u001b[0m | \u001b[0m 0.7722  \u001b[0m | \u001b[0m 9.146   \u001b[0m | \u001b[0m 768.4   \u001b[0m | \u001b[0m 0.0702  \u001b[0m | \u001b[0m 46.14   \u001b[0m |\n",
            "| \u001b[0m 17      \u001b[0m | \u001b[0m 0.313   \u001b[0m | \u001b[0m 0.6185  \u001b[0m | \u001b[0m 0.07153 \u001b[0m | \u001b[0m 0.141   \u001b[0m | \u001b[0m 0.5587  \u001b[0m | \u001b[0m 6.987   \u001b[0m | \u001b[0m 844.0   \u001b[0m | \u001b[0m 0.1837  \u001b[0m | \u001b[0m 18.82   \u001b[0m |\n",
            "| \u001b[0m 18      \u001b[0m | \u001b[0m 0.3396  \u001b[0m | \u001b[0m 0.505   \u001b[0m | \u001b[0m 0.3953  \u001b[0m | \u001b[0m 0.3504  \u001b[0m | \u001b[0m 0.7185  \u001b[0m | \u001b[0m 9.846   \u001b[0m | \u001b[0m 995.4   \u001b[0m | \u001b[0m 0.8175  \u001b[0m | \u001b[0m 56.68   \u001b[0m |\n",
            "| \u001b[0m 19      \u001b[0m | \u001b[0m 0.356   \u001b[0m | \u001b[0m 0.8763  \u001b[0m | \u001b[0m 0.7331  \u001b[0m | \u001b[0m 0.2299  \u001b[0m | \u001b[0m 0.9331  \u001b[0m | \u001b[0m 6.373   \u001b[0m | \u001b[0m 438.2   \u001b[0m | \u001b[0m 0.3291  \u001b[0m | \u001b[0m 60.8    \u001b[0m |\n",
            "| \u001b[0m 20      \u001b[0m | \u001b[0m 0.124   \u001b[0m | \u001b[0m 0.1812  \u001b[0m | \u001b[0m 0.7783  \u001b[0m | \u001b[0m 0.2559  \u001b[0m | \u001b[0m 0.2409  \u001b[0m | \u001b[0m 7.352   \u001b[0m | \u001b[0m 741.1   \u001b[0m | \u001b[0m 0.8266  \u001b[0m | \u001b[0m 23.08   \u001b[0m |\n",
            "| \u001b[0m 21      \u001b[0m | \u001b[0m 0.3216  \u001b[0m | \u001b[0m 1.0     \u001b[0m | \u001b[0m 1.0     \u001b[0m | \u001b[0m 0.01    \u001b[0m | \u001b[0m 1.0     \u001b[0m | \u001b[0m 3.0     \u001b[0m | \u001b[0m 416.5   \u001b[0m | \u001b[0m 1.0     \u001b[0m | \u001b[0m 100.0   \u001b[0m |\n",
            "| \u001b[95m 22      \u001b[0m | \u001b[95m 0.3613  \u001b[0m | \u001b[95m 1.0     \u001b[0m | \u001b[95m 0.0     \u001b[0m | \u001b[95m 0.5     \u001b[0m | \u001b[95m 1.0     \u001b[0m | \u001b[95m 10.0    \u001b[0m | \u001b[95m 762.1   \u001b[0m | \u001b[95m 1.0     \u001b[0m | \u001b[95m 100.0   \u001b[0m |\n",
            "| \u001b[0m 23      \u001b[0m | \u001b[0m 0.3613  \u001b[0m | \u001b[0m 1.0     \u001b[0m | \u001b[0m 0.0     \u001b[0m | \u001b[0m 0.5     \u001b[0m | \u001b[0m 1.0     \u001b[0m | \u001b[0m 10.0    \u001b[0m | \u001b[0m 637.5   \u001b[0m | \u001b[0m 1.0     \u001b[0m | \u001b[0m 100.0   \u001b[0m |\n",
            "| \u001b[0m 24      \u001b[0m | \u001b[0m 0.3216  \u001b[0m | \u001b[0m 1.0     \u001b[0m | \u001b[0m 0.0     \u001b[0m | \u001b[0m 0.01    \u001b[0m | \u001b[0m 1.0     \u001b[0m | \u001b[0m 3.0     \u001b[0m | \u001b[0m 181.3   \u001b[0m | \u001b[0m 0.0     \u001b[0m | \u001b[0m 100.0   \u001b[0m |\n",
            "| \u001b[0m 25      \u001b[0m | \u001b[0m 0.3216  \u001b[0m | \u001b[0m 1.0     \u001b[0m | \u001b[0m 1.0     \u001b[0m | \u001b[0m 0.01    \u001b[0m | \u001b[0m 1.0     \u001b[0m | \u001b[0m 3.0     \u001b[0m | \u001b[0m 367.6   \u001b[0m | \u001b[0m 1.0     \u001b[0m | \u001b[0m 7.0     \u001b[0m |\n",
            "| \u001b[0m 26      \u001b[0m | \u001b[0m 0.3249  \u001b[0m | \u001b[0m 1.0     \u001b[0m | \u001b[0m 0.0     \u001b[0m | \u001b[0m 0.5     \u001b[0m | \u001b[0m 1.0     \u001b[0m | \u001b[0m 3.0     \u001b[0m | \u001b[0m 188.1   \u001b[0m | \u001b[0m 1.0     \u001b[0m | \u001b[0m 7.0     \u001b[0m |\n",
            "| \u001b[0m 27      \u001b[0m | \u001b[0m 0.3249  \u001b[0m | \u001b[0m 1.0     \u001b[0m | \u001b[0m 0.0     \u001b[0m | \u001b[0m 0.5     \u001b[0m | \u001b[0m 1.0     \u001b[0m | \u001b[0m 3.0     \u001b[0m | \u001b[0m 606.8   \u001b[0m | \u001b[0m 1.0     \u001b[0m | \u001b[0m 7.0     \u001b[0m |\n",
            "| \u001b[95m 28      \u001b[0m | \u001b[95m 0.3663  \u001b[0m | \u001b[95m 1.0     \u001b[0m | \u001b[95m 1.0     \u001b[0m | \u001b[95m 0.01    \u001b[0m | \u001b[95m 0.0     \u001b[0m | \u001b[95m 10.0    \u001b[0m | \u001b[95m 100.0   \u001b[0m | \u001b[95m 1.0     \u001b[0m | \u001b[95m 100.0   \u001b[0m |\n",
            "| \u001b[0m 29      \u001b[0m | \u001b[0m 0.3613  \u001b[0m | \u001b[0m 1.0     \u001b[0m | \u001b[0m 0.0     \u001b[0m | \u001b[0m 0.5     \u001b[0m | \u001b[0m 1.0     \u001b[0m | \u001b[0m 10.0    \u001b[0m | \u001b[0m 1e+03   \u001b[0m | \u001b[0m 1.0     \u001b[0m | \u001b[0m 7.0     \u001b[0m |\n",
            "| \u001b[0m 30      \u001b[0m | \u001b[0m 0.06836 \u001b[0m | \u001b[0m 0.8408  \u001b[0m | \u001b[0m 0.6329  \u001b[0m | \u001b[0m 0.3151  \u001b[0m | \u001b[0m 0.1038  \u001b[0m | \u001b[0m 3.309   \u001b[0m | \u001b[0m 107.4   \u001b[0m | \u001b[0m 0.2776  \u001b[0m | \u001b[0m 8.878   \u001b[0m |\n",
            "=========================================================================================================================\n"
          ],
          "name": "stdout"
        }
      ]
    },
    {
      "cell_type": "code",
      "metadata": {
        "id": "x0Zfmw9EzeWH",
        "outputId": "242dbbfd-9021-4275-fb22-38c16dfa0416",
        "colab": {
          "base_uri": "https://localhost:8080/",
          "height": 253
        }
      },
      "source": [
        "xgb_bo.maximize(n_iter=10, init_points=10, acq='ei')"
      ],
      "execution_count": null,
      "outputs": [
        {
          "output_type": "stream",
          "text": [
            "|   iter    |  target   | colsam... |   gamma   | learni... | max_de... | max_depth | n_esti... | reg_alpha | scale_... |\n",
            "-------------------------------------------------------------------------------------------------------------------------\n",
            "| \u001b[0m 21      \u001b[0m | \u001b[0m 0.2352  \u001b[0m | \u001b[0m 0.9391  \u001b[0m | \u001b[0m 0.695   \u001b[0m | \u001b[0m 0.1522  \u001b[0m | \u001b[0m 0.4634  \u001b[0m | \u001b[0m 6.68    \u001b[0m | \u001b[0m 257.1   \u001b[0m | \u001b[0m 0.1956  \u001b[0m | \u001b[0m 45.58   \u001b[0m |\n",
            "| \u001b[0m 22      \u001b[0m | \u001b[0m 0.3595  \u001b[0m | \u001b[0m 0.2721  \u001b[0m | \u001b[0m 0.1479  \u001b[0m | \u001b[0m 0.4875  \u001b[0m | \u001b[0m 0.8763  \u001b[0m | \u001b[0m 5.526   \u001b[0m | \u001b[0m 751.1   \u001b[0m | \u001b[0m 0.3218  \u001b[0m | \u001b[0m 25.3    \u001b[0m |\n",
            "| \u001b[0m 23      \u001b[0m | \u001b[0m 0.3154  \u001b[0m | \u001b[0m 0.6039  \u001b[0m | \u001b[0m 0.8097  \u001b[0m | \u001b[0m 0.2799  \u001b[0m | \u001b[0m 0.958   \u001b[0m | \u001b[0m 3.563   \u001b[0m | \u001b[0m 443.8   \u001b[0m | \u001b[0m 0.2497  \u001b[0m | \u001b[0m 9.031   \u001b[0m |\n",
            "| \u001b[0m 24      \u001b[0m | \u001b[0m 0.3293  \u001b[0m | \u001b[0m 0.2231  \u001b[0m | \u001b[0m 0.8255  \u001b[0m | \u001b[0m 0.03041 \u001b[0m | \u001b[0m 0.6918  \u001b[0m | \u001b[0m 9.38    \u001b[0m | \u001b[0m 324.2   \u001b[0m | \u001b[0m 0.5555  \u001b[0m | \u001b[0m 47.77   \u001b[0m |\n",
            "| \u001b[0m 25      \u001b[0m | \u001b[0m 0.3241  \u001b[0m | \u001b[0m 0.8411  \u001b[0m | \u001b[0m 0.914   \u001b[0m | \u001b[0m 0.1367  \u001b[0m | \u001b[0m 0.6522  \u001b[0m | \u001b[0m 4.484   \u001b[0m | \u001b[0m 927.5   \u001b[0m | \u001b[0m 0.2342  \u001b[0m | \u001b[0m 17.1    \u001b[0m |\n",
            "| \u001b[0m 26      \u001b[0m | \u001b[0m 0.3472  \u001b[0m | \u001b[0m 1.0     \u001b[0m | \u001b[0m 1.0     \u001b[0m | \u001b[0m 0.01    \u001b[0m | \u001b[0m 1.0     \u001b[0m | \u001b[0m 10.0    \u001b[0m | \u001b[0m 1e+03   \u001b[0m | \u001b[0m 1.0     \u001b[0m | \u001b[0m 7.0     \u001b[0m |\n",
            "| \u001b[0m 27      \u001b[0m | \u001b[0m 0.3472  \u001b[0m | \u001b[0m 1.0     \u001b[0m | \u001b[0m 1.0     \u001b[0m | \u001b[0m 0.01    \u001b[0m | \u001b[0m 1.0     \u001b[0m | \u001b[0m 10.0    \u001b[0m | \u001b[0m 1e+03   \u001b[0m | \u001b[0m 1.0     \u001b[0m | \u001b[0m 100.0   \u001b[0m |\n",
            "| \u001b[0m 28      \u001b[0m | \u001b[0m 0.3472  \u001b[0m | \u001b[0m 0.969   \u001b[0m | \u001b[0m 1.0     \u001b[0m | \u001b[0m 0.01    \u001b[0m | \u001b[0m 1.0     \u001b[0m | \u001b[0m 10.0    \u001b[0m | \u001b[0m 735.6   \u001b[0m | \u001b[0m 1.0     \u001b[0m | \u001b[0m 100.0   \u001b[0m |\n",
            "| \u001b[0m 29      \u001b[0m | \u001b[0m 0.3216  \u001b[0m | \u001b[0m 1.0     \u001b[0m | \u001b[0m 0.0     \u001b[0m | \u001b[0m 0.01    \u001b[0m | \u001b[0m 1.0     \u001b[0m | \u001b[0m 3.0     \u001b[0m | \u001b[0m 408.2   \u001b[0m | \u001b[0m 0.0     \u001b[0m | \u001b[0m 38.29   \u001b[0m |\n",
            "| \u001b[0m 30      \u001b[0m | \u001b[0m 0.3472  \u001b[0m | \u001b[0m 1.0     \u001b[0m | \u001b[0m 1.0     \u001b[0m | \u001b[0m 0.01    \u001b[0m | \u001b[0m 1.0     \u001b[0m | \u001b[0m 10.0    \u001b[0m | \u001b[0m 917.4   \u001b[0m | \u001b[0m 1.0     \u001b[0m | \u001b[0m 100.0   \u001b[0m |\n",
            "=========================================================================================================================\n"
          ],
          "name": "stdout"
        }
      ]
    },
    {
      "cell_type": "code",
      "metadata": {
        "id": "CMV-Pf9Kg3U0"
      },
      "source": [
        "pd.DataFrame.from_dict(xgb_bo.res).to_excel('/content/drive/My Drive/Lending-Club/multi_xg_val_params.xlsx',index=False)"
      ],
      "execution_count": null,
      "outputs": []
    },
    {
      "cell_type": "code",
      "metadata": {
        "id": "OP7RK9r9CUMZ"
      },
      "source": [
        "p = "
      ],
      "execution_count": null,
      "outputs": []
    },
    {
      "cell_type": "code",
      "metadata": {
        "id": "J_Ice3TYTbOf"
      },
      "source": [
        "y_t1 = OneHotEncoder().fit_transform(y_train).toarray()"
      ],
      "execution_count": null,
      "outputs": []
    },
    {
      "cell_type": "code",
      "metadata": {
        "id": "0dkXLFv8UQZv",
        "outputId": "23f159df-ab95-45aa-b271-796a419af730",
        "colab": {
          "base_uri": "https://localhost:8080/",
          "height": 35
        }
      },
      "source": [
        "gc.collect()"
      ],
      "execution_count": null,
      "outputs": [
        {
          "output_type": "execute_result",
          "data": {
            "text/plain": [
              "22240"
            ]
          },
          "metadata": {
            "tags": []
          },
          "execution_count": 14
        }
      ]
    },
    {
      "cell_type": "code",
      "metadata": {
        "id": "Rj1Nci4FaJHL",
        "outputId": "366632e7-50a5-4a77-e4df-614f7b8a7f5d",
        "colab": {
          "base_uri": "https://localhost:8080/",
          "height": 389
        }
      },
      "source": [
        "from bayes_opt import BayesianOptimization\n",
        "import xgboost as xgb\n",
        "from sklearn.metrics import mean_squared_error\n",
        "\n",
        "#Converting the dataframe into XGBoost’s Dmatrix object\n",
        "dtrain = xgb.DMatrix(X_train, label=y_train)\n",
        "dtest = xgb.DMatrix(timetest,label=y_timetest)\n",
        "watchlist = [(dtrain, 'train'), (dtest, 'eval')]\n",
        "cvvalues = []\n",
        "evalsdict={}\n",
        "ginivalues=[]\n",
        "#Bayesian Optimization function for xgboost\n",
        "def calc_gini(y,y_p,j=1):\n",
        "  gini ={}\n",
        "  fpr={}\n",
        "  tpr={}\n",
        "  roc_auc={}\n",
        "  g=0\n",
        "  if j==1:\n",
        "    fpr, tpr, _ = roc_curve(y, y_p)\n",
        "    roc_auc = auc(fpr, tpr)\n",
        "    gini=2*roc_auc-1 \n",
        "  else:\n",
        "    y_g = OneHotEncoder().fit_transform(pd.DataFrame(y)).toarray()\n",
        "    for i in range(j):\n",
        "      fpr[i], tpr[i], _ = roc_curve(y_g[:, i], y_p[:, i])\n",
        "      roc_auc[i] = auc(fpr[i], tpr[i])\n",
        "      gini[i]=2*roc_auc[i]-1   \n",
        "  gc.collect()\n",
        "  return gini\n",
        "def gini_eval(y_pred, dtrain):\n",
        "    err=0\n",
        "    y_true = dtrain.get_label()\n",
        "    #fpr, tpr, _ = roc_curve(y_true, y_pred)\n",
        "    #roc_auc = auc(fpr, tpr)\n",
        "    #gini = 2*roc_auc -1\n",
        "    gini = calc_gini(y_true,y_pred,3)\n",
        "    #for i in gini:\n",
        "    #  err += gini[i]\n",
        "    gini = (gini[0]+gini[1]+gini[2])/3\n",
        "    #err = 1-gini\n",
        "    err=1-gini\n",
        "    gc.collect()\n",
        "    return 'gini_err', err\n",
        "#specify the parameters you want to tune as keyword arguments\n",
        "def bo_tune_xgb(max_depth,gamma,n_estimators,learning_rate,reg_alpha,scale_pos_weight,colsamplebytree,max_delta_step):\n",
        "  global cvvalues,ginivalues,X_train,y_train,timetest,y_timetest\n",
        "  dicct={}\n",
        "  params = {'max_depth': int(max_depth),\n",
        "          'gamma': gamma,\n",
        "          'n_estimators': int(n_estimators),\n",
        "          'learning_rate':learning_rate,\n",
        "          'subsample': 0.8,\n",
        "          'eta': 0.1,\n",
        "          'reg_alpha':reg_alpha,\n",
        "          'scale_pos_weight':scale_pos_weight,\n",
        "          'colsamplebytree':colsamplebytree,\n",
        "          'eval_metric': 'mlogloss',\n",
        "          'objective': 'multi:softmax',\n",
        "          'num_class':3,\n",
        "          'max_delta_step':max_delta_step,\n",
        "          'tree_method':'gpu_hist'\n",
        "          }\n",
        "  #Cross validating with the specified parameters in 5 folds and 70 iterations\n",
        "  #cv_result = xgb.cv(params, dtrain, num_boost_round=70, nfold=5,\n",
        "                     #feval=gini_eval\n",
        "                     #metrics='logloss')\n",
        "  clf = xgb.XGBClassifier(**params,n_jobs=-1)\n",
        "  clf.fit(X_train,y_train['target'],eval_metric=gini_eval,eval_set=[(X_train,y_train['target']),(X_test,y_test['target'])],early_stopping_rounds=50,verbose=False)\n",
        "  #Return the negative RMSE\n",
        "  cvvalues.append(clf.best_score)\n",
        "  return 1-clf.best_score\n",
        "\n",
        "#Invoking the Bayesian Optimizer with the specified parameters to tune\n",
        "xgb_bo = BayesianOptimization(bo_tune_xgb, {'max_depth': (3, 10),\n",
        "                                            'gamma': (0, 1),\n",
        "                                            'scale_pos_weight': (7,100),                                          \n",
        "                                            'n_estimators':(100,1000),\n",
        "                                            'reg_alpha': (0,1),\n",
        "                                            'learning_rate': (0.01,0.5),\n",
        "                                            'colsamplebytree':(0,1),\n",
        "                                            'max_delta_step':(0,1)\n",
        "                                            })\n",
        "\n",
        "#performing Bayesian optimization for 5 iterations with 8 steps of random exploration with an #acquisition function of expected improvement\n",
        "xgb_bo.maximize(n_iter=5, init_points=5, acq='ei')"
      ],
      "execution_count": null,
      "outputs": [
        {
          "output_type": "error",
          "ename": "ModuleNotFoundError",
          "evalue": "ignored",
          "traceback": [
            "\u001b[0;31m---------------------------------------------------------------------------\u001b[0m",
            "\u001b[0;31mModuleNotFoundError\u001b[0m                       Traceback (most recent call last)",
            "\u001b[0;32m<ipython-input-1-9a952da99de0>\u001b[0m in \u001b[0;36m<module>\u001b[0;34m()\u001b[0m\n\u001b[0;32m----> 1\u001b[0;31m \u001b[0;32mfrom\u001b[0m \u001b[0mbayes_opt\u001b[0m \u001b[0;32mimport\u001b[0m \u001b[0mBayesianOptimization\u001b[0m\u001b[0;34m\u001b[0m\u001b[0;34m\u001b[0m\u001b[0m\n\u001b[0m\u001b[1;32m      2\u001b[0m \u001b[0;32mimport\u001b[0m \u001b[0mxgboost\u001b[0m \u001b[0;32mas\u001b[0m \u001b[0mxgb\u001b[0m\u001b[0;34m\u001b[0m\u001b[0;34m\u001b[0m\u001b[0m\n\u001b[1;32m      3\u001b[0m \u001b[0;32mfrom\u001b[0m \u001b[0msklearn\u001b[0m\u001b[0;34m.\u001b[0m\u001b[0mmetrics\u001b[0m \u001b[0;32mimport\u001b[0m \u001b[0mmean_squared_error\u001b[0m\u001b[0;34m\u001b[0m\u001b[0;34m\u001b[0m\u001b[0m\n\u001b[1;32m      4\u001b[0m \u001b[0;34m\u001b[0m\u001b[0m\n\u001b[1;32m      5\u001b[0m \u001b[0;31m#Converting the dataframe into XGBoost’s Dmatrix object\u001b[0m\u001b[0;34m\u001b[0m\u001b[0;34m\u001b[0m\u001b[0;34m\u001b[0m\u001b[0m\n",
            "\u001b[0;31mModuleNotFoundError\u001b[0m: No module named 'bayes_opt'",
            "",
            "\u001b[0;31m---------------------------------------------------------------------------\u001b[0;32m\nNOTE: If your import is failing due to a missing package, you can\nmanually install dependencies using either !pip or !apt.\n\nTo view examples of installing some common dependencies, click the\n\"Open Examples\" button below.\n\u001b[0;31m---------------------------------------------------------------------------\u001b[0m\n"
          ]
        }
      ]
    },
    {
      "cell_type": "code",
      "metadata": {
        "id": "hW65uHdtUpQe",
        "outputId": "0ead77ec-ba05-4082-fd53-56c966f935d2",
        "colab": {
          "base_uri": "https://localhost:8080/",
          "height": 181
        }
      },
      "source": [
        "#Bayesian\n",
        "xgb_bo.max"
      ],
      "execution_count": null,
      "outputs": [
        {
          "output_type": "execute_result",
          "data": {
            "text/plain": [
              "{'params': {'colsamplebytree': 0.2816772147539488,\n",
              "  'gamma': 0.43694469816425074,\n",
              "  'learning_rate': 0.037051441268804004,\n",
              "  'max_delta_step': 0.06083889327989889,\n",
              "  'max_depth': 7.798122506709826,\n",
              "  'n_estimators': 905.847934638579,\n",
              "  'reg_alpha': 0.48401062914787196,\n",
              "  'scale_pos_weight': 63.27431559332183},\n",
              " 'target': 0.943879}"
            ]
          },
          "metadata": {
            "tags": []
          },
          "execution_count": 11
        }
      ]
    },
    {
      "cell_type": "code",
      "metadata": {
        "id": "rULoKIpHZpxC",
        "outputId": "d7d5f49e-6396-4fce-d3ee-2935ed3ab3ed",
        "colab": {
          "base_uri": "https://localhost:8080/",
          "height": 35
        }
      },
      "source": [
        "def gini_eval(y_pred, dtrain):\n",
        "    err=0\n",
        "    y_true = dtrain.get_label()\n",
        "    fpr, tpr, _ = roc_curve(y_true, y_pred)\n",
        "    roc_auc = auc(fpr, tpr)\n",
        "    gini = 2*roc_auc -1\n",
        "    #gini = calc_gini(y_true,y_pred,2)\n",
        "    #for i in gini:\n",
        "    #  err += gini[i]\n",
        "    #gini = (gini[0]+gini[1])/2\n",
        "            #+gini[2])/3\n",
        "    #err = 1-gini\n",
        "    err=1-gini\n",
        "    gc.collect()\n",
        "    return 'gini_err', err\n",
        "#p = pd.DataFrame.from_dict(xgb_bo.res)\n",
        "para= xgb_bo.max['params']\n",
        "para['n_estimators']=int(para['n_estimators'])\n",
        "para['max_depth']=int(para['max_depth'])\n",
        "para['scale_pos_weight']=int(para['scale_pos_weight'])\n",
        "para['objective'] = 'binary:logistic'\n",
        "#para['num_class'] = 3\n",
        "para['tree_method'] ='gpu_hist'\n",
        "clf = xgb.XGBClassifier(**para,n_jobs=-1)\n",
        "clf.fit(X_train,y_train['target'],eval_metric=gini_eval,eval_set=[(X_train,y_train['target']),(X_test,y_test['target'])],early_stopping_rounds=50,verbose=False)\n",
        "#res = clf.predict(X_test)\n",
        "joblib.dump(clf, '/content/drive/My Drive/Lending-Club/Models/XGB_2_RFE.pkl')"
      ],
      "execution_count": null,
      "outputs": [
        {
          "output_type": "execute_result",
          "data": {
            "text/plain": [
              "['/content/drive/My Drive/Lending-Club/Models/XGB_2_RFE.pkl']"
            ]
          },
          "metadata": {
            "tags": []
          },
          "execution_count": 55
        }
      ]
    },
    {
      "cell_type": "code",
      "metadata": {
        "id": "AWJItvuVX_-0"
      },
      "source": [
        " 0.967    |  0.8781   |  0.07036  |  0.2546   |  7.258    |  549.7    |  0.5445   |  75.52   "
      ],
      "execution_count": null,
      "outputs": []
    },
    {
      "cell_type": "code",
      "metadata": {
        "id": "ReC7C0g1OWXG",
        "outputId": "1cd51068-5073-45c5-9439-de988aef0438",
        "colab": {
          "base_uri": "https://localhost:8080/",
          "height": 1000
        }
      },
      "source": [
        "def gini_eval(y_pred, dtrain):\n",
        "    err=0\n",
        "    y_true = dtrain.get_label()\n",
        "    fpr, tpr, _ = roc_curve(y_true, y_pred)\n",
        "    roc_auc = auc(fpr, tpr)\n",
        "    gini = 2*roc_auc -1\n",
        "    #gini = calc_gini(y_true,y_pred,2)\n",
        "    #for i in gini:\n",
        "    #  err += gini[i]\n",
        "    #gini = (gini[0]+gini[1])/2\n",
        "            #+gini[2])/3\n",
        "    #err = 1-gini\n",
        "    err=1-gini\n",
        "    gc.collect()\n",
        "    return 'gini_err', err\n",
        "params={'colsamplebytree': 0.0, 'gamma': 0.2602235751840525, 'learning_rate': 0.01, 'max_delta_step': 1.0, 'max_depth': 3, 'n_estimators': 1000, 'reg_alpha': 0.40201543142021834, 'scale_pos_weight': 7, 'objective': 'binary:logistic', 'tree_method': 'gpu_hist'}\n",
        "clf = xgb.XGBClassifier(**params,n_jobs=-1)\n",
        "clf.fit(X_train[features],y_train['target'],eval_metric=gini_eval,eval_set=[(X_train[features],y_train['target']),(X_test[features],y_test['target'])],early_stopping_rounds=50,verbose=True)\n",
        "joblib.dump(clf, '/content/drive/My Drive/Lending-Club/Models/XGB_2_RFE.pkl')"
      ],
      "execution_count": null,
      "outputs": [
        {
          "output_type": "stream",
          "text": [
            "[0]\tvalidation_0-error:0.399357\tvalidation_1-error:0.400995\tvalidation_0-gini_err:0.748228\tvalidation_1-gini_err:0.75701\n",
            "Multiple eval metrics have been passed: 'validation_1-gini_err' will be used for early stopping.\n",
            "\n",
            "Will train until validation_1-gini_err hasn't improved in 50 rounds.\n",
            "[1]\tvalidation_0-error:0.399357\tvalidation_1-error:0.400995\tvalidation_0-gini_err:0.748228\tvalidation_1-gini_err:0.75701\n",
            "[2]\tvalidation_0-error:0.399357\tvalidation_1-error:0.400995\tvalidation_0-gini_err:0.748228\tvalidation_1-gini_err:0.75701\n",
            "[3]\tvalidation_0-error:0.399357\tvalidation_1-error:0.400995\tvalidation_0-gini_err:0.747344\tvalidation_1-gini_err:0.756173\n",
            "[4]\tvalidation_0-error:0.399357\tvalidation_1-error:0.400995\tvalidation_0-gini_err:0.747344\tvalidation_1-gini_err:0.756173\n",
            "[5]\tvalidation_0-error:0.399357\tvalidation_1-error:0.400995\tvalidation_0-gini_err:0.747344\tvalidation_1-gini_err:0.756173\n",
            "[6]\tvalidation_0-error:0.399357\tvalidation_1-error:0.400995\tvalidation_0-gini_err:0.746912\tvalidation_1-gini_err:0.755691\n",
            "[7]\tvalidation_0-error:0.399357\tvalidation_1-error:0.400995\tvalidation_0-gini_err:0.746912\tvalidation_1-gini_err:0.755691\n",
            "[8]\tvalidation_0-error:0.399357\tvalidation_1-error:0.400995\tvalidation_0-gini_err:0.746713\tvalidation_1-gini_err:0.755472\n",
            "[9]\tvalidation_0-error:0.399357\tvalidation_1-error:0.400995\tvalidation_0-gini_err:0.746713\tvalidation_1-gini_err:0.755472\n",
            "[10]\tvalidation_0-error:0.399357\tvalidation_1-error:0.400995\tvalidation_0-gini_err:0.746675\tvalidation_1-gini_err:0.755426\n",
            "[11]\tvalidation_0-error:0.399357\tvalidation_1-error:0.400995\tvalidation_0-gini_err:0.746524\tvalidation_1-gini_err:0.755174\n",
            "[12]\tvalidation_0-error:0.399357\tvalidation_1-error:0.400995\tvalidation_0-gini_err:0.728896\tvalidation_1-gini_err:0.738141\n",
            "[13]\tvalidation_0-error:0.399357\tvalidation_1-error:0.400995\tvalidation_0-gini_err:0.728896\tvalidation_1-gini_err:0.73814\n",
            "[14]\tvalidation_0-error:0.399226\tvalidation_1-error:0.400839\tvalidation_0-gini_err:0.728199\tvalidation_1-gini_err:0.737605\n",
            "[15]\tvalidation_0-error:0.399064\tvalidation_1-error:0.400658\tvalidation_0-gini_err:0.727162\tvalidation_1-gini_err:0.73653\n",
            "[16]\tvalidation_0-error:0.398699\tvalidation_1-error:0.400174\tvalidation_0-gini_err:0.727115\tvalidation_1-gini_err:0.736479\n",
            "[17]\tvalidation_0-error:0.397934\tvalidation_1-error:0.399449\tvalidation_0-gini_err:0.726888\tvalidation_1-gini_err:0.736312\n",
            "[18]\tvalidation_0-error:0.398599\tvalidation_1-error:0.40006\tvalidation_0-gini_err:0.726516\tvalidation_1-gini_err:0.73591\n",
            "[19]\tvalidation_0-error:0.397217\tvalidation_1-error:0.398591\tvalidation_0-gini_err:0.726538\tvalidation_1-gini_err:0.735845\n",
            "[20]\tvalidation_0-error:0.397217\tvalidation_1-error:0.398591\tvalidation_0-gini_err:0.726043\tvalidation_1-gini_err:0.735369\n",
            "[21]\tvalidation_0-error:0.397217\tvalidation_1-error:0.398591\tvalidation_0-gini_err:0.725812\tvalidation_1-gini_err:0.735112\n",
            "[22]\tvalidation_0-error:0.397217\tvalidation_1-error:0.398591\tvalidation_0-gini_err:0.725704\tvalidation_1-gini_err:0.735003\n",
            "[23]\tvalidation_0-error:0.395764\tvalidation_1-error:0.397198\tvalidation_0-gini_err:0.725782\tvalidation_1-gini_err:0.735063\n",
            "[24]\tvalidation_0-error:0.395764\tvalidation_1-error:0.397198\tvalidation_0-gini_err:0.725564\tvalidation_1-gini_err:0.734871\n",
            "[25]\tvalidation_0-error:0.395764\tvalidation_1-error:0.397198\tvalidation_0-gini_err:0.725508\tvalidation_1-gini_err:0.734866\n",
            "[26]\tvalidation_0-error:0.395741\tvalidation_1-error:0.397175\tvalidation_0-gini_err:0.718437\tvalidation_1-gini_err:0.72736\n",
            "[27]\tvalidation_0-error:0.395741\tvalidation_1-error:0.397175\tvalidation_0-gini_err:0.718308\tvalidation_1-gini_err:0.727261\n",
            "[28]\tvalidation_0-error:0.395741\tvalidation_1-error:0.397175\tvalidation_0-gini_err:0.717949\tvalidation_1-gini_err:0.72683\n",
            "[29]\tvalidation_0-error:0.395763\tvalidation_1-error:0.397198\tvalidation_0-gini_err:0.717458\tvalidation_1-gini_err:0.726571\n",
            "[30]\tvalidation_0-error:0.395763\tvalidation_1-error:0.397198\tvalidation_0-gini_err:0.717493\tvalidation_1-gini_err:0.726595\n",
            "[31]\tvalidation_0-error:0.395763\tvalidation_1-error:0.397198\tvalidation_0-gini_err:0.717483\tvalidation_1-gini_err:0.72659\n",
            "[32]\tvalidation_0-error:0.420676\tvalidation_1-error:0.42214\tvalidation_0-gini_err:0.71749\tvalidation_1-gini_err:0.726636\n",
            "[33]\tvalidation_0-error:0.420676\tvalidation_1-error:0.42214\tvalidation_0-gini_err:0.717327\tvalidation_1-gini_err:0.726465\n",
            "[34]\tvalidation_0-error:0.420703\tvalidation_1-error:0.422207\tvalidation_0-gini_err:0.717397\tvalidation_1-gini_err:0.726461\n",
            "[35]\tvalidation_0-error:0.420703\tvalidation_1-error:0.422207\tvalidation_0-gini_err:0.717224\tvalidation_1-gini_err:0.72622\n",
            "[36]\tvalidation_0-error:0.420676\tvalidation_1-error:0.42214\tvalidation_0-gini_err:0.717318\tvalidation_1-gini_err:0.726437\n",
            "[37]\tvalidation_0-error:0.420676\tvalidation_1-error:0.42214\tvalidation_0-gini_err:0.71729\tvalidation_1-gini_err:0.726427\n",
            "[38]\tvalidation_0-error:0.420676\tvalidation_1-error:0.42214\tvalidation_0-gini_err:0.717264\tvalidation_1-gini_err:0.726388\n",
            "[39]\tvalidation_0-error:0.420673\tvalidation_1-error:0.422143\tvalidation_0-gini_err:0.717148\tvalidation_1-gini_err:0.726243\n",
            "[40]\tvalidation_0-error:0.420673\tvalidation_1-error:0.422143\tvalidation_0-gini_err:0.717109\tvalidation_1-gini_err:0.726215\n",
            "[41]\tvalidation_0-error:0.420676\tvalidation_1-error:0.42214\tvalidation_0-gini_err:0.717045\tvalidation_1-gini_err:0.726157\n",
            "[42]\tvalidation_0-error:0.420673\tvalidation_1-error:0.422143\tvalidation_0-gini_err:0.716999\tvalidation_1-gini_err:0.725994\n",
            "[43]\tvalidation_0-error:0.420676\tvalidation_1-error:0.42214\tvalidation_0-gini_err:0.716999\tvalidation_1-gini_err:0.725984\n",
            "[44]\tvalidation_0-error:0.420676\tvalidation_1-error:0.42214\tvalidation_0-gini_err:0.716849\tvalidation_1-gini_err:0.725879\n",
            "[45]\tvalidation_0-error:0.420673\tvalidation_1-error:0.422143\tvalidation_0-gini_err:0.716913\tvalidation_1-gini_err:0.725905\n",
            "[46]\tvalidation_0-error:0.420673\tvalidation_1-error:0.422143\tvalidation_0-gini_err:0.716995\tvalidation_1-gini_err:0.726002\n",
            "[47]\tvalidation_0-error:0.420673\tvalidation_1-error:0.422143\tvalidation_0-gini_err:0.716982\tvalidation_1-gini_err:0.725941\n",
            "[48]\tvalidation_0-error:0.420662\tvalidation_1-error:0.422133\tvalidation_0-gini_err:0.716565\tvalidation_1-gini_err:0.725583\n",
            "[49]\tvalidation_0-error:0.420673\tvalidation_1-error:0.422143\tvalidation_0-gini_err:0.716478\tvalidation_1-gini_err:0.725506\n",
            "[50]\tvalidation_0-error:0.420662\tvalidation_1-error:0.422133\tvalidation_0-gini_err:0.715277\tvalidation_1-gini_err:0.724217\n",
            "[51]\tvalidation_0-error:0.420664\tvalidation_1-error:0.422137\tvalidation_0-gini_err:0.715328\tvalidation_1-gini_err:0.724255\n",
            "[52]\tvalidation_0-error:0.420662\tvalidation_1-error:0.422133\tvalidation_0-gini_err:0.715284\tvalidation_1-gini_err:0.724207\n",
            "[53]\tvalidation_0-error:0.420632\tvalidation_1-error:0.422102\tvalidation_0-gini_err:0.71529\tvalidation_1-gini_err:0.724182\n",
            "[54]\tvalidation_0-error:0.420632\tvalidation_1-error:0.422102\tvalidation_0-gini_err:0.715222\tvalidation_1-gini_err:0.724126\n",
            "[55]\tvalidation_0-error:0.420337\tvalidation_1-error:0.421793\tvalidation_0-gini_err:0.71535\tvalidation_1-gini_err:0.72419\n",
            "[56]\tvalidation_0-error:0.41935\tvalidation_1-error:0.420919\tvalidation_0-gini_err:0.715431\tvalidation_1-gini_err:0.72423\n",
            "[57]\tvalidation_0-error:0.420384\tvalidation_1-error:0.421854\tvalidation_0-gini_err:0.715414\tvalidation_1-gini_err:0.724245\n",
            "[58]\tvalidation_0-error:0.419288\tvalidation_1-error:0.420887\tvalidation_0-gini_err:0.7155\tvalidation_1-gini_err:0.724294\n",
            "[59]\tvalidation_0-error:0.419234\tvalidation_1-error:0.420833\tvalidation_0-gini_err:0.715668\tvalidation_1-gini_err:0.724528\n",
            "[60]\tvalidation_0-error:0.414678\tvalidation_1-error:0.416126\tvalidation_0-gini_err:0.715647\tvalidation_1-gini_err:0.724479\n",
            "[61]\tvalidation_0-error:0.402766\tvalidation_1-error:0.404188\tvalidation_0-gini_err:0.715625\tvalidation_1-gini_err:0.724418\n",
            "[62]\tvalidation_0-error:0.402432\tvalidation_1-error:0.4038\tvalidation_0-gini_err:0.71559\tvalidation_1-gini_err:0.724363\n",
            "[63]\tvalidation_0-error:0.401251\tvalidation_1-error:0.402642\tvalidation_0-gini_err:0.715773\tvalidation_1-gini_err:0.724597\n",
            "[64]\tvalidation_0-error:0.402492\tvalidation_1-error:0.40386\tvalidation_0-gini_err:0.71565\tvalidation_1-gini_err:0.724351\n",
            "[65]\tvalidation_0-error:0.402587\tvalidation_1-error:0.403962\tvalidation_0-gini_err:0.7157\tvalidation_1-gini_err:0.724408\n",
            "[66]\tvalidation_0-error:0.414345\tvalidation_1-error:0.415716\tvalidation_0-gini_err:0.715602\tvalidation_1-gini_err:0.724317\n",
            "[67]\tvalidation_0-error:0.402601\tvalidation_1-error:0.404\tvalidation_0-gini_err:0.715765\tvalidation_1-gini_err:0.724507\n",
            "[68]\tvalidation_0-error:0.400961\tvalidation_1-error:0.402254\tvalidation_0-gini_err:0.715788\tvalidation_1-gini_err:0.7245\n",
            "[69]\tvalidation_0-error:0.400874\tvalidation_1-error:0.402156\tvalidation_0-gini_err:0.715686\tvalidation_1-gini_err:0.724393\n",
            "[70]\tvalidation_0-error:0.412628\tvalidation_1-error:0.413881\tvalidation_0-gini_err:0.715659\tvalidation_1-gini_err:0.724437\n",
            "[71]\tvalidation_0-error:0.412723\tvalidation_1-error:0.413983\tvalidation_0-gini_err:0.715619\tvalidation_1-gini_err:0.724396\n",
            "[72]\tvalidation_0-error:0.412751\tvalidation_1-error:0.413989\tvalidation_0-gini_err:0.713109\tvalidation_1-gini_err:0.722029\n",
            "[73]\tvalidation_0-error:0.41277\tvalidation_1-error:0.413998\tvalidation_0-gini_err:0.712564\tvalidation_1-gini_err:0.721372\n",
            "[74]\tvalidation_0-error:0.412651\tvalidation_1-error:0.4139\tvalidation_0-gini_err:0.712586\tvalidation_1-gini_err:0.721402\n",
            "[75]\tvalidation_0-error:0.412887\tvalidation_1-error:0.414202\tvalidation_0-gini_err:0.712403\tvalidation_1-gini_err:0.721232\n",
            "[76]\tvalidation_0-error:0.41276\tvalidation_1-error:0.41403\tvalidation_0-gini_err:0.712248\tvalidation_1-gini_err:0.721027\n",
            "[77]\tvalidation_0-error:0.412853\tvalidation_1-error:0.414154\tvalidation_0-gini_err:0.711955\tvalidation_1-gini_err:0.720803\n",
            "[78]\tvalidation_0-error:0.412832\tvalidation_1-error:0.414135\tvalidation_0-gini_err:0.71167\tvalidation_1-gini_err:0.720574\n",
            "[79]\tvalidation_0-error:0.412813\tvalidation_1-error:0.414103\tvalidation_0-gini_err:0.710629\tvalidation_1-gini_err:0.719493\n",
            "[80]\tvalidation_0-error:0.412861\tvalidation_1-error:0.414173\tvalidation_0-gini_err:0.710548\tvalidation_1-gini_err:0.719408\n",
            "[81]\tvalidation_0-error:0.414539\tvalidation_1-error:0.415713\tvalidation_0-gini_err:0.709507\tvalidation_1-gini_err:0.718421\n",
            "[82]\tvalidation_0-error:0.415179\tvalidation_1-error:0.416489\tvalidation_0-gini_err:0.7094\tvalidation_1-gini_err:0.718355\n",
            "[83]\tvalidation_0-error:0.415132\tvalidation_1-error:0.416326\tvalidation_0-gini_err:0.709255\tvalidation_1-gini_err:0.718257\n",
            "[84]\tvalidation_0-error:0.41487\tvalidation_1-error:0.415992\tvalidation_0-gini_err:0.709223\tvalidation_1-gini_err:0.718194\n",
            "[85]\tvalidation_0-error:0.415562\tvalidation_1-error:0.416781\tvalidation_0-gini_err:0.708912\tvalidation_1-gini_err:0.717932\n",
            "[86]\tvalidation_0-error:0.415583\tvalidation_1-error:0.416791\tvalidation_0-gini_err:0.708447\tvalidation_1-gini_err:0.717483\n",
            "[87]\tvalidation_0-error:0.417319\tvalidation_1-error:0.418371\tvalidation_0-gini_err:0.708153\tvalidation_1-gini_err:0.71716\n",
            "[88]\tvalidation_0-error:0.417457\tvalidation_1-error:0.418578\tvalidation_0-gini_err:0.707811\tvalidation_1-gini_err:0.716892\n",
            "[89]\tvalidation_0-error:0.41757\tvalidation_1-error:0.418778\tvalidation_0-gini_err:0.70759\tvalidation_1-gini_err:0.716699\n",
            "[90]\tvalidation_0-error:0.417646\tvalidation_1-error:0.418759\tvalidation_0-gini_err:0.707171\tvalidation_1-gini_err:0.716243\n",
            "[91]\tvalidation_0-error:0.417239\tvalidation_1-error:0.418304\tvalidation_0-gini_err:0.70706\tvalidation_1-gini_err:0.716148\n",
            "[92]\tvalidation_0-error:0.418826\tvalidation_1-error:0.420006\tvalidation_0-gini_err:0.706893\tvalidation_1-gini_err:0.715988\n",
            "[93]\tvalidation_0-error:0.418687\tvalidation_1-error:0.419923\tvalidation_0-gini_err:0.706751\tvalidation_1-gini_err:0.71587\n",
            "[94]\tvalidation_0-error:0.41911\tvalidation_1-error:0.420324\tvalidation_0-gini_err:0.706517\tvalidation_1-gini_err:0.715598\n",
            "[95]\tvalidation_0-error:0.419193\tvalidation_1-error:0.420419\tvalidation_0-gini_err:0.706327\tvalidation_1-gini_err:0.715419\n",
            "[96]\tvalidation_0-error:0.419395\tvalidation_1-error:0.420658\tvalidation_0-gini_err:0.70597\tvalidation_1-gini_err:0.714995\n",
            "[97]\tvalidation_0-error:0.419535\tvalidation_1-error:0.42081\tvalidation_0-gini_err:0.705759\tvalidation_1-gini_err:0.71482\n",
            "[98]\tvalidation_0-error:0.41944\tvalidation_1-error:0.420718\tvalidation_0-gini_err:0.705528\tvalidation_1-gini_err:0.714536\n",
            "[99]\tvalidation_0-error:0.419511\tvalidation_1-error:0.420807\tvalidation_0-gini_err:0.705412\tvalidation_1-gini_err:0.714419\n",
            "[100]\tvalidation_0-error:0.419557\tvalidation_1-error:0.42081\tvalidation_0-gini_err:0.705229\tvalidation_1-gini_err:0.714244\n",
            "[101]\tvalidation_0-error:0.419472\tvalidation_1-error:0.420677\tvalidation_0-gini_err:0.705056\tvalidation_1-gini_err:0.714105\n",
            "[102]\tvalidation_0-error:0.419293\tvalidation_1-error:0.42054\tvalidation_0-gini_err:0.704853\tvalidation_1-gini_err:0.71397\n",
            "[103]\tvalidation_0-error:0.419287\tvalidation_1-error:0.420591\tvalidation_0-gini_err:0.704638\tvalidation_1-gini_err:0.713702\n",
            "[104]\tvalidation_0-error:0.418401\tvalidation_1-error:0.419758\tvalidation_0-gini_err:0.704496\tvalidation_1-gini_err:0.713625\n",
            "[105]\tvalidation_0-error:0.417053\tvalidation_1-error:0.41839\tvalidation_0-gini_err:0.704346\tvalidation_1-gini_err:0.713508\n",
            "[106]\tvalidation_0-error:0.416639\tvalidation_1-error:0.417872\tvalidation_0-gini_err:0.704229\tvalidation_1-gini_err:0.713452\n",
            "[107]\tvalidation_0-error:0.411283\tvalidation_1-error:0.412494\tvalidation_0-gini_err:0.704065\tvalidation_1-gini_err:0.713223\n",
            "[108]\tvalidation_0-error:0.410827\tvalidation_1-error:0.412062\tvalidation_0-gini_err:0.703923\tvalidation_1-gini_err:0.713108\n",
            "[109]\tvalidation_0-error:0.410489\tvalidation_1-error:0.411699\tvalidation_0-gini_err:0.703852\tvalidation_1-gini_err:0.713042\n",
            "[110]\tvalidation_0-error:0.40937\tvalidation_1-error:0.410605\tvalidation_0-gini_err:0.70352\tvalidation_1-gini_err:0.712748\n",
            "[111]\tvalidation_0-error:0.408786\tvalidation_1-error:0.410081\tvalidation_0-gini_err:0.70336\tvalidation_1-gini_err:0.712643\n",
            "[112]\tvalidation_0-error:0.407228\tvalidation_1-error:0.408478\tvalidation_0-gini_err:0.703164\tvalidation_1-gini_err:0.712501\n",
            "[113]\tvalidation_0-error:0.403802\tvalidation_1-error:0.40518\tvalidation_0-gini_err:0.703026\tvalidation_1-gini_err:0.712422\n",
            "[114]\tvalidation_0-error:0.39979\tvalidation_1-error:0.401208\tvalidation_0-gini_err:0.70287\tvalidation_1-gini_err:0.712263\n",
            "[115]\tvalidation_0-error:0.397756\tvalidation_1-error:0.39909\tvalidation_0-gini_err:0.702693\tvalidation_1-gini_err:0.712091\n",
            "[116]\tvalidation_0-error:0.395297\tvalidation_1-error:0.396482\tvalidation_0-gini_err:0.702572\tvalidation_1-gini_err:0.712004\n",
            "[117]\tvalidation_0-error:0.394498\tvalidation_1-error:0.395658\tvalidation_0-gini_err:0.702258\tvalidation_1-gini_err:0.711721\n",
            "[118]\tvalidation_0-error:0.393986\tvalidation_1-error:0.394972\tvalidation_0-gini_err:0.702139\tvalidation_1-gini_err:0.71162\n",
            "[119]\tvalidation_0-error:0.392929\tvalidation_1-error:0.39383\tvalidation_0-gini_err:0.701836\tvalidation_1-gini_err:0.711293\n",
            "[120]\tvalidation_0-error:0.392049\tvalidation_1-error:0.393003\tvalidation_0-gini_err:0.701655\tvalidation_1-gini_err:0.711145\n",
            "[121]\tvalidation_0-error:0.390622\tvalidation_1-error:0.391728\tvalidation_0-gini_err:0.701542\tvalidation_1-gini_err:0.711035\n",
            "[122]\tvalidation_0-error:0.389672\tvalidation_1-error:0.39077\tvalidation_0-gini_err:0.701028\tvalidation_1-gini_err:0.71054\n",
            "[123]\tvalidation_0-error:0.389172\tvalidation_1-error:0.39022\tvalidation_0-gini_err:0.700858\tvalidation_1-gini_err:0.710404\n",
            "[124]\tvalidation_0-error:0.388582\tvalidation_1-error:0.389667\tvalidation_0-gini_err:0.700591\tvalidation_1-gini_err:0.710138\n",
            "[125]\tvalidation_0-error:0.388128\tvalidation_1-error:0.38918\tvalidation_0-gini_err:0.700253\tvalidation_1-gini_err:0.709818\n",
            "[126]\tvalidation_0-error:0.387423\tvalidation_1-error:0.388519\tvalidation_0-gini_err:0.700074\tvalidation_1-gini_err:0.709647\n",
            "[127]\tvalidation_0-error:0.386821\tvalidation_1-error:0.387851\tvalidation_0-gini_err:0.699842\tvalidation_1-gini_err:0.709375\n",
            "[128]\tvalidation_0-error:0.386387\tvalidation_1-error:0.387485\tvalidation_0-gini_err:0.699694\tvalidation_1-gini_err:0.709269\n",
            "[129]\tvalidation_0-error:0.385192\tvalidation_1-error:0.386302\tvalidation_0-gini_err:0.699399\tvalidation_1-gini_err:0.708951\n",
            "[130]\tvalidation_0-error:0.38505\tvalidation_1-error:0.386191\tvalidation_0-gini_err:0.699259\tvalidation_1-gini_err:0.708812\n",
            "[131]\tvalidation_0-error:0.384779\tvalidation_1-error:0.385746\tvalidation_0-gini_err:0.69912\tvalidation_1-gini_err:0.708717\n",
            "[132]\tvalidation_0-error:0.384384\tvalidation_1-error:0.385237\tvalidation_0-gini_err:0.698889\tvalidation_1-gini_err:0.70848\n",
            "[133]\tvalidation_0-error:0.3839\tvalidation_1-error:0.384766\tvalidation_0-gini_err:0.698714\tvalidation_1-gini_err:0.708321\n",
            "[134]\tvalidation_0-error:0.383869\tvalidation_1-error:0.384741\tvalidation_0-gini_err:0.698574\tvalidation_1-gini_err:0.708184\n",
            "[135]\tvalidation_0-error:0.383067\tvalidation_1-error:0.384003\tvalidation_0-gini_err:0.698195\tvalidation_1-gini_err:0.707811\n",
            "[136]\tvalidation_0-error:0.382142\tvalidation_1-error:0.382992\tvalidation_0-gini_err:0.697939\tvalidation_1-gini_err:0.707558\n",
            "[137]\tvalidation_0-error:0.382143\tvalidation_1-error:0.383033\tvalidation_0-gini_err:0.697839\tvalidation_1-gini_err:0.707493\n",
            "[138]\tvalidation_0-error:0.381464\tvalidation_1-error:0.382302\tvalidation_0-gini_err:0.697685\tvalidation_1-gini_err:0.707341\n",
            "[139]\tvalidation_0-error:0.380313\tvalidation_1-error:0.381341\tvalidation_0-gini_err:0.697321\tvalidation_1-gini_err:0.706993\n",
            "[140]\tvalidation_0-error:0.381208\tvalidation_1-error:0.382356\tvalidation_0-gini_err:0.697232\tvalidation_1-gini_err:0.706925\n",
            "[141]\tvalidation_0-error:0.379947\tvalidation_1-error:0.38115\tvalidation_0-gini_err:0.697109\tvalidation_1-gini_err:0.706803\n",
            "[142]\tvalidation_0-error:0.380183\tvalidation_1-error:0.381281\tvalidation_0-gini_err:0.696993\tvalidation_1-gini_err:0.706683\n",
            "[143]\tvalidation_0-error:0.379483\tvalidation_1-error:0.38061\tvalidation_0-gini_err:0.696764\tvalidation_1-gini_err:0.706484\n",
            "[144]\tvalidation_0-error:0.378831\tvalidation_1-error:0.379955\tvalidation_0-gini_err:0.69662\tvalidation_1-gini_err:0.706359\n",
            "[145]\tvalidation_0-error:0.377936\tvalidation_1-error:0.379153\tvalidation_0-gini_err:0.696268\tvalidation_1-gini_err:0.706012\n",
            "[146]\tvalidation_0-error:0.378079\tvalidation_1-error:0.379284\tvalidation_0-gini_err:0.696165\tvalidation_1-gini_err:0.705926\n",
            "[147]\tvalidation_0-error:0.377123\tvalidation_1-error:0.37833\tvalidation_0-gini_err:0.695922\tvalidation_1-gini_err:0.705711\n",
            "[148]\tvalidation_0-error:0.376547\tvalidation_1-error:0.377767\tvalidation_0-gini_err:0.69581\tvalidation_1-gini_err:0.70559\n",
            "[149]\tvalidation_0-error:0.375646\tvalidation_1-error:0.376911\tvalidation_0-gini_err:0.695584\tvalidation_1-gini_err:0.705378\n",
            "[150]\tvalidation_0-error:0.375906\tvalidation_1-error:0.377172\tvalidation_0-gini_err:0.695483\tvalidation_1-gini_err:0.705294\n",
            "[151]\tvalidation_0-error:0.375598\tvalidation_1-error:0.376797\tvalidation_0-gini_err:0.695329\tvalidation_1-gini_err:0.705146\n",
            "[152]\tvalidation_0-error:0.374592\tvalidation_1-error:0.375792\tvalidation_0-gini_err:0.695135\tvalidation_1-gini_err:0.704982\n",
            "[153]\tvalidation_0-error:0.373731\tvalidation_1-error:0.374809\tvalidation_0-gini_err:0.694829\tvalidation_1-gini_err:0.704678\n",
            "[154]\tvalidation_0-error:0.373157\tvalidation_1-error:0.374199\tvalidation_0-gini_err:0.694583\tvalidation_1-gini_err:0.704451\n",
            "[155]\tvalidation_0-error:0.37352\tvalidation_1-error:0.374602\tvalidation_0-gini_err:0.6945\tvalidation_1-gini_err:0.704394\n",
            "[156]\tvalidation_0-error:0.372942\tvalidation_1-error:0.373982\tvalidation_0-gini_err:0.694373\tvalidation_1-gini_err:0.704257\n",
            "[157]\tvalidation_0-error:0.372353\tvalidation_1-error:0.373407\tvalidation_0-gini_err:0.694189\tvalidation_1-gini_err:0.704089\n",
            "[158]\tvalidation_0-error:0.372718\tvalidation_1-error:0.373655\tvalidation_0-gini_err:0.694028\tvalidation_1-gini_err:0.703949\n",
            "[159]\tvalidation_0-error:0.372187\tvalidation_1-error:0.373156\tvalidation_0-gini_err:0.693771\tvalidation_1-gini_err:0.703718\n",
            "[160]\tvalidation_0-error:0.371421\tvalidation_1-error:0.372399\tvalidation_0-gini_err:0.693554\tvalidation_1-gini_err:0.703516\n",
            "[161]\tvalidation_0-error:0.371306\tvalidation_1-error:0.372364\tvalidation_0-gini_err:0.693439\tvalidation_1-gini_err:0.703385\n",
            "[162]\tvalidation_0-error:0.370084\tvalidation_1-error:0.371149\tvalidation_0-gini_err:0.693245\tvalidation_1-gini_err:0.703199\n",
            "[163]\tvalidation_0-error:0.37064\tvalidation_1-error:0.371788\tvalidation_0-gini_err:0.693131\tvalidation_1-gini_err:0.703087\n",
            "[164]\tvalidation_0-error:0.369885\tvalidation_1-error:0.371047\tvalidation_0-gini_err:0.693022\tvalidation_1-gini_err:0.702964\n",
            "[165]\tvalidation_0-error:0.368983\tvalidation_1-error:0.370074\tvalidation_0-gini_err:0.692851\tvalidation_1-gini_err:0.702815\n",
            "[166]\tvalidation_0-error:0.368814\tvalidation_1-error:0.370007\tvalidation_0-gini_err:0.692497\tvalidation_1-gini_err:0.702452\n",
            "[167]\tvalidation_0-error:0.368024\tvalidation_1-error:0.369253\tvalidation_0-gini_err:0.692307\tvalidation_1-gini_err:0.702282\n",
            "[168]\tvalidation_0-error:0.367299\tvalidation_1-error:0.368458\tvalidation_0-gini_err:0.692054\tvalidation_1-gini_err:0.702039\n",
            "[169]\tvalidation_0-error:0.36602\tvalidation_1-error:0.367078\tvalidation_0-gini_err:0.691863\tvalidation_1-gini_err:0.701886\n",
            "[170]\tvalidation_0-error:0.366668\tvalidation_1-error:0.36787\tvalidation_0-gini_err:0.691745\tvalidation_1-gini_err:0.701763\n",
            "[171]\tvalidation_0-error:0.366204\tvalidation_1-error:0.367234\tvalidation_0-gini_err:0.691641\tvalidation_1-gini_err:0.701657\n",
            "[172]\tvalidation_0-error:0.365797\tvalidation_1-error:0.366868\tvalidation_0-gini_err:0.691498\tvalidation_1-gini_err:0.701516\n",
            "[173]\tvalidation_0-error:0.365468\tvalidation_1-error:0.366522\tvalidation_0-gini_err:0.691189\tvalidation_1-gini_err:0.701198\n",
            "[174]\tvalidation_0-error:0.364559\tvalidation_1-error:0.365638\tvalidation_0-gini_err:0.690973\tvalidation_1-gini_err:0.701021\n",
            "[175]\tvalidation_0-error:0.363884\tvalidation_1-error:0.365052\tvalidation_0-gini_err:0.690795\tvalidation_1-gini_err:0.70085\n",
            "[176]\tvalidation_0-error:0.363576\tvalidation_1-error:0.364738\tvalidation_0-gini_err:0.690505\tvalidation_1-gini_err:0.700546\n",
            "[177]\tvalidation_0-error:0.362562\tvalidation_1-error:0.36379\tvalidation_0-gini_err:0.690305\tvalidation_1-gini_err:0.700387\n",
            "[178]\tvalidation_0-error:0.362345\tvalidation_1-error:0.363602\tvalidation_0-gini_err:0.690197\tvalidation_1-gini_err:0.70028\n",
            "[179]\tvalidation_0-error:0.362067\tvalidation_1-error:0.363338\tvalidation_0-gini_err:0.690054\tvalidation_1-gini_err:0.700157\n",
            "[180]\tvalidation_0-error:0.361358\tvalidation_1-error:0.362566\tvalidation_0-gini_err:0.689897\tvalidation_1-gini_err:0.699992\n",
            "[181]\tvalidation_0-error:0.361203\tvalidation_1-error:0.362391\tvalidation_0-gini_err:0.689792\tvalidation_1-gini_err:0.699898\n",
            "[182]\tvalidation_0-error:0.360329\tvalidation_1-error:0.361691\tvalidation_0-gini_err:0.689518\tvalidation_1-gini_err:0.69965\n",
            "[183]\tvalidation_0-error:0.359906\tvalidation_1-error:0.361055\tvalidation_0-gini_err:0.689352\tvalidation_1-gini_err:0.699506\n",
            "[184]\tvalidation_0-error:0.35949\tvalidation_1-error:0.360667\tvalidation_0-gini_err:0.689215\tvalidation_1-gini_err:0.699389\n",
            "[185]\tvalidation_0-error:0.358979\tvalidation_1-error:0.360095\tvalidation_0-gini_err:0.689056\tvalidation_1-gini_err:0.699224\n",
            "[186]\tvalidation_0-error:0.358784\tvalidation_1-error:0.359837\tvalidation_0-gini_err:0.688763\tvalidation_1-gini_err:0.698927\n",
            "[187]\tvalidation_0-error:0.358281\tvalidation_1-error:0.359395\tvalidation_0-gini_err:0.688657\tvalidation_1-gini_err:0.698834\n",
            "[188]\tvalidation_0-error:0.357475\tvalidation_1-error:0.358648\tvalidation_0-gini_err:0.688401\tvalidation_1-gini_err:0.698597\n",
            "[189]\tvalidation_0-error:0.357399\tvalidation_1-error:0.358698\tvalidation_0-gini_err:0.688305\tvalidation_1-gini_err:0.698502\n",
            "[190]\tvalidation_0-error:0.356968\tvalidation_1-error:0.358142\tvalidation_0-gini_err:0.688165\tvalidation_1-gini_err:0.698392\n",
            "[191]\tvalidation_0-error:0.356565\tvalidation_1-error:0.357744\tvalidation_0-gini_err:0.68799\tvalidation_1-gini_err:0.698237\n",
            "[192]\tvalidation_0-error:0.356117\tvalidation_1-error:0.357296\tvalidation_0-gini_err:0.687848\tvalidation_1-gini_err:0.698115\n",
            "[193]\tvalidation_0-error:0.355884\tvalidation_1-error:0.357162\tvalidation_0-gini_err:0.68774\tvalidation_1-gini_err:0.698012\n",
            "[194]\tvalidation_0-error:0.355528\tvalidation_1-error:0.356733\tvalidation_0-gini_err:0.687587\tvalidation_1-gini_err:0.697851\n",
            "[195]\tvalidation_0-error:0.354984\tvalidation_1-error:0.356196\tvalidation_0-gini_err:0.687408\tvalidation_1-gini_err:0.697655\n",
            "[196]\tvalidation_0-error:0.354657\tvalidation_1-error:0.355878\tvalidation_0-gini_err:0.687335\tvalidation_1-gini_err:0.697578\n",
            "[197]\tvalidation_0-error:0.354075\tvalidation_1-error:0.35541\tvalidation_0-gini_err:0.687196\tvalidation_1-gini_err:0.69746\n",
            "[198]\tvalidation_0-error:0.353597\tvalidation_1-error:0.354825\tvalidation_0-gini_err:0.686966\tvalidation_1-gini_err:0.697253\n",
            "[199]\tvalidation_0-error:0.353125\tvalidation_1-error:0.354288\tvalidation_0-gini_err:0.686833\tvalidation_1-gini_err:0.697121\n",
            "[200]\tvalidation_0-error:0.353098\tvalidation_1-error:0.354173\tvalidation_0-gini_err:0.686697\tvalidation_1-gini_err:0.696979\n",
            "[201]\tvalidation_0-error:0.352906\tvalidation_1-error:0.353957\tvalidation_0-gini_err:0.686621\tvalidation_1-gini_err:0.696908\n",
            "[202]\tvalidation_0-error:0.352476\tvalidation_1-error:0.353566\tvalidation_0-gini_err:0.68646\tvalidation_1-gini_err:0.696732\n",
            "[203]\tvalidation_0-error:0.352011\tvalidation_1-error:0.353108\tvalidation_0-gini_err:0.686338\tvalidation_1-gini_err:0.696627\n",
            "[204]\tvalidation_0-error:0.351924\tvalidation_1-error:0.353066\tvalidation_0-gini_err:0.68611\tvalidation_1-gini_err:0.696392\n",
            "[205]\tvalidation_0-error:0.351266\tvalidation_1-error:0.352443\tvalidation_0-gini_err:0.685988\tvalidation_1-gini_err:0.69628\n",
            "[206]\tvalidation_0-error:0.351078\tvalidation_1-error:0.35223\tvalidation_0-gini_err:0.685878\tvalidation_1-gini_err:0.696188\n",
            "[207]\tvalidation_0-error:0.350693\tvalidation_1-error:0.35181\tvalidation_0-gini_err:0.685719\tvalidation_1-gini_err:0.696048\n",
            "[208]\tvalidation_0-error:0.350587\tvalidation_1-error:0.351661\tvalidation_0-gini_err:0.685629\tvalidation_1-gini_err:0.695966\n",
            "[209]\tvalidation_0-error:0.350139\tvalidation_1-error:0.351285\tvalidation_0-gini_err:0.68552\tvalidation_1-gini_err:0.695872\n",
            "[210]\tvalidation_0-error:0.349677\tvalidation_1-error:0.350974\tvalidation_0-gini_err:0.685332\tvalidation_1-gini_err:0.695694\n",
            "[211]\tvalidation_0-error:0.349354\tvalidation_1-error:0.350697\tvalidation_0-gini_err:0.685183\tvalidation_1-gini_err:0.695558\n",
            "[212]\tvalidation_0-error:0.348999\tvalidation_1-error:0.350328\tvalidation_0-gini_err:0.68505\tvalidation_1-gini_err:0.695454\n",
            "[213]\tvalidation_0-error:0.34892\tvalidation_1-error:0.350287\tvalidation_0-gini_err:0.684845\tvalidation_1-gini_err:0.695241\n",
            "[214]\tvalidation_0-error:0.348483\tvalidation_1-error:0.349921\tvalidation_0-gini_err:0.684719\tvalidation_1-gini_err:0.695121\n",
            "[215]\tvalidation_0-error:0.348075\tvalidation_1-error:0.349415\tvalidation_0-gini_err:0.68461\tvalidation_1-gini_err:0.695001\n",
            "[216]\tvalidation_0-error:0.347883\tvalidation_1-error:0.349212\tvalidation_0-gini_err:0.684504\tvalidation_1-gini_err:0.694903\n",
            "[217]\tvalidation_0-error:0.347482\tvalidation_1-error:0.348938\tvalidation_0-gini_err:0.684381\tvalidation_1-gini_err:0.694787\n",
            "[218]\tvalidation_0-error:0.347146\tvalidation_1-error:0.34869\tvalidation_0-gini_err:0.684215\tvalidation_1-gini_err:0.694623\n",
            "[219]\tvalidation_0-error:0.346684\tvalidation_1-error:0.348185\tvalidation_0-gini_err:0.68411\tvalidation_1-gini_err:0.69452\n",
            "[220]\tvalidation_0-error:0.346306\tvalidation_1-error:0.34786\tvalidation_0-gini_err:0.683992\tvalidation_1-gini_err:0.69442\n",
            "[221]\tvalidation_0-error:0.346316\tvalidation_1-error:0.347819\tvalidation_0-gini_err:0.683805\tvalidation_1-gini_err:0.694228\n",
            "[222]\tvalidation_0-error:0.346064\tvalidation_1-error:0.347507\tvalidation_0-gini_err:0.683674\tvalidation_1-gini_err:0.694115\n",
            "[223]\tvalidation_0-error:0.345874\tvalidation_1-error:0.347377\tvalidation_0-gini_err:0.683586\tvalidation_1-gini_err:0.694035\n",
            "[224]\tvalidation_0-error:0.345713\tvalidation_1-error:0.347196\tvalidation_0-gini_err:0.683441\tvalidation_1-gini_err:0.69389\n",
            "[225]\tvalidation_0-error:0.345249\tvalidation_1-error:0.346747\tvalidation_0-gini_err:0.683258\tvalidation_1-gini_err:0.693698\n",
            "[226]\tvalidation_0-error:0.345324\tvalidation_1-error:0.346859\tvalidation_0-gini_err:0.683081\tvalidation_1-gini_err:0.693517\n",
            "[227]\tvalidation_0-error:0.345202\tvalidation_1-error:0.346789\tvalidation_0-gini_err:0.682974\tvalidation_1-gini_err:0.693418\n",
            "[228]\tvalidation_0-error:0.344722\tvalidation_1-error:0.346404\tvalidation_0-gini_err:0.682876\tvalidation_1-gini_err:0.693315\n",
            "[229]\tvalidation_0-error:0.344547\tvalidation_1-error:0.346165\tvalidation_0-gini_err:0.682743\tvalidation_1-gini_err:0.693181\n",
            "[230]\tvalidation_0-error:0.344342\tvalidation_1-error:0.3458\tvalidation_0-gini_err:0.682659\tvalidation_1-gini_err:0.693111\n",
            "[231]\tvalidation_0-error:0.343924\tvalidation_1-error:0.345602\tvalidation_0-gini_err:0.682499\tvalidation_1-gini_err:0.692948\n",
            "[232]\tvalidation_0-error:0.343723\tvalidation_1-error:0.345418\tvalidation_0-gini_err:0.682394\tvalidation_1-gini_err:0.69285\n",
            "[233]\tvalidation_0-error:0.343492\tvalidation_1-error:0.345081\tvalidation_0-gini_err:0.682296\tvalidation_1-gini_err:0.692766\n",
            "[234]\tvalidation_0-error:0.343325\tvalidation_1-error:0.344944\tvalidation_0-gini_err:0.682128\tvalidation_1-gini_err:0.692624\n",
            "[235]\tvalidation_0-error:0.343223\tvalidation_1-error:0.344795\tvalidation_0-gini_err:0.681965\tvalidation_1-gini_err:0.69245\n",
            "[236]\tvalidation_0-error:0.342895\tvalidation_1-error:0.344438\tvalidation_0-gini_err:0.681826\tvalidation_1-gini_err:0.692312\n",
            "[237]\tvalidation_0-error:0.342802\tvalidation_1-error:0.344248\tvalidation_0-gini_err:0.681687\tvalidation_1-gini_err:0.69218\n",
            "[238]\tvalidation_0-error:0.342453\tvalidation_1-error:0.343926\tvalidation_0-gini_err:0.68153\tvalidation_1-gini_err:0.692014\n",
            "[239]\tvalidation_0-error:0.342256\tvalidation_1-error:0.343752\tvalidation_0-gini_err:0.681452\tvalidation_1-gini_err:0.691951\n",
            "[240]\tvalidation_0-error:0.342066\tvalidation_1-error:0.343599\tvalidation_0-gini_err:0.681353\tvalidation_1-gini_err:0.691871\n",
            "[241]\tvalidation_0-error:0.341644\tvalidation_1-error:0.343249\tvalidation_0-gini_err:0.681212\tvalidation_1-gini_err:0.69174\n",
            "[242]\tvalidation_0-error:0.341468\tvalidation_1-error:0.343065\tvalidation_0-gini_err:0.681057\tvalidation_1-gini_err:0.691609\n",
            "[243]\tvalidation_0-error:0.341176\tvalidation_1-error:0.342842\tvalidation_0-gini_err:0.680928\tvalidation_1-gini_err:0.691487\n",
            "[244]\tvalidation_0-error:0.341235\tvalidation_1-error:0.342743\tvalidation_0-gini_err:0.680784\tvalidation_1-gini_err:0.691331\n",
            "[245]\tvalidation_0-error:0.341139\tvalidation_1-error:0.342553\tvalidation_0-gini_err:0.680657\tvalidation_1-gini_err:0.691212\n",
            "[246]\tvalidation_0-error:0.34086\tvalidation_1-error:0.34226\tvalidation_0-gini_err:0.680531\tvalidation_1-gini_err:0.691094\n",
            "[247]\tvalidation_0-error:0.340655\tvalidation_1-error:0.34205\tvalidation_0-gini_err:0.680419\tvalidation_1-gini_err:0.690977\n",
            "[248]\tvalidation_0-error:0.340433\tvalidation_1-error:0.341917\tvalidation_0-gini_err:0.680334\tvalidation_1-gini_err:0.6909\n",
            "[249]\tvalidation_0-error:0.340334\tvalidation_1-error:0.341793\tvalidation_0-gini_err:0.680185\tvalidation_1-gini_err:0.690763\n",
            "[250]\tvalidation_0-error:0.340309\tvalidation_1-error:0.341799\tvalidation_0-gini_err:0.680099\tvalidation_1-gini_err:0.690687\n",
            "[251]\tvalidation_0-error:0.340181\tvalidation_1-error:0.341618\tvalidation_0-gini_err:0.680024\tvalidation_1-gini_err:0.690613\n",
            "[252]\tvalidation_0-error:0.340207\tvalidation_1-error:0.341624\tvalidation_0-gini_err:0.679881\tvalidation_1-gini_err:0.690462\n",
            "[253]\tvalidation_0-error:0.339974\tvalidation_1-error:0.341433\tvalidation_0-gini_err:0.679766\tvalidation_1-gini_err:0.690363\n",
            "[254]\tvalidation_0-error:0.339849\tvalidation_1-error:0.341198\tvalidation_0-gini_err:0.679684\tvalidation_1-gini_err:0.690285\n",
            "[255]\tvalidation_0-error:0.339753\tvalidation_1-error:0.341052\tvalidation_0-gini_err:0.67957\tvalidation_1-gini_err:0.690178\n",
            "[256]\tvalidation_0-error:0.339536\tvalidation_1-error:0.340896\tvalidation_0-gini_err:0.679496\tvalidation_1-gini_err:0.690119\n",
            "[257]\tvalidation_0-error:0.339437\tvalidation_1-error:0.340835\tvalidation_0-gini_err:0.679414\tvalidation_1-gini_err:0.690054\n",
            "[258]\tvalidation_0-error:0.339201\tvalidation_1-error:0.340613\tvalidation_0-gini_err:0.679319\tvalidation_1-gini_err:0.689973\n",
            "[259]\tvalidation_0-error:0.339017\tvalidation_1-error:0.340457\tvalidation_0-gini_err:0.679244\tvalidation_1-gini_err:0.689905\n",
            "[260]\tvalidation_0-error:0.338801\tvalidation_1-error:0.340196\tvalidation_0-gini_err:0.679111\tvalidation_1-gini_err:0.689782\n",
            "[261]\tvalidation_0-error:0.338672\tvalidation_1-error:0.340002\tvalidation_0-gini_err:0.678995\tvalidation_1-gini_err:0.689659\n",
            "[262]\tvalidation_0-error:0.338415\tvalidation_1-error:0.339888\tvalidation_0-gini_err:0.678857\tvalidation_1-gini_err:0.689546\n",
            "[263]\tvalidation_0-error:0.33864\tvalidation_1-error:0.340047\tvalidation_0-gini_err:0.678685\tvalidation_1-gini_err:0.689382\n",
            "[264]\tvalidation_0-error:0.338685\tvalidation_1-error:0.340101\tvalidation_0-gini_err:0.678547\tvalidation_1-gini_err:0.689235\n",
            "[265]\tvalidation_0-error:0.338443\tvalidation_1-error:0.339939\tvalidation_0-gini_err:0.678482\tvalidation_1-gini_err:0.689172\n",
            "[266]\tvalidation_0-error:0.338262\tvalidation_1-error:0.339805\tvalidation_0-gini_err:0.678413\tvalidation_1-gini_err:0.689094\n",
            "[267]\tvalidation_0-error:0.338052\tvalidation_1-error:0.339668\tvalidation_0-gini_err:0.678303\tvalidation_1-gini_err:0.688985\n",
            "[268]\tvalidation_0-error:0.338\tvalidation_1-error:0.339646\tvalidation_0-gini_err:0.67818\tvalidation_1-gini_err:0.688883\n",
            "[269]\tvalidation_0-error:0.338154\tvalidation_1-error:0.339773\tvalidation_0-gini_err:0.678013\tvalidation_1-gini_err:0.688721\n",
            "[270]\tvalidation_0-error:0.337938\tvalidation_1-error:0.339493\tvalidation_0-gini_err:0.677904\tvalidation_1-gini_err:0.688621\n",
            "[271]\tvalidation_0-error:0.33778\tvalidation_1-error:0.339303\tvalidation_0-gini_err:0.677829\tvalidation_1-gini_err:0.688557\n",
            "[272]\tvalidation_0-error:0.337634\tvalidation_1-error:0.339213\tvalidation_0-gini_err:0.677728\tvalidation_1-gini_err:0.688453\n",
            "[273]\tvalidation_0-error:0.337553\tvalidation_1-error:0.339236\tvalidation_0-gini_err:0.67766\tvalidation_1-gini_err:0.688393\n",
            "[274]\tvalidation_0-error:0.337428\tvalidation_1-error:0.339188\tvalidation_0-gini_err:0.677529\tvalidation_1-gini_err:0.688288\n",
            "[275]\tvalidation_0-error:0.337315\tvalidation_1-error:0.338985\tvalidation_0-gini_err:0.677458\tvalidation_1-gini_err:0.688218\n",
            "[276]\tvalidation_0-error:0.337105\tvalidation_1-error:0.338854\tvalidation_0-gini_err:0.677382\tvalidation_1-gini_err:0.688156\n",
            "[277]\tvalidation_0-error:0.337006\tvalidation_1-error:0.338727\tvalidation_0-gini_err:0.677267\tvalidation_1-gini_err:0.688056\n",
            "[278]\tvalidation_0-error:0.337236\tvalidation_1-error:0.338965\tvalidation_0-gini_err:0.677116\tvalidation_1-gini_err:0.687913\n",
            "[279]\tvalidation_0-error:0.337162\tvalidation_1-error:0.338816\tvalidation_0-gini_err:0.677051\tvalidation_1-gini_err:0.687854\n",
            "[280]\tvalidation_0-error:0.336937\tvalidation_1-error:0.338587\tvalidation_0-gini_err:0.676955\tvalidation_1-gini_err:0.68776\n",
            "[281]\tvalidation_0-error:0.336698\tvalidation_1-error:0.338466\tvalidation_0-gini_err:0.676858\tvalidation_1-gini_err:0.687668\n",
            "[282]\tvalidation_0-error:0.336629\tvalidation_1-error:0.338415\tvalidation_0-gini_err:0.676792\tvalidation_1-gini_err:0.687603\n",
            "[283]\tvalidation_0-error:0.336448\tvalidation_1-error:0.338215\tvalidation_0-gini_err:0.676715\tvalidation_1-gini_err:0.687539\n",
            "[284]\tvalidation_0-error:0.336704\tvalidation_1-error:0.338488\tvalidation_0-gini_err:0.676565\tvalidation_1-gini_err:0.687393\n",
            "[285]\tvalidation_0-error:0.336564\tvalidation_1-error:0.338301\tvalidation_0-gini_err:0.676458\tvalidation_1-gini_err:0.687299\n",
            "[286]\tvalidation_0-error:0.336402\tvalidation_1-error:0.33804\tvalidation_0-gini_err:0.676357\tvalidation_1-gini_err:0.687217\n",
            "[287]\tvalidation_0-error:0.336295\tvalidation_1-error:0.337964\tvalidation_0-gini_err:0.676296\tvalidation_1-gini_err:0.687164\n",
            "[288]\tvalidation_0-error:0.336195\tvalidation_1-error:0.337906\tvalidation_0-gini_err:0.676239\tvalidation_1-gini_err:0.6871\n",
            "[289]\tvalidation_0-error:0.336081\tvalidation_1-error:0.337766\tvalidation_0-gini_err:0.676152\tvalidation_1-gini_err:0.687013\n",
            "[290]\tvalidation_0-error:0.3359\tvalidation_1-error:0.337601\tvalidation_0-gini_err:0.676023\tvalidation_1-gini_err:0.686908\n",
            "[291]\tvalidation_0-error:0.335743\tvalidation_1-error:0.337493\tvalidation_0-gini_err:0.675948\tvalidation_1-gini_err:0.686831\n",
            "[292]\tvalidation_0-error:0.335945\tvalidation_1-error:0.337611\tvalidation_0-gini_err:0.67572\tvalidation_1-gini_err:0.686599\n",
            "[293]\tvalidation_0-error:0.335824\tvalidation_1-error:0.337429\tvalidation_0-gini_err:0.675663\tvalidation_1-gini_err:0.686555\n",
            "[294]\tvalidation_0-error:0.336\tvalidation_1-error:0.337601\tvalidation_0-gini_err:0.675532\tvalidation_1-gini_err:0.686433\n",
            "[295]\tvalidation_0-error:0.335852\tvalidation_1-error:0.337375\tvalidation_0-gini_err:0.67545\tvalidation_1-gini_err:0.686351\n",
            "[296]\tvalidation_0-error:0.335802\tvalidation_1-error:0.337448\tvalidation_0-gini_err:0.675392\tvalidation_1-gini_err:0.686301\n",
            "[297]\tvalidation_0-error:0.335693\tvalidation_1-error:0.337398\tvalidation_0-gini_err:0.675323\tvalidation_1-gini_err:0.68623\n",
            "[298]\tvalidation_0-error:0.33552\tvalidation_1-error:0.337165\tvalidation_0-gini_err:0.675254\tvalidation_1-gini_err:0.686172\n",
            "[299]\tvalidation_0-error:0.335746\tvalidation_1-error:0.337363\tvalidation_0-gini_err:0.675121\tvalidation_1-gini_err:0.686042\n",
            "[300]\tvalidation_0-error:0.335654\tvalidation_1-error:0.337242\tvalidation_0-gini_err:0.675068\tvalidation_1-gini_err:0.686001\n",
            "[301]\tvalidation_0-error:0.335566\tvalidation_1-error:0.337153\tvalidation_0-gini_err:0.674994\tvalidation_1-gini_err:0.685932\n",
            "[302]\tvalidation_0-error:0.335434\tvalidation_1-error:0.337073\tvalidation_0-gini_err:0.67486\tvalidation_1-gini_err:0.685822\n",
            "[303]\tvalidation_0-error:0.33563\tvalidation_1-error:0.337191\tvalidation_0-gini_err:0.674604\tvalidation_1-gini_err:0.68556\n",
            "[304]\tvalidation_0-error:0.335594\tvalidation_1-error:0.337134\tvalidation_0-gini_err:0.674548\tvalidation_1-gini_err:0.685512\n",
            "[305]\tvalidation_0-error:0.335585\tvalidation_1-error:0.337115\tvalidation_0-gini_err:0.674479\tvalidation_1-gini_err:0.685456\n",
            "[306]\tvalidation_0-error:0.335444\tvalidation_1-error:0.33701\tvalidation_0-gini_err:0.674409\tvalidation_1-gini_err:0.685375\n",
            "[307]\tvalidation_0-error:0.335403\tvalidation_1-error:0.337035\tvalidation_0-gini_err:0.674317\tvalidation_1-gini_err:0.685295\n",
            "[308]\tvalidation_0-error:0.335585\tvalidation_1-error:0.337057\tvalidation_0-gini_err:0.674196\tvalidation_1-gini_err:0.685176\n",
            "[309]\tvalidation_0-error:0.335459\tvalidation_1-error:0.336975\tvalidation_0-gini_err:0.674124\tvalidation_1-gini_err:0.685104\n",
            "[310]\tvalidation_0-error:0.335306\tvalidation_1-error:0.336841\tvalidation_0-gini_err:0.673986\tvalidation_1-gini_err:0.684991\n",
            "[311]\tvalidation_0-error:0.335216\tvalidation_1-error:0.336758\tvalidation_0-gini_err:0.673935\tvalidation_1-gini_err:0.68493\n",
            "[312]\tvalidation_0-error:0.335054\tvalidation_1-error:0.336653\tvalidation_0-gini_err:0.673876\tvalidation_1-gini_err:0.684869\n",
            "[313]\tvalidation_0-error:0.334999\tvalidation_1-error:0.336479\tvalidation_0-gini_err:0.6738\tvalidation_1-gini_err:0.684808\n",
            "[314]\tvalidation_0-error:0.334843\tvalidation_1-error:0.336374\tvalidation_0-gini_err:0.673762\tvalidation_1-gini_err:0.684775\n",
            "[315]\tvalidation_0-error:0.334717\tvalidation_1-error:0.336278\tvalidation_0-gini_err:0.673697\tvalidation_1-gini_err:0.684718\n",
            "[316]\tvalidation_0-error:0.33459\tvalidation_1-error:0.336262\tvalidation_0-gini_err:0.673646\tvalidation_1-gini_err:0.684681\n",
            "[317]\tvalidation_0-error:0.334494\tvalidation_1-error:0.336138\tvalidation_0-gini_err:0.673576\tvalidation_1-gini_err:0.684623\n",
            "[318]\tvalidation_0-error:0.3346\tvalidation_1-error:0.33623\tvalidation_0-gini_err:0.673462\tvalidation_1-gini_err:0.684512\n",
            "[319]\tvalidation_0-error:0.334535\tvalidation_1-error:0.336103\tvalidation_0-gini_err:0.673396\tvalidation_1-gini_err:0.684446\n",
            "[320]\tvalidation_0-error:0.334447\tvalidation_1-error:0.336065\tvalidation_0-gini_err:0.673267\tvalidation_1-gini_err:0.684339\n",
            "[321]\tvalidation_0-error:0.334278\tvalidation_1-error:0.335919\tvalidation_0-gini_err:0.673199\tvalidation_1-gini_err:0.684278\n",
            "[322]\tvalidation_0-error:0.334258\tvalidation_1-error:0.335833\tvalidation_0-gini_err:0.673117\tvalidation_1-gini_err:0.684208\n",
            "[323]\tvalidation_0-error:0.334337\tvalidation_1-error:0.335833\tvalidation_0-gini_err:0.672923\tvalidation_1-gini_err:0.684007\n",
            "[324]\tvalidation_0-error:0.334306\tvalidation_1-error:0.335779\tvalidation_0-gini_err:0.672862\tvalidation_1-gini_err:0.683963\n",
            "[325]\tvalidation_0-error:0.334247\tvalidation_1-error:0.335693\tvalidation_0-gini_err:0.672804\tvalidation_1-gini_err:0.683912\n",
            "[326]\tvalidation_0-error:0.334124\tvalidation_1-error:0.335629\tvalidation_0-gini_err:0.672733\tvalidation_1-gini_err:0.68386\n",
            "[327]\tvalidation_0-error:0.33413\tvalidation_1-error:0.335601\tvalidation_0-gini_err:0.672676\tvalidation_1-gini_err:0.683814\n",
            "[328]\tvalidation_0-error:0.334028\tvalidation_1-error:0.335474\tvalidation_0-gini_err:0.672615\tvalidation_1-gini_err:0.683753\n",
            "[329]\tvalidation_0-error:0.333921\tvalidation_1-error:0.335372\tvalidation_0-gini_err:0.672501\tvalidation_1-gini_err:0.683651\n",
            "[330]\tvalidation_0-error:0.333842\tvalidation_1-error:0.335356\tvalidation_0-gini_err:0.672402\tvalidation_1-gini_err:0.683553\n",
            "[331]\tvalidation_0-error:0.333833\tvalidation_1-error:0.335305\tvalidation_0-gini_err:0.672347\tvalidation_1-gini_err:0.683513\n",
            "[332]\tvalidation_0-error:0.333734\tvalidation_1-error:0.335267\tvalidation_0-gini_err:0.672299\tvalidation_1-gini_err:0.683465\n",
            "[333]\tvalidation_0-error:0.333651\tvalidation_1-error:0.335197\tvalidation_0-gini_err:0.672254\tvalidation_1-gini_err:0.683433\n",
            "[334]\tvalidation_0-error:0.333567\tvalidation_1-error:0.335184\tvalidation_0-gini_err:0.672198\tvalidation_1-gini_err:0.683387\n",
            "[335]\tvalidation_0-error:0.333549\tvalidation_1-error:0.335146\tvalidation_0-gini_err:0.672134\tvalidation_1-gini_err:0.683337\n",
            "[336]\tvalidation_0-error:0.333601\tvalidation_1-error:0.335092\tvalidation_0-gini_err:0.672031\tvalidation_1-gini_err:0.683243\n",
            "[337]\tvalidation_0-error:0.333478\tvalidation_1-error:0.335035\tvalidation_0-gini_err:0.671957\tvalidation_1-gini_err:0.683176\n",
            "[338]\tvalidation_0-error:0.333463\tvalidation_1-error:0.335003\tvalidation_0-gini_err:0.671902\tvalidation_1-gini_err:0.683128\n",
            "[339]\tvalidation_0-error:0.333401\tvalidation_1-error:0.335006\tvalidation_0-gini_err:0.671846\tvalidation_1-gini_err:0.683072\n",
            "[340]\tvalidation_0-error:0.333369\tvalidation_1-error:0.334984\tvalidation_0-gini_err:0.671791\tvalidation_1-gini_err:0.683032\n",
            "[341]\tvalidation_0-error:0.333298\tvalidation_1-error:0.334809\tvalidation_0-gini_err:0.671692\tvalidation_1-gini_err:0.68295\n",
            "[342]\tvalidation_0-error:0.333278\tvalidation_1-error:0.33478\tvalidation_0-gini_err:0.671591\tvalidation_1-gini_err:0.68286\n",
            "[343]\tvalidation_0-error:0.333417\tvalidation_1-error:0.334946\tvalidation_0-gini_err:0.67137\tvalidation_1-gini_err:0.682634\n",
            "[344]\tvalidation_0-error:0.333323\tvalidation_1-error:0.33485\tvalidation_0-gini_err:0.671303\tvalidation_1-gini_err:0.682573\n",
            "[345]\tvalidation_0-error:0.333257\tvalidation_1-error:0.334815\tvalidation_0-gini_err:0.671205\tvalidation_1-gini_err:0.682493\n",
            "[346]\tvalidation_0-error:0.333199\tvalidation_1-error:0.334749\tvalidation_0-gini_err:0.671164\tvalidation_1-gini_err:0.682463\n",
            "[347]\tvalidation_0-error:0.333138\tvalidation_1-error:0.334682\tvalidation_0-gini_err:0.671108\tvalidation_1-gini_err:0.682417\n",
            "[348]\tvalidation_0-error:0.333071\tvalidation_1-error:0.334637\tvalidation_0-gini_err:0.671057\tvalidation_1-gini_err:0.682365\n",
            "[349]\tvalidation_0-error:0.33303\tvalidation_1-error:0.334596\tvalidation_0-gini_err:0.670999\tvalidation_1-gini_err:0.682311\n",
            "[350]\tvalidation_0-error:0.332964\tvalidation_1-error:0.334494\tvalidation_0-gini_err:0.670936\tvalidation_1-gini_err:0.682266\n",
            "[351]\tvalidation_0-error:0.332881\tvalidation_1-error:0.334443\tvalidation_0-gini_err:0.670867\tvalidation_1-gini_err:0.682211\n",
            "[352]\tvalidation_0-error:0.332978\tvalidation_1-error:0.334494\tvalidation_0-gini_err:0.670783\tvalidation_1-gini_err:0.682134\n",
            "[353]\tvalidation_0-error:0.332952\tvalidation_1-error:0.334459\tvalidation_0-gini_err:0.670741\tvalidation_1-gini_err:0.68209\n",
            "[354]\tvalidation_0-error:0.332918\tvalidation_1-error:0.334443\tvalidation_0-gini_err:0.6707\tvalidation_1-gini_err:0.682048\n",
            "[355]\tvalidation_0-error:0.33277\tvalidation_1-error:0.334265\tvalidation_0-gini_err:0.670645\tvalidation_1-gini_err:0.682004\n",
            "[356]\tvalidation_0-error:0.332903\tvalidation_1-error:0.334367\tvalidation_0-gini_err:0.670476\tvalidation_1-gini_err:0.68183\n",
            "[357]\tvalidation_0-error:0.332865\tvalidation_1-error:0.334351\tvalidation_0-gini_err:0.670413\tvalidation_1-gini_err:0.681774\n",
            "[358]\tvalidation_0-error:0.332789\tvalidation_1-error:0.334332\tvalidation_0-gini_err:0.670356\tvalidation_1-gini_err:0.681718\n",
            "[359]\tvalidation_0-error:0.332757\tvalidation_1-error:0.334179\tvalidation_0-gini_err:0.670309\tvalidation_1-gini_err:0.681671\n",
            "[360]\tvalidation_0-error:0.33282\tvalidation_1-error:0.33417\tvalidation_0-gini_err:0.670224\tvalidation_1-gini_err:0.681593\n",
            "[361]\tvalidation_0-error:0.33269\tvalidation_1-error:0.334062\tvalidation_0-gini_err:0.670155\tvalidation_1-gini_err:0.681534\n",
            "[362]\tvalidation_0-error:0.332641\tvalidation_1-error:0.334116\tvalidation_0-gini_err:0.670077\tvalidation_1-gini_err:0.681462\n",
            "[363]\tvalidation_0-error:0.332628\tvalidation_1-error:0.334058\tvalidation_0-gini_err:0.67004\tvalidation_1-gini_err:0.68143\n",
            "[364]\tvalidation_0-error:0.332609\tvalidation_1-error:0.334058\tvalidation_0-gini_err:0.669976\tvalidation_1-gini_err:0.681378\n",
            "[365]\tvalidation_0-error:0.332532\tvalidation_1-error:0.334017\tvalidation_0-gini_err:0.669918\tvalidation_1-gini_err:0.681325\n",
            "[366]\tvalidation_0-error:0.332542\tvalidation_1-error:0.334027\tvalidation_0-gini_err:0.669874\tvalidation_1-gini_err:0.681292\n",
            "[367]\tvalidation_0-error:0.332562\tvalidation_1-error:0.334081\tvalidation_0-gini_err:0.669798\tvalidation_1-gini_err:0.681223\n",
            "[368]\tvalidation_0-error:0.332517\tvalidation_1-error:0.333912\tvalidation_0-gini_err:0.669701\tvalidation_1-gini_err:0.681144\n",
            "[369]\tvalidation_0-error:0.332622\tvalidation_1-error:0.33409\tvalidation_0-gini_err:0.669501\tvalidation_1-gini_err:0.680938\n",
            "[370]\tvalidation_0-error:0.332545\tvalidation_1-error:0.334097\tvalidation_0-gini_err:0.669466\tvalidation_1-gini_err:0.680912\n",
            "[371]\tvalidation_0-error:0.332536\tvalidation_1-error:0.334052\tvalidation_0-gini_err:0.669421\tvalidation_1-gini_err:0.680867\n",
            "[372]\tvalidation_0-error:0.332456\tvalidation_1-error:0.334065\tvalidation_0-gini_err:0.669361\tvalidation_1-gini_err:0.680808\n",
            "[373]\tvalidation_0-error:0.33243\tvalidation_1-error:0.334001\tvalidation_0-gini_err:0.669311\tvalidation_1-gini_err:0.680757\n",
            "[374]\tvalidation_0-error:0.332373\tvalidation_1-error:0.333988\tvalidation_0-gini_err:0.669264\tvalidation_1-gini_err:0.680717\n",
            "[375]\tvalidation_0-error:0.332418\tvalidation_1-error:0.333969\tvalidation_0-gini_err:0.669187\tvalidation_1-gini_err:0.680647\n",
            "[376]\tvalidation_0-error:0.332444\tvalidation_1-error:0.333938\tvalidation_0-gini_err:0.669115\tvalidation_1-gini_err:0.680586\n",
            "[377]\tvalidation_0-error:0.332365\tvalidation_1-error:0.333934\tvalidation_0-gini_err:0.669052\tvalidation_1-gini_err:0.680537\n",
            "[378]\tvalidation_0-error:0.332362\tvalidation_1-error:0.333845\tvalidation_0-gini_err:0.66901\tvalidation_1-gini_err:0.680494\n",
            "[379]\tvalidation_0-error:0.332305\tvalidation_1-error:0.333801\tvalidation_0-gini_err:0.668972\tvalidation_1-gini_err:0.680452\n",
            "[380]\tvalidation_0-error:0.332279\tvalidation_1-error:0.333864\tvalidation_0-gini_err:0.668936\tvalidation_1-gini_err:0.680418\n",
            "[381]\tvalidation_0-error:0.332213\tvalidation_1-error:0.333772\tvalidation_0-gini_err:0.668876\tvalidation_1-gini_err:0.680367\n",
            "[382]\tvalidation_0-error:0.332215\tvalidation_1-error:0.333817\tvalidation_0-gini_err:0.668802\tvalidation_1-gini_err:0.680303\n",
            "[383]\tvalidation_0-error:0.332211\tvalidation_1-error:0.333731\tvalidation_0-gini_err:0.668709\tvalidation_1-gini_err:0.680228\n",
            "[384]\tvalidation_0-error:0.332292\tvalidation_1-error:0.333903\tvalidation_0-gini_err:0.668521\tvalidation_1-gini_err:0.680031\n",
            "[385]\tvalidation_0-error:0.332233\tvalidation_1-error:0.33388\tvalidation_0-gini_err:0.668465\tvalidation_1-gini_err:0.679978\n",
            "[386]\tvalidation_0-error:0.332237\tvalidation_1-error:0.333826\tvalidation_0-gini_err:0.668405\tvalidation_1-gini_err:0.67993\n",
            "[387]\tvalidation_0-error:0.332282\tvalidation_1-error:0.333852\tvalidation_0-gini_err:0.668327\tvalidation_1-gini_err:0.679863\n",
            "[388]\tvalidation_0-error:0.332396\tvalidation_1-error:0.33389\tvalidation_0-gini_err:0.668146\tvalidation_1-gini_err:0.679673\n",
            "[389]\tvalidation_0-error:0.332381\tvalidation_1-error:0.333957\tvalidation_0-gini_err:0.668077\tvalidation_1-gini_err:0.679615\n",
            "[390]\tvalidation_0-error:0.332332\tvalidation_1-error:0.333934\tvalidation_0-gini_err:0.668033\tvalidation_1-gini_err:0.679568\n",
            "[391]\tvalidation_0-error:0.332261\tvalidation_1-error:0.333861\tvalidation_0-gini_err:0.667999\tvalidation_1-gini_err:0.679533\n",
            "[392]\tvalidation_0-error:0.33219\tvalidation_1-error:0.333794\tvalidation_0-gini_err:0.667947\tvalidation_1-gini_err:0.679482\n",
            "[393]\tvalidation_0-error:0.332156\tvalidation_1-error:0.333753\tvalidation_0-gini_err:0.667883\tvalidation_1-gini_err:0.679427\n",
            "[394]\tvalidation_0-error:0.332179\tvalidation_1-error:0.333775\tvalidation_0-gini_err:0.667813\tvalidation_1-gini_err:0.679366\n",
            "[395]\tvalidation_0-error:0.332181\tvalidation_1-error:0.333728\tvalidation_0-gini_err:0.667729\tvalidation_1-gini_err:0.679301\n",
            "[396]\tvalidation_0-error:0.332118\tvalidation_1-error:0.333635\tvalidation_0-gini_err:0.667697\tvalidation_1-gini_err:0.679284\n",
            "[397]\tvalidation_0-error:0.332085\tvalidation_1-error:0.33374\tvalidation_0-gini_err:0.66764\tvalidation_1-gini_err:0.679237\n",
            "[398]\tvalidation_0-error:0.332243\tvalidation_1-error:0.333849\tvalidation_0-gini_err:0.667533\tvalidation_1-gini_err:0.679112\n",
            "[399]\tvalidation_0-error:0.332182\tvalidation_1-error:0.33369\tvalidation_0-gini_err:0.667502\tvalidation_1-gini_err:0.679085\n",
            "[400]\tvalidation_0-error:0.332177\tvalidation_1-error:0.333702\tvalidation_0-gini_err:0.667468\tvalidation_1-gini_err:0.67906\n",
            "[401]\tvalidation_0-error:0.332121\tvalidation_1-error:0.333705\tvalidation_0-gini_err:0.667397\tvalidation_1-gini_err:0.678997\n",
            "[402]\tvalidation_0-error:0.332039\tvalidation_1-error:0.333696\tvalidation_0-gini_err:0.667337\tvalidation_1-gini_err:0.678951\n",
            "[403]\tvalidation_0-error:0.332077\tvalidation_1-error:0.333759\tvalidation_0-gini_err:0.66727\tvalidation_1-gini_err:0.678886\n",
            "[404]\tvalidation_0-error:0.332039\tvalidation_1-error:0.333775\tvalidation_0-gini_err:0.667227\tvalidation_1-gini_err:0.678842\n",
            "[405]\tvalidation_0-error:0.332122\tvalidation_1-error:0.333947\tvalidation_0-gini_err:0.667058\tvalidation_1-gini_err:0.678673\n",
            "[406]\tvalidation_0-error:0.332183\tvalidation_1-error:0.333947\tvalidation_0-gini_err:0.667009\tvalidation_1-gini_err:0.678626\n",
            "[407]\tvalidation_0-error:0.332111\tvalidation_1-error:0.333779\tvalidation_0-gini_err:0.666943\tvalidation_1-gini_err:0.678566\n",
            "[408]\tvalidation_0-error:0.332083\tvalidation_1-error:0.333785\tvalidation_0-gini_err:0.666914\tvalidation_1-gini_err:0.678542\n",
            "[409]\tvalidation_0-error:0.33202\tvalidation_1-error:0.333833\tvalidation_0-gini_err:0.666852\tvalidation_1-gini_err:0.678491\n",
            "[410]\tvalidation_0-error:0.332002\tvalidation_1-error:0.33374\tvalidation_0-gini_err:0.666799\tvalidation_1-gini_err:0.678439\n",
            "[411]\tvalidation_0-error:0.331964\tvalidation_1-error:0.333718\tvalidation_0-gini_err:0.666759\tvalidation_1-gini_err:0.678397\n",
            "[412]\tvalidation_0-error:0.332031\tvalidation_1-error:0.333779\tvalidation_0-gini_err:0.666694\tvalidation_1-gini_err:0.678342\n",
            "[413]\tvalidation_0-error:0.332055\tvalidation_1-error:0.33382\tvalidation_0-gini_err:0.666587\tvalidation_1-gini_err:0.678217\n",
            "[414]\tvalidation_0-error:0.332043\tvalidation_1-error:0.33389\tvalidation_0-gini_err:0.666537\tvalidation_1-gini_err:0.678177\n",
            "[415]\tvalidation_0-error:0.331972\tvalidation_1-error:0.333807\tvalidation_0-gini_err:0.666479\tvalidation_1-gini_err:0.678121\n",
            "[416]\tvalidation_0-error:0.331904\tvalidation_1-error:0.333801\tvalidation_0-gini_err:0.666444\tvalidation_1-gini_err:0.67809\n",
            "[417]\tvalidation_0-error:0.331904\tvalidation_1-error:0.333728\tvalidation_0-gini_err:0.666381\tvalidation_1-gini_err:0.678033\n",
            "[418]\tvalidation_0-error:0.331873\tvalidation_1-error:0.333728\tvalidation_0-gini_err:0.666302\tvalidation_1-gini_err:0.677969\n",
            "[419]\tvalidation_0-error:0.331855\tvalidation_1-error:0.333658\tvalidation_0-gini_err:0.666252\tvalidation_1-gini_err:0.677921\n",
            "[420]\tvalidation_0-error:0.331899\tvalidation_1-error:0.333588\tvalidation_0-gini_err:0.666195\tvalidation_1-gini_err:0.677869\n",
            "[421]\tvalidation_0-error:0.33185\tvalidation_1-error:0.333651\tvalidation_0-gini_err:0.666115\tvalidation_1-gini_err:0.677811\n",
            "[422]\tvalidation_0-error:0.331843\tvalidation_1-error:0.333642\tvalidation_0-gini_err:0.666066\tvalidation_1-gini_err:0.677763\n",
            "[423]\tvalidation_0-error:0.331884\tvalidation_1-error:0.333556\tvalidation_0-gini_err:0.666019\tvalidation_1-gini_err:0.677724\n",
            "[424]\tvalidation_0-error:0.331779\tvalidation_1-error:0.333515\tvalidation_0-gini_err:0.665971\tvalidation_1-gini_err:0.67769\n",
            "[425]\tvalidation_0-error:0.33178\tvalidation_1-error:0.333483\tvalidation_0-gini_err:0.665894\tvalidation_1-gini_err:0.677635\n",
            "[426]\tvalidation_0-error:0.331805\tvalidation_1-error:0.333416\tvalidation_0-gini_err:0.665874\tvalidation_1-gini_err:0.677615\n",
            "[427]\tvalidation_0-error:0.331756\tvalidation_1-error:0.333496\tvalidation_0-gini_err:0.665808\tvalidation_1-gini_err:0.67756\n",
            "[428]\tvalidation_0-error:0.331802\tvalidation_1-error:0.333645\tvalidation_0-gini_err:0.665707\tvalidation_1-gini_err:0.67744\n",
            "[429]\tvalidation_0-error:0.331735\tvalidation_1-error:0.333569\tvalidation_0-gini_err:0.665654\tvalidation_1-gini_err:0.677399\n",
            "[430]\tvalidation_0-error:0.331734\tvalidation_1-error:0.333508\tvalidation_0-gini_err:0.665613\tvalidation_1-gini_err:0.677364\n",
            "[431]\tvalidation_0-error:0.331715\tvalidation_1-error:0.333518\tvalidation_0-gini_err:0.665554\tvalidation_1-gini_err:0.677316\n",
            "[432]\tvalidation_0-error:0.331706\tvalidation_1-error:0.333518\tvalidation_0-gini_err:0.665507\tvalidation_1-gini_err:0.677269\n",
            "[433]\tvalidation_0-error:0.331734\tvalidation_1-error:0.333432\tvalidation_0-gini_err:0.66545\tvalidation_1-gini_err:0.677214\n",
            "[434]\tvalidation_0-error:0.331724\tvalidation_1-error:0.333429\tvalidation_0-gini_err:0.665405\tvalidation_1-gini_err:0.677177\n",
            "[435]\tvalidation_0-error:0.331723\tvalidation_1-error:0.333384\tvalidation_0-gini_err:0.665381\tvalidation_1-gini_err:0.677152\n",
            "[436]\tvalidation_0-error:0.331747\tvalidation_1-error:0.333448\tvalidation_0-gini_err:0.665324\tvalidation_1-gini_err:0.677095\n",
            "[437]\tvalidation_0-error:0.331678\tvalidation_1-error:0.333391\tvalidation_0-gini_err:0.665266\tvalidation_1-gini_err:0.677052\n",
            "[438]\tvalidation_0-error:0.331683\tvalidation_1-error:0.333451\tvalidation_0-gini_err:0.665208\tvalidation_1-gini_err:0.676998\n",
            "[439]\tvalidation_0-error:0.331727\tvalidation_1-error:0.333585\tvalidation_0-gini_err:0.665112\tvalidation_1-gini_err:0.676885\n",
            "[440]\tvalidation_0-error:0.331694\tvalidation_1-error:0.333499\tvalidation_0-gini_err:0.665092\tvalidation_1-gini_err:0.676868\n",
            "[441]\tvalidation_0-error:0.331674\tvalidation_1-error:0.333464\tvalidation_0-gini_err:0.66504\tvalidation_1-gini_err:0.676829\n",
            "[442]\tvalidation_0-error:0.331858\tvalidation_1-error:0.333626\tvalidation_0-gini_err:0.664867\tvalidation_1-gini_err:0.676656\n",
            "[443]\tvalidation_0-error:0.331779\tvalidation_1-error:0.333594\tvalidation_0-gini_err:0.664793\tvalidation_1-gini_err:0.676602\n",
            "[444]\tvalidation_0-error:0.331799\tvalidation_1-error:0.333569\tvalidation_0-gini_err:0.66474\tvalidation_1-gini_err:0.676551\n",
            "[445]\tvalidation_0-error:0.331754\tvalidation_1-error:0.333461\tvalidation_0-gini_err:0.664672\tvalidation_1-gini_err:0.676504\n",
            "[446]\tvalidation_0-error:0.33172\tvalidation_1-error:0.333432\tvalidation_0-gini_err:0.664606\tvalidation_1-gini_err:0.676449\n",
            "[447]\tvalidation_0-error:0.331839\tvalidation_1-error:0.333572\tvalidation_0-gini_err:0.664448\tvalidation_1-gini_err:0.676286\n",
            "[448]\tvalidation_0-error:0.331884\tvalidation_1-error:0.33362\tvalidation_0-gini_err:0.664396\tvalidation_1-gini_err:0.676242\n",
            "[449]\tvalidation_0-error:0.331888\tvalidation_1-error:0.333651\tvalidation_0-gini_err:0.664351\tvalidation_1-gini_err:0.676199\n",
            "[450]\tvalidation_0-error:0.331918\tvalidation_1-error:0.333683\tvalidation_0-gini_err:0.664304\tvalidation_1-gini_err:0.676154\n",
            "[451]\tvalidation_0-error:0.331878\tvalidation_1-error:0.333648\tvalidation_0-gini_err:0.664245\tvalidation_1-gini_err:0.676118\n",
            "[452]\tvalidation_0-error:0.331859\tvalidation_1-error:0.333585\tvalidation_0-gini_err:0.664183\tvalidation_1-gini_err:0.67607\n",
            "[453]\tvalidation_0-error:0.331942\tvalidation_1-error:0.333753\tvalidation_0-gini_err:0.664024\tvalidation_1-gini_err:0.675902\n",
            "[454]\tvalidation_0-error:0.331952\tvalidation_1-error:0.333693\tvalidation_0-gini_err:0.663954\tvalidation_1-gini_err:0.675851\n",
            "[455]\tvalidation_0-error:0.331975\tvalidation_1-error:0.333677\tvalidation_0-gini_err:0.663868\tvalidation_1-gini_err:0.675752\n",
            "[456]\tvalidation_0-error:0.331953\tvalidation_1-error:0.333753\tvalidation_0-gini_err:0.66382\tvalidation_1-gini_err:0.675722\n",
            "[457]\tvalidation_0-error:0.331976\tvalidation_1-error:0.33369\tvalidation_0-gini_err:0.663772\tvalidation_1-gini_err:0.675675\n",
            "[458]\tvalidation_0-error:0.331978\tvalidation_1-error:0.333623\tvalidation_0-gini_err:0.663704\tvalidation_1-gini_err:0.675626\n",
            "[459]\tvalidation_0-error:0.331931\tvalidation_1-error:0.3336\tvalidation_0-gini_err:0.663652\tvalidation_1-gini_err:0.675579\n",
            "[460]\tvalidation_0-error:0.33192\tvalidation_1-error:0.333651\tvalidation_0-gini_err:0.663593\tvalidation_1-gini_err:0.675534\n",
            "[461]\tvalidation_0-error:0.331843\tvalidation_1-error:0.33355\tvalidation_0-gini_err:0.663531\tvalidation_1-gini_err:0.675479\n",
            "[462]\tvalidation_0-error:0.331814\tvalidation_1-error:0.333575\tvalidation_0-gini_err:0.663492\tvalidation_1-gini_err:0.675446\n",
            "[463]\tvalidation_0-error:0.33181\tvalidation_1-error:0.333565\tvalidation_0-gini_err:0.663437\tvalidation_1-gini_err:0.675405\n",
            "[464]\tvalidation_0-error:0.331766\tvalidation_1-error:0.333531\tvalidation_0-gini_err:0.663398\tvalidation_1-gini_err:0.675368\n",
            "[465]\tvalidation_0-error:0.331905\tvalidation_1-error:0.333728\tvalidation_0-gini_err:0.663252\tvalidation_1-gini_err:0.675215\n",
            "[466]\tvalidation_0-error:0.332055\tvalidation_1-error:0.333798\tvalidation_0-gini_err:0.6631\tvalidation_1-gini_err:0.675063\n",
            "[467]\tvalidation_0-error:0.332055\tvalidation_1-error:0.333756\tvalidation_0-gini_err:0.663034\tvalidation_1-gini_err:0.675015\n",
            "[468]\tvalidation_0-error:0.332065\tvalidation_1-error:0.333798\tvalidation_0-gini_err:0.662983\tvalidation_1-gini_err:0.67496\n",
            "[469]\tvalidation_0-error:0.332081\tvalidation_1-error:0.333766\tvalidation_0-gini_err:0.662929\tvalidation_1-gini_err:0.67492\n",
            "[470]\tvalidation_0-error:0.332092\tvalidation_1-error:0.333791\tvalidation_0-gini_err:0.662868\tvalidation_1-gini_err:0.674875\n",
            "[471]\tvalidation_0-error:0.332106\tvalidation_1-error:0.333871\tvalidation_0-gini_err:0.662832\tvalidation_1-gini_err:0.674834\n",
            "[472]\tvalidation_0-error:0.332095\tvalidation_1-error:0.333823\tvalidation_0-gini_err:0.662799\tvalidation_1-gini_err:0.674805\n",
            "[473]\tvalidation_0-error:0.332128\tvalidation_1-error:0.333826\tvalidation_0-gini_err:0.662748\tvalidation_1-gini_err:0.674771\n",
            "[474]\tvalidation_0-error:0.332096\tvalidation_1-error:0.333798\tvalidation_0-gini_err:0.662701\tvalidation_1-gini_err:0.67473\n",
            "[475]\tvalidation_0-error:0.332076\tvalidation_1-error:0.333785\tvalidation_0-gini_err:0.662635\tvalidation_1-gini_err:0.674678\n",
            "[476]\tvalidation_0-error:0.332189\tvalidation_1-error:0.333922\tvalidation_0-gini_err:0.662488\tvalidation_1-gini_err:0.674528\n",
            "[477]\tvalidation_0-error:0.332144\tvalidation_1-error:0.333896\tvalidation_0-gini_err:0.662441\tvalidation_1-gini_err:0.674484\n",
            "[478]\tvalidation_0-error:0.332098\tvalidation_1-error:0.333839\tvalidation_0-gini_err:0.662386\tvalidation_1-gini_err:0.674442\n",
            "[479]\tvalidation_0-error:0.332102\tvalidation_1-error:0.333836\tvalidation_0-gini_err:0.662351\tvalidation_1-gini_err:0.674404\n",
            "[480]\tvalidation_0-error:0.332129\tvalidation_1-error:0.333899\tvalidation_0-gini_err:0.662314\tvalidation_1-gini_err:0.674364\n",
            "[481]\tvalidation_0-error:0.332149\tvalidation_1-error:0.333893\tvalidation_0-gini_err:0.662262\tvalidation_1-gini_err:0.674333\n",
            "[482]\tvalidation_0-error:0.332115\tvalidation_1-error:0.333849\tvalidation_0-gini_err:0.662198\tvalidation_1-gini_err:0.674284\n",
            "[483]\tvalidation_0-error:0.332103\tvalidation_1-error:0.333791\tvalidation_0-gini_err:0.662157\tvalidation_1-gini_err:0.674255\n",
            "[484]\tvalidation_0-error:0.332238\tvalidation_1-error:0.334011\tvalidation_0-gini_err:0.662015\tvalidation_1-gini_err:0.674107\n",
            "[485]\tvalidation_0-error:0.332183\tvalidation_1-error:0.333982\tvalidation_0-gini_err:0.661956\tvalidation_1-gini_err:0.674071\n",
            "[486]\tvalidation_0-error:0.33223\tvalidation_1-error:0.334087\tvalidation_0-gini_err:0.66186\tvalidation_1-gini_err:0.673963\n",
            "[487]\tvalidation_0-error:0.332192\tvalidation_1-error:0.334084\tvalidation_0-gini_err:0.661799\tvalidation_1-gini_err:0.673918\n",
            "[488]\tvalidation_0-error:0.332174\tvalidation_1-error:0.334078\tvalidation_0-gini_err:0.661777\tvalidation_1-gini_err:0.673904\n",
            "[489]\tvalidation_0-error:0.33237\tvalidation_1-error:0.33424\tvalidation_0-gini_err:0.66165\tvalidation_1-gini_err:0.67377\n",
            "[490]\tvalidation_0-error:0.332309\tvalidation_1-error:0.33423\tvalidation_0-gini_err:0.661604\tvalidation_1-gini_err:0.67373\n",
            "[491]\tvalidation_0-error:0.332227\tvalidation_1-error:0.334186\tvalidation_0-gini_err:0.66156\tvalidation_1-gini_err:0.673695\n",
            "[492]\tvalidation_0-error:0.332265\tvalidation_1-error:0.334147\tvalidation_0-gini_err:0.661524\tvalidation_1-gini_err:0.673654\n",
            "[493]\tvalidation_0-error:0.332496\tvalidation_1-error:0.334291\tvalidation_0-gini_err:0.6614\tvalidation_1-gini_err:0.673522\n",
            "[494]\tvalidation_0-error:0.332421\tvalidation_1-error:0.334198\tvalidation_0-gini_err:0.661353\tvalidation_1-gini_err:0.673491\n",
            "[495]\tvalidation_0-error:0.332418\tvalidation_1-error:0.334151\tvalidation_0-gini_err:0.661288\tvalidation_1-gini_err:0.673449\n",
            "[496]\tvalidation_0-error:0.332577\tvalidation_1-error:0.334351\tvalidation_0-gini_err:0.661158\tvalidation_1-gini_err:0.673314\n",
            "[497]\tvalidation_0-error:0.332599\tvalidation_1-error:0.334306\tvalidation_0-gini_err:0.66112\tvalidation_1-gini_err:0.673276\n",
            "[498]\tvalidation_0-error:0.332494\tvalidation_1-error:0.334278\tvalidation_0-gini_err:0.661069\tvalidation_1-gini_err:0.673238\n",
            "[499]\tvalidation_0-error:0.332553\tvalidation_1-error:0.334265\tvalidation_0-gini_err:0.661033\tvalidation_1-gini_err:0.673203\n",
            "[500]\tvalidation_0-error:0.332483\tvalidation_1-error:0.334227\tvalidation_0-gini_err:0.660999\tvalidation_1-gini_err:0.673171\n",
            "[501]\tvalidation_0-error:0.332486\tvalidation_1-error:0.33423\tvalidation_0-gini_err:0.660935\tvalidation_1-gini_err:0.673137\n",
            "[502]\tvalidation_0-error:0.332466\tvalidation_1-error:0.334132\tvalidation_0-gini_err:0.660892\tvalidation_1-gini_err:0.673108\n",
            "[503]\tvalidation_0-error:0.332445\tvalidation_1-error:0.334125\tvalidation_0-gini_err:0.660847\tvalidation_1-gini_err:0.67307\n",
            "[504]\tvalidation_0-error:0.332486\tvalidation_1-error:0.334227\tvalidation_0-gini_err:0.66076\tvalidation_1-gini_err:0.672971\n",
            "[505]\tvalidation_0-error:0.332515\tvalidation_1-error:0.334233\tvalidation_0-gini_err:0.660729\tvalidation_1-gini_err:0.672936\n",
            "[506]\tvalidation_0-error:0.332521\tvalidation_1-error:0.334259\tvalidation_0-gini_err:0.660688\tvalidation_1-gini_err:0.672911\n",
            "[507]\tvalidation_0-error:0.332466\tvalidation_1-error:0.334227\tvalidation_0-gini_err:0.660636\tvalidation_1-gini_err:0.672875\n",
            "[508]\tvalidation_0-error:0.332427\tvalidation_1-error:0.334221\tvalidation_0-gini_err:0.660607\tvalidation_1-gini_err:0.672853\n",
            "[509]\tvalidation_0-error:0.332572\tvalidation_1-error:0.334411\tvalidation_0-gini_err:0.660491\tvalidation_1-gini_err:0.672729\n",
            "[510]\tvalidation_0-error:0.332708\tvalidation_1-error:0.334469\tvalidation_0-gini_err:0.660367\tvalidation_1-gini_err:0.672598\n",
            "[511]\tvalidation_0-error:0.332688\tvalidation_1-error:0.334434\tvalidation_0-gini_err:0.660312\tvalidation_1-gini_err:0.672555\n",
            "[512]\tvalidation_0-error:0.332656\tvalidation_1-error:0.334415\tvalidation_0-gini_err:0.660271\tvalidation_1-gini_err:0.672522\n",
            "[513]\tvalidation_0-error:0.332726\tvalidation_1-error:0.334465\tvalidation_0-gini_err:0.660232\tvalidation_1-gini_err:0.67248\n",
            "[514]\tvalidation_0-error:0.332695\tvalidation_1-error:0.334453\tvalidation_0-gini_err:0.660187\tvalidation_1-gini_err:0.672441\n",
            "[515]\tvalidation_0-error:0.332598\tvalidation_1-error:0.334361\tvalidation_0-gini_err:0.660139\tvalidation_1-gini_err:0.672405\n",
            "[516]\tvalidation_0-error:0.33261\tvalidation_1-error:0.334427\tvalidation_0-gini_err:0.660079\tvalidation_1-gini_err:0.672374\n",
            "[517]\tvalidation_0-error:0.332594\tvalidation_1-error:0.334348\tvalidation_0-gini_err:0.660041\tvalidation_1-gini_err:0.672343\n",
            "[518]\tvalidation_0-error:0.332562\tvalidation_1-error:0.334297\tvalidation_0-gini_err:0.660011\tvalidation_1-gini_err:0.672313\n",
            "[519]\tvalidation_0-error:0.332701\tvalidation_1-error:0.334475\tvalidation_0-gini_err:0.659894\tvalidation_1-gini_err:0.67219\n",
            "[520]\tvalidation_0-error:0.332666\tvalidation_1-error:0.334469\tvalidation_0-gini_err:0.659865\tvalidation_1-gini_err:0.672162\n",
            "[521]\tvalidation_0-error:0.332673\tvalidation_1-error:0.334462\tvalidation_0-gini_err:0.659811\tvalidation_1-gini_err:0.672124\n",
            "[522]\tvalidation_0-error:0.332654\tvalidation_1-error:0.334437\tvalidation_0-gini_err:0.659756\tvalidation_1-gini_err:0.672072\n",
            "[523]\tvalidation_0-error:0.332626\tvalidation_1-error:0.33443\tvalidation_0-gini_err:0.659718\tvalidation_1-gini_err:0.672039\n",
            "[524]\tvalidation_0-error:0.332656\tvalidation_1-error:0.334376\tvalidation_0-gini_err:0.659669\tvalidation_1-gini_err:0.671995\n",
            "[525]\tvalidation_0-error:0.332583\tvalidation_1-error:0.33438\tvalidation_0-gini_err:0.659612\tvalidation_1-gini_err:0.671958\n",
            "[526]\tvalidation_0-error:0.332644\tvalidation_1-error:0.334504\tvalidation_0-gini_err:0.659533\tvalidation_1-gini_err:0.671869\n",
            "[527]\tvalidation_0-error:0.332652\tvalidation_1-error:0.334478\tvalidation_0-gini_err:0.659498\tvalidation_1-gini_err:0.671838\n",
            "[528]\tvalidation_0-error:0.332677\tvalidation_1-error:0.33444\tvalidation_0-gini_err:0.65946\tvalidation_1-gini_err:0.671805\n",
            "[529]\tvalidation_0-error:0.332586\tvalidation_1-error:0.334399\tvalidation_0-gini_err:0.659406\tvalidation_1-gini_err:0.671766\n",
            "[530]\tvalidation_0-error:0.332763\tvalidation_1-error:0.334529\tvalidation_0-gini_err:0.659292\tvalidation_1-gini_err:0.671645\n",
            "[531]\tvalidation_0-error:0.3327\tvalidation_1-error:0.334535\tvalidation_0-gini_err:0.659251\tvalidation_1-gini_err:0.671613\n",
            "[532]\tvalidation_0-error:0.332738\tvalidation_1-error:0.334529\tvalidation_0-gini_err:0.659216\tvalidation_1-gini_err:0.671575\n",
            "[533]\tvalidation_0-error:0.332722\tvalidation_1-error:0.334621\tvalidation_0-gini_err:0.659161\tvalidation_1-gini_err:0.671541\n",
            "[534]\tvalidation_0-error:0.332746\tvalidation_1-error:0.334599\tvalidation_0-gini_err:0.659124\tvalidation_1-gini_err:0.671517\n",
            "[535]\tvalidation_0-error:0.332684\tvalidation_1-error:0.334535\tvalidation_0-gini_err:0.659091\tvalidation_1-gini_err:0.671501\n",
            "[536]\tvalidation_0-error:0.33267\tvalidation_1-error:0.334472\tvalidation_0-gini_err:0.659058\tvalidation_1-gini_err:0.671472\n",
            "[537]\tvalidation_0-error:0.332675\tvalidation_1-error:0.334459\tvalidation_0-gini_err:0.659007\tvalidation_1-gini_err:0.671422\n",
            "[538]\tvalidation_0-error:0.33268\tvalidation_1-error:0.334459\tvalidation_0-gini_err:0.658973\tvalidation_1-gini_err:0.671399\n",
            "[539]\tvalidation_0-error:0.332688\tvalidation_1-error:0.33444\tvalidation_0-gini_err:0.658927\tvalidation_1-gini_err:0.671359\n",
            "[540]\tvalidation_0-error:0.332678\tvalidation_1-error:0.334481\tvalidation_0-gini_err:0.658872\tvalidation_1-gini_err:0.671323\n",
            "[541]\tvalidation_0-error:0.332656\tvalidation_1-error:0.334427\tvalidation_0-gini_err:0.658836\tvalidation_1-gini_err:0.671292\n",
            "[542]\tvalidation_0-error:0.332763\tvalidation_1-error:0.334513\tvalidation_0-gini_err:0.658726\tvalidation_1-gini_err:0.671175\n",
            "[543]\tvalidation_0-error:0.332767\tvalidation_1-error:0.334567\tvalidation_0-gini_err:0.65868\tvalidation_1-gini_err:0.671133\n",
            "[544]\tvalidation_0-error:0.332753\tvalidation_1-error:0.334624\tvalidation_0-gini_err:0.658636\tvalidation_1-gini_err:0.671103\n",
            "[545]\tvalidation_0-error:0.332783\tvalidation_1-error:0.334631\tvalidation_0-gini_err:0.658607\tvalidation_1-gini_err:0.67107\n",
            "[546]\tvalidation_0-error:0.332742\tvalidation_1-error:0.334564\tvalidation_0-gini_err:0.65857\tvalidation_1-gini_err:0.671042\n",
            "[547]\tvalidation_0-error:0.332696\tvalidation_1-error:0.334504\tvalidation_0-gini_err:0.658528\tvalidation_1-gini_err:0.671008\n",
            "[548]\tvalidation_0-error:0.332705\tvalidation_1-error:0.334548\tvalidation_0-gini_err:0.65848\tvalidation_1-gini_err:0.670961\n",
            "[549]\tvalidation_0-error:0.332695\tvalidation_1-error:0.334545\tvalidation_0-gini_err:0.658428\tvalidation_1-gini_err:0.670927\n",
            "[550]\tvalidation_0-error:0.33269\tvalidation_1-error:0.334497\tvalidation_0-gini_err:0.658393\tvalidation_1-gini_err:0.670907\n",
            "[551]\tvalidation_0-error:0.332678\tvalidation_1-error:0.334469\tvalidation_0-gini_err:0.658365\tvalidation_1-gini_err:0.670885\n",
            "[552]\tvalidation_0-error:0.332681\tvalidation_1-error:0.334545\tvalidation_0-gini_err:0.658337\tvalidation_1-gini_err:0.670852\n",
            "[553]\tvalidation_0-error:0.332678\tvalidation_1-error:0.334443\tvalidation_0-gini_err:0.658303\tvalidation_1-gini_err:0.670824\n",
            "[554]\tvalidation_0-error:0.332727\tvalidation_1-error:0.334418\tvalidation_0-gini_err:0.658267\tvalidation_1-gini_err:0.670797\n",
            "[555]\tvalidation_0-error:0.332718\tvalidation_1-error:0.33444\tvalidation_0-gini_err:0.658235\tvalidation_1-gini_err:0.670767\n",
            "[556]\tvalidation_0-error:0.332705\tvalidation_1-error:0.334399\tvalidation_0-gini_err:0.658195\tvalidation_1-gini_err:0.670734\n",
            "[557]\tvalidation_0-error:0.332738\tvalidation_1-error:0.334383\tvalidation_0-gini_err:0.658149\tvalidation_1-gini_err:0.6707\n",
            "[558]\tvalidation_0-error:0.33272\tvalidation_1-error:0.33443\tvalidation_0-gini_err:0.658111\tvalidation_1-gini_err:0.670667\n",
            "[559]\tvalidation_0-error:0.332748\tvalidation_1-error:0.334389\tvalidation_0-gini_err:0.65808\tvalidation_1-gini_err:0.670641\n",
            "[560]\tvalidation_0-error:0.332711\tvalidation_1-error:0.334421\tvalidation_0-gini_err:0.658024\tvalidation_1-gini_err:0.670611\n",
            "[561]\tvalidation_0-error:0.332696\tvalidation_1-error:0.334411\tvalidation_0-gini_err:0.657999\tvalidation_1-gini_err:0.670587\n",
            "[562]\tvalidation_0-error:0.332719\tvalidation_1-error:0.334475\tvalidation_0-gini_err:0.657953\tvalidation_1-gini_err:0.670543\n",
            "[563]\tvalidation_0-error:0.332711\tvalidation_1-error:0.334408\tvalidation_0-gini_err:0.657913\tvalidation_1-gini_err:0.6705\n",
            "[564]\tvalidation_0-error:0.332711\tvalidation_1-error:0.334383\tvalidation_0-gini_err:0.657865\tvalidation_1-gini_err:0.67047\n",
            "[565]\tvalidation_0-error:0.332714\tvalidation_1-error:0.334348\tvalidation_0-gini_err:0.657842\tvalidation_1-gini_err:0.670462\n",
            "[566]\tvalidation_0-error:0.33268\tvalidation_1-error:0.334418\tvalidation_0-gini_err:0.657806\tvalidation_1-gini_err:0.670431\n",
            "[567]\tvalidation_0-error:0.332655\tvalidation_1-error:0.334418\tvalidation_0-gini_err:0.657771\tvalidation_1-gini_err:0.670409\n",
            "[568]\tvalidation_0-error:0.332635\tvalidation_1-error:0.33437\tvalidation_0-gini_err:0.657731\tvalidation_1-gini_err:0.670379\n",
            "[569]\tvalidation_0-error:0.332646\tvalidation_1-error:0.334408\tvalidation_0-gini_err:0.657705\tvalidation_1-gini_err:0.670349\n",
            "[570]\tvalidation_0-error:0.33266\tvalidation_1-error:0.334399\tvalidation_0-gini_err:0.657672\tvalidation_1-gini_err:0.670326\n",
            "[571]\tvalidation_0-error:0.332652\tvalidation_1-error:0.334427\tvalidation_0-gini_err:0.657624\tvalidation_1-gini_err:0.670294\n",
            "[572]\tvalidation_0-error:0.33279\tvalidation_1-error:0.334555\tvalidation_0-gini_err:0.657495\tvalidation_1-gini_err:0.670158\n",
            "[573]\tvalidation_0-error:0.332772\tvalidation_1-error:0.334555\tvalidation_0-gini_err:0.657458\tvalidation_1-gini_err:0.670129\n",
            "[574]\tvalidation_0-error:0.33275\tvalidation_1-error:0.334504\tvalidation_0-gini_err:0.657427\tvalidation_1-gini_err:0.670105\n",
            "[575]\tvalidation_0-error:0.332774\tvalidation_1-error:0.334539\tvalidation_0-gini_err:0.657394\tvalidation_1-gini_err:0.670083\n",
            "[576]\tvalidation_0-error:0.332748\tvalidation_1-error:0.33457\tvalidation_0-gini_err:0.657357\tvalidation_1-gini_err:0.670052\n",
            "[577]\tvalidation_0-error:0.332689\tvalidation_1-error:0.334475\tvalidation_0-gini_err:0.65732\tvalidation_1-gini_err:0.670025\n",
            "[578]\tvalidation_0-error:0.332707\tvalidation_1-error:0.334434\tvalidation_0-gini_err:0.65729\tvalidation_1-gini_err:0.669993\n",
            "[579]\tvalidation_0-error:0.33271\tvalidation_1-error:0.33445\tvalidation_0-gini_err:0.657256\tvalidation_1-gini_err:0.669965\n",
            "[580]\tvalidation_0-error:0.3327\tvalidation_1-error:0.334456\tvalidation_0-gini_err:0.657213\tvalidation_1-gini_err:0.669923\n",
            "[581]\tvalidation_0-error:0.332742\tvalidation_1-error:0.334481\tvalidation_0-gini_err:0.657178\tvalidation_1-gini_err:0.669888\n",
            "[582]\tvalidation_0-error:0.33272\tvalidation_1-error:0.334462\tvalidation_0-gini_err:0.657126\tvalidation_1-gini_err:0.669853\n",
            "[583]\tvalidation_0-error:0.332703\tvalidation_1-error:0.334415\tvalidation_0-gini_err:0.657098\tvalidation_1-gini_err:0.669829\n",
            "[584]\tvalidation_0-error:0.332688\tvalidation_1-error:0.334367\tvalidation_0-gini_err:0.657065\tvalidation_1-gini_err:0.669808\n",
            "[585]\tvalidation_0-error:0.332655\tvalidation_1-error:0.334361\tvalidation_0-gini_err:0.65703\tvalidation_1-gini_err:0.66978\n",
            "[586]\tvalidation_0-error:0.332643\tvalidation_1-error:0.334335\tvalidation_0-gini_err:0.656999\tvalidation_1-gini_err:0.669755\n",
            "[587]\tvalidation_0-error:0.332614\tvalidation_1-error:0.334341\tvalidation_0-gini_err:0.656947\tvalidation_1-gini_err:0.669719\n",
            "[588]\tvalidation_0-error:0.33262\tvalidation_1-error:0.334338\tvalidation_0-gini_err:0.656917\tvalidation_1-gini_err:0.669685\n",
            "[589]\tvalidation_0-error:0.332584\tvalidation_1-error:0.334271\tvalidation_0-gini_err:0.656876\tvalidation_1-gini_err:0.669649\n",
            "[590]\tvalidation_0-error:0.332632\tvalidation_1-error:0.334313\tvalidation_0-gini_err:0.656841\tvalidation_1-gini_err:0.669622\n",
            "[591]\tvalidation_0-error:0.332618\tvalidation_1-error:0.334354\tvalidation_0-gini_err:0.656809\tvalidation_1-gini_err:0.66959\n",
            "[592]\tvalidation_0-error:0.332586\tvalidation_1-error:0.334338\tvalidation_0-gini_err:0.656774\tvalidation_1-gini_err:0.669565\n",
            "[593]\tvalidation_0-error:0.33255\tvalidation_1-error:0.334361\tvalidation_0-gini_err:0.656744\tvalidation_1-gini_err:0.669539\n",
            "[594]\tvalidation_0-error:0.332561\tvalidation_1-error:0.334329\tvalidation_0-gini_err:0.656696\tvalidation_1-gini_err:0.669504\n",
            "[595]\tvalidation_0-error:0.332556\tvalidation_1-error:0.334345\tvalidation_0-gini_err:0.656668\tvalidation_1-gini_err:0.669484\n",
            "[596]\tvalidation_0-error:0.332524\tvalidation_1-error:0.334326\tvalidation_0-gini_err:0.656635\tvalidation_1-gini_err:0.669457\n",
            "[597]\tvalidation_0-error:0.332527\tvalidation_1-error:0.334297\tvalidation_0-gini_err:0.656603\tvalidation_1-gini_err:0.669437\n",
            "[598]\tvalidation_0-error:0.332515\tvalidation_1-error:0.334294\tvalidation_0-gini_err:0.656568\tvalidation_1-gini_err:0.669404\n",
            "[599]\tvalidation_0-error:0.332536\tvalidation_1-error:0.334348\tvalidation_0-gini_err:0.656528\tvalidation_1-gini_err:0.669365\n",
            "[600]\tvalidation_0-error:0.332515\tvalidation_1-error:0.334297\tvalidation_0-gini_err:0.656478\tvalidation_1-gini_err:0.669338\n",
            "[601]\tvalidation_0-error:0.332506\tvalidation_1-error:0.334275\tvalidation_0-gini_err:0.656456\tvalidation_1-gini_err:0.669326\n",
            "[602]\tvalidation_0-error:0.332505\tvalidation_1-error:0.334278\tvalidation_0-gini_err:0.656427\tvalidation_1-gini_err:0.669303\n",
            "[603]\tvalidation_0-error:0.332491\tvalidation_1-error:0.334278\tvalidation_0-gini_err:0.656396\tvalidation_1-gini_err:0.669277\n",
            "[604]\tvalidation_0-error:0.332467\tvalidation_1-error:0.334265\tvalidation_0-gini_err:0.656364\tvalidation_1-gini_err:0.669252\n",
            "[605]\tvalidation_0-error:0.332479\tvalidation_1-error:0.334249\tvalidation_0-gini_err:0.65633\tvalidation_1-gini_err:0.669229\n",
            "[606]\tvalidation_0-error:0.332468\tvalidation_1-error:0.334287\tvalidation_0-gini_err:0.656304\tvalidation_1-gini_err:0.669204\n",
            "[607]\tvalidation_0-error:0.332479\tvalidation_1-error:0.334284\tvalidation_0-gini_err:0.65627\tvalidation_1-gini_err:0.669175\n",
            "[608]\tvalidation_0-error:0.332489\tvalidation_1-error:0.334217\tvalidation_0-gini_err:0.656221\tvalidation_1-gini_err:0.669141\n",
            "[609]\tvalidation_0-error:0.3325\tvalidation_1-error:0.33424\tvalidation_0-gini_err:0.656194\tvalidation_1-gini_err:0.669111\n",
            "[610]\tvalidation_0-error:0.332485\tvalidation_1-error:0.334278\tvalidation_0-gini_err:0.656153\tvalidation_1-gini_err:0.669077\n",
            "[611]\tvalidation_0-error:0.332441\tvalidation_1-error:0.334243\tvalidation_0-gini_err:0.656126\tvalidation_1-gini_err:0.669055\n",
            "[612]\tvalidation_0-error:0.332451\tvalidation_1-error:0.33423\tvalidation_0-gini_err:0.6561\tvalidation_1-gini_err:0.669036\n",
            "[613]\tvalidation_0-error:0.332425\tvalidation_1-error:0.33424\tvalidation_0-gini_err:0.656067\tvalidation_1-gini_err:0.669008\n",
            "[614]\tvalidation_0-error:0.332437\tvalidation_1-error:0.334319\tvalidation_0-gini_err:0.656038\tvalidation_1-gini_err:0.668984\n",
            "[615]\tvalidation_0-error:0.332427\tvalidation_1-error:0.334335\tvalidation_0-gini_err:0.656005\tvalidation_1-gini_err:0.668964\n",
            "[616]\tvalidation_0-error:0.332453\tvalidation_1-error:0.334319\tvalidation_0-gini_err:0.655975\tvalidation_1-gini_err:0.668934\n",
            "[617]\tvalidation_0-error:0.332437\tvalidation_1-error:0.33431\tvalidation_0-gini_err:0.655939\tvalidation_1-gini_err:0.668897\n",
            "[618]\tvalidation_0-error:0.332478\tvalidation_1-error:0.3343\tvalidation_0-gini_err:0.655904\tvalidation_1-gini_err:0.668863\n",
            "[619]\tvalidation_0-error:0.332494\tvalidation_1-error:0.334348\tvalidation_0-gini_err:0.655858\tvalidation_1-gini_err:0.66883\n",
            "[620]\tvalidation_0-error:0.33249\tvalidation_1-error:0.334291\tvalidation_0-gini_err:0.655829\tvalidation_1-gini_err:0.668812\n",
            "[621]\tvalidation_0-error:0.33253\tvalidation_1-error:0.334306\tvalidation_0-gini_err:0.655802\tvalidation_1-gini_err:0.668781\n",
            "[622]\tvalidation_0-error:0.332502\tvalidation_1-error:0.334338\tvalidation_0-gini_err:0.655777\tvalidation_1-gini_err:0.66876\n",
            "[623]\tvalidation_0-error:0.332486\tvalidation_1-error:0.334364\tvalidation_0-gini_err:0.655755\tvalidation_1-gini_err:0.668748\n",
            "[624]\tvalidation_0-error:0.332516\tvalidation_1-error:0.334364\tvalidation_0-gini_err:0.655726\tvalidation_1-gini_err:0.668722\n",
            "[625]\tvalidation_0-error:0.332498\tvalidation_1-error:0.334357\tvalidation_0-gini_err:0.655686\tvalidation_1-gini_err:0.668693\n",
            "[626]\tvalidation_0-error:0.332501\tvalidation_1-error:0.334357\tvalidation_0-gini_err:0.655655\tvalidation_1-gini_err:0.668664\n",
            "[627]\tvalidation_0-error:0.332498\tvalidation_1-error:0.334373\tvalidation_0-gini_err:0.655618\tvalidation_1-gini_err:0.668638\n",
            "[628]\tvalidation_0-error:0.332531\tvalidation_1-error:0.334408\tvalidation_0-gini_err:0.655587\tvalidation_1-gini_err:0.668616\n",
            "[629]\tvalidation_0-error:0.332519\tvalidation_1-error:0.334427\tvalidation_0-gini_err:0.655556\tvalidation_1-gini_err:0.668601\n",
            "[630]\tvalidation_0-error:0.332508\tvalidation_1-error:0.334386\tvalidation_0-gini_err:0.655536\tvalidation_1-gini_err:0.66859\n",
            "[631]\tvalidation_0-error:0.332485\tvalidation_1-error:0.334354\tvalidation_0-gini_err:0.6555\tvalidation_1-gini_err:0.668573\n",
            "[632]\tvalidation_0-error:0.332481\tvalidation_1-error:0.334399\tvalidation_0-gini_err:0.655476\tvalidation_1-gini_err:0.668552\n",
            "[633]\tvalidation_0-error:0.33247\tvalidation_1-error:0.334361\tvalidation_0-gini_err:0.655448\tvalidation_1-gini_err:0.668534\n",
            "[634]\tvalidation_0-error:0.332462\tvalidation_1-error:0.334338\tvalidation_0-gini_err:0.655424\tvalidation_1-gini_err:0.668514\n",
            "[635]\tvalidation_0-error:0.332496\tvalidation_1-error:0.33437\tvalidation_0-gini_err:0.6554\tvalidation_1-gini_err:0.668493\n",
            "[636]\tvalidation_0-error:0.332527\tvalidation_1-error:0.334418\tvalidation_0-gini_err:0.655358\tvalidation_1-gini_err:0.668463\n",
            "[637]\tvalidation_0-error:0.332571\tvalidation_1-error:0.334402\tvalidation_0-gini_err:0.6553\tvalidation_1-gini_err:0.668404\n",
            "[638]\tvalidation_0-error:0.332662\tvalidation_1-error:0.334437\tvalidation_0-gini_err:0.655203\tvalidation_1-gini_err:0.668299\n",
            "[639]\tvalidation_0-error:0.332616\tvalidation_1-error:0.33443\tvalidation_0-gini_err:0.655171\tvalidation_1-gini_err:0.668286\n",
            "[640]\tvalidation_0-error:0.33264\tvalidation_1-error:0.334465\tvalidation_0-gini_err:0.655141\tvalidation_1-gini_err:0.668261\n",
            "[641]\tvalidation_0-error:0.332648\tvalidation_1-error:0.334456\tvalidation_0-gini_err:0.65511\tvalidation_1-gini_err:0.668238\n",
            "[642]\tvalidation_0-error:0.332665\tvalidation_1-error:0.334462\tvalidation_0-gini_err:0.65509\tvalidation_1-gini_err:0.668225\n",
            "[643]\tvalidation_0-error:0.332665\tvalidation_1-error:0.33445\tvalidation_0-gini_err:0.655064\tvalidation_1-gini_err:0.668203\n",
            "[644]\tvalidation_0-error:0.332699\tvalidation_1-error:0.334446\tvalidation_0-gini_err:0.655028\tvalidation_1-gini_err:0.668172\n",
            "[645]\tvalidation_0-error:0.332715\tvalidation_1-error:0.334488\tvalidation_0-gini_err:0.654992\tvalidation_1-gini_err:0.668145\n",
            "[646]\tvalidation_0-error:0.332711\tvalidation_1-error:0.334497\tvalidation_0-gini_err:0.654959\tvalidation_1-gini_err:0.66813\n",
            "[647]\tvalidation_0-error:0.332708\tvalidation_1-error:0.334497\tvalidation_0-gini_err:0.654927\tvalidation_1-gini_err:0.66809\n",
            "[648]\tvalidation_0-error:0.332635\tvalidation_1-error:0.334472\tvalidation_0-gini_err:0.654898\tvalidation_1-gini_err:0.66807\n",
            "[649]\tvalidation_0-error:0.332605\tvalidation_1-error:0.334472\tvalidation_0-gini_err:0.654871\tvalidation_1-gini_err:0.668049\n",
            "[650]\tvalidation_0-error:0.332666\tvalidation_1-error:0.334443\tvalidation_0-gini_err:0.654843\tvalidation_1-gini_err:0.668024\n",
            "[651]\tvalidation_0-error:0.332666\tvalidation_1-error:0.334462\tvalidation_0-gini_err:0.654818\tvalidation_1-gini_err:0.667994\n",
            "[652]\tvalidation_0-error:0.332643\tvalidation_1-error:0.334491\tvalidation_0-gini_err:0.654784\tvalidation_1-gini_err:0.667978\n",
            "[653]\tvalidation_0-error:0.332609\tvalidation_1-error:0.334469\tvalidation_0-gini_err:0.654759\tvalidation_1-gini_err:0.667958\n",
            "[654]\tvalidation_0-error:0.332577\tvalidation_1-error:0.334443\tvalidation_0-gini_err:0.654727\tvalidation_1-gini_err:0.667928\n",
            "[655]\tvalidation_0-error:0.332584\tvalidation_1-error:0.334411\tvalidation_0-gini_err:0.654692\tvalidation_1-gini_err:0.6679\n",
            "[656]\tvalidation_0-error:0.332625\tvalidation_1-error:0.334469\tvalidation_0-gini_err:0.654672\tvalidation_1-gini_err:0.667875\n",
            "[657]\tvalidation_0-error:0.332617\tvalidation_1-error:0.334415\tvalidation_0-gini_err:0.654631\tvalidation_1-gini_err:0.66785\n",
            "[658]\tvalidation_0-error:0.332782\tvalidation_1-error:0.334599\tvalidation_0-gini_err:0.654525\tvalidation_1-gini_err:0.667735\n",
            "[659]\tvalidation_0-error:0.332805\tvalidation_1-error:0.334615\tvalidation_0-gini_err:0.654497\tvalidation_1-gini_err:0.667716\n",
            "[660]\tvalidation_0-error:0.332798\tvalidation_1-error:0.334583\tvalidation_0-gini_err:0.654464\tvalidation_1-gini_err:0.6677\n",
            "[661]\tvalidation_0-error:0.332757\tvalidation_1-error:0.334535\tvalidation_0-gini_err:0.654437\tvalidation_1-gini_err:0.667684\n",
            "[662]\tvalidation_0-error:0.332783\tvalidation_1-error:0.334539\tvalidation_0-gini_err:0.654375\tvalidation_1-gini_err:0.667624\n",
            "[663]\tvalidation_0-error:0.332727\tvalidation_1-error:0.334507\tvalidation_0-gini_err:0.654343\tvalidation_1-gini_err:0.667605\n",
            "[664]\tvalidation_0-error:0.332746\tvalidation_1-error:0.33452\tvalidation_0-gini_err:0.654316\tvalidation_1-gini_err:0.667581\n",
            "[665]\tvalidation_0-error:0.332779\tvalidation_1-error:0.334513\tvalidation_0-gini_err:0.654278\tvalidation_1-gini_err:0.66755\n",
            "[666]\tvalidation_0-error:0.332819\tvalidation_1-error:0.3345\tvalidation_0-gini_err:0.654247\tvalidation_1-gini_err:0.667523\n",
            "[667]\tvalidation_0-error:0.332817\tvalidation_1-error:0.334485\tvalidation_0-gini_err:0.654207\tvalidation_1-gini_err:0.667502\n",
            "[668]\tvalidation_0-error:0.332805\tvalidation_1-error:0.334478\tvalidation_0-gini_err:0.654189\tvalidation_1-gini_err:0.667484\n",
            "[669]\tvalidation_0-error:0.332824\tvalidation_1-error:0.334545\tvalidation_0-gini_err:0.654166\tvalidation_1-gini_err:0.667468\n",
            "[670]\tvalidation_0-error:0.332808\tvalidation_1-error:0.334507\tvalidation_0-gini_err:0.654134\tvalidation_1-gini_err:0.667444\n",
            "[671]\tvalidation_0-error:0.3328\tvalidation_1-error:0.334478\tvalidation_0-gini_err:0.654112\tvalidation_1-gini_err:0.667428\n",
            "[672]\tvalidation_0-error:0.332805\tvalidation_1-error:0.334456\tvalidation_0-gini_err:0.654085\tvalidation_1-gini_err:0.667409\n",
            "[673]\tvalidation_0-error:0.332883\tvalidation_1-error:0.334551\tvalidation_0-gini_err:0.65403\tvalidation_1-gini_err:0.667353\n",
            "[674]\tvalidation_0-error:0.332819\tvalidation_1-error:0.3345\tvalidation_0-gini_err:0.654004\tvalidation_1-gini_err:0.66733\n",
            "[675]\tvalidation_0-error:0.332869\tvalidation_1-error:0.334618\tvalidation_0-gini_err:0.653972\tvalidation_1-gini_err:0.667306\n",
            "[676]\tvalidation_0-error:0.332868\tvalidation_1-error:0.33465\tvalidation_0-gini_err:0.653949\tvalidation_1-gini_err:0.66729\n",
            "[677]\tvalidation_0-error:0.332869\tvalidation_1-error:0.334612\tvalidation_0-gini_err:0.653921\tvalidation_1-gini_err:0.667265\n",
            "[678]\tvalidation_0-error:0.332831\tvalidation_1-error:0.334596\tvalidation_0-gini_err:0.653891\tvalidation_1-gini_err:0.667238\n",
            "[679]\tvalidation_0-error:0.332929\tvalidation_1-error:0.334701\tvalidation_0-gini_err:0.653789\tvalidation_1-gini_err:0.667129\n",
            "[680]\tvalidation_0-error:0.332921\tvalidation_1-error:0.334707\tvalidation_0-gini_err:0.653757\tvalidation_1-gini_err:0.667099\n",
            "[681]\tvalidation_0-error:0.332944\tvalidation_1-error:0.334653\tvalidation_0-gini_err:0.653734\tvalidation_1-gini_err:0.667084\n",
            "[682]\tvalidation_0-error:0.332962\tvalidation_1-error:0.334679\tvalidation_0-gini_err:0.653708\tvalidation_1-gini_err:0.667067\n",
            "[683]\tvalidation_0-error:0.332955\tvalidation_1-error:0.334688\tvalidation_0-gini_err:0.65368\tvalidation_1-gini_err:0.667055\n",
            "[684]\tvalidation_0-error:0.332979\tvalidation_1-error:0.334726\tvalidation_0-gini_err:0.65365\tvalidation_1-gini_err:0.66703\n",
            "[685]\tvalidation_0-error:0.332962\tvalidation_1-error:0.334644\tvalidation_0-gini_err:0.653624\tvalidation_1-gini_err:0.667013\n",
            "[686]\tvalidation_0-error:0.332949\tvalidation_1-error:0.334653\tvalidation_0-gini_err:0.653599\tvalidation_1-gini_err:0.66699\n",
            "[687]\tvalidation_0-error:0.332925\tvalidation_1-error:0.334596\tvalidation_0-gini_err:0.653569\tvalidation_1-gini_err:0.666962\n",
            "[688]\tvalidation_0-error:0.332922\tvalidation_1-error:0.334656\tvalidation_0-gini_err:0.653532\tvalidation_1-gini_err:0.666917\n",
            "[689]\tvalidation_0-error:0.332944\tvalidation_1-error:0.334605\tvalidation_0-gini_err:0.653499\tvalidation_1-gini_err:0.666889\n",
            "[690]\tvalidation_0-error:0.332954\tvalidation_1-error:0.334675\tvalidation_0-gini_err:0.653463\tvalidation_1-gini_err:0.66686\n",
            "[691]\tvalidation_0-error:0.332943\tvalidation_1-error:0.334682\tvalidation_0-gini_err:0.653441\tvalidation_1-gini_err:0.666838\n",
            "[692]\tvalidation_0-error:0.33296\tvalidation_1-error:0.334637\tvalidation_0-gini_err:0.653402\tvalidation_1-gini_err:0.666815\n",
            "[693]\tvalidation_0-error:0.332979\tvalidation_1-error:0.334634\tvalidation_0-gini_err:0.653383\tvalidation_1-gini_err:0.666798\n",
            "[694]\tvalidation_0-error:0.332971\tvalidation_1-error:0.334647\tvalidation_0-gini_err:0.653362\tvalidation_1-gini_err:0.666779\n",
            "[695]\tvalidation_0-error:0.332997\tvalidation_1-error:0.334666\tvalidation_0-gini_err:0.653338\tvalidation_1-gini_err:0.666764\n",
            "[696]\tvalidation_0-error:0.332978\tvalidation_1-error:0.334628\tvalidation_0-gini_err:0.653308\tvalidation_1-gini_err:0.666738\n",
            "[697]\tvalidation_0-error:0.332997\tvalidation_1-error:0.334656\tvalidation_0-gini_err:0.653279\tvalidation_1-gini_err:0.666722\n",
            "[698]\tvalidation_0-error:0.332959\tvalidation_1-error:0.334656\tvalidation_0-gini_err:0.653258\tvalidation_1-gini_err:0.666707\n",
            "[699]\tvalidation_0-error:0.332956\tvalidation_1-error:0.334644\tvalidation_0-gini_err:0.653232\tvalidation_1-gini_err:0.666686\n",
            "[700]\tvalidation_0-error:0.332955\tvalidation_1-error:0.334602\tvalidation_0-gini_err:0.653197\tvalidation_1-gini_err:0.666657\n",
            "[701]\tvalidation_0-error:0.332973\tvalidation_1-error:0.334698\tvalidation_0-gini_err:0.653147\tvalidation_1-gini_err:0.666607\n",
            "[702]\tvalidation_0-error:0.332964\tvalidation_1-error:0.33471\tvalidation_0-gini_err:0.65312\tvalidation_1-gini_err:0.666585\n",
            "[703]\tvalidation_0-error:0.332971\tvalidation_1-error:0.33472\tvalidation_0-gini_err:0.653089\tvalidation_1-gini_err:0.666552\n",
            "[704]\tvalidation_0-error:0.332954\tvalidation_1-error:0.334707\tvalidation_0-gini_err:0.65307\tvalidation_1-gini_err:0.666537\n",
            "[705]\tvalidation_0-error:0.332973\tvalidation_1-error:0.33471\tvalidation_0-gini_err:0.653042\tvalidation_1-gini_err:0.666522\n",
            "[706]\tvalidation_0-error:0.332974\tvalidation_1-error:0.334694\tvalidation_0-gini_err:0.653001\tvalidation_1-gini_err:0.666482\n",
            "[707]\tvalidation_0-error:0.332993\tvalidation_1-error:0.334682\tvalidation_0-gini_err:0.652977\tvalidation_1-gini_err:0.666465\n",
            "[708]\tvalidation_0-error:0.332947\tvalidation_1-error:0.334666\tvalidation_0-gini_err:0.65295\tvalidation_1-gini_err:0.666449\n",
            "[709]\tvalidation_0-error:0.332941\tvalidation_1-error:0.334691\tvalidation_0-gini_err:0.652925\tvalidation_1-gini_err:0.666431\n",
            "[710]\tvalidation_0-error:0.332996\tvalidation_1-error:0.334736\tvalidation_0-gini_err:0.652882\tvalidation_1-gini_err:0.666392\n",
            "[711]\tvalidation_0-error:0.332954\tvalidation_1-error:0.334688\tvalidation_0-gini_err:0.652854\tvalidation_1-gini_err:0.666365\n",
            "[712]\tvalidation_0-error:0.332975\tvalidation_1-error:0.334669\tvalidation_0-gini_err:0.652831\tvalidation_1-gini_err:0.666349\n",
            "[713]\tvalidation_0-error:0.332944\tvalidation_1-error:0.334698\tvalidation_0-gini_err:0.652813\tvalidation_1-gini_err:0.666336\n",
            "[714]\tvalidation_0-error:0.332934\tvalidation_1-error:0.334679\tvalidation_0-gini_err:0.65279\tvalidation_1-gini_err:0.666315\n",
            "[715]\tvalidation_0-error:0.332929\tvalidation_1-error:0.334694\tvalidation_0-gini_err:0.652763\tvalidation_1-gini_err:0.6663\n",
            "[716]\tvalidation_0-error:0.332888\tvalidation_1-error:0.33472\tvalidation_0-gini_err:0.652724\tvalidation_1-gini_err:0.666265\n",
            "[717]\tvalidation_0-error:0.332911\tvalidation_1-error:0.334682\tvalidation_0-gini_err:0.652706\tvalidation_1-gini_err:0.666251\n",
            "[718]\tvalidation_0-error:0.332933\tvalidation_1-error:0.334682\tvalidation_0-gini_err:0.652683\tvalidation_1-gini_err:0.666239\n",
            "[719]\tvalidation_0-error:0.332933\tvalidation_1-error:0.334682\tvalidation_0-gini_err:0.652645\tvalidation_1-gini_err:0.666212\n",
            "[720]\tvalidation_0-error:0.332877\tvalidation_1-error:0.334621\tvalidation_0-gini_err:0.652624\tvalidation_1-gini_err:0.666197\n",
            "[721]\tvalidation_0-error:0.332895\tvalidation_1-error:0.334688\tvalidation_0-gini_err:0.652602\tvalidation_1-gini_err:0.666181\n",
            "[722]\tvalidation_0-error:0.332888\tvalidation_1-error:0.334707\tvalidation_0-gini_err:0.652577\tvalidation_1-gini_err:0.666164\n",
            "[723]\tvalidation_0-error:0.332906\tvalidation_1-error:0.33472\tvalidation_0-gini_err:0.652556\tvalidation_1-gini_err:0.666145\n",
            "[724]\tvalidation_0-error:0.33294\tvalidation_1-error:0.334749\tvalidation_0-gini_err:0.652534\tvalidation_1-gini_err:0.666127\n",
            "[725]\tvalidation_0-error:0.333008\tvalidation_1-error:0.334752\tvalidation_0-gini_err:0.652506\tvalidation_1-gini_err:0.666097\n",
            "[726]\tvalidation_0-error:0.332969\tvalidation_1-error:0.334729\tvalidation_0-gini_err:0.652489\tvalidation_1-gini_err:0.666089\n",
            "[727]\tvalidation_0-error:0.332984\tvalidation_1-error:0.334758\tvalidation_0-gini_err:0.652463\tvalidation_1-gini_err:0.666077\n",
            "[728]\tvalidation_0-error:0.332985\tvalidation_1-error:0.334742\tvalidation_0-gini_err:0.65244\tvalidation_1-gini_err:0.666062\n",
            "[729]\tvalidation_0-error:0.333001\tvalidation_1-error:0.334764\tvalidation_0-gini_err:0.652423\tvalidation_1-gini_err:0.666049\n",
            "[730]\tvalidation_0-error:0.332986\tvalidation_1-error:0.334729\tvalidation_0-gini_err:0.652389\tvalidation_1-gini_err:0.666023\n",
            "[731]\tvalidation_0-error:0.332962\tvalidation_1-error:0.334736\tvalidation_0-gini_err:0.652364\tvalidation_1-gini_err:0.66601\n",
            "[732]\tvalidation_0-error:0.332989\tvalidation_1-error:0.334714\tvalidation_0-gini_err:0.652325\tvalidation_1-gini_err:0.665969\n",
            "[733]\tvalidation_0-error:0.33299\tvalidation_1-error:0.334745\tvalidation_0-gini_err:0.652295\tvalidation_1-gini_err:0.665945\n",
            "[734]\tvalidation_0-error:0.333015\tvalidation_1-error:0.334758\tvalidation_0-gini_err:0.652283\tvalidation_1-gini_err:0.665936\n",
            "[735]\tvalidation_0-error:0.333018\tvalidation_1-error:0.334729\tvalidation_0-gini_err:0.652244\tvalidation_1-gini_err:0.665901\n",
            "[736]\tvalidation_0-error:0.333027\tvalidation_1-error:0.334799\tvalidation_0-gini_err:0.65222\tvalidation_1-gini_err:0.665886\n",
            "[737]\tvalidation_0-error:0.332992\tvalidation_1-error:0.334841\tvalidation_0-gini_err:0.652201\tvalidation_1-gini_err:0.66587\n",
            "[738]\tvalidation_0-error:0.333038\tvalidation_1-error:0.334796\tvalidation_0-gini_err:0.652165\tvalidation_1-gini_err:0.665841\n",
            "[739]\tvalidation_0-error:0.333057\tvalidation_1-error:0.334825\tvalidation_0-gini_err:0.65214\tvalidation_1-gini_err:0.665828\n",
            "[740]\tvalidation_0-error:0.333035\tvalidation_1-error:0.334822\tvalidation_0-gini_err:0.652116\tvalidation_1-gini_err:0.665814\n",
            "[741]\tvalidation_0-error:0.333072\tvalidation_1-error:0.334831\tvalidation_0-gini_err:0.652091\tvalidation_1-gini_err:0.665799\n",
            "[742]\tvalidation_0-error:0.333084\tvalidation_1-error:0.334911\tvalidation_0-gini_err:0.652055\tvalidation_1-gini_err:0.665759\n",
            "[743]\tvalidation_0-error:0.333065\tvalidation_1-error:0.334917\tvalidation_0-gini_err:0.65203\tvalidation_1-gini_err:0.665749\n",
            "[744]\tvalidation_0-error:0.333101\tvalidation_1-error:0.334917\tvalidation_0-gini_err:0.651986\tvalidation_1-gini_err:0.665704\n",
            "[745]\tvalidation_0-error:0.333095\tvalidation_1-error:0.334965\tvalidation_0-gini_err:0.651958\tvalidation_1-gini_err:0.665685\n",
            "[746]\tvalidation_0-error:0.333087\tvalidation_1-error:0.334958\tvalidation_0-gini_err:0.651928\tvalidation_1-gini_err:0.665662\n",
            "[747]\tvalidation_0-error:0.333143\tvalidation_1-error:0.335003\tvalidation_0-gini_err:0.651847\tvalidation_1-gini_err:0.665578\n",
            "[748]\tvalidation_0-error:0.333158\tvalidation_1-error:0.334984\tvalidation_0-gini_err:0.651823\tvalidation_1-gini_err:0.665565\n",
            "[749]\tvalidation_0-error:0.333133\tvalidation_1-error:0.334977\tvalidation_0-gini_err:0.651804\tvalidation_1-gini_err:0.665555\n",
            "[750]\tvalidation_0-error:0.333155\tvalidation_1-error:0.334993\tvalidation_0-gini_err:0.651779\tvalidation_1-gini_err:0.665534\n",
            "[751]\tvalidation_0-error:0.333128\tvalidation_1-error:0.334993\tvalidation_0-gini_err:0.651758\tvalidation_1-gini_err:0.665518\n",
            "[752]\tvalidation_0-error:0.33318\tvalidation_1-error:0.335063\tvalidation_0-gini_err:0.651726\tvalidation_1-gini_err:0.665491\n",
            "[753]\tvalidation_0-error:0.333172\tvalidation_1-error:0.335047\tvalidation_0-gini_err:0.651701\tvalidation_1-gini_err:0.665469\n",
            "[754]\tvalidation_0-error:0.333174\tvalidation_1-error:0.335063\tvalidation_0-gini_err:0.651678\tvalidation_1-gini_err:0.665455\n",
            "[755]\tvalidation_0-error:0.333191\tvalidation_1-error:0.335143\tvalidation_0-gini_err:0.651652\tvalidation_1-gini_err:0.665427\n",
            "[756]\tvalidation_0-error:0.333178\tvalidation_1-error:0.335191\tvalidation_0-gini_err:0.651631\tvalidation_1-gini_err:0.665414\n",
            "[757]\tvalidation_0-error:0.333143\tvalidation_1-error:0.335127\tvalidation_0-gini_err:0.651594\tvalidation_1-gini_err:0.665382\n",
            "[758]\tvalidation_0-error:0.333173\tvalidation_1-error:0.335108\tvalidation_0-gini_err:0.65156\tvalidation_1-gini_err:0.665362\n",
            "[759]\tvalidation_0-error:0.333225\tvalidation_1-error:0.335156\tvalidation_0-gini_err:0.651481\tvalidation_1-gini_err:0.665281\n",
            "[760]\tvalidation_0-error:0.333188\tvalidation_1-error:0.335124\tvalidation_0-gini_err:0.651461\tvalidation_1-gini_err:0.665271\n",
            "[761]\tvalidation_0-error:0.33323\tvalidation_1-error:0.335143\tvalidation_0-gini_err:0.651442\tvalidation_1-gini_err:0.665257\n",
            "[762]\tvalidation_0-error:0.333242\tvalidation_1-error:0.335149\tvalidation_0-gini_err:0.651423\tvalidation_1-gini_err:0.665244\n",
            "[763]\tvalidation_0-error:0.333241\tvalidation_1-error:0.335194\tvalidation_0-gini_err:0.651403\tvalidation_1-gini_err:0.665227\n",
            "[764]\tvalidation_0-error:0.333229\tvalidation_1-error:0.335175\tvalidation_0-gini_err:0.651387\tvalidation_1-gini_err:0.665217\n",
            "[765]\tvalidation_0-error:0.333223\tvalidation_1-error:0.335187\tvalidation_0-gini_err:0.651359\tvalidation_1-gini_err:0.665194\n",
            "[766]\tvalidation_0-error:0.333252\tvalidation_1-error:0.335191\tvalidation_0-gini_err:0.651327\tvalidation_1-gini_err:0.665174\n",
            "[767]\tvalidation_0-error:0.333222\tvalidation_1-error:0.3352\tvalidation_0-gini_err:0.651296\tvalidation_1-gini_err:0.665144\n",
            "[768]\tvalidation_0-error:0.333212\tvalidation_1-error:0.335149\tvalidation_0-gini_err:0.65127\tvalidation_1-gini_err:0.665122\n",
            "[769]\tvalidation_0-error:0.333232\tvalidation_1-error:0.335143\tvalidation_0-gini_err:0.651244\tvalidation_1-gini_err:0.665107\n",
            "[770]\tvalidation_0-error:0.333238\tvalidation_1-error:0.335191\tvalidation_0-gini_err:0.65122\tvalidation_1-gini_err:0.665091\n",
            "[771]\tvalidation_0-error:0.333242\tvalidation_1-error:0.335222\tvalidation_0-gini_err:0.651193\tvalidation_1-gini_err:0.665067\n",
            "[772]\tvalidation_0-error:0.333264\tvalidation_1-error:0.335238\tvalidation_0-gini_err:0.651158\tvalidation_1-gini_err:0.665029\n",
            "[773]\tvalidation_0-error:0.333266\tvalidation_1-error:0.33527\tvalidation_0-gini_err:0.651128\tvalidation_1-gini_err:0.665001\n",
            "[774]\tvalidation_0-error:0.33329\tvalidation_1-error:0.335295\tvalidation_0-gini_err:0.651106\tvalidation_1-gini_err:0.664988\n",
            "[775]\tvalidation_0-error:0.333266\tvalidation_1-error:0.335264\tvalidation_0-gini_err:0.651083\tvalidation_1-gini_err:0.664979\n",
            "[776]\tvalidation_0-error:0.333298\tvalidation_1-error:0.335257\tvalidation_0-gini_err:0.65107\tvalidation_1-gini_err:0.664969\n",
            "[777]\tvalidation_0-error:0.333277\tvalidation_1-error:0.335295\tvalidation_0-gini_err:0.651051\tvalidation_1-gini_err:0.664954\n",
            "[778]\tvalidation_0-error:0.333234\tvalidation_1-error:0.33533\tvalidation_0-gini_err:0.65103\tvalidation_1-gini_err:0.664939\n",
            "[779]\tvalidation_0-error:0.333307\tvalidation_1-error:0.335372\tvalidation_0-gini_err:0.650984\tvalidation_1-gini_err:0.664889\n",
            "[780]\tvalidation_0-error:0.333298\tvalidation_1-error:0.335394\tvalidation_0-gini_err:0.650966\tvalidation_1-gini_err:0.664874\n",
            "[781]\tvalidation_0-error:0.333319\tvalidation_1-error:0.335378\tvalidation_0-gini_err:0.650943\tvalidation_1-gini_err:0.664856\n",
            "[782]\tvalidation_0-error:0.333361\tvalidation_1-error:0.335404\tvalidation_0-gini_err:0.65091\tvalidation_1-gini_err:0.66482\n",
            "[783]\tvalidation_0-error:0.333373\tvalidation_1-error:0.335394\tvalidation_0-gini_err:0.650887\tvalidation_1-gini_err:0.664806\n",
            "[784]\tvalidation_0-error:0.333341\tvalidation_1-error:0.335381\tvalidation_0-gini_err:0.650864\tvalidation_1-gini_err:0.66479\n",
            "[785]\tvalidation_0-error:0.333369\tvalidation_1-error:0.335435\tvalidation_0-gini_err:0.65084\tvalidation_1-gini_err:0.664774\n",
            "[786]\tvalidation_0-error:0.333342\tvalidation_1-error:0.33541\tvalidation_0-gini_err:0.65082\tvalidation_1-gini_err:0.664756\n",
            "[787]\tvalidation_0-error:0.333326\tvalidation_1-error:0.335391\tvalidation_0-gini_err:0.650795\tvalidation_1-gini_err:0.664738\n",
            "[788]\tvalidation_0-error:0.333335\tvalidation_1-error:0.33541\tvalidation_0-gini_err:0.650775\tvalidation_1-gini_err:0.664725\n",
            "[789]\tvalidation_0-error:0.333302\tvalidation_1-error:0.335369\tvalidation_0-gini_err:0.650745\tvalidation_1-gini_err:0.664697\n",
            "[790]\tvalidation_0-error:0.33333\tvalidation_1-error:0.335426\tvalidation_0-gini_err:0.650721\tvalidation_1-gini_err:0.664672\n",
            "[791]\tvalidation_0-error:0.33332\tvalidation_1-error:0.335423\tvalidation_0-gini_err:0.650704\tvalidation_1-gini_err:0.664663\n",
            "[792]\tvalidation_0-error:0.333324\tvalidation_1-error:0.335442\tvalidation_0-gini_err:0.650676\tvalidation_1-gini_err:0.664639\n",
            "[793]\tvalidation_0-error:0.33332\tvalidation_1-error:0.335407\tvalidation_0-gini_err:0.650656\tvalidation_1-gini_err:0.664626\n",
            "[794]\tvalidation_0-error:0.333297\tvalidation_1-error:0.335423\tvalidation_0-gini_err:0.650636\tvalidation_1-gini_err:0.664614\n",
            "[795]\tvalidation_0-error:0.333339\tvalidation_1-error:0.335385\tvalidation_0-gini_err:0.650619\tvalidation_1-gini_err:0.664598\n",
            "[796]\tvalidation_0-error:0.33341\tvalidation_1-error:0.335537\tvalidation_0-gini_err:0.65053\tvalidation_1-gini_err:0.664502\n",
            "[797]\tvalidation_0-error:0.33341\tvalidation_1-error:0.335528\tvalidation_0-gini_err:0.650503\tvalidation_1-gini_err:0.66448\n",
            "[798]\tvalidation_0-error:0.333405\tvalidation_1-error:0.335474\tvalidation_0-gini_err:0.650482\tvalidation_1-gini_err:0.664469\n",
            "[799]\tvalidation_0-error:0.333495\tvalidation_1-error:0.335607\tvalidation_0-gini_err:0.650409\tvalidation_1-gini_err:0.664398\n",
            "[800]\tvalidation_0-error:0.333488\tvalidation_1-error:0.335559\tvalidation_0-gini_err:0.65039\tvalidation_1-gini_err:0.664385\n",
            "[801]\tvalidation_0-error:0.333452\tvalidation_1-error:0.335509\tvalidation_0-gini_err:0.65037\tvalidation_1-gini_err:0.664374\n",
            "[802]\tvalidation_0-error:0.33348\tvalidation_1-error:0.33554\tvalidation_0-gini_err:0.650347\tvalidation_1-gini_err:0.664359\n",
            "[803]\tvalidation_0-error:0.333463\tvalidation_1-error:0.335559\tvalidation_0-gini_err:0.650322\tvalidation_1-gini_err:0.664342\n",
            "[804]\tvalidation_0-error:0.333458\tvalidation_1-error:0.335575\tvalidation_0-gini_err:0.650285\tvalidation_1-gini_err:0.664323\n",
            "[805]\tvalidation_0-error:0.333441\tvalidation_1-error:0.335566\tvalidation_0-gini_err:0.650264\tvalidation_1-gini_err:0.664303\n",
            "[806]\tvalidation_0-error:0.333455\tvalidation_1-error:0.335575\tvalidation_0-gini_err:0.650249\tvalidation_1-gini_err:0.664291\n",
            "[807]\tvalidation_0-error:0.333503\tvalidation_1-error:0.33561\tvalidation_0-gini_err:0.650211\tvalidation_1-gini_err:0.664248\n",
            "[808]\tvalidation_0-error:0.333485\tvalidation_1-error:0.335607\tvalidation_0-gini_err:0.650178\tvalidation_1-gini_err:0.664232\n",
            "[809]\tvalidation_0-error:0.333488\tvalidation_1-error:0.335607\tvalidation_0-gini_err:0.650152\tvalidation_1-gini_err:0.664209\n",
            "[810]\tvalidation_0-error:0.333473\tvalidation_1-error:0.335601\tvalidation_0-gini_err:0.650133\tvalidation_1-gini_err:0.664199\n",
            "[811]\tvalidation_0-error:0.33351\tvalidation_1-error:0.335569\tvalidation_0-gini_err:0.650112\tvalidation_1-gini_err:0.664183\n",
            "[812]\tvalidation_0-error:0.333488\tvalidation_1-error:0.33561\tvalidation_0-gini_err:0.650077\tvalidation_1-gini_err:0.664165\n",
            "[813]\tvalidation_0-error:0.333501\tvalidation_1-error:0.335566\tvalidation_0-gini_err:0.65006\tvalidation_1-gini_err:0.664156\n",
            "[814]\tvalidation_0-error:0.333519\tvalidation_1-error:0.335591\tvalidation_0-gini_err:0.650042\tvalidation_1-gini_err:0.664143\n",
            "[815]\tvalidation_0-error:0.333511\tvalidation_1-error:0.335604\tvalidation_0-gini_err:0.650025\tvalidation_1-gini_err:0.664131\n",
            "[816]\tvalidation_0-error:0.333497\tvalidation_1-error:0.335598\tvalidation_0-gini_err:0.65\tvalidation_1-gini_err:0.664109\n",
            "[817]\tvalidation_0-error:0.333497\tvalidation_1-error:0.335607\tvalidation_0-gini_err:0.649976\tvalidation_1-gini_err:0.664096\n",
            "[818]\tvalidation_0-error:0.333565\tvalidation_1-error:0.335664\tvalidation_0-gini_err:0.649933\tvalidation_1-gini_err:0.664049\n",
            "[819]\tvalidation_0-error:0.33357\tvalidation_1-error:0.335652\tvalidation_0-gini_err:0.649915\tvalidation_1-gini_err:0.664035\n",
            "[820]\tvalidation_0-error:0.333589\tvalidation_1-error:0.335661\tvalidation_0-gini_err:0.649901\tvalidation_1-gini_err:0.664026\n",
            "[821]\tvalidation_0-error:0.333601\tvalidation_1-error:0.335645\tvalidation_0-gini_err:0.649868\tvalidation_1-gini_err:0.663988\n",
            "[822]\tvalidation_0-error:0.333642\tvalidation_1-error:0.335712\tvalidation_0-gini_err:0.649842\tvalidation_1-gini_err:0.663961\n",
            "[823]\tvalidation_0-error:0.33364\tvalidation_1-error:0.33569\tvalidation_0-gini_err:0.64982\tvalidation_1-gini_err:0.663952\n",
            "[824]\tvalidation_0-error:0.333728\tvalidation_1-error:0.335855\tvalidation_0-gini_err:0.649739\tvalidation_1-gini_err:0.663867\n",
            "[825]\tvalidation_0-error:0.333804\tvalidation_1-error:0.335874\tvalidation_0-gini_err:0.649671\tvalidation_1-gini_err:0.663797\n",
            "[826]\tvalidation_0-error:0.333805\tvalidation_1-error:0.335884\tvalidation_0-gini_err:0.649641\tvalidation_1-gini_err:0.663775\n",
            "[827]\tvalidation_0-error:0.333805\tvalidation_1-error:0.335916\tvalidation_0-gini_err:0.64961\tvalidation_1-gini_err:0.663749\n",
            "[828]\tvalidation_0-error:0.33382\tvalidation_1-error:0.335932\tvalidation_0-gini_err:0.649589\tvalidation_1-gini_err:0.663729\n",
            "[829]\tvalidation_0-error:0.333839\tvalidation_1-error:0.335912\tvalidation_0-gini_err:0.649573\tvalidation_1-gini_err:0.663715\n",
            "[830]\tvalidation_0-error:0.333841\tvalidation_1-error:0.335916\tvalidation_0-gini_err:0.649553\tvalidation_1-gini_err:0.663699\n",
            "[831]\tvalidation_0-error:0.333824\tvalidation_1-error:0.335932\tvalidation_0-gini_err:0.649533\tvalidation_1-gini_err:0.663687\n",
            "[832]\tvalidation_0-error:0.333846\tvalidation_1-error:0.335893\tvalidation_0-gini_err:0.649515\tvalidation_1-gini_err:0.663675\n",
            "[833]\tvalidation_0-error:0.333829\tvalidation_1-error:0.335884\tvalidation_0-gini_err:0.649498\tvalidation_1-gini_err:0.663664\n",
            "[834]\tvalidation_0-error:0.333803\tvalidation_1-error:0.335906\tvalidation_0-gini_err:0.649464\tvalidation_1-gini_err:0.663647\n",
            "[835]\tvalidation_0-error:0.333916\tvalidation_1-error:0.335995\tvalidation_0-gini_err:0.649387\tvalidation_1-gini_err:0.663565\n",
            "[836]\tvalidation_0-error:0.33398\tvalidation_1-error:0.33611\tvalidation_0-gini_err:0.649321\tvalidation_1-gini_err:0.663502\n",
            "[837]\tvalidation_0-error:0.333959\tvalidation_1-error:0.336068\tvalidation_0-gini_err:0.649303\tvalidation_1-gini_err:0.663491\n",
            "[838]\tvalidation_0-error:0.333973\tvalidation_1-error:0.336062\tvalidation_0-gini_err:0.649287\tvalidation_1-gini_err:0.663479\n",
            "[839]\tvalidation_0-error:0.333948\tvalidation_1-error:0.336052\tvalidation_0-gini_err:0.649263\tvalidation_1-gini_err:0.66346\n",
            "[840]\tvalidation_0-error:0.333944\tvalidation_1-error:0.336087\tvalidation_0-gini_err:0.649231\tvalidation_1-gini_err:0.663447\n",
            "[841]\tvalidation_0-error:0.333939\tvalidation_1-error:0.336078\tvalidation_0-gini_err:0.649207\tvalidation_1-gini_err:0.663435\n",
            "[842]\tvalidation_0-error:0.333932\tvalidation_1-error:0.336059\tvalidation_0-gini_err:0.649188\tvalidation_1-gini_err:0.66342\n",
            "[843]\tvalidation_0-error:0.333955\tvalidation_1-error:0.336065\tvalidation_0-gini_err:0.649166\tvalidation_1-gini_err:0.663409\n",
            "[844]\tvalidation_0-error:0.333972\tvalidation_1-error:0.336046\tvalidation_0-gini_err:0.649144\tvalidation_1-gini_err:0.663397\n",
            "[845]\tvalidation_0-error:0.334064\tvalidation_1-error:0.336106\tvalidation_0-gini_err:0.649096\tvalidation_1-gini_err:0.663348\n",
            "[846]\tvalidation_0-error:0.334058\tvalidation_1-error:0.336094\tvalidation_0-gini_err:0.649072\tvalidation_1-gini_err:0.663328\n",
            "[847]\tvalidation_0-error:0.334041\tvalidation_1-error:0.336103\tvalidation_0-gini_err:0.649056\tvalidation_1-gini_err:0.663314\n",
            "[848]\tvalidation_0-error:0.334008\tvalidation_1-error:0.336119\tvalidation_0-gini_err:0.649038\tvalidation_1-gini_err:0.6633\n",
            "[849]\tvalidation_0-error:0.334034\tvalidation_1-error:0.336091\tvalidation_0-gini_err:0.649006\tvalidation_1-gini_err:0.663264\n",
            "[850]\tvalidation_0-error:0.334044\tvalidation_1-error:0.336068\tvalidation_0-gini_err:0.648987\tvalidation_1-gini_err:0.66325\n",
            "[851]\tvalidation_0-error:0.334045\tvalidation_1-error:0.336075\tvalidation_0-gini_err:0.648974\tvalidation_1-gini_err:0.663242\n",
            "[852]\tvalidation_0-error:0.334032\tvalidation_1-error:0.336052\tvalidation_0-gini_err:0.648945\tvalidation_1-gini_err:0.663209\n",
            "[853]\tvalidation_0-error:0.33404\tvalidation_1-error:0.33611\tvalidation_0-gini_err:0.648921\tvalidation_1-gini_err:0.663184\n",
            "[854]\tvalidation_0-error:0.334051\tvalidation_1-error:0.336161\tvalidation_0-gini_err:0.648908\tvalidation_1-gini_err:0.663173\n",
            "[855]\tvalidation_0-error:0.334047\tvalidation_1-error:0.336157\tvalidation_0-gini_err:0.648886\tvalidation_1-gini_err:0.66316\n",
            "[856]\tvalidation_0-error:0.33407\tvalidation_1-error:0.336138\tvalidation_0-gini_err:0.648866\tvalidation_1-gini_err:0.663147\n",
            "[857]\tvalidation_0-error:0.334134\tvalidation_1-error:0.336132\tvalidation_0-gini_err:0.648803\tvalidation_1-gini_err:0.663082\n",
            "[858]\tvalidation_0-error:0.334143\tvalidation_1-error:0.336113\tvalidation_0-gini_err:0.648788\tvalidation_1-gini_err:0.663069\n",
            "[859]\tvalidation_0-error:0.334137\tvalidation_1-error:0.336135\tvalidation_0-gini_err:0.648773\tvalidation_1-gini_err:0.663058\n",
            "[860]\tvalidation_0-error:0.334149\tvalidation_1-error:0.336148\tvalidation_0-gini_err:0.648755\tvalidation_1-gini_err:0.663048\n",
            "[861]\tvalidation_0-error:0.334164\tvalidation_1-error:0.336183\tvalidation_0-gini_err:0.648725\tvalidation_1-gini_err:0.663029\n",
            "[862]\tvalidation_0-error:0.334122\tvalidation_1-error:0.336205\tvalidation_0-gini_err:0.648704\tvalidation_1-gini_err:0.663014\n",
            "[863]\tvalidation_0-error:0.334132\tvalidation_1-error:0.336234\tvalidation_0-gini_err:0.648686\tvalidation_1-gini_err:0.663004\n",
            "[864]\tvalidation_0-error:0.334141\tvalidation_1-error:0.336195\tvalidation_0-gini_err:0.648656\tvalidation_1-gini_err:0.662975\n",
            "[865]\tvalidation_0-error:0.334142\tvalidation_1-error:0.33623\tvalidation_0-gini_err:0.648626\tvalidation_1-gini_err:0.662958\n",
            "[866]\tvalidation_0-error:0.334134\tvalidation_1-error:0.33624\tvalidation_0-gini_err:0.648603\tvalidation_1-gini_err:0.662939\n",
            "[867]\tvalidation_0-error:0.334117\tvalidation_1-error:0.336211\tvalidation_0-gini_err:0.648578\tvalidation_1-gini_err:0.662917\n",
            "[868]\tvalidation_0-error:0.33406\tvalidation_1-error:0.336256\tvalidation_0-gini_err:0.648567\tvalidation_1-gini_err:0.662909\n",
            "[869]\tvalidation_0-error:0.334077\tvalidation_1-error:0.336202\tvalidation_0-gini_err:0.648545\tvalidation_1-gini_err:0.662897\n",
            "[870]\tvalidation_0-error:0.334085\tvalidation_1-error:0.336218\tvalidation_0-gini_err:0.648525\tvalidation_1-gini_err:0.662882\n",
            "[871]\tvalidation_0-error:0.334104\tvalidation_1-error:0.336183\tvalidation_0-gini_err:0.648506\tvalidation_1-gini_err:0.662863\n",
            "[872]\tvalidation_0-error:0.334112\tvalidation_1-error:0.336218\tvalidation_0-gini_err:0.648476\tvalidation_1-gini_err:0.662851\n",
            "[873]\tvalidation_0-error:0.33421\tvalidation_1-error:0.336358\tvalidation_0-gini_err:0.648404\tvalidation_1-gini_err:0.662776\n",
            "[874]\tvalidation_0-error:0.334224\tvalidation_1-error:0.33637\tvalidation_0-gini_err:0.648388\tvalidation_1-gini_err:0.662764\n",
            "[875]\tvalidation_0-error:0.334206\tvalidation_1-error:0.336348\tvalidation_0-gini_err:0.648368\tvalidation_1-gini_err:0.662751\n",
            "[876]\tvalidation_0-error:0.334262\tvalidation_1-error:0.336421\tvalidation_0-gini_err:0.648298\tvalidation_1-gini_err:0.662677\n",
            "[877]\tvalidation_0-error:0.334304\tvalidation_1-error:0.336479\tvalidation_0-gini_err:0.648275\tvalidation_1-gini_err:0.662653\n",
            "[878]\tvalidation_0-error:0.334318\tvalidation_1-error:0.336437\tvalidation_0-gini_err:0.648252\tvalidation_1-gini_err:0.662645\n",
            "[879]\tvalidation_0-error:0.334282\tvalidation_1-error:0.336466\tvalidation_0-gini_err:0.648232\tvalidation_1-gini_err:0.662626\n",
            "[880]\tvalidation_0-error:0.334318\tvalidation_1-error:0.336514\tvalidation_0-gini_err:0.648173\tvalidation_1-gini_err:0.66257\n",
            "[881]\tvalidation_0-error:0.334312\tvalidation_1-error:0.336533\tvalidation_0-gini_err:0.648141\tvalidation_1-gini_err:0.66255\n",
            "[882]\tvalidation_0-error:0.334336\tvalidation_1-error:0.336542\tvalidation_0-gini_err:0.648114\tvalidation_1-gini_err:0.66253\n",
            "[883]\tvalidation_0-error:0.334371\tvalidation_1-error:0.336564\tvalidation_0-gini_err:0.648093\tvalidation_1-gini_err:0.662513\n",
            "[884]\tvalidation_0-error:0.334442\tvalidation_1-error:0.33658\tvalidation_0-gini_err:0.648023\tvalidation_1-gini_err:0.662436\n",
            "[885]\tvalidation_0-error:0.334421\tvalidation_1-error:0.336571\tvalidation_0-gini_err:0.648008\tvalidation_1-gini_err:0.662425\n",
            "[886]\tvalidation_0-error:0.334415\tvalidation_1-error:0.336615\tvalidation_0-gini_err:0.647981\tvalidation_1-gini_err:0.662403\n",
            "[887]\tvalidation_0-error:0.334405\tvalidation_1-error:0.336638\tvalidation_0-gini_err:0.64796\tvalidation_1-gini_err:0.662396\n",
            "[888]\tvalidation_0-error:0.334385\tvalidation_1-error:0.336647\tvalidation_0-gini_err:0.647941\tvalidation_1-gini_err:0.662386\n",
            "[889]\tvalidation_0-error:0.334389\tvalidation_1-error:0.336647\tvalidation_0-gini_err:0.647925\tvalidation_1-gini_err:0.662379\n",
            "[890]\tvalidation_0-error:0.334393\tvalidation_1-error:0.336701\tvalidation_0-gini_err:0.647907\tvalidation_1-gini_err:0.662365\n",
            "[891]\tvalidation_0-error:0.334393\tvalidation_1-error:0.336679\tvalidation_0-gini_err:0.647892\tvalidation_1-gini_err:0.662354\n",
            "[892]\tvalidation_0-error:0.33444\tvalidation_1-error:0.336682\tvalidation_0-gini_err:0.647865\tvalidation_1-gini_err:0.662335\n",
            "[893]\tvalidation_0-error:0.334476\tvalidation_1-error:0.336676\tvalidation_0-gini_err:0.647824\tvalidation_1-gini_err:0.662292\n",
            "[894]\tvalidation_0-error:0.334465\tvalidation_1-error:0.336631\tvalidation_0-gini_err:0.647799\tvalidation_1-gini_err:0.662268\n",
            "[895]\tvalidation_0-error:0.334442\tvalidation_1-error:0.336615\tvalidation_0-gini_err:0.647783\tvalidation_1-gini_err:0.662254\n",
            "[896]\tvalidation_0-error:0.334458\tvalidation_1-error:0.336657\tvalidation_0-gini_err:0.647763\tvalidation_1-gini_err:0.662244\n",
            "[897]\tvalidation_0-error:0.334481\tvalidation_1-error:0.336714\tvalidation_0-gini_err:0.647745\tvalidation_1-gini_err:0.662233\n",
            "[898]\tvalidation_0-error:0.334499\tvalidation_1-error:0.336752\tvalidation_0-gini_err:0.647725\tvalidation_1-gini_err:0.662223\n",
            "[899]\tvalidation_0-error:0.334472\tvalidation_1-error:0.336806\tvalidation_0-gini_err:0.647666\tvalidation_1-gini_err:0.662166\n",
            "[900]\tvalidation_0-error:0.334558\tvalidation_1-error:0.336832\tvalidation_0-gini_err:0.647599\tvalidation_1-gini_err:0.662093\n",
            "[901]\tvalidation_0-error:0.33455\tvalidation_1-error:0.336825\tvalidation_0-gini_err:0.647579\tvalidation_1-gini_err:0.662079\n",
            "[902]\tvalidation_0-error:0.334535\tvalidation_1-error:0.33679\tvalidation_0-gini_err:0.647553\tvalidation_1-gini_err:0.662059\n",
            "[903]\tvalidation_0-error:0.334558\tvalidation_1-error:0.336809\tvalidation_0-gini_err:0.647524\tvalidation_1-gini_err:0.662024\n",
            "[904]\tvalidation_0-error:0.334562\tvalidation_1-error:0.336854\tvalidation_0-gini_err:0.647506\tvalidation_1-gini_err:0.662011\n",
            "[905]\tvalidation_0-error:0.334569\tvalidation_1-error:0.336825\tvalidation_0-gini_err:0.647482\tvalidation_1-gini_err:0.66199\n",
            "[906]\tvalidation_0-error:0.334558\tvalidation_1-error:0.336822\tvalidation_0-gini_err:0.647453\tvalidation_1-gini_err:0.661965\n",
            "[907]\tvalidation_0-error:0.334593\tvalidation_1-error:0.336866\tvalidation_0-gini_err:0.647415\tvalidation_1-gini_err:0.661925\n",
            "[908]\tvalidation_0-error:0.334607\tvalidation_1-error:0.336863\tvalidation_0-gini_err:0.647399\tvalidation_1-gini_err:0.661913\n",
            "[909]\tvalidation_0-error:0.334635\tvalidation_1-error:0.336793\tvalidation_0-gini_err:0.647374\tvalidation_1-gini_err:0.661892\n",
            "[910]\tvalidation_0-error:0.334635\tvalidation_1-error:0.336921\tvalidation_0-gini_err:0.647318\tvalidation_1-gini_err:0.661838\n",
            "[911]\tvalidation_0-error:0.334641\tvalidation_1-error:0.336933\tvalidation_0-gini_err:0.647303\tvalidation_1-gini_err:0.66183\n",
            "[912]\tvalidation_0-error:0.334678\tvalidation_1-error:0.336943\tvalidation_0-gini_err:0.647275\tvalidation_1-gini_err:0.661798\n",
            "[913]\tvalidation_0-error:0.334701\tvalidation_1-error:0.336927\tvalidation_0-gini_err:0.647246\tvalidation_1-gini_err:0.661786\n",
            "[914]\tvalidation_0-error:0.334709\tvalidation_1-error:0.33693\tvalidation_0-gini_err:0.647207\tvalidation_1-gini_err:0.661741\n",
            "[915]\tvalidation_0-error:0.334738\tvalidation_1-error:0.336962\tvalidation_0-gini_err:0.64717\tvalidation_1-gini_err:0.661701\n",
            "[916]\tvalidation_0-error:0.334744\tvalidation_1-error:0.336949\tvalidation_0-gini_err:0.647148\tvalidation_1-gini_err:0.661689\n",
            "[917]\tvalidation_0-error:0.334785\tvalidation_1-error:0.336987\tvalidation_0-gini_err:0.647136\tvalidation_1-gini_err:0.661683\n",
            "[918]\tvalidation_0-error:0.33478\tvalidation_1-error:0.336984\tvalidation_0-gini_err:0.647121\tvalidation_1-gini_err:0.661672\n",
            "[919]\tvalidation_0-error:0.334776\tvalidation_1-error:0.337022\tvalidation_0-gini_err:0.647097\tvalidation_1-gini_err:0.661649\n",
            "[920]\tvalidation_0-error:0.334774\tvalidation_1-error:0.337003\tvalidation_0-gini_err:0.647069\tvalidation_1-gini_err:0.66163\n",
            "[921]\tvalidation_0-error:0.334834\tvalidation_1-error:0.337041\tvalidation_0-gini_err:0.647031\tvalidation_1-gini_err:0.661587\n",
            "[922]\tvalidation_0-error:0.334836\tvalidation_1-error:0.337064\tvalidation_0-gini_err:0.647016\tvalidation_1-gini_err:0.661574\n",
            "[923]\tvalidation_0-error:0.334819\tvalidation_1-error:0.337073\tvalidation_0-gini_err:0.646996\tvalidation_1-gini_err:0.66156\n",
            "[924]\tvalidation_0-error:0.334825\tvalidation_1-error:0.337032\tvalidation_0-gini_err:0.646943\tvalidation_1-gini_err:0.661507\n",
            "[925]\tvalidation_0-error:0.334892\tvalidation_1-error:0.33707\tvalidation_0-gini_err:0.646906\tvalidation_1-gini_err:0.661466\n",
            "[926]\tvalidation_0-error:0.334897\tvalidation_1-error:0.337092\tvalidation_0-gini_err:0.646884\tvalidation_1-gini_err:0.661446\n",
            "[927]\tvalidation_0-error:0.334903\tvalidation_1-error:0.337146\tvalidation_0-gini_err:0.646862\tvalidation_1-gini_err:0.66144\n",
            "[928]\tvalidation_0-error:0.334889\tvalidation_1-error:0.337175\tvalidation_0-gini_err:0.646835\tvalidation_1-gini_err:0.661417\n",
            "[929]\tvalidation_0-error:0.334886\tvalidation_1-error:0.337137\tvalidation_0-gini_err:0.64682\tvalidation_1-gini_err:0.661404\n",
            "[930]\tvalidation_0-error:0.334897\tvalidation_1-error:0.337172\tvalidation_0-gini_err:0.646802\tvalidation_1-gini_err:0.661393\n",
            "[931]\tvalidation_0-error:0.3349\tvalidation_1-error:0.337181\tvalidation_0-gini_err:0.646777\tvalidation_1-gini_err:0.661372\n",
            "[932]\tvalidation_0-error:0.334909\tvalidation_1-error:0.337169\tvalidation_0-gini_err:0.646755\tvalidation_1-gini_err:0.661363\n",
            "[933]\tvalidation_0-error:0.334909\tvalidation_1-error:0.337162\tvalidation_0-gini_err:0.646737\tvalidation_1-gini_err:0.661354\n",
            "[934]\tvalidation_0-error:0.334969\tvalidation_1-error:0.337207\tvalidation_0-gini_err:0.646701\tvalidation_1-gini_err:0.661313\n",
            "[935]\tvalidation_0-error:0.334997\tvalidation_1-error:0.337239\tvalidation_0-gini_err:0.646674\tvalidation_1-gini_err:0.661282\n",
            "[936]\tvalidation_0-error:0.335028\tvalidation_1-error:0.337245\tvalidation_0-gini_err:0.646654\tvalidation_1-gini_err:0.661272\n",
            "[937]\tvalidation_0-error:0.334991\tvalidation_1-error:0.337197\tvalidation_0-gini_err:0.64664\tvalidation_1-gini_err:0.661266\n",
            "[938]\tvalidation_0-error:0.335029\tvalidation_1-error:0.337302\tvalidation_0-gini_err:0.646589\tvalidation_1-gini_err:0.661216\n",
            "[939]\tvalidation_0-error:0.335028\tvalidation_1-error:0.337226\tvalidation_0-gini_err:0.646569\tvalidation_1-gini_err:0.661201\n",
            "[940]\tvalidation_0-error:0.335062\tvalidation_1-error:0.337232\tvalidation_0-gini_err:0.646555\tvalidation_1-gini_err:0.661191\n",
            "[941]\tvalidation_0-error:0.335029\tvalidation_1-error:0.337251\tvalidation_0-gini_err:0.64654\tvalidation_1-gini_err:0.661179\n",
            "[942]\tvalidation_0-error:0.335091\tvalidation_1-error:0.33727\tvalidation_0-gini_err:0.646505\tvalidation_1-gini_err:0.661138\n",
            "[943]\tvalidation_0-error:0.335069\tvalidation_1-error:0.337213\tvalidation_0-gini_err:0.64648\tvalidation_1-gini_err:0.661121\n",
            "[944]\tvalidation_0-error:0.335088\tvalidation_1-error:0.337248\tvalidation_0-gini_err:0.646455\tvalidation_1-gini_err:0.661103\n",
            "[945]\tvalidation_0-error:0.33508\tvalidation_1-error:0.337264\tvalidation_0-gini_err:0.646435\tvalidation_1-gini_err:0.661091\n",
            "[946]\tvalidation_0-error:0.33508\tvalidation_1-error:0.337258\tvalidation_0-gini_err:0.646418\tvalidation_1-gini_err:0.661079\n",
            "[947]\tvalidation_0-error:0.3351\tvalidation_1-error:0.337216\tvalidation_0-gini_err:0.646389\tvalidation_1-gini_err:0.661057\n",
            "[948]\tvalidation_0-error:0.335142\tvalidation_1-error:0.337232\tvalidation_0-gini_err:0.646355\tvalidation_1-gini_err:0.661019\n",
            "[949]\tvalidation_0-error:0.335122\tvalidation_1-error:0.337213\tvalidation_0-gini_err:0.646335\tvalidation_1-gini_err:0.661007\n",
            "[950]\tvalidation_0-error:0.335104\tvalidation_1-error:0.337213\tvalidation_0-gini_err:0.646316\tvalidation_1-gini_err:0.660997\n",
            "[951]\tvalidation_0-error:0.33516\tvalidation_1-error:0.337289\tvalidation_0-gini_err:0.646282\tvalidation_1-gini_err:0.66096\n",
            "[952]\tvalidation_0-error:0.335176\tvalidation_1-error:0.337321\tvalidation_0-gini_err:0.646233\tvalidation_1-gini_err:0.660913\n",
            "[953]\tvalidation_0-error:0.335243\tvalidation_1-error:0.337344\tvalidation_0-gini_err:0.6462\tvalidation_1-gini_err:0.660875\n",
            "[954]\tvalidation_0-error:0.335238\tvalidation_1-error:0.337391\tvalidation_0-gini_err:0.646168\tvalidation_1-gini_err:0.660848\n",
            "[955]\tvalidation_0-error:0.33523\tvalidation_1-error:0.337433\tvalidation_0-gini_err:0.646152\tvalidation_1-gini_err:0.660836\n",
            "[956]\tvalidation_0-error:0.335215\tvalidation_1-error:0.337439\tvalidation_0-gini_err:0.646131\tvalidation_1-gini_err:0.660826\n",
            "[957]\tvalidation_0-error:0.335227\tvalidation_1-error:0.337445\tvalidation_0-gini_err:0.64611\tvalidation_1-gini_err:0.660815\n",
            "[958]\tvalidation_0-error:0.335217\tvalidation_1-error:0.337423\tvalidation_0-gini_err:0.646087\tvalidation_1-gini_err:0.660798\n",
            "[959]\tvalidation_0-error:0.335241\tvalidation_1-error:0.337426\tvalidation_0-gini_err:0.646064\tvalidation_1-gini_err:0.660784\n",
            "[960]\tvalidation_0-error:0.335234\tvalidation_1-error:0.337429\tvalidation_0-gini_err:0.646049\tvalidation_1-gini_err:0.660771\n",
            "[961]\tvalidation_0-error:0.335254\tvalidation_1-error:0.33748\tvalidation_0-gini_err:0.646018\tvalidation_1-gini_err:0.660734\n",
            "[962]\tvalidation_0-error:0.335288\tvalidation_1-error:0.337515\tvalidation_0-gini_err:0.645997\tvalidation_1-gini_err:0.660726\n",
            "[963]\tvalidation_0-error:0.335288\tvalidation_1-error:0.33749\tvalidation_0-gini_err:0.645978\tvalidation_1-gini_err:0.660713\n",
            "[964]\tvalidation_0-error:0.335265\tvalidation_1-error:0.337487\tvalidation_0-gini_err:0.645959\tvalidation_1-gini_err:0.660699\n",
            "[965]\tvalidation_0-error:0.335279\tvalidation_1-error:0.33749\tvalidation_0-gini_err:0.64594\tvalidation_1-gini_err:0.660689\n",
            "[966]\tvalidation_0-error:0.335262\tvalidation_1-error:0.337477\tvalidation_0-gini_err:0.645921\tvalidation_1-gini_err:0.66068\n",
            "[967]\tvalidation_0-error:0.33526\tvalidation_1-error:0.337512\tvalidation_0-gini_err:0.645904\tvalidation_1-gini_err:0.660662\n",
            "[968]\tvalidation_0-error:0.335268\tvalidation_1-error:0.337544\tvalidation_0-gini_err:0.645888\tvalidation_1-gini_err:0.660657\n",
            "[969]\tvalidation_0-error:0.335265\tvalidation_1-error:0.337483\tvalidation_0-gini_err:0.645872\tvalidation_1-gini_err:0.660642\n",
            "[970]\tvalidation_0-error:0.335258\tvalidation_1-error:0.337515\tvalidation_0-gini_err:0.645833\tvalidation_1-gini_err:0.660608\n",
            "[971]\tvalidation_0-error:0.335287\tvalidation_1-error:0.337595\tvalidation_0-gini_err:0.645785\tvalidation_1-gini_err:0.660562\n",
            "[972]\tvalidation_0-error:0.335279\tvalidation_1-error:0.337547\tvalidation_0-gini_err:0.645765\tvalidation_1-gini_err:0.660551\n",
            "[973]\tvalidation_0-error:0.335275\tvalidation_1-error:0.337553\tvalidation_0-gini_err:0.645739\tvalidation_1-gini_err:0.660525\n",
            "[974]\tvalidation_0-error:0.33523\tvalidation_1-error:0.337585\tvalidation_0-gini_err:0.645723\tvalidation_1-gini_err:0.660512\n",
            "[975]\tvalidation_0-error:0.335216\tvalidation_1-error:0.337522\tvalidation_0-gini_err:0.645705\tvalidation_1-gini_err:0.6605\n",
            "[976]\tvalidation_0-error:0.335262\tvalidation_1-error:0.337585\tvalidation_0-gini_err:0.645674\tvalidation_1-gini_err:0.660465\n",
            "[977]\tvalidation_0-error:0.335275\tvalidation_1-error:0.337573\tvalidation_0-gini_err:0.645656\tvalidation_1-gini_err:0.660454\n",
            "[978]\tvalidation_0-error:0.335266\tvalidation_1-error:0.337534\tvalidation_0-gini_err:0.645637\tvalidation_1-gini_err:0.660444\n",
            "[979]\tvalidation_0-error:0.33528\tvalidation_1-error:0.337576\tvalidation_0-gini_err:0.645616\tvalidation_1-gini_err:0.660433\n",
            "[980]\tvalidation_0-error:0.335275\tvalidation_1-error:0.337566\tvalidation_0-gini_err:0.645602\tvalidation_1-gini_err:0.660421\n",
            "[981]\tvalidation_0-error:0.335294\tvalidation_1-error:0.337633\tvalidation_0-gini_err:0.645561\tvalidation_1-gini_err:0.660376\n",
            "[982]\tvalidation_0-error:0.33534\tvalidation_1-error:0.337665\tvalidation_0-gini_err:0.645516\tvalidation_1-gini_err:0.660333\n",
            "[983]\tvalidation_0-error:0.335324\tvalidation_1-error:0.337662\tvalidation_0-gini_err:0.645478\tvalidation_1-gini_err:0.660298\n",
            "[984]\tvalidation_0-error:0.335341\tvalidation_1-error:0.337681\tvalidation_0-gini_err:0.645461\tvalidation_1-gini_err:0.660283\n",
            "[985]\tvalidation_0-error:0.335371\tvalidation_1-error:0.337681\tvalidation_0-gini_err:0.645442\tvalidation_1-gini_err:0.660273\n",
            "[986]\tvalidation_0-error:0.335371\tvalidation_1-error:0.337668\tvalidation_0-gini_err:0.645428\tvalidation_1-gini_err:0.66026\n",
            "[987]\tvalidation_0-error:0.335352\tvalidation_1-error:0.337639\tvalidation_0-gini_err:0.645412\tvalidation_1-gini_err:0.660242\n",
            "[988]\tvalidation_0-error:0.335359\tvalidation_1-error:0.337633\tvalidation_0-gini_err:0.645392\tvalidation_1-gini_err:0.66023\n",
            "[989]\tvalidation_0-error:0.33536\tvalidation_1-error:0.337646\tvalidation_0-gini_err:0.645367\tvalidation_1-gini_err:0.660214\n",
            "[990]\tvalidation_0-error:0.335348\tvalidation_1-error:0.337658\tvalidation_0-gini_err:0.645347\tvalidation_1-gini_err:0.6602\n",
            "[991]\tvalidation_0-error:0.33537\tvalidation_1-error:0.337646\tvalidation_0-gini_err:0.645334\tvalidation_1-gini_err:0.660195\n",
            "[992]\tvalidation_0-error:0.335407\tvalidation_1-error:0.337655\tvalidation_0-gini_err:0.645314\tvalidation_1-gini_err:0.660184\n",
            "[993]\tvalidation_0-error:0.335415\tvalidation_1-error:0.337681\tvalidation_0-gini_err:0.645292\tvalidation_1-gini_err:0.660172\n",
            "[994]\tvalidation_0-error:0.335449\tvalidation_1-error:0.337776\tvalidation_0-gini_err:0.645259\tvalidation_1-gini_err:0.660134\n",
            "[995]\tvalidation_0-error:0.335393\tvalidation_1-error:0.337751\tvalidation_0-gini_err:0.645235\tvalidation_1-gini_err:0.660109\n",
            "[996]\tvalidation_0-error:0.335393\tvalidation_1-error:0.337763\tvalidation_0-gini_err:0.645217\tvalidation_1-gini_err:0.660094\n",
            "[997]\tvalidation_0-error:0.3354\tvalidation_1-error:0.337782\tvalidation_0-gini_err:0.645201\tvalidation_1-gini_err:0.66008\n",
            "[998]\tvalidation_0-error:0.33543\tvalidation_1-error:0.337827\tvalidation_0-gini_err:0.645174\tvalidation_1-gini_err:0.660052\n",
            "[999]\tvalidation_0-error:0.335471\tvalidation_1-error:0.337824\tvalidation_0-gini_err:0.645161\tvalidation_1-gini_err:0.660042\n"
          ],
          "name": "stdout"
        },
        {
          "output_type": "execute_result",
          "data": {
            "text/plain": [
              "['/content/drive/My Drive/Lending-Club/Models/XGB_2_RFE.pkl']"
            ]
          },
          "metadata": {
            "tags": []
          },
          "execution_count": 52
        }
      ]
    },
    {
      "cell_type": "code",
      "metadata": {
        "id": "JCSBb3jM_xs-",
        "outputId": "7ef7c873-431b-40cd-e5c2-3420224f9269",
        "colab": {
          "base_uri": "https://localhost:8080/",
          "height": 181
        }
      },
      "source": [
        "#rfecv\n",
        "xgb_bo.max"
      ],
      "execution_count": null,
      "outputs": [
        {
          "output_type": "execute_result",
          "data": {
            "text/plain": [
              "{'params': {'colsamplebytree': 1.0,\n",
              "  'gamma': 1.0,\n",
              "  'learning_rate': 0.01,\n",
              "  'max_delta_step': 0.0,\n",
              "  'max_depth': 10.0,\n",
              "  'n_estimators': 100.0,\n",
              "  'reg_alpha': 1.0,\n",
              "  'scale_pos_weight': 100.0},\n",
              " 'target': 0.366324}"
            ]
          },
          "metadata": {
            "tags": []
          },
          "execution_count": 34
        }
      ]
    },
    {
      "cell_type": "code",
      "metadata": {
        "id": "fMOxcavKQ3wD"
      },
      "source": [
        "model =joblib.load('/content/drive/My Drive/Lending-Club/Models/XGB_2_RFE.pkl')\n",
        "#features=['int_rate', 'installment', 'annual_inc', 'dti', 'delinq_2yrs', 'inq_last_6mths', 'mths_since_last_record', 'revol_util', 'total_acc', 'mths_since_last_major_derog', 'tot_coll_amt', 'tot_cur_bal', 'open_acc_6m', 'open_act_il', 'open_il_24m', 'mths_since_rcnt_il', 'total_bal_il', 'open_rv_12m', 'open_rv_24m', 'max_bal_bc', 'all_util', 'total_rev_hi_lim', 'total_cu_tl', 'acc_open_past_24mths', 'avg_cur_bal', 'bc_open_to_buy', 'bc_util', 'mo_sin_old_il_acct', 'mo_sin_old_rev_tl_op', 'mo_sin_rcnt_tl', 'mort_acc', 'mths_since_recent_bc', 'mths_since_recent_inq', 'num_actv_bc_tl', 'num_actv_rev_tl', 'num_tl_120dpd_2m', 'pct_tl_nvr_dlq', 'percent_bc_gt_75', 'pub_rec_bankruptcies', 'tot_hi_cred_lim', 'total_bc_limit', 'term_36 months', 'grade_A', 'grade_B', 'grade_C', 'grade_D', 'grade_E', 'emp_length_10+ years', 'emp_length_less 1 year', 'home_ownership_MORTGAGE', 'home_ownership_RENT', 'verification_status_Not Verified', 'verification_status_Source Verified', 'verification_status_Verified']"
      ],
      "execution_count": null,
      "outputs": []
    },
    {
      "cell_type": "code",
      "metadata": {
        "id": "njkBYVz-T-Fr"
      },
      "source": [
        "X_train=pd.DataFrame(X_train)\n",
        "X_train.columns = train.columns\n",
        "X_test=pd.DataFrame(X_test)\n",
        "X_test.columns = train.columns\n",
        "timetest=pd.DataFrame(timetest)\n",
        "timetest.columns = train.columns"
      ],
      "execution_count": null,
      "outputs": []
    },
    {
      "cell_type": "code",
      "metadata": {
        "id": "TFISno4zVmse",
        "outputId": "9b09e1eb-74ab-45a1-ad7e-2e059b277001",
        "colab": {
          "base_uri": "https://localhost:8080/",
          "height": 613
        }
      },
      "source": [
        "print(accuracy_score(y_train,model.predict(X_train)))\n",
        "print(accuracy_score(y_test,model.predict(X_test)))\n",
        "print(accuracy_score(y_timetest,model.predict(timetest)))"
      ],
      "execution_count": null,
      "outputs": [
        {
          "output_type": "error",
          "ename": "ValueError",
          "evalue": "ignored",
          "traceback": [
            "\u001b[0;31m---------------------------------------------------------------------------\u001b[0m",
            "\u001b[0;31mValueError\u001b[0m                                Traceback (most recent call last)",
            "\u001b[0;32m<ipython-input-54-5784eda7338a>\u001b[0m in \u001b[0;36m<module>\u001b[0;34m()\u001b[0m\n\u001b[0;32m----> 1\u001b[0;31m \u001b[0mprint\u001b[0m\u001b[0;34m(\u001b[0m\u001b[0maccuracy_score\u001b[0m\u001b[0;34m(\u001b[0m\u001b[0my_train\u001b[0m\u001b[0;34m,\u001b[0m\u001b[0mmodel\u001b[0m\u001b[0;34m.\u001b[0m\u001b[0mpredict\u001b[0m\u001b[0;34m(\u001b[0m\u001b[0mX_train\u001b[0m\u001b[0;34m)\u001b[0m\u001b[0;34m)\u001b[0m\u001b[0;34m)\u001b[0m\u001b[0;34m\u001b[0m\u001b[0;34m\u001b[0m\u001b[0m\n\u001b[0m\u001b[1;32m      2\u001b[0m \u001b[0mprint\u001b[0m\u001b[0;34m(\u001b[0m\u001b[0maccuracy_score\u001b[0m\u001b[0;34m(\u001b[0m\u001b[0my_test\u001b[0m\u001b[0;34m,\u001b[0m\u001b[0mmodel\u001b[0m\u001b[0;34m.\u001b[0m\u001b[0mpredict\u001b[0m\u001b[0;34m(\u001b[0m\u001b[0mX_test\u001b[0m\u001b[0;34m)\u001b[0m\u001b[0;34m)\u001b[0m\u001b[0;34m)\u001b[0m\u001b[0;34m\u001b[0m\u001b[0;34m\u001b[0m\u001b[0m\n\u001b[1;32m      3\u001b[0m \u001b[0mprint\u001b[0m\u001b[0;34m(\u001b[0m\u001b[0maccuracy_score\u001b[0m\u001b[0;34m(\u001b[0m\u001b[0my_timetest\u001b[0m\u001b[0;34m,\u001b[0m\u001b[0mmodel\u001b[0m\u001b[0;34m.\u001b[0m\u001b[0mpredict\u001b[0m\u001b[0;34m(\u001b[0m\u001b[0mtimetest\u001b[0m\u001b[0;34m)\u001b[0m\u001b[0;34m)\u001b[0m\u001b[0;34m)\u001b[0m\u001b[0;34m\u001b[0m\u001b[0;34m\u001b[0m\u001b[0m\n",
            "\u001b[0;32m/usr/local/lib/python3.6/dist-packages/xgboost/sklearn.py\u001b[0m in \u001b[0;36mpredict\u001b[0;34m(self, data, output_margin, ntree_limit, validate_features)\u001b[0m\n\u001b[1;32m    789\u001b[0m                                                  \u001b[0moutput_margin\u001b[0m\u001b[0;34m=\u001b[0m\u001b[0moutput_margin\u001b[0m\u001b[0;34m,\u001b[0m\u001b[0;34m\u001b[0m\u001b[0;34m\u001b[0m\u001b[0m\n\u001b[1;32m    790\u001b[0m                                                  \u001b[0mntree_limit\u001b[0m\u001b[0;34m=\u001b[0m\u001b[0mntree_limit\u001b[0m\u001b[0;34m,\u001b[0m\u001b[0;34m\u001b[0m\u001b[0;34m\u001b[0m\u001b[0m\n\u001b[0;32m--> 791\u001b[0;31m                                                  validate_features=validate_features)\n\u001b[0m\u001b[1;32m    792\u001b[0m         \u001b[0;32mif\u001b[0m \u001b[0moutput_margin\u001b[0m\u001b[0;34m:\u001b[0m\u001b[0;34m\u001b[0m\u001b[0;34m\u001b[0m\u001b[0m\n\u001b[1;32m    793\u001b[0m             \u001b[0;31m# If output_margin is active, simply return the scores\u001b[0m\u001b[0;34m\u001b[0m\u001b[0;34m\u001b[0m\u001b[0;34m\u001b[0m\u001b[0m\n",
            "\u001b[0;32m/usr/local/lib/python3.6/dist-packages/xgboost/core.py\u001b[0m in \u001b[0;36mpredict\u001b[0;34m(self, data, output_margin, ntree_limit, pred_leaf, pred_contribs, approx_contribs, pred_interactions, validate_features)\u001b[0m\n\u001b[1;32m   1282\u001b[0m \u001b[0;34m\u001b[0m\u001b[0m\n\u001b[1;32m   1283\u001b[0m         \u001b[0;32mif\u001b[0m \u001b[0mvalidate_features\u001b[0m\u001b[0;34m:\u001b[0m\u001b[0;34m\u001b[0m\u001b[0;34m\u001b[0m\u001b[0m\n\u001b[0;32m-> 1284\u001b[0;31m             \u001b[0mself\u001b[0m\u001b[0;34m.\u001b[0m\u001b[0m_validate_features\u001b[0m\u001b[0;34m(\u001b[0m\u001b[0mdata\u001b[0m\u001b[0;34m)\u001b[0m\u001b[0;34m\u001b[0m\u001b[0;34m\u001b[0m\u001b[0m\n\u001b[0m\u001b[1;32m   1285\u001b[0m \u001b[0;34m\u001b[0m\u001b[0m\n\u001b[1;32m   1286\u001b[0m         \u001b[0mlength\u001b[0m \u001b[0;34m=\u001b[0m \u001b[0mc_bst_ulong\u001b[0m\u001b[0;34m(\u001b[0m\u001b[0;34m)\u001b[0m\u001b[0;34m\u001b[0m\u001b[0;34m\u001b[0m\u001b[0m\n",
            "\u001b[0;32m/usr/local/lib/python3.6/dist-packages/xgboost/core.py\u001b[0m in \u001b[0;36m_validate_features\u001b[0;34m(self, data)\u001b[0m\n\u001b[1;32m   1688\u001b[0m \u001b[0;34m\u001b[0m\u001b[0m\n\u001b[1;32m   1689\u001b[0m                 raise ValueError(msg.format(self.feature_names,\n\u001b[0;32m-> 1690\u001b[0;31m                                             data.feature_names))\n\u001b[0m\u001b[1;32m   1691\u001b[0m \u001b[0;34m\u001b[0m\u001b[0m\n\u001b[1;32m   1692\u001b[0m     \u001b[0;32mdef\u001b[0m \u001b[0mget_split_value_histogram\u001b[0m\u001b[0;34m(\u001b[0m\u001b[0mself\u001b[0m\u001b[0;34m,\u001b[0m \u001b[0mfeature\u001b[0m\u001b[0;34m,\u001b[0m \u001b[0mfmap\u001b[0m\u001b[0;34m=\u001b[0m\u001b[0;34m''\u001b[0m\u001b[0;34m,\u001b[0m \u001b[0mbins\u001b[0m\u001b[0;34m=\u001b[0m\u001b[0;32mNone\u001b[0m\u001b[0;34m,\u001b[0m \u001b[0mas_pandas\u001b[0m\u001b[0;34m=\u001b[0m\u001b[0;32mTrue\u001b[0m\u001b[0;34m)\u001b[0m\u001b[0;34m:\u001b[0m\u001b[0;34m\u001b[0m\u001b[0;34m\u001b[0m\u001b[0m\n",
            "\u001b[0;31mValueError\u001b[0m: feature_names mismatch: ['int_rate', 'installment', 'annual_inc', 'dti', 'delinq_2yrs', 'inq_last_6mths', 'mths_since_last_record', 'revol_util', 'total_acc', 'mths_since_last_major_derog', 'tot_coll_amt', 'tot_cur_bal', 'open_acc_6m', 'open_act_il', 'open_il_24m', 'mths_since_rcnt_il', 'total_bal_il', 'open_rv_12m', 'open_rv_24m', 'max_bal_bc', 'all_util', 'total_rev_hi_lim', 'total_cu_tl', 'acc_open_past_24mths', 'avg_cur_bal', 'bc_open_to_buy', 'bc_util', 'mo_sin_old_il_acct', 'mo_sin_old_rev_tl_op', 'mo_sin_rcnt_tl', 'mort_acc', 'mths_since_recent_bc', 'mths_since_recent_inq', 'num_actv_bc_tl', 'num_actv_rev_tl', 'num_tl_120dpd_2m', 'pct_tl_nvr_dlq', 'percent_bc_gt_75', 'pub_rec_bankruptcies', 'tot_hi_cred_lim', 'total_bc_limit', 'term_36 months', 'grade_A', 'grade_B', 'grade_C', 'grade_D', 'grade_E', 'emp_length_10+ years', 'emp_length_less 1 year', 'home_ownership_MORTGAGE', 'home_ownership_RENT', 'verification_status_Not Verified', 'verification_status_Source Verified', 'verification_status_Verified'] ['int_rate', 'installment', 'annual_inc', 'dti', 'delinq_2yrs', 'inq_last_6mths', 'mths_since_last_delinq', 'mths_since_last_record', 'revol_util', 'total_acc', 'collections_12_mths_ex_med', 'mths_since_last_major_derog', 'acc_now_delinq', 'tot_coll_amt', 'tot_cur_bal', 'open_acc_6m', 'open_act_il', 'open_il_24m', 'mths_since_rcnt_il', 'total_bal_il', 'il_util', 'open_rv_12m', 'open_rv_24m', 'max_bal_bc', 'all_util', 'total_rev_hi_lim', 'inq_fi',...\ntraining data did not have the following fields: total_bal_ex_mort, tax_liens, num_sats, emp_length_1 year, chargeoff_within_12_mths, emp_length_3 years, mths_since_last_delinq, emp_length_9 years, emp_length_5 years, home_ownership_OTHER, emp_length_2 years, mths_since_recent_revol_delinq, emp_length_4 years, mo_sin_rcnt_rev_tl_op, num_tl_90g_dpd_24m, il_util, emp_length_7 years, home_ownership_OWN, collections_12_mths_ex_med, delinq_amnt, emp_length_6 years, home_ownership_NONE, num_rev_accts, home_ownership_ANY, mths_since_recent_bc_dlq, acc_now_delinq, grade_G, num_accts_ever_120_pd, num_tl_30dpd, inq_fi, grade_F, num_bc_sats, term_60 months, emp_length_8 years"
          ]
        }
      ]
    },
    {
      "cell_type": "code",
      "metadata": {
        "id": "XLmjtTSiRMDB",
        "outputId": "aea98e6b-7efb-48e0-f076-c884703d448e",
        "colab": {
          "base_uri": "https://localhost:8080/",
          "height": 72
        }
      },
      "source": [
        "print(accuracy_score(y_train,model.predict(X_train[features])))\n",
        "print(accuracy_score(y_test,model.predict(X_test[features])))\n",
        "print(accuracy_score(y_timetest,model.predict(timetest[features])))"
      ],
      "execution_count": null,
      "outputs": [
        {
          "output_type": "stream",
          "text": [
            "0.6645291340471465\n",
            "0.6621762580776471\n",
            "0.7487333829552361\n"
          ],
          "name": "stdout"
        }
      ]
    },
    {
      "cell_type": "code",
      "metadata": {
        "id": "j0wuMbAhphv6",
        "outputId": "6a4399e0-11a3-4ef4-f4dc-000f54f05a4b",
        "colab": {
          "base_uri": "https://localhost:8080/",
          "height": 35
        }
      },
      "source": [
        "res"
      ],
      "execution_count": null,
      "outputs": [
        {
          "output_type": "execute_result",
          "data": {
            "text/plain": [
              "array([0, 0, 0, ..., 0, 0, 0])"
            ]
          },
          "metadata": {
            "tags": []
          },
          "execution_count": 15
        }
      ]
    },
    {
      "cell_type": "code",
      "metadata": {
        "id": "hSGdqWkYNj5E",
        "outputId": "851ff957-2cd6-431f-d30f-dbb49d5bfee0",
        "colab": {
          "base_uri": "https://localhost:8080/",
          "height": 126
        }
      },
      "source": [
        "from sklearn.metrics import f1_score\n",
        "res = clf.predict_proba(X_train)\n",
        "th1=1-(y_train.target==0).sum()/y_train.target.count()*1\n",
        "th2=1-(y_train.target==1).sum()/y_train.target.count()*1\n",
        "c1=pd.DataFrame(res[:,0])\n",
        "c2=pd.DataFrame(res[:,1])\n",
        "print(f1_score(np.where(c1>c1.quantile(th1),1,0),np.where(y_train==0,1,0)))\n",
        "print(f1_score(np.where(c2>c2.quantile(th2),1,0),np.where(y_train==1,1,0)))\n",
        "res = clf.predict_proba(X_test)\n",
        "th1=1-(y_test.target==0).sum()/y_test.target.count()*1\n",
        "th2=1-(y_test.target==1).sum()/y_test.target.count()*1\n",
        "c1=pd.DataFrame(res[:,0])\n",
        "c2=pd.DataFrame(res[:,1])\n",
        "print(f1_score(np.where(c1>c1.quantile(th1),1,0),np.where(y_test==0,1,0)))\n",
        "print(f1_score(np.where(c2>c2.quantile(th2),1,0),np.where(y_test==1,1,0)))\n",
        "res = clf.predict_proba(timetest)\n",
        "th1=1-(y_timetest.target==0).sum()/y_timetest.target.count()*1\n",
        "th2=1-(y_timetest.target==1).sum()/y_timetest.target.count()*1\n",
        "c1=pd.DataFrame(res[:,0])\n",
        "c2=pd.DataFrame(res[:,1])\n",
        "print(f1_score(np.where(c1>c1.quantile(th1),1,0),np.where(y_timetest==0,1,0)))\n",
        "print(f1_score(np.where(c2>c2.quantile(th2),1,0),np.where(y_timetest==1,1,0)))"
      ],
      "execution_count": null,
      "outputs": [
        {
          "output_type": "stream",
          "text": [
            "0.9070699152671616\n",
            "0.21882491699037215\n",
            "0.9070029544880843\n",
            "0.2116874114704198\n",
            "0.8778926018120405\n",
            "0.26189933378929503\n"
          ],
          "name": "stdout"
        }
      ]
    },
    {
      "cell_type": "code",
      "metadata": {
        "id": "SoFihpOgOUjW",
        "outputId": "89c3e112-57de-414e-a8c3-e6a1fb6e2be2",
        "colab": {
          "base_uri": "https://localhost:8080/",
          "height": 126
        }
      },
      "source": [
        "fpr = dict()\n",
        "tpr = dict()\n",
        "roc_auc = dict()\n",
        "gini =0\n",
        "j=3\n",
        "y_predtrain=clf.predict_proba(X_train)\n",
        "y_pred=clf.predict_proba(X_test)\n",
        "y_predtime=clf.predict_proba(timetest)\n",
        "drop_enc = OneHotEncoder().fit(pd.DataFrame(y_test))\n",
        "y_gini = drop_enc.transform(pd.DataFrame(y_test)).toarray()\n",
        "drop_enc = OneHotEncoder().fit(pd.DataFrame(y_timetest))\n",
        "y_ginitime = drop_enc.transform(pd.DataFrame(y_timetest)).toarray()\n",
        "drop_enc = OneHotEncoder().fit(pd.DataFrame(y_train))\n",
        "y_ginitrain = drop_enc.transform(pd.DataFrame(y_train)).toarray()\n",
        "for i in range(j):\n",
        "    fpr[i], tpr[i], _ = roc_curve(y_ginitrain[:, i], y_predtrain[:, i])\n",
        "    roc_auc[i] = auc(fpr[i], tpr[i])\n",
        "    print(2*roc_auc[i]-1)\n",
        "for i in range(j):\n",
        "    fpr[i], tpr[i], _ = roc_curve(y_gini[:, i], y_pred[:, i])\n",
        "    roc_auc[i] = auc(fpr[i], tpr[i])\n",
        "    print(2*roc_auc[i]-1)\n",
        "for i in range(j):\n",
        "    fpr[i], tpr[i], _ = roc_curve(y_ginitime[:, i], y_predtime[:, i])\n",
        "    roc_auc[i] = auc(fpr[i], tpr[i])\n",
        "    print(2*roc_auc[i]-1)"
      ],
      "execution_count": null,
      "outputs": [
        {
          "output_type": "stream",
          "text": [
            "0.6003886554249318\n",
            "0.6003886519308415\n",
            "0.547319085418204\n",
            "0.5473190860235022\n",
            "0.6031981524538375\n",
            "0.6031981497436099\n"
          ],
          "name": "stdout"
        }
      ]
    },
    {
      "cell_type": "code",
      "metadata": {
        "id": "PAyJjAOVh8e5",
        "outputId": "5d76d0fe-dee1-4d56-e12e-fc7b730b4733",
        "colab": {
          "base_uri": "https://localhost:8080/",
          "height": 243
        }
      },
      "source": [
        "#Multi Class\n",
        "res = clf.predict_proba(X_train)\n",
        "c1=pd.DataFrame(res[:,1])\n",
        "c2=pd.DataFrame(res[:,2])\n",
        "print(f1_score(np.where(c1>c1.quantile(0.85),1,0),np.where(y_train==1,1,0)))\n",
        "print(f1_score(np.where(c2>c2.quantile(0.85),1,0),np.where(y_train==2,1,0)))\n",
        "res = clf.predict_proba(X_test)\n",
        "c1=pd.DataFrame(res[:,1])\n",
        "c2=pd.DataFrame(res[:,2])\n",
        "print(f1_score(np.where(c1>c1.quantile(0.85),1,0),np.where(y_test==1,1,0)))\n",
        "print(f1_score(np.where(c2>c2.quantile(0.85),1,0),np.where(y_test==2,1,0)))\n",
        "res = clf.predict_proba(timetest)\n",
        "c1=pd.DataFrame(res[:,1])\n",
        "c2=pd.DataFrame(res[:,2])\n",
        "print(f1_score(np.where(c1>c1.quantile(0.85),1,0),np.where(y_timetest==1,1,0)))\n",
        "print(f1_score(np.where(c2>c2.quantile(0.85),1,0),np.where(y_timetest==2,1,0)))"
      ],
      "execution_count": null,
      "outputs": [
        {
          "output_type": "error",
          "ename": "IndexError",
          "evalue": "ignored",
          "traceback": [
            "\u001b[0;31m---------------------------------------------------------------------------\u001b[0m",
            "\u001b[0;31mIndexError\u001b[0m                                Traceback (most recent call last)",
            "\u001b[0;32m<ipython-input-50-ef19afa931f3>\u001b[0m in \u001b[0;36m<module>\u001b[0;34m()\u001b[0m\n\u001b[1;32m      1\u001b[0m \u001b[0mres\u001b[0m \u001b[0;34m=\u001b[0m \u001b[0mclf\u001b[0m\u001b[0;34m.\u001b[0m\u001b[0mpredict_proba\u001b[0m\u001b[0;34m(\u001b[0m\u001b[0mX_train\u001b[0m\u001b[0;34m)\u001b[0m\u001b[0;34m\u001b[0m\u001b[0;34m\u001b[0m\u001b[0m\n\u001b[1;32m      2\u001b[0m \u001b[0mc1\u001b[0m\u001b[0;34m=\u001b[0m\u001b[0mpd\u001b[0m\u001b[0;34m.\u001b[0m\u001b[0mDataFrame\u001b[0m\u001b[0;34m(\u001b[0m\u001b[0mres\u001b[0m\u001b[0;34m[\u001b[0m\u001b[0;34m:\u001b[0m\u001b[0;34m,\u001b[0m\u001b[0;36m1\u001b[0m\u001b[0;34m]\u001b[0m\u001b[0;34m)\u001b[0m\u001b[0;34m\u001b[0m\u001b[0;34m\u001b[0m\u001b[0m\n\u001b[0;32m----> 3\u001b[0;31m \u001b[0mc2\u001b[0m\u001b[0;34m=\u001b[0m\u001b[0mpd\u001b[0m\u001b[0;34m.\u001b[0m\u001b[0mDataFrame\u001b[0m\u001b[0;34m(\u001b[0m\u001b[0mres\u001b[0m\u001b[0;34m[\u001b[0m\u001b[0;34m:\u001b[0m\u001b[0;34m,\u001b[0m\u001b[0;36m2\u001b[0m\u001b[0;34m]\u001b[0m\u001b[0;34m)\u001b[0m\u001b[0;34m\u001b[0m\u001b[0;34m\u001b[0m\u001b[0m\n\u001b[0m\u001b[1;32m      4\u001b[0m \u001b[0mprint\u001b[0m\u001b[0;34m(\u001b[0m\u001b[0mf1_score\u001b[0m\u001b[0;34m(\u001b[0m\u001b[0mnp\u001b[0m\u001b[0;34m.\u001b[0m\u001b[0mwhere\u001b[0m\u001b[0;34m(\u001b[0m\u001b[0mc1\u001b[0m\u001b[0;34m>\u001b[0m\u001b[0mc1\u001b[0m\u001b[0;34m.\u001b[0m\u001b[0mquantile\u001b[0m\u001b[0;34m(\u001b[0m\u001b[0;36m0.85\u001b[0m\u001b[0;34m)\u001b[0m\u001b[0;34m,\u001b[0m\u001b[0;36m1\u001b[0m\u001b[0;34m,\u001b[0m\u001b[0;36m0\u001b[0m\u001b[0;34m)\u001b[0m\u001b[0;34m,\u001b[0m\u001b[0mnp\u001b[0m\u001b[0;34m.\u001b[0m\u001b[0mwhere\u001b[0m\u001b[0;34m(\u001b[0m\u001b[0my_train\u001b[0m\u001b[0;34m==\u001b[0m\u001b[0;36m1\u001b[0m\u001b[0;34m,\u001b[0m\u001b[0;36m1\u001b[0m\u001b[0;34m,\u001b[0m\u001b[0;36m0\u001b[0m\u001b[0;34m)\u001b[0m\u001b[0;34m)\u001b[0m\u001b[0;34m)\u001b[0m\u001b[0;34m\u001b[0m\u001b[0;34m\u001b[0m\u001b[0m\n\u001b[1;32m      5\u001b[0m \u001b[0mprint\u001b[0m\u001b[0;34m(\u001b[0m\u001b[0mf1_score\u001b[0m\u001b[0;34m(\u001b[0m\u001b[0mnp\u001b[0m\u001b[0;34m.\u001b[0m\u001b[0mwhere\u001b[0m\u001b[0;34m(\u001b[0m\u001b[0mc2\u001b[0m\u001b[0;34m>\u001b[0m\u001b[0mc2\u001b[0m\u001b[0;34m.\u001b[0m\u001b[0mquantile\u001b[0m\u001b[0;34m(\u001b[0m\u001b[0;36m0.85\u001b[0m\u001b[0;34m)\u001b[0m\u001b[0;34m,\u001b[0m\u001b[0;36m1\u001b[0m\u001b[0;34m,\u001b[0m\u001b[0;36m0\u001b[0m\u001b[0;34m)\u001b[0m\u001b[0;34m,\u001b[0m\u001b[0mnp\u001b[0m\u001b[0;34m.\u001b[0m\u001b[0mwhere\u001b[0m\u001b[0;34m(\u001b[0m\u001b[0my_train\u001b[0m\u001b[0;34m==\u001b[0m\u001b[0;36m2\u001b[0m\u001b[0;34m,\u001b[0m\u001b[0;36m1\u001b[0m\u001b[0;34m,\u001b[0m\u001b[0;36m0\u001b[0m\u001b[0;34m)\u001b[0m\u001b[0;34m)\u001b[0m\u001b[0;34m)\u001b[0m\u001b[0;34m\u001b[0m\u001b[0;34m\u001b[0m\u001b[0m\n",
            "\u001b[0;31mIndexError\u001b[0m: index 2 is out of bounds for axis 1 with size 2"
          ]
        }
      ]
    },
    {
      "cell_type": "code",
      "metadata": {
        "id": "n2tfHiOmo6df",
        "outputId": "70da09a9-f09e-4658-d983-987bf50aaf67",
        "colab": {
          "base_uri": "https://localhost:8080/",
          "height": 446
        }
      },
      "source": [
        "import matplotlib.pyplot as plt\n",
        "fscores = pd.DataFrame({'X': list(clf.get_fscore().keys()), 'Y': list(clf.get_fscore().values())})\n",
        "fscores.sort_values(by='Y')[:20].plot.bar(x='X')"
      ],
      "execution_count": null,
      "outputs": [
        {
          "output_type": "execute_result",
          "data": {
            "text/plain": [
              "<matplotlib.axes._subplots.AxesSubplot at 0x7f971b206470>"
            ]
          },
          "metadata": {
            "tags": []
          },
          "execution_count": 109
        },
        {
          "output_type": "display_data",
          "data": {
            "image/png": "[encoded data removed]",
            "text/plain": [
              "<Figure size 432x288 with 1 Axes>"
            ]
          },
          "metadata": {
            "tags": [],
            "needs_background": "light"
          }
        }
      ]
    },
    {
      "cell_type": "code",
      "metadata": {
        "id": "bcTqdf3QSmhM",
        "outputId": "5671ee78-528a-4984-d391-449d2eb4f826",
        "colab": {
          "base_uri": "https://localhost:8080/",
          "height": 162
        }
      },
      "source": [
        "p['params'][0]"
      ],
      "execution_count": null,
      "outputs": [
        {
          "output_type": "execute_result",
          "data": {
            "text/plain": [
              "{'colsamplebytree': 0.7437294745211924,\n",
              " 'gamma': 0.6890874490069687,\n",
              " 'learning_rate': 0.4398580735116945,\n",
              " 'max_delta_step': 0.16470318541093687,\n",
              " 'max_depth': 8.364398313729607,\n",
              " 'n_estimators': 609.5899910058658,\n",
              " 'reg_alpha': 0.01756406993503956,\n",
              " 'scale_pos_weight': 8.241068307862609}"
            ]
          },
          "metadata": {
            "tags": []
          },
          "execution_count": 22
        }
      ]
    },
    {
      "cell_type": "code",
      "metadata": {
        "id": "xMY0__3tCq-l",
        "outputId": "8a31cec5-4873-4ffa-8f73-35bd207ea867",
        "colab": {
          "base_uri": "https://localhost:8080/",
          "height": 431
        }
      },
      "source": [
        "gini={}\n",
        "gini_train={}\n",
        "gini_time={}\n",
        "f1={}\n",
        "f1_train={}\n",
        "f1_time={}\n",
        "for i in tqdm(range(10)):\n",
        "  #para= ast.literal_eval(re.search('({.+})', p['params'][i]).group(0))\n",
        "  para = p['params'][i]\n",
        "  para['n_estimators']=int(para['n_estimators'])\n",
        "  para['max_depth']=int(para['max_depth'])\n",
        "  para['scale_pos_weight']=int(para['scale_pos_weight'])\n",
        "  para['objective'] = 'reg:logistic'\n",
        "  #para['num_class'] = 2\n",
        "  dtrain = xgb.DMatrix(X_train,label=y_train)\n",
        "  clf = xgb.train(para,dtrain)\n",
        "  res = clf.predict(xgb.DMatrix(X_test))\n",
        "  f1[i]=f1_score(y_test,res,average=None)\n",
        "  gini[i]=calc_gini(y_test,res)\n",
        "  res = clf.predict(xgb.DMatrix(X_train))\n",
        "  f1_train[i]=f1_score(y_train,res,average=None)\n",
        "  gini_train[i]=calc_gini(y_train,res)\n",
        "  res = clf.predict(xgb.DMatrix(timetest))\n",
        "  f1_time[i]=f1_score(y_timetest,res,average=None)\n",
        "  gini_time[i]=calc_gini(y_timetest,res)\n",
        "\n",
        "#result = clf.predict_proba(X_test)"
      ],
      "execution_count": null,
      "outputs": [
        {
          "output_type": "stream",
          "text": [
            "\n",
            "  0%|          | 0/10 [00:00<?, ?it/s]\u001b[A"
          ],
          "name": "stderr"
        },
        {
          "output_type": "error",
          "ename": "ValueError",
          "evalue": "ignored",
          "traceback": [
            "\u001b[0;31m---------------------------------------------------------------------------\u001b[0m",
            "\u001b[0;31mValueError\u001b[0m                                Traceback (most recent call last)",
            "\u001b[0;32m<ipython-input-58-1d2e87d7c900>\u001b[0m in \u001b[0;36m<module>\u001b[0;34m()\u001b[0m\n\u001b[1;32m     16\u001b[0m   \u001b[0mclf\u001b[0m \u001b[0;34m=\u001b[0m \u001b[0mxgb\u001b[0m\u001b[0;34m.\u001b[0m\u001b[0mtrain\u001b[0m\u001b[0;34m(\u001b[0m\u001b[0mpara\u001b[0m\u001b[0;34m,\u001b[0m\u001b[0mdtrain\u001b[0m\u001b[0;34m)\u001b[0m\u001b[0;34m\u001b[0m\u001b[0;34m\u001b[0m\u001b[0m\n\u001b[1;32m     17\u001b[0m   \u001b[0mres\u001b[0m \u001b[0;34m=\u001b[0m \u001b[0mclf\u001b[0m\u001b[0;34m.\u001b[0m\u001b[0mpredict\u001b[0m\u001b[0;34m(\u001b[0m\u001b[0mxgb\u001b[0m\u001b[0;34m.\u001b[0m\u001b[0mDMatrix\u001b[0m\u001b[0;34m(\u001b[0m\u001b[0mX_test\u001b[0m\u001b[0;34m)\u001b[0m\u001b[0;34m)\u001b[0m\u001b[0;34m\u001b[0m\u001b[0;34m\u001b[0m\u001b[0m\n\u001b[0;32m---> 18\u001b[0;31m   \u001b[0mf1\u001b[0m\u001b[0;34m[\u001b[0m\u001b[0mi\u001b[0m\u001b[0;34m]\u001b[0m\u001b[0;34m=\u001b[0m\u001b[0mf1_score\u001b[0m\u001b[0;34m(\u001b[0m\u001b[0my_test\u001b[0m\u001b[0;34m,\u001b[0m\u001b[0mres\u001b[0m\u001b[0;34m,\u001b[0m\u001b[0maverage\u001b[0m\u001b[0;34m=\u001b[0m\u001b[0;32mNone\u001b[0m\u001b[0;34m)\u001b[0m\u001b[0;34m\u001b[0m\u001b[0;34m\u001b[0m\u001b[0m\n\u001b[0m\u001b[1;32m     19\u001b[0m   \u001b[0mgini\u001b[0m\u001b[0;34m[\u001b[0m\u001b[0mi\u001b[0m\u001b[0;34m]\u001b[0m\u001b[0;34m=\u001b[0m\u001b[0mcalc_gini\u001b[0m\u001b[0;34m(\u001b[0m\u001b[0my_test\u001b[0m\u001b[0;34m,\u001b[0m\u001b[0mres\u001b[0m\u001b[0;34m)\u001b[0m\u001b[0;34m\u001b[0m\u001b[0;34m\u001b[0m\u001b[0m\n\u001b[1;32m     20\u001b[0m   \u001b[0mres\u001b[0m \u001b[0;34m=\u001b[0m \u001b[0mclf\u001b[0m\u001b[0;34m.\u001b[0m\u001b[0mpredict\u001b[0m\u001b[0;34m(\u001b[0m\u001b[0mxgb\u001b[0m\u001b[0;34m.\u001b[0m\u001b[0mDMatrix\u001b[0m\u001b[0;34m(\u001b[0m\u001b[0mX_train\u001b[0m\u001b[0;34m)\u001b[0m\u001b[0;34m)\u001b[0m\u001b[0;34m\u001b[0m\u001b[0;34m\u001b[0m\u001b[0m\n",
            "\u001b[0;32m/usr/local/lib/python3.6/dist-packages/sklearn/metrics/_classification.py\u001b[0m in \u001b[0;36mf1_score\u001b[0;34m(y_true, y_pred, labels, pos_label, average, sample_weight, zero_division)\u001b[0m\n\u001b[1;32m   1097\u001b[0m                        \u001b[0mpos_label\u001b[0m\u001b[0;34m=\u001b[0m\u001b[0mpos_label\u001b[0m\u001b[0;34m,\u001b[0m \u001b[0maverage\u001b[0m\u001b[0;34m=\u001b[0m\u001b[0maverage\u001b[0m\u001b[0;34m,\u001b[0m\u001b[0;34m\u001b[0m\u001b[0;34m\u001b[0m\u001b[0m\n\u001b[1;32m   1098\u001b[0m                        \u001b[0msample_weight\u001b[0m\u001b[0;34m=\u001b[0m\u001b[0msample_weight\u001b[0m\u001b[0;34m,\u001b[0m\u001b[0;34m\u001b[0m\u001b[0;34m\u001b[0m\u001b[0m\n\u001b[0;32m-> 1099\u001b[0;31m                        zero_division=zero_division)\n\u001b[0m\u001b[1;32m   1100\u001b[0m \u001b[0;34m\u001b[0m\u001b[0m\n\u001b[1;32m   1101\u001b[0m \u001b[0;34m\u001b[0m\u001b[0m\n",
            "\u001b[0;32m/usr/local/lib/python3.6/dist-packages/sklearn/metrics/_classification.py\u001b[0m in \u001b[0;36mfbeta_score\u001b[0;34m(y_true, y_pred, beta, labels, pos_label, average, sample_weight, zero_division)\u001b[0m\n\u001b[1;32m   1224\u001b[0m                                                  \u001b[0mwarn_for\u001b[0m\u001b[0;34m=\u001b[0m\u001b[0;34m(\u001b[0m\u001b[0;34m'f-score'\u001b[0m\u001b[0;34m,\u001b[0m\u001b[0;34m)\u001b[0m\u001b[0;34m,\u001b[0m\u001b[0;34m\u001b[0m\u001b[0;34m\u001b[0m\u001b[0m\n\u001b[1;32m   1225\u001b[0m                                                  \u001b[0msample_weight\u001b[0m\u001b[0;34m=\u001b[0m\u001b[0msample_weight\u001b[0m\u001b[0;34m,\u001b[0m\u001b[0;34m\u001b[0m\u001b[0;34m\u001b[0m\u001b[0m\n\u001b[0;32m-> 1226\u001b[0;31m                                                  zero_division=zero_division)\n\u001b[0m\u001b[1;32m   1227\u001b[0m     \u001b[0;32mreturn\u001b[0m \u001b[0mf\u001b[0m\u001b[0;34m\u001b[0m\u001b[0;34m\u001b[0m\u001b[0m\n\u001b[1;32m   1228\u001b[0m \u001b[0;34m\u001b[0m\u001b[0m\n",
            "\u001b[0;32m/usr/local/lib/python3.6/dist-packages/sklearn/metrics/_classification.py\u001b[0m in \u001b[0;36mprecision_recall_fscore_support\u001b[0;34m(y_true, y_pred, beta, labels, pos_label, average, warn_for, sample_weight, zero_division)\u001b[0m\n\u001b[1;32m   1482\u001b[0m         \u001b[0;32mraise\u001b[0m \u001b[0mValueError\u001b[0m\u001b[0;34m(\u001b[0m\u001b[0;34m\"beta should be >=0 in the F-beta score\"\u001b[0m\u001b[0;34m)\u001b[0m\u001b[0;34m\u001b[0m\u001b[0;34m\u001b[0m\u001b[0m\n\u001b[1;32m   1483\u001b[0m     labels = _check_set_wise_labels(y_true, y_pred, average, labels,\n\u001b[0;32m-> 1484\u001b[0;31m                                     pos_label)\n\u001b[0m\u001b[1;32m   1485\u001b[0m \u001b[0;34m\u001b[0m\u001b[0m\n\u001b[1;32m   1486\u001b[0m     \u001b[0;31m# Calculate tp_sum, pred_sum, true_sum ###\u001b[0m\u001b[0;34m\u001b[0m\u001b[0;34m\u001b[0m\u001b[0;34m\u001b[0m\u001b[0m\n",
            "\u001b[0;32m/usr/local/lib/python3.6/dist-packages/sklearn/metrics/_classification.py\u001b[0m in \u001b[0;36m_check_set_wise_labels\u001b[0;34m(y_true, y_pred, average, labels, pos_label)\u001b[0m\n\u001b[1;32m   1299\u001b[0m                          str(average_options))\n\u001b[1;32m   1300\u001b[0m \u001b[0;34m\u001b[0m\u001b[0m\n\u001b[0;32m-> 1301\u001b[0;31m     \u001b[0my_type\u001b[0m\u001b[0;34m,\u001b[0m \u001b[0my_true\u001b[0m\u001b[0;34m,\u001b[0m \u001b[0my_pred\u001b[0m \u001b[0;34m=\u001b[0m \u001b[0m_check_targets\u001b[0m\u001b[0;34m(\u001b[0m\u001b[0my_true\u001b[0m\u001b[0;34m,\u001b[0m \u001b[0my_pred\u001b[0m\u001b[0;34m)\u001b[0m\u001b[0;34m\u001b[0m\u001b[0;34m\u001b[0m\u001b[0m\n\u001b[0m\u001b[1;32m   1302\u001b[0m     \u001b[0mpresent_labels\u001b[0m \u001b[0;34m=\u001b[0m \u001b[0munique_labels\u001b[0m\u001b[0;34m(\u001b[0m\u001b[0my_true\u001b[0m\u001b[0;34m,\u001b[0m \u001b[0my_pred\u001b[0m\u001b[0;34m)\u001b[0m\u001b[0;34m\u001b[0m\u001b[0;34m\u001b[0m\u001b[0m\n\u001b[1;32m   1303\u001b[0m     \u001b[0;32mif\u001b[0m \u001b[0maverage\u001b[0m \u001b[0;34m==\u001b[0m \u001b[0;34m'binary'\u001b[0m\u001b[0;34m:\u001b[0m\u001b[0;34m\u001b[0m\u001b[0;34m\u001b[0m\u001b[0m\n",
            "\u001b[0;32m/usr/local/lib/python3.6/dist-packages/sklearn/metrics/_classification.py\u001b[0m in \u001b[0;36m_check_targets\u001b[0;34m(y_true, y_pred)\u001b[0m\n\u001b[1;32m     88\u001b[0m     \u001b[0;32mif\u001b[0m \u001b[0mlen\u001b[0m\u001b[0;34m(\u001b[0m\u001b[0my_type\u001b[0m\u001b[0;34m)\u001b[0m \u001b[0;34m>\u001b[0m \u001b[0;36m1\u001b[0m\u001b[0;34m:\u001b[0m\u001b[0;34m\u001b[0m\u001b[0;34m\u001b[0m\u001b[0m\n\u001b[1;32m     89\u001b[0m         raise ValueError(\"Classification metrics can't handle a mix of {0} \"\n\u001b[0;32m---> 90\u001b[0;31m                          \"and {1} targets\".format(type_true, type_pred))\n\u001b[0m\u001b[1;32m     91\u001b[0m \u001b[0;34m\u001b[0m\u001b[0m\n\u001b[1;32m     92\u001b[0m     \u001b[0;31m# We can't have more than one value on y_type => The set is no more needed\u001b[0m\u001b[0;34m\u001b[0m\u001b[0;34m\u001b[0m\u001b[0;34m\u001b[0m\u001b[0m\n",
            "\u001b[0;31mValueError\u001b[0m: Classification metrics can't handle a mix of binary and continuous targets"
          ]
        }
      ]
    },
    {
      "cell_type": "code",
      "metadata": {
        "id": "CBL-Q4j9VWGD"
      },
      "source": [
        "res = clf.predict(X_test)\n"
      ],
      "execution_count": null,
      "outputs": []
    },
    {
      "cell_type": "code",
      "metadata": {
        "id": "LdDQfAVtgo62"
      },
      "source": [
        "def calc_gini(y,y_p,j=1):\n",
        "  gini ={}\n",
        "  fpr={}\n",
        "  tpr={}\n",
        "  roc_auc={}\n",
        "  g=0\n",
        "  if j==1:\n",
        "    fpr, tpr, _ = roc_curve(y, y_p)\n",
        "    roc_auc = auc(fpr, tpr)\n",
        "    gini=2*roc_auc-1 \n",
        "  else:\n",
        "    y_g = OneHotEncoder().fit_transform(pd.DataFrame(y)).toarray()\n",
        "    for i in range(j):\n",
        "      fpr[i], tpr[i], _ = roc_curve(y_g[:, i], y_p[:, i])\n",
        "      roc_auc[i] = auc(fpr[i], tpr[i])\n",
        "      gini[i]=2*roc_auc[i]-1   \n",
        "  gc.collect()\n",
        "  return gini"
      ],
      "execution_count": null,
      "outputs": []
    },
    {
      "cell_type": "code",
      "metadata": {
        "id": "DoxaSeHlr533"
      },
      "source": [
        "para=xgb.max['params']\n",
        "para['n_estimators']=int(para['n_estimators'])\n",
        "para['max_depth']=int(para['max_depth'])\n",
        "para['scale_pos_weight']=int(para['scale_pos_weight'])\n",
        "para['objective'] = 'multi:softprob'\n",
        "para['tree_method'] = 'gpu_hist'\n",
        "para['num_class'] = 3"
      ],
      "execution_count": null,
      "outputs": []
    },
    {
      "cell_type": "code",
      "metadata": {
        "id": "9UDlZcf_n4oi",
        "cellView": "code",
        "outputId": "ae96f25d-71b2-4ef6-ad87-f4d4513dc620",
        "colab": {
          "base_uri": "https://localhost:8080/",
          "height": 764
        }
      },
      "source": [
        "gini={}\n",
        "gini_train={}\n",
        "gini_time={}\n",
        "f1={}\n",
        "f1_train={}\n",
        "f1_time={}\n",
        "p = pd.DataFrame.from_dict(xgb_bo.res)\n",
        "for i in range(10):\n",
        "  para=p['params'][i]\n",
        "  para['n_estimators']=int(para['n_estimators'])\n",
        "  para['max_depth']=int(para['max_depth'])\n",
        "  para['scale_pos_weight']=int(para['scale_pos_weight'])\n",
        "  para['objective'] = 'multi:softprob'\n",
        "  para['tree_method'] = 'gpu_hist'\n",
        "  para['num_class'] = 3\n",
        "  #dtrain = xgb.DMatrix(X_train,label=y_train)\n",
        "  clf = xgb.XGBClassifier(**para).fit(X_train,y_train)\n",
        "  res = clf.predict_proba(X_test)\n",
        "  gini[i]=calc_gini(y_test,res,3)\n",
        "  res = clf.predict(X_test)\n",
        "  f1[i]=f1_score(y_test,res,average=None)\n",
        "  res = clf.predict_proba(X_train)\n",
        "  gini_train[i]=calc_gini(y_train,res,3)\n",
        "  res = clf.predict(X_train)\n",
        "  f1_train[i]=f1_score(y_train,res,average=None)\n",
        "  res = clf.predict_proba(timetest)\n",
        "  gini_time[i]=calc_gini(y_timetest,res,3)\n",
        "  res = clf.predict(timetest)\n",
        "  f1_time[i]=f1_score(y_timetest,res,average=None)\n",
        "  gc.collect()\n",
        "  #fscores = pd.DataFrame({'X': list(clf.get_fscore().keys()), 'Y': list(clf.get_fscore().values())})\n",
        "  #plt.figure(i)\n",
        "  #fscores.sort_values(by='Y')[:20].plot.bar(x='X')\n",
        "#result = clf.predict_proba(X_test)"
      ],
      "execution_count": null,
      "outputs": [
        {
          "output_type": "stream",
          "text": [
            "/usr/local/lib/python3.6/dist-packages/sklearn/preprocessing/_label.py:235: DataConversionWarning: A column-vector y was passed when a 1d array was expected. Please change the shape of y to (n_samples, ), for example using ravel().\n",
            "  y = column_or_1d(y, warn=True)\n",
            "/usr/local/lib/python3.6/dist-packages/sklearn/preprocessing/_label.py:268: DataConversionWarning: A column-vector y was passed when a 1d array was expected. Please change the shape of y to (n_samples, ), for example using ravel().\n",
            "  y = column_or_1d(y, warn=True)\n",
            "/usr/local/lib/python3.6/dist-packages/sklearn/preprocessing/_label.py:235: DataConversionWarning: A column-vector y was passed when a 1d array was expected. Please change the shape of y to (n_samples, ), for example using ravel().\n",
            "  y = column_or_1d(y, warn=True)\n",
            "/usr/local/lib/python3.6/dist-packages/sklearn/preprocessing/_label.py:268: DataConversionWarning: A column-vector y was passed when a 1d array was expected. Please change the shape of y to (n_samples, ), for example using ravel().\n",
            "  y = column_or_1d(y, warn=True)\n",
            "/usr/local/lib/python3.6/dist-packages/sklearn/preprocessing/_label.py:235: DataConversionWarning: A column-vector y was passed when a 1d array was expected. Please change the shape of y to (n_samples, ), for example using ravel().\n",
            "  y = column_or_1d(y, warn=True)\n",
            "/usr/local/lib/python3.6/dist-packages/sklearn/preprocessing/_label.py:268: DataConversionWarning: A column-vector y was passed when a 1d array was expected. Please change the shape of y to (n_samples, ), for example using ravel().\n",
            "  y = column_or_1d(y, warn=True)\n",
            "/usr/local/lib/python3.6/dist-packages/sklearn/preprocessing/_label.py:235: DataConversionWarning: A column-vector y was passed when a 1d array was expected. Please change the shape of y to (n_samples, ), for example using ravel().\n",
            "  y = column_or_1d(y, warn=True)\n",
            "/usr/local/lib/python3.6/dist-packages/sklearn/preprocessing/_label.py:268: DataConversionWarning: A column-vector y was passed when a 1d array was expected. Please change the shape of y to (n_samples, ), for example using ravel().\n",
            "  y = column_or_1d(y, warn=True)\n",
            "/usr/local/lib/python3.6/dist-packages/sklearn/preprocessing/_label.py:235: DataConversionWarning: A column-vector y was passed when a 1d array was expected. Please change the shape of y to (n_samples, ), for example using ravel().\n",
            "  y = column_or_1d(y, warn=True)\n",
            "/usr/local/lib/python3.6/dist-packages/sklearn/preprocessing/_label.py:268: DataConversionWarning: A column-vector y was passed when a 1d array was expected. Please change the shape of y to (n_samples, ), for example using ravel().\n",
            "  y = column_or_1d(y, warn=True)\n",
            "/usr/local/lib/python3.6/dist-packages/sklearn/preprocessing/_label.py:235: DataConversionWarning: A column-vector y was passed when a 1d array was expected. Please change the shape of y to (n_samples, ), for example using ravel().\n",
            "  y = column_or_1d(y, warn=True)\n",
            "/usr/local/lib/python3.6/dist-packages/sklearn/preprocessing/_label.py:268: DataConversionWarning: A column-vector y was passed when a 1d array was expected. Please change the shape of y to (n_samples, ), for example using ravel().\n",
            "  y = column_or_1d(y, warn=True)\n",
            "/usr/local/lib/python3.6/dist-packages/sklearn/preprocessing/_label.py:235: DataConversionWarning: A column-vector y was passed when a 1d array was expected. Please change the shape of y to (n_samples, ), for example using ravel().\n",
            "  y = column_or_1d(y, warn=True)\n",
            "/usr/local/lib/python3.6/dist-packages/sklearn/preprocessing/_label.py:268: DataConversionWarning: A column-vector y was passed when a 1d array was expected. Please change the shape of y to (n_samples, ), for example using ravel().\n",
            "  y = column_or_1d(y, warn=True)\n",
            "/usr/local/lib/python3.6/dist-packages/sklearn/preprocessing/_label.py:235: DataConversionWarning: A column-vector y was passed when a 1d array was expected. Please change the shape of y to (n_samples, ), for example using ravel().\n",
            "  y = column_or_1d(y, warn=True)\n",
            "/usr/local/lib/python3.6/dist-packages/sklearn/preprocessing/_label.py:268: DataConversionWarning: A column-vector y was passed when a 1d array was expected. Please change the shape of y to (n_samples, ), for example using ravel().\n",
            "  y = column_or_1d(y, warn=True)\n",
            "/usr/local/lib/python3.6/dist-packages/sklearn/preprocessing/_label.py:235: DataConversionWarning: A column-vector y was passed when a 1d array was expected. Please change the shape of y to (n_samples, ), for example using ravel().\n",
            "  y = column_or_1d(y, warn=True)\n",
            "/usr/local/lib/python3.6/dist-packages/sklearn/preprocessing/_label.py:268: DataConversionWarning: A column-vector y was passed when a 1d array was expected. Please change the shape of y to (n_samples, ), for example using ravel().\n",
            "  y = column_or_1d(y, warn=True)\n",
            "/usr/local/lib/python3.6/dist-packages/sklearn/preprocessing/_label.py:235: DataConversionWarning: A column-vector y was passed when a 1d array was expected. Please change the shape of y to (n_samples, ), for example using ravel().\n",
            "  y = column_or_1d(y, warn=True)\n",
            "/usr/local/lib/python3.6/dist-packages/sklearn/preprocessing/_label.py:268: DataConversionWarning: A column-vector y was passed when a 1d array was expected. Please change the shape of y to (n_samples, ), for example using ravel().\n",
            "  y = column_or_1d(y, warn=True)\n"
          ],
          "name": "stderr"
        }
      ]
    },
    {
      "cell_type": "code",
      "metadata": {
        "id": "ft3oQfAghjeO"
      },
      "source": [
        "test = pd.DataFrame.from_dict(gini)\n",
        "train = pd.DataFrame.from_dict(gini_train)\n",
        "time = pd.DataFrame.from_dict(gini_time)"
      ],
      "execution_count": null,
      "outputs": []
    },
    {
      "cell_type": "code",
      "metadata": {
        "id": "rNHfLzDDm33m",
        "outputId": "ec5d930e-c6e5-4763-fdf3-8ff110ad99fd",
        "colab": {
          "base_uri": "https://localhost:8080/",
          "height": 163
        }
      },
      "source": [
        "pd.DataFrame.from_dict(f1_time)"
      ],
      "execution_count": null,
      "outputs": [
        {
          "output_type": "execute_result",
          "data": {
            "text/html": [
              "<div>\n",
              "<style scoped>\n",
              "    .dataframe tbody tr th:only-of-type {\n",
              "        vertical-align: middle;\n",
              "    }\n",
              "\n",
              "    .dataframe tbody tr th {\n",
              "        vertical-align: top;\n",
              "    }\n",
              "\n",
              "    .dataframe thead th {\n",
              "        text-align: right;\n",
              "    }\n",
              "</style>\n",
              "<table border=\"1\" class=\"dataframe\">\n",
              "  <thead>\n",
              "    <tr style=\"text-align: right;\">\n",
              "      <th></th>\n",
              "      <th>0</th>\n",
              "      <th>1</th>\n",
              "      <th>2</th>\n",
              "      <th>3</th>\n",
              "      <th>4</th>\n",
              "      <th>5</th>\n",
              "      <th>6</th>\n",
              "      <th>7</th>\n",
              "      <th>8</th>\n",
              "      <th>9</th>\n",
              "    </tr>\n",
              "  </thead>\n",
              "  <tbody>\n",
              "    <tr>\n",
              "      <th>0</th>\n",
              "      <td>0.849514</td>\n",
              "      <td>0.849394</td>\n",
              "      <td>0.849765</td>\n",
              "      <td>0.849069</td>\n",
              "      <td>0.845614</td>\n",
              "      <td>0.848876</td>\n",
              "      <td>0.848576</td>\n",
              "      <td>0.842479</td>\n",
              "      <td>0.849272</td>\n",
              "      <td>0.849280</td>\n",
              "    </tr>\n",
              "    <tr>\n",
              "      <th>1</th>\n",
              "      <td>0.296216</td>\n",
              "      <td>0.301085</td>\n",
              "      <td>0.280934</td>\n",
              "      <td>0.294255</td>\n",
              "      <td>0.296391</td>\n",
              "      <td>0.278993</td>\n",
              "      <td>0.301944</td>\n",
              "      <td>0.290719</td>\n",
              "      <td>0.175070</td>\n",
              "      <td>0.293637</td>\n",
              "    </tr>\n",
              "    <tr>\n",
              "      <th>2</th>\n",
              "      <td>0.000101</td>\n",
              "      <td>0.006971</td>\n",
              "      <td>0.000000</td>\n",
              "      <td>0.006917</td>\n",
              "      <td>0.031292</td>\n",
              "      <td>0.000000</td>\n",
              "      <td>0.014940</td>\n",
              "      <td>0.038437</td>\n",
              "      <td>0.000000</td>\n",
              "      <td>0.000000</td>\n",
              "    </tr>\n",
              "  </tbody>\n",
              "</table>\n",
              "</div>"
            ],
            "text/plain": [
              "          0         1         2  ...         7         8         9\n",
              "0  0.849514  0.849394  0.849765  ...  0.842479  0.849272  0.849280\n",
              "1  0.296216  0.301085  0.280934  ...  0.290719  0.175070  0.293637\n",
              "2  0.000101  0.006971  0.000000  ...  0.038437  0.000000  0.000000\n",
              "\n",
              "[3 rows x 10 columns]"
            ]
          },
          "metadata": {
            "tags": []
          },
          "execution_count": 21
        }
      ]
    },
    {
      "cell_type": "code",
      "metadata": {
        "id": "5qVsqtiJmCkl"
      },
      "source": [
        "pd.set_option('display.max_colwidth', 100)\n",
        "#p.T"
      ],
      "execution_count": null,
      "outputs": []
    },
    {
      "cell_type": "code",
      "metadata": {
        "id": "l6NqRtSqFoVN"
      },
      "source": [
        "def calc_gini(y,y_p,j=1):\n",
        "  gini ={}\n",
        "  fpr={}\n",
        "  tpr={}\n",
        "  roc_auc={}\n",
        "  g=0\n",
        "  if j==1:\n",
        "    fpr, tpr, _ = roc_curve(y, y_p)\n",
        "    roc_auc = auc(fpr, tpr)\n",
        "    gini=2*roc_auc-1\n",
        "  else:\n",
        "    y_g = OneHotEncoder().fit_transform(pd.DataFrame(y)).toarray()\n",
        "    for i in range(j):\n",
        "      fpr[i], tpr[i], _ = roc_curve(y_g[:, i], y_p[:, i])\n",
        "      roc_auc[i] = auc(fpr[i], tpr[i])\n",
        "      gini[i]=2*roc_auc[i]-1   \n",
        "  return gini"
      ],
      "execution_count": null,
      "outputs": []
    },
    {
      "cell_type": "code",
      "metadata": {
        "id": "VfWUgn0FeVBl"
      },
      "source": [
        "def calc_f1(y,y_p)\n",
        " return f1_score(y, y_p, average='weighted')"
      ],
      "execution_count": null,
      "outputs": []
    },
    {
      "cell_type": "code",
      "metadata": {
        "id": "YFqdcM6KWKzG"
      },
      "source": [
        "p = pd.DataFrame(index=None)\n",
        "for i in cvvalues:\n",
        "  p=p.append(i)\n",
        "p.to_excel('/content/drive/My Drive/Lending-Club/01_ginieval.xlsx')\n",
        "pd.DataFrame(xgb_bo.res).to_excel('/content/drive/My Drive/Lending-Club/01_ginieval_params.xlsx')"
      ],
      "execution_count": null,
      "outputs": []
    },
    {
      "cell_type": "code",
      "metadata": {
        "id": "ZRliEpPKx6Sh",
        "outputId": "f4076a1b-d165-4e72-fb06-9854986c2e20",
        "colab": {
          "base_uri": "https://localhost:8080/",
          "height": 128
        }
      },
      "source": [
        "params = xgb_bo.max['params']\n",
        "print(params)\n",
        "params['max_depth']= int(params['max_depth'])\n",
        "params['n_estimators']= int(params['n_estimators'])\n",
        "params['scale_pos_weight'] = int(params['scale_pos_weight'])\n",
        "dtrain = xgb.DMatrix(X_train,label=y_train)\n",
        "classifier = xgb.XGBClassifier(**params,n_jobs=8).fit(X_train,y_train)\n",
        "#classifier = xgb.train(params=params,dtrain=dtrain)\n",
        "#predicting for training set\n",
        "#train_p = classifier.predict(X_test)\n",
        "\n",
        "#Looking at the classification report\n"
      ],
      "execution_count": null,
      "outputs": [
        {
          "output_type": "stream",
          "text": [
            "{'colsamplebytree': 0.9237794774103967, 'gamma': 0.29426934471501065, 'learning_rate': 0.3451676293927219, 'max_depth': 6.653738829160071, 'n_estimators': 644.9716762441991, 'reg_alpha': 0.10899022196561392, 'scale_pos_weight': 8.07302532737576}\n"
          ],
          "name": "stdout"
        },
        {
          "output_type": "stream",
          "text": [
            "/usr/local/lib/python3.6/dist-packages/sklearn/preprocessing/_label.py:235: DataConversionWarning: A column-vector y was passed when a 1d array was expected. Please change the shape of y to (n_samples, ), for example using ravel().\n",
            "  y = column_or_1d(y, warn=True)\n",
            "/usr/local/lib/python3.6/dist-packages/sklearn/preprocessing/_label.py:268: DataConversionWarning: A column-vector y was passed when a 1d array was expected. Please change the shape of y to (n_samples, ), for example using ravel().\n",
            "  y = column_or_1d(y, warn=True)\n"
          ],
          "name": "stderr"
        }
      ]
    },
    {
      "cell_type": "code",
      "metadata": {
        "id": "rtV6JUO3g8cw"
      },
      "source": [
        "classifier.predict"
      ],
      "execution_count": null,
      "outputs": []
    },
    {
      "cell_type": "code",
      "metadata": {
        "id": "mB77I8RJgmyr"
      },
      "source": [
        "y_pred=clf.predict(X_test_s)\n",
        "y_predtime=clf.predict(timetest[features])\n",
        "#print(accuracy_score(y_test,y_pred))\n",
        "#print(accuracy_score(y_timetest,y_predtime))"
      ],
      "execution_count": null,
      "outputs": []
    },
    {
      "cell_type": "code",
      "metadata": {
        "id": "qC50Bbogrm-G",
        "outputId": "2d47c46c-0549-4171-f24a-66096ce33934",
        "colab": {
          "base_uri": "https://localhost:8080/",
          "height": 394
        }
      },
      "source": [
        "classifier = xgb.XGBClassifier(max_depth= 8,objective= 'multi:softmax',num_class=3,tree_method='gpu_hist')\n",
        "\n",
        "selector = RFECV(estimator=classifier,cv=StratifiedKFold(n_splits=5,random_state=1301, shuffle=True), scoring='f1_weighted')\n",
        "selector.fit(X_train.fillna(-999999), y_train)\n",
        "\n",
        "print('The optimal number of features is {}'.format(selector.n_features_))\n",
        "features = [f for f,s in zip(X_train.columns, selector.support_) if s]\n",
        "print('The selected features are:')\n",
        "print ('{}'.format(features))\n",
        "\n",
        "plt.figure()\n",
        "plt.xlabel(\"Number of features selected\")\n",
        "plt.ylabel(\"Cross validation score (accuracy)\")\n",
        "plt.plot(range(1, len(selector.grid_scores_) + 1), selector.grid_scores_)\n",
        "plt.savefig('feature_auc_nselected.png', bbox_inches='tight', pad_inches=1)"
      ],
      "execution_count": null,
      "outputs": [
        {
          "output_type": "stream",
          "text": [
            "/usr/local/lib/python3.6/dist-packages/sklearn/utils/validation.py:760: DataConversionWarning: A column-vector y was passed when a 1d array was expected. Please change the shape of y to (n_samples, ), for example using ravel().\n",
            "  y = column_or_1d(y, warn=True)\n"
          ],
          "name": "stderr"
        },
        {
          "output_type": "stream",
          "text": [
            "The optimal number of features is 54\n",
            "The selected features are:\n",
            "['int_rate', 'installment', 'annual_inc', 'dti', 'delinq_2yrs', 'inq_last_6mths', 'mths_since_last_record', 'revol_util', 'total_acc', 'mths_since_last_major_derog', 'tot_coll_amt', 'tot_cur_bal', 'open_acc_6m', 'open_act_il', 'open_il_24m', 'mths_since_rcnt_il', 'total_bal_il', 'open_rv_12m', 'open_rv_24m', 'max_bal_bc', 'all_util', 'total_rev_hi_lim', 'total_cu_tl', 'acc_open_past_24mths', 'avg_cur_bal', 'bc_open_to_buy', 'bc_util', 'mo_sin_old_il_acct', 'mo_sin_old_rev_tl_op', 'mo_sin_rcnt_tl', 'mort_acc', 'mths_since_recent_bc', 'mths_since_recent_inq', 'num_actv_bc_tl', 'num_actv_rev_tl', 'num_tl_120dpd_2m', 'pct_tl_nvr_dlq', 'percent_bc_gt_75', 'pub_rec_bankruptcies', 'tot_hi_cred_lim', 'total_bc_limit', 'term_36 months', 'grade_A', 'grade_B', 'grade_C', 'grade_D', 'grade_E', 'emp_length_10+ years', 'emp_length_less 1 year', 'home_ownership_MORTGAGE', 'home_ownership_RENT', 'verification_status_Not Verified', 'verification_status_Source Verified', 'verification_status_Verified']\n"
          ],
          "name": "stdout"
        },
        {
          "output_type": "display_data",
          "data": {
            "image/png": "[encoded data removed]",
            "text/plain": [
              "<Figure size 432x288 with 1 Axes>"
            ]
          },
          "metadata": {
            "tags": [],
            "needs_background": "light"
          }
        }
      ]
    },
    {
      "cell_type": "code",
      "metadata": {
        "id": "sDYn0DOZgEs0"
      },
      "source": [
        "features=['int_rate', 'installment', 'annual_inc', 'dti', 'delinq_2yrs', 'inq_last_6mths', 'mths_since_last_record', 'revol_util', 'total_acc', 'mths_since_last_major_derog', 'tot_coll_amt', 'tot_cur_bal', 'open_acc_6m', 'open_act_il', 'open_il_24m', 'mths_since_rcnt_il', 'total_bal_il', 'open_rv_12m', 'open_rv_24m', 'max_bal_bc', 'all_util', 'total_rev_hi_lim', 'total_cu_tl', 'acc_open_past_24mths', 'avg_cur_bal', 'bc_open_to_buy', 'bc_util', 'mo_sin_old_il_acct', 'mo_sin_old_rev_tl_op', 'mo_sin_rcnt_tl', 'mort_acc', 'mths_since_recent_bc', 'mths_since_recent_inq', 'num_actv_bc_tl', 'num_actv_rev_tl', 'num_tl_120dpd_2m', 'pct_tl_nvr_dlq', 'percent_bc_gt_75', 'pub_rec_bankruptcies', 'tot_hi_cred_lim', 'total_bc_limit', 'term_36 months', 'grade_A', 'grade_B', 'grade_C', 'grade_D', 'grade_E', 'emp_length_10+ years', 'emp_length_less 1 year', 'home_ownership_MORTGAGE', 'home_ownership_RENT', 'verification_status_Not Verified', 'verification_status_Source Verified', 'verification_status_Verified']"
      ],
      "execution_count": null,
      "outputs": []
    },
    {
      "cell_type": "code",
      "metadata": {
        "id": "abrijMNZlflF"
      },
      "source": [
        "param = {'colsamplebytree': 0.0, 'gamma': 0.08514219913028119, 'learning_rate': 0.01, 'max_delta_step': 1.0, 'max_depth': 3, 'n_estimators': 1000, 'reg_alpha': 0.0, 'scale_pos_weight': 100}"
      ],
      "execution_count": null,
      "outputs": []
    },
    {
      "cell_type": "code",
      "metadata": {
        "id": "IpTN2E1JgI_C",
        "outputId": "1e86d804-891b-4a51-dc89-19587ea86f6a",
        "colab": {
          "base_uri": "https://localhost:8080/",
          "height": 255
        }
      },
      "source": [
        "clasr =xgb.XGBClassifier(**param,tree_method='gpu_hist',objective='multi:softmax',num_class=3)\n",
        "clasr.fit(X_train,y_train)"
      ],
      "execution_count": null,
      "outputs": [
        {
          "output_type": "stream",
          "text": [
            "/usr/local/lib/python3.6/dist-packages/sklearn/preprocessing/_label.py:235: DataConversionWarning: A column-vector y was passed when a 1d array was expected. Please change the shape of y to (n_samples, ), for example using ravel().\n",
            "  y = column_or_1d(y, warn=True)\n",
            "/usr/local/lib/python3.6/dist-packages/sklearn/preprocessing/_label.py:268: DataConversionWarning: A column-vector y was passed when a 1d array was expected. Please change the shape of y to (n_samples, ), for example using ravel().\n",
            "  y = column_or_1d(y, warn=True)\n"
          ],
          "name": "stderr"
        },
        {
          "output_type": "execute_result",
          "data": {
            "text/plain": [
              "XGBClassifier(base_score=0.5, booster='gbtree', colsample_bylevel=1,\n",
              "              colsample_bynode=1, colsample_bytree=1, colsamplebytree=0.0,\n",
              "              gamma=0.08514219913028119, learning_rate=0.01, max_delta_step=1.0,\n",
              "              max_depth=3, min_child_weight=1, missing=None, n_estimators=1000,\n",
              "              n_jobs=1, nthread=None, num_class=3, objective='multi:softprob',\n",
              "              random_state=0, reg_alpha=0.0, reg_lambda=1, scale_pos_weight=100,\n",
              "              seed=None, silent=None, subsample=1, tree_method='gpu_hist',\n",
              "              verbosity=1)"
            ]
          },
          "metadata": {
            "tags": []
          },
          "execution_count": 12
        }
      ]
    },
    {
      "cell_type": "code",
      "metadata": {
        "id": "6HMIbt8XgvjD",
        "outputId": "ede0dd5d-46b1-4991-c0e7-0c9bc5246702",
        "colab": {
          "base_uri": "https://localhost:8080/",
          "height": 344
        }
      },
      "source": [
        "clasr.feature_importances_"
      ],
      "execution_count": null,
      "outputs": [
        {
          "output_type": "execute_result",
          "data": {
            "text/plain": [
              "array([0.07705729, 0.0064792 , 0.00863987, 0.01445381, 0.00517122,\n",
              "       0.00289358, 0.00310317, 0.00273019, 0.00440048, 0.00296505,\n",
              "       0.        , 0.00303413, 0.        , 0.00281576, 0.0021554 ,\n",
              "       0.00448406, 0.0907246 , 0.02597603, 0.00939485, 0.02496363,\n",
              "       0.        , 0.17902039, 0.02343108, 0.06436882, 0.02231523,\n",
              "       0.00479326, 0.00461672, 0.02805343, 0.01409985, 0.0216965 ,\n",
              "       0.00973591, 0.00404367, 0.        , 0.        , 0.00330976,\n",
              "       0.00645505, 0.        , 0.00388331, 0.02244513, 0.0052769 ,\n",
              "       0.00220095, 0.01052031, 0.00089285, 0.        , 0.00427754,\n",
              "       0.00962603, 0.        , 0.00223149, 0.0030223 , 0.00795607,\n",
              "       0.        , 0.        , 0.0027915 , 0.0019085 , 0.        ,\n",
              "       0.00234442, 0.01133961, 0.00098368, 0.01103996, 0.06276905,\n",
              "       0.        , 0.04279299, 0.01257367, 0.03686898, 0.00350252,\n",
              "       0.00298335, 0.        , 0.00119891, 0.        , 0.00634972,\n",
              "       0.        , 0.        , 0.        , 0.        , 0.        ,\n",
              "       0.        , 0.        , 0.        , 0.00284646, 0.        ,\n",
              "       0.01748019, 0.        , 0.        , 0.        , 0.01368803,\n",
              "       0.01188096, 0.00188853, 0.00305407], dtype=float32)"
            ]
          },
          "metadata": {
            "tags": []
          },
          "execution_count": 29
        }
      ]
    },
    {
      "cell_type": "code",
      "metadata": {
        "id": "FpbqOzvh7AKR"
      },
      "source": [
        "pd.DataFrame(dict(zip(X_train,clasr.feature_importances_)).items()).to_excel('Bayesian_Multi_feature_imp.xlsx')"
      ],
      "execution_count": null,
      "outputs": []
    },
    {
      "cell_type": "code",
      "metadata": {
        "id": "layysaRj5Kw0",
        "outputId": "3143bbec-edbe-41d0-c5b1-c70cd2979a2d",
        "colab": {
          "base_uri": "https://localhost:8080/",
          "height": 1000
        }
      },
      "source": [
        "X_train_s = X_train[features]\n",
        "\n",
        "classifier.fit(X_train_s, y_train['target'])\n",
        "test = pd.DataFrame()\n",
        "\n",
        "X_test_s = X_test[features]\n",
        "print ('Out of sample auc: {}'.format(classifier.score(X_test_s, y_test['target'])))\n",
        "\n",
        "X_sel = X_train[features]\n",
        "\n",
        "ratio = float(np.sum(y_t['target'] == 1)) / np.sum(y_t['target']==0)\n",
        "clf = xgb.XGBClassifier(\n",
        "                max_depth = 7,\n",
        "                n_estimators=1000,\n",
        "                learning_rate=0.1, \n",
        "                nthread=4,\n",
        "                subsample=1.0,\n",
        "                colsample_bytree=0.5,\n",
        "                min_child_weight = 3,\n",
        "                scale_pos_weight = ratio,\n",
        "                seed=1301,\n",
        "                n_jobs=8)\n",
        "                \n",
        "clf.fit(X_train_s, np.array(y_train), early_stopping_rounds=50, eval_metric=\"auc\",eval_set=[(X_train_s, np.array(y_train)), (X_test_s, np.array(y_test))])\n",
        "        \n",
        "print('Overall AUC:', roc_auc_score(y_t, clf.predict_proba(train[features], ntree_limit=clf.best_iteration)[:,1]))\n",
        "\n",
        "\n",
        "test['n0'] = (test == 0).sum(axis=1)\n",
        "sel_test = timetest[features]\n",
        "y_predtime = clf.predict_proba(sel_test, ntree_limit=clf.best_iteration)\n",
        "#y_predtime = clf.predict_proba(sel_test, ntree_limit=clf.best_iteration)\n",
        "y_pred = clf.predict_proba(X_test_s, ntree_limit=clf.best_iteration)\n",
        "submission = pd.DataFrame({\"ID\":timetest.index, \"TARGET\":y_predtime[:,1]})\n",
        "submission.to_csv(\"submission.csv\", index=False)\n",
        "\n",
        "mapFeat = dict(zip([\"f\"+str(i) for i in range(len(features))],features))\n",
        "ts = pd.Series(clf.feature_importances_)\n",
        "ts.sort_values()[-15:].plot(kind=\"barh\", title=(\"features importance\"))\n",
        "plt.clf()\n",
        "\n",
        "featp = ts.sort_values()[-15:].plot(kind='barh', x='feature', y='fscore', legend=False, figsize=(6, 10))\n",
        "plt.title('XGBoost Feature Importance')\n",
        "fig_featp = featp.get_figure()\n",
        "fig_featp.savefig('feature_importance_xgb.png', bbox_inches='tight', pad_inches=1)\n",
        "y_predtime = clf.predict(sel_test, ntree_limit=clf.best_iteration)\n",
        "y_pred = clf.predict(X_test_s, ntree_limit=clf.best_iteration)\n",
        "print(accuracy_score(y_test,y_pred))\n",
        "print(accuracy_score(y_timetest,y_predtime))"
      ],
      "execution_count": null,
      "outputs": [
        {
          "output_type": "stream",
          "text": [
            "Out of sample auc: 0.9210090313665494\n"
          ],
          "name": "stdout"
        },
        {
          "output_type": "stream",
          "text": [
            "/usr/local/lib/python3.6/dist-packages/sklearn/preprocessing/_label.py:235: DataConversionWarning: A column-vector y was passed when a 1d array was expected. Please change the shape of y to (n_samples, ), for example using ravel().\n",
            "  y = column_or_1d(y, warn=True)\n",
            "/usr/local/lib/python3.6/dist-packages/sklearn/preprocessing/_label.py:268: DataConversionWarning: A column-vector y was passed when a 1d array was expected. Please change the shape of y to (n_samples, ), for example using ravel().\n",
            "  y = column_or_1d(y, warn=True)\n"
          ],
          "name": "stderr"
        },
        {
          "output_type": "stream",
          "text": [
            "[0]\tvalidation_0-auc:0.804924\tvalidation_1-auc:0.806005\n",
            "Multiple eval metrics have been passed: 'validation_1-auc' will be used for early stopping.\n",
            "\n",
            "Will train until validation_1-auc hasn't improved in 50 rounds.\n",
            "[1]\tvalidation_0-auc:0.833126\tvalidation_1-auc:0.83504\n",
            "[2]\tvalidation_0-auc:0.832749\tvalidation_1-auc:0.833967\n",
            "[3]\tvalidation_0-auc:0.829036\tvalidation_1-auc:0.8297\n",
            "[4]\tvalidation_0-auc:0.822992\tvalidation_1-auc:0.823535\n",
            "[5]\tvalidation_0-auc:0.819661\tvalidation_1-auc:0.82012\n",
            "[6]\tvalidation_0-auc:0.821091\tvalidation_1-auc:0.821356\n",
            "[7]\tvalidation_0-auc:0.820592\tvalidation_1-auc:0.820594\n",
            "[8]\tvalidation_0-auc:0.818315\tvalidation_1-auc:0.818195\n",
            "[9]\tvalidation_0-auc:0.815123\tvalidation_1-auc:0.814803\n",
            "[10]\tvalidation_0-auc:0.820379\tvalidation_1-auc:0.81961\n",
            "[11]\tvalidation_0-auc:0.819681\tvalidation_1-auc:0.819044\n",
            "[12]\tvalidation_0-auc:0.818099\tvalidation_1-auc:0.817506\n",
            "[13]\tvalidation_0-auc:0.817013\tvalidation_1-auc:0.816403\n",
            "[14]\tvalidation_0-auc:0.813709\tvalidation_1-auc:0.813019\n",
            "[15]\tvalidation_0-auc:0.812432\tvalidation_1-auc:0.811796\n",
            "[16]\tvalidation_0-auc:0.815236\tvalidation_1-auc:0.814593\n",
            "[17]\tvalidation_0-auc:0.813892\tvalidation_1-auc:0.813286\n",
            "[18]\tvalidation_0-auc:0.812374\tvalidation_1-auc:0.811688\n",
            "[19]\tvalidation_0-auc:0.814591\tvalidation_1-auc:0.813933\n",
            "[20]\tvalidation_0-auc:0.814337\tvalidation_1-auc:0.813723\n",
            "[21]\tvalidation_0-auc:0.811416\tvalidation_1-auc:0.810737\n",
            "[22]\tvalidation_0-auc:0.809552\tvalidation_1-auc:0.808855\n",
            "[23]\tvalidation_0-auc:0.808267\tvalidation_1-auc:0.807441\n",
            "[24]\tvalidation_0-auc:0.824485\tvalidation_1-auc:0.823935\n",
            "[25]\tvalidation_0-auc:0.822315\tvalidation_1-auc:0.8217\n",
            "[26]\tvalidation_0-auc:0.820044\tvalidation_1-auc:0.819315\n",
            "[27]\tvalidation_0-auc:0.817173\tvalidation_1-auc:0.816371\n",
            "[28]\tvalidation_0-auc:0.82428\tvalidation_1-auc:0.823698\n",
            "[29]\tvalidation_0-auc:0.823547\tvalidation_1-auc:0.822963\n",
            "[30]\tvalidation_0-auc:0.822897\tvalidation_1-auc:0.822378\n",
            "[31]\tvalidation_0-auc:0.832514\tvalidation_1-auc:0.832212\n",
            "[32]\tvalidation_0-auc:0.831161\tvalidation_1-auc:0.830899\n",
            "[33]\tvalidation_0-auc:0.838231\tvalidation_1-auc:0.83787\n",
            "[34]\tvalidation_0-auc:0.836316\tvalidation_1-auc:0.835893\n",
            "[35]\tvalidation_0-auc:0.851678\tvalidation_1-auc:0.851057\n",
            "[36]\tvalidation_0-auc:0.850041\tvalidation_1-auc:0.849349\n",
            "[37]\tvalidation_0-auc:0.848394\tvalidation_1-auc:0.847617\n",
            "[38]\tvalidation_0-auc:0.849516\tvalidation_1-auc:0.848761\n",
            "[39]\tvalidation_0-auc:0.852168\tvalidation_1-auc:0.851125\n",
            "[40]\tvalidation_0-auc:0.853337\tvalidation_1-auc:0.852426\n",
            "[41]\tvalidation_0-auc:0.853128\tvalidation_1-auc:0.852203\n",
            "[42]\tvalidation_0-auc:0.852802\tvalidation_1-auc:0.851855\n",
            "[43]\tvalidation_0-auc:0.859167\tvalidation_1-auc:0.858366\n",
            "[44]\tvalidation_0-auc:0.862754\tvalidation_1-auc:0.862052\n",
            "[45]\tvalidation_0-auc:0.867573\tvalidation_1-auc:0.866762\n",
            "[46]\tvalidation_0-auc:0.866667\tvalidation_1-auc:0.865883\n",
            "[47]\tvalidation_0-auc:0.865749\tvalidation_1-auc:0.864981\n",
            "[48]\tvalidation_0-auc:0.869985\tvalidation_1-auc:0.869213\n",
            "[49]\tvalidation_0-auc:0.871845\tvalidation_1-auc:0.871112\n",
            "[50]\tvalidation_0-auc:0.871266\tvalidation_1-auc:0.870509\n",
            "[51]\tvalidation_0-auc:0.873461\tvalidation_1-auc:0.872679\n",
            "[52]\tvalidation_0-auc:0.874421\tvalidation_1-auc:0.873661\n",
            "[53]\tvalidation_0-auc:0.876163\tvalidation_1-auc:0.87532\n",
            "[54]\tvalidation_0-auc:0.875717\tvalidation_1-auc:0.874851\n",
            "[55]\tvalidation_0-auc:0.876193\tvalidation_1-auc:0.87532\n",
            "[56]\tvalidation_0-auc:0.878432\tvalidation_1-auc:0.877533\n",
            "[57]\tvalidation_0-auc:0.878314\tvalidation_1-auc:0.87741\n",
            "[58]\tvalidation_0-auc:0.878209\tvalidation_1-auc:0.877263\n",
            "[59]\tvalidation_0-auc:0.878104\tvalidation_1-auc:0.877163\n",
            "[60]\tvalidation_0-auc:0.879824\tvalidation_1-auc:0.878844\n",
            "[61]\tvalidation_0-auc:0.883233\tvalidation_1-auc:0.882228\n",
            "[62]\tvalidation_0-auc:0.883533\tvalidation_1-auc:0.882493\n",
            "[63]\tvalidation_0-auc:0.883352\tvalidation_1-auc:0.882268\n",
            "[64]\tvalidation_0-auc:0.883278\tvalidation_1-auc:0.882193\n",
            "[65]\tvalidation_0-auc:0.884927\tvalidation_1-auc:0.883874\n",
            "[66]\tvalidation_0-auc:0.885176\tvalidation_1-auc:0.884092\n",
            "[67]\tvalidation_0-auc:0.885122\tvalidation_1-auc:0.884012\n",
            "[68]\tvalidation_0-auc:0.884976\tvalidation_1-auc:0.883868\n",
            "[69]\tvalidation_0-auc:0.884708\tvalidation_1-auc:0.883577\n",
            "[70]\tvalidation_0-auc:0.884459\tvalidation_1-auc:0.883288\n",
            "[71]\tvalidation_0-auc:0.88436\tvalidation_1-auc:0.883156\n",
            "[72]\tvalidation_0-auc:0.884639\tvalidation_1-auc:0.883427\n",
            "[73]\tvalidation_0-auc:0.884531\tvalidation_1-auc:0.8833\n",
            "[74]\tvalidation_0-auc:0.884706\tvalidation_1-auc:0.883456\n",
            "[75]\tvalidation_0-auc:0.884566\tvalidation_1-auc:0.883304\n",
            "[76]\tvalidation_0-auc:0.884678\tvalidation_1-auc:0.883409\n",
            "[77]\tvalidation_0-auc:0.88483\tvalidation_1-auc:0.883542\n",
            "[78]\tvalidation_0-auc:0.886546\tvalidation_1-auc:0.885277\n",
            "[79]\tvalidation_0-auc:0.886575\tvalidation_1-auc:0.885296\n",
            "[80]\tvalidation_0-auc:0.886458\tvalidation_1-auc:0.885173\n",
            "[81]\tvalidation_0-auc:0.888317\tvalidation_1-auc:0.887129\n",
            "[82]\tvalidation_0-auc:0.888312\tvalidation_1-auc:0.887123\n",
            "[83]\tvalidation_0-auc:0.888261\tvalidation_1-auc:0.887055\n",
            "[84]\tvalidation_0-auc:0.889079\tvalidation_1-auc:0.887854\n",
            "[85]\tvalidation_0-auc:0.890857\tvalidation_1-auc:0.889589\n",
            "[86]\tvalidation_0-auc:0.890648\tvalidation_1-auc:0.889398\n",
            "[87]\tvalidation_0-auc:0.892282\tvalidation_1-auc:0.891054\n",
            "[88]\tvalidation_0-auc:0.892138\tvalidation_1-auc:0.890913\n",
            "[89]\tvalidation_0-auc:0.891945\tvalidation_1-auc:0.890724\n",
            "[90]\tvalidation_0-auc:0.891858\tvalidation_1-auc:0.890612\n",
            "[91]\tvalidation_0-auc:0.891797\tvalidation_1-auc:0.890551\n",
            "[92]\tvalidation_0-auc:0.891749\tvalidation_1-auc:0.890492\n",
            "[93]\tvalidation_0-auc:0.89286\tvalidation_1-auc:0.891557\n",
            "[94]\tvalidation_0-auc:0.892974\tvalidation_1-auc:0.891672\n",
            "[95]\tvalidation_0-auc:0.894423\tvalidation_1-auc:0.893091\n",
            "[96]\tvalidation_0-auc:0.894291\tvalidation_1-auc:0.892961\n",
            "[97]\tvalidation_0-auc:0.894512\tvalidation_1-auc:0.893189\n",
            "[98]\tvalidation_0-auc:0.894696\tvalidation_1-auc:0.89336\n",
            "[99]\tvalidation_0-auc:0.894839\tvalidation_1-auc:0.893492\n",
            "[100]\tvalidation_0-auc:0.894736\tvalidation_1-auc:0.893394\n",
            "[101]\tvalidation_0-auc:0.897932\tvalidation_1-auc:0.896685\n",
            "[102]\tvalidation_0-auc:0.899181\tvalidation_1-auc:0.897883\n",
            "[103]\tvalidation_0-auc:0.899301\tvalidation_1-auc:0.897994\n",
            "[104]\tvalidation_0-auc:0.900204\tvalidation_1-auc:0.898912\n",
            "[105]\tvalidation_0-auc:0.900163\tvalidation_1-auc:0.898859\n",
            "[106]\tvalidation_0-auc:0.900121\tvalidation_1-auc:0.898805\n",
            "[107]\tvalidation_0-auc:0.900094\tvalidation_1-auc:0.898772\n",
            "[108]\tvalidation_0-auc:0.90022\tvalidation_1-auc:0.898887\n",
            "[109]\tvalidation_0-auc:0.900941\tvalidation_1-auc:0.899637\n",
            "[110]\tvalidation_0-auc:0.90105\tvalidation_1-auc:0.89974\n",
            "[111]\tvalidation_0-auc:0.901137\tvalidation_1-auc:0.899819\n",
            "[112]\tvalidation_0-auc:0.901157\tvalidation_1-auc:0.899824\n",
            "[113]\tvalidation_0-auc:0.90141\tvalidation_1-auc:0.900079\n",
            "[114]\tvalidation_0-auc:0.901525\tvalidation_1-auc:0.900174\n",
            "[115]\tvalidation_0-auc:0.901535\tvalidation_1-auc:0.900166\n",
            "[116]\tvalidation_0-auc:0.901862\tvalidation_1-auc:0.900479\n",
            "[117]\tvalidation_0-auc:0.902164\tvalidation_1-auc:0.900759\n",
            "[118]\tvalidation_0-auc:0.90225\tvalidation_1-auc:0.900822\n",
            "[119]\tvalidation_0-auc:0.902278\tvalidation_1-auc:0.900834\n",
            "[120]\tvalidation_0-auc:0.902339\tvalidation_1-auc:0.90088\n",
            "[121]\tvalidation_0-auc:0.902657\tvalidation_1-auc:0.901171\n",
            "[122]\tvalidation_0-auc:0.902638\tvalidation_1-auc:0.90114\n",
            "[123]\tvalidation_0-auc:0.902702\tvalidation_1-auc:0.901184\n",
            "[124]\tvalidation_0-auc:0.903414\tvalidation_1-auc:0.901858\n",
            "[125]\tvalidation_0-auc:0.903405\tvalidation_1-auc:0.901861\n",
            "[126]\tvalidation_0-auc:0.903384\tvalidation_1-auc:0.901831\n",
            "[127]\tvalidation_0-auc:0.903381\tvalidation_1-auc:0.90183\n",
            "[128]\tvalidation_0-auc:0.903338\tvalidation_1-auc:0.901789\n",
            "[129]\tvalidation_0-auc:0.90525\tvalidation_1-auc:0.903665\n",
            "[130]\tvalidation_0-auc:0.907335\tvalidation_1-auc:0.905812\n",
            "[131]\tvalidation_0-auc:0.909621\tvalidation_1-auc:0.908109\n",
            "[132]\tvalidation_0-auc:0.909708\tvalidation_1-auc:0.908179\n",
            "[133]\tvalidation_0-auc:0.909715\tvalidation_1-auc:0.908173\n",
            "[134]\tvalidation_0-auc:0.911013\tvalidation_1-auc:0.909455\n",
            "[135]\tvalidation_0-auc:0.912059\tvalidation_1-auc:0.910463\n",
            "[136]\tvalidation_0-auc:0.913097\tvalidation_1-auc:0.91143\n",
            "[137]\tvalidation_0-auc:0.913146\tvalidation_1-auc:0.91147\n",
            "[138]\tvalidation_0-auc:0.913135\tvalidation_1-auc:0.911455\n",
            "[139]\tvalidation_0-auc:0.913132\tvalidation_1-auc:0.911445\n",
            "[140]\tvalidation_0-auc:0.913135\tvalidation_1-auc:0.91144\n",
            "[141]\tvalidation_0-auc:0.913141\tvalidation_1-auc:0.911433\n",
            "[142]\tvalidation_0-auc:0.91326\tvalidation_1-auc:0.911532\n",
            "[143]\tvalidation_0-auc:0.914063\tvalidation_1-auc:0.912297\n",
            "[144]\tvalidation_0-auc:0.915425\tvalidation_1-auc:0.913683\n",
            "[145]\tvalidation_0-auc:0.915412\tvalidation_1-auc:0.91367\n",
            "[146]\tvalidation_0-auc:0.915421\tvalidation_1-auc:0.913678\n",
            "[147]\tvalidation_0-auc:0.915439\tvalidation_1-auc:0.91368\n",
            "[148]\tvalidation_0-auc:0.915432\tvalidation_1-auc:0.913671\n",
            "[149]\tvalidation_0-auc:0.915495\tvalidation_1-auc:0.913718\n",
            "[150]\tvalidation_0-auc:0.915491\tvalidation_1-auc:0.913704\n",
            "[151]\tvalidation_0-auc:0.916141\tvalidation_1-auc:0.914311\n",
            "[152]\tvalidation_0-auc:0.916197\tvalidation_1-auc:0.914366\n",
            "[153]\tvalidation_0-auc:0.916537\tvalidation_1-auc:0.914705\n",
            "[154]\tvalidation_0-auc:0.916565\tvalidation_1-auc:0.914728\n",
            "[155]\tvalidation_0-auc:0.91659\tvalidation_1-auc:0.914747\n",
            "[156]\tvalidation_0-auc:0.916581\tvalidation_1-auc:0.914734\n",
            "[157]\tvalidation_0-auc:0.916592\tvalidation_1-auc:0.914733\n",
            "[158]\tvalidation_0-auc:0.916586\tvalidation_1-auc:0.914723\n",
            "[159]\tvalidation_0-auc:0.916582\tvalidation_1-auc:0.914715\n",
            "[160]\tvalidation_0-auc:0.917125\tvalidation_1-auc:0.915239\n",
            "[161]\tvalidation_0-auc:0.918082\tvalidation_1-auc:0.916202\n",
            "[162]\tvalidation_0-auc:0.918082\tvalidation_1-auc:0.916201\n",
            "[163]\tvalidation_0-auc:0.918337\tvalidation_1-auc:0.91642\n",
            "[164]\tvalidation_0-auc:0.918953\tvalidation_1-auc:0.917048\n",
            "[165]\tvalidation_0-auc:0.918943\tvalidation_1-auc:0.917033\n",
            "[166]\tvalidation_0-auc:0.918966\tvalidation_1-auc:0.917053\n",
            "[167]\tvalidation_0-auc:0.919766\tvalidation_1-auc:0.91783\n",
            "[168]\tvalidation_0-auc:0.919765\tvalidation_1-auc:0.917828\n",
            "[169]\tvalidation_0-auc:0.919982\tvalidation_1-auc:0.918032\n",
            "[170]\tvalidation_0-auc:0.920098\tvalidation_1-auc:0.91814\n",
            "[171]\tvalidation_0-auc:0.920125\tvalidation_1-auc:0.918161\n",
            "[172]\tvalidation_0-auc:0.920125\tvalidation_1-auc:0.918154\n",
            "[173]\tvalidation_0-auc:0.921239\tvalidation_1-auc:0.919307\n",
            "[174]\tvalidation_0-auc:0.921577\tvalidation_1-auc:0.919637\n",
            "[175]\tvalidation_0-auc:0.921572\tvalidation_1-auc:0.919618\n",
            "[176]\tvalidation_0-auc:0.921626\tvalidation_1-auc:0.919647\n",
            "[177]\tvalidation_0-auc:0.92171\tvalidation_1-auc:0.919717\n",
            "[178]\tvalidation_0-auc:0.921719\tvalidation_1-auc:0.919717\n",
            "[179]\tvalidation_0-auc:0.921739\tvalidation_1-auc:0.919733\n",
            "[180]\tvalidation_0-auc:0.92175\tvalidation_1-auc:0.919738\n",
            "[181]\tvalidation_0-auc:0.922329\tvalidation_1-auc:0.92034\n",
            "[182]\tvalidation_0-auc:0.922326\tvalidation_1-auc:0.920335\n",
            "[183]\tvalidation_0-auc:0.922623\tvalidation_1-auc:0.92064\n",
            "[184]\tvalidation_0-auc:0.922626\tvalidation_1-auc:0.920642\n",
            "[185]\tvalidation_0-auc:0.923105\tvalidation_1-auc:0.921098\n",
            "[186]\tvalidation_0-auc:0.923104\tvalidation_1-auc:0.921091\n",
            "[187]\tvalidation_0-auc:0.923148\tvalidation_1-auc:0.921107\n",
            "[188]\tvalidation_0-auc:0.923152\tvalidation_1-auc:0.921102\n",
            "[189]\tvalidation_0-auc:0.923151\tvalidation_1-auc:0.921096\n",
            "[190]\tvalidation_0-auc:0.923152\tvalidation_1-auc:0.921089\n",
            "[191]\tvalidation_0-auc:0.923329\tvalidation_1-auc:0.921277\n",
            "[192]\tvalidation_0-auc:0.923333\tvalidation_1-auc:0.921269\n",
            "[193]\tvalidation_0-auc:0.923782\tvalidation_1-auc:0.921764\n",
            "[194]\tvalidation_0-auc:0.923783\tvalidation_1-auc:0.921764\n",
            "[195]\tvalidation_0-auc:0.923787\tvalidation_1-auc:0.921765\n",
            "[196]\tvalidation_0-auc:0.923787\tvalidation_1-auc:0.921761\n",
            "[197]\tvalidation_0-auc:0.923802\tvalidation_1-auc:0.921764\n",
            "[198]\tvalidation_0-auc:0.923814\tvalidation_1-auc:0.921767\n",
            "[199]\tvalidation_0-auc:0.923821\tvalidation_1-auc:0.921768\n",
            "[200]\tvalidation_0-auc:0.923903\tvalidation_1-auc:0.921833\n",
            "[201]\tvalidation_0-auc:0.923904\tvalidation_1-auc:0.92183\n",
            "[202]\tvalidation_0-auc:0.923919\tvalidation_1-auc:0.92183\n",
            "[203]\tvalidation_0-auc:0.924069\tvalidation_1-auc:0.921986\n",
            "[204]\tvalidation_0-auc:0.924069\tvalidation_1-auc:0.921986\n",
            "[205]\tvalidation_0-auc:0.924111\tvalidation_1-auc:0.922014\n",
            "[206]\tvalidation_0-auc:0.924128\tvalidation_1-auc:0.922028\n",
            "[207]\tvalidation_0-auc:0.924195\tvalidation_1-auc:0.922086\n",
            "[208]\tvalidation_0-auc:0.924223\tvalidation_1-auc:0.9221\n",
            "[209]\tvalidation_0-auc:0.92459\tvalidation_1-auc:0.922441\n",
            "[210]\tvalidation_0-auc:0.924602\tvalidation_1-auc:0.922451\n",
            "[211]\tvalidation_0-auc:0.924608\tvalidation_1-auc:0.922455\n",
            "[212]\tvalidation_0-auc:0.924614\tvalidation_1-auc:0.922457\n",
            "[213]\tvalidation_0-auc:0.924622\tvalidation_1-auc:0.922462\n",
            "[214]\tvalidation_0-auc:0.925041\tvalidation_1-auc:0.922893\n",
            "[215]\tvalidation_0-auc:0.925329\tvalidation_1-auc:0.923161\n",
            "[216]\tvalidation_0-auc:0.925346\tvalidation_1-auc:0.92317\n",
            "[217]\tvalidation_0-auc:0.926258\tvalidation_1-auc:0.924071\n",
            "[218]\tvalidation_0-auc:0.926287\tvalidation_1-auc:0.924092\n",
            "[219]\tvalidation_0-auc:0.926288\tvalidation_1-auc:0.924088\n",
            "[220]\tvalidation_0-auc:0.926507\tvalidation_1-auc:0.92431\n",
            "[221]\tvalidation_0-auc:0.926513\tvalidation_1-auc:0.924318\n",
            "[222]\tvalidation_0-auc:0.926514\tvalidation_1-auc:0.924318\n",
            "[223]\tvalidation_0-auc:0.926512\tvalidation_1-auc:0.924312\n",
            "[224]\tvalidation_0-auc:0.926516\tvalidation_1-auc:0.92431\n",
            "[225]\tvalidation_0-auc:0.926995\tvalidation_1-auc:0.92479\n",
            "[226]\tvalidation_0-auc:0.927361\tvalidation_1-auc:0.925148\n",
            "[227]\tvalidation_0-auc:0.92737\tvalidation_1-auc:0.925147\n",
            "[228]\tvalidation_0-auc:0.92737\tvalidation_1-auc:0.925145\n",
            "[229]\tvalidation_0-auc:0.927617\tvalidation_1-auc:0.925377\n",
            "[230]\tvalidation_0-auc:0.927628\tvalidation_1-auc:0.925379\n",
            "[231]\tvalidation_0-auc:0.927626\tvalidation_1-auc:0.925374\n",
            "[232]\tvalidation_0-auc:0.927624\tvalidation_1-auc:0.925372\n",
            "[233]\tvalidation_0-auc:0.927626\tvalidation_1-auc:0.925369\n",
            "[234]\tvalidation_0-auc:0.927664\tvalidation_1-auc:0.925386\n",
            "[235]\tvalidation_0-auc:0.927986\tvalidation_1-auc:0.925677\n",
            "[236]\tvalidation_0-auc:0.927998\tvalidation_1-auc:0.925673\n",
            "[237]\tvalidation_0-auc:0.928\tvalidation_1-auc:0.925668\n",
            "[238]\tvalidation_0-auc:0.928271\tvalidation_1-auc:0.925947\n",
            "[239]\tvalidation_0-auc:0.928276\tvalidation_1-auc:0.925942\n",
            "[240]\tvalidation_0-auc:0.928296\tvalidation_1-auc:0.925954\n",
            "[241]\tvalidation_0-auc:0.92863\tvalidation_1-auc:0.926267\n",
            "[242]\tvalidation_0-auc:0.928629\tvalidation_1-auc:0.926266\n",
            "[243]\tvalidation_0-auc:0.928674\tvalidation_1-auc:0.926288\n",
            "[244]\tvalidation_0-auc:0.928937\tvalidation_1-auc:0.926533\n",
            "[245]\tvalidation_0-auc:0.928951\tvalidation_1-auc:0.926543\n",
            "[246]\tvalidation_0-auc:0.928976\tvalidation_1-auc:0.926553\n",
            "[247]\tvalidation_0-auc:0.928982\tvalidation_1-auc:0.926555\n",
            "[248]\tvalidation_0-auc:0.928983\tvalidation_1-auc:0.926548\n",
            "[249]\tvalidation_0-auc:0.928986\tvalidation_1-auc:0.926548\n",
            "[250]\tvalidation_0-auc:0.928987\tvalidation_1-auc:0.926546\n",
            "[251]\tvalidation_0-auc:0.928988\tvalidation_1-auc:0.926543\n",
            "[252]\tvalidation_0-auc:0.92917\tvalidation_1-auc:0.926711\n",
            "[253]\tvalidation_0-auc:0.929372\tvalidation_1-auc:0.926907\n",
            "[254]\tvalidation_0-auc:0.929374\tvalidation_1-auc:0.926903\n",
            "[255]\tvalidation_0-auc:0.929378\tvalidation_1-auc:0.926899\n",
            "[256]\tvalidation_0-auc:0.929381\tvalidation_1-auc:0.926897\n",
            "[257]\tvalidation_0-auc:0.92939\tvalidation_1-auc:0.9269\n",
            "[258]\tvalidation_0-auc:0.929551\tvalidation_1-auc:0.92704\n",
            "[259]\tvalidation_0-auc:0.929552\tvalidation_1-auc:0.927037\n",
            "[260]\tvalidation_0-auc:0.92956\tvalidation_1-auc:0.927041\n",
            "[261]\tvalidation_0-auc:0.929563\tvalidation_1-auc:0.927039\n",
            "[262]\tvalidation_0-auc:0.929566\tvalidation_1-auc:0.927036\n",
            "[263]\tvalidation_0-auc:0.929857\tvalidation_1-auc:0.927351\n",
            "[264]\tvalidation_0-auc:0.929857\tvalidation_1-auc:0.927349\n",
            "[265]\tvalidation_0-auc:0.929862\tvalidation_1-auc:0.927349\n",
            "[266]\tvalidation_0-auc:0.929865\tvalidation_1-auc:0.927346\n",
            "[267]\tvalidation_0-auc:0.930049\tvalidation_1-auc:0.92751\n",
            "[268]\tvalidation_0-auc:0.930067\tvalidation_1-auc:0.927511\n",
            "[269]\tvalidation_0-auc:0.930191\tvalidation_1-auc:0.927623\n",
            "[270]\tvalidation_0-auc:0.930209\tvalidation_1-auc:0.927633\n",
            "[271]\tvalidation_0-auc:0.930315\tvalidation_1-auc:0.927724\n",
            "[272]\tvalidation_0-auc:0.930337\tvalidation_1-auc:0.927738\n",
            "[273]\tvalidation_0-auc:0.930351\tvalidation_1-auc:0.927748\n",
            "[274]\tvalidation_0-auc:0.930355\tvalidation_1-auc:0.927749\n",
            "[275]\tvalidation_0-auc:0.930359\tvalidation_1-auc:0.927755\n",
            "[276]\tvalidation_0-auc:0.930364\tvalidation_1-auc:0.927754\n",
            "[277]\tvalidation_0-auc:0.930393\tvalidation_1-auc:0.927766\n",
            "[278]\tvalidation_0-auc:0.930411\tvalidation_1-auc:0.927774\n",
            "[279]\tvalidation_0-auc:0.930429\tvalidation_1-auc:0.927789\n",
            "[280]\tvalidation_0-auc:0.930443\tvalidation_1-auc:0.927794\n",
            "[281]\tvalidation_0-auc:0.930482\tvalidation_1-auc:0.927824\n",
            "[282]\tvalidation_0-auc:0.930484\tvalidation_1-auc:0.927823\n",
            "[283]\tvalidation_0-auc:0.930484\tvalidation_1-auc:0.927824\n",
            "[284]\tvalidation_0-auc:0.9305\tvalidation_1-auc:0.927824\n",
            "[285]\tvalidation_0-auc:0.930504\tvalidation_1-auc:0.927825\n",
            "[286]\tvalidation_0-auc:0.930518\tvalidation_1-auc:0.927825\n",
            "[287]\tvalidation_0-auc:0.930518\tvalidation_1-auc:0.927825\n",
            "[288]\tvalidation_0-auc:0.930526\tvalidation_1-auc:0.927824\n",
            "[289]\tvalidation_0-auc:0.930531\tvalidation_1-auc:0.927826\n",
            "[290]\tvalidation_0-auc:0.93054\tvalidation_1-auc:0.927825\n",
            "[291]\tvalidation_0-auc:0.930708\tvalidation_1-auc:0.927979\n",
            "[292]\tvalidation_0-auc:0.930708\tvalidation_1-auc:0.927978\n",
            "[293]\tvalidation_0-auc:0.930726\tvalidation_1-auc:0.927992\n",
            "[294]\tvalidation_0-auc:0.930727\tvalidation_1-auc:0.927992\n",
            "[295]\tvalidation_0-auc:0.930728\tvalidation_1-auc:0.927992\n",
            "[296]\tvalidation_0-auc:0.930728\tvalidation_1-auc:0.927992\n",
            "[297]\tvalidation_0-auc:0.930867\tvalidation_1-auc:0.928113\n",
            "[298]\tvalidation_0-auc:0.930887\tvalidation_1-auc:0.928118\n",
            "[299]\tvalidation_0-auc:0.930889\tvalidation_1-auc:0.928113\n",
            "[300]\tvalidation_0-auc:0.930901\tvalidation_1-auc:0.928113\n",
            "[301]\tvalidation_0-auc:0.930932\tvalidation_1-auc:0.928131\n",
            "[302]\tvalidation_0-auc:0.931084\tvalidation_1-auc:0.928262\n",
            "[303]\tvalidation_0-auc:0.931088\tvalidation_1-auc:0.928262\n",
            "[304]\tvalidation_0-auc:0.93109\tvalidation_1-auc:0.92826\n",
            "[305]\tvalidation_0-auc:0.931102\tvalidation_1-auc:0.928262\n",
            "[306]\tvalidation_0-auc:0.931109\tvalidation_1-auc:0.928265\n",
            "[307]\tvalidation_0-auc:0.931111\tvalidation_1-auc:0.928261\n",
            "[308]\tvalidation_0-auc:0.931136\tvalidation_1-auc:0.928277\n",
            "[309]\tvalidation_0-auc:0.931136\tvalidation_1-auc:0.928274\n",
            "[310]\tvalidation_0-auc:0.931141\tvalidation_1-auc:0.928276\n",
            "[311]\tvalidation_0-auc:0.931139\tvalidation_1-auc:0.928271\n",
            "[312]\tvalidation_0-auc:0.931141\tvalidation_1-auc:0.92827\n",
            "[313]\tvalidation_0-auc:0.931169\tvalidation_1-auc:0.928289\n",
            "[314]\tvalidation_0-auc:0.93117\tvalidation_1-auc:0.928288\n",
            "[315]\tvalidation_0-auc:0.931409\tvalidation_1-auc:0.928509\n",
            "[316]\tvalidation_0-auc:0.931408\tvalidation_1-auc:0.928508\n",
            "[317]\tvalidation_0-auc:0.931417\tvalidation_1-auc:0.92851\n",
            "[318]\tvalidation_0-auc:0.931614\tvalidation_1-auc:0.928734\n",
            "[319]\tvalidation_0-auc:0.931706\tvalidation_1-auc:0.928809\n",
            "[320]\tvalidation_0-auc:0.931849\tvalidation_1-auc:0.928945\n",
            "[321]\tvalidation_0-auc:0.931847\tvalidation_1-auc:0.928941\n",
            "[322]\tvalidation_0-auc:0.931861\tvalidation_1-auc:0.928944\n",
            "[323]\tvalidation_0-auc:0.931863\tvalidation_1-auc:0.928945\n",
            "[324]\tvalidation_0-auc:0.931863\tvalidation_1-auc:0.928943\n",
            "[325]\tvalidation_0-auc:0.932068\tvalidation_1-auc:0.929157\n",
            "[326]\tvalidation_0-auc:0.932089\tvalidation_1-auc:0.92917\n",
            "[327]\tvalidation_0-auc:0.93209\tvalidation_1-auc:0.929169\n",
            "[328]\tvalidation_0-auc:0.93209\tvalidation_1-auc:0.929167\n",
            "[329]\tvalidation_0-auc:0.932113\tvalidation_1-auc:0.929174\n",
            "[330]\tvalidation_0-auc:0.932285\tvalidation_1-auc:0.929345\n",
            "[331]\tvalidation_0-auc:0.932297\tvalidation_1-auc:0.929344\n",
            "[332]\tvalidation_0-auc:0.932302\tvalidation_1-auc:0.929345\n",
            "[333]\tvalidation_0-auc:0.932301\tvalidation_1-auc:0.929344\n",
            "[334]\tvalidation_0-auc:0.932309\tvalidation_1-auc:0.929341\n",
            "[335]\tvalidation_0-auc:0.932309\tvalidation_1-auc:0.92934\n",
            "[336]\tvalidation_0-auc:0.932308\tvalidation_1-auc:0.929339\n",
            "[337]\tvalidation_0-auc:0.932307\tvalidation_1-auc:0.929338\n",
            "[338]\tvalidation_0-auc:0.932307\tvalidation_1-auc:0.929336\n",
            "[339]\tvalidation_0-auc:0.932312\tvalidation_1-auc:0.929336\n",
            "[340]\tvalidation_0-auc:0.932312\tvalidation_1-auc:0.929333\n",
            "[341]\tvalidation_0-auc:0.932312\tvalidation_1-auc:0.929334\n",
            "[342]\tvalidation_0-auc:0.932324\tvalidation_1-auc:0.92933\n",
            "[343]\tvalidation_0-auc:0.932494\tvalidation_1-auc:0.929489\n",
            "[344]\tvalidation_0-auc:0.932494\tvalidation_1-auc:0.929488\n",
            "[345]\tvalidation_0-auc:0.932633\tvalidation_1-auc:0.929615\n",
            "[346]\tvalidation_0-auc:0.932639\tvalidation_1-auc:0.929613\n",
            "[347]\tvalidation_0-auc:0.932641\tvalidation_1-auc:0.929611\n",
            "[348]\tvalidation_0-auc:0.932643\tvalidation_1-auc:0.929611\n",
            "[349]\tvalidation_0-auc:0.932652\tvalidation_1-auc:0.929611\n",
            "[350]\tvalidation_0-auc:0.932652\tvalidation_1-auc:0.929609\n",
            "[351]\tvalidation_0-auc:0.93266\tvalidation_1-auc:0.929608\n",
            "[352]\tvalidation_0-auc:0.932667\tvalidation_1-auc:0.929605\n",
            "[353]\tvalidation_0-auc:0.932669\tvalidation_1-auc:0.929603\n",
            "[354]\tvalidation_0-auc:0.932677\tvalidation_1-auc:0.929602\n",
            "[355]\tvalidation_0-auc:0.932679\tvalidation_1-auc:0.929601\n",
            "[356]\tvalidation_0-auc:0.932679\tvalidation_1-auc:0.929601\n",
            "[357]\tvalidation_0-auc:0.93268\tvalidation_1-auc:0.929601\n",
            "[358]\tvalidation_0-auc:0.932771\tvalidation_1-auc:0.929686\n",
            "[359]\tvalidation_0-auc:0.932773\tvalidation_1-auc:0.929683\n",
            "[360]\tvalidation_0-auc:0.932773\tvalidation_1-auc:0.929682\n",
            "[361]\tvalidation_0-auc:0.932779\tvalidation_1-auc:0.929682\n",
            "[362]\tvalidation_0-auc:0.932849\tvalidation_1-auc:0.929754\n",
            "[363]\tvalidation_0-auc:0.932991\tvalidation_1-auc:0.929897\n",
            "[364]\tvalidation_0-auc:0.933057\tvalidation_1-auc:0.929954\n",
            "[365]\tvalidation_0-auc:0.933056\tvalidation_1-auc:0.929951\n",
            "[366]\tvalidation_0-auc:0.933073\tvalidation_1-auc:0.929964\n",
            "[367]\tvalidation_0-auc:0.933073\tvalidation_1-auc:0.929962\n",
            "[368]\tvalidation_0-auc:0.933073\tvalidation_1-auc:0.929961\n",
            "[369]\tvalidation_0-auc:0.933151\tvalidation_1-auc:0.930029\n",
            "[370]\tvalidation_0-auc:0.933151\tvalidation_1-auc:0.930028\n",
            "[371]\tvalidation_0-auc:0.93315\tvalidation_1-auc:0.930027\n",
            "[372]\tvalidation_0-auc:0.933155\tvalidation_1-auc:0.930028\n",
            "[373]\tvalidation_0-auc:0.933155\tvalidation_1-auc:0.930025\n",
            "[374]\tvalidation_0-auc:0.933153\tvalidation_1-auc:0.930023\n",
            "[375]\tvalidation_0-auc:0.933164\tvalidation_1-auc:0.930024\n",
            "[376]\tvalidation_0-auc:0.933237\tvalidation_1-auc:0.930087\n",
            "[377]\tvalidation_0-auc:0.93334\tvalidation_1-auc:0.930177\n",
            "[378]\tvalidation_0-auc:0.93334\tvalidation_1-auc:0.930177\n",
            "[379]\tvalidation_0-auc:0.933346\tvalidation_1-auc:0.930178\n",
            "[380]\tvalidation_0-auc:0.933364\tvalidation_1-auc:0.930191\n",
            "[381]\tvalidation_0-auc:0.933365\tvalidation_1-auc:0.93019\n",
            "[382]\tvalidation_0-auc:0.933379\tvalidation_1-auc:0.930202\n",
            "[383]\tvalidation_0-auc:0.933382\tvalidation_1-auc:0.930202\n",
            "[384]\tvalidation_0-auc:0.933382\tvalidation_1-auc:0.930202\n",
            "[385]\tvalidation_0-auc:0.933572\tvalidation_1-auc:0.930394\n",
            "[386]\tvalidation_0-auc:0.933579\tvalidation_1-auc:0.930396\n",
            "[387]\tvalidation_0-auc:0.93358\tvalidation_1-auc:0.930391\n",
            "[388]\tvalidation_0-auc:0.933656\tvalidation_1-auc:0.930459\n",
            "[389]\tvalidation_0-auc:0.93367\tvalidation_1-auc:0.93046\n",
            "[390]\tvalidation_0-auc:0.933717\tvalidation_1-auc:0.930508\n",
            "[391]\tvalidation_0-auc:0.933735\tvalidation_1-auc:0.930519\n",
            "[392]\tvalidation_0-auc:0.933757\tvalidation_1-auc:0.930533\n",
            "[393]\tvalidation_0-auc:0.934038\tvalidation_1-auc:0.930811\n",
            "[394]\tvalidation_0-auc:0.934162\tvalidation_1-auc:0.930941\n",
            "[395]\tvalidation_0-auc:0.934164\tvalidation_1-auc:0.930939\n",
            "[396]\tvalidation_0-auc:0.934164\tvalidation_1-auc:0.930937\n",
            "[397]\tvalidation_0-auc:0.934169\tvalidation_1-auc:0.930937\n",
            "[398]\tvalidation_0-auc:0.934188\tvalidation_1-auc:0.930939\n",
            "[399]\tvalidation_0-auc:0.93419\tvalidation_1-auc:0.930936\n",
            "[400]\tvalidation_0-auc:0.93419\tvalidation_1-auc:0.930932\n",
            "[401]\tvalidation_0-auc:0.934201\tvalidation_1-auc:0.930939\n",
            "[402]\tvalidation_0-auc:0.934202\tvalidation_1-auc:0.930934\n",
            "[403]\tvalidation_0-auc:0.934237\tvalidation_1-auc:0.930968\n",
            "[404]\tvalidation_0-auc:0.934247\tvalidation_1-auc:0.930973\n",
            "[405]\tvalidation_0-auc:0.934403\tvalidation_1-auc:0.931123\n",
            "[406]\tvalidation_0-auc:0.934404\tvalidation_1-auc:0.931122\n",
            "[407]\tvalidation_0-auc:0.934406\tvalidation_1-auc:0.93112\n",
            "[408]\tvalidation_0-auc:0.93442\tvalidation_1-auc:0.931126\n",
            "[409]\tvalidation_0-auc:0.934428\tvalidation_1-auc:0.931123\n",
            "[410]\tvalidation_0-auc:0.934438\tvalidation_1-auc:0.931126\n",
            "[411]\tvalidation_0-auc:0.934439\tvalidation_1-auc:0.931124\n",
            "[412]\tvalidation_0-auc:0.934441\tvalidation_1-auc:0.931121\n",
            "[413]\tvalidation_0-auc:0.934563\tvalidation_1-auc:0.931225\n",
            "[414]\tvalidation_0-auc:0.934582\tvalidation_1-auc:0.931234\n",
            "[415]\tvalidation_0-auc:0.934597\tvalidation_1-auc:0.931239\n",
            "[416]\tvalidation_0-auc:0.9346\tvalidation_1-auc:0.931238\n",
            "[417]\tvalidation_0-auc:0.934821\tvalidation_1-auc:0.931465\n",
            "[418]\tvalidation_0-auc:0.934929\tvalidation_1-auc:0.931576\n",
            "[419]\tvalidation_0-auc:0.934927\tvalidation_1-auc:0.931574\n",
            "[420]\tvalidation_0-auc:0.934937\tvalidation_1-auc:0.931578\n",
            "[421]\tvalidation_0-auc:0.935057\tvalidation_1-auc:0.931686\n",
            "[422]\tvalidation_0-auc:0.935063\tvalidation_1-auc:0.931686\n",
            "[423]\tvalidation_0-auc:0.935117\tvalidation_1-auc:0.931745\n",
            "[424]\tvalidation_0-auc:0.935115\tvalidation_1-auc:0.931744\n",
            "[425]\tvalidation_0-auc:0.935209\tvalidation_1-auc:0.931838\n",
            "[426]\tvalidation_0-auc:0.935211\tvalidation_1-auc:0.931834\n",
            "[427]\tvalidation_0-auc:0.935215\tvalidation_1-auc:0.931834\n",
            "[428]\tvalidation_0-auc:0.935219\tvalidation_1-auc:0.931834\n",
            "[429]\tvalidation_0-auc:0.935291\tvalidation_1-auc:0.931894\n",
            "[430]\tvalidation_0-auc:0.93529\tvalidation_1-auc:0.931893\n",
            "[431]\tvalidation_0-auc:0.935291\tvalidation_1-auc:0.931891\n",
            "[432]\tvalidation_0-auc:0.935385\tvalidation_1-auc:0.931968\n",
            "[433]\tvalidation_0-auc:0.935392\tvalidation_1-auc:0.93197\n",
            "[434]\tvalidation_0-auc:0.935394\tvalidation_1-auc:0.931969\n",
            "[435]\tvalidation_0-auc:0.935398\tvalidation_1-auc:0.931968\n",
            "[436]\tvalidation_0-auc:0.935403\tvalidation_1-auc:0.931969\n",
            "[437]\tvalidation_0-auc:0.935416\tvalidation_1-auc:0.931964\n",
            "[438]\tvalidation_0-auc:0.935416\tvalidation_1-auc:0.931963\n",
            "[439]\tvalidation_0-auc:0.935427\tvalidation_1-auc:0.931964\n",
            "[440]\tvalidation_0-auc:0.935432\tvalidation_1-auc:0.931962\n",
            "[441]\tvalidation_0-auc:0.935441\tvalidation_1-auc:0.931965\n",
            "[442]\tvalidation_0-auc:0.935446\tvalidation_1-auc:0.931962\n",
            "[443]\tvalidation_0-auc:0.935536\tvalidation_1-auc:0.932043\n",
            "[444]\tvalidation_0-auc:0.935609\tvalidation_1-auc:0.932106\n",
            "[445]\tvalidation_0-auc:0.935614\tvalidation_1-auc:0.932107\n",
            "[446]\tvalidation_0-auc:0.935624\tvalidation_1-auc:0.932113\n",
            "[447]\tvalidation_0-auc:0.935625\tvalidation_1-auc:0.932113\n",
            "[448]\tvalidation_0-auc:0.935627\tvalidation_1-auc:0.932113\n",
            "[449]\tvalidation_0-auc:0.935631\tvalidation_1-auc:0.932111\n",
            "[450]\tvalidation_0-auc:0.935793\tvalidation_1-auc:0.932292\n",
            "[451]\tvalidation_0-auc:0.935794\tvalidation_1-auc:0.932291\n",
            "[452]\tvalidation_0-auc:0.935864\tvalidation_1-auc:0.932343\n",
            "[453]\tvalidation_0-auc:0.935935\tvalidation_1-auc:0.932412\n",
            "[454]\tvalidation_0-auc:0.935937\tvalidation_1-auc:0.93241\n",
            "[455]\tvalidation_0-auc:0.935938\tvalidation_1-auc:0.932406\n",
            "[456]\tvalidation_0-auc:0.935948\tvalidation_1-auc:0.932408\n",
            "[457]\tvalidation_0-auc:0.935948\tvalidation_1-auc:0.932408\n",
            "[458]\tvalidation_0-auc:0.93595\tvalidation_1-auc:0.932407\n",
            "[459]\tvalidation_0-auc:0.935997\tvalidation_1-auc:0.932441\n",
            "[460]\tvalidation_0-auc:0.936004\tvalidation_1-auc:0.932445\n",
            "[461]\tvalidation_0-auc:0.936089\tvalidation_1-auc:0.932527\n",
            "[462]\tvalidation_0-auc:0.936096\tvalidation_1-auc:0.932529\n",
            "[463]\tvalidation_0-auc:0.936095\tvalidation_1-auc:0.932526\n",
            "[464]\tvalidation_0-auc:0.93616\tvalidation_1-auc:0.932578\n",
            "[465]\tvalidation_0-auc:0.93616\tvalidation_1-auc:0.932574\n",
            "[466]\tvalidation_0-auc:0.936166\tvalidation_1-auc:0.932577\n",
            "[467]\tvalidation_0-auc:0.936183\tvalidation_1-auc:0.932578\n",
            "[468]\tvalidation_0-auc:0.936299\tvalidation_1-auc:0.932699\n",
            "[469]\tvalidation_0-auc:0.936298\tvalidation_1-auc:0.932697\n",
            "[470]\tvalidation_0-auc:0.936298\tvalidation_1-auc:0.932693\n",
            "[471]\tvalidation_0-auc:0.936302\tvalidation_1-auc:0.932694\n",
            "[472]\tvalidation_0-auc:0.936305\tvalidation_1-auc:0.932689\n",
            "[473]\tvalidation_0-auc:0.936307\tvalidation_1-auc:0.932688\n",
            "[474]\tvalidation_0-auc:0.93632\tvalidation_1-auc:0.932698\n",
            "[475]\tvalidation_0-auc:0.936319\tvalidation_1-auc:0.932695\n",
            "[476]\tvalidation_0-auc:0.936576\tvalidation_1-auc:0.932957\n",
            "[477]\tvalidation_0-auc:0.936631\tvalidation_1-auc:0.932997\n",
            "[478]\tvalidation_0-auc:0.93663\tvalidation_1-auc:0.932994\n",
            "[479]\tvalidation_0-auc:0.936633\tvalidation_1-auc:0.932994\n",
            "[480]\tvalidation_0-auc:0.936632\tvalidation_1-auc:0.932993\n",
            "[481]\tvalidation_0-auc:0.936649\tvalidation_1-auc:0.933005\n",
            "[482]\tvalidation_0-auc:0.936648\tvalidation_1-auc:0.933003\n",
            "[483]\tvalidation_0-auc:0.936662\tvalidation_1-auc:0.933012\n",
            "[484]\tvalidation_0-auc:0.936669\tvalidation_1-auc:0.933007\n",
            "[485]\tvalidation_0-auc:0.936686\tvalidation_1-auc:0.93302\n",
            "[486]\tvalidation_0-auc:0.936689\tvalidation_1-auc:0.933014\n",
            "[487]\tvalidation_0-auc:0.936695\tvalidation_1-auc:0.933013\n",
            "[488]\tvalidation_0-auc:0.936695\tvalidation_1-auc:0.933012\n",
            "[489]\tvalidation_0-auc:0.936745\tvalidation_1-auc:0.933052\n",
            "[490]\tvalidation_0-auc:0.936751\tvalidation_1-auc:0.933051\n",
            "[491]\tvalidation_0-auc:0.936756\tvalidation_1-auc:0.93305\n",
            "[492]\tvalidation_0-auc:0.936761\tvalidation_1-auc:0.93305\n",
            "[493]\tvalidation_0-auc:0.936763\tvalidation_1-auc:0.933049\n",
            "[494]\tvalidation_0-auc:0.936862\tvalidation_1-auc:0.933156\n",
            "[495]\tvalidation_0-auc:0.936907\tvalidation_1-auc:0.933191\n",
            "[496]\tvalidation_0-auc:0.936909\tvalidation_1-auc:0.933189\n",
            "[497]\tvalidation_0-auc:0.936909\tvalidation_1-auc:0.933186\n",
            "[498]\tvalidation_0-auc:0.936914\tvalidation_1-auc:0.933184\n",
            "[499]\tvalidation_0-auc:0.93692\tvalidation_1-auc:0.933185\n",
            "[500]\tvalidation_0-auc:0.936923\tvalidation_1-auc:0.933183\n",
            "[501]\tvalidation_0-auc:0.936946\tvalidation_1-auc:0.933205\n",
            "[502]\tvalidation_0-auc:0.936951\tvalidation_1-auc:0.933207\n",
            "[503]\tvalidation_0-auc:0.937074\tvalidation_1-auc:0.933341\n",
            "[504]\tvalidation_0-auc:0.937122\tvalidation_1-auc:0.933379\n",
            "[505]\tvalidation_0-auc:0.93713\tvalidation_1-auc:0.933377\n",
            "[506]\tvalidation_0-auc:0.937129\tvalidation_1-auc:0.933377\n",
            "[507]\tvalidation_0-auc:0.937135\tvalidation_1-auc:0.93338\n",
            "[508]\tvalidation_0-auc:0.937139\tvalidation_1-auc:0.933378\n",
            "[509]\tvalidation_0-auc:0.937221\tvalidation_1-auc:0.933458\n",
            "[510]\tvalidation_0-auc:0.937221\tvalidation_1-auc:0.933457\n",
            "[511]\tvalidation_0-auc:0.937228\tvalidation_1-auc:0.933456\n",
            "[512]\tvalidation_0-auc:0.937308\tvalidation_1-auc:0.933534\n",
            "[513]\tvalidation_0-auc:0.937309\tvalidation_1-auc:0.933532\n",
            "[514]\tvalidation_0-auc:0.937311\tvalidation_1-auc:0.933531\n",
            "[515]\tvalidation_0-auc:0.937322\tvalidation_1-auc:0.933532\n",
            "[516]\tvalidation_0-auc:0.937378\tvalidation_1-auc:0.933577\n",
            "[517]\tvalidation_0-auc:0.937381\tvalidation_1-auc:0.933574\n",
            "[518]\tvalidation_0-auc:0.937427\tvalidation_1-auc:0.933611\n",
            "[519]\tvalidation_0-auc:0.937434\tvalidation_1-auc:0.933611\n",
            "[520]\tvalidation_0-auc:0.937433\tvalidation_1-auc:0.93361\n",
            "[521]\tvalidation_0-auc:0.937438\tvalidation_1-auc:0.933613\n",
            "[522]\tvalidation_0-auc:0.937473\tvalidation_1-auc:0.933641\n",
            "[523]\tvalidation_0-auc:0.937474\tvalidation_1-auc:0.933637\n",
            "[524]\tvalidation_0-auc:0.93748\tvalidation_1-auc:0.933636\n",
            "[525]\tvalidation_0-auc:0.93749\tvalidation_1-auc:0.933642\n",
            "[526]\tvalidation_0-auc:0.937525\tvalidation_1-auc:0.933675\n",
            "[527]\tvalidation_0-auc:0.937528\tvalidation_1-auc:0.933677\n",
            "[528]\tvalidation_0-auc:0.937535\tvalidation_1-auc:0.933674\n",
            "[529]\tvalidation_0-auc:0.937535\tvalidation_1-auc:0.933673\n",
            "[530]\tvalidation_0-auc:0.937538\tvalidation_1-auc:0.933671\n",
            "[531]\tvalidation_0-auc:0.937537\tvalidation_1-auc:0.933671\n",
            "[532]\tvalidation_0-auc:0.937546\tvalidation_1-auc:0.933674\n",
            "[533]\tvalidation_0-auc:0.937549\tvalidation_1-auc:0.933675\n",
            "[534]\tvalidation_0-auc:0.937593\tvalidation_1-auc:0.933717\n",
            "[535]\tvalidation_0-auc:0.937599\tvalidation_1-auc:0.933717\n",
            "[536]\tvalidation_0-auc:0.937604\tvalidation_1-auc:0.933711\n",
            "[537]\tvalidation_0-auc:0.937604\tvalidation_1-auc:0.933711\n",
            "[538]\tvalidation_0-auc:0.937607\tvalidation_1-auc:0.933711\n",
            "[539]\tvalidation_0-auc:0.937686\tvalidation_1-auc:0.933785\n",
            "[540]\tvalidation_0-auc:0.93769\tvalidation_1-auc:0.933786\n",
            "[541]\tvalidation_0-auc:0.93784\tvalidation_1-auc:0.933941\n",
            "[542]\tvalidation_0-auc:0.937841\tvalidation_1-auc:0.93394\n",
            "[543]\tvalidation_0-auc:0.937841\tvalidation_1-auc:0.933938\n",
            "[544]\tvalidation_0-auc:0.937841\tvalidation_1-auc:0.933938\n",
            "[545]\tvalidation_0-auc:0.937852\tvalidation_1-auc:0.93394\n",
            "[546]\tvalidation_0-auc:0.937854\tvalidation_1-auc:0.933938\n",
            "[547]\tvalidation_0-auc:0.937854\tvalidation_1-auc:0.933938\n",
            "[548]\tvalidation_0-auc:0.937854\tvalidation_1-auc:0.933938\n",
            "[549]\tvalidation_0-auc:0.937858\tvalidation_1-auc:0.933937\n",
            "[550]\tvalidation_0-auc:0.937865\tvalidation_1-auc:0.933942\n",
            "[551]\tvalidation_0-auc:0.937865\tvalidation_1-auc:0.933942\n",
            "[552]\tvalidation_0-auc:0.937911\tvalidation_1-auc:0.933987\n",
            "[553]\tvalidation_0-auc:0.938043\tvalidation_1-auc:0.934142\n",
            "[554]\tvalidation_0-auc:0.93812\tvalidation_1-auc:0.93422\n",
            "[555]\tvalidation_0-auc:0.938126\tvalidation_1-auc:0.934223\n",
            "[556]\tvalidation_0-auc:0.938364\tvalidation_1-auc:0.934472\n",
            "[557]\tvalidation_0-auc:0.938376\tvalidation_1-auc:0.934473\n",
            "[558]\tvalidation_0-auc:0.938381\tvalidation_1-auc:0.934469\n",
            "[559]\tvalidation_0-auc:0.938429\tvalidation_1-auc:0.934515\n",
            "[560]\tvalidation_0-auc:0.938435\tvalidation_1-auc:0.934517\n",
            "[561]\tvalidation_0-auc:0.938436\tvalidation_1-auc:0.934515\n",
            "[562]\tvalidation_0-auc:0.938446\tvalidation_1-auc:0.93452\n",
            "[563]\tvalidation_0-auc:0.938453\tvalidation_1-auc:0.934521\n",
            "[564]\tvalidation_0-auc:0.938452\tvalidation_1-auc:0.934519\n",
            "[565]\tvalidation_0-auc:0.938456\tvalidation_1-auc:0.934518\n",
            "[566]\tvalidation_0-auc:0.938489\tvalidation_1-auc:0.934544\n",
            "[567]\tvalidation_0-auc:0.938491\tvalidation_1-auc:0.934546\n",
            "[568]\tvalidation_0-auc:0.938502\tvalidation_1-auc:0.934545\n",
            "[569]\tvalidation_0-auc:0.93853\tvalidation_1-auc:0.934558\n",
            "[570]\tvalidation_0-auc:0.938531\tvalidation_1-auc:0.934555\n",
            "[571]\tvalidation_0-auc:0.938532\tvalidation_1-auc:0.934554\n",
            "[572]\tvalidation_0-auc:0.938535\tvalidation_1-auc:0.934557\n",
            "[573]\tvalidation_0-auc:0.938543\tvalidation_1-auc:0.934559\n",
            "[574]\tvalidation_0-auc:0.938554\tvalidation_1-auc:0.934567\n",
            "[575]\tvalidation_0-auc:0.938554\tvalidation_1-auc:0.934564\n",
            "[576]\tvalidation_0-auc:0.938554\tvalidation_1-auc:0.934565\n",
            "[577]\tvalidation_0-auc:0.938554\tvalidation_1-auc:0.934565\n",
            "[578]\tvalidation_0-auc:0.938555\tvalidation_1-auc:0.934564\n",
            "[579]\tvalidation_0-auc:0.938598\tvalidation_1-auc:0.934601\n",
            "[580]\tvalidation_0-auc:0.93864\tvalidation_1-auc:0.934631\n",
            "[581]\tvalidation_0-auc:0.938645\tvalidation_1-auc:0.934631\n",
            "[582]\tvalidation_0-auc:0.938652\tvalidation_1-auc:0.934634\n",
            "[583]\tvalidation_0-auc:0.938653\tvalidation_1-auc:0.934633\n",
            "[584]\tvalidation_0-auc:0.938652\tvalidation_1-auc:0.934632\n",
            "[585]\tvalidation_0-auc:0.938658\tvalidation_1-auc:0.934632\n",
            "[586]\tvalidation_0-auc:0.938724\tvalidation_1-auc:0.934697\n",
            "[587]\tvalidation_0-auc:0.938736\tvalidation_1-auc:0.934705\n",
            "[588]\tvalidation_0-auc:0.938736\tvalidation_1-auc:0.934706\n",
            "[589]\tvalidation_0-auc:0.938736\tvalidation_1-auc:0.934705\n",
            "[590]\tvalidation_0-auc:0.938741\tvalidation_1-auc:0.934704\n",
            "[591]\tvalidation_0-auc:0.938784\tvalidation_1-auc:0.934741\n",
            "[592]\tvalidation_0-auc:0.938807\tvalidation_1-auc:0.934757\n",
            "[593]\tvalidation_0-auc:0.938834\tvalidation_1-auc:0.934781\n",
            "[594]\tvalidation_0-auc:0.938852\tvalidation_1-auc:0.934792\n",
            "[595]\tvalidation_0-auc:0.938852\tvalidation_1-auc:0.93479\n",
            "[596]\tvalidation_0-auc:0.938886\tvalidation_1-auc:0.93483\n",
            "[597]\tvalidation_0-auc:0.938886\tvalidation_1-auc:0.934828\n",
            "[598]\tvalidation_0-auc:0.938897\tvalidation_1-auc:0.93483\n",
            "[599]\tvalidation_0-auc:0.938901\tvalidation_1-auc:0.934831\n",
            "[600]\tvalidation_0-auc:0.938904\tvalidation_1-auc:0.934831\n",
            "[601]\tvalidation_0-auc:0.938904\tvalidation_1-auc:0.93483\n",
            "[602]\tvalidation_0-auc:0.938908\tvalidation_1-auc:0.93483\n",
            "[603]\tvalidation_0-auc:0.938958\tvalidation_1-auc:0.934882\n",
            "[604]\tvalidation_0-auc:0.938959\tvalidation_1-auc:0.934879\n",
            "[605]\tvalidation_0-auc:0.93899\tvalidation_1-auc:0.934907\n",
            "[606]\tvalidation_0-auc:0.938991\tvalidation_1-auc:0.934907\n",
            "[607]\tvalidation_0-auc:0.938991\tvalidation_1-auc:0.934907\n",
            "[608]\tvalidation_0-auc:0.938992\tvalidation_1-auc:0.934907\n",
            "[609]\tvalidation_0-auc:0.938995\tvalidation_1-auc:0.934908\n",
            "[610]\tvalidation_0-auc:0.938998\tvalidation_1-auc:0.934907\n",
            "[611]\tvalidation_0-auc:0.939021\tvalidation_1-auc:0.934929\n",
            "[612]\tvalidation_0-auc:0.939044\tvalidation_1-auc:0.934952\n",
            "[613]\tvalidation_0-auc:0.939044\tvalidation_1-auc:0.934952\n",
            "[614]\tvalidation_0-auc:0.93905\tvalidation_1-auc:0.934958\n",
            "[615]\tvalidation_0-auc:0.939055\tvalidation_1-auc:0.93496\n",
            "[616]\tvalidation_0-auc:0.939058\tvalidation_1-auc:0.934963\n",
            "[617]\tvalidation_0-auc:0.939059\tvalidation_1-auc:0.934962\n",
            "[618]\tvalidation_0-auc:0.939061\tvalidation_1-auc:0.934962\n",
            "[619]\tvalidation_0-auc:0.939067\tvalidation_1-auc:0.934964\n",
            "[620]\tvalidation_0-auc:0.939071\tvalidation_1-auc:0.934963\n",
            "[621]\tvalidation_0-auc:0.939207\tvalidation_1-auc:0.935101\n",
            "[622]\tvalidation_0-auc:0.939207\tvalidation_1-auc:0.935101\n",
            "[623]\tvalidation_0-auc:0.939207\tvalidation_1-auc:0.9351\n",
            "[624]\tvalidation_0-auc:0.939207\tvalidation_1-auc:0.9351\n",
            "[625]\tvalidation_0-auc:0.939208\tvalidation_1-auc:0.935097\n",
            "[626]\tvalidation_0-auc:0.939329\tvalidation_1-auc:0.935223\n",
            "[627]\tvalidation_0-auc:0.939339\tvalidation_1-auc:0.935221\n",
            "[628]\tvalidation_0-auc:0.939343\tvalidation_1-auc:0.93522\n",
            "[629]\tvalidation_0-auc:0.93935\tvalidation_1-auc:0.935217\n",
            "[630]\tvalidation_0-auc:0.939352\tvalidation_1-auc:0.935217\n",
            "[631]\tvalidation_0-auc:0.939353\tvalidation_1-auc:0.935217\n",
            "[632]\tvalidation_0-auc:0.939354\tvalidation_1-auc:0.935215\n",
            "[633]\tvalidation_0-auc:0.939355\tvalidation_1-auc:0.935213\n",
            "[634]\tvalidation_0-auc:0.939355\tvalidation_1-auc:0.935213\n",
            "[635]\tvalidation_0-auc:0.939355\tvalidation_1-auc:0.935213\n",
            "[636]\tvalidation_0-auc:0.939359\tvalidation_1-auc:0.935214\n",
            "[637]\tvalidation_0-auc:0.939378\tvalidation_1-auc:0.935231\n",
            "[638]\tvalidation_0-auc:0.939382\tvalidation_1-auc:0.935232\n",
            "[639]\tvalidation_0-auc:0.939385\tvalidation_1-auc:0.935234\n",
            "[640]\tvalidation_0-auc:0.93939\tvalidation_1-auc:0.93523\n",
            "[641]\tvalidation_0-auc:0.939394\tvalidation_1-auc:0.935228\n",
            "[642]\tvalidation_0-auc:0.939397\tvalidation_1-auc:0.935227\n",
            "[643]\tvalidation_0-auc:0.9394\tvalidation_1-auc:0.935225\n",
            "[644]\tvalidation_0-auc:0.939407\tvalidation_1-auc:0.935223\n",
            "[645]\tvalidation_0-auc:0.939406\tvalidation_1-auc:0.935223\n",
            "[646]\tvalidation_0-auc:0.939408\tvalidation_1-auc:0.935221\n",
            "[647]\tvalidation_0-auc:0.939427\tvalidation_1-auc:0.93524\n",
            "[648]\tvalidation_0-auc:0.939457\tvalidation_1-auc:0.935266\n",
            "[649]\tvalidation_0-auc:0.939475\tvalidation_1-auc:0.935283\n",
            "[650]\tvalidation_0-auc:0.939475\tvalidation_1-auc:0.935282\n",
            "[651]\tvalidation_0-auc:0.939481\tvalidation_1-auc:0.935279\n",
            "[652]\tvalidation_0-auc:0.939482\tvalidation_1-auc:0.935279\n",
            "[653]\tvalidation_0-auc:0.939484\tvalidation_1-auc:0.935276\n",
            "[654]\tvalidation_0-auc:0.939484\tvalidation_1-auc:0.935276\n",
            "[655]\tvalidation_0-auc:0.939491\tvalidation_1-auc:0.93528\n",
            "[656]\tvalidation_0-auc:0.939492\tvalidation_1-auc:0.935279\n",
            "[657]\tvalidation_0-auc:0.939492\tvalidation_1-auc:0.935278\n",
            "[658]\tvalidation_0-auc:0.939497\tvalidation_1-auc:0.935279\n",
            "[659]\tvalidation_0-auc:0.939501\tvalidation_1-auc:0.935278\n",
            "[660]\tvalidation_0-auc:0.939501\tvalidation_1-auc:0.935277\n",
            "[661]\tvalidation_0-auc:0.939502\tvalidation_1-auc:0.935277\n",
            "[662]\tvalidation_0-auc:0.93951\tvalidation_1-auc:0.93528\n",
            "[663]\tvalidation_0-auc:0.93951\tvalidation_1-auc:0.93528\n",
            "[664]\tvalidation_0-auc:0.93951\tvalidation_1-auc:0.93528\n",
            "[665]\tvalidation_0-auc:0.939512\tvalidation_1-auc:0.93528\n",
            "[666]\tvalidation_0-auc:0.939512\tvalidation_1-auc:0.93528\n",
            "[667]\tvalidation_0-auc:0.939516\tvalidation_1-auc:0.935277\n",
            "[668]\tvalidation_0-auc:0.939531\tvalidation_1-auc:0.935294\n",
            "[669]\tvalidation_0-auc:0.939532\tvalidation_1-auc:0.935294\n",
            "[670]\tvalidation_0-auc:0.939538\tvalidation_1-auc:0.935293\n",
            "[671]\tvalidation_0-auc:0.93957\tvalidation_1-auc:0.935317\n",
            "[672]\tvalidation_0-auc:0.93959\tvalidation_1-auc:0.935333\n",
            "[673]\tvalidation_0-auc:0.93959\tvalidation_1-auc:0.935334\n",
            "[674]\tvalidation_0-auc:0.939591\tvalidation_1-auc:0.935333\n",
            "[675]\tvalidation_0-auc:0.939615\tvalidation_1-auc:0.935349\n",
            "[676]\tvalidation_0-auc:0.939615\tvalidation_1-auc:0.935348\n",
            "[677]\tvalidation_0-auc:0.939615\tvalidation_1-auc:0.935348\n",
            "[678]\tvalidation_0-auc:0.939615\tvalidation_1-auc:0.935348\n",
            "[679]\tvalidation_0-auc:0.939615\tvalidation_1-auc:0.935348\n",
            "[680]\tvalidation_0-auc:0.939626\tvalidation_1-auc:0.935355\n",
            "[681]\tvalidation_0-auc:0.939664\tvalidation_1-auc:0.935393\n",
            "[682]\tvalidation_0-auc:0.939667\tvalidation_1-auc:0.93539\n",
            "[683]\tvalidation_0-auc:0.939667\tvalidation_1-auc:0.935388\n",
            "[684]\tvalidation_0-auc:0.939675\tvalidation_1-auc:0.935384\n",
            "[685]\tvalidation_0-auc:0.939681\tvalidation_1-auc:0.935384\n",
            "[686]\tvalidation_0-auc:0.939682\tvalidation_1-auc:0.93538\n",
            "[687]\tvalidation_0-auc:0.939717\tvalidation_1-auc:0.935414\n",
            "[688]\tvalidation_0-auc:0.939744\tvalidation_1-auc:0.935438\n",
            "[689]\tvalidation_0-auc:0.939745\tvalidation_1-auc:0.935437\n",
            "[690]\tvalidation_0-auc:0.939748\tvalidation_1-auc:0.935432\n",
            "[691]\tvalidation_0-auc:0.939751\tvalidation_1-auc:0.935433\n",
            "[692]\tvalidation_0-auc:0.939755\tvalidation_1-auc:0.935434\n",
            "[693]\tvalidation_0-auc:0.939755\tvalidation_1-auc:0.935432\n",
            "[694]\tvalidation_0-auc:0.939757\tvalidation_1-auc:0.935433\n",
            "[695]\tvalidation_0-auc:0.93976\tvalidation_1-auc:0.935432\n",
            "[696]\tvalidation_0-auc:0.939763\tvalidation_1-auc:0.935431\n",
            "[697]\tvalidation_0-auc:0.939774\tvalidation_1-auc:0.935441\n",
            "[698]\tvalidation_0-auc:0.939816\tvalidation_1-auc:0.93548\n",
            "[699]\tvalidation_0-auc:0.939815\tvalidation_1-auc:0.935478\n",
            "[700]\tvalidation_0-auc:0.939815\tvalidation_1-auc:0.935478\n",
            "[701]\tvalidation_0-auc:0.939815\tvalidation_1-auc:0.935478\n",
            "[702]\tvalidation_0-auc:0.939827\tvalidation_1-auc:0.93548\n",
            "[703]\tvalidation_0-auc:0.939829\tvalidation_1-auc:0.93548\n",
            "[704]\tvalidation_0-auc:0.939829\tvalidation_1-auc:0.93548\n",
            "[705]\tvalidation_0-auc:0.939829\tvalidation_1-auc:0.93548\n",
            "[706]\tvalidation_0-auc:0.939836\tvalidation_1-auc:0.935483\n",
            "[707]\tvalidation_0-auc:0.939835\tvalidation_1-auc:0.935481\n",
            "[708]\tvalidation_0-auc:0.939835\tvalidation_1-auc:0.935481\n",
            "[709]\tvalidation_0-auc:0.939873\tvalidation_1-auc:0.935516\n",
            "[710]\tvalidation_0-auc:0.939881\tvalidation_1-auc:0.935514\n",
            "[711]\tvalidation_0-auc:0.939883\tvalidation_1-auc:0.935513\n",
            "[712]\tvalidation_0-auc:0.939889\tvalidation_1-auc:0.935516\n",
            "[713]\tvalidation_0-auc:0.939889\tvalidation_1-auc:0.935515\n",
            "[714]\tvalidation_0-auc:0.939891\tvalidation_1-auc:0.935515\n",
            "[715]\tvalidation_0-auc:0.939892\tvalidation_1-auc:0.935514\n",
            "[716]\tvalidation_0-auc:0.939897\tvalidation_1-auc:0.935515\n",
            "[717]\tvalidation_0-auc:0.939897\tvalidation_1-auc:0.935515\n",
            "[718]\tvalidation_0-auc:0.939898\tvalidation_1-auc:0.935515\n",
            "[719]\tvalidation_0-auc:0.939903\tvalidation_1-auc:0.935515\n",
            "[720]\tvalidation_0-auc:0.939944\tvalidation_1-auc:0.935558\n",
            "[721]\tvalidation_0-auc:0.939944\tvalidation_1-auc:0.935558\n",
            "[722]\tvalidation_0-auc:0.939944\tvalidation_1-auc:0.935558\n",
            "[723]\tvalidation_0-auc:0.939944\tvalidation_1-auc:0.935558\n",
            "[724]\tvalidation_0-auc:0.939952\tvalidation_1-auc:0.935557\n",
            "[725]\tvalidation_0-auc:0.939952\tvalidation_1-auc:0.935557\n",
            "[726]\tvalidation_0-auc:0.939952\tvalidation_1-auc:0.935557\n",
            "[727]\tvalidation_0-auc:0.939953\tvalidation_1-auc:0.935558\n",
            "[728]\tvalidation_0-auc:0.939953\tvalidation_1-auc:0.935557\n",
            "[729]\tvalidation_0-auc:0.939955\tvalidation_1-auc:0.935555\n",
            "[730]\tvalidation_0-auc:0.939983\tvalidation_1-auc:0.935573\n",
            "[731]\tvalidation_0-auc:0.939989\tvalidation_1-auc:0.935575\n",
            "[732]\tvalidation_0-auc:0.939989\tvalidation_1-auc:0.935575\n",
            "[733]\tvalidation_0-auc:0.939989\tvalidation_1-auc:0.935574\n",
            "[734]\tvalidation_0-auc:0.940017\tvalidation_1-auc:0.935594\n",
            "[735]\tvalidation_0-auc:0.940019\tvalidation_1-auc:0.935593\n",
            "[736]\tvalidation_0-auc:0.940031\tvalidation_1-auc:0.935598\n",
            "[737]\tvalidation_0-auc:0.940053\tvalidation_1-auc:0.935613\n",
            "[738]\tvalidation_0-auc:0.940056\tvalidation_1-auc:0.935612\n",
            "[739]\tvalidation_0-auc:0.940057\tvalidation_1-auc:0.935611\n",
            "[740]\tvalidation_0-auc:0.940056\tvalidation_1-auc:0.935611\n",
            "[741]\tvalidation_0-auc:0.940056\tvalidation_1-auc:0.93561\n",
            "[742]\tvalidation_0-auc:0.940217\tvalidation_1-auc:0.935786\n",
            "[743]\tvalidation_0-auc:0.940217\tvalidation_1-auc:0.935783\n",
            "[744]\tvalidation_0-auc:0.940219\tvalidation_1-auc:0.935783\n",
            "[745]\tvalidation_0-auc:0.940219\tvalidation_1-auc:0.935783\n",
            "[746]\tvalidation_0-auc:0.940229\tvalidation_1-auc:0.935781\n",
            "[747]\tvalidation_0-auc:0.94024\tvalidation_1-auc:0.935783\n",
            "[748]\tvalidation_0-auc:0.940263\tvalidation_1-auc:0.935802\n",
            "[749]\tvalidation_0-auc:0.940263\tvalidation_1-auc:0.935801\n",
            "[750]\tvalidation_0-auc:0.940263\tvalidation_1-auc:0.935801\n",
            "[751]\tvalidation_0-auc:0.940263\tvalidation_1-auc:0.935801\n",
            "[752]\tvalidation_0-auc:0.940264\tvalidation_1-auc:0.9358\n",
            "[753]\tvalidation_0-auc:0.940264\tvalidation_1-auc:0.9358\n",
            "[754]\tvalidation_0-auc:0.940265\tvalidation_1-auc:0.935799\n",
            "[755]\tvalidation_0-auc:0.940266\tvalidation_1-auc:0.935798\n",
            "[756]\tvalidation_0-auc:0.940295\tvalidation_1-auc:0.935811\n",
            "[757]\tvalidation_0-auc:0.940297\tvalidation_1-auc:0.935811\n",
            "[758]\tvalidation_0-auc:0.940298\tvalidation_1-auc:0.935808\n",
            "[759]\tvalidation_0-auc:0.940298\tvalidation_1-auc:0.935808\n",
            "[760]\tvalidation_0-auc:0.940298\tvalidation_1-auc:0.935807\n",
            "[761]\tvalidation_0-auc:0.940298\tvalidation_1-auc:0.935808\n",
            "[762]\tvalidation_0-auc:0.940301\tvalidation_1-auc:0.935807\n",
            "[763]\tvalidation_0-auc:0.940303\tvalidation_1-auc:0.935805\n",
            "[764]\tvalidation_0-auc:0.940322\tvalidation_1-auc:0.935826\n",
            "[765]\tvalidation_0-auc:0.940324\tvalidation_1-auc:0.935824\n",
            "[766]\tvalidation_0-auc:0.940344\tvalidation_1-auc:0.93584\n",
            "[767]\tvalidation_0-auc:0.940344\tvalidation_1-auc:0.935841\n",
            "[768]\tvalidation_0-auc:0.940365\tvalidation_1-auc:0.935858\n",
            "[769]\tvalidation_0-auc:0.940367\tvalidation_1-auc:0.935857\n",
            "[770]\tvalidation_0-auc:0.940367\tvalidation_1-auc:0.935857\n",
            "[771]\tvalidation_0-auc:0.940367\tvalidation_1-auc:0.935857\n",
            "[772]\tvalidation_0-auc:0.940385\tvalidation_1-auc:0.93587\n",
            "[773]\tvalidation_0-auc:0.94039\tvalidation_1-auc:0.935873\n",
            "[774]\tvalidation_0-auc:0.940391\tvalidation_1-auc:0.935872\n",
            "[775]\tvalidation_0-auc:0.940393\tvalidation_1-auc:0.935871\n",
            "[776]\tvalidation_0-auc:0.940393\tvalidation_1-auc:0.93587\n",
            "[777]\tvalidation_0-auc:0.940393\tvalidation_1-auc:0.935871\n",
            "[778]\tvalidation_0-auc:0.940393\tvalidation_1-auc:0.93587\n",
            "[779]\tvalidation_0-auc:0.940393\tvalidation_1-auc:0.93587\n",
            "[780]\tvalidation_0-auc:0.940395\tvalidation_1-auc:0.935869\n",
            "[781]\tvalidation_0-auc:0.940396\tvalidation_1-auc:0.935866\n",
            "[782]\tvalidation_0-auc:0.940398\tvalidation_1-auc:0.935867\n",
            "[783]\tvalidation_0-auc:0.94043\tvalidation_1-auc:0.935893\n",
            "[784]\tvalidation_0-auc:0.94043\tvalidation_1-auc:0.935892\n",
            "[785]\tvalidation_0-auc:0.940449\tvalidation_1-auc:0.935908\n",
            "[786]\tvalidation_0-auc:0.940449\tvalidation_1-auc:0.935908\n",
            "[787]\tvalidation_0-auc:0.94047\tvalidation_1-auc:0.935919\n",
            "[788]\tvalidation_0-auc:0.94047\tvalidation_1-auc:0.935919\n",
            "[789]\tvalidation_0-auc:0.94047\tvalidation_1-auc:0.935919\n",
            "[790]\tvalidation_0-auc:0.94047\tvalidation_1-auc:0.935919\n",
            "[791]\tvalidation_0-auc:0.940503\tvalidation_1-auc:0.935949\n",
            "[792]\tvalidation_0-auc:0.940503\tvalidation_1-auc:0.935948\n",
            "[793]\tvalidation_0-auc:0.940503\tvalidation_1-auc:0.935948\n",
            "[794]\tvalidation_0-auc:0.940504\tvalidation_1-auc:0.935948\n",
            "[795]\tvalidation_0-auc:0.940509\tvalidation_1-auc:0.935948\n",
            "[796]\tvalidation_0-auc:0.940511\tvalidation_1-auc:0.935946\n",
            "[797]\tvalidation_0-auc:0.940511\tvalidation_1-auc:0.935947\n",
            "[798]\tvalidation_0-auc:0.940528\tvalidation_1-auc:0.935959\n",
            "[799]\tvalidation_0-auc:0.940528\tvalidation_1-auc:0.935959\n",
            "[800]\tvalidation_0-auc:0.940531\tvalidation_1-auc:0.935959\n",
            "[801]\tvalidation_0-auc:0.940534\tvalidation_1-auc:0.935959\n",
            "[802]\tvalidation_0-auc:0.940534\tvalidation_1-auc:0.935958\n",
            "[803]\tvalidation_0-auc:0.940535\tvalidation_1-auc:0.935958\n",
            "[804]\tvalidation_0-auc:0.940537\tvalidation_1-auc:0.935957\n",
            "[805]\tvalidation_0-auc:0.940538\tvalidation_1-auc:0.935956\n",
            "[806]\tvalidation_0-auc:0.940615\tvalidation_1-auc:0.936036\n",
            "[807]\tvalidation_0-auc:0.940629\tvalidation_1-auc:0.936044\n",
            "[808]\tvalidation_0-auc:0.940643\tvalidation_1-auc:0.936052\n",
            "[809]\tvalidation_0-auc:0.940643\tvalidation_1-auc:0.936051\n",
            "[810]\tvalidation_0-auc:0.940644\tvalidation_1-auc:0.93605\n",
            "[811]\tvalidation_0-auc:0.940644\tvalidation_1-auc:0.93605\n",
            "[812]\tvalidation_0-auc:0.940677\tvalidation_1-auc:0.936077\n",
            "[813]\tvalidation_0-auc:0.940678\tvalidation_1-auc:0.93608\n",
            "[814]\tvalidation_0-auc:0.940678\tvalidation_1-auc:0.936079\n",
            "[815]\tvalidation_0-auc:0.940679\tvalidation_1-auc:0.936079\n",
            "[816]\tvalidation_0-auc:0.94068\tvalidation_1-auc:0.936079\n",
            "[817]\tvalidation_0-auc:0.940686\tvalidation_1-auc:0.936079\n",
            "[818]\tvalidation_0-auc:0.940688\tvalidation_1-auc:0.936081\n",
            "[819]\tvalidation_0-auc:0.940688\tvalidation_1-auc:0.936081\n",
            "[820]\tvalidation_0-auc:0.940705\tvalidation_1-auc:0.93609\n",
            "[821]\tvalidation_0-auc:0.940799\tvalidation_1-auc:0.936197\n",
            "[822]\tvalidation_0-auc:0.940801\tvalidation_1-auc:0.936196\n",
            "[823]\tvalidation_0-auc:0.940803\tvalidation_1-auc:0.936195\n",
            "[824]\tvalidation_0-auc:0.940803\tvalidation_1-auc:0.936193\n",
            "[825]\tvalidation_0-auc:0.940804\tvalidation_1-auc:0.936192\n",
            "[826]\tvalidation_0-auc:0.940804\tvalidation_1-auc:0.936191\n",
            "[827]\tvalidation_0-auc:0.940804\tvalidation_1-auc:0.93619\n",
            "[828]\tvalidation_0-auc:0.940805\tvalidation_1-auc:0.93619\n",
            "[829]\tvalidation_0-auc:0.940806\tvalidation_1-auc:0.936188\n",
            "[830]\tvalidation_0-auc:0.940835\tvalidation_1-auc:0.936217\n",
            "[831]\tvalidation_0-auc:0.940835\tvalidation_1-auc:0.936217\n",
            "[832]\tvalidation_0-auc:0.94084\tvalidation_1-auc:0.936217\n",
            "[833]\tvalidation_0-auc:0.94084\tvalidation_1-auc:0.936217\n",
            "[834]\tvalidation_0-auc:0.94084\tvalidation_1-auc:0.936217\n",
            "[835]\tvalidation_0-auc:0.940841\tvalidation_1-auc:0.936216\n",
            "[836]\tvalidation_0-auc:0.94085\tvalidation_1-auc:0.936222\n",
            "[837]\tvalidation_0-auc:0.94085\tvalidation_1-auc:0.936222\n",
            "[838]\tvalidation_0-auc:0.94085\tvalidation_1-auc:0.936222\n",
            "[839]\tvalidation_0-auc:0.940855\tvalidation_1-auc:0.936225\n",
            "[840]\tvalidation_0-auc:0.940855\tvalidation_1-auc:0.936225\n",
            "[841]\tvalidation_0-auc:0.940857\tvalidation_1-auc:0.936225\n",
            "[842]\tvalidation_0-auc:0.940858\tvalidation_1-auc:0.936224\n",
            "[843]\tvalidation_0-auc:0.940858\tvalidation_1-auc:0.936224\n",
            "[844]\tvalidation_0-auc:0.940859\tvalidation_1-auc:0.936222\n",
            "[845]\tvalidation_0-auc:0.940884\tvalidation_1-auc:0.936243\n",
            "[846]\tvalidation_0-auc:0.940884\tvalidation_1-auc:0.936243\n",
            "[847]\tvalidation_0-auc:0.940885\tvalidation_1-auc:0.936242\n",
            "[848]\tvalidation_0-auc:0.940885\tvalidation_1-auc:0.936242\n",
            "[849]\tvalidation_0-auc:0.940887\tvalidation_1-auc:0.936242\n",
            "[850]\tvalidation_0-auc:0.94089\tvalidation_1-auc:0.936241\n",
            "[851]\tvalidation_0-auc:0.940896\tvalidation_1-auc:0.936241\n",
            "[852]\tvalidation_0-auc:0.940897\tvalidation_1-auc:0.936241\n",
            "[853]\tvalidation_0-auc:0.940898\tvalidation_1-auc:0.93624\n",
            "[854]\tvalidation_0-auc:0.940898\tvalidation_1-auc:0.936241\n",
            "[855]\tvalidation_0-auc:0.940898\tvalidation_1-auc:0.936241\n",
            "[856]\tvalidation_0-auc:0.940901\tvalidation_1-auc:0.93624\n",
            "[857]\tvalidation_0-auc:0.940901\tvalidation_1-auc:0.93624\n",
            "[858]\tvalidation_0-auc:0.940902\tvalidation_1-auc:0.93624\n",
            "[859]\tvalidation_0-auc:0.94093\tvalidation_1-auc:0.936265\n",
            "[860]\tvalidation_0-auc:0.941044\tvalidation_1-auc:0.936386\n",
            "[861]\tvalidation_0-auc:0.941057\tvalidation_1-auc:0.936393\n",
            "[862]\tvalidation_0-auc:0.941057\tvalidation_1-auc:0.936393\n",
            "[863]\tvalidation_0-auc:0.941058\tvalidation_1-auc:0.936392\n",
            "[864]\tvalidation_0-auc:0.941058\tvalidation_1-auc:0.936392\n",
            "[865]\tvalidation_0-auc:0.941058\tvalidation_1-auc:0.936391\n",
            "[866]\tvalidation_0-auc:0.94106\tvalidation_1-auc:0.936391\n",
            "[867]\tvalidation_0-auc:0.941063\tvalidation_1-auc:0.936391\n",
            "[868]\tvalidation_0-auc:0.941064\tvalidation_1-auc:0.936388\n",
            "[869]\tvalidation_0-auc:0.941076\tvalidation_1-auc:0.936385\n",
            "[870]\tvalidation_0-auc:0.941077\tvalidation_1-auc:0.936384\n",
            "[871]\tvalidation_0-auc:0.941076\tvalidation_1-auc:0.936382\n",
            "[872]\tvalidation_0-auc:0.941184\tvalidation_1-auc:0.936498\n",
            "[873]\tvalidation_0-auc:0.94119\tvalidation_1-auc:0.936495\n",
            "[874]\tvalidation_0-auc:0.941191\tvalidation_1-auc:0.936494\n",
            "[875]\tvalidation_0-auc:0.941192\tvalidation_1-auc:0.936494\n",
            "[876]\tvalidation_0-auc:0.941206\tvalidation_1-auc:0.936511\n",
            "[877]\tvalidation_0-auc:0.941206\tvalidation_1-auc:0.93651\n",
            "[878]\tvalidation_0-auc:0.94121\tvalidation_1-auc:0.936509\n",
            "[879]\tvalidation_0-auc:0.941244\tvalidation_1-auc:0.936531\n",
            "[880]\tvalidation_0-auc:0.941245\tvalidation_1-auc:0.936527\n",
            "[881]\tvalidation_0-auc:0.941246\tvalidation_1-auc:0.936527\n",
            "[882]\tvalidation_0-auc:0.941246\tvalidation_1-auc:0.936526\n",
            "[883]\tvalidation_0-auc:0.941263\tvalidation_1-auc:0.936534\n",
            "[884]\tvalidation_0-auc:0.941264\tvalidation_1-auc:0.936534\n",
            "[885]\tvalidation_0-auc:0.941287\tvalidation_1-auc:0.936548\n",
            "[886]\tvalidation_0-auc:0.941291\tvalidation_1-auc:0.936546\n",
            "[887]\tvalidation_0-auc:0.941293\tvalidation_1-auc:0.936543\n",
            "[888]\tvalidation_0-auc:0.941293\tvalidation_1-auc:0.936542\n",
            "[889]\tvalidation_0-auc:0.941293\tvalidation_1-auc:0.936541\n",
            "[890]\tvalidation_0-auc:0.941294\tvalidation_1-auc:0.936541\n",
            "[891]\tvalidation_0-auc:0.941323\tvalidation_1-auc:0.936558\n",
            "[892]\tvalidation_0-auc:0.941325\tvalidation_1-auc:0.936557\n",
            "[893]\tvalidation_0-auc:0.941325\tvalidation_1-auc:0.936557\n",
            "[894]\tvalidation_0-auc:0.941325\tvalidation_1-auc:0.936557\n",
            "[895]\tvalidation_0-auc:0.941325\tvalidation_1-auc:0.936557\n",
            "[896]\tvalidation_0-auc:0.941341\tvalidation_1-auc:0.936574\n",
            "[897]\tvalidation_0-auc:0.941361\tvalidation_1-auc:0.936589\n",
            "[898]\tvalidation_0-auc:0.941363\tvalidation_1-auc:0.936591\n",
            "[899]\tvalidation_0-auc:0.941364\tvalidation_1-auc:0.936589\n",
            "[900]\tvalidation_0-auc:0.941365\tvalidation_1-auc:0.936589\n",
            "[901]\tvalidation_0-auc:0.941367\tvalidation_1-auc:0.936589\n",
            "[902]\tvalidation_0-auc:0.9414\tvalidation_1-auc:0.936625\n",
            "[903]\tvalidation_0-auc:0.941402\tvalidation_1-auc:0.936625\n",
            "[904]\tvalidation_0-auc:0.941404\tvalidation_1-auc:0.936624\n",
            "[905]\tvalidation_0-auc:0.941404\tvalidation_1-auc:0.936623\n",
            "[906]\tvalidation_0-auc:0.941473\tvalidation_1-auc:0.936702\n",
            "[907]\tvalidation_0-auc:0.941476\tvalidation_1-auc:0.936702\n",
            "[908]\tvalidation_0-auc:0.941478\tvalidation_1-auc:0.9367\n",
            "[909]\tvalidation_0-auc:0.941479\tvalidation_1-auc:0.9367\n",
            "[910]\tvalidation_0-auc:0.941479\tvalidation_1-auc:0.9367\n",
            "[911]\tvalidation_0-auc:0.941481\tvalidation_1-auc:0.9367\n",
            "[912]\tvalidation_0-auc:0.941481\tvalidation_1-auc:0.9367\n",
            "[913]\tvalidation_0-auc:0.941497\tvalidation_1-auc:0.93671\n",
            "[914]\tvalidation_0-auc:0.941497\tvalidation_1-auc:0.936709\n",
            "[915]\tvalidation_0-auc:0.941498\tvalidation_1-auc:0.936708\n",
            "[916]\tvalidation_0-auc:0.941502\tvalidation_1-auc:0.936707\n",
            "[917]\tvalidation_0-auc:0.941518\tvalidation_1-auc:0.936719\n",
            "[918]\tvalidation_0-auc:0.94152\tvalidation_1-auc:0.93672\n",
            "[919]\tvalidation_0-auc:0.94152\tvalidation_1-auc:0.936719\n",
            "[920]\tvalidation_0-auc:0.941527\tvalidation_1-auc:0.936718\n",
            "[921]\tvalidation_0-auc:0.941544\tvalidation_1-auc:0.93672\n",
            "[922]\tvalidation_0-auc:0.941545\tvalidation_1-auc:0.936719\n",
            "[923]\tvalidation_0-auc:0.94156\tvalidation_1-auc:0.936731\n",
            "[924]\tvalidation_0-auc:0.94156\tvalidation_1-auc:0.936732\n",
            "[925]\tvalidation_0-auc:0.941568\tvalidation_1-auc:0.936737\n",
            "[926]\tvalidation_0-auc:0.941569\tvalidation_1-auc:0.936737\n",
            "[927]\tvalidation_0-auc:0.94157\tvalidation_1-auc:0.936734\n",
            "[928]\tvalidation_0-auc:0.94157\tvalidation_1-auc:0.936734\n",
            "[929]\tvalidation_0-auc:0.941571\tvalidation_1-auc:0.936734\n",
            "[930]\tvalidation_0-auc:0.941577\tvalidation_1-auc:0.936734\n",
            "[931]\tvalidation_0-auc:0.941601\tvalidation_1-auc:0.93675\n",
            "[932]\tvalidation_0-auc:0.941601\tvalidation_1-auc:0.93675\n",
            "[933]\tvalidation_0-auc:0.941602\tvalidation_1-auc:0.936749\n",
            "[934]\tvalidation_0-auc:0.941603\tvalidation_1-auc:0.936749\n",
            "[935]\tvalidation_0-auc:0.941603\tvalidation_1-auc:0.936748\n",
            "[936]\tvalidation_0-auc:0.941604\tvalidation_1-auc:0.936748\n",
            "[937]\tvalidation_0-auc:0.941604\tvalidation_1-auc:0.936748\n",
            "[938]\tvalidation_0-auc:0.941604\tvalidation_1-auc:0.936747\n",
            "[939]\tvalidation_0-auc:0.941604\tvalidation_1-auc:0.936745\n",
            "[940]\tvalidation_0-auc:0.941687\tvalidation_1-auc:0.936829\n",
            "[941]\tvalidation_0-auc:0.941688\tvalidation_1-auc:0.936829\n",
            "[942]\tvalidation_0-auc:0.94169\tvalidation_1-auc:0.936829\n",
            "[943]\tvalidation_0-auc:0.9417\tvalidation_1-auc:0.936836\n",
            "[944]\tvalidation_0-auc:0.941705\tvalidation_1-auc:0.936837\n",
            "[945]\tvalidation_0-auc:0.941714\tvalidation_1-auc:0.936846\n",
            "[946]\tvalidation_0-auc:0.941729\tvalidation_1-auc:0.936858\n",
            "[947]\tvalidation_0-auc:0.941738\tvalidation_1-auc:0.936864\n",
            "[948]\tvalidation_0-auc:0.94176\tvalidation_1-auc:0.936883\n",
            "[949]\tvalidation_0-auc:0.941778\tvalidation_1-auc:0.936898\n",
            "[950]\tvalidation_0-auc:0.941787\tvalidation_1-auc:0.9369\n",
            "[951]\tvalidation_0-auc:0.941787\tvalidation_1-auc:0.9369\n",
            "[952]\tvalidation_0-auc:0.941805\tvalidation_1-auc:0.936913\n",
            "[953]\tvalidation_0-auc:0.941805\tvalidation_1-auc:0.936914\n",
            "[954]\tvalidation_0-auc:0.941804\tvalidation_1-auc:0.936913\n",
            "[955]\tvalidation_0-auc:0.941807\tvalidation_1-auc:0.936915\n",
            "[956]\tvalidation_0-auc:0.941808\tvalidation_1-auc:0.936915\n",
            "[957]\tvalidation_0-auc:0.941809\tvalidation_1-auc:0.936916\n",
            "[958]\tvalidation_0-auc:0.941822\tvalidation_1-auc:0.936923\n",
            "[959]\tvalidation_0-auc:0.941835\tvalidation_1-auc:0.936935\n",
            "[960]\tvalidation_0-auc:0.941837\tvalidation_1-auc:0.936934\n",
            "[961]\tvalidation_0-auc:0.941839\tvalidation_1-auc:0.936934\n",
            "[962]\tvalidation_0-auc:0.94184\tvalidation_1-auc:0.936934\n",
            "[963]\tvalidation_0-auc:0.941841\tvalidation_1-auc:0.936934\n",
            "[964]\tvalidation_0-auc:0.941842\tvalidation_1-auc:0.936933\n",
            "[965]\tvalidation_0-auc:0.941842\tvalidation_1-auc:0.936933\n",
            "[966]\tvalidation_0-auc:0.941842\tvalidation_1-auc:0.936933\n",
            "[967]\tvalidation_0-auc:0.941842\tvalidation_1-auc:0.936933\n",
            "[968]\tvalidation_0-auc:0.941843\tvalidation_1-auc:0.936933\n",
            "[969]\tvalidation_0-auc:0.941843\tvalidation_1-auc:0.936933\n",
            "[970]\tvalidation_0-auc:0.941845\tvalidation_1-auc:0.936932\n",
            "[971]\tvalidation_0-auc:0.941855\tvalidation_1-auc:0.936941\n",
            "[972]\tvalidation_0-auc:0.941857\tvalidation_1-auc:0.936939\n",
            "[973]\tvalidation_0-auc:0.94186\tvalidation_1-auc:0.936941\n",
            "[974]\tvalidation_0-auc:0.94186\tvalidation_1-auc:0.936941\n",
            "[975]\tvalidation_0-auc:0.941868\tvalidation_1-auc:0.936943\n",
            "[976]\tvalidation_0-auc:0.94187\tvalidation_1-auc:0.93694\n",
            "[977]\tvalidation_0-auc:0.941875\tvalidation_1-auc:0.936943\n",
            "[978]\tvalidation_0-auc:0.941884\tvalidation_1-auc:0.936952\n",
            "[979]\tvalidation_0-auc:0.941888\tvalidation_1-auc:0.93695\n",
            "[980]\tvalidation_0-auc:0.941915\tvalidation_1-auc:0.936981\n",
            "[981]\tvalidation_0-auc:0.941917\tvalidation_1-auc:0.936981\n",
            "[982]\tvalidation_0-auc:0.941932\tvalidation_1-auc:0.936988\n",
            "[983]\tvalidation_0-auc:0.941941\tvalidation_1-auc:0.93699\n",
            "[984]\tvalidation_0-auc:0.941951\tvalidation_1-auc:0.936993\n",
            "[985]\tvalidation_0-auc:0.941951\tvalidation_1-auc:0.936992\n",
            "[986]\tvalidation_0-auc:0.941962\tvalidation_1-auc:0.937008\n",
            "[987]\tvalidation_0-auc:0.941962\tvalidation_1-auc:0.937007\n",
            "[988]\tvalidation_0-auc:0.941963\tvalidation_1-auc:0.937006\n",
            "[989]\tvalidation_0-auc:0.941963\tvalidation_1-auc:0.937006\n",
            "[990]\tvalidation_0-auc:0.94197\tvalidation_1-auc:0.937013\n",
            "[991]\tvalidation_0-auc:0.94197\tvalidation_1-auc:0.937013\n",
            "[992]\tvalidation_0-auc:0.941981\tvalidation_1-auc:0.937015\n",
            "[993]\tvalidation_0-auc:0.941982\tvalidation_1-auc:0.937015\n",
            "[994]\tvalidation_0-auc:0.941982\tvalidation_1-auc:0.937015\n",
            "[995]\tvalidation_0-auc:0.941982\tvalidation_1-auc:0.937015\n",
            "[996]\tvalidation_0-auc:0.941983\tvalidation_1-auc:0.937014\n",
            "[997]\tvalidation_0-auc:0.941983\tvalidation_1-auc:0.937013\n",
            "[998]\tvalidation_0-auc:0.941983\tvalidation_1-auc:0.937012\n",
            "[999]\tvalidation_0-auc:0.941984\tvalidation_1-auc:0.937008\n",
            "Overall AUC: 0.9404788578214324\n"
          ],
          "name": "stdout"
        },
        {
          "output_type": "error",
          "ename": "ValueError",
          "evalue": "ignored",
          "traceback": [
            "\u001b[0;31m---------------------------------------------------------------------------\u001b[0m",
            "\u001b[0;31mValueError\u001b[0m                                Traceback (most recent call last)",
            "\u001b[0;32m<ipython-input-128-8e6a58796e80>\u001b[0m in \u001b[0;36m<module>\u001b[0;34m()\u001b[0m\n\u001b[1;32m     44\u001b[0m \u001b[0mfig_featp\u001b[0m \u001b[0;34m=\u001b[0m \u001b[0mfeatp\u001b[0m\u001b[0;34m.\u001b[0m\u001b[0mget_figure\u001b[0m\u001b[0;34m(\u001b[0m\u001b[0;34m)\u001b[0m\u001b[0;34m\u001b[0m\u001b[0;34m\u001b[0m\u001b[0m\n\u001b[1;32m     45\u001b[0m \u001b[0mfig_featp\u001b[0m\u001b[0;34m.\u001b[0m\u001b[0msavefig\u001b[0m\u001b[0;34m(\u001b[0m\u001b[0;34m'feature_importance_xgb.png'\u001b[0m\u001b[0;34m,\u001b[0m \u001b[0mbbox_inches\u001b[0m\u001b[0;34m=\u001b[0m\u001b[0;34m'tight'\u001b[0m\u001b[0;34m,\u001b[0m \u001b[0mpad_inches\u001b[0m\u001b[0;34m=\u001b[0m\u001b[0;36m1\u001b[0m\u001b[0;34m)\u001b[0m\u001b[0;34m\u001b[0m\u001b[0;34m\u001b[0m\u001b[0m\n\u001b[0;32m---> 46\u001b[0;31m \u001b[0my_pred\u001b[0m\u001b[0;34m=\u001b[0m\u001b[0mclassifier2\u001b[0m\u001b[0;34m.\u001b[0m\u001b[0mpredict\u001b[0m\u001b[0;34m(\u001b[0m\u001b[0mX_test_s\u001b[0m\u001b[0;34m)\u001b[0m\u001b[0;34m\u001b[0m\u001b[0;34m\u001b[0m\u001b[0m\n\u001b[0m\u001b[1;32m     47\u001b[0m \u001b[0my_predtime\u001b[0m\u001b[0;34m=\u001b[0m\u001b[0mclassifier2\u001b[0m\u001b[0;34m.\u001b[0m\u001b[0mpredict\u001b[0m\u001b[0;34m(\u001b[0m\u001b[0mtimetest\u001b[0m\u001b[0;34m[\u001b[0m\u001b[0mfeatures\u001b[0m\u001b[0;34m]\u001b[0m\u001b[0;34m)\u001b[0m\u001b[0;34m\u001b[0m\u001b[0;34m\u001b[0m\u001b[0m\n\u001b[1;32m     48\u001b[0m \u001b[0mprint\u001b[0m\u001b[0;34m(\u001b[0m\u001b[0maccuracy_score\u001b[0m\u001b[0;34m(\u001b[0m\u001b[0my_test\u001b[0m\u001b[0;34m,\u001b[0m\u001b[0my_pred\u001b[0m\u001b[0;34m)\u001b[0m\u001b[0;34m)\u001b[0m\u001b[0;34m\u001b[0m\u001b[0;34m\u001b[0m\u001b[0m\n",
            "\u001b[0;32m/usr/local/lib/python3.6/dist-packages/xgboost/sklearn.py\u001b[0m in \u001b[0;36mpredict\u001b[0;34m(self, data, output_margin, ntree_limit, validate_features)\u001b[0m\n\u001b[1;32m    789\u001b[0m                                                  \u001b[0moutput_margin\u001b[0m\u001b[0;34m=\u001b[0m\u001b[0moutput_margin\u001b[0m\u001b[0;34m,\u001b[0m\u001b[0;34m\u001b[0m\u001b[0;34m\u001b[0m\u001b[0m\n\u001b[1;32m    790\u001b[0m                                                  \u001b[0mntree_limit\u001b[0m\u001b[0;34m=\u001b[0m\u001b[0mntree_limit\u001b[0m\u001b[0;34m,\u001b[0m\u001b[0;34m\u001b[0m\u001b[0;34m\u001b[0m\u001b[0m\n\u001b[0;32m--> 791\u001b[0;31m                                                  validate_features=validate_features)\n\u001b[0m\u001b[1;32m    792\u001b[0m         \u001b[0;32mif\u001b[0m \u001b[0moutput_margin\u001b[0m\u001b[0;34m:\u001b[0m\u001b[0;34m\u001b[0m\u001b[0;34m\u001b[0m\u001b[0m\n\u001b[1;32m    793\u001b[0m             \u001b[0;31m# If output_margin is active, simply return the scores\u001b[0m\u001b[0;34m\u001b[0m\u001b[0;34m\u001b[0m\u001b[0;34m\u001b[0m\u001b[0m\n",
            "\u001b[0;32m/usr/local/lib/python3.6/dist-packages/xgboost/core.py\u001b[0m in \u001b[0;36mpredict\u001b[0;34m(self, data, output_margin, ntree_limit, pred_leaf, pred_contribs, approx_contribs, pred_interactions, validate_features)\u001b[0m\n\u001b[1;32m   1282\u001b[0m \u001b[0;34m\u001b[0m\u001b[0m\n\u001b[1;32m   1283\u001b[0m         \u001b[0;32mif\u001b[0m \u001b[0mvalidate_features\u001b[0m\u001b[0;34m:\u001b[0m\u001b[0;34m\u001b[0m\u001b[0;34m\u001b[0m\u001b[0m\n\u001b[0;32m-> 1284\u001b[0;31m             \u001b[0mself\u001b[0m\u001b[0;34m.\u001b[0m\u001b[0m_validate_features\u001b[0m\u001b[0;34m(\u001b[0m\u001b[0mdata\u001b[0m\u001b[0;34m)\u001b[0m\u001b[0;34m\u001b[0m\u001b[0;34m\u001b[0m\u001b[0m\n\u001b[0m\u001b[1;32m   1285\u001b[0m \u001b[0;34m\u001b[0m\u001b[0m\n\u001b[1;32m   1286\u001b[0m         \u001b[0mlength\u001b[0m \u001b[0;34m=\u001b[0m \u001b[0mc_bst_ulong\u001b[0m\u001b[0;34m(\u001b[0m\u001b[0;34m)\u001b[0m\u001b[0;34m\u001b[0m\u001b[0;34m\u001b[0m\u001b[0m\n",
            "\u001b[0;32m/usr/local/lib/python3.6/dist-packages/xgboost/core.py\u001b[0m in \u001b[0;36m_validate_features\u001b[0;34m(self, data)\u001b[0m\n\u001b[1;32m   1688\u001b[0m \u001b[0;34m\u001b[0m\u001b[0m\n\u001b[1;32m   1689\u001b[0m                 raise ValueError(msg.format(self.feature_names,\n\u001b[0;32m-> 1690\u001b[0;31m                                             data.feature_names))\n\u001b[0m\u001b[1;32m   1691\u001b[0m \u001b[0;34m\u001b[0m\u001b[0m\n\u001b[1;32m   1692\u001b[0m     \u001b[0;32mdef\u001b[0m \u001b[0mget_split_value_histogram\u001b[0m\u001b[0;34m(\u001b[0m\u001b[0mself\u001b[0m\u001b[0;34m,\u001b[0m \u001b[0mfeature\u001b[0m\u001b[0;34m,\u001b[0m \u001b[0mfmap\u001b[0m\u001b[0;34m=\u001b[0m\u001b[0;34m''\u001b[0m\u001b[0;34m,\u001b[0m \u001b[0mbins\u001b[0m\u001b[0;34m=\u001b[0m\u001b[0;32mNone\u001b[0m\u001b[0;34m,\u001b[0m \u001b[0mas_pandas\u001b[0m\u001b[0;34m=\u001b[0m\u001b[0;32mTrue\u001b[0m\u001b[0;34m)\u001b[0m\u001b[0;34m:\u001b[0m\u001b[0;34m\u001b[0m\u001b[0;34m\u001b[0m\u001b[0m\n",
            "\u001b[0;31mValueError\u001b[0m: feature_names mismatch: ['term', 'int_rate', 'installment', 'grade', 'sub_grade', 'emp_length', 'home_ownership', 'annual_inc', 'verification_status', 'issue_d', 'pymnt_plan', 'dti', 'delinq_2yrs', 'inq_last_6mths', 'mths_since_last_delinq', 'mths_since_last_record', 'revol_util', 'total_acc', 'initial_list_status', 'total_rec_late_fee', 'last_pymnt_d', 'last_credit_pull_d', 'collections_12_mths_ex_med', 'mths_since_last_major_derog', 'policy_code', 'application_type', 'acc_now_delinq', 'tot_coll_amt', 'tot_cur_bal', 'open_acc_6m', 'open_act_il', 'open_il_24m', 'mths_since_rcnt_il', 'total_bal_il', 'il_util', 'open_rv_12m', 'open_rv_24m', 'all_util', 'total_rev_hi_lim', 'inq_fi', 'total_cu_tl', 'acc_open_past_24mths', 'avg_cur_bal', 'bc_open_to_buy', 'bc_util', 'chargeoff_within_12_mths', 'delinq_amnt', 'mo_sin_old_il_acct', 'mo_sin_old_rev_tl_op', 'mo_sin_rcnt_tl', 'mort_acc', 'mths_since_recent_bc', 'mths_since_recent_bc_dlq', 'mths_since_recent_inq', 'mths_since_recent_revol_delinq', 'num_accts_ever_120_pd', 'num_actv_bc_tl', 'num_actv_rev_tl', 'num_bc_sats', 'num_rev_accts', 'num_tl_120dpd_2m', 'num_tl_30dpd', 'num_tl_90g_dpd_24m', 'pct_tl_nvr_dlq', 'percent_bc_gt_75', 'pub_rec_bankruptcies', 'tax_liens', 'tot_hi_cred_lim', 'total_bal_ex_mort', 'hardship_flag', 'hardship_start_date', 'year'] ['term', 'grade', 'sub_grade', 'issue_d', 'total_rec_late_fee', 'last_pymnt_d', 'last_credit_pull_d']\nexpected verification_status, inq_fi, mths_since_last_record, initial_list_status, open_acc_6m, emp_length, num_actv_rev_tl, hardship_flag, delinq_amnt, mths_since_recent_bc_dlq, mths_since_last_major_derog, acc_now_delinq, tot_cur_bal, open_rv_24m, inq_last_6mths, dti, policy_code, tax_liens, mths_since_recent_inq, mths_since_rcnt_il, num_bc_sats, home_ownership, total_bal_ex_mort, total_acc, num_tl_90g_dpd_24m, collections_12_mths_ex_med, total_bal_il, year, bc_util, tot_hi_cred_lim, num_tl_120dpd_2m, mo_sin_rcnt_tl, total_cu_tl, acc_open_past_24mths, pub_rec_bankruptcies, open_il_24m, revol_util, chargeoff_within_12_mths, mths_since_recent_bc, tot_coll_amt, avg_cur_bal, int_rate, installment, mths_since_last_delinq, application_type, mo_sin_old_rev_tl_op, num_tl_30dpd, mths_since_recent_revol_delinq, total_rev_hi_lim, il_util, annual_inc, all_util, num_rev_accts, bc_open_to_buy, mort_acc, hardship_start_date, open_rv_12m, percent_bc_gt_75, pymnt_plan, mo_sin_old_il_acct, num_accts_ever_120_pd, num_actv_bc_tl, pct_tl_nvr_dlq, open_act_il, delinq_2yrs in input data"
          ]
        },
        {
          "output_type": "display_data",
          "data": {
            "image/png": "[encoded data removed]",
            "text/plain": [
              "<Figure size 432x720 with 1 Axes>"
            ]
          },
          "metadata": {
            "tags": [],
            "needs_background": "light"
          }
        }
      ]
    },
    {
      "cell_type": "code",
      "metadata": {
        "id": "NRI1IEk9971J",
        "outputId": "e676d253-b704-4a00-d1c0-c3910a8689ed",
        "colab": {
          "base_uri": "https://localhost:8080/",
          "height": 643
        }
      },
      "source": [
        "mapFeat = dict(zip([\"f\"+str(i) for i in range(len(features))],features))\n",
        "ts = pd.Series(clf.feature_importances_)\n",
        "ts.sort_values()[-15:].plot(kind=\"barh\", title=(\"features importance\"))\n",
        "plt.clf()\n",
        "\n",
        "featp = ts.sort_values()[-15:].plot(kind='barh', x='feature', y='fscore', legend=False, figsize=(6, 10))\n",
        "plt.title('XGBoost Feature Importance')\n",
        "fig_featp = featp.get_figure()\n",
        "fig_featp.savefig('feature_importance_xgb.png', bbox_inches='tight', pad_inches=1)\n",
        "y_predtime = clf.predict(sel_test, ntree_limit=clf.best_iteration)\n",
        "y_pred = clf.predict(X_test_s, ntree_limit=clf.best_iteration)\n",
        "print(accuracy_score(y_test,y_pred))\n",
        "print(accuracy_score(y_timetest,y_predtime))"
      ],
      "execution_count": null,
      "outputs": [
        {
          "output_type": "stream",
          "text": [
            "0.9088191541113516\n",
            "0.8544494599387393\n"
          ],
          "name": "stdout"
        },
        {
          "output_type": "display_data",
          "data": {
            "image/png": "[encoded data removed]",
            "text/plain": [
              "<Figure size 432x720 with 1 Axes>"
            ]
          },
          "metadata": {
            "tags": [],
            "needs_background": "light"
          }
        }
      ]
    },
    {
      "cell_type": "code",
      "metadata": {
        "id": "LC0gYpDCGJrW",
        "outputId": "2318f71b-bd73-4fec-bc4f-4cd8a9b88161",
        "colab": {
          "base_uri": "https://localhost:8080/",
          "height": 55
        }
      },
      "source": [
        "import sklearn\n",
        "sklearn.metrics.SCORERS.keys()"
      ],
      "execution_count": null,
      "outputs": [
        {
          "output_type": "execute_result",
          "data": {
            "text/plain": [
              "dict_keys(['explained_variance', 'r2', 'max_error', 'neg_median_absolute_error', 'neg_mean_absolute_error', 'neg_mean_squared_error', 'neg_mean_squared_log_error', 'neg_root_mean_squared_error', 'neg_mean_poisson_deviance', 'neg_mean_gamma_deviance', 'accuracy', 'roc_auc', 'roc_auc_ovr', 'roc_auc_ovo', 'roc_auc_ovr_weighted', 'roc_auc_ovo_weighted', 'balanced_accuracy', 'average_precision', 'neg_log_loss', 'neg_brier_score', 'adjusted_rand_score', 'homogeneity_score', 'completeness_score', 'v_measure_score', 'mutual_info_score', 'adjusted_mutual_info_score', 'normalized_mutual_info_score', 'fowlkes_mallows_score', 'precision', 'precision_macro', 'precision_micro', 'precision_samples', 'precision_weighted', 'recall', 'recall_macro', 'recall_micro', 'recall_samples', 'recall_weighted', 'f1', 'f1_macro', 'f1_micro', 'f1_samples', 'f1_weighted', 'jaccard', 'jaccard_macro', 'jaccard_micro', 'jaccard_samples', 'jaccard_weighted'])"
            ]
          },
          "metadata": {
            "tags": []
          },
          "execution_count": 38
        }
      ]
    },
    {
      "cell_type": "code",
      "metadata": {
        "id": "PKYEoLGAqj3t",
        "outputId": "78e1e071-7855-443a-de30-66fed38f1b24",
        "colab": {
          "base_uri": "https://localhost:8080/",
          "height": 53
        }
      },
      "source": [
        "confusion_matrix(y_test, y_pred)\n",
        "confusion_matrix(y_timetest, y_predtime)"
      ],
      "execution_count": null,
      "outputs": [
        {
          "output_type": "execute_result",
          "data": {
            "text/plain": [
              "array([[205582,   2450],\n",
              "       [ 30931,   9157]])"
            ]
          },
          "metadata": {
            "tags": []
          },
          "execution_count": 94
        }
      ]
    },
    {
      "cell_type": "code",
      "metadata": {
        "id": "6UtWl2nIcEzX",
        "outputId": "188edd0b-2f9e-453a-9da8-ed627f7a0ede",
        "colab": {
          "base_uri": "https://localhost:8080/",
          "height": 128
        }
      },
      "source": [
        "params = xgb_bo.max['params']\n",
        "print(params)\n",
        "params['max_depth']= int(params['max_depth'])\n",
        "params['n_estimators']= int(params['n_estimators'])\n",
        "params['scale_pos_weight'] = int(params['scale_pos_weight'])\n",
        "params['tree_method'] = 'gpu_hist'\n",
        "dtrain = xgb.DMatrix(X_train,label=y_train)\n",
        "classifier = xgb.XGBClassifier(**params,n_jobs=8).fit(X_train,y_train)"
      ],
      "execution_count": null,
      "outputs": [
        {
          "output_type": "stream",
          "text": [
            "{'colsamplebytree': 0.2361048384102603, 'gamma': 0.5121751008508277, 'learning_rate': 0.2465000605194717, 'max_delta_step': 0.39983571882473234, 'max_depth': 3.0897733091, 'n_estimators': 998.8780121549813, 'reg_alpha': 0.18212325581766198, 'scale_pos_weight': 13.74793175404568}\n"
          ],
          "name": "stdout"
        },
        {
          "output_type": "stream",
          "text": [
            "/usr/local/lib/python3.6/dist-packages/sklearn/preprocessing/_label.py:235: DataConversionWarning: A column-vector y was passed when a 1d array was expected. Please change the shape of y to (n_samples, ), for example using ravel().\n",
            "  y = column_or_1d(y, warn=True)\n",
            "/usr/local/lib/python3.6/dist-packages/sklearn/preprocessing/_label.py:268: DataConversionWarning: A column-vector y was passed when a 1d array was expected. Please change the shape of y to (n_samples, ), for example using ravel().\n",
            "  y = column_or_1d(y, warn=True)\n"
          ],
          "name": "stderr"
        }
      ]
    },
    {
      "cell_type": "code",
      "metadata": {
        "id": "itkxWGDOwtnO",
        "outputId": "14151179-2e2c-4e30-8727-706d54b6fa96",
        "colab": {
          "base_uri": "https://localhost:8080/",
          "height": 237
        }
      },
      "source": [
        "classifier = xgb.XGBClassifier(objective='binary:logistic',tree_method='gpu_hist')\n",
        "classifier.fit(X_train[features].fillna(-999999),y_train)"
      ],
      "execution_count": null,
      "outputs": [
        {
          "output_type": "stream",
          "text": [
            "/usr/local/lib/python3.6/dist-packages/sklearn/preprocessing/_label.py:235: DataConversionWarning: A column-vector y was passed when a 1d array was expected. Please change the shape of y to (n_samples, ), for example using ravel().\n",
            "  y = column_or_1d(y, warn=True)\n",
            "/usr/local/lib/python3.6/dist-packages/sklearn/preprocessing/_label.py:268: DataConversionWarning: A column-vector y was passed when a 1d array was expected. Please change the shape of y to (n_samples, ), for example using ravel().\n",
            "  y = column_or_1d(y, warn=True)\n"
          ],
          "name": "stderr"
        },
        {
          "output_type": "execute_result",
          "data": {
            "text/plain": [
              "XGBClassifier(base_score=0.5, booster='gbtree', colsample_bylevel=1,\n",
              "              colsample_bynode=1, colsample_bytree=1, gamma=0,\n",
              "              learning_rate=0.1, max_delta_step=0, max_depth=3,\n",
              "              min_child_weight=1, missing=None, n_estimators=100, n_jobs=1,\n",
              "              nthread=None, objective='binary:logistic', random_state=0,\n",
              "              reg_alpha=0, reg_lambda=1, scale_pos_weight=1, seed=None,\n",
              "              silent=None, subsample=1, tree_method='gpu_hist', verbosity=1)"
            ]
          },
          "metadata": {
            "tags": []
          },
          "execution_count": 42
        }
      ]
    },
    {
      "cell_type": "code",
      "metadata": {
        "id": "7PwykRKEw0s1",
        "outputId": "aa1f0a65-654f-4693-cb6a-08b916d4886d",
        "colab": {
          "base_uri": "https://localhost:8080/",
          "height": 35
        }
      },
      "source": [
        "gc.collect()"
      ],
      "execution_count": null,
      "outputs": [
        {
          "output_type": "execute_result",
          "data": {
            "text/plain": [
              "39414"
            ]
          },
          "metadata": {
            "tags": []
          },
          "execution_count": 44
        }
      ]
    },
    {
      "cell_type": "code",
      "metadata": {
        "id": "UlFloa3yhU0e"
      },
      "source": [
        "X_train= X_train[features]\n",
        "X_test = X_test[features]\n",
        "timetest = timetest[features]"
      ],
      "execution_count": null,
      "outputs": []
    },
    {
      "cell_type": "code",
      "metadata": {
        "id": "gDKCQUxwhgci",
        "outputId": "9aa8b6bc-db5e-494d-bdb4-5a282570aae4",
        "colab": {
          "base_uri": "https://localhost:8080/",
          "height": 255
        }
      },
      "source": [
        "classifier = xgb.XGBClassifier(objective='binary:logistic',tree_method='gpu_hist')\n",
        "classifier.fit(X_train,y_train)\n",
        "joblib.dump(classifier, '/content/drive/My Drive/Lending-Club/Models/XGB_M.pkl')"
      ],
      "execution_count": null,
      "outputs": [
        {
          "output_type": "stream",
          "text": [
            "/usr/local/lib/python3.6/dist-packages/sklearn/preprocessing/_label.py:235: DataConversionWarning: A column-vector y was passed when a 1d array was expected. Please change the shape of y to (n_samples, ), for example using ravel().\n",
            "  y = column_or_1d(y, warn=True)\n",
            "/usr/local/lib/python3.6/dist-packages/sklearn/preprocessing/_label.py:268: DataConversionWarning: A column-vector y was passed when a 1d array was expected. Please change the shape of y to (n_samples, ), for example using ravel().\n",
            "  y = column_or_1d(y, warn=True)\n"
          ],
          "name": "stderr"
        },
        {
          "output_type": "execute_result",
          "data": {
            "text/plain": [
              "XGBClassifier(base_score=0.5, booster='gbtree', colsample_bylevel=1,\n",
              "              colsample_bynode=1, colsample_bytree=1, gamma=0,\n",
              "              learning_rate=0.1, max_delta_step=0, max_depth=3,\n",
              "              min_child_weight=1, missing=None, n_estimators=100, n_jobs=1,\n",
              "              nthread=None, num_class=3, objective='multi:softprob',\n",
              "              random_state=0, reg_alpha=0, reg_lambda=1, scale_pos_weight=1,\n",
              "              seed=None, silent=None, subsample=1, tree_method='gpu_hist',\n",
              "              verbosity=1)"
            ]
          },
          "metadata": {
            "tags": []
          },
          "execution_count": 22
        }
      ]
    },
    {
      "cell_type": "code",
      "metadata": {
        "id": "RmYwS3H5XvQd",
        "outputId": "1c846e3e-2108-4cb1-9114-59bf7e8d9f43",
        "colab": {
          "base_uri": "https://localhost:8080/",
          "height": 35
        }
      },
      "source": [
        "y_pred"
      ],
      "execution_count": null,
      "outputs": [
        {
          "output_type": "execute_result",
          "data": {
            "text/plain": [
              "array([0, 0, 0, ..., 0, 0, 0])"
            ]
          },
          "metadata": {
            "tags": []
          },
          "execution_count": 11
        }
      ]
    },
    {
      "cell_type": "code",
      "metadata": {
        "id": "HgHqYMryf6F5"
      },
      "source": [
        "pd.DataFrame(dict(zip(X_train.columns,clasr.feature_importances_)).items()).to_excel('RFECV_Multi_best.xlsx')"
      ],
      "execution_count": null,
      "outputs": []
    },
    {
      "cell_type": "code",
      "metadata": {
        "id": "Wt2gEtqJktk7",
        "outputId": "58012a02-c7c4-4077-8b9b-056196f69295",
        "colab": {
          "base_uri": "https://localhost:8080/",
          "height": 424
        }
      },
      "source": [
        "dfg[dfg[1]>0]"
      ],
      "execution_count": null,
      "outputs": [
        {
          "output_type": "execute_result",
          "data": {
            "text/html": [
              "<div>\n",
              "<style scoped>\n",
              "    .dataframe tbody tr th:only-of-type {\n",
              "        vertical-align: middle;\n",
              "    }\n",
              "\n",
              "    .dataframe tbody tr th {\n",
              "        vertical-align: top;\n",
              "    }\n",
              "\n",
              "    .dataframe thead th {\n",
              "        text-align: right;\n",
              "    }\n",
              "</style>\n",
              "<table border=\"1\" class=\"dataframe\">\n",
              "  <thead>\n",
              "    <tr style=\"text-align: right;\">\n",
              "      <th></th>\n",
              "      <th>0</th>\n",
              "      <th>1</th>\n",
              "    </tr>\n",
              "  </thead>\n",
              "  <tbody>\n",
              "    <tr>\n",
              "      <th>0</th>\n",
              "      <td>int_rate</td>\n",
              "      <td>0.083718</td>\n",
              "    </tr>\n",
              "    <tr>\n",
              "      <th>1</th>\n",
              "      <td>installment</td>\n",
              "      <td>0.009766</td>\n",
              "    </tr>\n",
              "    <tr>\n",
              "      <th>2</th>\n",
              "      <td>annual_inc</td>\n",
              "      <td>0.008820</td>\n",
              "    </tr>\n",
              "    <tr>\n",
              "      <th>3</th>\n",
              "      <td>dti</td>\n",
              "      <td>0.013191</td>\n",
              "    </tr>\n",
              "    <tr>\n",
              "      <th>4</th>\n",
              "      <td>delinq_2yrs</td>\n",
              "      <td>0.003497</td>\n",
              "    </tr>\n",
              "    <tr>\n",
              "      <th>...</th>\n",
              "      <td>...</td>\n",
              "      <td>...</td>\n",
              "    </tr>\n",
              "    <tr>\n",
              "      <th>88</th>\n",
              "      <td>verification_status_Source Verified</td>\n",
              "      <td>0.005764</td>\n",
              "    </tr>\n",
              "    <tr>\n",
              "      <th>89</th>\n",
              "      <td>verification_status_Verified</td>\n",
              "      <td>0.005071</td>\n",
              "    </tr>\n",
              "    <tr>\n",
              "      <th>90</th>\n",
              "      <td>pymnt_plan_n</td>\n",
              "      <td>0.010079</td>\n",
              "    </tr>\n",
              "    <tr>\n",
              "      <th>92</th>\n",
              "      <td>initial_list_status_f</td>\n",
              "      <td>0.030094</td>\n",
              "    </tr>\n",
              "    <tr>\n",
              "      <th>94</th>\n",
              "      <td>application_type_Individual</td>\n",
              "      <td>0.016469</td>\n",
              "    </tr>\n",
              "  </tbody>\n",
              "</table>\n",
              "<p>90 rows × 2 columns</p>\n",
              "</div>"
            ],
            "text/plain": [
              "                                      0         1\n",
              "0                              int_rate  0.083718\n",
              "1                           installment  0.009766\n",
              "2                            annual_inc  0.008820\n",
              "3                                   dti  0.013191\n",
              "4                           delinq_2yrs  0.003497\n",
              "..                                  ...       ...\n",
              "88  verification_status_Source Verified  0.005764\n",
              "89         verification_status_Verified  0.005071\n",
              "90                         pymnt_plan_n  0.010079\n",
              "92                initial_list_status_f  0.030094\n",
              "94          application_type_Individual  0.016469\n",
              "\n",
              "[90 rows x 2 columns]"
            ]
          },
          "metadata": {
            "tags": []
          },
          "execution_count": 39
        }
      ]
    },
    {
      "cell_type": "code",
      "metadata": {
        "id": "QeB1RFgXjqRF"
      },
      "source": [
        "pd.DataFrame(dict(zip(X_train.columns,classifier.feature_importances_)).items()).to_excel('Best_bayesian_feature0vr.xlsx')"
      ],
      "execution_count": null,
      "outputs": []
    },
    {
      "cell_type": "code",
      "metadata": {
        "id": "yVgDW8vi_ZfE",
        "outputId": "74a85090-a479-44e2-a52f-d106d05548df",
        "colab": {
          "base_uri": "https://localhost:8080/",
          "height": 395
        }
      },
      "source": [
        "y_predtrain = classifier.predict(X_train)\n",
        "y_pred = classifier.predict(X_test)\n",
        "y_predtime = classifier.predict(timetest)\n",
        "print(classification_report(y_train, y_predtrain))\n",
        "print(classification_report(y_test, y_pred))  \n",
        "print(classification_report(y_timetest, y_predtime))"
      ],
      "execution_count": null,
      "outputs": [
        {
          "output_type": "error",
          "ename": "AttributeError",
          "evalue": "ignored",
          "traceback": [
            "\u001b[0;31m---------------------------------------------------------------------------\u001b[0m",
            "\u001b[0;31mAttributeError\u001b[0m                            Traceback (most recent call last)",
            "\u001b[0;32m<ipython-input-16-c557fbfe20a3>\u001b[0m in \u001b[0;36m<module>\u001b[0;34m()\u001b[0m\n\u001b[0;32m----> 1\u001b[0;31m \u001b[0my_predtrain\u001b[0m \u001b[0;34m=\u001b[0m \u001b[0mclassifier\u001b[0m\u001b[0;34m.\u001b[0m\u001b[0mpredict\u001b[0m\u001b[0;34m(\u001b[0m\u001b[0mX_train\u001b[0m\u001b[0;34m)\u001b[0m\u001b[0;34m\u001b[0m\u001b[0;34m\u001b[0m\u001b[0m\n\u001b[0m\u001b[1;32m      2\u001b[0m \u001b[0my_pred\u001b[0m \u001b[0;34m=\u001b[0m \u001b[0mclassifier\u001b[0m\u001b[0;34m.\u001b[0m\u001b[0mpredict\u001b[0m\u001b[0;34m(\u001b[0m\u001b[0mX_test\u001b[0m\u001b[0;34m)\u001b[0m\u001b[0;34m\u001b[0m\u001b[0;34m\u001b[0m\u001b[0m\n\u001b[1;32m      3\u001b[0m \u001b[0my_predtime\u001b[0m \u001b[0;34m=\u001b[0m \u001b[0mclassifier\u001b[0m\u001b[0;34m.\u001b[0m\u001b[0mpredict\u001b[0m\u001b[0;34m(\u001b[0m\u001b[0mtimetest\u001b[0m\u001b[0;34m)\u001b[0m\u001b[0;34m\u001b[0m\u001b[0;34m\u001b[0m\u001b[0m\n\u001b[1;32m      4\u001b[0m \u001b[0mprint\u001b[0m\u001b[0;34m(\u001b[0m\u001b[0mclassification_report\u001b[0m\u001b[0;34m(\u001b[0m\u001b[0my_train\u001b[0m\u001b[0;34m,\u001b[0m \u001b[0my_predtrain\u001b[0m\u001b[0;34m)\u001b[0m\u001b[0;34m)\u001b[0m\u001b[0;34m\u001b[0m\u001b[0;34m\u001b[0m\u001b[0m\n\u001b[1;32m      5\u001b[0m \u001b[0mprint\u001b[0m\u001b[0;34m(\u001b[0m\u001b[0mclassification_report\u001b[0m\u001b[0;34m(\u001b[0m\u001b[0my_test\u001b[0m\u001b[0;34m,\u001b[0m \u001b[0my_pred\u001b[0m\u001b[0;34m)\u001b[0m\u001b[0;34m)\u001b[0m\u001b[0;34m\u001b[0m\u001b[0;34m\u001b[0m\u001b[0m\n",
            "\u001b[0;32m/usr/local/lib/python3.6/dist-packages/xgboost/core.py\u001b[0m in \u001b[0;36mpredict\u001b[0;34m(self, data, output_margin, ntree_limit, pred_leaf, pred_contribs, approx_contribs, pred_interactions, validate_features)\u001b[0m\n\u001b[1;32m   1282\u001b[0m \u001b[0;34m\u001b[0m\u001b[0m\n\u001b[1;32m   1283\u001b[0m         \u001b[0;32mif\u001b[0m \u001b[0mvalidate_features\u001b[0m\u001b[0;34m:\u001b[0m\u001b[0;34m\u001b[0m\u001b[0;34m\u001b[0m\u001b[0m\n\u001b[0;32m-> 1284\u001b[0;31m             \u001b[0mself\u001b[0m\u001b[0;34m.\u001b[0m\u001b[0m_validate_features\u001b[0m\u001b[0;34m(\u001b[0m\u001b[0mdata\u001b[0m\u001b[0;34m)\u001b[0m\u001b[0;34m\u001b[0m\u001b[0;34m\u001b[0m\u001b[0m\n\u001b[0m\u001b[1;32m   1285\u001b[0m \u001b[0;34m\u001b[0m\u001b[0m\n\u001b[1;32m   1286\u001b[0m         \u001b[0mlength\u001b[0m \u001b[0;34m=\u001b[0m \u001b[0mc_bst_ulong\u001b[0m\u001b[0;34m(\u001b[0m\u001b[0;34m)\u001b[0m\u001b[0;34m\u001b[0m\u001b[0;34m\u001b[0m\u001b[0m\n",
            "\u001b[0;32m/usr/local/lib/python3.6/dist-packages/xgboost/core.py\u001b[0m in \u001b[0;36m_validate_features\u001b[0;34m(self, data)\u001b[0m\n\u001b[1;32m   1673\u001b[0m         \u001b[0;32melse\u001b[0m\u001b[0;34m:\u001b[0m\u001b[0;34m\u001b[0m\u001b[0;34m\u001b[0m\u001b[0m\n\u001b[1;32m   1674\u001b[0m             \u001b[0;31m# Booster can't accept data with different feature names\u001b[0m\u001b[0;34m\u001b[0m\u001b[0;34m\u001b[0m\u001b[0;34m\u001b[0m\u001b[0m\n\u001b[0;32m-> 1675\u001b[0;31m             \u001b[0;32mif\u001b[0m \u001b[0mself\u001b[0m\u001b[0;34m.\u001b[0m\u001b[0mfeature_names\u001b[0m \u001b[0;34m!=\u001b[0m \u001b[0mdata\u001b[0m\u001b[0;34m.\u001b[0m\u001b[0mfeature_names\u001b[0m\u001b[0;34m:\u001b[0m\u001b[0;34m\u001b[0m\u001b[0;34m\u001b[0m\u001b[0m\n\u001b[0m\u001b[1;32m   1676\u001b[0m                 \u001b[0mdat_missing\u001b[0m \u001b[0;34m=\u001b[0m \u001b[0mset\u001b[0m\u001b[0;34m(\u001b[0m\u001b[0mself\u001b[0m\u001b[0;34m.\u001b[0m\u001b[0mfeature_names\u001b[0m\u001b[0;34m)\u001b[0m \u001b[0;34m-\u001b[0m \u001b[0mset\u001b[0m\u001b[0;34m(\u001b[0m\u001b[0mdata\u001b[0m\u001b[0;34m.\u001b[0m\u001b[0mfeature_names\u001b[0m\u001b[0;34m)\u001b[0m\u001b[0;34m\u001b[0m\u001b[0;34m\u001b[0m\u001b[0m\n\u001b[1;32m   1677\u001b[0m                 \u001b[0mmy_missing\u001b[0m \u001b[0;34m=\u001b[0m \u001b[0mset\u001b[0m\u001b[0;34m(\u001b[0m\u001b[0mdata\u001b[0m\u001b[0;34m.\u001b[0m\u001b[0mfeature_names\u001b[0m\u001b[0;34m)\u001b[0m \u001b[0;34m-\u001b[0m \u001b[0mset\u001b[0m\u001b[0;34m(\u001b[0m\u001b[0mself\u001b[0m\u001b[0;34m.\u001b[0m\u001b[0mfeature_names\u001b[0m\u001b[0;34m)\u001b[0m\u001b[0;34m\u001b[0m\u001b[0;34m\u001b[0m\u001b[0m\n",
            "\u001b[0;32m/usr/local/lib/python3.6/dist-packages/pandas/core/generic.py\u001b[0m in \u001b[0;36m__getattr__\u001b[0;34m(self, name)\u001b[0m\n\u001b[1;32m   5272\u001b[0m             \u001b[0;32mif\u001b[0m \u001b[0mself\u001b[0m\u001b[0;34m.\u001b[0m\u001b[0m_info_axis\u001b[0m\u001b[0;34m.\u001b[0m\u001b[0m_can_hold_identifiers_and_holds_name\u001b[0m\u001b[0;34m(\u001b[0m\u001b[0mname\u001b[0m\u001b[0;34m)\u001b[0m\u001b[0;34m:\u001b[0m\u001b[0;34m\u001b[0m\u001b[0;34m\u001b[0m\u001b[0m\n\u001b[1;32m   5273\u001b[0m                 \u001b[0;32mreturn\u001b[0m \u001b[0mself\u001b[0m\u001b[0;34m[\u001b[0m\u001b[0mname\u001b[0m\u001b[0;34m]\u001b[0m\u001b[0;34m\u001b[0m\u001b[0;34m\u001b[0m\u001b[0m\n\u001b[0;32m-> 5274\u001b[0;31m             \u001b[0;32mreturn\u001b[0m \u001b[0mobject\u001b[0m\u001b[0;34m.\u001b[0m\u001b[0m__getattribute__\u001b[0m\u001b[0;34m(\u001b[0m\u001b[0mself\u001b[0m\u001b[0;34m,\u001b[0m \u001b[0mname\u001b[0m\u001b[0;34m)\u001b[0m\u001b[0;34m\u001b[0m\u001b[0;34m\u001b[0m\u001b[0m\n\u001b[0m\u001b[1;32m   5275\u001b[0m \u001b[0;34m\u001b[0m\u001b[0m\n\u001b[1;32m   5276\u001b[0m     \u001b[0;32mdef\u001b[0m \u001b[0m__setattr__\u001b[0m\u001b[0;34m(\u001b[0m\u001b[0mself\u001b[0m\u001b[0;34m,\u001b[0m \u001b[0mname\u001b[0m\u001b[0;34m:\u001b[0m \u001b[0mstr\u001b[0m\u001b[0;34m,\u001b[0m \u001b[0mvalue\u001b[0m\u001b[0;34m)\u001b[0m \u001b[0;34m->\u001b[0m \u001b[0;32mNone\u001b[0m\u001b[0;34m:\u001b[0m\u001b[0;34m\u001b[0m\u001b[0;34m\u001b[0m\u001b[0m\n",
            "\u001b[0;31mAttributeError\u001b[0m: 'DataFrame' object has no attribute 'feature_names'"
          ]
        }
      ]
    },
    {
      "cell_type": "code",
      "metadata": {
        "id": "dpr942b06qXE",
        "outputId": "95fc597d-6909-477e-a4e1-45584d17a933",
        "colab": {
          "base_uri": "https://localhost:8080/",
          "height": 1000
        }
      },
      "source": [
        "dict(zip(X_train.columns,classifier.feature_importances_))"
      ],
      "execution_count": null,
      "outputs": [
        {
          "output_type": "execute_result",
          "data": {
            "text/plain": [
              "{'acc_now_delinq': 0.0030710706,\n",
              " 'acc_open_past_24mths': 0.01006104,\n",
              " 'all_util': 0.0048649083,\n",
              " 'annual_inc': 0.007368912,\n",
              " 'application_type_Individual': 0.017056458,\n",
              " 'application_type_Joint App': 0.0,\n",
              " 'avg_cur_bal': 0.008218673,\n",
              " 'bc_open_to_buy': 0.006305657,\n",
              " 'bc_util': 0.006219077,\n",
              " 'chargeoff_within_12_mths': 0.0049847187,\n",
              " 'collections_12_mths_ex_med': 0.0043600216,\n",
              " 'delinq_2yrs': 0.004402531,\n",
              " 'delinq_amnt': 0.0031158822,\n",
              " 'dti': 0.0070116273,\n",
              " 'earliest_cr_line': 0.0,\n",
              " 'emp_length_1 year': 0.004451475,\n",
              " 'emp_length_10+ years': 0.007085208,\n",
              " 'emp_length_2 years': 0.0044371956,\n",
              " 'emp_length_3 years': 0.004845163,\n",
              " 'emp_length_4 years': 0.0041406816,\n",
              " 'emp_length_5 years': 0.0041275783,\n",
              " 'emp_length_6 years': 0.0047916095,\n",
              " 'emp_length_7 years': 0.0052743005,\n",
              " 'emp_length_8 years': 0.004399509,\n",
              " 'emp_length_9 years': 0.004264127,\n",
              " 'emp_length_less 1 year': 0.0048198164,\n",
              " 'grade_A': 0.306375,\n",
              " 'grade_B': 0.008867068,\n",
              " 'grade_C': 0.008985515,\n",
              " 'grade_D': 0.0046786014,\n",
              " 'grade_E': 0.0036691187,\n",
              " 'grade_F': 0.003576363,\n",
              " 'grade_G': 0.0035033813,\n",
              " 'home_ownership_ANY': 0.0043349965,\n",
              " 'home_ownership_MORTGAGE': 0.014641366,\n",
              " 'home_ownership_NONE': 0.0023497122,\n",
              " 'home_ownership_OTHER': 0.0033913981,\n",
              " 'home_ownership_OWN': 0.0051763803,\n",
              " 'home_ownership_RENT': 0.011322971,\n",
              " 'il_util': 0.004529829,\n",
              " 'initial_list_status_f': 0.004559132,\n",
              " 'initial_list_status_w': 0.0,\n",
              " 'inq_fi': 0.0043962747,\n",
              " 'inq_last_6mths': 0.0054152976,\n",
              " 'installment': 0.0073537296,\n",
              " 'int_rate': 0.04218624,\n",
              " 'max_bal_bc': 0.00521623,\n",
              " 'mo_sin_old_il_acct': 0.005708455,\n",
              " 'mo_sin_old_rev_tl_op': 0.00623966,\n",
              " 'mo_sin_rcnt_rev_tl_op': 0.0055473284,\n",
              " 'mo_sin_rcnt_tl': 0.005909935,\n",
              " 'mort_acc': 0.009731635,\n",
              " 'mths_since_last_delinq': 0.005808929,\n",
              " 'mths_since_last_major_derog': 0.0053678025,\n",
              " 'mths_since_last_record': 0.006009764,\n",
              " 'mths_since_rcnt_il': 0.0049909176,\n",
              " 'mths_since_recent_bc': 0.006176376,\n",
              " 'mths_since_recent_bc_dlq': 0.005530847,\n",
              " 'mths_since_recent_inq': 0.0058853053,\n",
              " 'mths_since_recent_revol_delinq': 0.0057016853,\n",
              " 'num_accts_ever_120_pd': 0.0052957907,\n",
              " 'num_actv_bc_tl': 0.0057884655,\n",
              " 'num_actv_rev_tl': 0.0079227965,\n",
              " 'num_bc_sats': 0.0053645074,\n",
              " 'num_rev_accts': 0.0055930256,\n",
              " 'num_sats': 0.005196904,\n",
              " 'num_tl_120dpd_2m': 0.013906379,\n",
              " 'num_tl_30dpd': 0.003577521,\n",
              " 'num_tl_90g_dpd_24m': 0.004299389,\n",
              " 'open_acc_6m': 0.008205244,\n",
              " 'open_act_il': 0.0045651617,\n",
              " 'open_il_24m': 0.0134200035,\n",
              " 'open_rv_12m': 0.0038777464,\n",
              " 'open_rv_24m': 0.004294404,\n",
              " 'pct_tl_nvr_dlq': 0.005673058,\n",
              " 'percent_bc_gt_75': 0.0063316864,\n",
              " 'policy_code': 0.0,\n",
              " 'pub_rec_bankruptcies': 0.0053677033,\n",
              " 'pymnt_plan_n': 0.025632022,\n",
              " 'pymnt_plan_y': 0.0,\n",
              " 'revol_util': 0.0057898443,\n",
              " 'tax_liens': 0.0047327587,\n",
              " 'term_36 months': 0.065249234,\n",
              " 'term_60 months': 0.0,\n",
              " 'tot_coll_amt': 0.0055498187,\n",
              " 'tot_cur_bal': 0.0055801463,\n",
              " 'tot_hi_cred_lim': 0.0069350936,\n",
              " 'total_acc': 0.005338953,\n",
              " 'total_bal_ex_mort': 0.0060062325,\n",
              " 'total_bal_il': 0.0051683816,\n",
              " 'total_bc_limit': 0.0068143434,\n",
              " 'total_cu_tl': 0.006743122,\n",
              " 'total_rev_hi_lim': 0.0061193733,\n",
              " 'verification_status_Not Verified': 0.008545336,\n",
              " 'verification_status_Source Verified': 0.004860182,\n",
              " 'verification_status_Verified': 0.006069096,\n",
              " 'year': 0.043371774}"
            ]
          },
          "metadata": {
            "tags": []
          },
          "execution_count": 33
        }
      ]
    },
    {
      "cell_type": "code",
      "metadata": {
        "id": "j1EchCyCXeQI",
        "outputId": "b85be98c-3abe-416d-c9aa-0842e477c591",
        "colab": {
          "base_uri": "https://localhost:8080/",
          "height": 189
        }
      },
      "source": [
        "fscores = pd.DataFrame({'X': list(classifier.get_fscore().keys()), 'Y': list(classifier.get_fscore().values())})\n",
        "fscores.sort_values(by='Y').plot.bar(x='X')"
      ],
      "execution_count": null,
      "outputs": [
        {
          "output_type": "error",
          "ename": "AttributeError",
          "evalue": "ignored",
          "traceback": [
            "\u001b[0;31m---------------------------------------------------------------------------\u001b[0m",
            "\u001b[0;31mAttributeError\u001b[0m                            Traceback (most recent call last)",
            "\u001b[0;32m<ipython-input-50-5825581f2446>\u001b[0m in \u001b[0;36m<module>\u001b[0;34m()\u001b[0m\n\u001b[0;32m----> 1\u001b[0;31m \u001b[0mfscores\u001b[0m \u001b[0;34m=\u001b[0m \u001b[0mpd\u001b[0m\u001b[0;34m.\u001b[0m\u001b[0mDataFrame\u001b[0m\u001b[0;34m(\u001b[0m\u001b[0;34m{\u001b[0m\u001b[0;34m'X'\u001b[0m\u001b[0;34m:\u001b[0m \u001b[0mlist\u001b[0m\u001b[0;34m(\u001b[0m\u001b[0mclassifier\u001b[0m\u001b[0;34m.\u001b[0m\u001b[0mget_fscore\u001b[0m\u001b[0;34m(\u001b[0m\u001b[0;34m)\u001b[0m\u001b[0;34m.\u001b[0m\u001b[0mkeys\u001b[0m\u001b[0;34m(\u001b[0m\u001b[0;34m)\u001b[0m\u001b[0;34m)\u001b[0m\u001b[0;34m,\u001b[0m \u001b[0;34m'Y'\u001b[0m\u001b[0;34m:\u001b[0m \u001b[0mlist\u001b[0m\u001b[0;34m(\u001b[0m\u001b[0mclassifier\u001b[0m\u001b[0;34m.\u001b[0m\u001b[0mget_fscore\u001b[0m\u001b[0;34m(\u001b[0m\u001b[0;34m)\u001b[0m\u001b[0;34m.\u001b[0m\u001b[0mvalues\u001b[0m\u001b[0;34m(\u001b[0m\u001b[0;34m)\u001b[0m\u001b[0;34m)\u001b[0m\u001b[0;34m}\u001b[0m\u001b[0;34m)\u001b[0m\u001b[0;34m\u001b[0m\u001b[0;34m\u001b[0m\u001b[0m\n\u001b[0m\u001b[1;32m      2\u001b[0m \u001b[0mfscores\u001b[0m\u001b[0;34m.\u001b[0m\u001b[0msort_values\u001b[0m\u001b[0;34m(\u001b[0m\u001b[0mby\u001b[0m\u001b[0;34m=\u001b[0m\u001b[0;34m'Y'\u001b[0m\u001b[0;34m)\u001b[0m\u001b[0;34m.\u001b[0m\u001b[0mplot\u001b[0m\u001b[0;34m.\u001b[0m\u001b[0mbar\u001b[0m\u001b[0;34m(\u001b[0m\u001b[0mx\u001b[0m\u001b[0;34m=\u001b[0m\u001b[0;34m'X'\u001b[0m\u001b[0;34m)\u001b[0m\u001b[0;34m\u001b[0m\u001b[0;34m\u001b[0m\u001b[0m\n",
            "\u001b[0;31mAttributeError\u001b[0m: 'XGBClassifier' object has no attribute 'get_fscore'"
          ]
        }
      ]
    },
    {
      "cell_type": "code",
      "metadata": {
        "id": "r48mzNS2T8Uh",
        "outputId": "fab386bc-8966-4a3b-96c4-e018d99fe9e4",
        "colab": {
          "base_uri": "https://localhost:8080/",
          "height": 1000
        }
      },
      "source": [
        "from sklearn.metrics import classification_report, confusion_matrix\n",
        "\n",
        "y_pred=classifier.predict(X_test)\n",
        "y_predtime=classifier.predict(timetest)\n",
        "cm2 = confusion_matrix(y_test, y_pred)\n",
        "cm3 = confusion_matrix(y_timetest, y_predtime)\n",
        "def plot_confusion_matrix(cm, classes,title, normalized=True, cmap='bone'):\n",
        "    plt.figure(figsize=[7, 6])\n",
        "    norm_cm = cm\n",
        "    plt.title(title)\n",
        "    if normalized:\n",
        "        norm_cm = cm.astype('float') / cm.sum(axis=1)[:, np.newaxis]\n",
        "        sns.heatmap(norm_cm, annot=cm, fmt='g', xticklabels=classes, yticklabels=classes, cmap=cmap)\n",
        "plot_confusion_matrix(cm2, ['0', '1'],'Test 0 1')\n",
        "plot_confusion_matrix(cm3, ['0', '1'],'Time 0 1')\n",
        "plt.show()\n",
        "print('Test')\n",
        "print(classification_report(y_pred, y_test))\n",
        "print('Time')\n",
        "print(classification_report(y_predtime,y_timetest))"
      ],
      "execution_count": null,
      "outputs": [
        {
          "output_type": "display_data",
          "data": {
            "image/png": "[encoded data removed]",
            "text/plain": [
              "<Figure size 504x432 with 2 Axes>"
            ]
          },
          "metadata": {
            "tags": [],
            "needs_background": "light"
          }
        },
        {
          "output_type": "display_data",
          "data": {
            "image/png": "[encoded data removed]",
            "text/plain": [
              "<Figure size 504x432 with 2 Axes>"
            ]
          },
          "metadata": {
            "tags": [],
            "needs_background": "light"
          }
        },
        {
          "output_type": "stream",
          "text": [
            "              precision    recall  f1-score   support\n",
            "\n",
            "         0.0       0.98      0.95      0.96    259483\n",
            "         1.0       0.58      0.82      0.68     23595\n",
            "\n",
            "    accuracy                           0.94    283078\n",
            "   macro avg       0.78      0.88      0.82    283078\n",
            "weighted avg       0.95      0.94      0.94    283078\n",
            "\n",
            "              precision    recall  f1-score   support\n",
            "\n",
            "         0.0       0.99      0.89      0.94    230262\n",
            "         1.0       0.27      0.76      0.40     12139\n",
            "\n",
            "    accuracy                           0.88    242401\n",
            "   macro avg       0.63      0.83      0.67    242401\n",
            "weighted avg       0.95      0.88      0.91    242401\n",
            "\n"
          ],
          "name": "stdout"
        }
      ]
    },
    {
      "cell_type": "code",
      "metadata": {
        "id": "PLJjD1m4LDfL",
        "outputId": "1d6d4434-0f53-48cd-ac30-47baee004dfb",
        "colab": {
          "base_uri": "https://localhost:8080/",
          "height": 255
        }
      },
      "source": [
        "!pip install scikit-optimize"
      ],
      "execution_count": null,
      "outputs": [
        {
          "output_type": "stream",
          "text": [
            "Collecting scikit-optimize\n",
            "\u001b[?25l  Downloading https://files.pythonhosted.org/packages/5c/87/310b52debfbc0cb79764e5770fa3f5c18f6f0754809ea9e2fc185e1b67d3/scikit_optimize-0.7.4-py2.py3-none-any.whl (80kB)\n",
            "\r\u001b[K     |████                            | 10kB 21.3MB/s eta 0:00:01\r\u001b[K     |████████▏                       | 20kB 2.2MB/s eta 0:00:01\r\u001b[K     |████████████▎                   | 30kB 2.8MB/s eta 0:00:01\r\u001b[K     |████████████████▎               | 40kB 3.1MB/s eta 0:00:01\r\u001b[K     |████████████████████▍           | 51kB 2.6MB/s eta 0:00:01\r\u001b[K     |████████████████████████▌       | 61kB 2.8MB/s eta 0:00:01\r\u001b[K     |████████████████████████████▌   | 71kB 3.1MB/s eta 0:00:01\r\u001b[K     |████████████████████████████████| 81kB 2.7MB/s \n",
            "\u001b[?25hRequirement already satisfied: scipy>=0.18.0 in /usr/local/lib/python3.6/dist-packages (from scikit-optimize) (1.4.1)\n",
            "Collecting pyaml>=16.9\n",
            "  Downloading https://files.pythonhosted.org/packages/15/c4/1310a054d33abc318426a956e7d6df0df76a6ddfa9c66f6310274fb75d42/pyaml-20.4.0-py2.py3-none-any.whl\n",
            "Requirement already satisfied: numpy>=1.11.0 in /usr/local/lib/python3.6/dist-packages (from scikit-optimize) (1.18.5)\n",
            "Requirement already satisfied: scikit-learn>=0.19.1 in /usr/local/lib/python3.6/dist-packages (from scikit-optimize) (0.22.2.post1)\n",
            "Requirement already satisfied: joblib>=0.11 in /usr/local/lib/python3.6/dist-packages (from scikit-optimize) (0.15.1)\n",
            "Requirement already satisfied: PyYAML in /usr/local/lib/python3.6/dist-packages (from pyaml>=16.9->scikit-optimize) (3.13)\n",
            "Installing collected packages: pyaml, scikit-optimize\n",
            "Successfully installed pyaml-20.4.0 scikit-optimize-0.7.4\n"
          ],
          "name": "stdout"
        }
      ]
    },
    {
      "cell_type": "code",
      "metadata": {
        "id": "TPDFzVJgPOdX",
        "outputId": "e5979be5-f0c9-44aa-fd60-d98f965cac49",
        "colab": {
          "base_uri": "https://localhost:8080/",
          "height": 501
        }
      },
      "source": [
        "pd.DataFrame(result.cv_results_).plot(figsize=(7,8))"
      ],
      "execution_count": null,
      "outputs": [
        {
          "output_type": "execute_result",
          "data": {
            "text/plain": [
              "<matplotlib.axes._subplots.AxesSubplot at 0x7f3adaacabe0>"
            ]
          },
          "metadata": {
            "tags": []
          },
          "execution_count": 27
        },
        {
          "output_type": "display_data",
          "data": {
            "image/png": "[encoded data removed]",
            "text/plain": [
              "<Figure size 504x576 with 1 Axes>"
            ]
          },
          "metadata": {
            "tags": [],
            "needs_background": "light"
          }
        }
      ]
    },
    {
      "cell_type": "code",
      "metadata": {
        "id": "1SnWN_j7igdd",
        "outputId": "fddfbef5-29af-4314-fce5-912124632ca9",
        "colab": {
          "base_uri": "https://localhost:8080/",
          "height": 144
        }
      },
      "source": [
        "y_timepred"
      ],
      "execution_count": null,
      "outputs": [
        {
          "output_type": "execute_result",
          "data": {
            "text/plain": [
              "array([[0.46531236, 0.53468764],\n",
              "       [0.998234  , 0.00176602],\n",
              "       [0.65578496, 0.34421504],\n",
              "       ...,\n",
              "       [0.8783955 , 0.12160451],\n",
              "       [0.8317586 , 0.16824137],\n",
              "       [0.6388681 , 0.36113188]], dtype=float32)"
            ]
          },
          "metadata": {
            "tags": []
          },
          "execution_count": 137
        }
      ]
    },
    {
      "cell_type": "code",
      "metadata": {
        "id": "9syRFSwcf6Dm",
        "outputId": "8e5d72aa-9795-4994-8433-a09b50fe84fd",
        "colab": {
          "base_uri": "https://localhost:8080/",
          "height": 92
        }
      },
      "source": [
        "y_timepred=result.predict(timetest)\n",
        "fp_rate, tp_rate, thresholds = roc_curve(y_timepred, y_timetest)\n",
        "gini = 2*auc(fp_rate, tp_rate)-1\n",
        "print(gini)"
      ],
      "execution_count": null,
      "outputs": [
        {
          "output_type": "stream",
          "text": [
            "nan\n"
          ],
          "name": "stdout"
        },
        {
          "output_type": "stream",
          "text": [
            "/usr/local/lib/python3.6/dist-packages/sklearn/metrics/_ranking.py:808: UndefinedMetricWarning: No positive samples in y_true, true positive value should be meaningless\n",
            "  UndefinedMetricWarning)\n"
          ],
          "name": "stderr"
        }
      ]
    },
    {
      "cell_type": "code",
      "metadata": {
        "id": "zaAFONhSAJ--"
      },
      "source": [
        "params = {'colsample_bylevel': 0.684890708829741, 'colsample_bytree': 0.6858047953450256, 'gamma': 0.027680960381780695, 'max_delta_step': 13, 'max_depth': 6, 'min_child_weight': 10, 'reg_alpha': 0.01923380793882639, 'reg_lambda': 8, 'scale_pos_weight': 362, 'subsample': 0.7691732515803242}"
      ],
      "execution_count": null,
      "outputs": []
    },
    {
      "cell_type": "code",
      "metadata": {
        "id": "0oNdZCqYzf8a"
      },
      "source": [
        "xgb.XGBClassifier(**params,n_estimators=)"
      ],
      "execution_count": null,
      "outputs": []
    },
    {
      "cell_type": "code",
      "metadata": {
        "id": "EGaJ63aTgY8g",
        "outputId": "a53129a6-ba9f-4dc1-cc0e-ee4394d2a4f3",
        "colab": {
          "base_uri": "https://localhost:8080/",
          "height": 55
        }
      },
      "source": [
        "sklearn.metrics.SCORERS.keys()"
      ],
      "execution_count": null,
      "outputs": [
        {
          "output_type": "execute_result",
          "data": {
            "text/plain": [
              "dict_keys(['explained_variance', 'r2', 'max_error', 'neg_median_absolute_error', 'neg_mean_absolute_error', 'neg_mean_squared_error', 'neg_mean_squared_log_error', 'neg_root_mean_squared_error', 'neg_mean_poisson_deviance', 'neg_mean_gamma_deviance', 'accuracy', 'roc_auc', 'roc_auc_ovr', 'roc_auc_ovo', 'roc_auc_ovr_weighted', 'roc_auc_ovo_weighted', 'balanced_accuracy', 'average_precision', 'neg_log_loss', 'neg_brier_score', 'adjusted_rand_score', 'homogeneity_score', 'completeness_score', 'v_measure_score', 'mutual_info_score', 'adjusted_mutual_info_score', 'normalized_mutual_info_score', 'fowlkes_mallows_score', 'precision', 'precision_macro', 'precision_micro', 'precision_samples', 'precision_weighted', 'recall', 'recall_macro', 'recall_micro', 'recall_samples', 'recall_weighted', 'f1', 'f1_macro', 'f1_micro', 'f1_samples', 'f1_weighted', 'jaccard', 'jaccard_macro', 'jaccard_micro', 'jaccard_samples', 'jaccard_weighted'])"
            ]
          },
          "metadata": {
            "tags": []
          },
          "execution_count": 132
        }
      ]
    }
  ]
}