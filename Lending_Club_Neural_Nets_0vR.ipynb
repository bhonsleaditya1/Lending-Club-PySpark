{
  "nbformat": 4,
  "nbformat_minor": 0,
  "metadata": {
    "colab": {
      "name": "Lending-Club-Neural-Nets-0vR.ipynb",
      "provenance": [],
      "collapsed_sections": [],
      "machine_shape": "hm",
      "mount_file_id": "1a_KS5plc0cg0b4qe2Z2rol9xzvcFe9py",
      "authorship_tag": "ABX9TyPZMq3z1uFJrjCW1PD/WgWr",
      "include_colab_link": true
    },
    "kernelspec": {
      "name": "python3",
      "display_name": "Python 3"
    },
    "accelerator": "GPU"
  },
  "cells": [
    {
      "cell_type": "markdown",
      "metadata": {
        "id": "view-in-github",
        "colab_type": "text"
      },
      "source": [
        "<a href=\"https://colab.research.google.com/github/bhonsleaditya1/Lending-Club-PySpark/blob/master/Lending_Club_Neural_Nets_0vR.ipynb\" target=\"_parent\"><img src=\"https://colab.research.google.com/assets/colab-badge.svg\" alt=\"Open In Colab\"/></a>"
      ]
    },
    {
      "cell_type": "code",
      "metadata": {
        "id": "onu25qDUv5Rq",
        "outputId": "cc88e8d5-1bf1-446b-ee7f-14d4f726f166",
        "colab": {
          "base_uri": "https://localhost:8080/",
          "height": 53
        }
      },
      "source": [
        "!pip install -q bayesian-optimization\n",
        "!pip install -q scikit-optimize"
      ],
      "execution_count": null,
      "outputs": [
        {
          "output_type": "stream",
          "text": [
            "  Building wheel for bayesian-optimization (setup.py) ... \u001b[?25l\u001b[?25hdone\n",
            "\u001b[K     |████████████████████████████████| 81kB 2.3MB/s \n",
            "\u001b[?25h"
          ],
          "name": "stdout"
        }
      ]
    },
    {
      "cell_type": "code",
      "metadata": {
        "id": "JGuXU0bGwEiG"
      },
      "source": [
        "import os,gc,re,matplotlib,joblib,ast\n",
        "import pandas as pd\n",
        "import numpy as np\n",
        "import seaborn as sns\n",
        "from tqdm import tqdm\n",
        "from sklearn.feature_selection import RFECV\n",
        "from sklearn.model_selection  import StratifiedKFold,train_test_split,cross_validate\n",
        "import matplotlib.pyplot as plt\n",
        "from sklearn.preprocessing import OneHotEncoder,MinMaxScaler,StandardScaler,LabelEncoder,LabelBinarizer\n",
        "from sklearn.impute import SimpleImputer\n",
        "from sklearn.metrics import roc_auc_score,auc,roc_curve,accuracy_score,classification_report,confusion_matrix,f1_score\n",
        "#from hyperopt import STATUS_OK, Trials, fmin, hp, tpe\n",
        "import xgboost as xgb\n",
        "from scipy.stats import zscore\n",
        "from sklearn import model_selection \n",
        "#from bayes_opt import BayesianOptimization\n",
        "from sklearn.cluster import DBSCAN\n",
        "from sklearn.multiclass import OneVsRestClassifier"
      ],
      "execution_count": null,
      "outputs": []
    },
    {
      "cell_type": "code",
      "metadata": {
        "id": "xLDlrh0iwGbQ",
        "outputId": "31dc2c7a-ce1d-4434-bfcd-f9f657dbc260",
        "colab": {
          "base_uri": "https://localhost:8080/",
          "height": 70
        }
      },
      "source": [
        "pdf = pd.read_csv('/content/drive/My Drive/Lending-Club/loanFinal.csv', header=0, escapechar='\\\\')\n",
        "dropcol = pd.read_csv('/content/drive/My Drive/Lending-Club/FinalDrop.csv',header=None)[0].to_list()\n",
        "dbindex = pd.read_csv('/content/drive/My Drive/Lending-Club/DBRemove.csv')\n",
        "pdf = pdf[pdf.amnt_left_per<=100]\n",
        "#pdf = pdf[pdf.amnt_left_per>=0]\n",
        "pdf = pdf.drop(dropcol,axis=1)\n",
        "#pdf=pdf[pdf['application_type'].isin(['Joint App','Individual'])]\n",
        "#pdf=pdf[pdf['initial_list_status'].isin(['w','f'])]\n",
        "pdf = pdf.drop(dbindex['index'].to_list())\n",
        "pdf = pdf.reset_index().drop('index',axis=1)\n",
        "pdf.count()\n",
        "pdf['year'] = pd.DatetimeIndex(pdf['issue_d']).year\n",
        "#pdf = pdf.drop(dt,axis=1)\n",
        "reg = pdf.select_dtypes(['float64']).columns\n",
        "clas = pdf.select_dtypes(['O']).columns"
      ],
      "execution_count": null,
      "outputs": [
        {
          "output_type": "stream",
          "text": [
            "/usr/local/lib/python3.6/dist-packages/IPython/core/interactiveshell.py:2718: DtypeWarning: Columns (41,49,117,118,119,122,123,124,127) have mixed types.Specify dtype option on import or set low_memory=False.\n",
            "  interactivity=interactivity, compiler=compiler, result=result)\n"
          ],
          "name": "stderr"
        }
      ]
    },
    {
      "cell_type": "code",
      "metadata": {
        "id": "5edzq6VmwKFW",
        "outputId": "119a2858-b093-409c-b470-d665e86a293a",
        "colab": {
          "base_uri": "https://localhost:8080/",
          "height": 35
        }
      },
      "source": [
        "del pdf\n",
        "gc.collect()"
      ],
      "execution_count": null,
      "outputs": [
        {
          "output_type": "execute_result",
          "data": {
            "text/plain": [
              "6232"
            ]
          },
          "metadata": {
            "tags": []
          },
          "execution_count": 144
        }
      ]
    },
    {
      "cell_type": "code",
      "metadata": {
        "id": "qebtKGRkwNLZ",
        "outputId": "ae243241-77e0-4d48-e96f-94ffa28e130a",
        "colab": {
          "base_uri": "https://localhost:8080/",
          "height": 34
        }
      },
      "source": [
        "#OneHotEncoding 0 vs R \n",
        "pdf.loc[pdf['target']==2,'target']=1\n",
        "p = pd.DataFrame(index=None)\n",
        "for i in clas:\n",
        "  if pdf[i].nunique()<25:\n",
        "    l = pd.get_dummies(pdf[i], prefix=i)\n",
        "    for j in l.columns:\n",
        "      pdf[j] = l[j]\n",
        "for i in clas:\n",
        "  pdf = pdf.drop(i,axis=1)\n",
        "pdf = pdf.rename(columns={'emp_length_< 1 year':'emp_length_less 1 year'})\n",
        "timetest = pdf[pdf.year==2016]\n",
        "train = pdf[pdf.year!=2016]\n",
        "timetest = timetest.drop(['year'],axis=1)\n",
        "train = train.drop(['year'],axis=1)\n",
        "y_timetest=pd.DataFrame()\n",
        "y_t = pd.DataFrame()\n",
        "y_timetest['target'] = timetest['target']\n",
        "y_t['target'] = train['target']\n",
        "timetest = timetest.drop('target',axis=1)\n",
        "train = train.drop('target',axis=1)\n",
        "X_train, X_test, y_train, y_test = train_test_split(train, y_t, random_state=1301, test_size=0.3)\n",
        "scale = StandardScaler()\n",
        "imp = SimpleImputer(strategy=\"mean\")\n",
        "scale.fit(imp.fit_transform(X_train))\n",
        "X_train = scale.transform(imp.fit_transform(X_train))\n",
        "X_test = scale.transform(imp.fit_transform(X_test))\n",
        "timetest = scale.transform(imp.fit_transform(timetest))\n",
        "gc.collect()"
      ],
      "execution_count": null,
      "outputs": [
        {
          "output_type": "execute_result",
          "data": {
            "text/plain": [
              "12937"
            ]
          },
          "metadata": {
            "tags": []
          },
          "execution_count": 11
        }
      ]
    },
    {
      "cell_type": "code",
      "metadata": {
        "id": "MPid_UnEh88j",
        "outputId": "fa64b973-eb77-4220-d267-ae6ef053dc55",
        "colab": {
          "base_uri": "https://localhost:8080/",
          "height": 35
        }
      },
      "source": [
        "#OneHotEncoding multi\n",
        "#pdf.loc[pdf['target']==2,'target']=1\n",
        "p = pd.DataFrame(index=None)\n",
        "for i in clas:\n",
        "  if pdf[i].nunique()<25:\n",
        "    l = pd.get_dummies(pdf[i], prefix=i)\n",
        "    for j in l.columns:\n",
        "      pdf[j] = l[j]\n",
        "for i in clas:\n",
        "  pdf = pdf.drop(i,axis=1)\n",
        "pdf = pdf.rename(columns={'emp_length_< 1 year':'emp_length_less 1 year'})\n",
        "timetest = pdf[pdf.year==2016]\n",
        "train = pdf[pdf.year!=2016]\n",
        "timetest = timetest.drop(['year'],axis=1)\n",
        "train = train.drop(['year'],axis=1)\n",
        "y_timetest=pd.DataFrame()\n",
        "y_t = pd.DataFrame()\n",
        "y_timetest['target'] = timetest['target']\n",
        "y_t['target'] = train['target']\n",
        "timetest = timetest.drop('target',axis=1)\n",
        "train = train.drop('target',axis=1)\n",
        "X_train, X_test, y_train, y_test = train_test_split(train, y_t, random_state=1301, test_size=0.3)\n",
        "scale = StandardScaler()\n",
        "imp = SimpleImputer(strategy=\"mean\")\n",
        "scale.fit(imp.fit_transform(X_train))\n",
        "X_train = scale.transform(imp.fit_transform(X_train))\n",
        "X_test = scale.transform(imp.fit_transform(X_test))\n",
        "timetest = scale.transform(imp.fit_transform(timetest))\n",
        "gc.collect()"
      ],
      "execution_count": null,
      "outputs": [
        {
          "output_type": "execute_result",
          "data": {
            "text/plain": [
              "0"
            ]
          },
          "metadata": {
            "tags": []
          },
          "execution_count": 8
        }
      ]
    },
    {
      "cell_type": "code",
      "metadata": {
        "id": "OMCqT_gO2KoO",
        "outputId": "964e08e4-fa5b-4c4d-cb5b-f53f7870a631",
        "colab": {
          "base_uri": "https://localhost:8080/",
          "height": 35
        }
      },
      "source": [
        "np.isnan(X_train).sum()"
      ],
      "execution_count": null,
      "outputs": [
        {
          "output_type": "execute_result",
          "data": {
            "text/plain": [
              "0"
            ]
          },
          "metadata": {
            "tags": []
          },
          "execution_count": 33
        }
      ]
    },
    {
      "cell_type": "code",
      "metadata": {
        "id": "2iPBm_iOwVCw",
        "outputId": "d44dc0d7-834e-4730-b4a3-b35c8e7c3170",
        "colab": {
          "base_uri": "https://localhost:8080/",
          "height": 1000
        }
      },
      "source": [
        "from sklearn.neural_network import MLPClassifier\n",
        "mlp = MLPClassifier(hidden_layer_sizes=(128,128), max_iter=100,activation='tanh',solver='sgd',learning_rate='adaptive',verbose=True)\n",
        "mlp.fit(X_train, y_train.values.ravel())"
      ],
      "execution_count": null,
      "outputs": [
        {
          "output_type": "stream",
          "text": [
            "Iteration 1, loss = 0.47091916\n",
            "Iteration 2, loss = 0.46338859\n",
            "Iteration 3, loss = 0.46227072\n",
            "Iteration 4, loss = 0.46149161\n",
            "Iteration 5, loss = 0.46088581\n",
            "Iteration 6, loss = 0.46036374\n",
            "Iteration 7, loss = 0.45990628\n",
            "Iteration 8, loss = 0.45950606\n",
            "Iteration 9, loss = 0.45915228\n",
            "Iteration 10, loss = 0.45880015\n",
            "Iteration 11, loss = 0.45852303\n",
            "Iteration 12, loss = 0.45821272\n",
            "Iteration 13, loss = 0.45794337\n",
            "Iteration 14, loss = 0.45767192\n",
            "Iteration 15, loss = 0.45742802\n",
            "Iteration 16, loss = 0.45720538\n",
            "Iteration 17, loss = 0.45697624\n",
            "Iteration 18, loss = 0.45675581\n",
            "Iteration 19, loss = 0.45654226\n",
            "Iteration 20, loss = 0.45632984\n",
            "Iteration 21, loss = 0.45614867\n",
            "Iteration 22, loss = 0.45595183\n",
            "Iteration 23, loss = 0.45577443\n",
            "Iteration 24, loss = 0.45560536\n",
            "Iteration 25, loss = 0.45541220\n",
            "Iteration 26, loss = 0.45525486\n",
            "Iteration 27, loss = 0.45511032\n",
            "Iteration 28, loss = 0.45493958\n",
            "Iteration 29, loss = 0.45481650\n",
            "Iteration 30, loss = 0.45463554\n",
            "Iteration 31, loss = 0.45450092\n",
            "Iteration 32, loss = 0.45436603\n",
            "Iteration 33, loss = 0.45424007\n",
            "Iteration 34, loss = 0.45408975\n",
            "Iteration 35, loss = 0.45399137\n",
            "Iteration 36, loss = 0.45383661\n",
            "Iteration 37, loss = 0.45374818\n",
            "Iteration 38, loss = 0.45359860\n",
            "Iteration 39, loss = 0.45346688\n",
            "Iteration 40, loss = 0.45335794\n",
            "Iteration 41, loss = 0.45325673\n",
            "Iteration 42, loss = 0.45313732\n",
            "Iteration 43, loss = 0.45300295\n",
            "Iteration 44, loss = 0.45291320\n",
            "Iteration 45, loss = 0.45278861\n",
            "Iteration 46, loss = 0.45269688\n",
            "Iteration 47, loss = 0.45256665\n",
            "Iteration 48, loss = 0.45248935\n",
            "Iteration 49, loss = 0.45237676\n",
            "Iteration 50, loss = 0.45228047\n",
            "Iteration 51, loss = 0.45216196\n",
            "Iteration 52, loss = 0.45208433\n",
            "Iteration 53, loss = 0.45198003\n",
            "Iteration 54, loss = 0.45187382\n",
            "Iteration 55, loss = 0.45180137\n",
            "Iteration 56, loss = 0.45166770\n",
            "Iteration 57, loss = 0.45162484\n",
            "Iteration 58, loss = 0.45148962\n",
            "Iteration 59, loss = 0.45139476\n",
            "Iteration 60, loss = 0.45132527\n",
            "Iteration 61, loss = 0.45121890\n",
            "Iteration 62, loss = 0.45111801\n",
            "Iteration 63, loss = 0.45103985\n",
            "Iteration 64, loss = 0.45094242\n",
            "Iteration 65, loss = 0.45082479\n",
            "Iteration 66, loss = 0.45074885\n",
            "Iteration 67, loss = 0.45065505\n",
            "Iteration 68, loss = 0.45057832\n",
            "Iteration 69, loss = 0.45048503\n",
            "Iteration 70, loss = 0.45038197\n",
            "Iteration 71, loss = 0.45031526\n",
            "Iteration 72, loss = 0.45020231\n",
            "Iteration 73, loss = 0.45013934\n",
            "Iteration 74, loss = 0.45005787\n",
            "Iteration 75, loss = 0.44994845\n",
            "Iteration 76, loss = 0.44988134\n",
            "Iteration 77, loss = 0.44978536\n",
            "Iteration 78, loss = 0.44969647\n",
            "Iteration 79, loss = 0.44963128\n",
            "Iteration 80, loss = 0.44952167\n",
            "Iteration 81, loss = 0.44945418\n",
            "Iteration 82, loss = 0.44937800\n",
            "Iteration 83, loss = 0.44924680\n",
            "Iteration 84, loss = 0.44918060\n",
            "Iteration 85, loss = 0.44912257\n",
            "Iteration 86, loss = 0.44903020\n",
            "Iteration 87, loss = 0.44897678\n",
            "Iteration 88, loss = 0.44884224\n",
            "Iteration 89, loss = 0.44878766\n",
            "Iteration 90, loss = 0.44871200\n",
            "Iteration 91, loss = 0.44859891\n",
            "Iteration 92, loss = 0.44853392\n",
            "Iteration 93, loss = 0.44842765\n",
            "Iteration 94, loss = 0.44837218\n",
            "Iteration 95, loss = 0.44828194\n",
            "Iteration 96, loss = 0.44821852\n",
            "Iteration 97, loss = 0.44811068\n",
            "Iteration 98, loss = 0.44805141\n",
            "Iteration 99, loss = 0.44797279\n",
            "Iteration 100, loss = 0.44790551\n"
          ],
          "name": "stdout"
        },
        {
          "output_type": "stream",
          "text": [
            "/usr/local/lib/python3.6/dist-packages/sklearn/neural_network/_multilayer_perceptron.py:571: ConvergenceWarning: Stochastic Optimizer: Maximum iterations (100) reached and the optimization hasn't converged yet.\n",
            "  % self.max_iter, ConvergenceWarning)\n"
          ],
          "name": "stderr"
        },
        {
          "output_type": "execute_result",
          "data": {
            "text/plain": [
              "MLPClassifier(activation='tanh', alpha=0.0001, batch_size='auto', beta_1=0.9,\n",
              "              beta_2=0.999, early_stopping=False, epsilon=1e-08,\n",
              "              hidden_layer_sizes=(128, 128), learning_rate='adaptive',\n",
              "              learning_rate_init=0.001, max_fun=15000, max_iter=100,\n",
              "              momentum=0.9, n_iter_no_change=10, nesterovs_momentum=True,\n",
              "              power_t=0.5, random_state=None, shuffle=True, solver='sgd',\n",
              "              tol=0.0001, validation_fraction=0.1, verbose=True,\n",
              "              warm_start=False)"
            ]
          },
          "metadata": {
            "tags": []
          },
          "execution_count": 7
        }
      ]
    },
    {
      "cell_type": "code",
      "metadata": {
        "id": "-yVNR-zt1Yhw",
        "outputId": "79fcb69f-03d4-413b-9d2f-ba1dc9d8ed5d",
        "colab": {
          "base_uri": "https://localhost:8080/",
          "height": 35
        }
      },
      "source": [
        "np.unique(np.argmax(model.predict(X_test), axis=-1))"
      ],
      "execution_count": null,
      "outputs": [
        {
          "output_type": "execute_result",
          "data": {
            "text/plain": [
              "array([0])"
            ]
          },
          "metadata": {
            "tags": []
          },
          "execution_count": 23
        }
      ]
    },
    {
      "cell_type": "code",
      "metadata": {
        "id": "FDIrt_jAwY3R",
        "outputId": "5ffd3302-5d1b-41fd-da9c-e0ec50bdf507",
        "colab": {
          "base_uri": "https://localhost:8080/",
          "height": 571
        }
      },
      "source": [
        "y_pred = model.predict_classes(X_test)\n",
        "y_predtrain = model.predict_classes(X_train)\n",
        "y_predtime = model.predict_classes(timetest)\n",
        "print(confusion_matrix(y_test,y_pred))\n",
        "print(classification_report(y_test,y_pred))\n",
        "print(confusion_matrix(y_train,y_predtrain))\n",
        "print(classification_report(y_train,y_predtrain))\n",
        "print(confusion_matrix(y_timetest,y_predtime))\n",
        "print(classification_report(y_timetest,y_predtime))"
      ],
      "execution_count": null,
      "outputs": [
        {
          "output_type": "stream",
          "text": [
            "[[159117  89670]\n",
            " [ 21032  44629]]\n",
            "              precision    recall  f1-score   support\n",
            "\n",
            "           0       0.88      0.64      0.74    248787\n",
            "           1       0.33      0.68      0.45     65661\n",
            "\n",
            "    accuracy                           0.65    314448\n",
            "   macro avg       0.61      0.66      0.59    314448\n",
            "weighted avg       0.77      0.65      0.68    314448\n",
            "\n",
            "[[369847 209528]\n",
            " [ 48730 105607]]\n",
            "              precision    recall  f1-score   support\n",
            "\n",
            "           0       0.88      0.64      0.74    579375\n",
            "           1       0.34      0.68      0.45    154337\n",
            "\n",
            "    accuracy                           0.65    733712\n",
            "   macro avg       0.61      0.66      0.60    733712\n",
            "weighted avg       0.77      0.65      0.68    733712\n",
            "\n",
            "[[120585  84227]\n",
            " [ 21219  52072]]\n",
            "              precision    recall  f1-score   support\n",
            "\n",
            "           0       0.85      0.59      0.70    204812\n",
            "           1       0.38      0.71      0.50     73291\n",
            "\n",
            "    accuracy                           0.62    278103\n",
            "   macro avg       0.62      0.65      0.60    278103\n",
            "weighted avg       0.73      0.62      0.64    278103\n",
            "\n"
          ],
          "name": "stdout"
        }
      ]
    },
    {
      "cell_type": "code",
      "metadata": {
        "id": "q82e-rN3wfu-",
        "outputId": "3e4dc5bc-6338-4ff4-c2a1-f71af5591ef4",
        "colab": {
          "base_uri": "https://localhost:8080/",
          "height": 1000
        }
      },
      "source": [
        "fpr = dict()\n",
        "tpr = dict()\n",
        "roc_auc = dict()\n",
        "gini =0\n",
        "j=2\n",
        "y_predtrain=model.predict_proba(X_train)\n",
        "y_pred=model.predict_proba(X_test)\n",
        "y_predtime=model.predict_proba(timetest)\n",
        "drop_enc = OneHotEncoder().fit(pd.DataFrame(y_test))\n",
        "y_gini = drop_enc.transform(pd.DataFrame(y_test)).toarray()\n",
        "drop_enc = OneHotEncoder().fit(pd.DataFrame(y_timetest))\n",
        "y_ginitime = drop_enc.transform(pd.DataFrame(y_timetest)).toarray()\n",
        "drop_enc = OneHotEncoder().fit(pd.DataFrame(y_train))\n",
        "y_ginitrain = drop_enc.transform(pd.DataFrame(y_train)).toarray()\n",
        "for i in range(j):\n",
        "    fpr[i], tpr[i], _ = roc_curve(y_gini[:, i], y_pred[:, i])\n",
        "    roc_auc[i] = auc(fpr[i], tpr[i])\n",
        "    print(2*roc_auc[i]-1)\n",
        "for i in range(j):\n",
        "    plt.figure()\n",
        "    plt.plot(fpr[i], tpr[i], label='ROC curve (area = %0.2f)' % roc_auc[i])\n",
        "    plt.plot([0, 1], [0, 1], 'k--')\n",
        "    plt.xlim([0.0, 1.0])\n",
        "    plt.ylim([0.0, 1.05])\n",
        "    plt.xlabel('False Positive Rate')\n",
        "    plt.ylabel('True Positive Rate')\n",
        "    plt.title('Receiver operating characteristic example')\n",
        "    plt.legend(loc=\"lower right\")\n",
        "    plt.show()\n",
        "print(gini/j)\n",
        "gini=0\n",
        "for i in range(j):\n",
        "    fpr[i], tpr[i], _ = roc_curve(y_ginitime[:, i], y_predtime[:, i])\n",
        "    roc_auc[i] = auc(fpr[i], tpr[i])\n",
        "    print(2*roc_auc[i]-1)\n",
        "for i in range(j):\n",
        "    plt.figure()\n",
        "    plt.plot(fpr[i], tpr[i], label='ROC curve (area = %0.2f)' % roc_auc[i])\n",
        "    plt.plot([0, 1], [0, 1], 'k--')\n",
        "    plt.xlim([0.0, 1.0])\n",
        "    plt.ylim([0.0, 1.05])\n",
        "    plt.xlabel('False Positive Rate')\n",
        "    plt.ylabel('True Positive Rate')\n",
        "    plt.title('Receiver operating characteristic example')\n",
        "    plt.legend(loc=\"lower right\")\n",
        "    plt.show()\n",
        "print(gini/j)\n",
        "gini=0\n",
        "for i in range(j):\n",
        "    fpr[i], tpr[i], _ = roc_curve(y_ginitrain[:, i], y_predtrain[:, i])\n",
        "    roc_auc[i] = auc(fpr[i], tpr[i])\n",
        "    print(2*roc_auc[i]-1)\n",
        "for i in range(j):\n",
        "    plt.figure()\n",
        "    plt.plot(fpr[i], tpr[i], label='ROC curve (area = %0.2f)' % roc_auc[i])\n",
        "    plt.plot([0, 1], [0, 1], 'k--')\n",
        "    plt.xlim([0.0, 1.0])\n",
        "    plt.ylim([0.0, 1.05])\n",
        "    plt.xlabel('False Positive Rate')\n",
        "    plt.ylabel('True Positive Rate')\n",
        "    plt.title('Receiver operating characteristic example')\n",
        "    plt.legend(loc=\"lower right\")\n",
        "    plt.show()\n",
        "print(gini/j)"
      ],
      "execution_count": null,
      "outputs": [
        {
          "output_type": "stream",
          "text": [
            "0.36025876010983104\n",
            "0.4044660342979398\n"
          ],
          "name": "stdout"
        },
        {
          "output_type": "display_data",
          "data": {
            "image/png": "[encoded data removed]",
            "text/plain": [
              "<Figure size 432x288 with 1 Axes>"
            ]
          },
          "metadata": {
            "tags": [],
            "needs_background": "light"
          }
        },
        {
          "output_type": "display_data",
          "data": {
            "image/png": "[encoded data removed]",
            "text/plain": [
              "<Figure size 432x288 with 1 Axes>"
            ]
          },
          "metadata": {
            "tags": [],
            "needs_background": "light"
          }
        },
        {
          "output_type": "stream",
          "text": [
            "0.0\n",
            "0.35895823922495906\n",
            "0.3859437393463532\n"
          ],
          "name": "stdout"
        },
        {
          "output_type": "display_data",
          "data": {
            "image/png": "[encoded data removed]",
            "text/plain": [
              "<Figure size 432x288 with 1 Axes>"
            ]
          },
          "metadata": {
            "tags": [],
            "needs_background": "light"
          }
        },
        {
          "output_type": "display_data",
          "data": {
            "image/png": "[encoded data removed]",
            "text/plain": [
              "<Figure size 432x288 with 1 Axes>"
            ]
          },
          "metadata": {
            "tags": [],
            "needs_background": "light"
          }
        },
        {
          "output_type": "stream",
          "text": [
            "0.0\n",
            "0.3614732559849785\n",
            "0.4052732233898362\n"
          ],
          "name": "stdout"
        },
        {
          "output_type": "display_data",
          "data": {
            "image/png": "[encoded data removed]",
            "text/plain": [
              "<Figure size 432x288 with 1 Axes>"
            ]
          },
          "metadata": {
            "tags": [],
            "needs_background": "light"
          }
        },
        {
          "output_type": "display_data",
          "data": {
            "image/png": "[encoded data removed]",
            "text/plain": [
              "<Figure size 432x288 with 1 Axes>"
            ]
          },
          "metadata": {
            "tags": [],
            "needs_background": "light"
          }
        },
        {
          "output_type": "stream",
          "text": [
            "0.0\n"
          ],
          "name": "stdout"
        }
      ]
    },
    {
      "cell_type": "code",
      "metadata": {
        "id": "Hmbt1HvkPjsk",
        "cellView": "form"
      },
      "source": [
        "#@title PyTorch\n",
        "import torch\n",
        "import torch.nn as nn\n",
        "import torch.optim as optim\n",
        "from torch.utils.data import Dataset, DataLoader\n",
        "\n",
        "EPOCHS = 50\n",
        "#BATCH_SIZE = 64\n",
        "LEARNING_RATE = 0.001\n",
        "CLASSES=2\n",
        "\n",
        "## train data\n",
        "class trainData(Dataset):\n",
        "\n",
        "    def __init__(self, X_data, y_data):\n",
        "        self.X_data = X_data\n",
        "        self.y_data = y_data\n",
        "        \n",
        "    def __getitem__(self, index):\n",
        "        return self.X_data[index], self.y_data[index]\n",
        "        \n",
        "    def __len__ (self):\n",
        "        return len(self.X_data)\n",
        "\n",
        "\n",
        "train_data = trainData(torch.FloatTensor(X_train), \n",
        "                       #torch.nn.functional.one_hot(torch.IntTensor(np.array(y_train['target'])).to(torch.int64)))\n",
        "                       torch.LongTensor(np.array(y_train['target'])))\n",
        "## test data    \n",
        "class testData(Dataset):\n",
        "    \n",
        "    def __init__(self, X_data):\n",
        "        self.X_data = X_data\n",
        "        \n",
        "    def __getitem__(self, index):\n",
        "        return self.X_data[index]\n",
        "        \n",
        "    def __len__ (self):\n",
        "        return len(self.X_data)\n",
        "    \n",
        "\n",
        "test_data = testData(torch.FloatTensor(X_test))\n",
        "time_data = testData(torch.FloatTensor(timetest))\n",
        "\n",
        "train_loader = DataLoader(dataset=train_data, shuffle=True)\n",
        "test_loader = DataLoader(dataset=test_data)\n",
        "time_loader = DataLoader(dataset=time_data)\n",
        "\n",
        "device = torch.device(\"cuda:0\" if torch.cuda.is_available() else \"cpu\")\n",
        "print(device)\n",
        "\n",
        "class binaryClassification(nn.Module):\n",
        "    def __init__(self,input_dim=88,layer1=150,layer2=150,drp=0.2,output=2):\n",
        "        super().__init__() \n",
        "        self.net = nn.Sequential(\n",
        "            nn.Linear(input_dim,layer1),\n",
        "            nn.ReLU(),\n",
        "            nn.Dropout(drp),\n",
        "            nn.Linear(layer1,layer2),\n",
        "            nn.ReLU(),\n",
        "            nn.Dropout(drp),\n",
        "            nn.Linear(layer2,output)  \n",
        "          )       # Number of input features is 12.\n",
        "        #self.layer_1 = nn.Linear(88, 150) \n",
        "        #self.layer_2 = nn.Linear(150, 150)\n",
        "        #self.layer_out = nn.Linear(64, n_classes) \n",
        "        \n",
        "        #self.relu = nn.ReLU()\n",
        "        #self.dropout = nn.Dropout(p=0.1)\n",
        "        #self.batchnorm1 = nn.BatchNorm1d(64)\n",
        "        #self.batchnorm2 = nn.BatchNorm1d(64)\n",
        "        \n",
        "    def forward(self, inputs):\n",
        "        #x = self.relu(self.layer_1(inputs))\n",
        "        #x = self.batchnorm1(x)\n",
        "        #x = self.relu(self.layer_2(x))\n",
        "        #x = self.batchnorm2(x)\n",
        "        #x = self.dropout(x)\n",
        "        #x = self.layer_out(x)\n",
        "        x = self.net(inputs)\n",
        "\n",
        "        return x\n",
        "\n",
        "model = binaryClassification()\n",
        "model.to(device)\n",
        "\n",
        "print(model)\n",
        "\n",
        "criterion = nn.CrossEntropyLoss()\n",
        "optimizer = optim.Adam(model.parameters(),lr = LEARNING_RATE)\n",
        "\n",
        "def binary_acc(y_pred, y_test):\n",
        "    y_pred_tag = torch.round(torch.sigmoid(y_pred))\n",
        "\n",
        "    correct_results_sum = (y_pred_tag == y_test).sum().float()\n",
        "    acc = correct_results_sum/y_test.shape[0]\n",
        "    acc = torch.round(acc * 100)\n",
        "    \n",
        "    return acc\n",
        "\n",
        "model.train()\n",
        "for e in range(1, EPOCHS+1):\n",
        "    epoch_loss = 0\n",
        "    epoch_acc = 0\n",
        "    for X_batch, y_batch in train_loader:\n",
        "        X_batch, y_batch = X_batch.to(device), y_batch.to(device)\n",
        "        optimizer.zero_grad()\n",
        "        \n",
        "        y_pred = model(X_batch)\n",
        "        \n",
        "        loss = criterion(y_pred, y_batch)\n",
        "        acc = binary_acc(y_pred, y_batch)\n",
        "        \n",
        "        loss.backward()\n",
        "        optimizer.step()\n",
        "        \n",
        "        epoch_loss += loss.item()\n",
        "        epoch_acc += acc.item()\n",
        "        \n",
        "    print(f'Epoch {e+0:03}: | Loss: {epoch_loss/len(train_loader):.5f} | Acc: {epoch_acc/len(train_loader):.3f}')\n",
        "model.eval()"
      ],
      "execution_count": null,
      "outputs": []
    },
    {
      "cell_type": "code",
      "metadata": {
        "id": "sAO296oZLAbF",
        "outputId": "59ce530c-98d8-4b14-aa95-4a88fe053d00",
        "colab": {
          "base_uri": "https://localhost:8080/",
          "height": 544
        }
      },
      "source": [
        "!pip install keras-tuner"
      ],
      "execution_count": null,
      "outputs": [
        {
          "output_type": "stream",
          "text": [
            "Collecting keras-tuner\n",
            "\u001b[?25l  Downloading https://files.pythonhosted.org/packages/a7/f7/4b41b6832abf4c9bef71a664dc563adb25afc5812831667c6db572b1a261/keras-tuner-1.0.1.tar.gz (54kB)\n",
            "\r\u001b[K     |██████                          | 10kB 16.6MB/s eta 0:00:01\r\u001b[K     |████████████                    | 20kB 2.2MB/s eta 0:00:01\r\u001b[K     |██████████████████              | 30kB 2.8MB/s eta 0:00:01\r\u001b[K     |████████████████████████        | 40kB 3.1MB/s eta 0:00:01\r\u001b[K     |██████████████████████████████  | 51kB 2.5MB/s eta 0:00:01\r\u001b[K     |████████████████████████████████| 61kB 2.2MB/s \n",
            "\u001b[?25hRequirement already satisfied: future in /usr/local/lib/python3.6/dist-packages (from keras-tuner) (0.16.0)\n",
            "Requirement already satisfied: numpy in /usr/local/lib/python3.6/dist-packages (from keras-tuner) (1.18.5)\n",
            "Requirement already satisfied: tabulate in /usr/local/lib/python3.6/dist-packages (from keras-tuner) (0.8.7)\n",
            "Collecting terminaltables\n",
            "  Downloading https://files.pythonhosted.org/packages/9b/c4/4a21174f32f8a7e1104798c445dacdc1d4df86f2f26722767034e4de4bff/terminaltables-3.1.0.tar.gz\n",
            "Collecting colorama\n",
            "  Downloading https://files.pythonhosted.org/packages/c9/dc/45cdef1b4d119eb96316b3117e6d5708a08029992b2fee2c143c7a0a5cc5/colorama-0.4.3-py2.py3-none-any.whl\n",
            "Requirement already satisfied: tqdm in /usr/local/lib/python3.6/dist-packages (from keras-tuner) (4.41.1)\n",
            "Requirement already satisfied: requests in /usr/local/lib/python3.6/dist-packages (from keras-tuner) (2.23.0)\n",
            "Requirement already satisfied: scipy in /usr/local/lib/python3.6/dist-packages (from keras-tuner) (1.4.1)\n",
            "Requirement already satisfied: scikit-learn in /usr/local/lib/python3.6/dist-packages (from keras-tuner) (0.22.2.post1)\n",
            "Requirement already satisfied: certifi>=2017.4.17 in /usr/local/lib/python3.6/dist-packages (from requests->keras-tuner) (2020.6.20)\n",
            "Requirement already satisfied: idna<3,>=2.5 in /usr/local/lib/python3.6/dist-packages (from requests->keras-tuner) (2.9)\n",
            "Requirement already satisfied: chardet<4,>=3.0.2 in /usr/local/lib/python3.6/dist-packages (from requests->keras-tuner) (3.0.4)\n",
            "Requirement already satisfied: urllib3!=1.25.0,!=1.25.1,<1.26,>=1.21.1 in /usr/local/lib/python3.6/dist-packages (from requests->keras-tuner) (1.24.3)\n",
            "Requirement already satisfied: joblib>=0.11 in /usr/local/lib/python3.6/dist-packages (from scikit-learn->keras-tuner) (0.15.1)\n",
            "Building wheels for collected packages: keras-tuner, terminaltables\n",
            "  Building wheel for keras-tuner (setup.py) ... \u001b[?25l\u001b[?25hdone\n",
            "  Created wheel for keras-tuner: filename=keras_tuner-1.0.1-cp36-none-any.whl size=73200 sha256=e598a0ad0f18cd6849efae1a48a72bd48f0f93e95a748b9d1bd2e950db3e4fc6\n",
            "  Stored in directory: /root/.cache/pip/wheels/b9/cc/62/52716b70dd90f3db12519233c3a93a5360bc672da1a10ded43\n",
            "  Building wheel for terminaltables (setup.py) ... \u001b[?25l\u001b[?25hdone\n",
            "  Created wheel for terminaltables: filename=terminaltables-3.1.0-cp36-none-any.whl size=15356 sha256=bc2b0c1a30349c9c707d3c03f1ab02a99713624f48d49537bfd28ab4c1ea07d0\n",
            "  Stored in directory: /root/.cache/pip/wheels/30/6b/50/6c75775b681fb36cdfac7f19799888ef9d8813aff9e379663e\n",
            "Successfully built keras-tuner terminaltables\n",
            "Installing collected packages: terminaltables, colorama, keras-tuner\n",
            "Successfully installed colorama-0.4.3 keras-tuner-1.0.1 terminaltables-3.1.0\n"
          ],
          "name": "stdout"
        }
      ]
    },
    {
      "cell_type": "code",
      "metadata": {
        "id": "MqHE2-QTwD9e",
        "outputId": "087ed351-bf2d-4692-8cf2-eed1881fe237",
        "colab": {
          "base_uri": "https://localhost:8080/",
          "height": 72
        }
      },
      "source": [
        "!pip install -q keras-tuner"
      ],
      "execution_count": null,
      "outputs": [
        {
          "output_type": "stream",
          "text": [
            "\u001b[?25l\r\u001b[K     |██████                          | 10kB 26.9MB/s eta 0:00:01\r\u001b[K     |████████████                    | 20kB 1.9MB/s eta 0:00:01\r\u001b[K     |██████████████████              | 30kB 2.2MB/s eta 0:00:01\r\u001b[K     |████████████████████████        | 40kB 2.5MB/s eta 0:00:01\r\u001b[K     |██████████████████████████████  | 51kB 2.3MB/s eta 0:00:01\r\u001b[K     |████████████████████████████████| 61kB 2.1MB/s \n",
            "\u001b[?25h  Building wheel for keras-tuner (setup.py) ... \u001b[?25l\u001b[?25hdone\n",
            "  Building wheel for terminaltables (setup.py) ... \u001b[?25l\u001b[?25hdone\n"
          ],
          "name": "stdout"
        }
      ]
    },
    {
      "cell_type": "code",
      "metadata": {
        "id": "oWbmOUMAzTl7"
      },
      "source": [
        "# define the keras model\n",
        "model = Sequential()\n",
        "model.add(Dense(512, input_dim=88, activation='tanh'))\n",
        "model.add(Dropout(0.1))\n",
        "model.add(Dense(256, activation='tanh'))\n",
        "model.add(Dropout(0.1))\n",
        "model.add(Dense(3, activation='softmax'))"
      ],
      "execution_count": null,
      "outputs": []
    },
    {
      "cell_type": "code",
      "metadata": {
        "id": "NDaWQNRoLr7N",
        "cellView": "form"
      },
      "source": [
        "#@title Default title text\n",
        "def tune_nn_model(hp):\n",
        "    model = keras.Sequential()\n",
        "    \n",
        "    activation = hp.Choice('activation',['softmax','softplus','softsign','relu','tanh','sigmoid','hard_sigmoid','linear'])\n",
        "\n",
        "    model.add(keras.layers.Dense(units=128,\n",
        "                                 activation=\"relu\",\n",
        "                                 input_shape=[X_train.shape[1]]))\n",
        "\n",
        "    for i in range(hp.Int('num_layers', 1, 6)):\n",
        "\n",
        "      units = hp.Int(\n",
        "          'units_' + str(i),\n",
        "\n",
        "          min_value=64,\n",
        "\n",
        "          max_value=512,\n",
        "\n",
        "          step=64\n",
        "\n",
        "      )\n",
        "\n",
        "      model.add(keras.layers.Dense(units=units, activation='relu'))\n",
        "\n",
        "      drop_rate = hp.Choice('drop_rate_' + str(i),\n",
        "\n",
        "                            [0.0, 0.1, 0.2, 0.3, 0.4,\n",
        "                              0.5, 0.6, 0.7, 0.8, 0.9\n",
        "                            ])\n",
        "\n",
        "      model.add(keras.layers.Dropout(rate=drop_rate))\n",
        "\n",
        "    model.add(keras.layers.Dense(1, activation='sigmoid'))\n",
        "\n",
        "    model.compile(\n",
        "\n",
        "        optimizer=\"adam\",\n",
        "\n",
        "        loss = 'binary_crossentropy',\n",
        "\n",
        "        metrics = ['accuracy'])\n",
        "\n",
        "    return model"
      ],
      "execution_count": null,
      "outputs": []
    },
    {
      "cell_type": "code",
      "metadata": {
        "id": "jS0etJzwZzD1"
      },
      "source": [
        "def auroc(y_true, y_pred):\n",
        "    return tensorflow.py_function(calc_gini, (y_true, y_pred), tensorflow.double)"
      ],
      "execution_count": null,
      "outputs": []
    },
    {
      "cell_type": "code",
      "metadata": {
        "id": "Vt49jAe2D5sk"
      },
      "source": [
        "def calc_gini(y,y_p,j=2):\n",
        "  gini ={}\n",
        "  fpr={}\n",
        "  tpr={}\n",
        "  roc_auc={}\n",
        "  g=0\n",
        "  if j==1:\n",
        "    fpr, tpr, _ = roc_curve(y, y_p)\n",
        "    roc_auc = auc(fpr, tpr)\n",
        "    gini=2*roc_auc-1 \n",
        "  else:\n",
        "    y_g = OneHotEncoder().fit_transform(pd.DataFrame(y)).toarray()\n",
        "    for i in range(j):\n",
        "      fpr[i], tpr[i], _ = roc_curve(y_g[:, i], y_p[:, i])\n",
        "      roc_auc[i] = auc(fpr[i], tpr[i])\n",
        "      gini[i]=2*roc_auc[i]-1   \n",
        "  gc.collect()\n",
        "  return gini"
      ],
      "execution_count": null,
      "outputs": []
    },
    {
      "cell_type": "code",
      "metadata": {
        "id": "2d1IBpcI2z20",
        "outputId": "891c0e56-3eb6-4dff-eacd-6da254e4ff2a",
        "colab": {
          "base_uri": "https://localhost:8080/",
          "height": 182
        }
      },
      "source": [
        "tuner_bo.get_best_models(num_models=1)[0]"
      ],
      "execution_count": null,
      "outputs": [
        {
          "output_type": "stream",
          "text": [
            "WARNING:tensorflow:Unresolved object in checkpoint: (root).optimizer.iter\n",
            "WARNING:tensorflow:Unresolved object in checkpoint: (root).optimizer.beta_1\n",
            "WARNING:tensorflow:Unresolved object in checkpoint: (root).optimizer.beta_2\n",
            "WARNING:tensorflow:Unresolved object in checkpoint: (root).optimizer.decay\n",
            "WARNING:tensorflow:Unresolved object in checkpoint: (root).optimizer.learning_rate\n",
            "WARNING:tensorflow:Unresolved object in checkpoint: (root).optimizer.momentum_cache\n",
            "WARNING:tensorflow:A checkpoint was restored (e.g. tf.train.Checkpoint.restore or tf.keras.Model.load_weights) but not all checkpointed values were used. See above for specific issues. Use expect_partial() on the load status object, e.g. tf.train.Checkpoint.restore(...).expect_partial(), to silence these warnings, or use assert_consumed() to make the check explicit. See https://www.tensorflow.org/guide/checkpoint#loading_mechanics for details.\n"
          ],
          "name": "stdout"
        },
        {
          "output_type": "execute_result",
          "data": {
            "text/plain": [
              "<tensorflow.python.keras.engine.sequential.Sequential at 0x7f9295ca2240>"
            ]
          },
          "metadata": {
            "tags": []
          },
          "execution_count": 214
        }
      ]
    },
    {
      "cell_type": "code",
      "metadata": {
        "id": "miyfdq_DzpK3"
      },
      "source": [
        "lr_schedule = keras.optimizers.schedules.ExponentialDecay(\n",
        "    initial_learning_rate=1e-6,\n",
        "    decay_steps=10000,\n",
        "    decay_rate=0.9)\n",
        "sgd = keras.optimizers.Adagrad(learning_rate=lr_schedule)\n",
        "\n",
        "model.compile(loss='categorical_crossentropy', optimizer=sgd, metrics=[keras.metrics.AUC()])"
      ],
      "execution_count": null,
      "outputs": []
    },
    {
      "cell_type": "code",
      "metadata": {
        "id": "122g2JBg2V1c",
        "outputId": "e3ffba7e-c55a-4334-8eca-ce8faa86155a",
        "colab": {
          "base_uri": "https://localhost:8080/",
          "height": 35
        }
      },
      "source": [
        "np.unique(y_train)"
      ],
      "execution_count": null,
      "outputs": [
        {
          "output_type": "execute_result",
          "data": {
            "text/plain": [
              "array([0, 1, 2])"
            ]
          },
          "metadata": {
            "tags": []
          },
          "execution_count": 27
        }
      ]
    },
    {
      "cell_type": "code",
      "metadata": {
        "id": "El3_dm5t0yJV"
      },
      "source": [
        "from sklearn.utils import class_weight\n",
        "class_weights = class_weight.compute_class_weight('balanced',np.unique(y_train),y_train.target)"
      ],
      "execution_count": null,
      "outputs": []
    },
    {
      "cell_type": "code",
      "metadata": {
        "id": "WoEuD2tZ2m6H",
        "outputId": "e5d5fd72-4104-41f0-b0dc-dd02785deb92",
        "colab": {
          "base_uri": "https://localhost:8080/",
          "height": 35
        }
      },
      "source": [
        "dict(zip(np.unique(y_train),class_weights))"
      ],
      "execution_count": null,
      "outputs": [
        {
          "output_type": "execute_result",
          "data": {
            "text/plain": [
              "{0: 0.4221284430061129, 1: 3.2039545506152787, 2: 3.1354007751838604}"
            ]
          },
          "metadata": {
            "tags": []
          },
          "execution_count": 37
        }
      ]
    },
    {
      "cell_type": "code",
      "metadata": {
        "id": "zZX_1CXTzsx_",
        "outputId": "5faf7a05-40c2-4686-ac46-582c037262f9",
        "colab": {
          "base_uri": "https://localhost:8080/",
          "height": 1000
        }
      },
      "source": [
        "model.fit(X_train, np_utils.to_categorical(y_train), epochs=200, batch_size=2048,class_weight=dict(zip(np.unique(y_train),class_weights)))"
      ],
      "execution_count": null,
      "outputs": [
        {
          "output_type": "stream",
          "text": [
            "Epoch 1/200\n",
            "359/359 [==============================] - 4s 12ms/step - loss: 1.2037 - auc_1: 0.4959\n",
            "Epoch 2/200\n",
            "359/359 [==============================] - 4s 12ms/step - loss: 1.2029 - auc_1: 0.4963\n",
            "Epoch 3/200\n",
            "359/359 [==============================] - 4s 12ms/step - loss: 1.2019 - auc_1: 0.4960\n",
            "Epoch 4/200\n",
            "359/359 [==============================] - 4s 12ms/step - loss: 1.2015 - auc_1: 0.4959\n",
            "Epoch 5/200\n",
            "359/359 [==============================] - 4s 12ms/step - loss: 1.2002 - auc_1: 0.4965\n",
            "Epoch 6/200\n",
            "359/359 [==============================] - 4s 12ms/step - loss: 1.2005 - auc_1: 0.4968\n",
            "Epoch 7/200\n",
            "359/359 [==============================] - 4s 12ms/step - loss: 1.1993 - auc_1: 0.4974\n",
            "Epoch 8/200\n",
            "359/359 [==============================] - 4s 12ms/step - loss: 1.1989 - auc_1: 0.4974\n",
            "Epoch 9/200\n",
            "359/359 [==============================] - 4s 12ms/step - loss: 1.1974 - auc_1: 0.4981\n",
            "Epoch 10/200\n",
            "359/359 [==============================] - 4s 12ms/step - loss: 1.1979 - auc_1: 0.4978\n",
            "Epoch 11/200\n",
            "359/359 [==============================] - 4s 12ms/step - loss: 1.1978 - auc_1: 0.4981\n",
            "Epoch 12/200\n",
            "359/359 [==============================] - 4s 12ms/step - loss: 1.1967 - auc_1: 0.4983\n",
            "Epoch 13/200\n",
            "359/359 [==============================] - 4s 12ms/step - loss: 1.1960 - auc_1: 0.4983\n",
            "Epoch 14/200\n",
            "359/359 [==============================] - 4s 12ms/step - loss: 1.1962 - auc_1: 0.4984\n",
            "Epoch 15/200\n",
            "359/359 [==============================] - 5s 13ms/step - loss: 1.1963 - auc_1: 0.4985\n",
            "Epoch 16/200\n",
            "359/359 [==============================] - 5s 13ms/step - loss: 1.1939 - auc_1: 0.4992\n",
            "Epoch 17/200\n",
            "359/359 [==============================] - 5s 13ms/step - loss: 1.1946 - auc_1: 0.4988\n",
            "Epoch 18/200\n",
            "359/359 [==============================] - 5s 13ms/step - loss: 1.1938 - auc_1: 0.4994\n",
            "Epoch 19/200\n",
            "359/359 [==============================] - 5s 13ms/step - loss: 1.1939 - auc_1: 0.4995\n",
            "Epoch 20/200\n",
            "359/359 [==============================] - 5s 13ms/step - loss: 1.1929 - auc_1: 0.5000\n",
            "Epoch 21/200\n",
            "359/359 [==============================] - 4s 12ms/step - loss: 1.1931 - auc_1: 0.4996\n",
            "Epoch 22/200\n",
            "359/359 [==============================] - 4s 12ms/step - loss: 1.1918 - auc_1: 0.5003\n",
            "Epoch 23/200\n",
            "359/359 [==============================] - 4s 12ms/step - loss: 1.1903 - auc_1: 0.5004\n",
            "Epoch 24/200\n",
            "359/359 [==============================] - 4s 12ms/step - loss: 1.1912 - auc_1: 0.5004\n",
            "Epoch 25/200\n",
            "359/359 [==============================] - 5s 13ms/step - loss: 1.1911 - auc_1: 0.5004\n",
            "Epoch 26/200\n",
            "359/359 [==============================] - 4s 13ms/step - loss: 1.1903 - auc_1: 0.5004\n",
            "Epoch 27/200\n",
            "359/359 [==============================] - 4s 12ms/step - loss: 1.1892 - auc_1: 0.5013\n",
            "Epoch 28/200\n",
            "359/359 [==============================] - 4s 12ms/step - loss: 1.1901 - auc_1: 0.5011\n",
            "Epoch 29/200\n",
            "359/359 [==============================] - 4s 13ms/step - loss: 1.1894 - auc_1: 0.5012\n",
            "Epoch 30/200\n",
            "359/359 [==============================] - 4s 12ms/step - loss: 1.1895 - auc_1: 0.5009\n",
            "Epoch 31/200\n",
            "359/359 [==============================] - 4s 12ms/step - loss: 1.1883 - auc_1: 0.5016\n",
            "Epoch 32/200\n",
            "359/359 [==============================] - 4s 12ms/step - loss: 1.1888 - auc_1: 0.5015\n",
            "Epoch 33/200\n",
            "359/359 [==============================] - 4s 12ms/step - loss: 1.1883 - auc_1: 0.5017\n",
            "Epoch 34/200\n",
            "359/359 [==============================] - 4s 12ms/step - loss: 1.1879 - auc_1: 0.5015\n",
            "Epoch 35/200\n",
            "359/359 [==============================] - 4s 12ms/step - loss: 1.1868 - auc_1: 0.5023\n",
            "Epoch 36/200\n",
            "359/359 [==============================] - 4s 12ms/step - loss: 1.1869 - auc_1: 0.5020\n",
            "Epoch 37/200\n",
            "359/359 [==============================] - 4s 12ms/step - loss: 1.1868 - auc_1: 0.5021\n",
            "Epoch 38/200\n",
            "359/359 [==============================] - 4s 12ms/step - loss: 1.1868 - auc_1: 0.5020\n",
            "Epoch 39/200\n",
            "359/359 [==============================] - 4s 12ms/step - loss: 1.1858 - auc_1: 0.5024\n",
            "Epoch 40/200\n",
            "359/359 [==============================] - 4s 12ms/step - loss: 1.1860 - auc_1: 0.5025\n",
            "Epoch 41/200\n",
            "359/359 [==============================] - 4s 12ms/step - loss: 1.1855 - auc_1: 0.5029\n",
            "Epoch 42/200\n",
            "359/359 [==============================] - 4s 12ms/step - loss: 1.1854 - auc_1: 0.5031\n",
            "Epoch 43/200\n",
            "359/359 [==============================] - 4s 12ms/step - loss: 1.1836 - auc_1: 0.5037\n",
            "Epoch 44/200\n",
            "359/359 [==============================] - 4s 12ms/step - loss: 1.1843 - auc_1: 0.5033\n",
            "Epoch 45/200\n",
            "359/359 [==============================] - 4s 12ms/step - loss: 1.1839 - auc_1: 0.5034\n",
            "Epoch 46/200\n",
            "359/359 [==============================] - 4s 12ms/step - loss: 1.1840 - auc_1: 0.5033\n",
            "Epoch 47/200\n",
            "359/359 [==============================] - 4s 12ms/step - loss: 1.1838 - auc_1: 0.5035\n",
            "Epoch 48/200\n",
            "359/359 [==============================] - 4s 12ms/step - loss: 1.1832 - auc_1: 0.5039\n",
            "Epoch 49/200\n",
            "359/359 [==============================] - 4s 12ms/step - loss: 1.1830 - auc_1: 0.5041\n",
            "Epoch 50/200\n",
            "359/359 [==============================] - 4s 12ms/step - loss: 1.1826 - auc_1: 0.5038\n",
            "Epoch 51/200\n",
            "359/359 [==============================] - 5s 13ms/step - loss: 1.1827 - auc_1: 0.5039\n",
            "Epoch 52/200\n",
            "359/359 [==============================] - 4s 12ms/step - loss: 1.1818 - auc_1: 0.5044\n",
            "Epoch 53/200\n",
            "359/359 [==============================] - 4s 12ms/step - loss: 1.1820 - auc_1: 0.5043\n",
            "Epoch 54/200\n",
            "359/359 [==============================] - 4s 12ms/step - loss: 1.1821 - auc_1: 0.5044\n",
            "Epoch 55/200\n",
            "359/359 [==============================] - 4s 12ms/step - loss: 1.1815 - auc_1: 0.5043\n",
            "Epoch 56/200\n",
            "359/359 [==============================] - 4s 12ms/step - loss: 1.1811 - auc_1: 0.5046\n",
            "Epoch 57/200\n",
            "359/359 [==============================] - 4s 12ms/step - loss: 1.1802 - auc_1: 0.5049\n",
            "Epoch 58/200\n",
            "359/359 [==============================] - 4s 12ms/step - loss: 1.1809 - auc_1: 0.5049\n",
            "Epoch 59/200\n",
            "359/359 [==============================] - 4s 12ms/step - loss: 1.1798 - auc_1: 0.5054\n",
            "Epoch 60/200\n",
            "359/359 [==============================] - 4s 12ms/step - loss: 1.1801 - auc_1: 0.5052\n",
            "Epoch 61/200\n",
            "359/359 [==============================] - 5s 15ms/step - loss: 1.1799 - auc_1: 0.5053\n",
            "Epoch 62/200\n",
            "359/359 [==============================] - 6s 15ms/step - loss: 1.1794 - auc_1: 0.5054\n",
            "Epoch 63/200\n",
            "359/359 [==============================] - 5s 15ms/step - loss: 1.1791 - auc_1: 0.5055\n",
            "Epoch 64/200\n",
            "359/359 [==============================] - 5s 13ms/step - loss: 1.1789 - auc_1: 0.5058\n",
            "Epoch 65/200\n",
            "359/359 [==============================] - 4s 12ms/step - loss: 1.1789 - auc_1: 0.5060\n",
            "Epoch 66/200\n",
            "359/359 [==============================] - 4s 12ms/step - loss: 1.1781 - auc_1: 0.5062\n",
            "Epoch 67/200\n",
            "359/359 [==============================] - 4s 12ms/step - loss: 1.1786 - auc_1: 0.5061\n",
            "Epoch 68/200\n",
            "359/359 [==============================] - 4s 12ms/step - loss: 1.1774 - auc_1: 0.5067\n",
            "Epoch 69/200\n",
            "359/359 [==============================] - 4s 12ms/step - loss: 1.1776 - auc_1: 0.5061\n",
            "Epoch 70/200\n",
            "359/359 [==============================] - 4s 12ms/step - loss: 1.1780 - auc_1: 0.5064\n",
            "Epoch 71/200\n",
            "359/359 [==============================] - 4s 12ms/step - loss: 1.1776 - auc_1: 0.5059\n",
            "Epoch 72/200\n",
            "359/359 [==============================] - 4s 12ms/step - loss: 1.1770 - auc_1: 0.5068\n",
            "Epoch 73/200\n",
            "359/359 [==============================] - 4s 12ms/step - loss: 1.1774 - auc_1: 0.5067\n",
            "Epoch 74/200\n",
            "359/359 [==============================] - 4s 12ms/step - loss: 1.1769 - auc_1: 0.5065\n",
            "Epoch 75/200\n",
            "359/359 [==============================] - 4s 12ms/step - loss: 1.1774 - auc_1: 0.5063\n",
            "Epoch 76/200\n",
            "359/359 [==============================] - 4s 12ms/step - loss: 1.1762 - auc_1: 0.5069\n",
            "Epoch 77/200\n",
            "359/359 [==============================] - 4s 12ms/step - loss: 1.1765 - auc_1: 0.5070\n",
            "Epoch 78/200\n",
            "359/359 [==============================] - 4s 12ms/step - loss: 1.1764 - auc_1: 0.5068\n",
            "Epoch 79/200\n",
            "359/359 [==============================] - 4s 12ms/step - loss: 1.1763 - auc_1: 0.5069\n",
            "Epoch 80/200\n",
            "359/359 [==============================] - 5s 13ms/step - loss: 1.1756 - auc_1: 0.5071\n",
            "Epoch 81/200\n",
            "359/359 [==============================] - 4s 12ms/step - loss: 1.1754 - auc_1: 0.5075\n",
            "Epoch 82/200\n",
            "359/359 [==============================] - 4s 12ms/step - loss: 1.1757 - auc_1: 0.5072\n",
            "Epoch 83/200\n",
            "359/359 [==============================] - 4s 12ms/step - loss: 1.1754 - auc_1: 0.5074\n",
            "Epoch 84/200\n",
            "359/359 [==============================] - 4s 12ms/step - loss: 1.1750 - auc_1: 0.5076\n",
            "Epoch 85/200\n",
            "359/359 [==============================] - 4s 12ms/step - loss: 1.1750 - auc_1: 0.5076\n",
            "Epoch 86/200\n",
            "359/359 [==============================] - 4s 12ms/step - loss: 1.1748 - auc_1: 0.5074\n",
            "Epoch 87/200\n",
            "359/359 [==============================] - 4s 12ms/step - loss: 1.1745 - auc_1: 0.5080\n",
            "Epoch 88/200\n",
            "359/359 [==============================] - 4s 12ms/step - loss: 1.1742 - auc_1: 0.5081\n",
            "Epoch 89/200\n",
            "359/359 [==============================] - 4s 12ms/step - loss: 1.1749 - auc_1: 0.5077\n",
            "Epoch 90/200\n",
            "359/359 [==============================] - 4s 12ms/step - loss: 1.1746 - auc_1: 0.5079\n",
            "Epoch 91/200\n",
            "359/359 [==============================] - 4s 12ms/step - loss: 1.1739 - auc_1: 0.5083\n",
            "Epoch 92/200\n",
            "359/359 [==============================] - 4s 12ms/step - loss: 1.1737 - auc_1: 0.5083\n",
            "Epoch 93/200\n",
            "359/359 [==============================] - 4s 12ms/step - loss: 1.1739 - auc_1: 0.5083\n",
            "Epoch 94/200\n",
            "359/359 [==============================] - 4s 12ms/step - loss: 1.1728 - auc_1: 0.5090\n",
            "Epoch 95/200\n",
            "359/359 [==============================] - 4s 12ms/step - loss: 1.1736 - auc_1: 0.5086\n",
            "Epoch 96/200\n",
            "359/359 [==============================] - 4s 12ms/step - loss: 1.1731 - auc_1: 0.5085\n",
            "Epoch 97/200\n",
            "359/359 [==============================] - 4s 12ms/step - loss: 1.1726 - auc_1: 0.5087\n",
            "Epoch 98/200\n",
            "359/359 [==============================] - 4s 12ms/step - loss: 1.1728 - auc_1: 0.5086\n",
            "Epoch 99/200\n",
            "359/359 [==============================] - 4s 12ms/step - loss: 1.1722 - auc_1: 0.5092\n",
            "Epoch 100/200\n",
            "359/359 [==============================] - 4s 12ms/step - loss: 1.1727 - auc_1: 0.5085\n",
            "Epoch 101/200\n",
            "359/359 [==============================] - 4s 12ms/step - loss: 1.1727 - auc_1: 0.5085\n",
            "Epoch 102/200\n",
            "359/359 [==============================] - 4s 12ms/step - loss: 1.1719 - auc_1: 0.5089\n",
            "Epoch 103/200\n",
            "359/359 [==============================] - 4s 12ms/step - loss: 1.1718 - auc_1: 0.5092\n",
            "Epoch 104/200\n",
            "359/359 [==============================] - 4s 12ms/step - loss: 1.1717 - auc_1: 0.5091\n",
            "Epoch 105/200\n",
            "359/359 [==============================] - 4s 12ms/step - loss: 1.1719 - auc_1: 0.5092\n",
            "Epoch 106/200\n",
            "359/359 [==============================] - 4s 12ms/step - loss: 1.1714 - auc_1: 0.5094\n",
            "Epoch 107/200\n",
            "359/359 [==============================] - 4s 12ms/step - loss: 1.1717 - auc_1: 0.5092\n",
            "Epoch 108/200\n",
            "359/359 [==============================] - 4s 12ms/step - loss: 1.1712 - auc_1: 0.5096\n",
            "Epoch 109/200\n",
            "359/359 [==============================] - 4s 12ms/step - loss: 1.1704 - auc_1: 0.5102\n",
            "Epoch 110/200\n",
            "359/359 [==============================] - 4s 12ms/step - loss: 1.1716 - auc_1: 0.5093\n",
            "Epoch 111/200\n",
            "359/359 [==============================] - 4s 12ms/step - loss: 1.1707 - auc_1: 0.5098\n",
            "Epoch 112/200\n",
            "359/359 [==============================] - 4s 12ms/step - loss: 1.1708 - auc_1: 0.5096\n",
            "Epoch 113/200\n",
            "359/359 [==============================] - 4s 12ms/step - loss: 1.1709 - auc_1: 0.5097\n",
            "Epoch 114/200\n",
            "359/359 [==============================] - 4s 12ms/step - loss: 1.1702 - auc_1: 0.5100\n",
            "Epoch 115/200\n",
            "359/359 [==============================] - 4s 12ms/step - loss: 1.1708 - auc_1: 0.5100\n",
            "Epoch 116/200\n",
            "359/359 [==============================] - 4s 12ms/step - loss: 1.1703 - auc_1: 0.5094\n",
            "Epoch 117/200\n",
            "359/359 [==============================] - 4s 12ms/step - loss: 1.1695 - auc_1: 0.5102\n",
            "Epoch 118/200\n",
            "359/359 [==============================] - 4s 12ms/step - loss: 1.1697 - auc_1: 0.5103\n",
            "Epoch 119/200\n",
            "359/359 [==============================] - 4s 12ms/step - loss: 1.1698 - auc_1: 0.5102\n",
            "Epoch 120/200\n",
            "359/359 [==============================] - 4s 12ms/step - loss: 1.1692 - auc_1: 0.5104\n",
            "Epoch 121/200\n",
            "359/359 [==============================] - 4s 12ms/step - loss: 1.1697 - auc_1: 0.5103\n",
            "Epoch 122/200\n",
            "359/359 [==============================] - 4s 12ms/step - loss: 1.1694 - auc_1: 0.5105\n",
            "Epoch 123/200\n",
            "359/359 [==============================] - 4s 12ms/step - loss: 1.1696 - auc_1: 0.5103\n",
            "Epoch 124/200\n",
            "359/359 [==============================] - 4s 12ms/step - loss: 1.1690 - auc_1: 0.5104\n",
            "Epoch 125/200\n",
            "359/359 [==============================] - 4s 12ms/step - loss: 1.1691 - auc_1: 0.5105\n",
            "Epoch 126/200\n",
            "359/359 [==============================] - 4s 12ms/step - loss: 1.1688 - auc_1: 0.5106\n",
            "Epoch 127/200\n",
            "359/359 [==============================] - 4s 12ms/step - loss: 1.1690 - auc_1: 0.5105\n",
            "Epoch 128/200\n",
            "359/359 [==============================] - 4s 12ms/step - loss: 1.1694 - auc_1: 0.5102\n",
            "Epoch 129/200\n",
            "359/359 [==============================] - 4s 12ms/step - loss: 1.1685 - auc_1: 0.5110\n",
            "Epoch 130/200\n",
            "359/359 [==============================] - 4s 12ms/step - loss: 1.1690 - auc_1: 0.5106\n",
            "Epoch 131/200\n",
            "359/359 [==============================] - 5s 13ms/step - loss: 1.1688 - auc_1: 0.5105\n",
            "Epoch 132/200\n",
            "359/359 [==============================] - 6s 16ms/step - loss: 1.1688 - auc_1: 0.5107\n",
            "Epoch 133/200\n",
            "359/359 [==============================] - 5s 14ms/step - loss: 1.1687 - auc_1: 0.5103\n",
            "Epoch 134/200\n",
            "359/359 [==============================] - 4s 12ms/step - loss: 1.1690 - auc_1: 0.5108\n",
            "Epoch 135/200\n",
            "359/359 [==============================] - 4s 12ms/step - loss: 1.1679 - auc_1: 0.5110\n",
            "Epoch 136/200\n",
            "359/359 [==============================] - 4s 12ms/step - loss: 1.1679 - auc_1: 0.5111\n",
            "Epoch 137/200\n",
            "359/359 [==============================] - 4s 12ms/step - loss: 1.1677 - auc_1: 0.5114\n",
            "Epoch 138/200\n",
            "359/359 [==============================] - 4s 12ms/step - loss: 1.1682 - auc_1: 0.5106\n",
            "Epoch 139/200\n",
            "359/359 [==============================] - 4s 12ms/step - loss: 1.1679 - auc_1: 0.5112\n",
            "Epoch 140/200\n",
            "359/359 [==============================] - 4s 12ms/step - loss: 1.1676 - auc_1: 0.5110\n",
            "Epoch 141/200\n",
            "359/359 [==============================] - 4s 12ms/step - loss: 1.1681 - auc_1: 0.5112\n",
            "Epoch 142/200\n",
            "359/359 [==============================] - 4s 12ms/step - loss: 1.1680 - auc_1: 0.5109\n",
            "Epoch 143/200\n",
            "359/359 [==============================] - 4s 12ms/step - loss: 1.1673 - auc_1: 0.5114\n",
            "Epoch 144/200\n",
            "359/359 [==============================] - 4s 12ms/step - loss: 1.1675 - auc_1: 0.5115\n",
            "Epoch 145/200\n",
            "359/359 [==============================] - 4s 12ms/step - loss: 1.1677 - auc_1: 0.5116\n",
            "Epoch 146/200\n",
            "359/359 [==============================] - 4s 12ms/step - loss: 1.1673 - auc_1: 0.5114\n",
            "Epoch 147/200\n",
            "359/359 [==============================] - 4s 12ms/step - loss: 1.1667 - auc_1: 0.5115\n",
            "Epoch 148/200\n",
            "359/359 [==============================] - 4s 12ms/step - loss: 1.1667 - auc_1: 0.5116\n",
            "Epoch 149/200\n",
            "359/359 [==============================] - 4s 12ms/step - loss: 1.1672 - auc_1: 0.5116\n",
            "Epoch 150/200\n",
            "359/359 [==============================] - 4s 12ms/step - loss: 1.1664 - auc_1: 0.5119\n",
            "Epoch 151/200\n",
            "359/359 [==============================] - 4s 12ms/step - loss: 1.1667 - auc_1: 0.5119\n",
            "Epoch 152/200\n",
            "359/359 [==============================] - 4s 12ms/step - loss: 1.1672 - auc_1: 0.5113\n",
            "Epoch 153/200\n",
            "359/359 [==============================] - 4s 12ms/step - loss: 1.1668 - auc_1: 0.5118\n",
            "Epoch 154/200\n",
            "359/359 [==============================] - 4s 12ms/step - loss: 1.1667 - auc_1: 0.5117\n",
            "Epoch 155/200\n",
            "359/359 [==============================] - 4s 12ms/step - loss: 1.1665 - auc_1: 0.5120\n",
            "Epoch 156/200\n",
            "359/359 [==============================] - 4s 12ms/step - loss: 1.1664 - auc_1: 0.5124\n",
            "Epoch 157/200\n",
            "359/359 [==============================] - 4s 12ms/step - loss: 1.1662 - auc_1: 0.5120\n",
            "Epoch 158/200\n",
            "359/359 [==============================] - 4s 12ms/step - loss: 1.1662 - auc_1: 0.5117\n",
            "Epoch 159/200\n",
            "359/359 [==============================] - 4s 12ms/step - loss: 1.1670 - auc_1: 0.5117\n",
            "Epoch 160/200\n",
            "359/359 [==============================] - 4s 12ms/step - loss: 1.1662 - auc_1: 0.5121\n",
            "Epoch 161/200\n",
            "359/359 [==============================] - 4s 12ms/step - loss: 1.1659 - auc_1: 0.5122\n",
            "Epoch 162/200\n",
            "359/359 [==============================] - 4s 12ms/step - loss: 1.1664 - auc_1: 0.5118\n",
            "Epoch 163/200\n",
            "359/359 [==============================] - 4s 12ms/step - loss: 1.1652 - auc_1: 0.5126\n",
            "Epoch 164/200\n",
            "359/359 [==============================] - 4s 12ms/step - loss: 1.1657 - auc_1: 0.5127\n",
            "Epoch 165/200\n",
            "359/359 [==============================] - 4s 12ms/step - loss: 1.1655 - auc_1: 0.5123\n",
            "Epoch 166/200\n",
            "359/359 [==============================] - 4s 12ms/step - loss: 1.1653 - auc_1: 0.5124\n",
            "Epoch 167/200\n",
            "359/359 [==============================] - 4s 12ms/step - loss: 1.1653 - auc_1: 0.5125\n",
            "Epoch 168/200\n",
            "359/359 [==============================] - 4s 12ms/step - loss: 1.1651 - auc_1: 0.5124\n",
            "Epoch 169/200\n",
            "359/359 [==============================] - 4s 12ms/step - loss: 1.1656 - auc_1: 0.5127\n",
            "Epoch 170/200\n",
            "359/359 [==============================] - 4s 12ms/step - loss: 1.1656 - auc_1: 0.5119\n",
            "Epoch 171/200\n",
            "359/359 [==============================] - 4s 12ms/step - loss: 1.1655 - auc_1: 0.5123\n",
            "Epoch 172/200\n",
            "359/359 [==============================] - 4s 12ms/step - loss: 1.1659 - auc_1: 0.5123\n",
            "Epoch 173/200\n",
            "359/359 [==============================] - 4s 12ms/step - loss: 1.1651 - auc_1: 0.5125\n",
            "Epoch 174/200\n",
            "359/359 [==============================] - 4s 12ms/step - loss: 1.1659 - auc_1: 0.5124\n",
            "Epoch 175/200\n",
            "359/359 [==============================] - 4s 12ms/step - loss: 1.1656 - auc_1: 0.5128\n",
            "Epoch 176/200\n",
            "359/359 [==============================] - 4s 12ms/step - loss: 1.1647 - auc_1: 0.5129\n",
            "Epoch 177/200\n",
            "359/359 [==============================] - 4s 12ms/step - loss: 1.1651 - auc_1: 0.5127\n",
            "Epoch 178/200\n",
            "359/359 [==============================] - 4s 12ms/step - loss: 1.1642 - auc_1: 0.5129\n",
            "Epoch 179/200\n",
            "359/359 [==============================] - 4s 12ms/step - loss: 1.1648 - auc_1: 0.5126\n",
            "Epoch 180/200\n",
            "359/359 [==============================] - 4s 12ms/step - loss: 1.1650 - auc_1: 0.5128\n",
            "Epoch 181/200\n",
            "359/359 [==============================] - 4s 12ms/step - loss: 1.1647 - auc_1: 0.5127\n",
            "Epoch 182/200\n",
            "359/359 [==============================] - 4s 12ms/step - loss: 1.1651 - auc_1: 0.5126\n",
            "Epoch 183/200\n",
            "359/359 [==============================] - 4s 12ms/step - loss: 1.1646 - auc_1: 0.5128\n",
            "Epoch 184/200\n",
            "359/359 [==============================] - 4s 12ms/step - loss: 1.1645 - auc_1: 0.5131\n",
            "Epoch 185/200\n",
            "359/359 [==============================] - 4s 12ms/step - loss: 1.1645 - auc_1: 0.5123\n",
            "Epoch 186/200\n",
            "359/359 [==============================] - 4s 12ms/step - loss: 1.1637 - auc_1: 0.5133\n",
            "Epoch 187/200\n",
            "359/359 [==============================] - 4s 12ms/step - loss: 1.1647 - auc_1: 0.5127\n",
            "Epoch 188/200\n",
            "359/359 [==============================] - 4s 12ms/step - loss: 1.1641 - auc_1: 0.5130\n",
            "Epoch 189/200\n",
            "359/359 [==============================] - 4s 12ms/step - loss: 1.1644 - auc_1: 0.5129\n",
            "Epoch 190/200\n",
            "359/359 [==============================] - 4s 12ms/step - loss: 1.1641 - auc_1: 0.5131\n",
            "Epoch 191/200\n",
            "359/359 [==============================] - 4s 12ms/step - loss: 1.1646 - auc_1: 0.5129\n",
            "Epoch 192/200\n",
            "359/359 [==============================] - 4s 12ms/step - loss: 1.1638 - auc_1: 0.5132\n",
            "Epoch 193/200\n",
            "359/359 [==============================] - 4s 12ms/step - loss: 1.1638 - auc_1: 0.5138\n",
            "Epoch 194/200\n",
            "359/359 [==============================] - 4s 12ms/step - loss: 1.1646 - auc_1: 0.5132\n",
            "Epoch 195/200\n",
            "359/359 [==============================] - 4s 12ms/step - loss: 1.1636 - auc_1: 0.5137\n",
            "Epoch 196/200\n",
            "359/359 [==============================] - 4s 12ms/step - loss: 1.1640 - auc_1: 0.5131\n",
            "Epoch 197/200\n",
            "359/359 [==============================] - 4s 12ms/step - loss: 1.1645 - auc_1: 0.5130\n",
            "Epoch 198/200\n",
            "359/359 [==============================] - 4s 12ms/step - loss: 1.1643 - auc_1: 0.5131\n",
            "Epoch 199/200\n",
            "359/359 [==============================] - 4s 12ms/step - loss: 1.1640 - auc_1: 0.5131\n",
            "Epoch 200/200\n",
            "359/359 [==============================] - 4s 12ms/step - loss: 1.1634 - auc_1: 0.5137\n"
          ],
          "name": "stdout"
        },
        {
          "output_type": "execute_result",
          "data": {
            "text/plain": [
              "<tensorflow.python.keras.callbacks.History at 0x7f06ffdec860>"
            ]
          },
          "metadata": {
            "tags": []
          },
          "execution_count": 40
        }
      ]
    },
    {
      "cell_type": "code",
      "metadata": {
        "id": "UL6BU4ki6-2Q",
        "outputId": "a4b09637-4ecb-4398-ce9b-70c2e75ec15d",
        "colab": {
          "base_uri": "https://localhost:8080/",
          "height": 35
        }
      },
      "source": [
        "model.predict_classes(X_train)"
      ],
      "execution_count": null,
      "outputs": [
        {
          "output_type": "execute_result",
          "data": {
            "text/plain": [
              "array([0, 0, 0, ..., 0, 0, 0])"
            ]
          },
          "metadata": {
            "tags": []
          },
          "execution_count": 38
        }
      ]
    },
    {
      "cell_type": "code",
      "metadata": {
        "id": "UxW-xC3mIYRe"
      },
      "source": [
        "import numpy as np\n",
        "np.random.seed()\n",
        "import pandas as pd\n",
        "from datetime import datetime\n",
        "from sklearn.metrics import log_loss, roc_auc_score\n",
        "from sklearn.model_selection import StratifiedKFold\n",
        "from sklearn.preprocessing import MinMaxScaler\n",
        "\n",
        "from keras.models import load_model\n",
        "from keras.models import Sequential, Model\n",
        "from keras.layers import Input, Dense, Dropout, Activation\n",
        "from keras.layers.normalization import BatchNormalization\n",
        "from keras.callbacks import EarlyStopping, ModelCheckpoint, CSVLogger, Callback\n",
        "from keras.wrappers.scikit_learn import KerasClassifier\n",
        "\n",
        "class roc_auc_callback(Callback):\n",
        "    def __init__(self,training_data,validation_data):\n",
        "        self.x = training_data[0]\n",
        "        self.y = training_data[1]\n",
        "        self.x_val = validation_data[0]\n",
        "        self.y_val = validation_data[1]\n",
        "\n",
        "    def on_train_begin(self, logs={}):\n",
        "        return\n",
        "\n",
        "    def on_train_end(self, logs={}):\n",
        "        return\n",
        "\n",
        "    def on_epoch_begin(self, epoch, logs={}):\n",
        "        return\n",
        "\n",
        "    def on_epoch_end(self, epoch, logs={}):\n",
        "        y_pred = self.model.predict_proba(self.x, verbose=0)\n",
        "        roc = roc_auc_score(self.y, y_pred)\n",
        "        logs['roc_auc'] = roc_auc_score(self.y, y_pred)\n",
        "        logs['norm_gini'] = ( roc_auc_score(self.y, y_pred) * 2 ) - 1\n",
        "\n",
        "        y_pred_val = self.model.predict_proba(self.x_val, verbose=0)\n",
        "        roc_val = roc_auc_score(self.y_val, y_pred_val)\n",
        "        logs['roc_auc_val'] = roc_auc_score(self.y_val, y_pred_val)\n",
        "        logs['norm_gini_val'] = ( roc_auc_score(self.y_val, y_pred_val) * 2 ) - 1\n",
        "\n",
        "        print('\\rroc_auc: %s - roc_auc_val: %s - norm_gini: %s - norm_gini_val: %s' % (str(round(roc,5)),str(round(roc_val,5)),str(round((roc*2-1),5)),str(round((roc_val*2-1),5))), end=10*' '+'\\n')\n",
        "        return\n",
        "\n",
        "    def on_batch_begin(self, batch, logs={}):\n",
        "        return\n",
        "\n",
        "    def on_batch_end(self, batch, logs={}):\n",
        "        return\n",
        "\n",
        "folds = 4\n",
        "runs = 2\n",
        "\n",
        "cv_LL = 0\n",
        "cv_AUC = 0\n",
        "cv_gini = 0\n",
        "fpred = []\n",
        "avpred = []\n",
        "avreal = []\n",
        "avids = []\n",
        "patience = 10\n",
        "batchsize = 2048\n",
        "\n",
        "def timer(start_time=None):\n",
        "    if not start_time:\n",
        "        start_time = datetime.now()\n",
        "        return start_time\n",
        "    elif start_time:\n",
        "        thour, temp_sec = divmod(\n",
        "            (datetime.now() - start_time).total_seconds(), 3600)\n",
        "        tmin, tsec = divmod(temp_sec, 60)\n",
        "        print('\\n Time taken: %i hours %i minutes and %s seconds.' %\n",
        "              (thour, tmin, round(tsec, 2)))"
      ],
      "execution_count": null,
      "outputs": []
    },
    {
      "cell_type": "code",
      "metadata": {
        "id": "Wmnun1MvJKtW",
        "outputId": "0c1cf22d-09d3-4100-dbdd-469053abb2a1",
        "colab": {
          "base_uri": "https://localhost:8080/",
          "height": 1000
        }
      },
      "source": [
        "# Let's split the data into folds. I always use the same random number for reproducibility, \n",
        "# and suggest that you do the same (you certainly don't have to use 1001).\n",
        "\n",
        "#skf = StratifiedKFold(n_splits=folds, random_state=1001)\n",
        "#starttime = timer(None)\n",
        "#for i, (train_index, test_index) in enumerate(skf.split(X_train,y_train)):\n",
        "#    start_time = timer(None)\n",
        "#    X1, X_val1 = X_train[train_index], X_train[test_index]\n",
        "#    y1, y_val1 = y_train[train_index], y_train[test_index]\n",
        "    #train_ids, val_ids = tr_ids[train_index], tr_ids[test_index]\n",
        "    \n",
        "# This is where we define and compile the model. These parameters are not optimal, as they were chosen \n",
        "# to get a notebook to complete in 60 minutes. Other than leaving BatchNormalization and last sigmoid \n",
        "# activation alone, virtually everything else can be optimized: number of neurons, types of initializers, \n",
        "# activation functions, dropout values. The same goes for the optimizer at the end.\n",
        "\n",
        "#########\n",
        "# Never move this model definition to the beginning of the file or anywhere else outside of this loop. \n",
        "# The model needs to be initialized anew every time you run a different fold. If not, it will continue \n",
        "# the training from a previous model, and that is not what you want.\n",
        "#########\n",
        "\n",
        "    # This definition must be within the for loop or else it will continue training previous model\n",
        "def baseline_model():\n",
        "    model = Sequential()\n",
        "    model.add(\n",
        "        Dense(\n",
        "            256,\n",
        "            input_dim=X_train.shape[1],\n",
        "            kernel_initializer='glorot_normal',\n",
        "            ))\n",
        "    model.add(Activation('tanh'))\n",
        "    model.add(BatchNormalization())\n",
        "    model.add(Dropout(0.5))\n",
        "    model.add(Dense(256, kernel_initializer='glorot_normal'))\n",
        "    model.add(Activation('tanh'))\n",
        "    model.add(BatchNormalization())\n",
        "    model.add(Dropout(0.25))\n",
        "    #model.add(Dense(50, kernel_initializer='glorot_normal'))\n",
        "    #model.add(Activation('relu'))\n",
        "    #model.add(BatchNormalization())\n",
        "    #model.add(Dropout(0.15))\n",
        "    #model.add(Dense(25, kernel_initializer='glorot_normal'))\n",
        "    #model.add(Activation('relu'))\n",
        "    #model.add(BatchNormalization())\n",
        "    #model.add(Dropout(0.1))\n",
        "    model.add(Dense(2, activation='sigmoid'))\n",
        "\n",
        "    # Compile model\n",
        "    lr_schedule = keras.optimizers.schedules.ExponentialDecay(\n",
        "        initial_learning_rate=1e-6,\n",
        "        decay_steps=10000,\n",
        "        decay_rate=0.9)\n",
        "    sgd = keras.optimizers.Adagrad(learning_rate=lr_schedule)\n",
        "\n",
        "    model.compile(loss='categorical_crossentropy', optimizer='adagrad', metrics=[keras.metrics.AUC()])\n",
        "    #model.compile(optimizer='Ada', metrics = ['accuracy'], loss='binary_crossentropy')\n",
        "\n",
        "    return model\n",
        "\n",
        "# This is where we repeat the runs for each fold. If you choose runs=1 above, it will run a \n",
        "# regular N-fold procedure.\n",
        "\n",
        "#########\n",
        "# It is important to leave the call to random seed here, so each run starts with a different seed.\n",
        "#########\n",
        "\n",
        "for run in range(runs):\n",
        "    print('\\n Fold %d - Run %d\\n' % ((i + 1), (run + 1)))\n",
        "    np.random.seed()\n",
        "\n",
        "# Lots to unpack here.\n",
        "\n",
        "# The first callback prints out roc_auc and gini values at the end of each epoch. It must be listed \n",
        "# before the EarlyStopping callback, which monitors gini values saved in the previous callback. Make \n",
        "# sure to set the mode to \"max\" because the default value (\"auto\") will not handle gini properly \n",
        "# (it will act as if the model is not improving even when roc/gini go up).\n",
        "\n",
        "# CSVLogger creates a record of all iterations. Not really needed but it doesn't hurt to have it.\n",
        "\n",
        "# ModelCheckpoint saves a model each time gini improves. Its mode also must be set to \"max\" for reasons \n",
        "# explained above.\n",
        "\n",
        "callbacks = [\n",
        "    roc_auc_callback(training_data=(X_train, to_categorical(y_train)),validation_data=(X_test, to_categorical(y_test))),  # call this before EarlyStopping\n",
        "    EarlyStopping(monitor='norm_gini_val', patience=patience, mode='max', verbose=1),\n",
        "    CSVLogger('keras-5fold-run-01-v1-epochs.log', separator=',', append=False),\n",
        "    ModelCheckpoint(\n",
        "            'keras-5fold-run-01-v1-fold-' + str('%02d' % (i + 1)) + '-run-' + str('%02d' % (run + 1)) + '.check',\n",
        "            monitor='norm_gini_val', mode='max', # mode must be set to max or Keras will be confused\n",
        "            save_best_only=True,\n",
        "            verbose=1)\n",
        "]\n",
        "\n",
        "# The classifier is defined here. Epochs should be be set to a very large number (not 3 like below) which \n",
        "# will never be reached anyway because of early stopping. I usually put 5000 there. Because why not.\n",
        "\n",
        "nnet = KerasClassifier(\n",
        "    build_fn=baseline_model,\n",
        "# Epoch needs to be set to a very large number ; early stopping will prevent it from reaching\n",
        "#            epochs=5000,\n",
        "    epochs=500,\n",
        "    batch_size=batchsize,\n",
        "    validation_data=(X_test, to_categorical(y_test)),\n",
        "    verbose=2,\n",
        "    shuffle=True,\n",
        "    callbacks=callbacks)\n",
        "\n",
        "from sklearn.utils import class_weight\n",
        "class_weights = class_weight.compute_class_weight('balanced',np.unique(y_train),y_train.target)\n",
        "\n",
        "fit = nnet.fit(X_train,to_categorical(y_train),class_weight=dict(zip(np.unique(y_train),class_weights)))\n",
        "        \n",
        "# We want the best saved model - not the last one where the training stopped. So we delete the old \n",
        "# model instance and load the model from the last saved checkpoint. Next we predict values both for \n",
        "# validation and test data, and create a summary of parameters for each run.\n",
        "\n",
        "del nnet\n",
        "nnet = model.load_model('keras-5fold-run-01-v1-fold-' + str('%02d' % (i + 1)) + '-run-' + str('%02d' % (run + 1)) + '.check')\n",
        "scores_val_run = nnet.predict_proba(X_test, verbose=0)\n",
        "LL_run = log_loss(X_test, scores_val_run)\n",
        "print('\\n Fold %d Run %d Log-loss: %.5f' % ((i + 1), (run + 1), LL_run))\n",
        "AUC_run = roc_auc_score(to_categorical(y_test), scores_val_run)\n",
        "print(' Fold %d Run %d AUC: %.5f' % ((i + 1), (run + 1), AUC_run))\n",
        "print(' Fold %d Run %d normalized gini: %.5f' % ((i + 1), (run + 1), AUC_run*2-1))\n",
        "y_pred_run = nnet.predict_proba(timetest, verbose=0)\n",
        "if run > 0:\n",
        "    scores_val = scores_val + scores_val_run\n",
        "    y_pred = y_pred + y_pred_run\n",
        "else:\n",
        "    scores_val = scores_val_run\n",
        "    y_pred = y_pred_run\n",
        "            \n",
        "# We average all runs from the same fold and provide a parameter summary for each fold. Unless something \n",
        "# is wrong, the numbers printed here should be better than any of the individual runs.\n",
        "\n",
        "scores_val = scores_val / runs\n",
        "y_pred = y_pred / runs\n",
        "LL = log_loss(y_val, scores_val)\n",
        "print('\\n Fold %d Log-loss: %.5f' % ((i + 1), LL))\n",
        "AUC = roc_auc_score(y_val, scores_val)\n",
        "print(' Fold %d AUC: %.5f' % ((i + 1), AUC))\n",
        "print(' Fold %d normalized gini: %.5f' % ((i + 1), AUC*2-1))\n",
        "timer(start_time)\n",
        "\n",
        "# We add up predictions on the test data for each fold. Create out-of-fold predictions for validation data.\n",
        "\n",
        "if i > 0:\n",
        "    fpred = pred + y_pred\n",
        "    avreal = np.concatenate((avreal, y_val), axis=0)\n",
        "    avpred = np.concatenate((avpred, scores_val), axis=0)\n",
        "    avids = np.concatenate((avids, val_ids), axis=0)\n",
        "else:\n",
        "    fpred = y_pred\n",
        "    avreal = y_val\n",
        "    avpred = scores_val\n",
        "    avids = val_ids\n",
        "pred = fpred\n",
        "cv_LL = cv_LL + LL\n",
        "cv_AUC = cv_AUC + AUC\n",
        "cv_gini = cv_gini + (AUC*2-1)"
      ],
      "execution_count": null,
      "outputs": [
        {
          "output_type": "stream",
          "text": [
            "\n",
            " Fold 13 - Run 1\n",
            "\n",
            "\n",
            " Fold 13 - Run 2\n",
            "\n",
            "Train on 733712 samples, validate on 314448 samples\n",
            "Epoch 1/500\n",
            " - 4s - loss: 0.6355 - auc_2: 0.5878 - val_loss: 0.6101 - val_auc_2: 0.6199\n",
            "roc_auc: 0.68892 - roc_auc_val: 0.6876 - norm_gini: 0.37784 - norm_gini_val: 0.37519          \n",
            "\n",
            "Epoch 00001: norm_gini_val improved from -inf to 0.37519, saving model to keras-5fold-run-01-v1-fold-13-run-02.check\n",
            "Epoch 2/500\n",
            " - 3s - loss: 0.6211 - auc_2: 0.6290 - val_loss: 0.6013 - val_auc_2: 0.6331\n",
            "roc_auc: 0.69169 - roc_auc_val: 0.69118 - norm_gini: 0.38337 - norm_gini_val: 0.38236          \n",
            "\n",
            "Epoch 00002: norm_gini_val improved from 0.37519 to 0.38236, saving model to keras-5fold-run-01-v1-fold-13-run-02.check\n",
            "Epoch 3/500\n",
            " - 3s - loss: 0.6180 - auc_2: 0.6357 - val_loss: 0.6024 - val_auc_2: 0.6368\n",
            "roc_auc: 0.68256 - roc_auc_val: 0.68233 - norm_gini: 0.36512 - norm_gini_val: 0.36466          \n",
            "\n",
            "Epoch 00003: norm_gini_val did not improve from 0.38236\n",
            "Epoch 4/500\n",
            " - 3s - loss: 0.6164 - auc_2: 0.6373 - val_loss: 0.6132 - val_auc_2: 0.6379\n",
            "roc_auc: 0.68857 - roc_auc_val: 0.68793 - norm_gini: 0.37714 - norm_gini_val: 0.37585          \n",
            "\n",
            "Epoch 00004: norm_gini_val did not improve from 0.38236\n",
            "Epoch 5/500\n",
            " - 3s - loss: 0.6154 - auc_2: 0.6384 - val_loss: 0.6078 - val_auc_2: 0.6390\n",
            "roc_auc: 0.68711 - roc_auc_val: 0.68677 - norm_gini: 0.37421 - norm_gini_val: 0.37354          \n",
            "\n",
            "Epoch 00005: norm_gini_val did not improve from 0.38236\n",
            "Epoch 6/500\n",
            " - 3s - loss: 0.6145 - auc_2: 0.6395 - val_loss: 0.6099 - val_auc_2: 0.6400\n",
            "roc_auc: 0.68645 - roc_auc_val: 0.68616 - norm_gini: 0.37291 - norm_gini_val: 0.37233          \n",
            "\n",
            "Epoch 00006: norm_gini_val did not improve from 0.38236\n",
            "Epoch 7/500\n",
            " - 3s - loss: 0.6135 - auc_2: 0.6403 - val_loss: 0.6033 - val_auc_2: 0.6407\n",
            "roc_auc: 0.68546 - roc_auc_val: 0.68547 - norm_gini: 0.37092 - norm_gini_val: 0.37094          \n",
            "\n",
            "Epoch 00007: norm_gini_val did not improve from 0.38236\n",
            "Epoch 8/500\n",
            " - 3s - loss: 0.6130 - auc_2: 0.6411 - val_loss: 0.6134 - val_auc_2: 0.6414\n",
            "roc_auc: 0.68544 - roc_auc_val: 0.68517 - norm_gini: 0.37088 - norm_gini_val: 0.37034          \n",
            "\n",
            "Epoch 00008: norm_gini_val did not improve from 0.38236\n",
            "Epoch 9/500\n",
            " - 3s - loss: 0.6126 - auc_2: 0.6416 - val_loss: 0.6044 - val_auc_2: 0.6418\n",
            "roc_auc: 0.68584 - roc_auc_val: 0.68585 - norm_gini: 0.37168 - norm_gini_val: 0.3717          \n",
            "\n",
            "Epoch 00009: norm_gini_val did not improve from 0.38236\n",
            "Epoch 10/500\n",
            " - 3s - loss: 0.6119 - auc_2: 0.6421 - val_loss: 0.6150 - val_auc_2: 0.6424\n",
            "roc_auc: 0.68917 - roc_auc_val: 0.68909 - norm_gini: 0.37834 - norm_gini_val: 0.37818          \n",
            "\n",
            "Epoch 00010: norm_gini_val did not improve from 0.38236\n",
            "Epoch 11/500\n",
            " - 3s - loss: 0.6115 - auc_2: 0.6427 - val_loss: 0.6109 - val_auc_2: 0.6431\n",
            "roc_auc: 0.68769 - roc_auc_val: 0.68776 - norm_gini: 0.37537 - norm_gini_val: 0.37553          \n",
            "\n",
            "Epoch 00011: norm_gini_val did not improve from 0.38236\n",
            "Epoch 12/500\n",
            " - 3s - loss: 0.6113 - auc_2: 0.6433 - val_loss: 0.6065 - val_auc_2: 0.6434\n",
            "roc_auc: 0.68404 - roc_auc_val: 0.68402 - norm_gini: 0.36808 - norm_gini_val: 0.36804          \n",
            "\n",
            "Epoch 00012: norm_gini_val did not improve from 0.38236\n",
            "Epoch 00012: early stopping\n"
          ],
          "name": "stdout"
        },
        {
          "output_type": "error",
          "ename": "NameError",
          "evalue": "ignored",
          "traceback": [
            "\u001b[0;31m---------------------------------------------------------------------------\u001b[0m",
            "\u001b[0;31mNameError\u001b[0m                                 Traceback (most recent call last)",
            "\u001b[0;32m<ipython-input-33-9143822d25e7>\u001b[0m in \u001b[0;36m<module>\u001b[0;34m()\u001b[0m\n\u001b[1;32m    117\u001b[0m \u001b[0;34m\u001b[0m\u001b[0m\n\u001b[1;32m    118\u001b[0m \u001b[0;32mdel\u001b[0m \u001b[0mnnet\u001b[0m\u001b[0;34m\u001b[0m\u001b[0;34m\u001b[0m\u001b[0m\n\u001b[0;32m--> 119\u001b[0;31m \u001b[0mnnet\u001b[0m \u001b[0;34m=\u001b[0m \u001b[0mmodel\u001b[0m\u001b[0;34m.\u001b[0m\u001b[0mload_model\u001b[0m\u001b[0;34m(\u001b[0m\u001b[0;34m'keras-5fold-run-01-v1-fold-'\u001b[0m \u001b[0;34m+\u001b[0m \u001b[0mstr\u001b[0m\u001b[0;34m(\u001b[0m\u001b[0;34m'%02d'\u001b[0m \u001b[0;34m%\u001b[0m \u001b[0;34m(\u001b[0m\u001b[0mi\u001b[0m \u001b[0;34m+\u001b[0m \u001b[0;36m1\u001b[0m\u001b[0;34m)\u001b[0m\u001b[0;34m)\u001b[0m \u001b[0;34m+\u001b[0m \u001b[0;34m'-run-'\u001b[0m \u001b[0;34m+\u001b[0m \u001b[0mstr\u001b[0m\u001b[0;34m(\u001b[0m\u001b[0;34m'%02d'\u001b[0m \u001b[0;34m%\u001b[0m \u001b[0;34m(\u001b[0m\u001b[0mrun\u001b[0m \u001b[0;34m+\u001b[0m \u001b[0;36m1\u001b[0m\u001b[0;34m)\u001b[0m\u001b[0;34m)\u001b[0m \u001b[0;34m+\u001b[0m \u001b[0;34m'.check'\u001b[0m\u001b[0;34m)\u001b[0m\u001b[0;34m\u001b[0m\u001b[0;34m\u001b[0m\u001b[0m\n\u001b[0m\u001b[1;32m    120\u001b[0m \u001b[0mscores_val_run\u001b[0m \u001b[0;34m=\u001b[0m \u001b[0mnnet\u001b[0m\u001b[0;34m.\u001b[0m\u001b[0mpredict_proba\u001b[0m\u001b[0;34m(\u001b[0m\u001b[0mX_test\u001b[0m\u001b[0;34m,\u001b[0m \u001b[0mverbose\u001b[0m\u001b[0;34m=\u001b[0m\u001b[0;36m0\u001b[0m\u001b[0;34m)\u001b[0m\u001b[0;34m\u001b[0m\u001b[0;34m\u001b[0m\u001b[0m\n\u001b[1;32m    121\u001b[0m \u001b[0mLL_run\u001b[0m \u001b[0;34m=\u001b[0m \u001b[0mlog_loss\u001b[0m\u001b[0;34m(\u001b[0m\u001b[0mX_test\u001b[0m\u001b[0;34m,\u001b[0m \u001b[0mscores_val_run\u001b[0m\u001b[0;34m)\u001b[0m\u001b[0;34m\u001b[0m\u001b[0;34m\u001b[0m\u001b[0m\n",
            "\u001b[0;31mNameError\u001b[0m: name 'model' is not defined"
          ]
        }
      ]
    },
    {
      "cell_type": "code",
      "metadata": {
        "id": "Sq0sshmhUgLu",
        "outputId": "4d95f788-46d3-4307-ce96-5ad9e1d2f98e",
        "colab": {
          "base_uri": "https://localhost:8080/",
          "height": 296
        }
      },
      "source": [
        "model = Sequential()\n",
        "model.add(\n",
        "    Dense(\n",
        "        256,\n",
        "        input_dim=X_train.shape[1],\n",
        "        kernel_initializer='glorot_normal',\n",
        "        ))\n",
        "model.add(Activation('tanh'))\n",
        "model.add(BatchNormalization())\n",
        "model.add(Dropout(0.5))\n",
        "model.add(Dense(256, kernel_initializer='glorot_normal'))\n",
        "model.add(Activation('tanh'))\n",
        "model.add(BatchNormalization())\n",
        "model.add(Dropout(0.25))\n",
        "model.add(Dense(2, activation='sigmoid'))\n",
        "lr_schedule = keras.optimizers.schedules.ExponentialDecay(\n",
        "    initial_learning_rate=1e-6,\n",
        "    decay_steps=10000,\n",
        "    decay_rate=0.9)\n",
        "sgd = keras.optimizers.Adagrad(learning_rate=lr_schedule)\n",
        "\n",
        "model.compile(loss='categorical_crossentropy', optimizer='adagrad', metrics=[keras.metrics.AUC()])\n",
        "model.load_weights('keras-5fold-run-01-v1-fold-' + str('%02d' % (i + 1)) + '-run-' + str('%02d' % (run + 1)) + '.check')\n",
        "nnet=model\n",
        "scores_val_run = model.predict_proba(X_test, verbose=0)\n",
        "#LL_run = log_loss(X_test, scores_val_run,labels=[0,1,2])\n",
        "#print('\\n Fold %d Run %d Log-loss: %.5f' % ((i + 1), (run + 1), LL_run))\n",
        "AUC_run = roc_auc_score(to_categorical(y_test), scores_val_run)\n",
        "print(' Fold %d Run %d AUC: %.5f' % ((i + 1), (run + 1), AUC_run))\n",
        "print(' Fold %d Run %d normalized gini: %.5f' % ((i + 1), (run + 1), AUC_run*2-1))\n",
        "y_pred_run = nnet.predict_proba(timetest, verbose=0)\n",
        "\n",
        "# We average all runs from the same fold and provide a parameter summary for each fold. Unless something \n",
        "# is wrong, the numbers printed here should be better than any of the individual runs.\n",
        "\n",
        "#LL = log_loss(y_val, scores_val,labels=[0,1,2])\n",
        "#print('\\n Fold %d Log-loss: %.5f' % ((i + 1), LL))\n",
        "AUC = roc_auc_score(to_categorical(y_test), scores_val_run)\n",
        "print(' Fold %d AUC: %.5f' % ((i + 1), AUC))\n",
        "print(' Fold %d normalized gini: %.5f' % ((i + 1), AUC*2-1))\n",
        "#timer(start_time)\n",
        "\n",
        "# We add up predictions on the test data for each fold. Create out-of-fold predictions for validation data.\n",
        "\n",
        "if i > 0:\n",
        "    fpred = pred + y_pred\n",
        "    avreal = np.concatenate((avreal, y_val), axis=0)\n",
        "    avpred = np.concatenate((avpred, scores_val), axis=0)\n",
        "    avids = np.concatenate((avids, val_ids), axis=0)\n",
        "else:\n",
        "    fpred = y_pred\n",
        "    avreal = y_val\n",
        "    avpred = scores_val\n",
        "    avids = val_ids\n",
        "pred = fpred\n",
        "cv_LL = cv_LL + LL\n",
        "cv_AUC = cv_AUC + AUC\n",
        "cv_gini = cv_gini + (AUC*2-1)"
      ],
      "execution_count": null,
      "outputs": [
        {
          "output_type": "stream",
          "text": [
            " Fold 13 Run 2 AUC: 0.69118\n",
            " Fold 13 Run 2 normalized gini: 0.38236\n",
            " Fold 13 AUC: 0.69118\n",
            " Fold 13 normalized gini: 0.38236\n"
          ],
          "name": "stdout"
        },
        {
          "output_type": "error",
          "ename": "NameError",
          "evalue": "ignored",
          "traceback": [
            "\u001b[0;31m---------------------------------------------------------------------------\u001b[0m",
            "\u001b[0;31mNameError\u001b[0m                                 Traceback (most recent call last)",
            "\u001b[0;32m<ipython-input-35-484258c102dc>\u001b[0m in \u001b[0;36m<module>\u001b[0;34m()\u001b[0m\n\u001b[1;32m     44\u001b[0m \u001b[0;34m\u001b[0m\u001b[0m\n\u001b[1;32m     45\u001b[0m \u001b[0;32mif\u001b[0m \u001b[0mi\u001b[0m \u001b[0;34m>\u001b[0m \u001b[0;36m0\u001b[0m\u001b[0;34m:\u001b[0m\u001b[0;34m\u001b[0m\u001b[0;34m\u001b[0m\u001b[0m\n\u001b[0;32m---> 46\u001b[0;31m     \u001b[0mfpred\u001b[0m \u001b[0;34m=\u001b[0m \u001b[0mpred\u001b[0m \u001b[0;34m+\u001b[0m \u001b[0my_pred\u001b[0m\u001b[0;34m\u001b[0m\u001b[0;34m\u001b[0m\u001b[0m\n\u001b[0m\u001b[1;32m     47\u001b[0m     \u001b[0mavreal\u001b[0m \u001b[0;34m=\u001b[0m \u001b[0mnp\u001b[0m\u001b[0;34m.\u001b[0m\u001b[0mconcatenate\u001b[0m\u001b[0;34m(\u001b[0m\u001b[0;34m(\u001b[0m\u001b[0mavreal\u001b[0m\u001b[0;34m,\u001b[0m \u001b[0my_val\u001b[0m\u001b[0;34m)\u001b[0m\u001b[0;34m,\u001b[0m \u001b[0maxis\u001b[0m\u001b[0;34m=\u001b[0m\u001b[0;36m0\u001b[0m\u001b[0;34m)\u001b[0m\u001b[0;34m\u001b[0m\u001b[0;34m\u001b[0m\u001b[0m\n\u001b[1;32m     48\u001b[0m     \u001b[0mavpred\u001b[0m \u001b[0;34m=\u001b[0m \u001b[0mnp\u001b[0m\u001b[0;34m.\u001b[0m\u001b[0mconcatenate\u001b[0m\u001b[0;34m(\u001b[0m\u001b[0;34m(\u001b[0m\u001b[0mavpred\u001b[0m\u001b[0;34m,\u001b[0m \u001b[0mscores_val\u001b[0m\u001b[0;34m)\u001b[0m\u001b[0;34m,\u001b[0m \u001b[0maxis\u001b[0m\u001b[0;34m=\u001b[0m\u001b[0;36m0\u001b[0m\u001b[0;34m)\u001b[0m\u001b[0;34m\u001b[0m\u001b[0;34m\u001b[0m\u001b[0m\n",
            "\u001b[0;31mNameError\u001b[0m: name 'pred' is not defined"
          ]
        }
      ]
    },
    {
      "cell_type": "code",
      "metadata": {
        "id": "yiQwVytYTv37"
      },
      "source": [
        "from sklearn.inspection import permutation_importance\n",
        "\n",
        "#model.compile(loss='categorical_crossentropy', optimizer='adagrad', metrics=[keras.metrics.AUC()])\n",
        "perm = permutation_importance(mlp,X_train,y_train)"
      ],
      "execution_count": null,
      "outputs": []
    },
    {
      "cell_type": "code",
      "metadata": {
        "id": "cAow99IL282U"
      },
      "source": [
        "r = perm\n",
        "feature ={}\n",
        "for i in r.importances_mean.argsort()[::-1]:\n",
        "  if r.importances_mean[i] - 2 * r.importances_std[i] > 0:\n",
        "    feature[train.columns[i]]={'mean':r.importances_mean[i],'std':r.importances_std[i]}\n",
        "pd.DataFrame.from_dict(feature).T.to_excel('0vR_feature_neural.xlsx')"
      ],
      "execution_count": null,
      "outputs": []
    },
    {
      "cell_type": "code",
      "metadata": {
        "id": "iRdLc-ry4tm-"
      },
      "source": [
        ""
      ],
      "execution_count": null,
      "outputs": []
    },
    {
      "cell_type": "code",
      "metadata": {
        "id": "0O4W-eoqqGwd"
      },
      "source": [
        "import numpy as np\n",
        "import \n",
        "np.set_printoptions(threshold=)"
      ],
      "execution_count": null,
      "outputs": []
    },
    {
      "cell_type": "code",
      "metadata": {
        "id": "P1isNH2iUWl4",
        "outputId": "8eaeb93c-3d05-4d92-b99a-41a9b0186b25",
        "colab": {
          "base_uri": "https://localhost:8080/",
          "height": 425
        }
      },
      "source": [
        "scores_val_run = nnet.predict_proba(X_test, verbose=0)\n",
        "LL_run = log_loss(y_test, scores_val_run)\n",
        "print('\\n Fold %d Run %d Log-loss: %.5f' % ((i + 1), (run + 1), LL_run))\n",
        "AUC_run = roc_auc_score(to_categorical(y_test), scores_val_run)\n",
        "print(' Fold %d Run %d AUC: %.5f' % ((i + 1), (run + 1), AUC_run))\n",
        "print(' Fold %d Run %d normalized gini: %.5f' % ((i + 1), (run + 1), AUC_run*2-1))\n",
        "y_pred_run = nnet.predict_proba(timetest, verbose=0)\n",
        "#scores_val=None\n",
        "#if run > 0:\n",
        "#    scores_val = scores_val + scores_val_run\n",
        "#    y_pred = y_pred + y_pred_run\n",
        "#else:\n",
        "#    scores_val = scores_val_run\n",
        "#    y_pred = y_pred_run\n",
        "scores_val = scores_val_run\n",
        "y_pred = y_pred_run\n",
        "\n",
        "\n",
        "# We average all runs from the same fold and provide a parameter summary for each fold. Unless something \n",
        "# is wrong, the numbers printed here should be better than any of the individual runs.\n",
        "y_val = y_test\n",
        "scores_val = scores_val / runs\n",
        "y_pred = y_pred / runs\n",
        "LL = log_loss(y_test, scores_val)\n",
        "print('\\n Fold %d Log-loss: %.5f' % ((i + 1), LL))\n",
        "AUC = roc_auc_score(to_categorical(y_test), scores_val)\n",
        "print(' Fold %d AUC: %.5f' % ((i + 1), AUC))\n",
        "print(' Fold %d normalized gini: %.5f' % ((i + 1), AUC*2-1))\n",
        "timer(start_time)\n",
        "\n",
        "# We add up predictions on the test data for each fold. Create out-of-fold predictions for validation data.\n",
        "\n",
        "if i > 0:\n",
        "    fpred = pred + y_pred\n",
        "    avreal = np.concatenate((avreal, y_val), axis=0)\n",
        "    avpred = np.concatenate((avpred, scores_val), axis=0)\n",
        "    #avids = np.concatenate((avids, val_ids), axis=0)\n",
        "else:\n",
        "    fpred = y_pred\n",
        "    avreal = y_val\n",
        "    avpred = scores_val\n",
        "    #avids = val_ids\n",
        "pred = fpred\n",
        "cv_LL = cv_LL + LL\n",
        "cv_AUC = cv_AUC + AUC\n",
        "cv_gini = cv_gini + (AUC*2-1)"
      ],
      "execution_count": null,
      "outputs": [
        {
          "output_type": "stream",
          "text": [
            "\n",
            " Fold 1 Run 2 Log-loss: 0.45396\n",
            " Fold 1 Run 2 AUC: 0.73478\n",
            " Fold 1 Run 2 normalized gini: 0.46955\n",
            "\n",
            " Fold 1 Log-loss: 0.45396\n",
            " Fold 1 AUC: 0.73478\n",
            " Fold 1 normalized gini: 0.46955\n",
            "\n",
            " Time taken: 0 hours 50 minutes and 0.12 seconds.\n"
          ],
          "name": "stdout"
        },
        {
          "output_type": "error",
          "ename": "NameError",
          "evalue": "ignored",
          "traceback": [
            "\u001b[0;31m---------------------------------------------------------------------------\u001b[0m",
            "\u001b[0;31mNameError\u001b[0m                                 Traceback (most recent call last)",
            "\u001b[0;32m<ipython-input-290-cdae1b7868a0>\u001b[0m in \u001b[0;36m<module>\u001b[0;34m()\u001b[0m\n\u001b[1;32m     40\u001b[0m     \u001b[0mavreal\u001b[0m \u001b[0;34m=\u001b[0m \u001b[0my_val\u001b[0m\u001b[0;34m\u001b[0m\u001b[0;34m\u001b[0m\u001b[0m\n\u001b[1;32m     41\u001b[0m     \u001b[0mavpred\u001b[0m \u001b[0;34m=\u001b[0m \u001b[0mscores_val\u001b[0m\u001b[0;34m\u001b[0m\u001b[0;34m\u001b[0m\u001b[0m\n\u001b[0;32m---> 42\u001b[0;31m     \u001b[0mavids\u001b[0m \u001b[0;34m=\u001b[0m \u001b[0mval_ids\u001b[0m\u001b[0;34m\u001b[0m\u001b[0;34m\u001b[0m\u001b[0m\n\u001b[0m\u001b[1;32m     43\u001b[0m \u001b[0mpred\u001b[0m \u001b[0;34m=\u001b[0m \u001b[0mfpred\u001b[0m\u001b[0;34m\u001b[0m\u001b[0;34m\u001b[0m\u001b[0m\n\u001b[1;32m     44\u001b[0m \u001b[0mcv_LL\u001b[0m \u001b[0;34m=\u001b[0m \u001b[0mcv_LL\u001b[0m \u001b[0;34m+\u001b[0m \u001b[0mLL\u001b[0m\u001b[0;34m\u001b[0m\u001b[0;34m\u001b[0m\u001b[0m\n",
            "\u001b[0;31mNameError\u001b[0m: name 'val_ids' is not defined"
          ]
        }
      ]
    },
    {
      "cell_type": "code",
      "metadata": {
        "id": "7qzB-nTUVNDr",
        "outputId": "a0aa9542-ddbc-4828-f64c-6e70dcdf54f8",
        "colab": {
          "base_uri": "https://localhost:8080/",
          "height": 144
        }
      },
      "source": [
        "to_categorical(y_test)"
      ],
      "execution_count": null,
      "outputs": [
        {
          "output_type": "execute_result",
          "data": {
            "text/plain": [
              "array([[1., 0.],\n",
              "       [1., 0.],\n",
              "       [1., 0.],\n",
              "       ...,\n",
              "       [0., 1.],\n",
              "       [1., 0.],\n",
              "       [1., 0.]], dtype=float32)"
            ]
          },
          "metadata": {
            "tags": []
          },
          "execution_count": 289
        }
      ]
    },
    {
      "cell_type": "code",
      "metadata": {
        "id": "ZhZUAVtjJgEV"
      },
      "source": [
        "LL_oof = log_loss(avreal, avpred)\n",
        "print('\\n Average Log-loss: %.5f' % (cv_LL/folds))\n",
        "print(' Out-of-fold Log-loss: %.5f' % LL_oof)\n",
        "AUC_oof = roc_auc_score(avreal, avpred)\n",
        "print('\\n Average AUC: %.5f' % (cv_AUC/folds))\n",
        "print(' Out-of-fold AUC: %.5f' % AUC_oof)\n",
        "print('\\n Average normalized gini: %.5f' % (cv_gini/folds))\n",
        "print(' Out-of-fold normalized gini: %.5f' % (AUC_oof*2-1))\n",
        "score = str(round((AUC_oof*2-1), 5))\n",
        "timer(starttime)\n",
        "mpred = pred / folds"
      ],
      "execution_count": null,
      "outputs": []
    },
    {
      "cell_type": "code",
      "metadata": {
        "id": "4RK3CH-uemBU"
      },
      "source": [
        "!pip install -q keras-tuner\n",
        "from kerastuner import HyperModel\n",
        "from tensorflow.keras import layers\n",
        "import tensorflow\n",
        "from tensorflow import keras\n",
        "from tensorflow.keras import optimizers\n",
        "from tensorflow.keras.optimizers import schedules\n",
        "from keras.models import Sequential\n",
        "from keras.layers import Dense,Dropout\n",
        "from keras.utils import np_utils,to_categorical\n",
        "\n",
        "class ClassificationHyperModel(HyperModel):\n",
        "    def __init__(self, input_shape):\n",
        "      self.input_shape = input_shape\n",
        "\n",
        "    def build(self, hp):\n",
        "        model = tensorflow.keras.Sequential()\n",
        "\n",
        "        model.add(\n",
        "            layers.Dense(\n",
        "                units=hp.Choice('units', values=[64,128,256], default=128),\n",
        "                activation=hp.Choice(\n",
        "                    'dense_activation',\n",
        "                    values=['relu', 'tanh', 'sigmoid'],\n",
        "                    default='relu'),\n",
        "                input_shape=input_shape\n",
        "            )\n",
        "        )\n",
        "        model.add(\n",
        "            layers.Dropout(\n",
        "                hp.Float(\n",
        "                    'dropout',\n",
        "                    min_value=0.2,\n",
        "                    max_value=0.5,\n",
        "                    default=0.25,\n",
        "                    step=0.1)\n",
        "            )\n",
        "        )\n",
        "        \n",
        "        model.add(\n",
        "            layers.Dense(\n",
        "                units=hp.Choice('units', values=[64,128,256], default=128),\n",
        "                activation=hp.Choice(\n",
        "                    'dense_activation',\n",
        "                    values=['relu', 'tanh', 'sigmoid'],\n",
        "                    default='relu')\n",
        "            )\n",
        "        )\n",
        "        \n",
        "        model.add(\n",
        "            layers.Dropout(\n",
        "                hp.Float(\n",
        "                    'dropout',\n",
        "                    min_value=0.2,\n",
        "                    max_value=0.5,\n",
        "                    default=0.25,\n",
        "                    step=0.1)\n",
        "            )\n",
        "        )\n",
        "        \n",
        "        model.add(layers.Dense(2,activation='sigmoid'))\n",
        "        \n",
        "        model.compile(\n",
        "            hp.Choice('optimizer',values=['Adagrad','Sgd','Adam'],default='Adam')\n",
        "            ,loss='binary_crossentropy',metrics=[keras.metrics.AUC()]\n",
        "        )\n",
        "        \n",
        "        return model"
      ],
      "execution_count": null,
      "outputs": []
    },
    {
      "cell_type": "code",
      "metadata": {
        "id": "cd4NZr1heoZO",
        "outputId": "cbe70732-bfe6-41bf-a1d3-6b22fe6ebade",
        "colab": {
          "base_uri": "https://localhost:8080/",
          "height": 326
        }
      },
      "source": [
        "import kerastuner\n",
        "from tensorflow import keras\n",
        "from sklearn.utils import class_weight\n",
        "class_weights = class_weight.compute_class_weight('balanced',np.unique(y_train),y_train.target)\n",
        "class_weights=dict(zip(np.unique(y_train),class_weights))\n",
        "input_shape = (X_train.shape[1],)\n",
        "hypermodel = ClassificationHyperModel(input_shape)\n",
        "tuner_bo = kerastuner.tuners.BayesianOptimization(\n",
        "            hypermodel,\n",
        "            objective=kerastuner.Objective(\"auc\", direction=\"max\"),\n",
        "            max_trials=2,\n",
        "            seed=42,\n",
        "            #executions_per_trial=2\n",
        "        )\n",
        "tuner_bo.search(X_train, to_categorical(y_train), epochs=100, validation_split=0.3, verbose=0,class_weight=class_weights)\n",
        "best_model = tuner_bo.get_best_models(num_models=1)[0]\n",
        "best_model.evaluate(X_test, to_categorical(y_test))\n",
        "gc.collect()"
      ],
      "execution_count": null,
      "outputs": [
        {
          "output_type": "stream",
          "text": [
            "INFO:tensorflow:Reloading Oracle from existing project ./untitled_project/oracle.json\n",
            "INFO:tensorflow:Reloading Tuner from ./untitled_project/tuner0.json\n"
          ],
          "name": "stdout"
        },
        {
          "output_type": "display_data",
          "data": {
            "text/html": [
              "<span style=\"color:#4527A0\"><h1 style=\"font-size:18px\">Trial complete</h1></span>"
            ],
            "text/plain": [
              "<IPython.core.display.HTML object>"
            ]
          },
          "metadata": {
            "tags": []
          }
        },
        {
          "output_type": "display_data",
          "data": {
            "text/html": [
              "<span style=\"color:#4527A0\"><h1 style=\"font-size:18px\">Trial summary</h1></span>"
            ],
            "text/plain": [
              "<IPython.core.display.HTML object>"
            ]
          },
          "metadata": {
            "tags": []
          }
        },
        {
          "output_type": "display_data",
          "data": {
            "text/html": [
              "<span style=\"color:cyan\"> |-Trial ID: 40fef546e6d15fdf507de06b0929a1df</span>"
            ],
            "text/plain": [
              "<IPython.core.display.HTML object>"
            ]
          },
          "metadata": {
            "tags": []
          }
        },
        {
          "output_type": "display_data",
          "data": {
            "text/html": [
              "<span style=\"color:cyan\"> |-Score: 0.7067511081695557</span>"
            ],
            "text/plain": [
              "<IPython.core.display.HTML object>"
            ]
          },
          "metadata": {
            "tags": []
          }
        },
        {
          "output_type": "display_data",
          "data": {
            "text/html": [
              "<span style=\"color:cyan\"> |-Best step: 0</span>"
            ],
            "text/plain": [
              "<IPython.core.display.HTML object>"
            ]
          },
          "metadata": {
            "tags": []
          }
        },
        {
          "output_type": "display_data",
          "data": {
            "text/html": [
              "<span style=\"color:#7E57C2\"><h2 style=\"font-size:16px\">Hyperparameters:</h2></span>"
            ],
            "text/plain": [
              "<IPython.core.display.HTML object>"
            ]
          },
          "metadata": {
            "tags": []
          }
        },
        {
          "output_type": "display_data",
          "data": {
            "text/html": [
              "<span style=\"color:cyan\"> |-dense_activation: tanh</span>"
            ],
            "text/plain": [
              "<IPython.core.display.HTML object>"
            ]
          },
          "metadata": {
            "tags": []
          }
        },
        {
          "output_type": "display_data",
          "data": {
            "text/html": [
              "<span style=\"color:blue\"> |-dropout: 0.4000000000000001</span>"
            ],
            "text/plain": [
              "<IPython.core.display.HTML object>"
            ]
          },
          "metadata": {
            "tags": []
          }
        },
        {
          "output_type": "display_data",
          "data": {
            "text/html": [
              "<span style=\"color:cyan\"> |-optimizer: Adagrad</span>"
            ],
            "text/plain": [
              "<IPython.core.display.HTML object>"
            ]
          },
          "metadata": {
            "tags": []
          }
        },
        {
          "output_type": "display_data",
          "data": {
            "text/html": [
              "<span style=\"color:blue\"> |-units: 64</span>"
            ],
            "text/plain": [
              "<IPython.core.display.HTML object>"
            ]
          },
          "metadata": {
            "tags": []
          }
        },
        {
          "output_type": "stream",
          "text": [
            "INFO:tensorflow:Oracle triggered exit\n",
            "9827/9827 [==============================] - 22s 2ms/step - loss: 0.6017 - auc: 0.7347\n"
          ],
          "name": "stdout"
        },
        {
          "output_type": "execute_result",
          "data": {
            "text/plain": [
              "715"
            ]
          },
          "metadata": {
            "tags": []
          },
          "execution_count": 16
        }
      ]
    },
    {
      "cell_type": "code",
      "metadata": {
        "id": "4knK0lpYjANe",
        "outputId": "cb2117e5-2791-49af-f4d5-5ae13841c509",
        "colab": {
          "base_uri": "https://localhost:8080/",
          "height": 336
        }
      },
      "source": [
        "!zip -r /content/0vR_keras.tuner.BayesOpt.zip /content/untitled_project"
      ],
      "execution_count": null,
      "outputs": [
        {
          "output_type": "stream",
          "text": [
            "  adding: content/untitled_project/ (stored 0%)\n",
            "  adding: content/untitled_project/oracle.json (deflated 55%)\n",
            "  adding: content/untitled_project/trial_40fef546e6d15fdf507de06b0929a1df/ (stored 0%)\n",
            "  adding: content/untitled_project/trial_40fef546e6d15fdf507de06b0929a1df/trial.json (deflated 62%)\n",
            "  adding: content/untitled_project/trial_40fef546e6d15fdf507de06b0929a1df/checkpoints/ (stored 0%)\n",
            "  adding: content/untitled_project/trial_40fef546e6d15fdf507de06b0929a1df/checkpoints/epoch_0/ (stored 0%)\n",
            "  adding: content/untitled_project/trial_40fef546e6d15fdf507de06b0929a1df/checkpoints/epoch_0/checkpoint.data-00001-of-00002 (deflated 8%)\n",
            "  adding: content/untitled_project/trial_40fef546e6d15fdf507de06b0929a1df/checkpoints/epoch_0/checkpoint.index (deflated 62%)\n",
            "  adding: content/untitled_project/trial_40fef546e6d15fdf507de06b0929a1df/checkpoints/epoch_0/checkpoint (deflated 48%)\n",
            "  adding: content/untitled_project/trial_40fef546e6d15fdf507de06b0929a1df/checkpoints/epoch_0/checkpoint.data-00000-of-00002 (deflated 76%)\n",
            "  adding: content/untitled_project/trial_46b66c1b5f94f24b441a8fb0e634bf8c/ (stored 0%)\n",
            "  adding: content/untitled_project/trial_46b66c1b5f94f24b441a8fb0e634bf8c/trial.json (deflated 62%)\n",
            "  adding: content/untitled_project/trial_46b66c1b5f94f24b441a8fb0e634bf8c/checkpoints/ (stored 0%)\n",
            "  adding: content/untitled_project/trial_46b66c1b5f94f24b441a8fb0e634bf8c/checkpoints/epoch_0/ (stored 0%)\n",
            "  adding: content/untitled_project/trial_46b66c1b5f94f24b441a8fb0e634bf8c/checkpoints/epoch_0/checkpoint.data-00001-of-00002 (deflated 8%)\n",
            "  adding: content/untitled_project/trial_46b66c1b5f94f24b441a8fb0e634bf8c/checkpoints/epoch_0/checkpoint.index (deflated 51%)\n",
            "  adding: content/untitled_project/trial_46b66c1b5f94f24b441a8fb0e634bf8c/checkpoints/epoch_0/checkpoint (deflated 48%)\n",
            "  adding: content/untitled_project/trial_46b66c1b5f94f24b441a8fb0e634bf8c/checkpoints/epoch_0/checkpoint.data-00000-of-00002 (deflated 68%)\n",
            "  adding: content/untitled_project/tuner0.json (stored 0%)\n"
          ],
          "name": "stdout"
        }
      ]
    },
    {
      "cell_type": "code",
      "metadata": {
        "id": "xrW2SYXHj22F"
      },
      "source": [
        "from sklearn.inspection import permutation_importance\n",
        "perm = permutation_importance(best_model,X_train,y_train,scoring='roc_auc')"
      ],
      "execution_count": null,
      "outputs": []
    },
    {
      "cell_type": "code",
      "metadata": {
        "id": "MefkKDib7VE3"
      },
      "source": [
        "r = perm\n",
        "feature ={}\n",
        "for i in r.importances_mean.argsort()[::-1]:\n",
        "  if r.importances_mean[i] - 2 * r.importances_std[i] > 0:\n",
        "    feature[train.columns[i]]={'mean':r.importances_mean[i],'std':r.importances_std[i]}\n",
        "pd.DataFrame.from_dict(feature).T.to_excel('0vR_feature_neural.xlsx')"
      ],
      "execution_count": null,
      "outputs": []
    }
  ]
}